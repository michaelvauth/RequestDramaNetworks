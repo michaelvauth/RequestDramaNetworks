{
 "cells": [
  {
   "cell_type": "markdown",
   "metadata": {},
   "source": [
    "# Notebook to introduce 3 types of dramatic networks"
   ]
  },
  {
   "cell_type": "code",
   "execution_count": 1,
   "metadata": {},
   "outputs": [],
   "source": [
    "import requestnetpy.network_graphs as ng"
   ]
  },
  {
   "cell_type": "markdown",
   "metadata": {},
   "source": [
    "## Plot network based on **automated request annotations**"
   ]
  },
  {
   "cell_type": "code",
   "execution_count": 29,
   "metadata": {},
   "outputs": [
    {
     "data": {
      "application/vnd.plotly.v1+json": {
       "config": {
        "plotlyServerURL": "https://plot.ly"
       },
       "data": [
        {
         "hoverinfo": "text",
         "marker": {
          "color": "grey",
          "opacity": 0.4,
          "size": 10.97229916897507,
          "symbol": "cross-thin"
         },
         "mode": "markers",
         "name": "licht → adam",
         "showlegend": false,
         "text": "<b>licht → adam</b>:<br><br>Ei, was zum Henker, sagt, Gevatter Adam! Was ist m[...]<br>Nein, sagt mir, Freund! Den Stein trüg jeglicher –[...]<br>Ihr stammt von einem lockern Ältervater, Der so be[...]<br>Gleichfalls –?<br>Unbildlich hingeschlagen?<br>Wann trug sich die Begebenheit denn zu?<br>Und wohl den linken obenein?<br>Hier, den gesetzten?<br>Der Klumpfuß?<br>Und was hat das Gesicht Euch so verrenkt?<br>Wie? Davon wißt Ihr nichts?<br>Wie's aussieht?<br>Dorfrichter, ich! Was denkt Ihr auch von mir?<br>Hab ich jema<br>[...]",
         "type": "scatter",
         "x": [
          0.22049283370895806
         ],
         "y": [
          0.16791182256236786
         ]
        },
        {
         "hoverinfo": "text",
         "marker": {
          "color": "grey",
          "opacity": 0.4,
          "size": 11.249307479224377,
          "symbol": "cross-thin"
         },
         "mode": "markers",
         "name": "adam → licht",
         "showlegend": false,
         "text": "<b>adam → licht</b>:<br><br>Zum Straucheln braucht's doch nichts, als Füße. Au[...]<br>Was beliebt?<br>Nun?<br>Ob ich –? Ich glaube –! Hier bin ich hingefallen, [...]<br>Den linken?<br>Der Fuß! Was! Schwer! Warum?<br>Mir das Gesicht?<br>Ich müßt ein Lügner sein – wie sieht's denn aus?<br>Mein Seel! – Doch, was ich sagen wollte, was gibt'[...]<br>Nun?<br>So?<br>Wer kömmt?<br>Noch heut! Seid Ihr bei Trost?<br>Den Teufel auch? Hat das der Bauer gesagt?<br>So?<br>Was sagt Ihr?<br>So? Bringt man ihn?<br>Drückt Euren Ehrgeiz<br>[...]",
         "type": "scatter",
         "x": [
          0.5841056624843282
         ],
         "y": [
          0.5927715136058069
         ]
        },
        {
         "hoverinfo": "text",
         "marker": {
          "color": "grey",
          "opacity": 0.4,
          "size": 1.554016620498615,
          "symbol": "cross-thin"
         },
         "mode": "markers",
         "name": "adam → der_bediente",
         "showlegend": false,
         "text": "<b>adam → der_bediente</b>:<br><br>Ei, du gerechter Himmel! Ist er mit Holla Schon fe[...]<br>Ist er schon unterwegs etwa?<br>",
         "type": "scatter",
         "x": [
          0.5875384624349396
         ],
         "y": [
          0.6380282467411404
         ]
        },
        {
         "hoverinfo": "text",
         "marker": {
          "color": "grey",
          "opacity": 0.4,
          "size": 1.8310249307479225,
          "symbol": "cross-thin"
         },
         "mode": "markers",
         "name": "adam → erste_magd",
         "showlegend": false,
         "text": "<b>adam → erste_magd</b>:<br><br>Was tu ich jetzt? Was laß ich?<br>He! Liese! Was hast du da?<br>Ich wär –?<br>",
         "type": "scatter",
         "x": [
          0.5551419570180923
         ],
         "y": [
          0.5823066494095755
         ]
        },
        {
         "hoverinfo": "text",
         "marker": {
          "color": "grey",
          "opacity": 0.4,
          "size": 1.2770083102493075,
          "symbol": "cross-thin"
         },
         "mode": "markers",
         "name": "licht → zweite_magd",
         "showlegend": false,
         "text": "<b>licht → zweite_magd</b>:<br><br>Wollt Ihr die Hosen anziehn? Seid Ihr toll?<br>",
         "type": "scatter",
         "x": [
          0.1288916102534914
         ],
         "y": [
          0.15944908985592093
         ]
        },
        {
         "hoverinfo": "text",
         "marker": {
          "color": "grey",
          "opacity": 0.4,
          "size": 1.8310249307479225,
          "symbol": "cross-thin"
         },
         "mode": "markers",
         "name": "erste_magd → adam",
         "showlegend": false,
         "text": "<b>erste_magd → adam</b>:<br><br>Was wollt Ihr?<br>Die Würste?<br>Ja, meiner Treu, Herr Richter Adam! Kahlköpfig war[...]<br>",
         "type": "scatter",
         "x": [
          -0.0401805154871647
         ],
         "y": [
          0.07372804479628611
         ]
        },
        {
         "hoverinfo": "text",
         "marker": {
          "color": "grey",
          "opacity": 0.4,
          "size": 2.10803324099723,
          "symbol": "cross-thin"
         },
         "mode": "markers",
         "name": "licht → der_bediente",
         "showlegend": false,
         "text": "<b>licht → der_bediente</b>:<br><br>Es ist dem Herrn Gerichtsrat, will ich hoffen, Nic[...]<br>Ei, du mein Himmel! Umgeworfen, sagt Ihr? Doch kei[...]<br>Die Hand verstaucht! Ei, Herr Gott! Kam der Schmid[...]<br>Was?<br>",
         "type": "scatter",
         "x": [
          0.17847403006264811
         ],
         "y": [
          0.16006109431727153
         ]
        },
        {
         "hoverinfo": "text",
         "marker": {
          "color": "grey",
          "opacity": 0.4,
          "size": 1.2770083102493075,
          "symbol": "cross-thin"
         },
         "mode": "markers",
         "name": "der_bediente → adam",
         "showlegend": false,
         "text": "<b>der_bediente → adam</b>:<br><br>Für die Deichsel?<br>",
         "type": "scatter",
         "x": [
          0.25138803326445996
         ],
         "y": [
          0.5752224207803698
         ]
        },
        {
         "hoverinfo": "text",
         "marker": {
          "color": "grey",
          "opacity": 0.4,
          "size": 2.662049861495845,
          "symbol": "cross-thin"
         },
         "mode": "markers",
         "name": "adam → zweite_magd",
         "showlegend": false,
         "text": "<b>adam → zweite_magd</b>:<br><br>Warum nicht?<br>Nun?<br>Nun? Werd ich's hören?<br>Ich, ohne die Perücke?<br>Ich schickt ihr die Perücke unversehrt Noch heut z[...]<br>Wie? Nicht?<br>",
         "type": "scatter",
         "x": [
          0.5379560426257828
         ],
         "y": [
          0.6374162422797899
         ]
        },
        {
         "hoverinfo": "text",
         "marker": {
          "color": "grey",
          "opacity": 0.4,
          "size": 1.2770083102493075,
          "symbol": "cross-thin"
         },
         "mode": "markers",
         "name": "zweite_magd → adam",
         "showlegend": false,
         "text": "<b>zweite_magd → adam</b>:<br><br>So soll ich hingehn?<br>",
         "type": "scatter",
         "x": [
          -0.1948537450179505
         ],
         "y": [
          0.5697143806282143
         ]
        },
        {
         "hoverinfo": "text",
         "marker": {
          "color": "grey",
          "opacity": 0.4,
          "size": 12.357340720221606,
          "symbol": "cross-thin"
         },
         "mode": "markers",
         "name": "adam → walter",
         "showlegend": false,
         "text": "<b>adam → walter</b>:<br><br>Euer Gnaden werden hie und da, nicht zweifl' ich, [...]<br>Wär's wahr, gestrenger Herr? Der Richter Pfaul, We[...]<br>Verzeiht! Mit der Rhein-Inundations-Kollekten-Kass[...]<br>Ob wir –?<br>– Ich müßt es auf dem Vorwerk noch versuchen, Ob m[...]<br>Der Prediger? Der –<br>Hier trag ich's fix und fertig in der Tasche; Hörs[...]<br>Was sagt er? – Was befehlen Euer Gnaden?<br>– Gleich! Gleich! Gleich! Was befehlen Euer Gnaden[...]<br>Befehlen Euer Gnaden den Prozeß Nach den Formalitä[...]<br>Jet<br>[...]",
         "type": "scatter",
         "x": [
          0.5095689914856485
         ],
         "y": [
          0.6095939862847318
         ]
        },
        {
         "hoverinfo": "text",
         "marker": {
          "color": "grey",
          "opacity": 0.4,
          "size": 5.7091412742382275,
          "symbol": "cross-thin"
         },
         "mode": "markers",
         "name": "walter → licht",
         "showlegend": false,
         "text": "<b>walter → licht</b>:<br><br>Das ist dort der Herr Schreiber?<br>Was?<br>Ist das die Frau, Herr Schreiber Licht?<br>Was bringt uns Frau Brigitte dort für eine Perücke[...]<br>Was jene Frau uns dort für eine Perücke bringt?<br>Was?<br>Werd ich's erfahren?<br>– Wie kam die Frau dazu? Wo fand sie sie?<br>Wem? Was?<br>Wie? Ihr ein Zeuge?<br>So habt Ihr selbst Euch überzeugt?<br>Ein Pferdefuß?<br>War eine Spur vornaus?<br>Sagt doch, ihr Herrn, ist jemand hier im Orte, Der[...]<br>So? Wer?<br>Falsch, so wahr ich lebe! Herr Sc<br>[...]",
         "type": "scatter",
         "x": [
          -0.4957888088760803
         ],
         "y": [
          0.2662066152922622
         ]
        },
        {
         "hoverinfo": "text",
         "marker": {
          "color": "grey",
          "opacity": 0.4,
          "size": 17.897506925207757,
          "symbol": "cross-thin"
         },
         "mode": "markers",
         "name": "walter → adam",
         "showlegend": false,
         "text": "<b>walter → adam</b>:<br><br>Zwei kleine Meilen – Woher wißt Ihr das?<br>Ein Bauer?<br>– – Ihr werdet davon unterrichtet sein?<br>Was nur Unordnung schien, Verworrenheit, Nimmt jet[...]<br>Wie, fünf! Ich stand im Wahn – Gefüllte Kassen? Ic[...]<br>– Sagt doch, Ihr habt ja wohl Gerichtstag heut?<br>Und jene Schar von Leuten, die ich draußen Auf Eur[...]<br>Was gibt's?<br>Auf dem Vorwerk! Kann jemand anders hier im Orte n[...]<br>Nun, Herr Dorfrichter? Nun? Und der Gerichtstag? D[...]<br>– Wie weit ist's auf das Vorwerk?<<br>[...]",
         "type": "scatter",
         "x": [
          -0.45033720527915905
         ],
         "y": [
          0.3193140766726921
         ]
        },
        {
         "hoverinfo": "text",
         "marker": {
          "color": "grey",
          "opacity": 0.4,
          "size": 1.2770083102493075,
          "symbol": "cross-thin"
         },
         "mode": "markers",
         "name": "frau_marthe → veit",
         "showlegend": false,
         "text": "<b>frau_marthe → veit</b>:<br><br>Entscheiden. Seht doch. Den Klugschwätzer. Den Kru[...]<br>",
         "type": "scatter",
         "x": [
          0.47824593150931577
         ],
         "y": [
          -0.49016865142026494
         ]
        },
        {
         "hoverinfo": "text",
         "marker": {
          "color": "grey",
          "opacity": 0.4,
          "size": 1.2770083102493075,
          "symbol": "cross-thin"
         },
         "mode": "markers",
         "name": "veit → frau_marthe",
         "showlegend": false,
         "text": "<b>veit → frau_marthe</b>:<br><br>Sie hört's! Was geifert Sie? Kann man mehr tun? We[...]<br>",
         "type": "scatter",
         "x": [
          -0.4165855035785953
         ],
         "y": [
          -0.8555359808545663
         ]
        },
        {
         "hoverinfo": "text",
         "marker": {
          "color": "grey",
          "opacity": 0.4,
          "size": 2.3850415512465375,
          "symbol": "cross-thin"
         },
         "mode": "markers",
         "name": "frau_marthe → ruprecht",
         "showlegend": false,
         "text": "<b>frau_marthe → ruprecht</b>:<br><br>Meint Er, daß die Justiz ein Töpfer ist? Und kämen[...]<br>Willst du Vater Und Mutter jetzt, mein Evchen, nac[...]<br>Die Nacht von gestern birgt ein anderes Verbrechen[...]<br>Mithin –?<br>Ist Sie toll, Frau Briggi?<br>",
         "type": "scatter",
         "x": [
          0.46689413464587576
         ],
         "y": [
          -0.4328060199158239
         ]
        },
        {
         "hoverinfo": "text",
         "marker": {
          "color": "grey",
          "opacity": 0.4,
          "size": 2.9390581717451525,
          "symbol": "cross-thin"
         },
         "mode": "markers",
         "name": "eve → ruprecht",
         "showlegend": false,
         "text": "<b>eve → ruprecht</b>:<br><br>– Krieg ist's, bedenke, Krieg, in den du ziehst: W[...]<br>Gab ich die Hand dir nicht, und sagte, ja, Als du [...]<br>Gesetzt, es wär der Leberecht gewesen, Warum – des[...]<br>Den Ruprecht –?<br>Er soll, er, erst nach Utrecht appellieren?<br>Und bis dahin –?<br>Hast du ihn?<br>",
         "type": "scatter",
         "x": [
          0.03983422732625873
         ],
         "y": [
          -0.9327580581989443
         ]
        },
        {
         "hoverinfo": "text",
         "marker": {
          "color": "grey",
          "opacity": 0.4,
          "size": 3.21606648199446,
          "symbol": "cross-thin"
         },
         "mode": "markers",
         "name": "adam → eve",
         "showlegend": false,
         "text": "<b>adam → eve</b>:<br><br>Sieh! Und der vierschröt'ge Schlingel, Der Ruprech[...]<br>Was bringt ihr mir?<br>Evchen! Ich bitte dich! Was soll mir das bedeuten?<br>Evchen! Ich flehe dich! Um alle Wunden! Was ist's,[...]<br>Ist's nur der Krug dort, den die Mutter hält, Den [...]<br>Und weiter nichts?<br>Nichts? Gewiß nichts?<br>Sprich, Evchen, war's der Lebrecht nicht, mein Her[...]<br>",
         "type": "scatter",
         "x": [
          0.5781604247493642
         ],
         "y": [
          0.48129107748761313
         ]
        },
        {
         "hoverinfo": "text",
         "marker": {
          "color": "grey",
          "opacity": 0.4,
          "size": 4.32409972299169,
          "symbol": "cross-thin"
         },
         "mode": "markers",
         "name": "adam → frau_marthe",
         "showlegend": false,
         "text": "<b>adam → frau_marthe</b>:<br><br>Wer seid Ihr?<br>Ihr.<br>Wer Ihr seid! Wes Namens, Standes, Wohnorts, und s[...]<br>Ist's nicht ein Krug, Frau Marthe?<br>Und wer zerbrach den Krug? Gewiß der Schlingel –?<br>Zum Teufel! Weib! So seid Ihr noch nicht fertig?<br>Wer?<br>Wann, sagt Ihr?<br>Oh! faule Fische – Hierauf?<br>Euer Gnaden? – Was sagt er? – Nicht, Herzens-Evche[...]<br>Frau Marthe! Was entgegnet Ihr der Rede? Sagt an!<br>Hat Sie das Licht dabei gehalten, was? Die Jungfer[...]<br>",
         "type": "scatter",
         "x": [
          0.625611525562655
         ],
         "y": [
          0.5368413039635154
         ]
        },
        {
         "hoverinfo": "text",
         "marker": {
          "color": "grey",
          "opacity": 0.4,
          "size": 2.9390581717451525,
          "symbol": "cross-thin"
         },
         "mode": "markers",
         "name": "frau_marthe → adam",
         "showlegend": false,
         "text": "<b>frau_marthe → adam</b>:<br><br>Wer –?<br>Wer ich –?<br>Seht ihr den Krug, ihr wertgeschätzten Herren? Seh[...]<br>Was?<br>War's der Herr Jesus?<br>Hör, neunundvierzig bin ich alt geworden Den dritt[...]<br>War es der Lebrecht etwa? War's der Lebrecht?<br>",
         "type": "scatter",
         "x": [
          0.5940456014138992
         ],
         "y": [
          -0.33546006421825586
         ]
        },
        {
         "hoverinfo": "text",
         "marker": {
          "color": "grey",
          "opacity": 0.4,
          "size": 4.0470914127423825,
          "symbol": "cross-thin"
         },
         "mode": "markers",
         "name": "walter → frau_marthe",
         "showlegend": false,
         "text": "<b>walter → frau_marthe</b>:<br><br>Zum Schluß jetzt. Was geschah dem Krug? Was? – Was[...]<br>Nun kennen wir den Krug. Nun wissen Wir alles, was[...]<br>Was sagt zu der Erklärung Sie, Frau Marthe?<br>Das Fenster jener Kammer, ja, Worin die Jungfer sc[...]<br>Frau Marthe! Habt Ihr's mit Richter Adam hier verd[...]<br>Wie sagt Ihr?<br>Neun Wochen wären's –?<br>Und – sonntags – wenn er auf das Vorwerk geht –?<br>Hat sie nicht Noch heut in dieser Sach Euch Rat er[...]<br>Nun? Wen hier meint Ihr?<br>Weshalb, Frau Marthe?<br>",
         "type": "scatter",
         "x": [
          -0.4542829457977535
         ],
         "y": [
          0.2102764056499707
         ]
        },
        {
         "hoverinfo": "text",
         "marker": {
          "color": "grey",
          "opacity": 0.4,
          "size": 2.9390581717451525,
          "symbol": "cross-thin"
         },
         "mode": "markers",
         "name": "frau_marthe → eve",
         "showlegend": false,
         "text": "<b>frau_marthe → eve</b>:<br><br>Auf dies Wort Seh ich das Mädchen fragend an; die [...]<br>Du hättest nicht –?<br>Du hättest mir, o Eve, nicht versichert? Nicht Jos[...]<br>Heraus damit! Hast du's mir nicht gesagt? Hast du'[...]<br>Was soll das? Dreist heraus jetzt mit der Sprache!<br>Wer war's?<br>Eve! Der Ruprecht nicht?<br>",
         "type": "scatter",
         "x": [
          0.5426487600820139
         ],
         "y": [
          -0.5000479617168796
         ]
        },
        {
         "hoverinfo": "text",
         "marker": {
          "color": "grey",
          "opacity": 0.4,
          "size": 1.2770083102493075,
          "symbol": "cross-thin"
         },
         "mode": "markers",
         "name": "eve → frau_marthe",
         "showlegend": false,
         "text": "<b>eve → frau_marthe</b>:<br><br>Was schwor ich Euch? Was hab ich Euch geschworen? [...]<br>",
         "type": "scatter",
         "x": [
          0.16303995357568762
         ],
         "y": [
          -0.9444497735240978
         ]
        },
        {
         "hoverinfo": "text",
         "marker": {
          "color": "grey",
          "opacity": 0.4,
          "size": 7.094182825484765,
          "symbol": "cross-thin"
         },
         "mode": "markers",
         "name": "adam → ruprecht",
         "showlegend": false,
         "text": "<b>adam → ruprecht</b>:<br><br>Vernahm Er dort, was vor Gericht soeben Frau Marth[...]<br>Getraut Er sich Etwas dagegen aufzubringen, was? B[...]<br>So? Und das denkt Er zu beweisen?<br>Was glotzt Er da? Was hat Er aufzubringen? Steht n[...]<br>Gakeln! Was! Ich sagte, willst du? Und sie sagte, [...]<br>Na, hat er bald sich ausgesagt?<br>So? Einer noch? Und wer, Er Klugschwätzer?<br>So? Lebrecht heißt der Kerl?<br>Sprich weiter, Ruprecht, jetzt, mein Sohn.<br>War das der Leberecht?<br>War's eine Klinke?<br>Ein Degen? Ich –<br>[...]",
         "type": "scatter",
         "x": [
          0.502405799313226
         ],
         "y": [
          0.5485330192886688
         ]
        },
        {
         "hoverinfo": "text",
         "marker": {
          "color": "grey",
          "opacity": 0.4,
          "size": 3.4930747922437675,
          "symbol": "cross-thin"
         },
         "mode": "markers",
         "name": "ruprecht → adam",
         "showlegend": false,
         "text": "<b>ruprecht → adam</b>:<br><br>Was ich dagegen aufzubringen habe, Herr Richter? E[...]<br>Denn heuren wollt ich sie, das müßt ihr wissen, Ei[...]<br>Wir schwatzen noch am Fenster was zusammen. Na, sa[...]<br>Wer? Ja, mein Seel, da fragt Ihr mich –<br>Was?<br>Wer? Der Lebrecht.<br>Mit der Klinke?<br>Wie sollt ich?<br>Mir?<br>",
         "type": "scatter",
         "x": [
          -0.5148059348309609
         ],
         "y": [
          -0.23023462629187513
         ]
        },
        {
         "hoverinfo": "text",
         "marker": {
          "color": "grey",
          "opacity": 0.4,
          "size": 2.10803324099723,
          "symbol": "cross-thin"
         },
         "mode": "markers",
         "name": "ruprecht → walter",
         "showlegend": false,
         "text": "<b>ruprecht → walter</b>:<br><br>Was ich aufzubringen?<br>Mithin –?<br>Eve, sprich, ist er's?<br>Was? Ich –?<br>",
         "type": "scatter",
         "x": [
          -0.634794209426562
         ],
         "y": [
          -0.2665196149933801
         ]
        },
        {
         "hoverinfo": "text",
         "marker": {
          "color": "grey",
          "opacity": 0.4,
          "size": 2.662049861495845,
          "symbol": "cross-thin"
         },
         "mode": "markers",
         "name": "walter → ruprecht",
         "showlegend": false,
         "text": "<b>walter → ruprecht</b>:<br><br>Drauf weiter?<br>Fort! Weiter in der Rede! Laßt ihn doch! Was unter[...]<br>Vom Fenster, als Er nach ihm herunterhieb?<br>Zweimal! Er konnt ihn mit zwei solchen Hieben Ersc[...]<br>Konnt Er ihn denn im Dunkeln nicht erkennen?<br>Verloren? Warum das?<br>",
         "type": "scatter",
         "x": [
          -0.5774886720471823
         ],
         "y": [
          0.2219681209751241
         ]
        },
        {
         "hoverinfo": "text",
         "marker": {
          "color": "grey",
          "opacity": 0.4,
          "size": 1.2770083102493075,
          "symbol": "cross-thin"
         },
         "mode": "markers",
         "name": "adam → adam",
         "showlegend": false,
         "text": "<b>adam → adam</b>:<br><br>Franz? oder Mos'ler? Was Ihr wollt.<br>",
         "type": "scatter",
         "x": [
          0.6295572660812495
         ],
         "y": [
          0.6458789749862368
         ]
        },
        {
         "hoverinfo": "text",
         "marker": {
          "color": "grey",
          "opacity": 0.4,
          "size": 1.8310249307479225,
          "symbol": "cross-thin"
         },
         "mode": "markers",
         "name": "walter → eve",
         "showlegend": false,
         "text": "<b>walter → eve</b>:<br><br>Der Ruprecht also war es nicht?<br>Jungfer! Was untersteht Sie sich? Ist das mir der [...]<br>Was! Nach Ostindien! Bist du bei Sinnen?<br>",
         "type": "scatter",
         "x": [
          -0.5017340466110443
         ],
         "y": [
          0.15472617917406842
         ]
        },
        {
         "hoverinfo": "text",
         "marker": {
          "color": "grey",
          "opacity": 0.4,
          "size": 1.2770083102493075,
          "symbol": "cross-thin"
         },
         "mode": "markers",
         "name": "eve → adam",
         "showlegend": false,
         "text": "<b>eve → adam</b>:<br><br>Ei, was! Der Richter dort! Wert, selbst vor dem Ge[...]<br>",
         "type": "scatter",
         "x": [
          0.1669856940942821
         ],
         "y": [
          -0.8354121025013763
         ]
        },
        {
         "hoverinfo": "text",
         "marker": {
          "color": "grey",
          "opacity": 0.4,
          "size": 2.3850415512465375,
          "symbol": "cross-thin"
         },
         "mode": "markers",
         "name": "ruprecht → veit",
         "showlegend": false,
         "text": "<b>ruprecht → veit</b>:<br><br>Wer hat mich –?<br>Weshalb auch?<br>Geheimnis! Welches?<br>Die Sachen?<br>Weil ich nach Utrecht soll! Glaubt Er, daß ich –?<br>",
         "type": "scatter",
         "x": [
          -0.6306056047355444
         ],
         "y": [
          -0.3849432134938842
         ]
        },
        {
         "hoverinfo": "text",
         "marker": {
          "color": "grey",
          "opacity": 0.4,
          "size": 2.3850415512465375,
          "symbol": "cross-thin"
         },
         "mode": "markers",
         "name": "veit → ruprecht",
         "showlegend": false,
         "text": "<b>veit → ruprecht</b>:<br><br>Schwester Briggi?<br>Hör, du verfluchter Schlingel, du, was machst du? [...]<br>Warum verschwiegst du, daß du mit der Dirne Glock [...]<br>Warum hast du eingepackt? He? Warum hast du gester[...]<br>Röcke, Hosen, ja, und Wäsche; Ein Bündel, wie's ei[...]<br>",
         "type": "scatter",
         "x": [
          -0.5397912298280242
         ],
         "y": [
          -0.8438442655294128
         ]
        },
        {
         "hoverinfo": "text",
         "marker": {
          "color": "grey",
          "opacity": 0.4,
          "size": 1.2770083102493075,
          "symbol": "cross-thin"
         },
         "mode": "markers",
         "name": "ruprecht → frau_marthe",
         "showlegend": false,
         "text": "<b>ruprecht → frau_marthe</b>:<br><br>Mich mit Ev? Im Garten?<br>",
         "type": "scatter",
         "x": [
          -0.5187516753495555
         ],
         "y": [
          -0.33927229731459657
         ]
        },
        {
         "hoverinfo": "text",
         "marker": {
          "color": "grey",
          "opacity": 0.4,
          "size": 1.554016620498615,
          "symbol": "cross-thin"
         },
         "mode": "markers",
         "name": "walter → veit",
         "showlegend": false,
         "text": "<b>walter → veit</b>:<br><br>Weiß Er zur Sache was zu melden, Vater?<br>Was untersteht der Unverschämte sich?<br>",
         "type": "scatter",
         "x": [
          -0.5661368751837423
         ],
         "y": [
          0.16460548947068304
         ]
        },
        {
         "hoverinfo": "text",
         "marker": {
          "color": "grey",
          "opacity": 0.4,
          "size": 2.3850415512465375,
          "symbol": "cross-thin"
         },
         "mode": "markers",
         "name": "frau_marthe → walter",
         "showlegend": false,
         "text": "<b>frau_marthe → walter</b>:<br><br>Mein Fenster?<br>Was?<br>Was? Bei mir? Im Spalier?<br>Sagt doch, gestrenger Herr, wo find ich auch Den S[...]<br>Hm! Weshalb? Ich weiß nicht – Soll hier dem Kruge [...]<br>",
         "type": "scatter",
         "x": [
          0.4740573268182982
         ],
         "y": [
          -0.37174505291976084
         ]
        },
        {
         "hoverinfo": "text",
         "marker": {
          "color": "grey",
          "opacity": 0.4,
          "size": 1.2770083102493075,
          "symbol": "cross-thin"
         },
         "mode": "markers",
         "name": "licht → walter",
         "showlegend": false,
         "text": "<b>licht → walter</b>:<br><br>Gnäd'ger Herr?<br>",
         "type": "scatter",
         "x": [
          0.10050455911335714
         ],
         "y": [
          0.1316268338608629
         ]
        },
        {
         "hoverinfo": "text",
         "marker": {
          "color": "grey",
          "opacity": 0.4,
          "size": 1.2770083102493075,
          "symbol": "cross-thin"
         },
         "mode": "markers",
         "name": "licht → ruprecht",
         "showlegend": false,
         "text": "<b>licht → ruprecht</b>:<br><br>Dem Ruprecht?<br>",
         "type": "scatter",
         "x": [
          0.0933413669409347
         ],
         "y": [
          0.07056586686479988
         ]
        },
        {
         "hoverinfo": "text",
         "marker": {
          "color": "grey",
          "opacity": 0.4,
          "size": 1.2770083102493075,
          "symbol": "cross-thin"
         },
         "mode": "markers",
         "name": "frau_brigitte → frau_marthe",
         "showlegend": false,
         "text": "<b>frau_brigitte → frau_marthe</b>:<br><br>Denn da ich gestern nacht Hinaus aufs Vorwerk geh,[...]<br>",
         "type": "scatter",
         "x": [
          0.6109119403926175
         ],
         "y": [
          -0.09021714669976336
         ]
        },
        {
         "hoverinfo": "text",
         "marker": {
          "color": "grey",
          "opacity": 0.4,
          "size": 1.2770083102493075,
          "symbol": "cross-thin"
         },
         "mode": "markers",
         "name": "ruprecht → licht",
         "showlegend": false,
         "text": "<b>ruprecht → licht</b>:<br><br>Der Teufel, meint Sie, wär's –?<br>",
         "type": "scatter",
         "x": [
          -0.5602575384278823
         ],
         "y": [
          -0.28334208767230507
         ]
        },
        {
         "hoverinfo": "text",
         "marker": {
          "color": "grey",
          "opacity": 0.4,
          "size": 2.10803324099723,
          "symbol": "cross-thin"
         },
         "mode": "markers",
         "name": "walter → frau_brigitte",
         "showlegend": false,
         "text": "<b>walter → frau_brigitte</b>:<br><br>Nun? Und jetzt fand sich –?<br>Drauf weiter?<br>Ein Denkmal? Wie?<br>Zu uns? Hierher?<br>",
         "type": "scatter",
         "x": [
          -0.4519704925202743
         ],
         "y": [
          0.24964091548788336
         ]
        },
        {
         "hoverinfo": "text",
         "marker": {
          "color": "grey",
          "opacity": 0.4,
          "size": 1.2770083102493075,
          "symbol": "cross-thin"
         },
         "mode": "markers",
         "name": "frau_brigitte → adam",
         "showlegend": false,
         "text": "<b>frau_brigitte → adam</b>:<br><br>Wie? Ja, da werdet Ihr –<br>",
         "type": "scatter",
         "x": [
          0.6148576809112121
         ],
         "y": [
          0.018820524322958075
         ]
        },
        {
         "hoverinfo": "text",
         "marker": {
          "color": "grey",
          "opacity": 0.4,
          "size": 1.2770083102493075,
          "symbol": "cross-thin"
         },
         "mode": "markers",
         "name": "frau_brigitte → walter",
         "showlegend": false,
         "text": "<b>frau_brigitte → walter</b>:<br><br>Wohin? Mein Treu, den nächsten Weg zu euch, Just w[...]<br>",
         "type": "scatter",
         "x": [
          0.4948694063156111
         ],
         "y": [
          -0.017464464378546898
         ]
        },
        {
         "hoverinfo": "text",
         "marker": {
          "color": "grey",
          "opacity": 0.4,
          "size": 1.8310249307479225,
          "symbol": "cross-thin"
         },
         "mode": "markers",
         "name": "adam → frau_brigitte",
         "showlegend": false,
         "text": "<b>adam → frau_brigitte</b>:<br><br>Hier zu mir?<br>Sollt er vielleicht hier durchpassiert –?<br>Was für ein feierlicher –?<br>",
         "type": "scatter",
         "x": [
          0.6279239788401342
         ],
         "y": [
          0.576205813801428
         ]
        },
        {
         "hoverinfo": "text",
         "marker": {
          "color": "grey",
          "opacity": 0.4,
          "size": 1.2770083102493075,
          "symbol": "cross-thin"
         },
         "mode": "markers",
         "name": "ruprecht → frau_brigitte",
         "showlegend": false,
         "text": "<b>ruprecht → frau_brigitte</b>:<br><br>Wird doch der Teufel nicht In dem Gerichtshof wohn[...]<br>",
         "type": "scatter",
         "x": [
          -0.5164392220720763
         ],
         "y": [
          -0.2999077874766839
         ]
        },
        {
         "hoverinfo": "text",
         "marker": {
          "color": "grey",
          "opacity": 0.4,
          "size": 2.10803324099723,
          "symbol": "cross-thin"
         },
         "mode": "markers",
         "name": "ruprecht → eve",
         "showlegend": false,
         "text": "<b>ruprecht → eve</b>:<br><br>Ins Gefängnis mich?<br>In das Gefängnis gehn?<br>Ei, Evchen! Wie hab ich heute schändlich dich bele[...]<br>Herr Gott! Was gibt's?<br>",
         "type": "scatter",
         "x": [
          -0.5662027761628462
         ],
         "y": [
          -0.39482252379049887
         ]
        },
        {
         "hoverinfo": "text",
         "marker": {
          "color": "grey",
          "opacity": 0.4,
          "size": 2.10803324099723,
          "symbol": "cross-thin"
         },
         "mode": "markers",
         "name": "eve → walter",
         "showlegend": false,
         "text": "<b>eve → walter</b>:<br><br>Ins Eisen?<br>Den Hals ins Eisen stecken? Seid Ihr auch Richter?[...]<br>Falsch?<br>Nein, nimmermehr, ihr Herrn?<br>",
         "type": "scatter",
         "x": [
          0.046997419498681164
         ],
         "y": [
          -0.8716970912028813
         ]
        },
        {
         "hoverinfo": "text",
         "marker": {
          "color": "grey",
          "opacity": 0.4,
          "size": 1.2770083102493075,
          "symbol": "cross-thin"
         },
         "mode": "markers",
         "name": "frau_marthe → frau_brigitte",
         "showlegend": false,
         "text": "<b>frau_marthe → frau_brigitte</b>:<br><br>Er?<br>",
         "type": "scatter",
         "x": [
          0.5924123141727838
         ],
         "y": [
          -0.4051332254030646
         ]
        },
        {
         "hoverinfo": "text",
         "marker": {
          "color": "grey",
          "opacity": 0.4,
          "size": 1.2770083102493075,
          "symbol": "cross-thin"
         },
         "mode": "markers",
         "name": "frau_brigitte → eve",
         "showlegend": false,
         "text": "<b>frau_brigitte → eve</b>:<br><br>Der dort?<br>",
         "type": "scatter",
         "x": [
          0.5634608395793268
         ],
         "y": [
          -0.14576737317566563
         ]
        },
        {
         "hoverinfo": "text",
         "legendgroup": "licht",
         "marker": {
          "color": "black",
          "opacity": 1,
          "size": 18
         },
         "mode": "markers+text",
         "opacity": 1,
         "showlegend": false,
         "text": "licht",
         "textfont": {
          "size": 11
         },
         "textposition": "top center",
         "type": "scatter",
         "x": [
          0.17504123011203682
         ],
         "y": [
          0.11480436118193799
         ]
        },
        {
         "hoverinfo": "text",
         "legendgroup": "adam",
         "marker": {
          "color": "black",
          "opacity": 1,
          "size": 33
         },
         "mode": "markers+text",
         "opacity": 1,
         "showlegend": false,
         "text": "adam",
         "textfont": {
          "size": 16
         },
         "textposition": "top center",
         "type": "scatter",
         "x": [
          0.6295572660812494
         ],
         "y": [
          0.6458789749862368
         ]
        },
        {
         "hoverinfo": "text",
         "legendgroup": "der_bediente",
         "marker": {
          "color": "black",
          "opacity": 1,
          "size": 6
         },
         "mode": "markers+text",
         "opacity": 1,
         "showlegend": false,
         "text": "der_bediente",
         "textfont": {
          "size": 7
         },
         "textposition": "top center",
         "type": "scatter",
         "x": [
          0.20936922961815
         ],
         "y": [
          0.5673716925352734
         ]
        },
        {
         "hoverinfo": "text",
         "legendgroup": "erste_magd",
         "marker": {
          "color": "black",
          "opacity": 1,
          "size": 6
         },
         "mode": "markers+text",
         "opacity": 1,
         "showlegend": false,
         "text": "erste_magd",
         "textfont": {
          "size": 7
         },
         "textposition": "top center",
         "type": "scatter",
         "x": [
          -0.11459582455032181
         ],
         "y": [
          0.010155719219624914
         ]
        },
        {
         "hoverinfo": "text",
         "legendgroup": "zweite_magd",
         "marker": {
          "color": "black",
          "opacity": 1,
          "size": 6
         },
         "mode": "markers+text",
         "opacity": 1,
         "showlegend": false,
         "text": "zweite_magd",
         "textfont": {
          "size": 7
         },
         "textposition": "top center",
         "type": "scatter",
         "x": [
          -0.2864549684734171
         ],
         "y": [
          0.5612516479217673
         ]
        },
        {
         "hoverinfo": "text",
         "legendgroup": "walter",
         "marker": {
          "color": "black",
          "opacity": 1,
          "size": 24
         },
         "mode": "markers+text",
         "opacity": 1,
         "showlegend": false,
         "text": "walter",
         "textfont": {
          "size": 13
         },
         "textposition": "top center",
         "type": "scatter",
         "x": [
          -0.5703254798747599
         ],
         "y": [
          0.28302908797118714
         ]
        },
        {
         "hoverinfo": "text",
         "legendgroup": "frau_marthe",
         "marker": {
          "color": "black",
          "opacity": 1,
          "size": 21
         },
         "mode": "markers+text",
         "opacity": 1,
         "showlegend": false,
         "text": "frau_marthe",
         "textfont": {
          "size": 12
         },
         "textposition": "top center",
         "type": "scatter",
         "x": [
          0.5900998608953046
         ],
         "y": [
          -0.4444977352409773
         ]
        },
        {
         "hoverinfo": "text",
         "legendgroup": "veit",
         "marker": {
          "color": "black",
          "opacity": 1,
          "size": 9
         },
         "mode": "markers+text",
         "opacity": 1,
         "showlegend": false,
         "text": "veit",
         "textfont": {
          "size": 8
         },
         "textposition": "top center",
         "type": "scatter",
         "x": [
          -0.5284394329645842
         ],
         "y": [
          -0.9012068970338539
         ]
        },
        {
         "hoverinfo": "text",
         "legendgroup": "ruprecht",
         "marker": {
          "color": "black",
          "opacity": 1,
          "size": 24
         },
         "mode": "markers+text",
         "opacity": 1,
         "showlegend": false,
         "text": "ruprecht",
         "textfont": {
          "size": 13
         },
         "textposition": "top center",
         "type": "scatter",
         "x": [
          -0.6419574015989843
         ],
         "y": [
          -0.3275805819894431
         ]
        },
        {
         "hoverinfo": "text",
         "legendgroup": "eve",
         "marker": {
          "color": "black",
          "opacity": 1,
          "size": 15
         },
         "mode": "markers+text",
         "opacity": 1,
         "showlegend": false,
         "text": "eve",
         "textfont": {
          "size": 10
         },
         "textposition": "top center",
         "type": "scatter",
         "x": [
          0.11558885276239685
         ],
         "y": [
          -1
         ]
        },
        {
         "hoverinfo": "text",
         "legendgroup": "frau_brigitte",
         "marker": {
          "color": "black",
          "opacity": 1,
          "size": 15
         },
         "mode": "markers+text",
         "opacity": 1,
         "showlegend": false,
         "text": "frau_brigitte",
         "textfont": {
          "size": 10
         },
         "textposition": "top center",
         "type": "scatter",
         "x": [
          0.6132243936700967
         ],
         "y": [
          -0.05085263686185068
         ]
        }
       ],
       "layout": {
        "annotations": [
         {
          "arrowcolor": "grey",
          "arrowhead": 4,
          "arrowsize": 0.6,
          "arrowwidth": 10.97229916897507,
          "ax": 0.1886767111911132,
          "axref": "x",
          "ay": 0.13073659959606698,
          "ayref": "y",
          "opacity": 0.3,
          "showarrow": true,
          "text": "",
          "x": 0.6159217850021731,
          "xref": "x",
          "y": 0.6299467365721079,
          "yref": "y"
         },
         {
          "arrowcolor": "grey",
          "arrowhead": 4,
          "arrowsize": 0.6,
          "arrowwidth": 11.249307479224377,
          "ax": 0.6159217850021731,
          "axref": "x",
          "ay": 0.6299467365721079,
          "ayref": "y",
          "opacity": 0.3,
          "showarrow": true,
          "text": "",
          "x": 0.1886767111911132,
          "xref": "x",
          "y": 0.13073659959606695,
          "yref": "y"
         },
         {
          "arrowcolor": "grey",
          "arrowhead": 4,
          "arrowsize": 0.6,
          "arrowwidth": 1.554016620498615,
          "ax": 0.6169516249873565,
          "axref": "x",
          "ay": 0.643523756512708,
          "ayref": "y",
          "opacity": 0.3,
          "showarrow": true,
          "text": "",
          "x": 0.22197487071204297,
          "xref": "x",
          "y": 0.5697269110088022,
          "yref": "y"
         },
         {
          "arrowcolor": "grey",
          "arrowhead": 4,
          "arrowsize": 0.6,
          "arrowwidth": 1.8310249307479225,
          "ax": 0.6072326733623022,
          "axref": "x",
          "ay": 0.6268072773132385,
          "ayref": "y",
          "opacity": 0.3,
          "showarrow": true,
          "text": "",
          "x": -0.09227123183137467,
          "xref": "x",
          "y": 0.029227416892623266,
          "yref": "y"
         },
         {
          "arrowcolor": "grey",
          "arrowhead": 4,
          "arrowsize": 0.6,
          "arrowwidth": 1.2770083102493075,
          "ax": 0.1611963441544732,
          "axref": "x",
          "ay": 0.12819777978413288,
          "ayref": "y",
          "opacity": 0.3,
          "showarrow": true,
          "text": "",
          "x": -0.2726100825158535,
          "xref": "x",
          "y": 0.5478582293195724,
          "yref": "y"
         },
         {
          "arrowcolor": "grey",
          "arrowhead": 4,
          "arrowsize": 0.6,
          "arrowwidth": 1.8310249307479225,
          "ax": -0.09227123183137466,
          "axref": "x",
          "ay": 0.029227416892623287,
          "ayref": "y",
          "opacity": 0.3,
          "showarrow": true,
          "text": "",
          "x": 0.6072326733623022,
          "xref": "x",
          "y": 0.6268072773132385,
          "yref": "y"
         },
         {
          "arrowcolor": "grey",
          "arrowhead": 4,
          "arrowsize": 0.6,
          "arrowwidth": 2.10803324099723,
          "ax": 0.17607107009722023,
          "axref": "x",
          "ay": 0.12838138112253805,
          "ayref": "y",
          "opacity": 0.3,
          "showarrow": true,
          "text": "",
          "x": 0.20833938963296658,
          "xref": "x",
          "y": 0.5537946725946733,
          "yref": "y"
         },
         {
          "arrowcolor": "grey",
          "arrowhead": 4,
          "arrowsize": 0.6,
          "arrowwidth": 1.2770083102493075,
          "ax": 0.22197487071204297,
          "axref": "x",
          "ay": 0.5697269110088022,
          "ayref": "y",
          "opacity": 0.3,
          "showarrow": true,
          "text": "",
          "x": 0.6169516249873565,
          "xref": "x",
          "y": 0.6435237565127079,
          "yref": "y"
         },
         {
          "arrowcolor": "grey",
          "arrowhead": 4,
          "arrowsize": 0.6,
          "arrowwidth": 2.662049861495845,
          "ax": 0.6020768990446094,
          "axref": "x",
          "ay": 0.6433401551743028,
          "ayref": "y",
          "opacity": 0.3,
          "showarrow": true,
          "text": "",
          "x": -0.25897460143677714,
          "xref": "x",
          "y": 0.5637904677337013,
          "yref": "y"
         },
         {
          "arrowcolor": "grey",
          "arrowhead": 4,
          "arrowsize": 0.6,
          "arrowwidth": 1.2770083102493075,
          "ax": -0.2589746014367771,
          "axref": "x",
          "ay": 0.5637904677337013,
          "ayref": "y",
          "opacity": 0.3,
          "showarrow": true,
          "text": "",
          "x": 0.6020768990446095,
          "xref": "x",
          "y": 0.6433401551743028,
          "yref": "y"
         },
         {
          "arrowcolor": "grey",
          "arrowhead": 4,
          "arrowsize": 0.6,
          "arrowwidth": 12.357340720221606,
          "ax": 0.5935607837025692,
          "axref": "x",
          "ay": 0.6349934783757853,
          "ayref": "y",
          "opacity": 0.3,
          "showarrow": true,
          "text": "",
          "x": -0.5343289974960796,
          "xref": "x",
          "y": 0.2939145845816386,
          "yref": "y"
         },
         {
          "arrowcolor": "grey",
          "arrowhead": 4,
          "arrowsize": 0.6,
          "arrowwidth": 5.7091412742382275,
          "ax": -0.547964478575156,
          "axref": "x",
          "ay": 0.27798234616750966,
          "ayref": "y",
          "opacity": 0.3,
          "showarrow": true,
          "text": "",
          "x": 0.15268022881243293,
          "xref": "x",
          "y": 0.11985110298561547,
          "yref": "y"
         },
         {
          "arrowcolor": "grey",
          "arrowhead": 4,
          "arrowsize": 0.6,
          "arrowwidth": 17.897506925207757,
          "ax": -0.5343289974960796,
          "axref": "x",
          "ay": 0.29391458458163866,
          "ayref": "y",
          "opacity": 0.3,
          "showarrow": true,
          "text": "",
          "x": 0.5935607837025692,
          "xref": "x",
          "y": 0.6349934783757853,
          "yref": "y"
         },
         {
          "arrowcolor": "grey",
          "arrowhead": 4,
          "arrowsize": 0.6,
          "arrowwidth": 1.2770083102493075,
          "ax": 0.5565436820795079,
          "axref": "x",
          "ay": -0.4581990100947636,
          "ayref": "y",
          "opacity": 0.3,
          "showarrow": true,
          "text": "",
          "x": -0.4948832541487875,
          "xref": "x",
          "y": -0.8875056221800677,
          "yref": "y"
         },
         {
          "arrowcolor": "grey",
          "arrowhead": 4,
          "arrowsize": 0.6,
          "arrowwidth": 1.2770083102493075,
          "ax": -0.4948832541487875,
          "axref": "x",
          "ay": -0.8875056221800677,
          "ayref": "y",
          "opacity": 0.3,
          "showarrow": true,
          "text": "",
          "x": 0.5565436820795079,
          "xref": "x",
          "y": -0.45819901009476355,
          "yref": "y"
         },
         {
          "arrowcolor": "grey",
          "arrowhead": 4,
          "arrowsize": 0.6,
          "arrowwidth": 2.3850415512465375,
          "ax": 0.5531381430204759,
          "axref": "x",
          "ay": -0.44099022064343124,
          "ayref": "y",
          "opacity": 0.3,
          "showarrow": true,
          "text": "",
          "x": -0.6049956837241556,
          "xref": "x",
          "y": -0.3310880965869891,
          "yref": "y"
         },
         {
          "arrowcolor": "grey",
          "arrowhead": 4,
          "arrowsize": 0.6,
          "arrowwidth": 2.9390581717451525,
          "ax": 0.09286246513155538,
          "axref": "x",
          "ay": -0.9798274174596833,
          "ayref": "y",
          "opacity": 0.3,
          "showarrow": true,
          "text": "",
          "x": -0.6192310139681428,
          "xref": "x",
          "y": -0.3477531645297598,
          "yref": "y"
         },
         {
          "arrowcolor": "grey",
          "arrowhead": 4,
          "arrowsize": 0.6,
          "arrowwidth": 3.21606648199446,
          "ax": 0.6141382136816839,
          "axref": "x",
          "ay": 0.5965026057366497,
          "ayref": "y",
          "opacity": 0.3,
          "showarrow": true,
          "text": "",
          "x": 0.13100790516196242,
          "xref": "x",
          "y": -0.9506236307504129,
          "yref": "y"
         },
         {
          "arrowcolor": "grey",
          "arrowhead": 4,
          "arrowsize": 0.6,
          "arrowwidth": 4.32409972299169,
          "ax": 0.6283735439256711,
          "axref": "x",
          "ay": 0.6131676736794204,
          "ayref": "y",
          "opacity": 0.3,
          "showarrow": true,
          "text": "",
          "x": 0.5912835830508829,
          "xref": "x",
          "y": -0.41178643393416087,
          "yref": "y"
         },
         {
          "arrowcolor": "grey",
          "arrowhead": 4,
          "arrowsize": 0.6,
          "arrowwidth": 2.9390581717451525,
          "ax": 0.5912835830508829,
          "axref": "x",
          "ay": -0.4117864339341608,
          "ayref": "y",
          "opacity": 0.3,
          "showarrow": true,
          "text": "",
          "x": 0.6283735439256711,
          "xref": "x",
          "y": 0.6131676736794204,
          "yref": "y"
         },
         {
          "arrowcolor": "grey",
          "arrowhead": 4,
          "arrowsize": 0.6,
          "arrowwidth": 4.0470914127423825,
          "ax": -0.5355127196516579,
          "axref": "x",
          "ay": 0.2612032832748222,
          "ayref": "y",
          "opacity": 0.3,
          "showarrow": true,
          "text": "",
          "x": 0.5552871006722027,
          "xref": "x",
          "y": -0.42267193054461233,
          "yref": "y"
         },
         {
          "arrowcolor": "grey",
          "arrowhead": 4,
          "arrowsize": 0.6,
          "arrowwidth": 2.9390581717451525,
          "ax": 0.5758645306513174,
          "axref": "x",
          "ay": -0.46116280318374797,
          "ayref": "y",
          "opacity": 0.3,
          "showarrow": true,
          "text": "",
          "x": 0.12982418300638407,
          "xref": "x",
          "y": -0.9833349320572293,
          "yref": "y"
         },
         {
          "arrowcolor": "grey",
          "arrowhead": 4,
          "arrowsize": 0.6,
          "arrowwidth": 1.2770083102493075,
          "ax": 0.1298241830063841,
          "axref": "x",
          "ay": -0.9833349320572293,
          "ayref": "y",
          "opacity": 0.3,
          "showarrow": true,
          "text": "",
          "x": 0.5758645306513174,
          "xref": "x",
          "y": -0.4611628031837479,
          "yref": "y"
         },
         {
          "arrowcolor": "grey",
          "arrowhead": 4,
          "arrowsize": 0.6,
          "arrowwidth": 7.094182825484765,
          "ax": 0.5914118260508424,
          "axref": "x",
          "ay": 0.6166751882769664,
          "ayref": "y",
          "opacity": 0.3,
          "showarrow": true,
          "text": "",
          "x": -0.6038119615685773,
          "xref": "x",
          "y": -0.29837679528017275,
          "yref": "y"
         },
         {
          "arrowcolor": "grey",
          "arrowhead": 4,
          "arrowsize": 0.6,
          "arrowwidth": 3.4930747922437675,
          "ax": -0.6038119615685773,
          "axref": "x",
          "ay": -0.2983767952801727,
          "ayref": "y",
          "opacity": 0.3,
          "showarrow": true,
          "text": "",
          "x": 0.5914118260508424,
          "xref": "x",
          "y": 0.6166751882769664,
          "yref": "y"
         },
         {
          "arrowcolor": "grey",
          "arrowhead": 4,
          "arrowsize": 0.6,
          "arrowwidth": 2.10803324099723,
          "ax": -0.6398084439472576,
          "axref": "x",
          "ay": -0.3092622918906242,
          "ayref": "y",
          "opacity": 0.3,
          "showarrow": true,
          "text": "",
          "x": -0.5724744375264866,
          "xref": "x",
          "y": 0.26471079787236823,
          "yref": "y"
         },
         {
          "arrowcolor": "grey",
          "arrowhead": 4,
          "arrowsize": 0.6,
          "arrowwidth": 2.662049861495845,
          "ax": -0.5724744375264866,
          "axref": "x",
          "ay": 0.26471079787236823,
          "ayref": "y",
          "opacity": 0.3,
          "showarrow": true,
          "text": "",
          "x": -0.6398084439472576,
          "xref": "x",
          "y": -0.3092622918906242,
          "yref": "y"
         },
         {
          "arrowcolor": "grey",
          "arrowhead": 4,
          "arrowsize": 0.6,
          "arrowwidth": 1.2770083102493075,
          "ax": 0.6295572660812494,
          "axref": "x",
          "ay": 0.6458789749862368,
          "ayref": "y",
          "opacity": 0.3,
          "showarrow": true,
          "text": "",
          "x": 0.6295572660812494,
          "xref": "x",
          "y": 0.6458789749862368,
          "yref": "y"
         },
         {
          "arrowcolor": "grey",
          "arrowhead": 4,
          "arrowsize": 0.6,
          "arrowwidth": 1.8310249307479225,
          "ax": -0.5497480498956452,
          "axref": "x",
          "ay": 0.2445382153320515,
          "ayref": "y",
          "opacity": 0.3,
          "showarrow": true,
          "text": "",
          "x": 0.09501142278328215,
          "xref": "x",
          "y": -0.9615091273608644,
          "yref": "y"
         },
         {
          "arrowcolor": "grey",
          "arrowhead": 4,
          "arrowsize": 0.6,
          "arrowwidth": 1.2770083102493075,
          "ax": 0.13100790516196242,
          "axref": "x",
          "ay": -0.9506236307504129,
          "ayref": "y",
          "opacity": 0.3,
          "showarrow": true,
          "text": "",
          "x": 0.6141382136816839,
          "xref": "x",
          "y": 0.5965026057366497,
          "yref": "y"
         },
         {
          "arrowcolor": "grey",
          "arrowhead": 4,
          "arrowsize": 0.6,
          "arrowwidth": 2.3850415512465375,
          "ax": -0.6385518625399523,
          "axref": "x",
          "ay": -0.3447893714407755,
          "ayref": "y",
          "opacity": 0.3,
          "showarrow": true,
          "text": "",
          "x": -0.5318449720236161,
          "xref": "x",
          "y": -0.8839981075825216,
          "yref": "y"
         },
         {
          "arrowcolor": "grey",
          "arrowhead": 4,
          "arrowsize": 0.6,
          "arrowwidth": 2.3850415512465375,
          "ax": -0.5318449720236161,
          "axref": "x",
          "ay": -0.8839981075825216,
          "ayref": "y",
          "opacity": 0.3,
          "showarrow": true,
          "text": "",
          "x": -0.6385518625399523,
          "xref": "x",
          "y": -0.3447893714407754,
          "yref": "y"
         },
         {
          "arrowcolor": "grey",
          "arrowhead": 4,
          "arrowsize": 0.6,
          "arrowwidth": 1.2770083102493075,
          "ax": -0.6049956837241556,
          "axref": "x",
          "ay": -0.3310880965869892,
          "ayref": "y",
          "opacity": 0.3,
          "showarrow": true,
          "text": "",
          "x": 0.5531381430204759,
          "xref": "x",
          "y": -0.44099022064343124,
          "yref": "y"
         },
         {
          "arrowcolor": "grey",
          "arrowhead": 4,
          "arrowsize": 0.6,
          "arrowwidth": 1.554016620498615,
          "ax": -0.5690688984674547,
          "axref": "x",
          "ay": 0.2475020084210359,
          "ayref": "y",
          "opacity": 0.3,
          "showarrow": true,
          "text": "",
          "x": -0.5296960143718894,
          "xref": "x",
          "y": -0.8656798174837027,
          "yref": "y"
         },
         {
          "arrowcolor": "grey",
          "arrowhead": 4,
          "arrowsize": 0.6,
          "arrowwidth": 2.3850415512465375,
          "ax": 0.5552871006722027,
          "axref": "x",
          "ay": -0.42267193054461233,
          "ayref": "y",
          "opacity": 0.3,
          "showarrow": true,
          "text": "",
          "x": -0.5355127196516579,
          "xref": "x",
          "y": 0.26120328327482223,
          "yref": "y"
         },
         {
          "arrowcolor": "grey",
          "arrowhead": 4,
          "arrowsize": 0.6,
          "arrowwidth": 1.2770083102493075,
          "ax": 0.1526802288124329,
          "axref": "x",
          "ay": 0.11985110298561547,
          "ayref": "y",
          "opacity": 0.3,
          "showarrow": true,
          "text": "",
          "x": -0.547964478575156,
          "xref": "x",
          "y": 0.27798234616750966,
          "yref": "y"
         },
         {
          "arrowcolor": "grey",
          "arrowhead": 4,
          "arrowsize": 0.6,
          "arrowwidth": 1.2770083102493075,
          "ax": 0.15053127116070616,
          "axref": "x",
          "ay": 0.10153281288679655,
          "ayref": "y",
          "opacity": 0.3,
          "showarrow": true,
          "text": "",
          "x": -0.6174474426476536,
          "xref": "x",
          "y": -0.3143090336943017,
          "yref": "y"
         },
         {
          "arrowcolor": "grey",
          "arrowhead": 4,
          "arrowsize": 0.6,
          "arrowwidth": 1.2770083102493075,
          "ax": 0.612530657686853,
          "axref": "x",
          "ay": -0.06266198981322449,
          "ayref": "y",
          "opacity": 0.3,
          "showarrow": true,
          "text": "",
          "x": 0.5907935968785484,
          "xref": "x",
          "y": -0.4326883822896035,
          "yref": "y"
         },
         {
          "arrowcolor": "grey",
          "arrowhead": 4,
          "arrowsize": 0.6,
          "arrowwidth": 1.2770083102493075,
          "ax": -0.6174474426476536,
          "axref": "x",
          "ay": -0.3143090336943017,
          "ayref": "y",
          "opacity": 0.3,
          "showarrow": true,
          "text": "",
          "x": 0.1505312711607062,
          "xref": "x",
          "y": 0.10153281288679655,
          "yref": "y"
         },
         {
          "arrowcolor": "grey",
          "arrowhead": 4,
          "arrowsize": 0.6,
          "arrowwidth": 2.10803324099723,
          "ax": -0.5348189836684142,
          "axref": "x",
          "ay": 0.273012636226196,
          "ayref": "y",
          "opacity": 0.3,
          "showarrow": true,
          "text": "",
          "x": 0.577717897463751,
          "xref": "x",
          "y": -0.04083618511685954,
          "yref": "y"
         },
         {
          "arrowcolor": "grey",
          "arrowhead": 4,
          "arrowsize": 0.6,
          "arrowwidth": 1.2770083102493075,
          "ax": 0.6137143798424313,
          "axref": "x",
          "ay": -0.029950688506408033,
          "ayref": "y",
          "opacity": 0.3,
          "showarrow": true,
          "text": "",
          "x": 0.6290672799089149,
          "xref": "x",
          "y": 0.6249770266307942,
          "yref": "y"
         },
         {
          "arrowcolor": "grey",
          "arrowhead": 4,
          "arrowsize": 0.6,
          "arrowwidth": 1.2770083102493075,
          "ax": 0.577717897463751,
          "axref": "x",
          "ay": -0.04083618511685953,
          "ayref": "y",
          "opacity": 0.3,
          "showarrow": true,
          "text": "",
          "x": -0.5348189836684142,
          "xref": "x",
          "y": 0.273012636226196,
          "yref": "y"
         },
         {
          "arrowcolor": "grey",
          "arrowhead": 4,
          "arrowsize": 0.6,
          "arrowwidth": 1.8310249307479225,
          "ax": 0.6290672799089149,
          "axref": "x",
          "ay": 0.6249770266307942,
          "ayref": "y",
          "opacity": 0.3,
          "showarrow": true,
          "text": "",
          "x": 0.6137143798424313,
          "xref": "x",
          "y": -0.029950688506408054,
          "yref": "y"
         },
         {
          "arrowcolor": "grey",
          "arrowhead": 4,
          "arrowsize": 0.6,
          "arrowwidth": 1.2770083102493075,
          "ax": -0.6043019477409118,
          "axref": "x",
          "ay": -0.31927874363561537,
          "ayref": "y",
          "opacity": 0.3,
          "showarrow": true,
          "text": "",
          "x": 0.5755689398120243,
          "xref": "x",
          "y": -0.059154475215678445,
          "yref": "y"
         },
         {
          "arrowcolor": "grey",
          "arrowhead": 4,
          "arrowsize": 0.6,
          "arrowwidth": 2.10803324099723,
          "ax": -0.6192310139681428,
          "axref": "x",
          "ay": -0.34775316452975985,
          "ayref": "y",
          "opacity": 0.3,
          "showarrow": true,
          "text": "",
          "x": 0.09286246513155541,
          "xref": "x",
          "y": -0.9798274174596833,
          "yref": "y"
         },
         {
          "arrowcolor": "grey",
          "arrowhead": 4,
          "arrowsize": 0.6,
          "arrowwidth": 2.10803324099723,
          "ax": 0.09501142278328212,
          "axref": "x",
          "ay": -0.9615091273608644,
          "ayref": "y",
          "opacity": 0.3,
          "showarrow": true,
          "text": "",
          "x": -0.5497480498956452,
          "xref": "x",
          "y": 0.24453821533205153,
          "yref": "y"
         },
         {
          "arrowcolor": "grey",
          "arrowhead": 4,
          "arrowsize": 0.6,
          "arrowwidth": 1.2770083102493075,
          "ax": 0.5907935968785484,
          "axref": "x",
          "ay": -0.4326883822896035,
          "ayref": "y",
          "opacity": 0.3,
          "showarrow": true,
          "text": "",
          "x": 0.612530657686853,
          "xref": "x",
          "y": -0.06266198981322448,
          "yref": "y"
         },
         {
          "arrowcolor": "grey",
          "arrowhead": 4,
          "arrowsize": 0.6,
          "arrowwidth": 1.2770083102493075,
          "ax": 0.5982953274428657,
          "axref": "x",
          "ay": -0.07932705775599519,
          "ayref": "y",
          "opacity": 0.3,
          "showarrow": true,
          "text": "",
          "x": 0.13051791898962783,
          "xref": "x",
          "y": -0.9715255791058555,
          "yref": "y"
         }
        ],
        "height": 600,
        "paper_bgcolor": "rgba(0,0,0,0)",
        "plot_bgcolor": "rgba(0,0,0,0)",
        "template": {
         "data": {
          "bar": [
           {
            "error_x": {
             "color": "#2a3f5f"
            },
            "error_y": {
             "color": "#2a3f5f"
            },
            "marker": {
             "line": {
              "color": "#E5ECF6",
              "width": 0.5
             },
             "pattern": {
              "fillmode": "overlay",
              "size": 10,
              "solidity": 0.2
             }
            },
            "type": "bar"
           }
          ],
          "barpolar": [
           {
            "marker": {
             "line": {
              "color": "#E5ECF6",
              "width": 0.5
             },
             "pattern": {
              "fillmode": "overlay",
              "size": 10,
              "solidity": 0.2
             }
            },
            "type": "barpolar"
           }
          ],
          "carpet": [
           {
            "aaxis": {
             "endlinecolor": "#2a3f5f",
             "gridcolor": "white",
             "linecolor": "white",
             "minorgridcolor": "white",
             "startlinecolor": "#2a3f5f"
            },
            "baxis": {
             "endlinecolor": "#2a3f5f",
             "gridcolor": "white",
             "linecolor": "white",
             "minorgridcolor": "white",
             "startlinecolor": "#2a3f5f"
            },
            "type": "carpet"
           }
          ],
          "choropleth": [
           {
            "colorbar": {
             "outlinewidth": 0,
             "ticks": ""
            },
            "type": "choropleth"
           }
          ],
          "contour": [
           {
            "colorbar": {
             "outlinewidth": 0,
             "ticks": ""
            },
            "colorscale": [
             [
              0,
              "#0d0887"
             ],
             [
              0.1111111111111111,
              "#46039f"
             ],
             [
              0.2222222222222222,
              "#7201a8"
             ],
             [
              0.3333333333333333,
              "#9c179e"
             ],
             [
              0.4444444444444444,
              "#bd3786"
             ],
             [
              0.5555555555555556,
              "#d8576b"
             ],
             [
              0.6666666666666666,
              "#ed7953"
             ],
             [
              0.7777777777777778,
              "#fb9f3a"
             ],
             [
              0.8888888888888888,
              "#fdca26"
             ],
             [
              1,
              "#f0f921"
             ]
            ],
            "type": "contour"
           }
          ],
          "contourcarpet": [
           {
            "colorbar": {
             "outlinewidth": 0,
             "ticks": ""
            },
            "type": "contourcarpet"
           }
          ],
          "heatmap": [
           {
            "colorbar": {
             "outlinewidth": 0,
             "ticks": ""
            },
            "colorscale": [
             [
              0,
              "#0d0887"
             ],
             [
              0.1111111111111111,
              "#46039f"
             ],
             [
              0.2222222222222222,
              "#7201a8"
             ],
             [
              0.3333333333333333,
              "#9c179e"
             ],
             [
              0.4444444444444444,
              "#bd3786"
             ],
             [
              0.5555555555555556,
              "#d8576b"
             ],
             [
              0.6666666666666666,
              "#ed7953"
             ],
             [
              0.7777777777777778,
              "#fb9f3a"
             ],
             [
              0.8888888888888888,
              "#fdca26"
             ],
             [
              1,
              "#f0f921"
             ]
            ],
            "type": "heatmap"
           }
          ],
          "heatmapgl": [
           {
            "colorbar": {
             "outlinewidth": 0,
             "ticks": ""
            },
            "colorscale": [
             [
              0,
              "#0d0887"
             ],
             [
              0.1111111111111111,
              "#46039f"
             ],
             [
              0.2222222222222222,
              "#7201a8"
             ],
             [
              0.3333333333333333,
              "#9c179e"
             ],
             [
              0.4444444444444444,
              "#bd3786"
             ],
             [
              0.5555555555555556,
              "#d8576b"
             ],
             [
              0.6666666666666666,
              "#ed7953"
             ],
             [
              0.7777777777777778,
              "#fb9f3a"
             ],
             [
              0.8888888888888888,
              "#fdca26"
             ],
             [
              1,
              "#f0f921"
             ]
            ],
            "type": "heatmapgl"
           }
          ],
          "histogram": [
           {
            "marker": {
             "pattern": {
              "fillmode": "overlay",
              "size": 10,
              "solidity": 0.2
             }
            },
            "type": "histogram"
           }
          ],
          "histogram2d": [
           {
            "colorbar": {
             "outlinewidth": 0,
             "ticks": ""
            },
            "colorscale": [
             [
              0,
              "#0d0887"
             ],
             [
              0.1111111111111111,
              "#46039f"
             ],
             [
              0.2222222222222222,
              "#7201a8"
             ],
             [
              0.3333333333333333,
              "#9c179e"
             ],
             [
              0.4444444444444444,
              "#bd3786"
             ],
             [
              0.5555555555555556,
              "#d8576b"
             ],
             [
              0.6666666666666666,
              "#ed7953"
             ],
             [
              0.7777777777777778,
              "#fb9f3a"
             ],
             [
              0.8888888888888888,
              "#fdca26"
             ],
             [
              1,
              "#f0f921"
             ]
            ],
            "type": "histogram2d"
           }
          ],
          "histogram2dcontour": [
           {
            "colorbar": {
             "outlinewidth": 0,
             "ticks": ""
            },
            "colorscale": [
             [
              0,
              "#0d0887"
             ],
             [
              0.1111111111111111,
              "#46039f"
             ],
             [
              0.2222222222222222,
              "#7201a8"
             ],
             [
              0.3333333333333333,
              "#9c179e"
             ],
             [
              0.4444444444444444,
              "#bd3786"
             ],
             [
              0.5555555555555556,
              "#d8576b"
             ],
             [
              0.6666666666666666,
              "#ed7953"
             ],
             [
              0.7777777777777778,
              "#fb9f3a"
             ],
             [
              0.8888888888888888,
              "#fdca26"
             ],
             [
              1,
              "#f0f921"
             ]
            ],
            "type": "histogram2dcontour"
           }
          ],
          "mesh3d": [
           {
            "colorbar": {
             "outlinewidth": 0,
             "ticks": ""
            },
            "type": "mesh3d"
           }
          ],
          "parcoords": [
           {
            "line": {
             "colorbar": {
              "outlinewidth": 0,
              "ticks": ""
             }
            },
            "type": "parcoords"
           }
          ],
          "pie": [
           {
            "automargin": true,
            "type": "pie"
           }
          ],
          "scatter": [
           {
            "marker": {
             "colorbar": {
              "outlinewidth": 0,
              "ticks": ""
             }
            },
            "type": "scatter"
           }
          ],
          "scatter3d": [
           {
            "line": {
             "colorbar": {
              "outlinewidth": 0,
              "ticks": ""
             }
            },
            "marker": {
             "colorbar": {
              "outlinewidth": 0,
              "ticks": ""
             }
            },
            "type": "scatter3d"
           }
          ],
          "scattercarpet": [
           {
            "marker": {
             "colorbar": {
              "outlinewidth": 0,
              "ticks": ""
             }
            },
            "type": "scattercarpet"
           }
          ],
          "scattergeo": [
           {
            "marker": {
             "colorbar": {
              "outlinewidth": 0,
              "ticks": ""
             }
            },
            "type": "scattergeo"
           }
          ],
          "scattergl": [
           {
            "marker": {
             "colorbar": {
              "outlinewidth": 0,
              "ticks": ""
             }
            },
            "type": "scattergl"
           }
          ],
          "scattermapbox": [
           {
            "marker": {
             "colorbar": {
              "outlinewidth": 0,
              "ticks": ""
             }
            },
            "type": "scattermapbox"
           }
          ],
          "scatterpolar": [
           {
            "marker": {
             "colorbar": {
              "outlinewidth": 0,
              "ticks": ""
             }
            },
            "type": "scatterpolar"
           }
          ],
          "scatterpolargl": [
           {
            "marker": {
             "colorbar": {
              "outlinewidth": 0,
              "ticks": ""
             }
            },
            "type": "scatterpolargl"
           }
          ],
          "scatterternary": [
           {
            "marker": {
             "colorbar": {
              "outlinewidth": 0,
              "ticks": ""
             }
            },
            "type": "scatterternary"
           }
          ],
          "surface": [
           {
            "colorbar": {
             "outlinewidth": 0,
             "ticks": ""
            },
            "colorscale": [
             [
              0,
              "#0d0887"
             ],
             [
              0.1111111111111111,
              "#46039f"
             ],
             [
              0.2222222222222222,
              "#7201a8"
             ],
             [
              0.3333333333333333,
              "#9c179e"
             ],
             [
              0.4444444444444444,
              "#bd3786"
             ],
             [
              0.5555555555555556,
              "#d8576b"
             ],
             [
              0.6666666666666666,
              "#ed7953"
             ],
             [
              0.7777777777777778,
              "#fb9f3a"
             ],
             [
              0.8888888888888888,
              "#fdca26"
             ],
             [
              1,
              "#f0f921"
             ]
            ],
            "type": "surface"
           }
          ],
          "table": [
           {
            "cells": {
             "fill": {
              "color": "#EBF0F8"
             },
             "line": {
              "color": "white"
             }
            },
            "header": {
             "fill": {
              "color": "#C8D4E3"
             },
             "line": {
              "color": "white"
             }
            },
            "type": "table"
           }
          ]
         },
         "layout": {
          "annotationdefaults": {
           "arrowcolor": "#2a3f5f",
           "arrowhead": 0,
           "arrowwidth": 1
          },
          "autotypenumbers": "strict",
          "coloraxis": {
           "colorbar": {
            "outlinewidth": 0,
            "ticks": ""
           }
          },
          "colorscale": {
           "diverging": [
            [
             0,
             "#8e0152"
            ],
            [
             0.1,
             "#c51b7d"
            ],
            [
             0.2,
             "#de77ae"
            ],
            [
             0.3,
             "#f1b6da"
            ],
            [
             0.4,
             "#fde0ef"
            ],
            [
             0.5,
             "#f7f7f7"
            ],
            [
             0.6,
             "#e6f5d0"
            ],
            [
             0.7,
             "#b8e186"
            ],
            [
             0.8,
             "#7fbc41"
            ],
            [
             0.9,
             "#4d9221"
            ],
            [
             1,
             "#276419"
            ]
           ],
           "sequential": [
            [
             0,
             "#0d0887"
            ],
            [
             0.1111111111111111,
             "#46039f"
            ],
            [
             0.2222222222222222,
             "#7201a8"
            ],
            [
             0.3333333333333333,
             "#9c179e"
            ],
            [
             0.4444444444444444,
             "#bd3786"
            ],
            [
             0.5555555555555556,
             "#d8576b"
            ],
            [
             0.6666666666666666,
             "#ed7953"
            ],
            [
             0.7777777777777778,
             "#fb9f3a"
            ],
            [
             0.8888888888888888,
             "#fdca26"
            ],
            [
             1,
             "#f0f921"
            ]
           ],
           "sequentialminus": [
            [
             0,
             "#0d0887"
            ],
            [
             0.1111111111111111,
             "#46039f"
            ],
            [
             0.2222222222222222,
             "#7201a8"
            ],
            [
             0.3333333333333333,
             "#9c179e"
            ],
            [
             0.4444444444444444,
             "#bd3786"
            ],
            [
             0.5555555555555556,
             "#d8576b"
            ],
            [
             0.6666666666666666,
             "#ed7953"
            ],
            [
             0.7777777777777778,
             "#fb9f3a"
            ],
            [
             0.8888888888888888,
             "#fdca26"
            ],
            [
             1,
             "#f0f921"
            ]
           ]
          },
          "colorway": [
           "#636efa",
           "#EF553B",
           "#00cc96",
           "#ab63fa",
           "#FFA15A",
           "#19d3f3",
           "#FF6692",
           "#B6E880",
           "#FF97FF",
           "#FECB52"
          ],
          "font": {
           "color": "#2a3f5f"
          },
          "geo": {
           "bgcolor": "white",
           "lakecolor": "white",
           "landcolor": "#E5ECF6",
           "showlakes": true,
           "showland": true,
           "subunitcolor": "white"
          },
          "hoverlabel": {
           "align": "left"
          },
          "hovermode": "closest",
          "mapbox": {
           "style": "light"
          },
          "paper_bgcolor": "white",
          "plot_bgcolor": "#E5ECF6",
          "polar": {
           "angularaxis": {
            "gridcolor": "white",
            "linecolor": "white",
            "ticks": ""
           },
           "bgcolor": "#E5ECF6",
           "radialaxis": {
            "gridcolor": "white",
            "linecolor": "white",
            "ticks": ""
           }
          },
          "scene": {
           "xaxis": {
            "backgroundcolor": "#E5ECF6",
            "gridcolor": "white",
            "gridwidth": 2,
            "linecolor": "white",
            "showbackground": true,
            "ticks": "",
            "zerolinecolor": "white"
           },
           "yaxis": {
            "backgroundcolor": "#E5ECF6",
            "gridcolor": "white",
            "gridwidth": 2,
            "linecolor": "white",
            "showbackground": true,
            "ticks": "",
            "zerolinecolor": "white"
           },
           "zaxis": {
            "backgroundcolor": "#E5ECF6",
            "gridcolor": "white",
            "gridwidth": 2,
            "linecolor": "white",
            "showbackground": true,
            "ticks": "",
            "zerolinecolor": "white"
           }
          },
          "shapedefaults": {
           "line": {
            "color": "#2a3f5f"
           }
          },
          "ternary": {
           "aaxis": {
            "gridcolor": "white",
            "linecolor": "white",
            "ticks": ""
           },
           "baxis": {
            "gridcolor": "white",
            "linecolor": "white",
            "ticks": ""
           },
           "bgcolor": "#E5ECF6",
           "caxis": {
            "gridcolor": "white",
            "linecolor": "white",
            "ticks": ""
           }
          },
          "title": {
           "x": 0.05
          },
          "xaxis": {
           "automargin": true,
           "gridcolor": "white",
           "linecolor": "white",
           "ticks": "",
           "title": {
            "standoff": 15
           },
           "zerolinecolor": "white",
           "zerolinewidth": 2
          },
          "yaxis": {
           "automargin": true,
           "gridcolor": "white",
           "linecolor": "white",
           "ticks": "",
           "title": {
            "standoff": 15
           },
           "zerolinecolor": "white",
           "zerolinewidth": 2
          }
         }
        },
        "title": {
         "text": "REQUEST GRAPH FOR KLEIST-DER-ZERBROCHENE-KRUG"
        },
        "xaxis": {
         "showticklabels": false,
         "ticks": ""
        },
        "yaxis": {
         "showticklabels": false,
         "ticks": ""
        }
       }
      }
     },
     "metadata": {},
     "output_type": "display_data"
    },
    {
     "data": {
      "text/html": [
       "<div>\n",
       "<style scoped>\n",
       "    .dataframe tbody tr th:only-of-type {\n",
       "        vertical-align: middle;\n",
       "    }\n",
       "\n",
       "    .dataframe tbody tr th {\n",
       "        vertical-align: top;\n",
       "    }\n",
       "\n",
       "    .dataframe thead th {\n",
       "        text-align: right;\n",
       "    }\n",
       "</style>\n",
       "<table border=\"1\" class=\"dataframe\">\n",
       "  <thead>\n",
       "    <tr style=\"text-align: right;\">\n",
       "      <th></th>\n",
       "      <th>speeches</th>\n",
       "      <th>degree</th>\n",
       "      <th>indegree</th>\n",
       "      <th>weighted_indegree</th>\n",
       "      <th>outdegree</th>\n",
       "      <th>weighted_outdegree</th>\n",
       "      <th>betweenness</th>\n",
       "      <th>betweenness_weighted</th>\n",
       "      <th>pagerank</th>\n",
       "      <th>pagerank_weighted</th>\n",
       "      <th>request_value</th>\n",
       "    </tr>\n",
       "  </thead>\n",
       "  <tbody>\n",
       "    <tr>\n",
       "      <th>adam</th>\n",
       "      <td>364</td>\n",
       "      <td>20.0</td>\n",
       "      <td>10.0</td>\n",
       "      <td>121.0</td>\n",
       "      <td>10.0</td>\n",
       "      <td>135.0</td>\n",
       "      <td>0.511111</td>\n",
       "      <td>0.472222</td>\n",
       "      <td>0.302632</td>\n",
       "      <td>0.302632</td>\n",
       "      <td>3.708791</td>\n",
       "    </tr>\n",
       "    <tr>\n",
       "      <th>walter</th>\n",
       "      <td>216</td>\n",
       "      <td>13.0</td>\n",
       "      <td>6.0</td>\n",
       "      <td>56.0</td>\n",
       "      <td>7.0</td>\n",
       "      <td>104.0</td>\n",
       "      <td>0.059259</td>\n",
       "      <td>0.005556</td>\n",
       "      <td>0.151385</td>\n",
       "      <td>0.151385</td>\n",
       "      <td>3.370370</td>\n",
       "    </tr>\n",
       "    <tr>\n",
       "      <th>frau_marthe</th>\n",
       "      <td>72</td>\n",
       "      <td>12.0</td>\n",
       "      <td>6.0</td>\n",
       "      <td>27.0</td>\n",
       "      <td>6.0</td>\n",
       "      <td>26.0</td>\n",
       "      <td>0.064815</td>\n",
       "      <td>0.311111</td>\n",
       "      <td>0.072555</td>\n",
       "      <td>0.072555</td>\n",
       "      <td>2.166667</td>\n",
       "    </tr>\n",
       "    <tr>\n",
       "      <th>ruprecht</th>\n",
       "      <td>90</td>\n",
       "      <td>13.0</td>\n",
       "      <td>6.0</td>\n",
       "      <td>46.0</td>\n",
       "      <td>7.0</td>\n",
       "      <td>25.0</td>\n",
       "      <td>0.099074</td>\n",
       "      <td>0.172222</td>\n",
       "      <td>0.141538</td>\n",
       "      <td>0.141538</td>\n",
       "      <td>1.944444</td>\n",
       "    </tr>\n",
       "    <tr>\n",
       "      <th>licht</th>\n",
       "      <td>136</td>\n",
       "      <td>8.0</td>\n",
       "      <td>3.0</td>\n",
       "      <td>55.0</td>\n",
       "      <td>5.0</td>\n",
       "      <td>43.0</td>\n",
       "      <td>0.029630</td>\n",
       "      <td>0.050000</td>\n",
       "      <td>0.109984</td>\n",
       "      <td>0.109984</td>\n",
       "      <td>1.580882</td>\n",
       "    </tr>\n",
       "    <tr>\n",
       "      <th>eve</th>\n",
       "      <td>53</td>\n",
       "      <td>9.0</td>\n",
       "      <td>5.0</td>\n",
       "      <td>23.0</td>\n",
       "      <td>4.0</td>\n",
       "      <td>13.0</td>\n",
       "      <td>0.002778</td>\n",
       "      <td>0.033333</td>\n",
       "      <td>0.075136</td>\n",
       "      <td>0.075136</td>\n",
       "      <td>0.981132</td>\n",
       "    </tr>\n",
       "    <tr>\n",
       "      <th>frau_brigitte</th>\n",
       "      <td>21</td>\n",
       "      <td>8.0</td>\n",
       "      <td>4.0</td>\n",
       "      <td>9.0</td>\n",
       "      <td>4.0</td>\n",
       "      <td>4.0</td>\n",
       "      <td>0.000000</td>\n",
       "      <td>0.450000</td>\n",
       "      <td>0.031486</td>\n",
       "      <td>0.031486</td>\n",
       "      <td>0.761905</td>\n",
       "    </tr>\n",
       "    <tr>\n",
       "      <th>veit</th>\n",
       "      <td>17</td>\n",
       "      <td>5.0</td>\n",
       "      <td>3.0</td>\n",
       "      <td>8.0</td>\n",
       "      <td>2.0</td>\n",
       "      <td>6.0</td>\n",
       "      <td>0.000000</td>\n",
       "      <td>0.016667</td>\n",
       "      <td>0.042545</td>\n",
       "      <td>0.042545</td>\n",
       "      <td>0.705882</td>\n",
       "    </tr>\n",
       "    <tr>\n",
       "      <th>erste_magd</th>\n",
       "      <td>9</td>\n",
       "      <td>2.0</td>\n",
       "      <td>1.0</td>\n",
       "      <td>3.0</td>\n",
       "      <td>1.0</td>\n",
       "      <td>3.0</td>\n",
       "      <td>0.000000</td>\n",
       "      <td>0.000000</td>\n",
       "      <td>0.019353</td>\n",
       "      <td>0.019353</td>\n",
       "      <td>0.333333</td>\n",
       "    </tr>\n",
       "    <tr>\n",
       "      <th>der_bediente</th>\n",
       "      <td>9</td>\n",
       "      <td>3.0</td>\n",
       "      <td>2.0</td>\n",
       "      <td>6.0</td>\n",
       "      <td>1.0</td>\n",
       "      <td>1.0</td>\n",
       "      <td>0.000000</td>\n",
       "      <td>0.000000</td>\n",
       "      <td>0.026144</td>\n",
       "      <td>0.026144</td>\n",
       "      <td>0.111111</td>\n",
       "    </tr>\n",
       "    <tr>\n",
       "      <th>zweite_magd</th>\n",
       "      <td>12</td>\n",
       "      <td>3.0</td>\n",
       "      <td>2.0</td>\n",
       "      <td>7.0</td>\n",
       "      <td>1.0</td>\n",
       "      <td>1.0</td>\n",
       "      <td>0.000000</td>\n",
       "      <td>0.027778</td>\n",
       "      <td>0.027243</td>\n",
       "      <td>0.027243</td>\n",
       "      <td>0.083333</td>\n",
       "    </tr>\n",
       "    <tr>\n",
       "      <th>der_buettel</th>\n",
       "      <td>1</td>\n",
       "      <td>NaN</td>\n",
       "      <td>NaN</td>\n",
       "      <td>NaN</td>\n",
       "      <td>NaN</td>\n",
       "      <td>NaN</td>\n",
       "      <td>NaN</td>\n",
       "      <td>NaN</td>\n",
       "      <td>NaN</td>\n",
       "      <td>NaN</td>\n",
       "      <td>NaN</td>\n",
       "    </tr>\n",
       "    <tr>\n",
       "      <th>mehrere</th>\n",
       "      <td>1</td>\n",
       "      <td>NaN</td>\n",
       "      <td>NaN</td>\n",
       "      <td>NaN</td>\n",
       "      <td>NaN</td>\n",
       "      <td>NaN</td>\n",
       "      <td>NaN</td>\n",
       "      <td>NaN</td>\n",
       "      <td>NaN</td>\n",
       "      <td>NaN</td>\n",
       "      <td>NaN</td>\n",
       "    </tr>\n",
       "  </tbody>\n",
       "</table>\n",
       "</div>"
      ],
      "text/plain": [
       "               speeches  degree  indegree  weighted_indegree  outdegree  \\\n",
       "adam                364    20.0      10.0              121.0       10.0   \n",
       "walter              216    13.0       6.0               56.0        7.0   \n",
       "frau_marthe          72    12.0       6.0               27.0        6.0   \n",
       "ruprecht             90    13.0       6.0               46.0        7.0   \n",
       "licht               136     8.0       3.0               55.0        5.0   \n",
       "eve                  53     9.0       5.0               23.0        4.0   \n",
       "frau_brigitte        21     8.0       4.0                9.0        4.0   \n",
       "veit                 17     5.0       3.0                8.0        2.0   \n",
       "erste_magd            9     2.0       1.0                3.0        1.0   \n",
       "der_bediente          9     3.0       2.0                6.0        1.0   \n",
       "zweite_magd          12     3.0       2.0                7.0        1.0   \n",
       "der_buettel           1     NaN       NaN                NaN        NaN   \n",
       "mehrere               1     NaN       NaN                NaN        NaN   \n",
       "\n",
       "               weighted_outdegree  betweenness  betweenness_weighted  \\\n",
       "adam                        135.0     0.511111              0.472222   \n",
       "walter                      104.0     0.059259              0.005556   \n",
       "frau_marthe                  26.0     0.064815              0.311111   \n",
       "ruprecht                     25.0     0.099074              0.172222   \n",
       "licht                        43.0     0.029630              0.050000   \n",
       "eve                          13.0     0.002778              0.033333   \n",
       "frau_brigitte                 4.0     0.000000              0.450000   \n",
       "veit                          6.0     0.000000              0.016667   \n",
       "erste_magd                    3.0     0.000000              0.000000   \n",
       "der_bediente                  1.0     0.000000              0.000000   \n",
       "zweite_magd                   1.0     0.000000              0.027778   \n",
       "der_buettel                   NaN          NaN                   NaN   \n",
       "mehrere                       NaN          NaN                   NaN   \n",
       "\n",
       "               pagerank  pagerank_weighted  request_value  \n",
       "adam           0.302632           0.302632       3.708791  \n",
       "walter         0.151385           0.151385       3.370370  \n",
       "frau_marthe    0.072555           0.072555       2.166667  \n",
       "ruprecht       0.141538           0.141538       1.944444  \n",
       "licht          0.109984           0.109984       1.580882  \n",
       "eve            0.075136           0.075136       0.981132  \n",
       "frau_brigitte  0.031486           0.031486       0.761905  \n",
       "veit           0.042545           0.042545       0.705882  \n",
       "erste_magd     0.019353           0.019353       0.333333  \n",
       "der_bediente   0.026144           0.026144       0.111111  \n",
       "zweite_magd    0.027243           0.027243       0.083333  \n",
       "der_buettel         NaN                NaN            NaN  \n",
       "mehrere             NaN                NaN            NaN  "
      ]
     },
     "metadata": {},
     "output_type": "display_data"
    }
   ],
   "source": [
    "import importlib\n",
    "importlib.reload(ng)\n",
    "network = ng.Network(gerdracor_play_id='kleist-der-zerbrochene-krug')\n",
    "fig1 = network.plot(network_type='request')"
   ]
  },
  {
   "cell_type": "markdown",
   "metadata": {},
   "source": [
    "## Plot network based on **all speeches**"
   ]
  },
  {
   "cell_type": "code",
   "execution_count": 30,
   "metadata": {},
   "outputs": [
    {
     "data": {
      "application/vnd.plotly.v1+json": {
       "config": {
        "plotlyServerURL": "https://plot.ly"
       },
       "data": [
        {
         "hoverinfo": "text",
         "marker": {
          "color": "grey",
          "opacity": 0.4,
          "size": 10.79020979020979,
          "symbol": "cross-thin"
         },
         "mode": "markers",
         "name": "licht → adam",
         "showlegend": false,
         "text": "<b>licht → adam</b>:<br><br>Ei, was zum Henker, sagt, Gevatter Adam! Was ist m[...]<br>Nein, sagt mir, Freund! Den Stein trüg jeglicher –[...]<br>Verflucht das!<br>Ihr stammt von einem lockern Ältervater, Der so be[...]<br>Gleichfalls –?<br>Unbildlich hingeschlagen?<br>Wann trug sich die Begebenheit denn zu?<br>Und wohl den linken obenein?<br>Hier, den gesetzten?<br>Allgerechter! Der ohnhin schwer den Weg der Sünde [...]<br>Der Klumpfuß?<br>Der rechte kann sich dieser – Wucht nicht rühmen, [...]<br>Und was hat das Gesi<br>[...]",
         "type": "scatter",
         "x": [
          0.22049283370895806
         ],
         "y": [
          0.16791182256236786
         ]
        },
        {
         "hoverinfo": "text",
         "marker": {
          "color": "grey",
          "opacity": 0.4,
          "size": 11.48951048951049,
          "symbol": "cross-thin"
         },
         "mode": "markers",
         "name": "adam → licht",
         "showlegend": false,
         "text": "<b>adam → licht</b>:<br><br>Zum Straucheln braucht's doch nichts, als Füße. Au[...]<br>Ja, in sich selbst!<br>Was beliebt?<br>Nun?<br>Ob ich –? Ich glaube –! Hier bin ich hingefallen, [...]<br>Es mag ein schlechtes Bild gewesen sein.<br>Ich hatte noch das Morgenlied Im Mund, da stolpr' [...]<br>Den linken?<br>Freilich!<br>Der Fuß! Was! Schwer! Warum?<br>Klumpfuß! Ein Fuß ist, wie der andere, ein Klumpen[...]<br>Ach, was! Wo sich der eine hinwagt, folgt der andr[...]<br>Mir das Gesicht?<br>Ich müßt ein Lügner sein – wie<br>[...]",
         "type": "scatter",
         "x": [
          0.5841056624843282
         ],
         "y": [
          0.5927715136058069
         ]
        },
        {
         "hoverinfo": "text",
         "marker": {
          "color": "grey",
          "opacity": 0.4,
          "size": 1.3996003996003996,
          "symbol": "cross-thin"
         },
         "mode": "markers",
         "name": "adam → der_bediente",
         "showlegend": false,
         "text": "<b>adam → der_bediente</b>:<br><br>Nun denn, so kommt Gevatter, Folgt mir ein wenig z[...]<br>Ei, du gerechter Himmel! Ist er mit Holla Schon fe[...]<br>Ist er schon unterwegs etwa?<br>Ach, was! Für die Hand.<br>",
         "type": "scatter",
         "x": [
          0.5875384624349396
         ],
         "y": [
          0.6380282467411404
         ]
        },
        {
         "hoverinfo": "text",
         "marker": {
          "color": "grey",
          "opacity": 0.4,
          "size": 1.6993006993006992,
          "symbol": "cross-thin"
         },
         "mode": "markers",
         "name": "der_bediente → adam",
         "showlegend": false,
         "text": "<b>der_bediente → adam</b>:<br><br>Gott helf, Herr Richter! Der Gerichtsrat Walter Lä[...]<br>Ja, er ist in Huisum schon.<br>Und morgen reisen wir nach Hussahe.<br>Er hat den Schmidt bestellt; Der Wagen ging entzwe[...]<br>Je, nun! Wir sind im Hohlweg umgeworfen.<br>Der Herr verstauchte sich die Hand ein wenig. Die [...]<br>Für die Deichsel?<br>",
         "type": "scatter",
         "x": [
          0.25138803326445996
         ],
         "y": [
          0.5752224207803698
         ]
        },
        {
         "hoverinfo": "text",
         "marker": {
          "color": "grey",
          "opacity": 0.4,
          "size": 1.4995004995004995,
          "symbol": "cross-thin"
         },
         "mode": "markers",
         "name": "licht → der_bediente",
         "showlegend": false,
         "text": "<b>licht → der_bediente</b>:<br><br>Laßt Euern Dank vermelden.<br>Es ist dem Herrn Gerichtsrat, will ich hoffen, Nic[...]<br>Ei, du mein Himmel! Umgeworfen, sagt Ihr? Doch kei[...]<br>Die Hand verstaucht! Ei, Herr Gott! Kam der Schmid[...]<br>Was?<br>",
         "type": "scatter",
         "x": [
          0.17847403006264811
         ],
         "y": [
          0.16006109431727153
         ]
        },
        {
         "hoverinfo": "text",
         "marker": {
          "color": "grey",
          "opacity": 0.4,
          "size": 1.8991008991008993,
          "symbol": "cross-thin"
         },
         "mode": "markers",
         "name": "adam → erste_magd",
         "showlegend": false,
         "text": "<b>adam → erste_magd</b>:<br><br>Was tu ich jetzt? Was laß ich?<br>Die Beffchen! Mantel! Kragen!<br>Margrete! he! Der Sack voll Knochen! Liese!<br>He! Liese! Was hast du da?<br>Die kommen wieder zur Registratur.<br>Ich wär –?<br>Die Unverschämte!<br>Ein Glas mit Wasser! –<br>He! Margarete! Ihr macht mich glücklich, gnäd'ger [...]<br>",
         "type": "scatter",
         "x": [
          0.5551419570180923
         ],
         "y": [
          0.5823066494095755
         ]
        },
        {
         "hoverinfo": "text",
         "marker": {
          "color": "grey",
          "opacity": 0.4,
          "size": 1.0999000999000998,
          "symbol": "cross-thin"
         },
         "mode": "markers",
         "name": "erste_magd → licht",
         "showlegend": false,
         "text": "<b>erste_magd → licht</b>:<br><br>Hier bin ich, Herr.<br>",
         "type": "scatter",
         "x": [
          -0.08563211908408595
         ],
         "y": [
          0.020620583415856222
         ]
        },
        {
         "hoverinfo": "text",
         "marker": {
          "color": "grey",
          "opacity": 0.4,
          "size": 1.1998001998001997,
          "symbol": "cross-thin"
         },
         "mode": "markers",
         "name": "licht → zweite_magd",
         "showlegend": false,
         "text": "<b>licht → zweite_magd</b>:<br><br>Wollt Ihr die Hosen anziehn? Seid Ihr toll?<br>Es war ein Mißverständnis.<br>",
         "type": "scatter",
         "x": [
          0.1288916102534914
         ],
         "y": [
          0.15944908985592093
         ]
        },
        {
         "hoverinfo": "text",
         "marker": {
          "color": "grey",
          "opacity": 0.4,
          "size": 1.0999000999000998,
          "symbol": "cross-thin"
         },
         "mode": "markers",
         "name": "zweite_magd → licht",
         "showlegend": false,
         "text": "<b>zweite_magd → licht</b>:<br><br>Hier bin ich, Herr Dorfrichter.<br>",
         "type": "scatter",
         "x": [
          -0.24030534861487174
         ],
         "y": [
          0.5166069192477845
         ]
        },
        {
         "hoverinfo": "text",
         "marker": {
          "color": "grey",
          "opacity": 0.4,
          "size": 1.7992007992007992,
          "symbol": "cross-thin"
         },
         "mode": "markers",
         "name": "erste_magd → adam",
         "showlegend": false,
         "text": "<b>erste_magd → adam</b>:<br><br>Erst die Weste!<br>Was wollt Ihr?<br>Braunschweiger Wurst, Herr Richter.<br>Die Würste?<br>Ja, meiner Treu, Herr Richter Adam! Kahlköpfig war[...]<br>Ich will nicht ehrlich sein.<br>Gleich!<br>Hier.<br>",
         "type": "scatter",
         "x": [
          -0.0401805154871647
         ],
         "y": [
          0.07372804479628611
         ]
        },
        {
         "hoverinfo": "text",
         "marker": {
          "color": "grey",
          "opacity": 0.4,
          "size": 1.999000999000999,
          "symbol": "cross-thin"
         },
         "mode": "markers",
         "name": "adam → zweite_magd",
         "showlegend": false,
         "text": "<b>adam → zweite_magd</b>:<br><br>Kuhkäse, Schinken, Butter, Würste, Flaschen, Aus d[...]<br>Warum nicht?<br>Nun?<br>Nun? Werd ich's hören?<br>Ich, ohne die Perücke?<br>Kanaillen die! Die balzen sich und jungen, wo ein [...]<br>Ich schickt ihr die Perücke unversehrt Noch heut z[...]<br>– Der Büttel! He! Hanfriede!<br>Wie? Nicht?<br>Verflucht!<br>",
         "type": "scatter",
         "x": [
          0.5379560426257828
         ],
         "y": [
          0.6374162422797899
         ]
        },
        {
         "hoverinfo": "text",
         "marker": {
          "color": "grey",
          "opacity": 0.4,
          "size": 2.098901098901099,
          "symbol": "cross-thin"
         },
         "mode": "markers",
         "name": "zweite_magd → adam",
         "showlegend": false,
         "text": "<b>zweite_magd → adam</b>:<br><br>Sprecht, soll man Euch verstehn!<br>Im Bücherschrank, Herr Richter, find ich die Perüc[...]<br>Hm! Weil Ihr –<br>Gestern abend – Glock eilf –<br>Ei, Ihr kamt ja, Besinnt Euch, ohne die Perück ins[...]<br>Da ist die Liese, die's bezeugen kann. Und Eure an[...]<br>So soll ich hingehn?<br>Ich werd es schon bestellen.<br>Gruß von Frau Küsterin, Herr Richter Adam; So gern[...]<br>Sie sagt, es wäre Morgenpredigt heute; Der Küster [...]<br>Sobald der Küster wiederkömmt, Wird sie jedoch sog[...]<br>",
         "type": "scatter",
         "x": [
          -0.1948537450179505
         ],
         "y": [
          0.5697143806282143
         ]
        },
        {
         "hoverinfo": "text",
         "marker": {
          "color": "grey",
          "opacity": 0.4,
          "size": 1.1998001998001997,
          "symbol": "cross-thin"
         },
         "mode": "markers",
         "name": "der_bediente → licht",
         "showlegend": false,
         "text": "<b>der_bediente → licht</b>:<br><br>Ja, für die Deichsel.<br>– Ich glaub, die Kerls sind toll.<br>",
         "type": "scatter",
         "x": [
          0.2059364296675387
         ],
         "y": [
          0.5221149593999399
         ]
        },
        {
         "hoverinfo": "text",
         "marker": {
          "color": "grey",
          "opacity": 0.4,
          "size": 2.898101898101898,
          "symbol": "cross-thin"
         },
         "mode": "markers",
         "name": "licht → walter",
         "showlegend": false,
         "text": "<b>licht → walter</b>:<br><br>Die läpp'sche Furcht! Gebt Ihr nur vorschriftsmäßi[...]<br>Ein Bauer sagt' es, Der eben jetzt von Holla einge[...]<br>Ja, den ersten in der Woche.<br>Die Kläger sind's, die sich bereits versammeln.<br>Wie ein Degengriff. Doch irgendeine tück'sche Waff[...]<br>Verzeiht, auf zwölfe.<br>Hier, Frau Brigitte, herein.<br>Das ist die Frau Brigitte, Euer Gnaden.<br>Gnäd'ger Herr?<br>Hm!<br>Verzeiht –<br>Wenn Euer Gnaden gütigst Die Frau, durch den Herrn[...]<br>Wollen Euer Gnaden sie vollenden lasse<br>[...]",
         "type": "scatter",
         "x": [
          0.10050455911335714
         ],
         "y": [
          0.1316268338608629
         ]
        },
        {
         "hoverinfo": "text",
         "marker": {
          "color": "grey",
          "opacity": 0.4,
          "size": 14.686313686313687,
          "symbol": "cross-thin"
         },
         "mode": "markers",
         "name": "walter → adam",
         "showlegend": false,
         "text": "<b>walter → adam</b>:<br><br>Gott grüß Euch, Richter Adam.<br>Inzwischen ich, was meinen Gruß betrifft, Ich mein[...]<br>Vielmehr Es sind zu viel, man wird sie sichten müs[...]<br>Laßt sein.<br>Zwei kleine Meilen – Woher wißt Ihr das?<br>Ein Bauer?<br>– – Ihr werdet davon unterrichtet sein?<br>Was nur Unordnung schien, Verworrenheit, Nimmt jet[...]<br>Wie, fünf! Ich stand im Wahn – Gefüllte Kassen? Ic[...]<br>– Sagt doch, Ihr habt ja wohl Gerichtstag heut?<br>Und jene Schar von Leuten, die ich draußen Auf Eur[...]<br>Di<br>[...]",
         "type": "scatter",
         "x": [
          -0.45033720527915905
         ],
         "y": [
          0.3193140766726921
         ]
        },
        {
         "hoverinfo": "text",
         "marker": {
          "color": "grey",
          "opacity": 0.4,
          "size": 14.986013986013987,
          "symbol": "cross-thin"
         },
         "mode": "markers",
         "name": "adam → walter",
         "showlegend": false,
         "text": "<b>adam → walter</b>:<br><br>Kein Traum, der heute früh Glock achte noch Zu sol[...]<br>Euer Gnaden werden hie und da, nicht zweifl' ich, [...]<br>Viel Spreu! Viel Spreu!<br>Setzt Euch.<br>Ihr kommt von Holla schon.<br>Aufzuwarten.<br>Wär's wahr, gestrenger Herr? Der Richter Pfaul, We[...]<br>Fünf, zu dienen.<br>Verzeiht! Mit der Rhein-Inundations-Kollekten-Kass[...]<br>Ob wir –?<br>Auf meine Ehre, gnäd'ger Herr –<br>Ein Zufall, ein verwünschter, hat um beide Die dri[...]<br>– Ich müßt es auf dem Vorwerk noch versuchen,<br>[...]",
         "type": "scatter",
         "x": [
          0.5095689914856485
         ],
         "y": [
          0.6095939862847318
         ]
        },
        {
         "hoverinfo": "text",
         "marker": {
          "color": "grey",
          "opacity": 0.4,
          "size": 3.197802197802198,
          "symbol": "cross-thin"
         },
         "mode": "markers",
         "name": "walter → licht",
         "showlegend": false,
         "text": "<b>walter → licht</b>:<br><br>Das ist dort der Herr Schreiber?<br>Was?<br>Um so viel besser.<br>Ist das die Frau, Herr Schreiber Licht?<br>Was bringt uns Frau Brigitte dort für eine Perücke[...]<br>Was jene Frau uns dort für eine Perücke bringt?<br>Was?<br>Werd ich's erfahren?<br>– Wie kam die Frau dazu? Wo fand sie sie?<br>Wem? Was?<br>Kann Sie von einem andern melden, gut: Doch mit de[...]<br>Wie? Ihr ein Zeuge?<br>Fürwahr, ich weiß nicht –<br>So habt Ihr selbst Euch überzeugt?<br>Ein Pferdefuß?<br>Was wohl meint <br>W<br>[...]",
         "type": "scatter",
         "x": [
          -0.4957888088760803
         ],
         "y": [
          0.2662066152922622
         ]
        },
        {
         "hoverinfo": "text",
         "marker": {
          "color": "grey",
          "opacity": 0.4,
          "size": 1.0999000999000998,
          "symbol": "cross-thin"
         },
         "mode": "markers",
         "name": "adam → der_buettel",
         "showlegend": false,
         "text": "<b>adam → der_buettel</b>:<br><br>Auch das.<br>",
         "type": "scatter",
         "x": [
          0.5587160317139205
         ],
         "y": [
          0.6739661729249655
         ]
        },
        {
         "hoverinfo": "text",
         "marker": {
          "color": "grey",
          "opacity": 0.4,
          "size": 1.0999000999000998,
          "symbol": "cross-thin"
         },
         "mode": "markers",
         "name": "der_buettel → adam",
         "showlegend": false,
         "text": "<b>der_buettel → adam</b>:<br><br>Hier ist der Büttel!<br>",
         "type": "scatter",
         "x": [
          -0.008013843224711284
         ],
         "y": [
          0.8986637564347958
         ]
        },
        {
         "hoverinfo": "text",
         "marker": {
          "color": "grey",
          "opacity": 0.4,
          "size": 4.296703296703297,
          "symbol": "cross-thin"
         },
         "mode": "markers",
         "name": "adam → frau_marthe",
         "showlegend": false,
         "text": "<b>adam → frau_marthe</b>:<br><br>Die Kläger rufst du – Marsch!<br>– So nimm, Gerechtigkeit, denn deinen Lauf! Kläger[...]<br>Wer seid Ihr?<br>Ihr.<br>Wer Ihr seid! Wes Namens, Standes, Wohnorts, und s[...]<br>Ist's nicht ein Krug, Frau Marthe?<br>Da habt Ihr's.<br>Und wer zerbrach den Krug? Gewiß der Schlingel –?<br>– Frau Marthe Rull! Bringt Eure Klage vor.<br>Das Reden ist an Euch.<br>O ja, wir sehen ihn.<br>Uns geht das Loch – nichts die Provinzen an, Die d[...]<br>Ein würd'ger Wassergeuse.<br>Das ist auch nicht übel.<br<br>[...]",
         "type": "scatter",
         "x": [
          0.625611525562655
         ],
         "y": [
          0.5368413039635154
         ]
        },
        {
         "hoverinfo": "text",
         "marker": {
          "color": "grey",
          "opacity": 0.4,
          "size": 1.2997002997002998,
          "symbol": "cross-thin"
         },
         "mode": "markers",
         "name": "frau_marthe → veit",
         "showlegend": false,
         "text": "<b>frau_marthe → veit</b>:<br><br>Ihr krugzertrümmerndes Gesindel, ihr! Ihr sollt mi[...]<br>Entscheiden. Seht doch. Den Klugschwätzer. Den Kru[...]<br>Wenn ich mir Recht erstreiten kann, ersetzen. Setz[...]<br>",
         "type": "scatter",
         "x": [
          0.47824593150931577
         ],
         "y": [
          -0.49016865142026494
         ]
        },
        {
         "hoverinfo": "text",
         "marker": {
          "color": "grey",
          "opacity": 0.4,
          "size": 1.2997002997002998,
          "symbol": "cross-thin"
         },
         "mode": "markers",
         "name": "veit → frau_marthe",
         "showlegend": false,
         "text": "<b>veit → frau_marthe</b>:<br><br>Sei Sie nur ruhig, Frau Marth! Es wird sich alles [...]<br>Wenn Sie sich Recht erstreiten kann, Sie hört's, E[...]<br>Sie hört's! Was geifert Sie? Kann man mehr tun? We[...]<br>",
         "type": "scatter",
         "x": [
          -0.4165855035785953
         ],
         "y": [
          -0.8555359808545663
         ]
        },
        {
         "hoverinfo": "text",
         "marker": {
          "color": "grey",
          "opacity": 0.4,
          "size": 1.8991008991008993,
          "symbol": "cross-thin"
         },
         "mode": "markers",
         "name": "frau_marthe → ruprecht",
         "showlegend": false,
         "text": "<b>frau_marthe → ruprecht</b>:<br><br>Meint Er, daß die Justiz ein Töpfer ist? Und kämen[...]<br>Er, der Ruprecht dort.<br>Halunke! Dir weis ich noch einmal, wenn wir allein[...]<br>Du –! Ich rate dir!<br>Willst du Vater Und Mutter jetzt, mein Evchen, nac[...]<br>Die Nacht von gestern birgt ein anderes Verbrechen[...]<br>Erst will ich hier beweisen, Daß Ruprecht mir den [...]<br>Mithin –?<br>Ist Sie toll, Frau Briggi?<br>",
         "type": "scatter",
         "x": [
          0.46689413464587576
         ],
         "y": [
          -0.4328060199158239
         ]
        },
        {
         "hoverinfo": "text",
         "marker": {
          "color": "grey",
          "opacity": 0.4,
          "size": 1.5994005994005995,
          "symbol": "cross-thin"
         },
         "mode": "markers",
         "name": "ruprecht → frau_marthe",
         "showlegend": false,
         "text": "<b>ruprecht → frau_marthe</b>:<br><br>Folg Er mir. Der Drache! 's ist der zerbrochne Kru[...]<br>Gott schenk dir so viel Wohlergehn, als er Erübrig[...]<br>Sie wird Euch schon auf meinen Namen kommen.<br>Mich mit Ev? Im Garten?<br>Was! Himmel – Tausend –!<br>Ei, wart, du!<br>",
         "type": "scatter",
         "x": [
          -0.5187516753495555
         ],
         "y": [
          -0.33927229731459657
         ]
        },
        {
         "hoverinfo": "text",
         "marker": {
          "color": "grey",
          "opacity": 0.4,
          "size": 2.098901098901099,
          "symbol": "cross-thin"
         },
         "mode": "markers",
         "name": "frau_marthe → eve",
         "showlegend": false,
         "text": "<b>frau_marthe → eve</b>:<br><br>Und stünd die Hochzeit blankgescheuert vor mir, Wi[...]<br>Heut ist Verlobung, Hochzeit, wäre Taufe heute, Es[...]<br>Auf dies Wort Seh ich das Mädchen fragend an; die [...]<br>Eve!<br>Du hättest nicht –?<br>Du hättest mir, o Eve, nicht versichert? Nicht Jos[...]<br>Heraus damit! Hast du's mir nicht gesagt? Hast du'[...]<br>Was soll das? Dreist heraus jetzt mit der Sprache!<br>Wer war's?<br>Eve! Der Ruprecht nicht?<br>Hör, dir zerschlag ich alle Knochen!<br>",
         "type": "scatter",
         "x": [
          0.5426487600820139
         ],
         "y": [
          -0.5000479617168796
         ]
        },
        {
         "hoverinfo": "text",
         "marker": {
          "color": "grey",
          "opacity": 0.4,
          "size": 2.3986013986013983,
          "symbol": "cross-thin"
         },
         "mode": "markers",
         "name": "eve → ruprecht",
         "showlegend": false,
         "text": "<b>eve → ruprecht</b>:<br><br>Ruprecht!<br>Liebster Ruprecht!<br>Ich beschwöre dich.<br>Laß mich ein einz'ges Wort dir heimlich –<br>– Krieg ist's, bedenke, Krieg, in den du ziehst: W[...]<br>–<br>Gab ich die Hand dir nicht, und sagte, ja, Als du [...]<br>Gesetzt, es wär der Leberecht gewesen, Warum – des[...]<br>Den Ruprecht –?<br>Er soll, er, erst nach Utrecht appellieren?<br>Und bis dahin –?<br>Auf, Ruprecht! Der Richter Adam hat den Krug zerbr[...]<br>Hier! Auf!<br>Hast du ihn?<br>",
         "type": "scatter",
         "x": [
          0.03983422732625873
         ],
         "y": [
          -0.9327580581989443
         ]
        },
        {
         "hoverinfo": "text",
         "marker": {
          "color": "grey",
          "opacity": 0.4,
          "size": 2.5984015984015985,
          "symbol": "cross-thin"
         },
         "mode": "markers",
         "name": "ruprecht → eve",
         "showlegend": false,
         "text": "<b>ruprecht → eve</b>:<br><br>Fort du –!<br>Mir aus den Augen!<br>Die lüderliche –! Ich mag nicht sagen, was.<br>Nichts!<br>Ich denke, halt, jetzt ist's noch Zeit, o Ruprecht[...]<br>Ein Viertelstündchen dauert's so, ich denke, Was w[...]<br>Doch Tränen, seht, ersticken mir die Sprache. Denn[...]<br>Laßt doch den Krug, ich bitt Euch; Ich will'n nach[...]<br>Was ich mit Händen greife, glaub ich gern.<br>Ei, so zum Henker, sag's, es ist mir recht, Wenn d[...]<br>Ins Gefängnis mich?<br>In das Gefängnis gehn?<br>Halt ihn!<br<br>[...]",
         "type": "scatter",
         "x": [
          -0.5662027761628462
         ],
         "y": [
          -0.39482252379049887
         ]
        },
        {
         "hoverinfo": "text",
         "marker": {
          "color": "grey",
          "opacity": 0.4,
          "size": 1.6993006993006992,
          "symbol": "cross-thin"
         },
         "mode": "markers",
         "name": "eve → frau_marthe",
         "showlegend": false,
         "text": "<b>eve → frau_marthe</b>:<br><br>Und wär's um ihn geschehn, nehmt meine ganze Sparb[...]<br>Was schwor ich Euch? Was hab ich Euch geschworen? [...]<br>Du Böswicht! Was das, o schändlich ist von dir!<br>O liebste Mutter!<br>O Jesus!<br>Nein, gnäd'ger Herr, weil er's denn selbst so will[...]<br>Nein, Mutter, nein! Und wenn ich's gestern sagte, [...]<br>",
         "type": "scatter",
         "x": [
          0.16303995357568762
         ],
         "y": [
          -0.9444497735240978
         ]
        },
        {
         "hoverinfo": "text",
         "marker": {
          "color": "grey",
          "opacity": 0.4,
          "size": 4.096903096903096,
          "symbol": "cross-thin"
         },
         "mode": "markers",
         "name": "frau_marthe → adam",
         "showlegend": false,
         "text": "<b>frau_marthe → adam</b>:<br><br>Willst du etwa Die Fiedel tragen, Evchen, in der K[...]<br>Hier, Herr Dorfrichter!<br>Wer –?<br>Wer ich –?<br>Ich glaub, Er spaßt, Herr Richter.<br>Ja, hier der Krug –<br>Der zerbrochne –<br>Ja, er, der Schlingel dort –<br>Ich klag, Ihr wißt's, hier wegen dieses Krugs; Jed[...]<br>Seht ihr den Krug, ihr wertgeschätzten Herren? Seh[...]<br>Hier grade auf dem Loch, wo jetzo nichts, Sind die[...]<br>Ihn hatt ein Spanier, gefüllt mit Wein, Just an de[...]<br>Das erstemal, als er im Sechzigsten E<br>[...]",
         "type": "scatter",
         "x": [
          0.5940456014138992
         ],
         "y": [
          -0.33546006421825586
         ]
        },
        {
         "hoverinfo": "text",
         "marker": {
          "color": "grey",
          "opacity": 0.4,
          "size": 2.2987012987012987,
          "symbol": "cross-thin"
         },
         "mode": "markers",
         "name": "adam → eve",
         "showlegend": false,
         "text": "<b>adam → eve</b>:<br><br>Sieh! Und der vierschröt'ge Schlingel, Der Ruprech[...]<br>Evchen!<br>Ein Wort.<br>Was bringt ihr mir?<br>Evchen! Ich bitte dich! Was soll mir das bedeuten?<br>Evchen! Ich flehe dich! Um alle Wunden! Was ist's,[...]<br>Ist's nur der Krug dort, den die Mutter hält, Den [...]<br>Und weiter nichts?<br>Nichts? Gewiß nichts?<br>Hör du, bei Gott, sei klug, ich rat es dir.<br>Sprich, Evchen, war's der Lebrecht nicht, mein Her[...]<br>Wie lange, werd ich noch bestimmen.<br>Verzeiht, ihr Herrn.<br>",
         "type": "scatter",
         "x": [
          0.5781604247493642
         ],
         "y": [
          0.48129107748761313
         ]
        },
        {
         "hoverinfo": "text",
         "marker": {
          "color": "grey",
          "opacity": 0.4,
          "size": 2.898101898101898,
          "symbol": "cross-thin"
         },
         "mode": "markers",
         "name": "eve → adam",
         "showlegend": false,
         "text": "<b>eve → adam</b>:<br><br>O liebste Mutter, folgt mir, ich beschwör Euch, La[...]<br>Geh Er.<br>Ich will nichts wissen.<br>Ich sag Ihm, Er soll gehn.<br>Wenn Er nicht gleich –! Ich sag's Ihm, laß Er mich[...]<br>Er wird's schon hören.<br>Ja, der zerbrochne Krug nur.<br>Nichts weiter.<br>Laß Er mich zufrieden.<br>Er, Unverschämter!<br>Seht, leid tut's in der Tat mir tief zur Seele, Da[...]<br>Beim Schwur nicht! Schwörend nicht! Seht dies jetz[...]<br>Wer leugnet Euch, daß ich's gesagt –<br>Geht, Mutter, mag es werden,<br>[...]",
         "type": "scatter",
         "x": [
          0.1669856940942821
         ],
         "y": [
          -0.8354121025013763
         ]
        },
        {
         "hoverinfo": "text",
         "marker": {
          "color": "grey",
          "opacity": 0.4,
          "size": 1.2997002997002998,
          "symbol": "cross-thin"
         },
         "mode": "markers",
         "name": "licht → frau_marthe",
         "showlegend": false,
         "text": "<b>licht → frau_marthe</b>:<br><br>Laßt doch die sonderbare Frag –<br>Das ist ja seltsam.<br>Sie hing gespießt, Gleich einem Nest, im Kreuzgefl[...]<br>",
         "type": "scatter",
         "x": [
          0.21654709319036358
         ],
         "y": [
          0.05887415153964645
         ]
        },
        {
         "hoverinfo": "text",
         "marker": {
          "color": "grey",
          "opacity": 0.4,
          "size": 2.698301698301698,
          "symbol": "cross-thin"
         },
         "mode": "markers",
         "name": "frau_marthe → walter",
         "showlegend": false,
         "text": "<b>frau_marthe → walter</b>:<br><br>Ihr guckt Mir alle Sonntag in die Fenster ja, Wenn[...]<br>– Wenn ich nicht reden soll, Herr Richter Adam, So[...]<br>Wieviel ihr brauchen möget, hier zu richten, Das w[...]<br>Ganz blieb der Krug, ganz in der Flammen Mitte, Un[...]<br>Beispiele gibt's, daß ein verlorner Mensch, Um vor[...]<br>Mein Fenster?<br>Ich denk er nennt mein guter Freund sich noch. Doc[...]<br>Was?<br>Er bat sich Samen Bei mir, von Nelken und Aurikeln[...]<br>Ja, da – da guckt er mir ins Fenster wohl, Und sag[...]<br<br>[...]",
         "type": "scatter",
         "x": [
          0.4740573268182982
         ],
         "y": [
          -0.37174505291976084
         ]
        },
        {
         "hoverinfo": "text",
         "marker": {
          "color": "grey",
          "opacity": 0.4,
          "size": 5.095904095904096,
          "symbol": "cross-thin"
         },
         "mode": "markers",
         "name": "adam → ruprecht",
         "showlegend": false,
         "text": "<b>adam → ruprecht</b>:<br><br>Mehr brauch ich nicht.<br>Auf, aufgelebt, du alter Adam!<br>Da habt ihr's.<br>Beklagter trete vor.<br>Vernahm Er dort, was vor Gericht soeben Frau Marth[...]<br>Getraut Er sich Etwas dagegen aufzubringen, was? B[...]<br>So? Und das denkt Er zu beweisen?<br>Was glotzt Er da? Was hat Er aufzubringen? Steht n[...]<br>Gakeln! Was! Ich sagte, willst du? Und sie sagte, [...]<br>Na, hat er bald sich ausgesagt?<br>So? Einer noch? Und wer, Er Klugschwätzer?<br>So? Lebrecht heißt der Kerl?<br>Sprich w<br>[...]",
         "type": "scatter",
         "x": [
          0.502405799313226
         ],
         "y": [
          0.5485330192886688
         ]
        },
        {
         "hoverinfo": "text",
         "marker": {
          "color": "grey",
          "opacity": 0.4,
          "size": 5.295704295704296,
          "symbol": "cross-thin"
         },
         "mode": "markers",
         "name": "ruprecht → adam",
         "showlegend": false,
         "text": "<b>ruprecht → adam</b>:<br><br>Das ist nicht wahr, Herr Richter.<br>Das lügt sie in den Hals hinein –<br>Das ist gelogen, Herr Richter.<br>Da hört ihr's.<br>Die Metze, die!<br>Ruprecht, Veits des Kossäten Sohn, aus Huisum.<br>Ja, Herr Dorfrichter, das hab ich.<br>Was ich dagegen aufzubringen habe, Herr Richter? E[...]<br>O ja.<br>Denn heuren wollt ich sie, das müßt ihr wissen, Ei[...]<br>Wir schwatzen noch am Fenster was zusammen. Na, sa[...]<br>Ei, alle Wetter, denk ich, Ruprecht, Schlag! Nun i[...]<br>Sieh da! Da ist di<br>[...]",
         "type": "scatter",
         "x": [
          -0.5148059348309609
         ],
         "y": [
          -0.23023462629187513
         ]
        },
        {
         "hoverinfo": "text",
         "marker": {
          "color": "grey",
          "opacity": 0.4,
          "size": 2.998001998001998,
          "symbol": "cross-thin"
         },
         "mode": "markers",
         "name": "walter → frau_marthe",
         "showlegend": false,
         "text": "<b>walter → frau_marthe</b>:<br><br>Wenn Ihr uns sagt, Daß jener Krug Euch wert, so wi[...]<br>Zum Schluß jetzt. Was geschah dem Krug? Was? – Was[...]<br>Nun kennen wir den Krug. Nun wissen Wir alles, was[...]<br>Nicht doch, Herr Richter, nicht! Wer wollte den Pa[...]<br>Was sagt zu der Erklärung Sie, Frau Marthe?<br>Ruhig, ruhig, Frau Marthe.<br>Vom Krug ist hier die Rede. – Beweis, Beweis, daß [...]<br>– Wie hoch ist Euer Fenster – dort! Frau Marthe.<br>Das Fenster jener Kammer, ja, Worin die Jungfer sc[...]<br>Frau Marthe! <br>[...]",
         "type": "scatter",
         "x": [
          -0.4542829457977535
         ],
         "y": [
          0.2102764056499707
         ]
        },
        {
         "hoverinfo": "text",
         "marker": {
          "color": "grey",
          "opacity": 0.4,
          "size": 1.1998001998001997,
          "symbol": "cross-thin"
         },
         "mode": "markers",
         "name": "adam → veit",
         "showlegend": false,
         "text": "<b>adam → veit</b>:<br><br>Schreibt auf.<br>O wart, Halunke! – He! Der Büttel! Hanfried! – Den[...]<br>",
         "type": "scatter",
         "x": [
          0.513757596176666
         ],
         "y": [
          0.4911703877842277
         ]
        },
        {
         "hoverinfo": "text",
         "marker": {
          "color": "grey",
          "opacity": 0.4,
          "size": 1.2997002997002998,
          "symbol": "cross-thin"
         },
         "mode": "markers",
         "name": "veit → walter",
         "showlegend": false,
         "text": "<b>veit → walter</b>:<br><br>Pfui, schäm Sie sich.<br>Nach Utrecht? Ja, nach Utrecht! Du hast geeilt, na[...]<br>– Ich war daheim, als sich der Krug zerschlug, Und[...]<br>",
         "type": "scatter",
         "x": [
          -0.5326280376556017
         ],
         "y": [
          -0.7827832985333498
         ]
        },
        {
         "hoverinfo": "text",
         "marker": {
          "color": "grey",
          "opacity": 0.4,
          "size": 2.3986013986013983,
          "symbol": "cross-thin"
         },
         "mode": "markers",
         "name": "ruprecht → walter",
         "showlegend": false,
         "text": "<b>ruprecht → walter</b>:<br><br>Was ich aufzubringen?<br>Mein Seel, wenn man zu Wort mich kommen ließe.<br>Ja, meiner Treu, Herr Richter.<br>Das Rabenaas! Was das für Reden sind! Zu Kist' und[...]<br>Die Muhme ist zu Hause.<br>Die wird sogleich erscheinen.<br>Mithin –?<br>Ei, solch ein Donnerwetter – Kerl!<br>Eve, sprich, ist er's?<br>Ei, du Blitz-Pferdefuß!<br>Heut streust du keinen Sand mir in die Augen.<br>Was? Ich –?<br>Gotts Schlag und Wetter! Es ist sein Mantel bloß!<br>Und Ratz! Und Ratz! Noch eins. Und noch eins! I<br>[...]",
         "type": "scatter",
         "x": [
          -0.634794209426562
         ],
         "y": [
          -0.2665196149933801
         ]
        },
        {
         "hoverinfo": "text",
         "marker": {
          "color": "grey",
          "opacity": 0.4,
          "size": 2.2987012987012987,
          "symbol": "cross-thin"
         },
         "mode": "markers",
         "name": "walter → ruprecht",
         "showlegend": false,
         "text": "<b>walter → ruprecht</b>:<br><br>Er ja, Er soll den Hergang jetzt erzählen.<br>'s ist in der Tat, Herr Richter, nicht zu dulden.<br>Weiter! Weiter!<br>Drauf weiter?<br>Fort! Weiter in der Rede! Laßt ihn doch! Was unter[...]<br>Sehr sonderbar, bei Gott!<br>Schafft diese Frau herbei.<br>Laßt sein.<br>Vom Fenster, als Er nach ihm herunterhieb?<br>Zweimal! Er konnt ihn mit zwei solchen Hieben Ersc[...]<br>Konnt Er ihn denn im Dunkeln nicht erkennen?<br>Fort! Ruft den Büttel!<br>Verloren? Warum das?<br>",
         "type": "scatter",
         "x": [
          -0.5774886720471823
         ],
         "y": [
          0.2219681209751241
         ]
        },
        {
         "hoverinfo": "text",
         "marker": {
          "color": "grey",
          "opacity": 0.4,
          "size": 1.2997002997002998,
          "symbol": "cross-thin"
         },
         "mode": "markers",
         "name": "ruprecht → licht",
         "showlegend": false,
         "text": "<b>ruprecht → licht</b>:<br><br>Ein Degen!<br>Der Teufel, meint Sie, wär's –?<br>Was! Ich!<br>",
         "type": "scatter",
         "x": [
          -0.5602575384278823
         ],
         "y": [
          -0.28334208767230507
         ]
        },
        {
         "hoverinfo": "text",
         "marker": {
          "color": "grey",
          "opacity": 0.4,
          "size": 1.1998001998001997,
          "symbol": "cross-thin"
         },
         "mode": "markers",
         "name": "licht → ruprecht",
         "showlegend": false,
         "text": "<b>licht → ruprecht</b>:<br><br>So! So!<br>Dem Ruprecht?<br>",
         "type": "scatter",
         "x": [
          0.0933413669409347
         ],
         "y": [
          0.07056586686479988
         ]
        },
        {
         "hoverinfo": "text",
         "marker": {
          "color": "grey",
          "opacity": 0.4,
          "size": 1.1998001998001997,
          "symbol": "cross-thin"
         },
         "mode": "markers",
         "name": "adam → adam",
         "showlegend": false,
         "text": "<b>adam → adam</b>:<br><br>He! Lies' –! – Erlaubt! Die Zunge wird sehr trocke[...]<br>Franz? oder Mos'ler? Was Ihr wollt.<br>",
         "type": "scatter",
         "x": [
          0.6295572660812495
         ],
         "y": [
          0.6458789749862368
         ]
        },
        {
         "hoverinfo": "text",
         "marker": {
          "color": "grey",
          "opacity": 0.4,
          "size": 2.198801198801199,
          "symbol": "cross-thin"
         },
         "mode": "markers",
         "name": "eve → walter",
         "showlegend": false,
         "text": "<b>eve → walter</b>:<br><br>O du Abscheulicher! Du Undankbarer! Wert, daß ich [...]<br>Tut, was Ihr wollt.<br>Er Unverschämter, Er! Er Niederträcht'ger! Wie kan[...]<br>Er, austreten!<br>Ins Eisen?<br>Den Hals ins Eisen stecken? Seid Ihr auch Richter?[...]<br>Er, ja! Auf, Ruprecht! Er war bei deiner Eve geste[...]<br>Herr! Wenn Ihr jetzt nicht helft, sind wir verlore[...]<br>Errettet Ruprecht von der Konskription! Denn diese[...]<br>Nach Bantam, gnäd'ger Herr; verleugnet's nicht! Hi[...]<br>Falsch?<br>Nein, nimmermehr,<br>[...]",
         "type": "scatter",
         "x": [
          0.046997419498681164
         ],
         "y": [
          -0.8716970912028813
         ]
        },
        {
         "hoverinfo": "text",
         "marker": {
          "color": "grey",
          "opacity": 0.4,
          "size": 2.098901098901099,
          "symbol": "cross-thin"
         },
         "mode": "markers",
         "name": "walter → eve",
         "showlegend": false,
         "text": "<b>walter → eve</b>:<br><br>Der Ruprecht also war es nicht?<br>Jungfer! Was untersteht Sie sich? Ist das mir der [...]<br>– Sei dreist, mein Kind; sag, wer den Krug zerschl[...]<br>Still!<br>Geschlossen ist die Session. Und Ruprecht appellie[...]<br>Zum Henker, ja! Und bis dahin –<br>Du hörst's, zum Teufel! Schweig! Ihm bis dahin krü[...]<br>Halt dort! Wer hier Unordnungen –<br>Was! Nach Ostindien! Bist du bei Sinnen?<br>O unerhört, arglistiger Betrug! – Der Brief ist fa[...]<br>Bei meiner Ehre! Und zum Beweise meines <br>[...]",
         "type": "scatter",
         "x": [
          -0.5017340466110443
         ],
         "y": [
          0.15472617917406842
         ]
        },
        {
         "hoverinfo": "text",
         "marker": {
          "color": "grey",
          "opacity": 0.4,
          "size": 1.6993006993006992,
          "symbol": "cross-thin"
         },
         "mode": "markers",
         "name": "ruprecht → veit",
         "showlegend": false,
         "text": "<b>ruprecht → veit</b>:<br><br>Wer hat mich –?<br>Weshalb auch?<br>Und bei den Beinen sie meinthalb dazu.<br>Geheimnis! Welches?<br>Die Sachen?<br>Weil ich nach Utrecht soll! Glaubt Er, daß ich –?<br>Laß, laß den Pferdehuf, mein süßes Kind! Sieh, hät[...]<br>",
         "type": "scatter",
         "x": [
          -0.6306056047355444
         ],
         "y": [
          -0.3849432134938842
         ]
        },
        {
         "hoverinfo": "text",
         "marker": {
          "color": "grey",
          "opacity": 0.4,
          "size": 1.7992007992007992,
          "symbol": "cross-thin"
         },
         "mode": "markers",
         "name": "veit → ruprecht",
         "showlegend": false,
         "text": "<b>veit → ruprecht</b>:<br><br>Schwester Briggi?<br>Hör, du verfluchter Schlingel, du, was machst du? [...]<br>Warum verschwiegst du, daß du mit der Dirne Glock [...]<br>'s ist irgend Ein schändliches Geheimnis noch, von[...]<br>Warum hast du eingepackt? He? Warum hast du gester[...]<br>Röcke, Hosen, ja, und Wäsche; Ein Bündel, wie's ei[...]<br>Halt's Maul, sag ich.<br>Sei ruhig, du vertrackter Schlingel!<br>",
         "type": "scatter",
         "x": [
          -0.5397912298280242
         ],
         "y": [
          -0.8438442655294128
         ]
        },
        {
         "hoverinfo": "text",
         "marker": {
          "color": "grey",
          "opacity": 0.4,
          "size": 1.4995004995004995,
          "symbol": "cross-thin"
         },
         "mode": "markers",
         "name": "walter → veit",
         "showlegend": false,
         "text": "<b>walter → veit</b>:<br><br>Weiß Er zur Sache was zu melden, Vater?<br>Geschwätz, wahnsinniges, verdammenswürd'ges –!<br>Was untersteht der Unverschämte sich?<br>Heda! der Büttel!<br>Er ungezogner Mensch! – Schafft hier mir Ordnung! [...]<br>",
         "type": "scatter",
         "x": [
          -0.5661368751837423
         ],
         "y": [
          0.16460548947068304
         ]
        },
        {
         "hoverinfo": "text",
         "marker": {
          "color": "grey",
          "opacity": 0.4,
          "size": 1.3996003996003996,
          "symbol": "cross-thin"
         },
         "mode": "markers",
         "name": "adam → frau_brigitte",
         "showlegend": false,
         "text": "<b>adam → frau_brigitte</b>:<br><br>Gnäd'ger Herr, Als jener Bursche dort, vergangnen [...]<br>Hier zu mir?<br>Sollt er vielleicht hier durchpassiert –?<br>Was für ein feierlicher –?<br>",
         "type": "scatter",
         "x": [
          0.6279239788401342
         ],
         "y": [
          0.576205813801428
         ]
        },
        {
         "hoverinfo": "text",
         "marker": {
          "color": "grey",
          "opacity": 0.4,
          "size": 1.0999000999000998,
          "symbol": "cross-thin"
         },
         "mode": "markers",
         "name": "frau_brigitte → frau_marthe",
         "showlegend": false,
         "text": "<b>frau_brigitte → frau_marthe</b>:<br><br>Denn da ich gestern nacht Hinaus aufs Vorwerk geh,[...]<br>",
         "type": "scatter",
         "x": [
          0.6109119403926175
         ],
         "y": [
          -0.09021714669976336
         ]
        },
        {
         "hoverinfo": "text",
         "marker": {
          "color": "grey",
          "opacity": 0.4,
          "size": 1.7992007992007992,
          "symbol": "cross-thin"
         },
         "mode": "markers",
         "name": "walter → frau_brigitte",
         "showlegend": false,
         "text": "<b>walter → frau_brigitte</b>:<br><br>Schweigt! Laßt die Frau vollenden.<br>Blödsinnig Volk, das!<br>Nun? Und jetzt fand sich –?<br>Drauf weiter?<br>Ein Denkmal? Wie?<br>Wohin die Spur Euch führte, will ich wissen!<br>Zu uns? Hierher?<br>Macht, sag ich, gleich ein Ende.<br>",
         "type": "scatter",
         "x": [
          -0.4519704925202743
         ],
         "y": [
          0.24964091548788336
         ]
        },
        {
         "hoverinfo": "text",
         "marker": {
          "color": "grey",
          "opacity": 0.4,
          "size": 1.2997002997002998,
          "symbol": "cross-thin"
         },
         "mode": "markers",
         "name": "frau_brigitte → ruprecht",
         "showlegend": false,
         "text": "<b>frau_brigitte → ruprecht</b>:<br><br>Ich sprech ein Gottseibeiuns aus, und drehe Entset[...]<br>Zu Euch, ja.<br>Ei, der nichtswürdig-schändliche Betrüger<br>",
         "type": "scatter",
         "x": [
          0.48770621414318865
         ],
         "y": [
          -0.07852543137460993
         ]
        },
        {
         "hoverinfo": "text",
         "marker": {
          "color": "grey",
          "opacity": 0.4,
          "size": 1.4995004995004995,
          "symbol": "cross-thin"
         },
         "mode": "markers",
         "name": "licht → frau_brigitte",
         "showlegend": false,
         "text": "<b>licht → frau_brigitte</b>:<br><br>Still! Still!<br>Daß es der Teufel war, behaupt ich nicht; Jedoch m[...]<br>Schweigt! Schweigt!<br>Vollendet – mit Erlaubnis! – den Bericht, Ihr Frau[...]<br>Vornaus, verzeihn Euer Gnaden, keine Spur.<br>",
         "type": "scatter",
         "x": [
          0.2188595464678428
         ],
         "y": [
          0.09823866137755911
         ]
        },
        {
         "hoverinfo": "text",
         "marker": {
          "color": "grey",
          "opacity": 0.4,
          "size": 1.999000999000999,
          "symbol": "cross-thin"
         },
         "mode": "markers",
         "name": "frau_brigitte → walter",
         "showlegend": false,
         "text": "<b>frau_brigitte → walter</b>:<br><br>Mein Seel! Ich weiß, was ich gesehen und gerochen.<br>Doch der Herr Schreiber Licht sind mir ein Zeuge.<br>Da ich nun mit Erstaunen heut vernehme, Was bei Fr[...]<br>Herr Schreiber Licht, sag ich, denn eben seh ich H[...]<br>Gut, sagt er, Frau Brigitt, ein guter Einfall; Vie[...]<br>Zuerst jetzt finden wir Jenseits des Gartens, in d[...]<br>Nicht weit davon jetzt steht ein Denkmal seiner, A[...]<br>Wohin? Mein Treu, den nächsten Weg zu euch, Just w[...]<br>Vom Lindengange, ja, Aufs Schulzenf<br>[...]",
         "type": "scatter",
         "x": [
          0.4948694063156111
         ],
         "y": [
          -0.017464464378546898
         ]
        },
        {
         "hoverinfo": "text",
         "marker": {
          "color": "grey",
          "opacity": 0.4,
          "size": 1.0999000999000998,
          "symbol": "cross-thin"
         },
         "mode": "markers",
         "name": "veit → frau_brigitte",
         "showlegend": false,
         "text": "<b>veit → frau_brigitte</b>:<br><br>Es ist nicht möglich, Frau!<br>",
         "type": "scatter",
         "x": [
          -0.41427305030111605
         ],
         "y": [
          -0.8161714710166537
         ]
        },
        {
         "hoverinfo": "text",
         "marker": {
          "color": "grey",
          "opacity": 0.4,
          "size": 1.5994005994005995,
          "symbol": "cross-thin"
         },
         "mode": "markers",
         "name": "frau_brigitte → adam",
         "showlegend": false,
         "text": "<b>frau_brigitte → adam</b>:<br><br>Bei meiner Treu! Erst am Spalier, da, wo der Sprun[...]<br>Wie? Ja, da werdet Ihr –<br>Mein Treu, ich weiß nicht, Ob er in diesem Hause w[...]<br>Ja, vornaus war der Weg zertreten.<br>Den einz'gen Skrupel nur, ihr würd'gen Herrn, Mach[...]<br>Hier, die Perücke! Wer sah den Teufel je in solche[...]<br>",
         "type": "scatter",
         "x": [
          0.6148576809112121
         ],
         "y": [
          0.018820524322958075
         ]
        },
        {
         "hoverinfo": "text",
         "marker": {
          "color": "grey",
          "opacity": 0.4,
          "size": 1.0999000999000998,
          "symbol": "cross-thin"
         },
         "mode": "markers",
         "name": "ruprecht → frau_brigitte",
         "showlegend": false,
         "text": "<b>ruprecht → frau_brigitte</b>:<br><br>Wird doch der Teufel nicht In dem Gerichtshof wohn[...]<br>",
         "type": "scatter",
         "x": [
          -0.5164392220720763
         ],
         "y": [
          -0.2999077874766839
         ]
        },
        {
         "hoverinfo": "text",
         "marker": {
          "color": "grey",
          "opacity": 0.4,
          "size": 1.0999000999000998,
          "symbol": "cross-thin"
         },
         "mode": "markers",
         "name": "veit → adam",
         "showlegend": false,
         "text": "<b>veit → adam</b>:<br><br>Schweig du, sag ich.<br>",
         "type": "scatter",
         "x": [
          -0.41263976306000083
         ],
         "y": [
          -0.7464983098318448
         ]
        },
        {
         "hoverinfo": "text",
         "marker": {
          "color": "grey",
          "opacity": 0.4,
          "size": 1.0999000999000998,
          "symbol": "cross-thin"
         },
         "mode": "markers",
         "name": "frau_marthe → frau_brigitte",
         "showlegend": false,
         "text": "<b>frau_marthe → frau_brigitte</b>:<br><br>Er?<br>",
         "type": "scatter",
         "x": [
          0.5924123141727838
         ],
         "y": [
          -0.4051332254030646
         ]
        },
        {
         "hoverinfo": "text",
         "marker": {
          "color": "grey",
          "opacity": 0.4,
          "size": 1.0999000999000998,
          "symbol": "cross-thin"
         },
         "mode": "markers",
         "name": "frau_brigitte → eve",
         "showlegend": false,
         "text": "<b>frau_brigitte → eve</b>:<br><br>Der dort?<br>",
         "type": "scatter",
         "x": [
          0.5634608395793268
         ],
         "y": [
          -0.14576737317566563
         ]
        },
        {
         "hoverinfo": "text",
         "marker": {
          "color": "grey",
          "opacity": 0.4,
          "size": 1.0999000999000998,
          "symbol": "cross-thin"
         },
         "mode": "markers",
         "name": "licht → eve",
         "showlegend": false,
         "text": "<b>licht → eve</b>:<br><br>Die Ordre! Was! Der Sünder, der! Ein Wisch, Den er[...]<br>",
         "type": "scatter",
         "x": [
          0.16909599237707282
         ],
         "y": [
          0.003323925063744182
         ]
        },
        {
         "hoverinfo": "text",
         "marker": {
          "color": "grey",
          "opacity": 0.4,
          "size": 1.0999000999000998,
          "symbol": "cross-thin"
         },
         "mode": "markers",
         "name": "eve → frau_brigitte",
         "showlegend": false,
         "text": "<b>eve → frau_brigitte</b>:<br><br>O Himmel! Wie belog der Böswicht mich! Denn mit de[...]<br>",
         "type": "scatter",
         "x": [
          0.16535240685316682
         ],
         "y": [
          -0.9050852636861851
         ]
        },
        {
         "hoverinfo": "text",
         "marker": {
          "color": "grey",
          "opacity": 0.4,
          "size": 1.0999000999000998,
          "symbol": "cross-thin"
         },
         "mode": "markers",
         "name": "veit → licht",
         "showlegend": false,
         "text": "<b>veit → licht</b>:<br><br>Das sag ich auch! Küßt und versöhnt und liebt euch[...]<br>",
         "type": "scatter",
         "x": [
          -0.45809136665692207
         ],
         "y": [
          -0.7996057712122747
         ]
        },
        {
         "hoverinfo": "text",
         "marker": {
          "color": "grey",
          "opacity": 0.4,
          "size": 1.0999000999000998,
          "symbol": "cross-thin"
         },
         "mode": "markers",
         "name": "licht → mehrere",
         "showlegend": false,
         "text": "<b>licht → mehrere</b>:<br><br>Allerdings!<br>",
         "type": "scatter",
         "x": [
          0.14631184229232042
         ],
         "y": [
          0.06481346635740143
         ]
        },
        {
         "hoverinfo": "text",
         "marker": {
          "color": "grey",
          "opacity": 0.4,
          "size": 1.0999000999000998,
          "symbol": "cross-thin"
         },
         "mode": "markers",
         "name": "mehrere → walter",
         "showlegend": false,
         "text": "<b>mehrere → walter</b>:<br><br>Seht! seht! Wie die Perücke ihm den Rücken peitsch[...]<br>",
         "type": "scatter",
         "x": [
          -0.1580599312640904
         ],
         "y": [
          -0.31829121955996603
         ]
        },
        {
         "hoverinfo": "text",
         "legendgroup": "licht",
         "marker": {
          "color": "black",
          "opacity": 1,
          "size": 30
         },
         "mode": "markers+text",
         "opacity": 1,
         "showlegend": false,
         "text": "licht",
         "textfont": {
          "size": 15
         },
         "textposition": "top center",
         "type": "scatter",
         "x": [
          0.17504123011203682
         ],
         "y": [
          0.11480436118193799
         ]
        },
        {
         "hoverinfo": "text",
         "legendgroup": "adam",
         "marker": {
          "color": "black",
          "opacity": 1,
          "size": 39
         },
         "mode": "markers+text",
         "opacity": 1,
         "showlegend": false,
         "text": "adam",
         "textfont": {
          "size": 18
         },
         "textposition": "top center",
         "type": "scatter",
         "x": [
          0.6295572660812494
         ],
         "y": [
          0.6458789749862368
         ]
        },
        {
         "hoverinfo": "text",
         "legendgroup": "der_bediente",
         "marker": {
          "color": "black",
          "opacity": 1,
          "size": 9
         },
         "mode": "markers+text",
         "opacity": 1,
         "showlegend": false,
         "text": "der_bediente",
         "textfont": {
          "size": 8
         },
         "textposition": "top center",
         "type": "scatter",
         "x": [
          0.20936922961815
         ],
         "y": [
          0.5673716925352734
         ]
        },
        {
         "hoverinfo": "text",
         "legendgroup": "erste_magd",
         "marker": {
          "color": "black",
          "opacity": 1,
          "size": 9
         },
         "mode": "markers+text",
         "opacity": 1,
         "showlegend": false,
         "text": "erste_magd",
         "textfont": {
          "size": 8
         },
         "textposition": "top center",
         "type": "scatter",
         "x": [
          -0.11459582455032181
         ],
         "y": [
          0.010155719219624914
         ]
        },
        {
         "hoverinfo": "text",
         "legendgroup": "zweite_magd",
         "marker": {
          "color": "black",
          "opacity": 1,
          "size": 9
         },
         "mode": "markers+text",
         "opacity": 1,
         "showlegend": false,
         "text": "zweite_magd",
         "textfont": {
          "size": 8
         },
         "textposition": "top center",
         "type": "scatter",
         "x": [
          -0.2864549684734171
         ],
         "y": [
          0.5612516479217673
         ]
        },
        {
         "hoverinfo": "text",
         "legendgroup": "walter",
         "marker": {
          "color": "black",
          "opacity": 1,
          "size": 24
         },
         "mode": "markers+text",
         "opacity": 1,
         "showlegend": false,
         "text": "walter",
         "textfont": {
          "size": 13
         },
         "textposition": "top center",
         "type": "scatter",
         "x": [
          -0.5703254798747599
         ],
         "y": [
          0.28302908797118714
         ]
        },
        {
         "hoverinfo": "text",
         "legendgroup": "der_buettel",
         "marker": {
          "color": "black",
          "opacity": 1,
          "size": 6
         },
         "mode": "markers+text",
         "opacity": 1,
         "showlegend": false,
         "text": "der_buettel",
         "textfont": {
          "size": 7
         },
         "textposition": "top center",
         "type": "scatter",
         "x": [
          -0.07885507759204025
         ],
         "y": [
          0.9267509543735245
         ]
        },
        {
         "hoverinfo": "text",
         "legendgroup": "frau_marthe",
         "marker": {
          "color": "black",
          "opacity": 1,
          "size": 21
         },
         "mode": "markers+text",
         "opacity": 1,
         "showlegend": false,
         "text": "frau_marthe",
         "textfont": {
          "size": 12
         },
         "textposition": "top center",
         "type": "scatter",
         "x": [
          0.5900998608953046
         ],
         "y": [
          -0.4444977352409773
         ]
        },
        {
         "hoverinfo": "text",
         "legendgroup": "veit",
         "marker": {
          "color": "black",
          "opacity": 1,
          "size": 21
         },
         "mode": "markers+text",
         "opacity": 1,
         "showlegend": false,
         "text": "veit",
         "textfont": {
          "size": 12
         },
         "textposition": "top center",
         "type": "scatter",
         "x": [
          -0.5284394329645842
         ],
         "y": [
          -0.9012068970338539
         ]
        },
        {
         "hoverinfo": "text",
         "legendgroup": "ruprecht",
         "marker": {
          "color": "black",
          "opacity": 1,
          "size": 24
         },
         "mode": "markers+text",
         "opacity": 1,
         "showlegend": false,
         "text": "ruprecht",
         "textfont": {
          "size": 13
         },
         "textposition": "top center",
         "type": "scatter",
         "x": [
          -0.6419574015989843
         ],
         "y": [
          -0.3275805819894431
         ]
        },
        {
         "hoverinfo": "text",
         "legendgroup": "eve",
         "marker": {
          "color": "black",
          "opacity": 1,
          "size": 18
         },
         "mode": "markers+text",
         "opacity": 1,
         "showlegend": false,
         "text": "eve",
         "textfont": {
          "size": 11
         },
         "textposition": "top center",
         "type": "scatter",
         "x": [
          0.11558885276239685
         ],
         "y": [
          -1
         ]
        },
        {
         "hoverinfo": "text",
         "legendgroup": "frau_brigitte",
         "marker": {
          "color": "black",
          "opacity": 1,
          "size": 18
         },
         "mode": "markers+text",
         "opacity": 1,
         "showlegend": false,
         "text": "frau_brigitte",
         "textfont": {
          "size": 11
         },
         "textposition": "top center",
         "type": "scatter",
         "x": [
          0.6132243936700967
         ],
         "y": [
          -0.05085263686185068
         ]
        },
        {
         "hoverinfo": "text",
         "legendgroup": "mehrere",
         "marker": {
          "color": "black",
          "opacity": 1,
          "size": 6
         },
         "mode": "markers+text",
         "opacity": 1,
         "showlegend": false,
         "text": "mehrere",
         "textfont": {
          "size": 7
         },
         "textposition": "top center",
         "type": "scatter",
         "x": [
          -0.11225264808512714
         ],
         "y": [
          -0.3851045870634275
         ]
        }
       ],
       "layout": {
        "annotations": [
         {
          "arrowcolor": "grey",
          "arrowhead": 4,
          "arrowsize": 0.6,
          "arrowwidth": 10.79020979020979,
          "ax": 0.1886767111911132,
          "axref": "x",
          "ay": 0.13073659959606698,
          "ayref": "y",
          "opacity": 0.3,
          "showarrow": true,
          "text": "",
          "x": 0.6159217850021731,
          "xref": "x",
          "y": 0.6299467365721079,
          "yref": "y"
         },
         {
          "arrowcolor": "grey",
          "arrowhead": 4,
          "arrowsize": 0.6,
          "arrowwidth": 11.48951048951049,
          "ax": 0.6159217850021731,
          "axref": "x",
          "ay": 0.6299467365721079,
          "ayref": "y",
          "opacity": 0.3,
          "showarrow": true,
          "text": "",
          "x": 0.1886767111911132,
          "xref": "x",
          "y": 0.13073659959606695,
          "yref": "y"
         },
         {
          "arrowcolor": "grey",
          "arrowhead": 4,
          "arrowsize": 0.6,
          "arrowwidth": 1.3996003996003996,
          "ax": 0.6169516249873565,
          "axref": "x",
          "ay": 0.643523756512708,
          "ayref": "y",
          "opacity": 0.3,
          "showarrow": true,
          "text": "",
          "x": 0.22197487071204297,
          "xref": "x",
          "y": 0.5697269110088022,
          "yref": "y"
         },
         {
          "arrowcolor": "grey",
          "arrowhead": 4,
          "arrowsize": 0.6,
          "arrowwidth": 1.6993006993006992,
          "ax": 0.22197487071204297,
          "axref": "x",
          "ay": 0.5697269110088022,
          "ayref": "y",
          "opacity": 0.3,
          "showarrow": true,
          "text": "",
          "x": 0.6169516249873565,
          "xref": "x",
          "y": 0.6435237565127079,
          "yref": "y"
         },
         {
          "arrowcolor": "grey",
          "arrowhead": 4,
          "arrowsize": 0.6,
          "arrowwidth": 1.4995004995004995,
          "ax": 0.17607107009722023,
          "axref": "x",
          "ay": 0.12838138112253805,
          "ayref": "y",
          "opacity": 0.3,
          "showarrow": true,
          "text": "",
          "x": 0.20833938963296658,
          "xref": "x",
          "y": 0.5537946725946733,
          "yref": "y"
         },
         {
          "arrowcolor": "grey",
          "arrowhead": 4,
          "arrowsize": 0.6,
          "arrowwidth": 1.8991008991008993,
          "ax": 0.6072326733623022,
          "axref": "x",
          "ay": 0.6268072773132385,
          "ayref": "y",
          "opacity": 0.3,
          "showarrow": true,
          "text": "",
          "x": -0.09227123183137467,
          "xref": "x",
          "y": 0.029227416892623266,
          "yref": "y"
         },
         {
          "arrowcolor": "grey",
          "arrowhead": 4,
          "arrowsize": 0.6,
          "arrowwidth": 1.0999000999000998,
          "ax": -0.10590671291045105,
          "axref": "x",
          "ay": 0.013295178478494308,
          "ayref": "y",
          "opacity": 0.3,
          "showarrow": true,
          "text": "",
          "x": 0.16635211847216605,
          "xref": "x",
          "y": 0.11166490192306859,
          "yref": "y"
         },
         {
          "arrowcolor": "grey",
          "arrowhead": 4,
          "arrowsize": 0.6,
          "arrowwidth": 1.1998001998001997,
          "ax": 0.1611963441544732,
          "axref": "x",
          "ay": 0.12819777978413288,
          "ayref": "y",
          "opacity": 0.3,
          "showarrow": true,
          "text": "",
          "x": -0.2726100825158535,
          "xref": "x",
          "y": 0.5478582293195724,
          "yref": "y"
         },
         {
          "arrowcolor": "grey",
          "arrowhead": 4,
          "arrowsize": 0.6,
          "arrowwidth": 1.0999000999000998,
          "ax": -0.2726100825158535,
          "axref": "x",
          "ay": 0.5478582293195724,
          "ayref": "y",
          "opacity": 0.3,
          "showarrow": true,
          "text": "",
          "x": 0.1611963441544732,
          "xref": "x",
          "y": 0.12819777978413288,
          "yref": "y"
         },
         {
          "arrowcolor": "grey",
          "arrowhead": 4,
          "arrowsize": 0.6,
          "arrowwidth": 1.7992007992007992,
          "ax": -0.09227123183137466,
          "axref": "x",
          "ay": 0.029227416892623287,
          "ayref": "y",
          "opacity": 0.3,
          "showarrow": true,
          "text": "",
          "x": 0.6072326733623022,
          "xref": "x",
          "y": 0.6268072773132385,
          "yref": "y"
         },
         {
          "arrowcolor": "grey",
          "arrowhead": 4,
          "arrowsize": 0.6,
          "arrowwidth": 1.999000999000999,
          "ax": 0.6020768990446094,
          "axref": "x",
          "ay": 0.6433401551743028,
          "ayref": "y",
          "opacity": 0.3,
          "showarrow": true,
          "text": "",
          "x": -0.25897460143677714,
          "xref": "x",
          "y": 0.5637904677337013,
          "yref": "y"
         },
         {
          "arrowcolor": "grey",
          "arrowhead": 4,
          "arrowsize": 0.6,
          "arrowwidth": 2.098901098901099,
          "ax": -0.2589746014367771,
          "axref": "x",
          "ay": 0.5637904677337013,
          "ayref": "y",
          "opacity": 0.3,
          "showarrow": true,
          "text": "",
          "x": 0.6020768990446095,
          "xref": "x",
          "y": 0.6433401551743028,
          "yref": "y"
         },
         {
          "arrowcolor": "grey",
          "arrowhead": 4,
          "arrowsize": 0.6,
          "arrowwidth": 1.1998001998001997,
          "ax": 0.20833938963296658,
          "axref": "x",
          "ay": 0.5537946725946733,
          "ayref": "y",
          "opacity": 0.3,
          "showarrow": true,
          "text": "",
          "x": 0.17607107009722023,
          "xref": "x",
          "y": 0.12838138112253805,
          "yref": "y"
         },
         {
          "arrowcolor": "grey",
          "arrowhead": 4,
          "arrowsize": 0.6,
          "arrowwidth": 2.898101898101898,
          "ax": 0.1526802288124329,
          "axref": "x",
          "ay": 0.11985110298561547,
          "ayref": "y",
          "opacity": 0.3,
          "showarrow": true,
          "text": "",
          "x": -0.547964478575156,
          "xref": "x",
          "y": 0.27798234616750966,
          "yref": "y"
         },
         {
          "arrowcolor": "grey",
          "arrowhead": 4,
          "arrowsize": 0.6,
          "arrowwidth": 14.686313686313687,
          "ax": -0.5343289974960796,
          "axref": "x",
          "ay": 0.29391458458163866,
          "ayref": "y",
          "opacity": 0.3,
          "showarrow": true,
          "text": "",
          "x": 0.5935607837025692,
          "xref": "x",
          "y": 0.6349934783757853,
          "yref": "y"
         },
         {
          "arrowcolor": "grey",
          "arrowhead": 4,
          "arrowsize": 0.6,
          "arrowwidth": 14.986013986013987,
          "ax": 0.5935607837025692,
          "axref": "x",
          "ay": 0.6349934783757853,
          "ayref": "y",
          "opacity": 0.3,
          "showarrow": true,
          "text": "",
          "x": -0.5343289974960796,
          "xref": "x",
          "y": 0.2939145845816386,
          "yref": "y"
         },
         {
          "arrowcolor": "grey",
          "arrowhead": 4,
          "arrowsize": 0.6,
          "arrowwidth": 3.197802197802198,
          "ax": -0.547964478575156,
          "axref": "x",
          "ay": 0.27798234616750966,
          "ayref": "y",
          "opacity": 0.3,
          "showarrow": true,
          "text": "",
          "x": 0.15268022881243293,
          "xref": "x",
          "y": 0.11985110298561547,
          "yref": "y"
         },
         {
          "arrowcolor": "grey",
          "arrowhead": 4,
          "arrowsize": 0.6,
          "arrowwidth": 1.0999000999000998,
          "ax": 0.6083048957710507,
          "axref": "x",
          "ay": 0.6543051343678555,
          "ayref": "y",
          "opacity": 0.3,
          "showarrow": true,
          "text": "",
          "x": -0.05760270728184156,
          "xref": "x",
          "y": 0.9183247949919058,
          "yref": "y"
         },
         {
          "arrowcolor": "grey",
          "arrowhead": 4,
          "arrowsize": 0.6,
          "arrowwidth": 1.0999000999000998,
          "ax": -0.05760270728184154,
          "axref": "x",
          "ay": 0.9183247949919058,
          "ayref": "y",
          "opacity": 0.3,
          "showarrow": true,
          "text": "",
          "x": 0.6083048957710507,
          "xref": "x",
          "y": 0.6543051343678554,
          "yref": "y"
         },
         {
          "arrowcolor": "grey",
          "arrowhead": 4,
          "arrowsize": 0.6,
          "arrowwidth": 4.296703296703297,
          "ax": 0.6283735439256711,
          "axref": "x",
          "ay": 0.6131676736794204,
          "ayref": "y",
          "opacity": 0.3,
          "showarrow": true,
          "text": "",
          "x": 0.5912835830508829,
          "xref": "x",
          "y": -0.41178643393416087,
          "yref": "y"
         },
         {
          "arrowcolor": "grey",
          "arrowhead": 4,
          "arrowsize": 0.6,
          "arrowwidth": 1.2997002997002998,
          "ax": 0.5565436820795079,
          "axref": "x",
          "ay": -0.4581990100947636,
          "ayref": "y",
          "opacity": 0.3,
          "showarrow": true,
          "text": "",
          "x": -0.4948832541487875,
          "xref": "x",
          "y": -0.8875056221800677,
          "yref": "y"
         },
         {
          "arrowcolor": "grey",
          "arrowhead": 4,
          "arrowsize": 0.6,
          "arrowwidth": 1.2997002997002998,
          "ax": -0.4948832541487875,
          "axref": "x",
          "ay": -0.8875056221800677,
          "ayref": "y",
          "opacity": 0.3,
          "showarrow": true,
          "text": "",
          "x": 0.5565436820795079,
          "xref": "x",
          "y": -0.45819901009476355,
          "yref": "y"
         },
         {
          "arrowcolor": "grey",
          "arrowhead": 4,
          "arrowsize": 0.6,
          "arrowwidth": 1.8991008991008993,
          "ax": 0.5531381430204759,
          "axref": "x",
          "ay": -0.44099022064343124,
          "ayref": "y",
          "opacity": 0.3,
          "showarrow": true,
          "text": "",
          "x": -0.6049956837241556,
          "xref": "x",
          "y": -0.3310880965869891,
          "yref": "y"
         },
         {
          "arrowcolor": "grey",
          "arrowhead": 4,
          "arrowsize": 0.6,
          "arrowwidth": 1.5994005994005995,
          "ax": -0.6049956837241556,
          "axref": "x",
          "ay": -0.3310880965869892,
          "ayref": "y",
          "opacity": 0.3,
          "showarrow": true,
          "text": "",
          "x": 0.5531381430204759,
          "xref": "x",
          "y": -0.44099022064343124,
          "yref": "y"
         },
         {
          "arrowcolor": "grey",
          "arrowhead": 4,
          "arrowsize": 0.6,
          "arrowwidth": 2.098901098901099,
          "ax": 0.5758645306513174,
          "axref": "x",
          "ay": -0.46116280318374797,
          "ayref": "y",
          "opacity": 0.3,
          "showarrow": true,
          "text": "",
          "x": 0.12982418300638407,
          "xref": "x",
          "y": -0.9833349320572293,
          "yref": "y"
         },
         {
          "arrowcolor": "grey",
          "arrowhead": 4,
          "arrowsize": 0.6,
          "arrowwidth": 2.3986013986013983,
          "ax": 0.09286246513155538,
          "axref": "x",
          "ay": -0.9798274174596833,
          "ayref": "y",
          "opacity": 0.3,
          "showarrow": true,
          "text": "",
          "x": -0.6192310139681428,
          "xref": "x",
          "y": -0.3477531645297598,
          "yref": "y"
         },
         {
          "arrowcolor": "grey",
          "arrowhead": 4,
          "arrowsize": 0.6,
          "arrowwidth": 2.5984015984015985,
          "ax": -0.6192310139681428,
          "axref": "x",
          "ay": -0.34775316452975985,
          "ayref": "y",
          "opacity": 0.3,
          "showarrow": true,
          "text": "",
          "x": 0.09286246513155541,
          "xref": "x",
          "y": -0.9798274174596833,
          "yref": "y"
         },
         {
          "arrowcolor": "grey",
          "arrowhead": 4,
          "arrowsize": 0.6,
          "arrowwidth": 1.6993006993006992,
          "ax": 0.1298241830063841,
          "axref": "x",
          "ay": -0.9833349320572293,
          "ayref": "y",
          "opacity": 0.3,
          "showarrow": true,
          "text": "",
          "x": 0.5758645306513174,
          "xref": "x",
          "y": -0.4611628031837479,
          "yref": "y"
         },
         {
          "arrowcolor": "grey",
          "arrowhead": 4,
          "arrowsize": 0.6,
          "arrowwidth": 4.096903096903096,
          "ax": 0.5912835830508829,
          "axref": "x",
          "ay": -0.4117864339341608,
          "ayref": "y",
          "opacity": 0.3,
          "showarrow": true,
          "text": "",
          "x": 0.6283735439256711,
          "xref": "x",
          "y": 0.6131676736794204,
          "yref": "y"
         },
         {
          "arrowcolor": "grey",
          "arrowhead": 4,
          "arrowsize": 0.6,
          "arrowwidth": 2.2987012987012987,
          "ax": 0.6141382136816839,
          "axref": "x",
          "ay": 0.5965026057366497,
          "ayref": "y",
          "opacity": 0.3,
          "showarrow": true,
          "text": "",
          "x": 0.13100790516196242,
          "xref": "x",
          "y": -0.9506236307504129,
          "yref": "y"
         },
         {
          "arrowcolor": "grey",
          "arrowhead": 4,
          "arrowsize": 0.6,
          "arrowwidth": 2.898101898101898,
          "ax": 0.13100790516196242,
          "axref": "x",
          "ay": -0.9506236307504129,
          "ayref": "y",
          "opacity": 0.3,
          "showarrow": true,
          "text": "",
          "x": 0.6141382136816839,
          "xref": "x",
          "y": 0.5965026057366497,
          "yref": "y"
         },
         {
          "arrowcolor": "grey",
          "arrowhead": 4,
          "arrowsize": 0.6,
          "arrowwidth": 1.2997002997002998,
          "ax": 0.18749298903553488,
          "axref": "x",
          "ay": 0.09802529828925052,
          "ayref": "y",
          "opacity": 0.3,
          "showarrow": true,
          "text": "",
          "x": 0.5776481019718066,
          "xref": "x",
          "y": -0.4277186723482898,
          "yref": "y"
         },
         {
          "arrowcolor": "grey",
          "arrowhead": 4,
          "arrowsize": 0.6,
          "arrowwidth": 2.698301698301698,
          "ax": 0.5552871006722027,
          "axref": "x",
          "ay": -0.42267193054461233,
          "ayref": "y",
          "opacity": 0.3,
          "showarrow": true,
          "text": "",
          "x": -0.5355127196516579,
          "xref": "x",
          "y": 0.26120328327482223,
          "yref": "y"
         },
         {
          "arrowcolor": "grey",
          "arrowhead": 4,
          "arrowsize": 0.6,
          "arrowwidth": 5.095904095904096,
          "ax": 0.5914118260508424,
          "axref": "x",
          "ay": 0.6166751882769664,
          "ayref": "y",
          "opacity": 0.3,
          "showarrow": true,
          "text": "",
          "x": -0.6038119615685773,
          "xref": "x",
          "y": -0.29837679528017275,
          "yref": "y"
         },
         {
          "arrowcolor": "grey",
          "arrowhead": 4,
          "arrowsize": 0.6,
          "arrowwidth": 5.295704295704296,
          "ax": -0.6038119615685773,
          "axref": "x",
          "ay": -0.2983767952801727,
          "ayref": "y",
          "opacity": 0.3,
          "showarrow": true,
          "text": "",
          "x": 0.5914118260508424,
          "xref": "x",
          "y": 0.6166751882769664,
          "yref": "y"
         },
         {
          "arrowcolor": "grey",
          "arrowhead": 4,
          "arrowsize": 0.6,
          "arrowwidth": 2.998001998001998,
          "ax": -0.5355127196516579,
          "axref": "x",
          "ay": 0.2612032832748222,
          "ayref": "y",
          "opacity": 0.3,
          "showarrow": true,
          "text": "",
          "x": 0.5552871006722027,
          "xref": "x",
          "y": -0.42267193054461233,
          "yref": "y"
         },
         {
          "arrowcolor": "grey",
          "arrowhead": 4,
          "arrowsize": 0.6,
          "arrowwidth": 1.1998001998001997,
          "ax": 0.5948173651098744,
          "axref": "x",
          "ay": 0.5994663988256341,
          "ayref": "y",
          "opacity": 0.3,
          "showarrow": true,
          "text": "",
          "x": -0.49369953199320915,
          "xref": "x",
          "y": -0.8547943208732512,
          "yref": "y"
         },
         {
          "arrowcolor": "grey",
          "arrowhead": 4,
          "arrowsize": 0.6,
          "arrowwidth": 1.2997002997002998,
          "ax": -0.5296960143718894,
          "axref": "x",
          "ay": -0.8656798174837027,
          "ayref": "y",
          "opacity": 0.3,
          "showarrow": true,
          "text": "",
          "x": -0.5690688984674547,
          "xref": "x",
          "y": 0.24750200842103592,
          "yref": "y"
         },
         {
          "arrowcolor": "grey",
          "arrowhead": 4,
          "arrowsize": 0.6,
          "arrowwidth": 2.3986013986013983,
          "ax": -0.6398084439472576,
          "axref": "x",
          "ay": -0.3092622918906242,
          "ayref": "y",
          "opacity": 0.3,
          "showarrow": true,
          "text": "",
          "x": -0.5724744375264866,
          "xref": "x",
          "y": 0.26471079787236823,
          "yref": "y"
         },
         {
          "arrowcolor": "grey",
          "arrowhead": 4,
          "arrowsize": 0.6,
          "arrowwidth": 2.2987012987012987,
          "ax": -0.5724744375264866,
          "axref": "x",
          "ay": 0.26471079787236823,
          "ayref": "y",
          "opacity": 0.3,
          "showarrow": true,
          "text": "",
          "x": -0.6398084439472576,
          "xref": "x",
          "y": -0.3092622918906242,
          "yref": "y"
         },
         {
          "arrowcolor": "grey",
          "arrowhead": 4,
          "arrowsize": 0.6,
          "arrowwidth": 1.2997002997002998,
          "ax": -0.6174474426476536,
          "axref": "x",
          "ay": -0.3143090336943017,
          "ayref": "y",
          "opacity": 0.3,
          "showarrow": true,
          "text": "",
          "x": 0.1505312711607062,
          "xref": "x",
          "y": 0.10153281288679655,
          "yref": "y"
         },
         {
          "arrowcolor": "grey",
          "arrowhead": 4,
          "arrowsize": 0.6,
          "arrowwidth": 1.1998001998001997,
          "ax": 0.15053127116070616,
          "axref": "x",
          "ay": 0.10153281288679655,
          "ayref": "y",
          "opacity": 0.3,
          "showarrow": true,
          "text": "",
          "x": -0.6174474426476536,
          "xref": "x",
          "y": -0.3143090336943017,
          "yref": "y"
         },
         {
          "arrowcolor": "grey",
          "arrowhead": 4,
          "arrowsize": 0.6,
          "arrowwidth": 1.1998001998001997,
          "ax": 0.6295572660812494,
          "axref": "x",
          "ay": 0.6458789749862368,
          "ayref": "y",
          "opacity": 0.3,
          "showarrow": true,
          "text": "",
          "x": 0.6295572660812494,
          "xref": "x",
          "y": 0.6458789749862368,
          "yref": "y"
         },
         {
          "arrowcolor": "grey",
          "arrowhead": 4,
          "arrowsize": 0.6,
          "arrowwidth": 2.198801198801199,
          "ax": 0.09501142278328212,
          "axref": "x",
          "ay": -0.9615091273608644,
          "ayref": "y",
          "opacity": 0.3,
          "showarrow": true,
          "text": "",
          "x": -0.5497480498956452,
          "xref": "x",
          "y": 0.24453821533205153,
          "yref": "y"
         },
         {
          "arrowcolor": "grey",
          "arrowhead": 4,
          "arrowsize": 0.6,
          "arrowwidth": 2.098901098901099,
          "ax": -0.5497480498956452,
          "axref": "x",
          "ay": 0.2445382153320515,
          "ayref": "y",
          "opacity": 0.3,
          "showarrow": true,
          "text": "",
          "x": 0.09501142278328215,
          "xref": "x",
          "y": -0.9615091273608644,
          "yref": "y"
         },
         {
          "arrowcolor": "grey",
          "arrowhead": 4,
          "arrowsize": 0.6,
          "arrowwidth": 1.6993006993006992,
          "ax": -0.6385518625399523,
          "axref": "x",
          "ay": -0.3447893714407755,
          "ayref": "y",
          "opacity": 0.3,
          "showarrow": true,
          "text": "",
          "x": -0.5318449720236161,
          "xref": "x",
          "y": -0.8839981075825216,
          "yref": "y"
         },
         {
          "arrowcolor": "grey",
          "arrowhead": 4,
          "arrowsize": 0.6,
          "arrowwidth": 1.7992007992007992,
          "ax": -0.5318449720236161,
          "axref": "x",
          "ay": -0.8839981075825216,
          "ayref": "y",
          "opacity": 0.3,
          "showarrow": true,
          "text": "",
          "x": -0.6385518625399523,
          "xref": "x",
          "y": -0.3447893714407754,
          "yref": "y"
         },
         {
          "arrowcolor": "grey",
          "arrowhead": 4,
          "arrowsize": 0.6,
          "arrowwidth": 1.4995004995004995,
          "ax": -0.5690688984674547,
          "axref": "x",
          "ay": 0.2475020084210359,
          "ayref": "y",
          "opacity": 0.3,
          "showarrow": true,
          "text": "",
          "x": -0.5296960143718894,
          "xref": "x",
          "y": -0.8656798174837027,
          "yref": "y"
         },
         {
          "arrowcolor": "grey",
          "arrowhead": 4,
          "arrowsize": 0.6,
          "arrowwidth": 1.3996003996003996,
          "ax": 0.6290672799089149,
          "axref": "x",
          "ay": 0.6249770266307942,
          "ayref": "y",
          "opacity": 0.3,
          "showarrow": true,
          "text": "",
          "x": 0.6137143798424313,
          "xref": "x",
          "y": -0.029950688506408054,
          "yref": "y"
         },
         {
          "arrowcolor": "grey",
          "arrowhead": 4,
          "arrowsize": 0.6,
          "arrowwidth": 1.0999000999000998,
          "ax": 0.612530657686853,
          "axref": "x",
          "ay": -0.06266198981322449,
          "ayref": "y",
          "opacity": 0.3,
          "showarrow": true,
          "text": "",
          "x": 0.5907935968785484,
          "xref": "x",
          "y": -0.4326883822896035,
          "yref": "y"
         },
         {
          "arrowcolor": "grey",
          "arrowhead": 4,
          "arrowsize": 0.6,
          "arrowwidth": 1.7992007992007992,
          "ax": -0.5348189836684142,
          "axref": "x",
          "ay": 0.273012636226196,
          "ayref": "y",
          "opacity": 0.3,
          "showarrow": true,
          "text": "",
          "x": 0.577717897463751,
          "xref": "x",
          "y": -0.04083618511685954,
          "yref": "y"
         },
         {
          "arrowcolor": "grey",
          "arrowhead": 4,
          "arrowsize": 0.6,
          "arrowwidth": 1.2997002997002998,
          "ax": 0.5755689398120243,
          "axref": "x",
          "ay": -0.05915447521567846,
          "ayref": "y",
          "opacity": 0.3,
          "showarrow": true,
          "text": "",
          "x": -0.6043019477409118,
          "xref": "x",
          "y": -0.31927874363561537,
          "yref": "y"
         },
         {
          "arrowcolor": "grey",
          "arrowhead": 4,
          "arrowsize": 0.6,
          "arrowwidth": 1.4995004995004995,
          "ax": 0.18818672501877864,
          "axref": "x",
          "ay": 0.10983465124062433,
          "ayref": "y",
          "opacity": 0.3,
          "showarrow": true,
          "text": "",
          "x": 0.600078898763355,
          "xref": "x",
          "y": -0.04588292692053702,
          "yref": "y"
         },
         {
          "arrowcolor": "grey",
          "arrowhead": 4,
          "arrowsize": 0.6,
          "arrowwidth": 1.999000999000999,
          "ax": 0.577717897463751,
          "axref": "x",
          "ay": -0.04083618511685953,
          "ayref": "y",
          "opacity": 0.3,
          "showarrow": true,
          "text": "",
          "x": -0.5348189836684142,
          "xref": "x",
          "y": 0.273012636226196,
          "yref": "y"
         },
         {
          "arrowcolor": "grey",
          "arrowhead": 4,
          "arrowsize": 0.6,
          "arrowwidth": 1.0999000999000998,
          "ax": -0.4941895181655437,
          "axref": "x",
          "ay": -0.8756962692286938,
          "ayref": "y",
          "opacity": 0.3,
          "showarrow": true,
          "text": "",
          "x": 0.5789744788710562,
          "xref": "x",
          "y": -0.07636326466701077,
          "yref": "y"
         },
         {
          "arrowcolor": "grey",
          "arrowhead": 4,
          "arrowsize": 0.6,
          "arrowwidth": 1.5994005994005995,
          "ax": 0.6137143798424313,
          "axref": "x",
          "ay": -0.029950688506408033,
          "ayref": "y",
          "opacity": 0.3,
          "showarrow": true,
          "text": "",
          "x": 0.6290672799089149,
          "xref": "x",
          "y": 0.6249770266307942,
          "yref": "y"
         },
         {
          "arrowcolor": "grey",
          "arrowhead": 4,
          "arrowsize": 0.6,
          "arrowwidth": 1.0999000999000998,
          "ax": -0.6043019477409118,
          "axref": "x",
          "ay": -0.31927874363561537,
          "ayref": "y",
          "opacity": 0.3,
          "showarrow": true,
          "text": "",
          "x": 0.5755689398120243,
          "xref": "x",
          "y": -0.059154475215678445,
          "yref": "y"
         },
         {
          "arrowcolor": "grey",
          "arrowhead": 4,
          "arrowsize": 0.6,
          "arrowwidth": 1.0999000999000998,
          "ax": -0.4936995319932091,
          "axref": "x",
          "ay": -0.8547943208732512,
          "ayref": "y",
          "opacity": 0.3,
          "showarrow": true,
          "text": "",
          "x": 0.5948173651098744,
          "xref": "x",
          "y": 0.5994663988256341,
          "yref": "y"
         },
         {
          "arrowcolor": "grey",
          "arrowhead": 4,
          "arrowsize": 0.6,
          "arrowwidth": 1.0999000999000998,
          "ax": 0.5907935968785484,
          "axref": "x",
          "ay": -0.4326883822896035,
          "ayref": "y",
          "opacity": 0.3,
          "showarrow": true,
          "text": "",
          "x": 0.612530657686853,
          "xref": "x",
          "y": -0.06266198981322448,
          "yref": "y"
         },
         {
          "arrowcolor": "grey",
          "arrowhead": 4,
          "arrowsize": 0.6,
          "arrowwidth": 1.0999000999000998,
          "ax": 0.5982953274428657,
          "axref": "x",
          "ay": -0.07932705775599519,
          "ayref": "y",
          "opacity": 0.3,
          "showarrow": true,
          "text": "",
          "x": 0.13051791898962783,
          "xref": "x",
          "y": -0.9715255791058555,
          "yref": "y"
         },
         {
          "arrowcolor": "grey",
          "arrowhead": 4,
          "arrowsize": 0.6,
          "arrowwidth": 1.0999000999000998,
          "ax": 0.17325765879154761,
          "axref": "x",
          "ay": 0.08136023034647982,
          "ayref": "y",
          "opacity": 0.3,
          "showarrow": true,
          "text": "",
          "x": 0.11737242408288603,
          "xref": "x",
          "y": -0.9665558691645418,
          "yref": "y"
         },
         {
          "arrowcolor": "grey",
          "arrowhead": 4,
          "arrowsize": 0.6,
          "arrowwidth": 1.0999000999000998,
          "ax": 0.13051791898962786,
          "axref": "x",
          "ay": -0.9715255791058555,
          "ayref": "y",
          "opacity": 0.3,
          "showarrow": true,
          "text": "",
          "x": 0.5982953274428657,
          "xref": "x",
          "y": -0.07932705775599516,
          "yref": "y"
         },
         {
          "arrowcolor": "grey",
          "arrowhead": 4,
          "arrowsize": 0.6,
          "arrowwidth": 1.0999000999000998,
          "ax": -0.5073350130722855,
          "axref": "x",
          "ay": -0.8707265592873802,
          "ayref": "y",
          "opacity": 0.3,
          "showarrow": true,
          "text": "",
          "x": 0.15393681021973818,
          "xref": "x",
          "y": 0.08432402343546423,
          "yref": "y"
         },
         {
          "arrowcolor": "grey",
          "arrowhead": 4,
          "arrowsize": 0.6,
          "arrowwidth": 1.0999000999000998,
          "ax": 0.1664224137661219,
          "axref": "x",
          "ay": 0.09980709273457701,
          "ayref": "y",
          "opacity": 0.3,
          "showarrow": true,
          "text": "",
          "x": -0.10363383173921221,
          "xref": "x",
          "y": -0.3701073186160665,
          "yref": "y"
         },
         {
          "arrowcolor": "grey",
          "arrowhead": 4,
          "arrowsize": 0.6,
          "arrowwidth": 1.0999000999000998,
          "ax": -0.12599483303881612,
          "axref": "x",
          "ay": -0.365060576812389,
          "ayref": "y",
          "opacity": 0.3,
          "showarrow": true,
          "text": "",
          "x": -0.556583294921071,
          "xref": "x",
          "y": 0.26298507772014873,
          "yref": "y"
         }
        ],
        "height": 600,
        "paper_bgcolor": "rgba(0,0,0,0)",
        "plot_bgcolor": "rgba(0,0,0,0)",
        "template": {
         "data": {
          "bar": [
           {
            "error_x": {
             "color": "#2a3f5f"
            },
            "error_y": {
             "color": "#2a3f5f"
            },
            "marker": {
             "line": {
              "color": "#E5ECF6",
              "width": 0.5
             },
             "pattern": {
              "fillmode": "overlay",
              "size": 10,
              "solidity": 0.2
             }
            },
            "type": "bar"
           }
          ],
          "barpolar": [
           {
            "marker": {
             "line": {
              "color": "#E5ECF6",
              "width": 0.5
             },
             "pattern": {
              "fillmode": "overlay",
              "size": 10,
              "solidity": 0.2
             }
            },
            "type": "barpolar"
           }
          ],
          "carpet": [
           {
            "aaxis": {
             "endlinecolor": "#2a3f5f",
             "gridcolor": "white",
             "linecolor": "white",
             "minorgridcolor": "white",
             "startlinecolor": "#2a3f5f"
            },
            "baxis": {
             "endlinecolor": "#2a3f5f",
             "gridcolor": "white",
             "linecolor": "white",
             "minorgridcolor": "white",
             "startlinecolor": "#2a3f5f"
            },
            "type": "carpet"
           }
          ],
          "choropleth": [
           {
            "colorbar": {
             "outlinewidth": 0,
             "ticks": ""
            },
            "type": "choropleth"
           }
          ],
          "contour": [
           {
            "colorbar": {
             "outlinewidth": 0,
             "ticks": ""
            },
            "colorscale": [
             [
              0,
              "#0d0887"
             ],
             [
              0.1111111111111111,
              "#46039f"
             ],
             [
              0.2222222222222222,
              "#7201a8"
             ],
             [
              0.3333333333333333,
              "#9c179e"
             ],
             [
              0.4444444444444444,
              "#bd3786"
             ],
             [
              0.5555555555555556,
              "#d8576b"
             ],
             [
              0.6666666666666666,
              "#ed7953"
             ],
             [
              0.7777777777777778,
              "#fb9f3a"
             ],
             [
              0.8888888888888888,
              "#fdca26"
             ],
             [
              1,
              "#f0f921"
             ]
            ],
            "type": "contour"
           }
          ],
          "contourcarpet": [
           {
            "colorbar": {
             "outlinewidth": 0,
             "ticks": ""
            },
            "type": "contourcarpet"
           }
          ],
          "heatmap": [
           {
            "colorbar": {
             "outlinewidth": 0,
             "ticks": ""
            },
            "colorscale": [
             [
              0,
              "#0d0887"
             ],
             [
              0.1111111111111111,
              "#46039f"
             ],
             [
              0.2222222222222222,
              "#7201a8"
             ],
             [
              0.3333333333333333,
              "#9c179e"
             ],
             [
              0.4444444444444444,
              "#bd3786"
             ],
             [
              0.5555555555555556,
              "#d8576b"
             ],
             [
              0.6666666666666666,
              "#ed7953"
             ],
             [
              0.7777777777777778,
              "#fb9f3a"
             ],
             [
              0.8888888888888888,
              "#fdca26"
             ],
             [
              1,
              "#f0f921"
             ]
            ],
            "type": "heatmap"
           }
          ],
          "heatmapgl": [
           {
            "colorbar": {
             "outlinewidth": 0,
             "ticks": ""
            },
            "colorscale": [
             [
              0,
              "#0d0887"
             ],
             [
              0.1111111111111111,
              "#46039f"
             ],
             [
              0.2222222222222222,
              "#7201a8"
             ],
             [
              0.3333333333333333,
              "#9c179e"
             ],
             [
              0.4444444444444444,
              "#bd3786"
             ],
             [
              0.5555555555555556,
              "#d8576b"
             ],
             [
              0.6666666666666666,
              "#ed7953"
             ],
             [
              0.7777777777777778,
              "#fb9f3a"
             ],
             [
              0.8888888888888888,
              "#fdca26"
             ],
             [
              1,
              "#f0f921"
             ]
            ],
            "type": "heatmapgl"
           }
          ],
          "histogram": [
           {
            "marker": {
             "pattern": {
              "fillmode": "overlay",
              "size": 10,
              "solidity": 0.2
             }
            },
            "type": "histogram"
           }
          ],
          "histogram2d": [
           {
            "colorbar": {
             "outlinewidth": 0,
             "ticks": ""
            },
            "colorscale": [
             [
              0,
              "#0d0887"
             ],
             [
              0.1111111111111111,
              "#46039f"
             ],
             [
              0.2222222222222222,
              "#7201a8"
             ],
             [
              0.3333333333333333,
              "#9c179e"
             ],
             [
              0.4444444444444444,
              "#bd3786"
             ],
             [
              0.5555555555555556,
              "#d8576b"
             ],
             [
              0.6666666666666666,
              "#ed7953"
             ],
             [
              0.7777777777777778,
              "#fb9f3a"
             ],
             [
              0.8888888888888888,
              "#fdca26"
             ],
             [
              1,
              "#f0f921"
             ]
            ],
            "type": "histogram2d"
           }
          ],
          "histogram2dcontour": [
           {
            "colorbar": {
             "outlinewidth": 0,
             "ticks": ""
            },
            "colorscale": [
             [
              0,
              "#0d0887"
             ],
             [
              0.1111111111111111,
              "#46039f"
             ],
             [
              0.2222222222222222,
              "#7201a8"
             ],
             [
              0.3333333333333333,
              "#9c179e"
             ],
             [
              0.4444444444444444,
              "#bd3786"
             ],
             [
              0.5555555555555556,
              "#d8576b"
             ],
             [
              0.6666666666666666,
              "#ed7953"
             ],
             [
              0.7777777777777778,
              "#fb9f3a"
             ],
             [
              0.8888888888888888,
              "#fdca26"
             ],
             [
              1,
              "#f0f921"
             ]
            ],
            "type": "histogram2dcontour"
           }
          ],
          "mesh3d": [
           {
            "colorbar": {
             "outlinewidth": 0,
             "ticks": ""
            },
            "type": "mesh3d"
           }
          ],
          "parcoords": [
           {
            "line": {
             "colorbar": {
              "outlinewidth": 0,
              "ticks": ""
             }
            },
            "type": "parcoords"
           }
          ],
          "pie": [
           {
            "automargin": true,
            "type": "pie"
           }
          ],
          "scatter": [
           {
            "marker": {
             "colorbar": {
              "outlinewidth": 0,
              "ticks": ""
             }
            },
            "type": "scatter"
           }
          ],
          "scatter3d": [
           {
            "line": {
             "colorbar": {
              "outlinewidth": 0,
              "ticks": ""
             }
            },
            "marker": {
             "colorbar": {
              "outlinewidth": 0,
              "ticks": ""
             }
            },
            "type": "scatter3d"
           }
          ],
          "scattercarpet": [
           {
            "marker": {
             "colorbar": {
              "outlinewidth": 0,
              "ticks": ""
             }
            },
            "type": "scattercarpet"
           }
          ],
          "scattergeo": [
           {
            "marker": {
             "colorbar": {
              "outlinewidth": 0,
              "ticks": ""
             }
            },
            "type": "scattergeo"
           }
          ],
          "scattergl": [
           {
            "marker": {
             "colorbar": {
              "outlinewidth": 0,
              "ticks": ""
             }
            },
            "type": "scattergl"
           }
          ],
          "scattermapbox": [
           {
            "marker": {
             "colorbar": {
              "outlinewidth": 0,
              "ticks": ""
             }
            },
            "type": "scattermapbox"
           }
          ],
          "scatterpolar": [
           {
            "marker": {
             "colorbar": {
              "outlinewidth": 0,
              "ticks": ""
             }
            },
            "type": "scatterpolar"
           }
          ],
          "scatterpolargl": [
           {
            "marker": {
             "colorbar": {
              "outlinewidth": 0,
              "ticks": ""
             }
            },
            "type": "scatterpolargl"
           }
          ],
          "scatterternary": [
           {
            "marker": {
             "colorbar": {
              "outlinewidth": 0,
              "ticks": ""
             }
            },
            "type": "scatterternary"
           }
          ],
          "surface": [
           {
            "colorbar": {
             "outlinewidth": 0,
             "ticks": ""
            },
            "colorscale": [
             [
              0,
              "#0d0887"
             ],
             [
              0.1111111111111111,
              "#46039f"
             ],
             [
              0.2222222222222222,
              "#7201a8"
             ],
             [
              0.3333333333333333,
              "#9c179e"
             ],
             [
              0.4444444444444444,
              "#bd3786"
             ],
             [
              0.5555555555555556,
              "#d8576b"
             ],
             [
              0.6666666666666666,
              "#ed7953"
             ],
             [
              0.7777777777777778,
              "#fb9f3a"
             ],
             [
              0.8888888888888888,
              "#fdca26"
             ],
             [
              1,
              "#f0f921"
             ]
            ],
            "type": "surface"
           }
          ],
          "table": [
           {
            "cells": {
             "fill": {
              "color": "#EBF0F8"
             },
             "line": {
              "color": "white"
             }
            },
            "header": {
             "fill": {
              "color": "#C8D4E3"
             },
             "line": {
              "color": "white"
             }
            },
            "type": "table"
           }
          ]
         },
         "layout": {
          "annotationdefaults": {
           "arrowcolor": "#2a3f5f",
           "arrowhead": 0,
           "arrowwidth": 1
          },
          "autotypenumbers": "strict",
          "coloraxis": {
           "colorbar": {
            "outlinewidth": 0,
            "ticks": ""
           }
          },
          "colorscale": {
           "diverging": [
            [
             0,
             "#8e0152"
            ],
            [
             0.1,
             "#c51b7d"
            ],
            [
             0.2,
             "#de77ae"
            ],
            [
             0.3,
             "#f1b6da"
            ],
            [
             0.4,
             "#fde0ef"
            ],
            [
             0.5,
             "#f7f7f7"
            ],
            [
             0.6,
             "#e6f5d0"
            ],
            [
             0.7,
             "#b8e186"
            ],
            [
             0.8,
             "#7fbc41"
            ],
            [
             0.9,
             "#4d9221"
            ],
            [
             1,
             "#276419"
            ]
           ],
           "sequential": [
            [
             0,
             "#0d0887"
            ],
            [
             0.1111111111111111,
             "#46039f"
            ],
            [
             0.2222222222222222,
             "#7201a8"
            ],
            [
             0.3333333333333333,
             "#9c179e"
            ],
            [
             0.4444444444444444,
             "#bd3786"
            ],
            [
             0.5555555555555556,
             "#d8576b"
            ],
            [
             0.6666666666666666,
             "#ed7953"
            ],
            [
             0.7777777777777778,
             "#fb9f3a"
            ],
            [
             0.8888888888888888,
             "#fdca26"
            ],
            [
             1,
             "#f0f921"
            ]
           ],
           "sequentialminus": [
            [
             0,
             "#0d0887"
            ],
            [
             0.1111111111111111,
             "#46039f"
            ],
            [
             0.2222222222222222,
             "#7201a8"
            ],
            [
             0.3333333333333333,
             "#9c179e"
            ],
            [
             0.4444444444444444,
             "#bd3786"
            ],
            [
             0.5555555555555556,
             "#d8576b"
            ],
            [
             0.6666666666666666,
             "#ed7953"
            ],
            [
             0.7777777777777778,
             "#fb9f3a"
            ],
            [
             0.8888888888888888,
             "#fdca26"
            ],
            [
             1,
             "#f0f921"
            ]
           ]
          },
          "colorway": [
           "#636efa",
           "#EF553B",
           "#00cc96",
           "#ab63fa",
           "#FFA15A",
           "#19d3f3",
           "#FF6692",
           "#B6E880",
           "#FF97FF",
           "#FECB52"
          ],
          "font": {
           "color": "#2a3f5f"
          },
          "geo": {
           "bgcolor": "white",
           "lakecolor": "white",
           "landcolor": "#E5ECF6",
           "showlakes": true,
           "showland": true,
           "subunitcolor": "white"
          },
          "hoverlabel": {
           "align": "left"
          },
          "hovermode": "closest",
          "mapbox": {
           "style": "light"
          },
          "paper_bgcolor": "white",
          "plot_bgcolor": "#E5ECF6",
          "polar": {
           "angularaxis": {
            "gridcolor": "white",
            "linecolor": "white",
            "ticks": ""
           },
           "bgcolor": "#E5ECF6",
           "radialaxis": {
            "gridcolor": "white",
            "linecolor": "white",
            "ticks": ""
           }
          },
          "scene": {
           "xaxis": {
            "backgroundcolor": "#E5ECF6",
            "gridcolor": "white",
            "gridwidth": 2,
            "linecolor": "white",
            "showbackground": true,
            "ticks": "",
            "zerolinecolor": "white"
           },
           "yaxis": {
            "backgroundcolor": "#E5ECF6",
            "gridcolor": "white",
            "gridwidth": 2,
            "linecolor": "white",
            "showbackground": true,
            "ticks": "",
            "zerolinecolor": "white"
           },
           "zaxis": {
            "backgroundcolor": "#E5ECF6",
            "gridcolor": "white",
            "gridwidth": 2,
            "linecolor": "white",
            "showbackground": true,
            "ticks": "",
            "zerolinecolor": "white"
           }
          },
          "shapedefaults": {
           "line": {
            "color": "#2a3f5f"
           }
          },
          "ternary": {
           "aaxis": {
            "gridcolor": "white",
            "linecolor": "white",
            "ticks": ""
           },
           "baxis": {
            "gridcolor": "white",
            "linecolor": "white",
            "ticks": ""
           },
           "bgcolor": "#E5ECF6",
           "caxis": {
            "gridcolor": "white",
            "linecolor": "white",
            "ticks": ""
           }
          },
          "title": {
           "x": 0.05
          },
          "xaxis": {
           "automargin": true,
           "gridcolor": "white",
           "linecolor": "white",
           "ticks": "",
           "title": {
            "standoff": 15
           },
           "zerolinecolor": "white",
           "zerolinewidth": 2
          },
          "yaxis": {
           "automargin": true,
           "gridcolor": "white",
           "linecolor": "white",
           "ticks": "",
           "title": {
            "standoff": 15
           },
           "zerolinecolor": "white",
           "zerolinewidth": 2
          }
         }
        },
        "title": {
         "text": "COM GRAPH FOR KLEIST-DER-ZERBROCHENE-KRUG"
        },
        "xaxis": {
         "showticklabels": false,
         "ticks": ""
        },
        "yaxis": {
         "showticklabels": false,
         "ticks": ""
        }
       }
      }
     },
     "metadata": {},
     "output_type": "display_data"
    },
    {
     "data": {
      "text/html": [
       "<div>\n",
       "<style scoped>\n",
       "    .dataframe tbody tr th:only-of-type {\n",
       "        vertical-align: middle;\n",
       "    }\n",
       "\n",
       "    .dataframe tbody tr th {\n",
       "        vertical-align: top;\n",
       "    }\n",
       "\n",
       "    .dataframe thead th {\n",
       "        text-align: right;\n",
       "    }\n",
       "</style>\n",
       "<table border=\"1\" class=\"dataframe\">\n",
       "  <thead>\n",
       "    <tr style=\"text-align: right;\">\n",
       "      <th></th>\n",
       "      <th>speeches</th>\n",
       "      <th>degree</th>\n",
       "      <th>indegree</th>\n",
       "      <th>weighted_indegree</th>\n",
       "      <th>outdegree</th>\n",
       "      <th>weighted_outdegree</th>\n",
       "      <th>betweenness</th>\n",
       "      <th>betweenness_weighted</th>\n",
       "      <th>pagerank</th>\n",
       "      <th>pagerank_weighted</th>\n",
       "      <th>request_value</th>\n",
       "    </tr>\n",
       "  </thead>\n",
       "  <tbody>\n",
       "    <tr>\n",
       "      <th>adam</th>\n",
       "      <td>364</td>\n",
       "      <td>24</td>\n",
       "      <td>12</td>\n",
       "      <td>364</td>\n",
       "      <td>12</td>\n",
       "      <td>364</td>\n",
       "      <td>0.433712</td>\n",
       "      <td>0.287879</td>\n",
       "      <td>0.332570</td>\n",
       "      <td>0.332570</td>\n",
       "      <td>12.0</td>\n",
       "    </tr>\n",
       "    <tr>\n",
       "      <th>licht</th>\n",
       "      <td>136</td>\n",
       "      <td>16</td>\n",
       "      <td>7</td>\n",
       "      <td>135</td>\n",
       "      <td>9</td>\n",
       "      <td>136</td>\n",
       "      <td>0.186869</td>\n",
       "      <td>0.445707</td>\n",
       "      <td>0.120588</td>\n",
       "      <td>0.120588</td>\n",
       "      <td>9.0</td>\n",
       "    </tr>\n",
       "    <tr>\n",
       "      <th>walter</th>\n",
       "      <td>216</td>\n",
       "      <td>15</td>\n",
       "      <td>8</td>\n",
       "      <td>216</td>\n",
       "      <td>7</td>\n",
       "      <td>216</td>\n",
       "      <td>0.104167</td>\n",
       "      <td>0.083333</td>\n",
       "      <td>0.196775</td>\n",
       "      <td>0.196775</td>\n",
       "      <td>7.0</td>\n",
       "    </tr>\n",
       "    <tr>\n",
       "      <th>ruprecht</th>\n",
       "      <td>90</td>\n",
       "      <td>14</td>\n",
       "      <td>7</td>\n",
       "      <td>90</td>\n",
       "      <td>7</td>\n",
       "      <td>90</td>\n",
       "      <td>0.020833</td>\n",
       "      <td>0.000000</td>\n",
       "      <td>0.088340</td>\n",
       "      <td>0.088340</td>\n",
       "      <td>7.0</td>\n",
       "    </tr>\n",
       "    <tr>\n",
       "      <th>frau_marthe</th>\n",
       "      <td>72</td>\n",
       "      <td>13</td>\n",
       "      <td>7</td>\n",
       "      <td>73</td>\n",
       "      <td>6</td>\n",
       "      <td>72</td>\n",
       "      <td>0.006944</td>\n",
       "      <td>0.252525</td>\n",
       "      <td>0.071001</td>\n",
       "      <td>0.071001</td>\n",
       "      <td>6.0</td>\n",
       "    </tr>\n",
       "    <tr>\n",
       "      <th>veit</th>\n",
       "      <td>17</td>\n",
       "      <td>10</td>\n",
       "      <td>4</td>\n",
       "      <td>17</td>\n",
       "      <td>6</td>\n",
       "      <td>17</td>\n",
       "      <td>0.003788</td>\n",
       "      <td>0.540404</td>\n",
       "      <td>0.025318</td>\n",
       "      <td>0.025318</td>\n",
       "      <td>6.0</td>\n",
       "    </tr>\n",
       "    <tr>\n",
       "      <th>eve</th>\n",
       "      <td>53</td>\n",
       "      <td>11</td>\n",
       "      <td>6</td>\n",
       "      <td>53</td>\n",
       "      <td>5</td>\n",
       "      <td>53</td>\n",
       "      <td>0.000000</td>\n",
       "      <td>0.088384</td>\n",
       "      <td>0.054626</td>\n",
       "      <td>0.054626</td>\n",
       "      <td>5.0</td>\n",
       "    </tr>\n",
       "    <tr>\n",
       "      <th>frau_brigitte</th>\n",
       "      <td>21</td>\n",
       "      <td>12</td>\n",
       "      <td>7</td>\n",
       "      <td>21</td>\n",
       "      <td>5</td>\n",
       "      <td>21</td>\n",
       "      <td>0.001263</td>\n",
       "      <td>0.258838</td>\n",
       "      <td>0.028423</td>\n",
       "      <td>0.028423</td>\n",
       "      <td>5.0</td>\n",
       "    </tr>\n",
       "    <tr>\n",
       "      <th>der_bediente</th>\n",
       "      <td>9</td>\n",
       "      <td>4</td>\n",
       "      <td>2</td>\n",
       "      <td>9</td>\n",
       "      <td>2</td>\n",
       "      <td>9</td>\n",
       "      <td>0.000000</td>\n",
       "      <td>0.000000</td>\n",
       "      <td>0.018413</td>\n",
       "      <td>0.018413</td>\n",
       "      <td>2.0</td>\n",
       "    </tr>\n",
       "    <tr>\n",
       "      <th>erste_magd</th>\n",
       "      <td>9</td>\n",
       "      <td>3</td>\n",
       "      <td>1</td>\n",
       "      <td>9</td>\n",
       "      <td>2</td>\n",
       "      <td>9</td>\n",
       "      <td>0.000000</td>\n",
       "      <td>0.000000</td>\n",
       "      <td>0.018528</td>\n",
       "      <td>0.018528</td>\n",
       "      <td>2.0</td>\n",
       "    </tr>\n",
       "    <tr>\n",
       "      <th>zweite_magd</th>\n",
       "      <td>12</td>\n",
       "      <td>4</td>\n",
       "      <td>2</td>\n",
       "      <td>12</td>\n",
       "      <td>2</td>\n",
       "      <td>12</td>\n",
       "      <td>0.000000</td>\n",
       "      <td>0.000000</td>\n",
       "      <td>0.020812</td>\n",
       "      <td>0.020812</td>\n",
       "      <td>2.0</td>\n",
       "    </tr>\n",
       "    <tr>\n",
       "      <th>der_buettel</th>\n",
       "      <td>1</td>\n",
       "      <td>2</td>\n",
       "      <td>1</td>\n",
       "      <td>1</td>\n",
       "      <td>1</td>\n",
       "      <td>1</td>\n",
       "      <td>0.000000</td>\n",
       "      <td>0.000000</td>\n",
       "      <td>0.012315</td>\n",
       "      <td>0.012315</td>\n",
       "      <td>1.0</td>\n",
       "    </tr>\n",
       "    <tr>\n",
       "      <th>mehrere</th>\n",
       "      <td>1</td>\n",
       "      <td>2</td>\n",
       "      <td>1</td>\n",
       "      <td>1</td>\n",
       "      <td>1</td>\n",
       "      <td>1</td>\n",
       "      <td>0.000000</td>\n",
       "      <td>0.060606</td>\n",
       "      <td>0.012292</td>\n",
       "      <td>0.012292</td>\n",
       "      <td>1.0</td>\n",
       "    </tr>\n",
       "  </tbody>\n",
       "</table>\n",
       "</div>"
      ],
      "text/plain": [
       "               speeches  degree  indegree  weighted_indegree  outdegree  \\\n",
       "adam                364      24        12                364         12   \n",
       "licht               136      16         7                135          9   \n",
       "walter              216      15         8                216          7   \n",
       "ruprecht             90      14         7                 90          7   \n",
       "frau_marthe          72      13         7                 73          6   \n",
       "veit                 17      10         4                 17          6   \n",
       "eve                  53      11         6                 53          5   \n",
       "frau_brigitte        21      12         7                 21          5   \n",
       "der_bediente          9       4         2                  9          2   \n",
       "erste_magd            9       3         1                  9          2   \n",
       "zweite_magd          12       4         2                 12          2   \n",
       "der_buettel           1       2         1                  1          1   \n",
       "mehrere               1       2         1                  1          1   \n",
       "\n",
       "               weighted_outdegree  betweenness  betweenness_weighted  \\\n",
       "adam                          364     0.433712              0.287879   \n",
       "licht                         136     0.186869              0.445707   \n",
       "walter                        216     0.104167              0.083333   \n",
       "ruprecht                       90     0.020833              0.000000   \n",
       "frau_marthe                    72     0.006944              0.252525   \n",
       "veit                           17     0.003788              0.540404   \n",
       "eve                            53     0.000000              0.088384   \n",
       "frau_brigitte                  21     0.001263              0.258838   \n",
       "der_bediente                    9     0.000000              0.000000   \n",
       "erste_magd                      9     0.000000              0.000000   \n",
       "zweite_magd                    12     0.000000              0.000000   \n",
       "der_buettel                     1     0.000000              0.000000   \n",
       "mehrere                         1     0.000000              0.060606   \n",
       "\n",
       "               pagerank  pagerank_weighted  request_value  \n",
       "adam           0.332570           0.332570           12.0  \n",
       "licht          0.120588           0.120588            9.0  \n",
       "walter         0.196775           0.196775            7.0  \n",
       "ruprecht       0.088340           0.088340            7.0  \n",
       "frau_marthe    0.071001           0.071001            6.0  \n",
       "veit           0.025318           0.025318            6.0  \n",
       "eve            0.054626           0.054626            5.0  \n",
       "frau_brigitte  0.028423           0.028423            5.0  \n",
       "der_bediente   0.018413           0.018413            2.0  \n",
       "erste_magd     0.018528           0.018528            2.0  \n",
       "zweite_magd    0.020812           0.020812            2.0  \n",
       "der_buettel    0.012315           0.012315            1.0  \n",
       "mehrere        0.012292           0.012292            1.0  "
      ]
     },
     "metadata": {},
     "output_type": "display_data"
    }
   ],
   "source": [
    "fig2 = network.plot(network_type='com')"
   ]
  },
  {
   "cell_type": "markdown",
   "metadata": {},
   "source": [
    "## Plot network based on **character's configaration (copresence)**"
   ]
  },
  {
   "cell_type": "code",
   "execution_count": 31,
   "metadata": {},
   "outputs": [
    {
     "data": {
      "application/vnd.plotly.v1+json": {
       "config": {
        "plotlyServerURL": "https://plot.ly"
       },
       "data": [
        {
         "hoverinfo": "skip",
         "legendgroup": "licht → adam",
         "line": {
          "color": "grey",
          "smoothing": 1.3,
          "width": 3.6515151515151514
         },
         "mode": "lines",
         "name": "licht → adam",
         "opacity": 0.3,
         "showlegend": false,
         "type": "scatter",
         "x": [
          0.6159217850021731,
          0.1886767111911132
         ],
         "y": [
          0.6299467365721079,
          0.13073659959606698
         ]
        },
        {
         "hoverinfo": "text",
         "marker": {
          "color": "grey",
          "opacity": 0.4,
          "size": 3.6515151515151514,
          "symbol": "cross-thin"
         },
         "mode": "markers",
         "name": "licht → adam",
         "showlegend": false,
         "text": "<b>licht → adam</b>:<br><br>1<br>2<br>3<br>4<br>7<br>9<br>11<br>",
         "type": "scatter",
         "x": [
          0.22049283370895806
         ],
         "y": [
          0.16791182256236786
         ]
        },
        {
         "hoverinfo": "skip",
         "legendgroup": "adam → licht",
         "line": {
          "color": "grey",
          "smoothing": 1.3,
          "width": 3.6515151515151514
         },
         "mode": "lines",
         "name": "adam → licht",
         "opacity": 0.3,
         "showlegend": false,
         "type": "scatter",
         "x": [
          0.1886767111911132,
          0.6159217850021731
         ],
         "y": [
          0.13073659959606695,
          0.6299467365721079
         ]
        },
        {
         "hoverinfo": "text",
         "marker": {
          "color": "grey",
          "opacity": 0.4,
          "size": 3.6515151515151514,
          "symbol": "cross-thin"
         },
         "mode": "markers",
         "name": "adam → licht",
         "showlegend": false,
         "text": "<b>adam → licht</b>:<br><br>1<br>2<br>3<br>4<br>7<br>9<br>11<br>",
         "type": "scatter",
         "x": [
          0.5841056624843282
         ],
         "y": [
          0.5927715136058069
         ]
        },
        {
         "hoverinfo": "skip",
         "legendgroup": "der_bediente → adam",
         "line": {
          "color": "grey",
          "smoothing": 1.3,
          "width": 1.378787878787879
         },
         "mode": "lines",
         "name": "der_bediente → adam",
         "opacity": 0.3,
         "showlegend": false,
         "type": "scatter",
         "x": [
          0.6169516249873565,
          0.22197487071204297
         ],
         "y": [
          0.6435237565127079,
          0.5697269110088022
         ]
        },
        {
         "hoverinfo": "text",
         "marker": {
          "color": "grey",
          "opacity": 0.4,
          "size": 1.378787878787879,
          "symbol": "cross-thin"
         },
         "mode": "markers",
         "name": "der_bediente → adam",
         "showlegend": false,
         "text": "<b>der_bediente → adam</b>:<br><br>2<br>",
         "type": "scatter",
         "x": [
          0.25138803326445996
         ],
         "y": [
          0.5752224207803698
         ]
        },
        {
         "hoverinfo": "skip",
         "legendgroup": "der_bediente → licht",
         "line": {
          "color": "grey",
          "smoothing": 1.3,
          "width": 1.378787878787879
         },
         "mode": "lines",
         "name": "der_bediente → licht",
         "opacity": 0.3,
         "showlegend": false,
         "type": "scatter",
         "x": [
          0.17607107009722023,
          0.20833938963296658
         ],
         "y": [
          0.12838138112253805,
          0.5537946725946733
         ]
        },
        {
         "hoverinfo": "text",
         "marker": {
          "color": "grey",
          "opacity": 0.4,
          "size": 1.378787878787879,
          "symbol": "cross-thin"
         },
         "mode": "markers",
         "name": "der_bediente → licht",
         "showlegend": false,
         "text": "<b>der_bediente → licht</b>:<br><br>2<br>",
         "type": "scatter",
         "x": [
          0.2059364296675387
         ],
         "y": [
          0.5221149593999399
         ]
        },
        {
         "hoverinfo": "skip",
         "legendgroup": "der_bediente → erste_magd",
         "line": {
          "color": "grey",
          "smoothing": 1.3,
          "width": 1.378787878787879
         },
         "mode": "lines",
         "name": "der_bediente → erste_magd",
         "opacity": 0.3,
         "showlegend": false,
         "type": "scatter",
         "x": [
          -0.10487687292526766,
          0.19965027799309581
         ],
         "y": [
          0.02687219841909437,
          0.5506552133358039
         ]
        },
        {
         "hoverinfo": "text",
         "marker": {
          "color": "grey",
          "opacity": 0.4,
          "size": 1.378787878787879,
          "symbol": "cross-thin"
         },
         "mode": "markers",
         "name": "der_bediente → erste_magd",
         "showlegend": false,
         "text": "<b>der_bediente → erste_magd</b>:<br><br>2<br>",
         "type": "scatter",
         "x": [
          0.17697272420130283
         ],
         "y": [
          0.5116500952037085
         ]
        },
        {
         "hoverinfo": "skip",
         "legendgroup": "der_bediente → zweite_magd",
         "line": {
          "color": "grey",
          "smoothing": 1.3,
          "width": 1.378787878787879
         },
         "mode": "lines",
         "name": "der_bediente → zweite_magd",
         "opacity": 0.3,
         "showlegend": false,
         "type": "scatter",
         "x": [
          -0.2715802425306701,
          0.19449450367540297
         ],
         "y": [
          0.5614352492601724,
          0.5671880911968682
         ]
        },
        {
         "hoverinfo": "text",
         "marker": {
          "color": "grey",
          "opacity": 0.4,
          "size": 1.378787878787879,
          "symbol": "cross-thin"
         },
         "mode": "markers",
         "name": "der_bediente → zweite_magd",
         "showlegend": false,
         "text": "<b>der_bediente → zweite_magd</b>:<br><br>2<br>",
         "type": "scatter",
         "x": [
          0.1597868098089933
         ],
         "y": [
          0.5667596880739229
         ]
        },
        {
         "hoverinfo": "skip",
         "legendgroup": "adam → der_bediente",
         "line": {
          "color": "grey",
          "smoothing": 1.3,
          "width": 1.378787878787879
         },
         "mode": "lines",
         "name": "adam → der_bediente",
         "opacity": 0.3,
         "showlegend": false,
         "type": "scatter",
         "x": [
          0.22197487071204297,
          0.6169516249873565
         ],
         "y": [
          0.5697269110088022,
          0.643523756512708
         ]
        },
        {
         "hoverinfo": "text",
         "marker": {
          "color": "grey",
          "opacity": 0.4,
          "size": 1.378787878787879,
          "symbol": "cross-thin"
         },
         "mode": "markers",
         "name": "adam → der_bediente",
         "showlegend": false,
         "text": "<b>adam → der_bediente</b>:<br><br>2<br>",
         "type": "scatter",
         "x": [
          0.5875384624349396
         ],
         "y": [
          0.6380282467411404
         ]
        },
        {
         "hoverinfo": "skip",
         "legendgroup": "adam → erste_magd",
         "line": {
          "color": "grey",
          "smoothing": 1.3,
          "width": 2.1363636363636367
         },
         "mode": "lines",
         "name": "adam → erste_magd",
         "opacity": 0.3,
         "showlegend": false,
         "type": "scatter",
         "x": [
          -0.09227123183137467,
          0.6072326733623022
         ],
         "y": [
          0.029227416892623266,
          0.6268072773132385
         ]
        },
        {
         "hoverinfo": "text",
         "marker": {
          "color": "grey",
          "opacity": 0.4,
          "size": 2.1363636363636367,
          "symbol": "cross-thin"
         },
         "mode": "markers",
         "name": "adam → erste_magd",
         "showlegend": false,
         "text": "<b>adam → erste_magd</b>:<br><br>2<br>8<br>10<br>",
         "type": "scatter",
         "x": [
          0.5551419570180923
         ],
         "y": [
          0.5823066494095755
         ]
        },
        {
         "hoverinfo": "skip",
         "legendgroup": "adam → zweite_magd",
         "line": {
          "color": "grey",
          "smoothing": 1.3,
          "width": 1.7575757575757576
         },
         "mode": "lines",
         "name": "adam → zweite_magd",
         "opacity": 0.3,
         "showlegend": false,
         "type": "scatter",
         "x": [
          -0.25897460143677714,
          0.6020768990446094
         ],
         "y": [
          0.5637904677337013,
          0.6433401551743028
         ]
        },
        {
         "hoverinfo": "text",
         "marker": {
          "color": "grey",
          "opacity": 0.4,
          "size": 1.7575757575757576,
          "symbol": "cross-thin"
         },
         "mode": "markers",
         "name": "adam → zweite_magd",
         "showlegend": false,
         "text": "<b>adam → zweite_magd</b>:<br><br>2<br>5<br>",
         "type": "scatter",
         "x": [
          0.5379560426257828
         ],
         "y": [
          0.6374162422797899
         ]
        },
        {
         "hoverinfo": "skip",
         "legendgroup": "licht → der_bediente",
         "line": {
          "color": "grey",
          "smoothing": 1.3,
          "width": 1.378787878787879
         },
         "mode": "lines",
         "name": "licht → der_bediente",
         "opacity": 0.3,
         "showlegend": false,
         "type": "scatter",
         "x": [
          0.20833938963296658,
          0.17607107009722023
         ],
         "y": [
          0.5537946725946733,
          0.12838138112253805
         ]
        },
        {
         "hoverinfo": "text",
         "marker": {
          "color": "grey",
          "opacity": 0.4,
          "size": 1.378787878787879,
          "symbol": "cross-thin"
         },
         "mode": "markers",
         "name": "licht → der_bediente",
         "showlegend": false,
         "text": "<b>licht → der_bediente</b>:<br><br>2<br>",
         "type": "scatter",
         "x": [
          0.17847403006264811
         ],
         "y": [
          0.16006109431727153
         ]
        },
        {
         "hoverinfo": "skip",
         "legendgroup": "licht → erste_magd",
         "line": {
          "color": "grey",
          "smoothing": 1.3,
          "width": 1.378787878787879
         },
         "mode": "lines",
         "name": "licht → erste_magd",
         "opacity": 0.3,
         "showlegend": false,
         "type": "scatter",
         "x": [
          -0.10590671291045106,
          0.16635211847216605
         ],
         "y": [
          0.013295178478494304,
          0.11166490192306859
         ]
        },
        {
         "hoverinfo": "text",
         "marker": {
          "color": "grey",
          "opacity": 0.4,
          "size": 1.378787878787879,
          "symbol": "cross-thin"
         },
         "mode": "markers",
         "name": "licht → erste_magd",
         "showlegend": false,
         "text": "<b>licht → erste_magd</b>:<br><br>2<br>",
         "type": "scatter",
         "x": [
          0.14607752464580095
         ],
         "y": [
          0.10433949698570667
         ]
        },
        {
         "hoverinfo": "skip",
         "legendgroup": "licht → zweite_magd",
         "line": {
          "color": "grey",
          "smoothing": 1.3,
          "width": 1.378787878787879
         },
         "mode": "lines",
         "name": "licht → zweite_magd",
         "opacity": 0.3,
         "showlegend": false,
         "type": "scatter",
         "x": [
          -0.2726100825158535,
          0.1611963441544732
         ],
         "y": [
          0.5478582293195724,
          0.12819777978413288
         ]
        },
        {
         "hoverinfo": "text",
         "marker": {
          "color": "grey",
          "opacity": 0.4,
          "size": 1.378787878787879,
          "symbol": "cross-thin"
         },
         "mode": "markers",
         "name": "licht → zweite_magd",
         "showlegend": false,
         "text": "<b>licht → zweite_magd</b>:<br><br>2<br>",
         "type": "scatter",
         "x": [
          0.1288916102534914
         ],
         "y": [
          0.15944908985592093
         ]
        },
        {
         "hoverinfo": "skip",
         "legendgroup": "erste_magd → der_bediente",
         "line": {
          "color": "grey",
          "smoothing": 1.3,
          "width": 1.378787878787879
         },
         "mode": "lines",
         "name": "erste_magd → der_bediente",
         "opacity": 0.3,
         "showlegend": false,
         "type": "scatter",
         "x": [
          0.19965027799309581,
          -0.10487687292526765
         ],
         "y": [
          0.5506552133358039,
          0.026872198419094384
         ]
        },
        {
         "hoverinfo": "text",
         "marker": {
          "color": "grey",
          "opacity": 0.4,
          "size": 1.378787878787879,
          "symbol": "cross-thin"
         },
         "mode": "markers",
         "name": "erste_magd → der_bediente",
         "showlegend": false,
         "text": "<b>erste_magd → der_bediente</b>:<br><br>2<br>",
         "type": "scatter",
         "x": [
          -0.08219931913347464
         ],
         "y": [
          0.06587731655118977
         ]
        },
        {
         "hoverinfo": "skip",
         "legendgroup": "erste_magd → adam",
         "line": {
          "color": "grey",
          "smoothing": 1.3,
          "width": 2.1363636363636367
         },
         "mode": "lines",
         "name": "erste_magd → adam",
         "opacity": 0.3,
         "showlegend": false,
         "type": "scatter",
         "x": [
          0.6072326733623022,
          -0.09227123183137466
         ],
         "y": [
          0.6268072773132385,
          0.029227416892623287
         ]
        },
        {
         "hoverinfo": "text",
         "marker": {
          "color": "grey",
          "opacity": 0.4,
          "size": 2.1363636363636367,
          "symbol": "cross-thin"
         },
         "mode": "markers",
         "name": "erste_magd → adam",
         "showlegend": false,
         "text": "<b>erste_magd → adam</b>:<br><br>2<br>8<br>10<br>",
         "type": "scatter",
         "x": [
          -0.0401805154871647
         ],
         "y": [
          0.07372804479628611
         ]
        },
        {
         "hoverinfo": "skip",
         "legendgroup": "erste_magd → licht",
         "line": {
          "color": "grey",
          "smoothing": 1.3,
          "width": 1.378787878787879
         },
         "mode": "lines",
         "name": "erste_magd → licht",
         "opacity": 0.3,
         "showlegend": false,
         "type": "scatter",
         "x": [
          0.16635211847216605,
          -0.10590671291045105
         ],
         "y": [
          0.11166490192306859,
          0.013295178478494308
         ]
        },
        {
         "hoverinfo": "text",
         "marker": {
          "color": "grey",
          "opacity": 0.4,
          "size": 1.378787878787879,
          "symbol": "cross-thin"
         },
         "mode": "markers",
         "name": "erste_magd → licht",
         "showlegend": false,
         "text": "<b>erste_magd → licht</b>:<br><br>2<br>",
         "type": "scatter",
         "x": [
          -0.08563211908408595
         ],
         "y": [
          0.020620583415856222
         ]
        },
        {
         "hoverinfo": "skip",
         "legendgroup": "erste_magd → zweite_magd",
         "line": {
          "color": "grey",
          "smoothing": 1.3,
          "width": 1.378787878787879
         },
         "mode": "lines",
         "name": "erste_magd → zweite_magd",
         "opacity": 0.3,
         "showlegend": false,
         "type": "scatter",
         "x": [
          -0.28129919415572424,
          -0.11975159886801469
         ],
         "y": [
          0.544718770060703,
          0.0266885970806892
         ]
        },
        {
         "hoverinfo": "text",
         "marker": {
          "color": "grey",
          "opacity": 0.4,
          "size": 1.378787878787879,
          "symbol": "cross-thin"
         },
         "mode": "markers",
         "name": "erste_magd → zweite_magd",
         "showlegend": false,
         "text": "<b>erste_magd → zweite_magd</b>:<br><br>2<br>",
         "type": "scatter",
         "x": [
          -0.13178173894263134
         ],
         "y": [
          0.06526531208983916
         ]
        },
        {
         "hoverinfo": "skip",
         "legendgroup": "zweite_magd → der_bediente",
         "line": {
          "color": "grey",
          "smoothing": 1.3,
          "width": 1.378787878787879
         },
         "mode": "lines",
         "name": "zweite_magd → der_bediente",
         "opacity": 0.3,
         "showlegend": false,
         "type": "scatter",
         "x": [
          0.19449450367540297,
          -0.2715802425306701
         ],
         "y": [
          0.5671880911968682,
          0.5614352492601725
         ]
        },
        {
         "hoverinfo": "text",
         "marker": {
          "color": "grey",
          "opacity": 0.4,
          "size": 1.378787878787879,
          "symbol": "cross-thin"
         },
         "mode": "markers",
         "name": "zweite_magd → der_bediente",
         "showlegend": false,
         "text": "<b>zweite_magd → der_bediente</b>:<br><br>2<br>",
         "type": "scatter",
         "x": [
          -0.23687254866426044
         ],
         "y": [
          0.561863652383118
         ]
        },
        {
         "hoverinfo": "skip",
         "legendgroup": "zweite_magd → adam",
         "line": {
          "color": "grey",
          "smoothing": 1.3,
          "width": 1.7575757575757576
         },
         "mode": "lines",
         "name": "zweite_magd → adam",
         "opacity": 0.3,
         "showlegend": false,
         "type": "scatter",
         "x": [
          0.6020768990446095,
          -0.2589746014367771
         ],
         "y": [
          0.6433401551743028,
          0.5637904677337013
         ]
        },
        {
         "hoverinfo": "text",
         "marker": {
          "color": "grey",
          "opacity": 0.4,
          "size": 1.7575757575757576,
          "symbol": "cross-thin"
         },
         "mode": "markers",
         "name": "zweite_magd → adam",
         "showlegend": false,
         "text": "<b>zweite_magd → adam</b>:<br><br>2<br>5<br>",
         "type": "scatter",
         "x": [
          -0.1948537450179505
         ],
         "y": [
          0.5697143806282143
         ]
        },
        {
         "hoverinfo": "skip",
         "legendgroup": "zweite_magd → licht",
         "line": {
          "color": "grey",
          "smoothing": 1.3,
          "width": 1.378787878787879
         },
         "mode": "lines",
         "name": "zweite_magd → licht",
         "opacity": 0.3,
         "showlegend": false,
         "type": "scatter",
         "x": [
          0.1611963441544732,
          -0.2726100825158535
         ],
         "y": [
          0.12819777978413288,
          0.5478582293195724
         ]
        },
        {
         "hoverinfo": "text",
         "marker": {
          "color": "grey",
          "opacity": 0.4,
          "size": 1.378787878787879,
          "symbol": "cross-thin"
         },
         "mode": "markers",
         "name": "zweite_magd → licht",
         "showlegend": false,
         "text": "<b>zweite_magd → licht</b>:<br><br>2<br>",
         "type": "scatter",
         "x": [
          -0.24030534861487174
         ],
         "y": [
          0.5166069192477845
         ]
        },
        {
         "hoverinfo": "skip",
         "legendgroup": "zweite_magd → erste_magd",
         "line": {
          "color": "grey",
          "smoothing": 1.3,
          "width": 1.378787878787879
         },
         "mode": "lines",
         "name": "zweite_magd → erste_magd",
         "opacity": 0.3,
         "showlegend": false,
         "type": "scatter",
         "x": [
          -0.11975159886801467,
          -0.28129919415572424
         ],
         "y": [
          0.026688597080689186,
          0.544718770060703
         ]
        },
        {
         "hoverinfo": "text",
         "marker": {
          "color": "grey",
          "opacity": 0.4,
          "size": 1.378787878787879,
          "symbol": "cross-thin"
         },
         "mode": "markers",
         "name": "zweite_magd → erste_magd",
         "showlegend": false,
         "text": "<b>zweite_magd → erste_magd</b>:<br><br>2<br>",
         "type": "scatter",
         "x": [
          -0.26926905408110763
         ],
         "y": [
          0.5061420550515531
         ]
        },
        {
         "hoverinfo": "skip",
         "legendgroup": "walter → adam",
         "line": {
          "color": "grey",
          "smoothing": 1.3,
          "width": 3.6515151515151514
         },
         "mode": "lines",
         "name": "walter → adam",
         "opacity": 0.3,
         "showlegend": false,
         "type": "scatter",
         "x": [
          0.5935607837025692,
          -0.5343289974960796
         ],
         "y": [
          0.6349934783757853,
          0.29391458458163866
         ]
        },
        {
         "hoverinfo": "text",
         "marker": {
          "color": "grey",
          "opacity": 0.4,
          "size": 3.6515151515151514,
          "symbol": "cross-thin"
         },
         "mode": "markers",
         "name": "walter → adam",
         "showlegend": false,
         "text": "<b>walter → adam</b>:<br><br>4<br>5<br>7<br>8<br>9<br>10<br>11<br>",
         "type": "scatter",
         "x": [
          -0.45033720527915905
         ],
         "y": [
          0.3193140766726921
         ]
        },
        {
         "hoverinfo": "skip",
         "legendgroup": "walter → licht",
         "line": {
          "color": "grey",
          "smoothing": 1.3,
          "width": 2.893939393939394
         },
         "mode": "lines",
         "name": "walter → licht",
         "opacity": 0.3,
         "showlegend": false,
         "type": "scatter",
         "x": [
          0.15268022881243293,
          -0.547964478575156
         ],
         "y": [
          0.11985110298561547,
          0.27798234616750966
         ]
        },
        {
         "hoverinfo": "text",
         "marker": {
          "color": "grey",
          "opacity": 0.4,
          "size": 2.893939393939394,
          "symbol": "cross-thin"
         },
         "mode": "markers",
         "name": "walter → licht",
         "showlegend": false,
         "text": "<b>walter → licht</b>:<br><br>4<br>7<br>9<br>11<br>12<br>",
         "type": "scatter",
         "x": [
          -0.4957888088760803
         ],
         "y": [
          0.2662066152922622
         ]
        },
        {
         "hoverinfo": "skip",
         "legendgroup": "adam → walter",
         "line": {
          "color": "grey",
          "smoothing": 1.3,
          "width": 3.6515151515151514
         },
         "mode": "lines",
         "name": "adam → walter",
         "opacity": 0.3,
         "showlegend": false,
         "type": "scatter",
         "x": [
          -0.5343289974960796,
          0.5935607837025692
         ],
         "y": [
          0.2939145845816386,
          0.6349934783757853
         ]
        },
        {
         "hoverinfo": "text",
         "marker": {
          "color": "grey",
          "opacity": 0.4,
          "size": 3.6515151515151514,
          "symbol": "cross-thin"
         },
         "mode": "markers",
         "name": "adam → walter",
         "showlegend": false,
         "text": "<b>adam → walter</b>:<br><br>4<br>5<br>7<br>8<br>9<br>10<br>11<br>",
         "type": "scatter",
         "x": [
          0.5095689914856485
         ],
         "y": [
          0.6095939862847318
         ]
        },
        {
         "hoverinfo": "skip",
         "legendgroup": "licht → walter",
         "line": {
          "color": "grey",
          "smoothing": 1.3,
          "width": 2.893939393939394
         },
         "mode": "lines",
         "name": "licht → walter",
         "opacity": 0.3,
         "showlegend": false,
         "type": "scatter",
         "x": [
          -0.547964478575156,
          0.1526802288124329
         ],
         "y": [
          0.27798234616750966,
          0.11985110298561547
         ]
        },
        {
         "hoverinfo": "text",
         "marker": {
          "color": "grey",
          "opacity": 0.4,
          "size": 2.893939393939394,
          "symbol": "cross-thin"
         },
         "mode": "markers",
         "name": "licht → walter",
         "showlegend": false,
         "text": "<b>licht → walter</b>:<br><br>4<br>7<br>9<br>11<br>12<br>",
         "type": "scatter",
         "x": [
          0.10050455911335714
         ],
         "y": [
          0.1316268338608629
         ]
        },
        {
         "hoverinfo": "skip",
         "legendgroup": "zweite_magd → walter",
         "line": {
          "color": "grey",
          "smoothing": 1.3,
          "width": 1.378787878787879
         },
         "mode": "lines",
         "name": "zweite_magd → walter",
         "opacity": 0.3,
         "showlegend": false,
         "type": "scatter",
         "x": [
          -0.5618093645327196,
          -0.2949710838154574
         ],
         "y": [
          0.29137576476970456,
          0.5529049711232499
         ]
        },
        {
         "hoverinfo": "text",
         "marker": {
          "color": "grey",
          "opacity": 0.4,
          "size": 1.378787878787879,
          "symbol": "cross-thin"
         },
         "mode": "markers",
         "name": "zweite_magd → walter",
         "showlegend": false,
         "text": "<b>zweite_magd → walter</b>:<br><br>5<br>",
         "type": "scatter",
         "x": [
          -0.3148420196135514
         ],
         "y": [
          0.5334293919267094
         ]
        },
        {
         "hoverinfo": "skip",
         "legendgroup": "zweite_magd → der_buettel",
         "line": {
          "color": "grey",
          "smoothing": 1.3,
          "width": 1.378787878787879
         },
         "mode": "lines",
         "name": "zweite_magd → der_buettel",
         "opacity": 0.3,
         "showlegend": false,
         "type": "scatter",
         "x": [
          -0.08508307431848156,
          -0.2802269717469758
         ],
         "y": [
          0.9157859751799717,
          0.5722166271153201
         ]
        },
        {
         "hoverinfo": "text",
         "marker": {
          "color": "grey",
          "opacity": 0.4,
          "size": 1.378787878787879,
          "symbol": "cross-thin"
         },
         "mode": "markers",
         "name": "zweite_magd → der_buettel",
         "showlegend": false,
         "text": "<b>zweite_magd → der_buettel</b>:<br><br>5<br>",
         "type": "scatter",
         "x": [
          -0.2656949793852795
         ],
         "y": [
          0.597801578566943
         ]
        },
        {
         "hoverinfo": "skip",
         "legendgroup": "adam → der_buettel",
         "line": {
          "color": "grey",
          "smoothing": 1.3,
          "width": 1.378787878787879
         },
         "mode": "lines",
         "name": "adam → der_buettel",
         "opacity": 0.3,
         "showlegend": false,
         "type": "scatter",
         "x": [
          -0.05760270728184156,
          0.6083048957710507
         ],
         "y": [
          0.9183247949919058,
          0.6543051343678555
         ]
        },
        {
         "hoverinfo": "text",
         "marker": {
          "color": "grey",
          "opacity": 0.4,
          "size": 1.378787878787879,
          "symbol": "cross-thin"
         },
         "mode": "markers",
         "name": "adam → der_buettel",
         "showlegend": false,
         "text": "<b>adam → der_buettel</b>:<br><br>5<br>",
         "type": "scatter",
         "x": [
          0.5587160317139205
         ],
         "y": [
          0.6739661729249655
         ]
        },
        {
         "hoverinfo": "skip",
         "legendgroup": "walter → zweite_magd",
         "line": {
          "color": "grey",
          "smoothing": 1.3,
          "width": 1.378787878787879
         },
         "mode": "lines",
         "name": "walter → zweite_magd",
         "opacity": 0.3,
         "showlegend": false,
         "type": "scatter",
         "x": [
          -0.2949710838154574,
          -0.5618093645327197
         ],
         "y": [
          0.5529049711232499,
          0.29137576476970456
         ]
        },
        {
         "hoverinfo": "text",
         "marker": {
          "color": "grey",
          "opacity": 0.4,
          "size": 1.378787878787879,
          "symbol": "cross-thin"
         },
         "mode": "markers",
         "name": "walter → zweite_magd",
         "showlegend": false,
         "text": "<b>walter → zweite_magd</b>:<br><br>5<br>",
         "type": "scatter",
         "x": [
          -0.5419384287346257
         ],
         "y": [
          0.31085134396624514
         ]
        },
        {
         "hoverinfo": "skip",
         "legendgroup": "walter → der_buettel",
         "line": {
          "color": "grey",
          "smoothing": 1.3,
          "width": 1.378787878787879
         },
         "mode": "lines",
         "name": "walter → der_buettel",
         "opacity": 0.3,
         "showlegend": false,
         "type": "scatter",
         "x": [
          -0.09359918966052183,
          -0.5555813678062783
         ],
         "y": [
          0.9074392983814543,
          0.3023407439632573
         ]
        },
        {
         "hoverinfo": "text",
         "marker": {
          "color": "grey",
          "opacity": 0.4,
          "size": 1.378787878787879,
          "symbol": "cross-thin"
         },
         "mode": "markers",
         "name": "walter → der_buettel",
         "showlegend": false,
         "text": "<b>walter → der_buettel</b>:<br><br>5<br>",
         "type": "scatter",
         "x": [
          -0.521178439646488
         ],
         "y": [
          0.3474012746114209
         ]
        },
        {
         "hoverinfo": "skip",
         "legendgroup": "der_buettel → zweite_magd",
         "line": {
          "color": "grey",
          "smoothing": 1.3,
          "width": 1.378787878787879
         },
         "mode": "lines",
         "name": "der_buettel → zweite_magd",
         "opacity": 0.3,
         "showlegend": false,
         "type": "scatter",
         "x": [
          -0.2802269717469758,
          -0.08508307431848157
         ],
         "y": [
          0.57221662711532,
          0.9157859751799717
         ]
        },
        {
         "hoverinfo": "text",
         "marker": {
          "color": "grey",
          "opacity": 0.4,
          "size": 1.378787878787879,
          "symbol": "cross-thin"
         },
         "mode": "markers",
         "name": "der_buettel → zweite_magd",
         "showlegend": false,
         "text": "<b>der_buettel → zweite_magd</b>:<br><br>5<br>",
         "type": "scatter",
         "x": [
          -0.09961506668017794
         ],
         "y": [
          0.8902010237283489
         ]
        },
        {
         "hoverinfo": "skip",
         "legendgroup": "der_buettel → adam",
         "line": {
          "color": "grey",
          "smoothing": 1.3,
          "width": 1.378787878787879
         },
         "mode": "lines",
         "name": "der_buettel → adam",
         "opacity": 0.3,
         "showlegend": false,
         "type": "scatter",
         "x": [
          0.6083048957710507,
          -0.05760270728184154
         ],
         "y": [
          0.6543051343678554,
          0.9183247949919058
         ]
        },
        {
         "hoverinfo": "text",
         "marker": {
          "color": "grey",
          "opacity": 0.4,
          "size": 1.378787878787879,
          "symbol": "cross-thin"
         },
         "mode": "markers",
         "name": "der_buettel → adam",
         "showlegend": false,
         "text": "<b>der_buettel → adam</b>:<br><br>5<br>",
         "type": "scatter",
         "x": [
          -0.008013843224711284
         ],
         "y": [
          0.8986637564347958
         ]
        },
        {
         "hoverinfo": "skip",
         "legendgroup": "der_buettel → walter",
         "line": {
          "color": "grey",
          "smoothing": 1.3,
          "width": 1.378787878787879
         },
         "mode": "lines",
         "name": "der_buettel → walter",
         "opacity": 0.3,
         "showlegend": false,
         "type": "scatter",
         "x": [
          -0.5555813678062783,
          -0.09359918966052186
         ],
         "y": [
          0.3023407439632573,
          0.9074392983814543
         ]
        },
        {
         "hoverinfo": "text",
         "marker": {
          "color": "grey",
          "opacity": 0.4,
          "size": 1.378787878787879,
          "symbol": "cross-thin"
         },
         "mode": "markers",
         "name": "der_buettel → walter",
         "showlegend": false,
         "text": "<b>der_buettel → walter</b>:<br><br>5<br>",
         "type": "scatter",
         "x": [
          -0.12800211782031223
         ],
         "y": [
          0.8623787677332908
         ]
        },
        {
         "hoverinfo": "skip",
         "legendgroup": "frau_marthe → veit",
         "line": {
          "color": "grey",
          "smoothing": 1.3,
          "width": 2.515151515151515
         },
         "mode": "lines",
         "name": "frau_marthe → veit",
         "opacity": 0.3,
         "showlegend": false,
         "type": "scatter",
         "x": [
          -0.4948832541487875,
          0.5565436820795079
         ],
         "y": [
          -0.8875056221800677,
          -0.4581990100947636
         ]
        },
        {
         "hoverinfo": "text",
         "marker": {
          "color": "grey",
          "opacity": 0.4,
          "size": 2.515151515151515,
          "symbol": "cross-thin"
         },
         "mode": "markers",
         "name": "frau_marthe → veit",
         "showlegend": false,
         "text": "<b>frau_marthe → veit</b>:<br><br>6<br>7<br>9<br>11<br>",
         "type": "scatter",
         "x": [
          0.47824593150931577
         ],
         "y": [
          -0.49016865142026494
         ]
        },
        {
         "hoverinfo": "skip",
         "legendgroup": "frau_marthe → ruprecht",
         "line": {
          "color": "grey",
          "smoothing": 1.3,
          "width": 2.893939393939394
         },
         "mode": "lines",
         "name": "frau_marthe → ruprecht",
         "opacity": 0.3,
         "showlegend": false,
         "type": "scatter",
         "x": [
          -0.6049956837241556,
          0.5531381430204759
         ],
         "y": [
          -0.3310880965869891,
          -0.44099022064343124
         ]
        },
        {
         "hoverinfo": "text",
         "marker": {
          "color": "grey",
          "opacity": 0.4,
          "size": 2.893939393939394,
          "symbol": "cross-thin"
         },
         "mode": "markers",
         "name": "frau_marthe → ruprecht",
         "showlegend": false,
         "text": "<b>frau_marthe → ruprecht</b>:<br><br>6<br>7<br>9<br>10<br>11<br>",
         "type": "scatter",
         "x": [
          0.46689413464587576
         ],
         "y": [
          -0.4328060199158239
         ]
        },
        {
         "hoverinfo": "skip",
         "legendgroup": "frau_marthe → eve",
         "line": {
          "color": "grey",
          "smoothing": 1.3,
          "width": 2.515151515151515
         },
         "mode": "lines",
         "name": "frau_marthe → eve",
         "opacity": 0.3,
         "showlegend": false,
         "type": "scatter",
         "x": [
          0.12982418300638407,
          0.5758645306513174
         ],
         "y": [
          -0.9833349320572293,
          -0.46116280318374797
         ]
        },
        {
         "hoverinfo": "text",
         "marker": {
          "color": "grey",
          "opacity": 0.4,
          "size": 2.515151515151515,
          "symbol": "cross-thin"
         },
         "mode": "markers",
         "name": "frau_marthe → eve",
         "showlegend": false,
         "text": "<b>frau_marthe → eve</b>:<br><br>6<br>7<br>9<br>11<br>",
         "type": "scatter",
         "x": [
          0.5426487600820139
         ],
         "y": [
          -0.5000479617168796
         ]
        },
        {
         "hoverinfo": "skip",
         "legendgroup": "veit → frau_marthe",
         "line": {
          "color": "grey",
          "smoothing": 1.3,
          "width": 2.515151515151515
         },
         "mode": "lines",
         "name": "veit → frau_marthe",
         "opacity": 0.3,
         "showlegend": false,
         "type": "scatter",
         "x": [
          0.5565436820795079,
          -0.4948832541487875
         ],
         "y": [
          -0.45819901009476355,
          -0.8875056221800677
         ]
        },
        {
         "hoverinfo": "text",
         "marker": {
          "color": "grey",
          "opacity": 0.4,
          "size": 2.515151515151515,
          "symbol": "cross-thin"
         },
         "mode": "markers",
         "name": "veit → frau_marthe",
         "showlegend": false,
         "text": "<b>veit → frau_marthe</b>:<br><br>6<br>7<br>9<br>11<br>",
         "type": "scatter",
         "x": [
          -0.4165855035785953
         ],
         "y": [
          -0.8555359808545663
         ]
        },
        {
         "hoverinfo": "skip",
         "legendgroup": "veit → ruprecht",
         "line": {
          "color": "grey",
          "smoothing": 1.3,
          "width": 2.893939393939394
         },
         "mode": "lines",
         "name": "veit → ruprecht",
         "opacity": 0.3,
         "showlegend": false,
         "type": "scatter",
         "x": [
          -0.6385518625399523,
          -0.5318449720236161
         ],
         "y": [
          -0.3447893714407754,
          -0.8839981075825216
         ]
        },
        {
         "hoverinfo": "text",
         "marker": {
          "color": "grey",
          "opacity": 0.4,
          "size": 2.893939393939394,
          "symbol": "cross-thin"
         },
         "mode": "markers",
         "name": "veit → ruprecht",
         "showlegend": false,
         "text": "<b>veit → ruprecht</b>:<br><br>6<br>7<br>9<br>11<br>12<br>",
         "type": "scatter",
         "x": [
          -0.5397912298280242
         ],
         "y": [
          -0.8438442655294128
         ]
        },
        {
         "hoverinfo": "skip",
         "legendgroup": "veit → eve",
         "line": {
          "color": "grey",
          "smoothing": 1.3,
          "width": 2.893939393939394
         },
         "mode": "lines",
         "name": "veit → eve",
         "opacity": 0.3,
         "showlegend": false,
         "type": "scatter",
         "x": [
          0.09626800419058741,
          -0.5091185843927747
         ],
         "y": [
          -0.9970362069110156,
          -0.9041706901228383
         ]
        },
        {
         "hoverinfo": "text",
         "marker": {
          "color": "grey",
          "opacity": 0.4,
          "size": 2.893939393939394,
          "symbol": "cross-thin"
         },
         "mode": "markers",
         "name": "veit → eve",
         "showlegend": false,
         "text": "<b>veit → eve</b>:<br><br>6<br>7<br>9<br>11<br>12<br>",
         "type": "scatter",
         "x": [
          -0.4640366043918861
         ],
         "y": [
          -0.9110862073304685
         ]
        },
        {
         "hoverinfo": "skip",
         "legendgroup": "ruprecht → frau_marthe",
         "line": {
          "color": "grey",
          "smoothing": 1.3,
          "width": 2.893939393939394
         },
         "mode": "lines",
         "name": "ruprecht → frau_marthe",
         "opacity": 0.3,
         "showlegend": false,
         "type": "scatter",
         "x": [
          0.5531381430204759,
          -0.6049956837241556
         ],
         "y": [
          -0.44099022064343124,
          -0.3310880965869892
         ]
        },
        {
         "hoverinfo": "text",
         "marker": {
          "color": "grey",
          "opacity": 0.4,
          "size": 2.893939393939394,
          "symbol": "cross-thin"
         },
         "mode": "markers",
         "name": "ruprecht → frau_marthe",
         "showlegend": false,
         "text": "<b>ruprecht → frau_marthe</b>:<br><br>6<br>7<br>9<br>10<br>11<br>",
         "type": "scatter",
         "x": [
          -0.5187516753495555
         ],
         "y": [
          -0.33927229731459657
         ]
        },
        {
         "hoverinfo": "skip",
         "legendgroup": "ruprecht → veit",
         "line": {
          "color": "grey",
          "smoothing": 1.3,
          "width": 2.893939393939394
         },
         "mode": "lines",
         "name": "ruprecht → veit",
         "opacity": 0.3,
         "showlegend": false,
         "type": "scatter",
         "x": [
          -0.5318449720236161,
          -0.6385518625399523
         ],
         "y": [
          -0.8839981075825216,
          -0.3447893714407755
         ]
        },
        {
         "hoverinfo": "text",
         "marker": {
          "color": "grey",
          "opacity": 0.4,
          "size": 2.893939393939394,
          "symbol": "cross-thin"
         },
         "mode": "markers",
         "name": "ruprecht → veit",
         "showlegend": false,
         "text": "<b>ruprecht → veit</b>:<br><br>6<br>7<br>9<br>11<br>12<br>",
         "type": "scatter",
         "x": [
          -0.6306056047355444
         ],
         "y": [
          -0.3849432134938842
         ]
        },
        {
         "hoverinfo": "skip",
         "legendgroup": "ruprecht → eve",
         "line": {
          "color": "grey",
          "smoothing": 1.3,
          "width": 2.893939393939394
         },
         "mode": "lines",
         "name": "ruprecht → eve",
         "opacity": 0.3,
         "showlegend": false,
         "type": "scatter",
         "x": [
          0.09286246513155541,
          -0.6192310139681428
         ],
         "y": [
          -0.9798274174596833,
          -0.34775316452975985
         ]
        },
        {
         "hoverinfo": "text",
         "marker": {
          "color": "grey",
          "opacity": 0.4,
          "size": 2.893939393939394,
          "symbol": "cross-thin"
         },
         "mode": "markers",
         "name": "ruprecht → eve",
         "showlegend": false,
         "text": "<b>ruprecht → eve</b>:<br><br>6<br>7<br>9<br>11<br>12<br>",
         "type": "scatter",
         "x": [
          -0.5662027761628462
         ],
         "y": [
          -0.39482252379049887
         ]
        },
        {
         "hoverinfo": "skip",
         "legendgroup": "eve → frau_marthe",
         "line": {
          "color": "grey",
          "smoothing": 1.3,
          "width": 2.515151515151515
         },
         "mode": "lines",
         "name": "eve → frau_marthe",
         "opacity": 0.3,
         "showlegend": false,
         "type": "scatter",
         "x": [
          0.5758645306513174,
          0.1298241830063841
         ],
         "y": [
          -0.4611628031837479,
          -0.9833349320572293
         ]
        },
        {
         "hoverinfo": "text",
         "marker": {
          "color": "grey",
          "opacity": 0.4,
          "size": 2.515151515151515,
          "symbol": "cross-thin"
         },
         "mode": "markers",
         "name": "eve → frau_marthe",
         "showlegend": false,
         "text": "<b>eve → frau_marthe</b>:<br><br>6<br>7<br>9<br>11<br>",
         "type": "scatter",
         "x": [
          0.16303995357568762
         ],
         "y": [
          -0.9444497735240978
         ]
        },
        {
         "hoverinfo": "skip",
         "legendgroup": "eve → veit",
         "line": {
          "color": "grey",
          "smoothing": 1.3,
          "width": 2.893939393939394
         },
         "mode": "lines",
         "name": "eve → veit",
         "opacity": 0.3,
         "showlegend": false,
         "type": "scatter",
         "x": [
          -0.5091185843927747,
          0.0962680041905874
         ],
         "y": [
          -0.9041706901228383,
          -0.9970362069110156
         ]
        },
        {
         "hoverinfo": "text",
         "marker": {
          "color": "grey",
          "opacity": 0.4,
          "size": 2.893939393939394,
          "symbol": "cross-thin"
         },
         "mode": "markers",
         "name": "eve → veit",
         "showlegend": false,
         "text": "<b>eve → veit</b>:<br><br>6<br>7<br>9<br>11<br>12<br>",
         "type": "scatter",
         "x": [
          0.05118602418969874
         ],
         "y": [
          -0.9901206897033854
         ]
        },
        {
         "hoverinfo": "skip",
         "legendgroup": "eve → ruprecht",
         "line": {
          "color": "grey",
          "smoothing": 1.3,
          "width": 2.893939393939394
         },
         "mode": "lines",
         "name": "eve → ruprecht",
         "opacity": 0.3,
         "showlegend": false,
         "type": "scatter",
         "x": [
          -0.6192310139681428,
          0.09286246513155538
         ],
         "y": [
          -0.3477531645297598,
          -0.9798274174596833
         ]
        },
        {
         "hoverinfo": "text",
         "marker": {
          "color": "grey",
          "opacity": 0.4,
          "size": 2.893939393939394,
          "symbol": "cross-thin"
         },
         "mode": "markers",
         "name": "eve → ruprecht",
         "showlegend": false,
         "text": "<b>eve → ruprecht</b>:<br><br>6<br>7<br>9<br>11<br>12<br>",
         "type": "scatter",
         "x": [
          0.03983422732625873
         ],
         "y": [
          -0.9327580581989443
         ]
        },
        {
         "hoverinfo": "skip",
         "legendgroup": "adam → eve",
         "line": {
          "color": "grey",
          "smoothing": 1.3,
          "width": 2.1363636363636367
         },
         "mode": "lines",
         "name": "adam → eve",
         "opacity": 0.3,
         "showlegend": false,
         "type": "scatter",
         "x": [
          0.13100790516196242,
          0.6141382136816839
         ],
         "y": [
          -0.9506236307504129,
          0.5965026057366497
         ]
        },
        {
         "hoverinfo": "text",
         "marker": {
          "color": "grey",
          "opacity": 0.4,
          "size": 2.1363636363636367,
          "symbol": "cross-thin"
         },
         "mode": "markers",
         "name": "adam → eve",
         "showlegend": false,
         "text": "<b>adam → eve</b>:<br><br>7<br>9<br>11<br>",
         "type": "scatter",
         "x": [
          0.5781604247493642
         ],
         "y": [
          0.48129107748761313
         ]
        },
        {
         "hoverinfo": "skip",
         "legendgroup": "adam → frau_marthe",
         "line": {
          "color": "grey",
          "smoothing": 1.3,
          "width": 2.515151515151515
         },
         "mode": "lines",
         "name": "adam → frau_marthe",
         "opacity": 0.3,
         "showlegend": false,
         "type": "scatter",
         "x": [
          0.5912835830508829,
          0.6283735439256711
         ],
         "y": [
          -0.41178643393416087,
          0.6131676736794204
         ]
        },
        {
         "hoverinfo": "text",
         "marker": {
          "color": "grey",
          "opacity": 0.4,
          "size": 2.515151515151515,
          "symbol": "cross-thin"
         },
         "mode": "markers",
         "name": "adam → frau_marthe",
         "showlegend": false,
         "text": "<b>adam → frau_marthe</b>:<br><br>7<br>9<br>10<br>11<br>",
         "type": "scatter",
         "x": [
          0.625611525562655
         ],
         "y": [
          0.5368413039635154
         ]
        },
        {
         "hoverinfo": "skip",
         "legendgroup": "adam → ruprecht",
         "line": {
          "color": "grey",
          "smoothing": 1.3,
          "width": 2.515151515151515
         },
         "mode": "lines",
         "name": "adam → ruprecht",
         "opacity": 0.3,
         "showlegend": false,
         "type": "scatter",
         "x": [
          -0.6038119615685773,
          0.5914118260508424
         ],
         "y": [
          -0.29837679528017275,
          0.6166751882769664
         ]
        },
        {
         "hoverinfo": "text",
         "marker": {
          "color": "grey",
          "opacity": 0.4,
          "size": 2.515151515151515,
          "symbol": "cross-thin"
         },
         "mode": "markers",
         "name": "adam → ruprecht",
         "showlegend": false,
         "text": "<b>adam → ruprecht</b>:<br><br>7<br>9<br>10<br>11<br>",
         "type": "scatter",
         "x": [
          0.502405799313226
         ],
         "y": [
          0.5485330192886688
         ]
        },
        {
         "hoverinfo": "skip",
         "legendgroup": "adam → veit",
         "line": {
          "color": "grey",
          "smoothing": 1.3,
          "width": 2.1363636363636367
         },
         "mode": "lines",
         "name": "adam → veit",
         "opacity": 0.3,
         "showlegend": false,
         "type": "scatter",
         "x": [
          -0.49369953199320915,
          0.5948173651098744
         ],
         "y": [
          -0.8547943208732512,
          0.5994663988256341
         ]
        },
        {
         "hoverinfo": "text",
         "marker": {
          "color": "grey",
          "opacity": 0.4,
          "size": 2.1363636363636367,
          "symbol": "cross-thin"
         },
         "mode": "markers",
         "name": "adam → veit",
         "showlegend": false,
         "text": "<b>adam → veit</b>:<br><br>7<br>9<br>11<br>",
         "type": "scatter",
         "x": [
          0.513757596176666
         ],
         "y": [
          0.4911703877842277
         ]
        },
        {
         "hoverinfo": "skip",
         "legendgroup": "eve → adam",
         "line": {
          "color": "grey",
          "smoothing": 1.3,
          "width": 2.1363636363636367
         },
         "mode": "lines",
         "name": "eve → adam",
         "opacity": 0.3,
         "showlegend": false,
         "type": "scatter",
         "x": [
          0.6141382136816839,
          0.13100790516196242
         ],
         "y": [
          0.5965026057366497,
          -0.9506236307504129
         ]
        },
        {
         "hoverinfo": "text",
         "marker": {
          "color": "grey",
          "opacity": 0.4,
          "size": 2.1363636363636367,
          "symbol": "cross-thin"
         },
         "mode": "markers",
         "name": "eve → adam",
         "showlegend": false,
         "text": "<b>eve → adam</b>:<br><br>7<br>9<br>11<br>",
         "type": "scatter",
         "x": [
          0.1669856940942821
         ],
         "y": [
          -0.8354121025013763
         ]
        },
        {
         "hoverinfo": "skip",
         "legendgroup": "eve → licht",
         "line": {
          "color": "grey",
          "smoothing": 1.3,
          "width": 2.515151515151515
         },
         "mode": "lines",
         "name": "eve → licht",
         "opacity": 0.3,
         "showlegend": false,
         "type": "scatter",
         "x": [
          0.17325765879154761,
          0.11737242408288605
         ],
         "y": [
          0.08136023034647985,
          -0.9665558691645418
         ]
        },
        {
         "hoverinfo": "text",
         "marker": {
          "color": "grey",
          "opacity": 0.4,
          "size": 2.515151515151515,
          "symbol": "cross-thin"
         },
         "mode": "markers",
         "name": "eve → licht",
         "showlegend": false,
         "text": "<b>eve → licht</b>:<br><br>7<br>9<br>11<br>12<br>",
         "type": "scatter",
         "x": [
          0.12153409049736084
         ],
         "y": [
          -0.8885195638818062
         ]
        },
        {
         "hoverinfo": "skip",
         "legendgroup": "eve → walter",
         "line": {
          "color": "grey",
          "smoothing": 1.3,
          "width": 2.515151515151515
         },
         "mode": "lines",
         "name": "eve → walter",
         "opacity": 0.3,
         "showlegend": false,
         "type": "scatter",
         "x": [
          -0.5497480498956452,
          0.09501142278328212
         ],
         "y": [
          0.24453821533205153,
          -0.9615091273608644
         ]
        },
        {
         "hoverinfo": "text",
         "marker": {
          "color": "grey",
          "opacity": 0.4,
          "size": 2.515151515151515,
          "symbol": "cross-thin"
         },
         "mode": "markers",
         "name": "eve → walter",
         "showlegend": false,
         "text": "<b>eve → walter</b>:<br><br>7<br>9<br>11<br>12<br>",
         "type": "scatter",
         "x": [
          0.046997419498681164
         ],
         "y": [
          -0.8716970912028813
         ]
        },
        {
         "hoverinfo": "skip",
         "legendgroup": "licht → eve",
         "line": {
          "color": "grey",
          "smoothing": 1.3,
          "width": 2.515151515151515
         },
         "mode": "lines",
         "name": "licht → eve",
         "opacity": 0.3,
         "showlegend": false,
         "type": "scatter",
         "x": [
          0.11737242408288603,
          0.17325765879154761
         ],
         "y": [
          -0.9665558691645418,
          0.08136023034647982
         ]
        },
        {
         "hoverinfo": "text",
         "marker": {
          "color": "grey",
          "opacity": 0.4,
          "size": 2.515151515151515,
          "symbol": "cross-thin"
         },
         "mode": "markers",
         "name": "licht → eve",
         "showlegend": false,
         "text": "<b>licht → eve</b>:<br><br>7<br>9<br>11<br>12<br>",
         "type": "scatter",
         "x": [
          0.16909599237707282
         ],
         "y": [
          0.003323925063744182
         ]
        },
        {
         "hoverinfo": "skip",
         "legendgroup": "licht → frau_marthe",
         "line": {
          "color": "grey",
          "smoothing": 1.3,
          "width": 2.1363636363636367
         },
         "mode": "lines",
         "name": "licht → frau_marthe",
         "opacity": 0.3,
         "showlegend": false,
         "type": "scatter",
         "x": [
          0.5776481019718066,
          0.18749298903553488
         ],
         "y": [
          -0.4277186723482898,
          0.09802529828925052
         ]
        },
        {
         "hoverinfo": "text",
         "marker": {
          "color": "grey",
          "opacity": 0.4,
          "size": 2.1363636363636367,
          "symbol": "cross-thin"
         },
         "mode": "markers",
         "name": "licht → frau_marthe",
         "showlegend": false,
         "text": "<b>licht → frau_marthe</b>:<br><br>7<br>9<br>11<br>",
         "type": "scatter",
         "x": [
          0.21654709319036358
         ],
         "y": [
          0.05887415153964645
         ]
        },
        {
         "hoverinfo": "skip",
         "legendgroup": "licht → ruprecht",
         "line": {
          "color": "grey",
          "smoothing": 1.3,
          "width": 2.515151515151515
         },
         "mode": "lines",
         "name": "licht → ruprecht",
         "opacity": 0.3,
         "showlegend": false,
         "type": "scatter",
         "x": [
          -0.6174474426476536,
          0.15053127116070616
         ],
         "y": [
          -0.3143090336943017,
          0.10153281288679655
         ]
        },
        {
         "hoverinfo": "text",
         "marker": {
          "color": "grey",
          "opacity": 0.4,
          "size": 2.515151515151515,
          "symbol": "cross-thin"
         },
         "mode": "markers",
         "name": "licht → ruprecht",
         "showlegend": false,
         "text": "<b>licht → ruprecht</b>:<br><br>7<br>9<br>11<br>12<br>",
         "type": "scatter",
         "x": [
          0.0933413669409347
         ],
         "y": [
          0.07056586686479988
         ]
        },
        {
         "hoverinfo": "skip",
         "legendgroup": "licht → veit",
         "line": {
          "color": "grey",
          "smoothing": 1.3,
          "width": 2.515151515151515
         },
         "mode": "lines",
         "name": "licht → veit",
         "opacity": 0.3,
         "showlegend": false,
         "type": "scatter",
         "x": [
          -0.5073350130722855,
          0.15393681021973818
         ],
         "y": [
          -0.8707265592873802,
          0.0843240234354642
         ]
        },
        {
         "hoverinfo": "text",
         "marker": {
          "color": "grey",
          "opacity": 0.4,
          "size": 2.515151515151515,
          "symbol": "cross-thin"
         },
         "mode": "markers",
         "name": "licht → veit",
         "showlegend": false,
         "text": "<b>licht → veit</b>:<br><br>7<br>9<br>11<br>12<br>",
         "type": "scatter",
         "x": [
          0.10469316380437471
         ],
         "y": [
          0.013203235360358792
         ]
        },
        {
         "hoverinfo": "skip",
         "legendgroup": "walter → eve",
         "line": {
          "color": "grey",
          "smoothing": 1.3,
          "width": 2.515151515151515
         },
         "mode": "lines",
         "name": "walter → eve",
         "opacity": 0.3,
         "showlegend": false,
         "type": "scatter",
         "x": [
          0.09501142278328215,
          -0.5497480498956452
         ],
         "y": [
          -0.9615091273608644,
          0.2445382153320515
         ]
        },
        {
         "hoverinfo": "text",
         "marker": {
          "color": "grey",
          "opacity": 0.4,
          "size": 2.515151515151515,
          "symbol": "cross-thin"
         },
         "mode": "markers",
         "name": "walter → eve",
         "showlegend": false,
         "text": "<b>walter → eve</b>:<br><br>7<br>9<br>11<br>12<br>",
         "type": "scatter",
         "x": [
          -0.5017340466110443
         ],
         "y": [
          0.15472617917406842
         ]
        },
        {
         "hoverinfo": "skip",
         "legendgroup": "walter → frau_marthe",
         "line": {
          "color": "grey",
          "smoothing": 1.3,
          "width": 2.893939393939394
         },
         "mode": "lines",
         "name": "walter → frau_marthe",
         "opacity": 0.3,
         "showlegend": false,
         "type": "scatter",
         "x": [
          0.5552871006722027,
          -0.5355127196516579
         ],
         "y": [
          -0.42267193054461233,
          0.2612032832748222
         ]
        },
        {
         "hoverinfo": "text",
         "marker": {
          "color": "grey",
          "opacity": 0.4,
          "size": 2.893939393939394,
          "symbol": "cross-thin"
         },
         "mode": "markers",
         "name": "walter → frau_marthe",
         "showlegend": false,
         "text": "<b>walter → frau_marthe</b>:<br><br>7<br>9<br>10<br>11<br>13<br>",
         "type": "scatter",
         "x": [
          -0.4542829457977535
         ],
         "y": [
          0.2102764056499707
         ]
        },
        {
         "hoverinfo": "skip",
         "legendgroup": "walter → ruprecht",
         "line": {
          "color": "grey",
          "smoothing": 1.3,
          "width": 2.893939393939394
         },
         "mode": "lines",
         "name": "walter → ruprecht",
         "opacity": 0.3,
         "showlegend": false,
         "type": "scatter",
         "x": [
          -0.6398084439472576,
          -0.5724744375264866
         ],
         "y": [
          -0.3092622918906242,
          0.26471079787236823
         ]
        },
        {
         "hoverinfo": "text",
         "marker": {
          "color": "grey",
          "opacity": 0.4,
          "size": 2.893939393939394,
          "symbol": "cross-thin"
         },
         "mode": "markers",
         "name": "walter → ruprecht",
         "showlegend": false,
         "text": "<b>walter → ruprecht</b>:<br><br>7<br>9<br>10<br>11<br>12<br>",
         "type": "scatter",
         "x": [
          -0.5774886720471823
         ],
         "y": [
          0.2219681209751241
         ]
        },
        {
         "hoverinfo": "skip",
         "legendgroup": "walter → veit",
         "line": {
          "color": "grey",
          "smoothing": 1.3,
          "width": 2.515151515151515
         },
         "mode": "lines",
         "name": "walter → veit",
         "opacity": 0.3,
         "showlegend": false,
         "type": "scatter",
         "x": [
          -0.5296960143718894,
          -0.5690688984674547
         ],
         "y": [
          -0.8656798174837027,
          0.2475020084210359
         ]
        },
        {
         "hoverinfo": "text",
         "marker": {
          "color": "grey",
          "opacity": 0.4,
          "size": 2.515151515151515,
          "symbol": "cross-thin"
         },
         "mode": "markers",
         "name": "walter → veit",
         "showlegend": false,
         "text": "<b>walter → veit</b>:<br><br>7<br>9<br>11<br>12<br>",
         "type": "scatter",
         "x": [
          -0.5661368751837423
         ],
         "y": [
          0.16460548947068304
         ]
        },
        {
         "hoverinfo": "skip",
         "legendgroup": "frau_marthe → adam",
         "line": {
          "color": "grey",
          "smoothing": 1.3,
          "width": 2.515151515151515
         },
         "mode": "lines",
         "name": "frau_marthe → adam",
         "opacity": 0.3,
         "showlegend": false,
         "type": "scatter",
         "x": [
          0.6283735439256711,
          0.5912835830508829
         ],
         "y": [
          0.6131676736794204,
          -0.4117864339341608
         ]
        },
        {
         "hoverinfo": "text",
         "marker": {
          "color": "grey",
          "opacity": 0.4,
          "size": 2.515151515151515,
          "symbol": "cross-thin"
         },
         "mode": "markers",
         "name": "frau_marthe → adam",
         "showlegend": false,
         "text": "<b>frau_marthe → adam</b>:<br><br>7<br>9<br>10<br>11<br>",
         "type": "scatter",
         "x": [
          0.5940456014138992
         ],
         "y": [
          -0.33546006421825586
         ]
        },
        {
         "hoverinfo": "skip",
         "legendgroup": "frau_marthe → licht",
         "line": {
          "color": "grey",
          "smoothing": 1.3,
          "width": 2.1363636363636367
         },
         "mode": "lines",
         "name": "frau_marthe → licht",
         "opacity": 0.3,
         "showlegend": false,
         "type": "scatter",
         "x": [
          0.18749298903553485,
          0.5776481019718066
         ],
         "y": [
          0.09802529828925052,
          -0.4277186723482898
         ]
        },
        {
         "hoverinfo": "text",
         "marker": {
          "color": "grey",
          "opacity": 0.4,
          "size": 2.1363636363636367,
          "symbol": "cross-thin"
         },
         "mode": "markers",
         "name": "frau_marthe → licht",
         "showlegend": false,
         "text": "<b>frau_marthe → licht</b>:<br><br>7<br>9<br>11<br>",
         "type": "scatter",
         "x": [
          0.5485939978169778
         ],
         "y": [
          -0.3885675255986858
         ]
        },
        {
         "hoverinfo": "skip",
         "legendgroup": "frau_marthe → walter",
         "line": {
          "color": "grey",
          "smoothing": 1.3,
          "width": 2.893939393939394
         },
         "mode": "lines",
         "name": "frau_marthe → walter",
         "opacity": 0.3,
         "showlegend": false,
         "type": "scatter",
         "x": [
          -0.5355127196516579,
          0.5552871006722027
         ],
         "y": [
          0.26120328327482223,
          -0.42267193054461233
         ]
        },
        {
         "hoverinfo": "text",
         "marker": {
          "color": "grey",
          "opacity": 0.4,
          "size": 2.893939393939394,
          "symbol": "cross-thin"
         },
         "mode": "markers",
         "name": "frau_marthe → walter",
         "showlegend": false,
         "text": "<b>frau_marthe → walter</b>:<br><br>7<br>9<br>10<br>11<br>13<br>",
         "type": "scatter",
         "x": [
          0.4740573268182982
         ],
         "y": [
          -0.37174505291976084
         ]
        },
        {
         "hoverinfo": "skip",
         "legendgroup": "ruprecht → adam",
         "line": {
          "color": "grey",
          "smoothing": 1.3,
          "width": 2.515151515151515
         },
         "mode": "lines",
         "name": "ruprecht → adam",
         "opacity": 0.3,
         "showlegend": false,
         "type": "scatter",
         "x": [
          0.5914118260508424,
          -0.6038119615685773
         ],
         "y": [
          0.6166751882769664,
          -0.2983767952801727
         ]
        },
        {
         "hoverinfo": "text",
         "marker": {
          "color": "grey",
          "opacity": 0.4,
          "size": 2.515151515151515,
          "symbol": "cross-thin"
         },
         "mode": "markers",
         "name": "ruprecht → adam",
         "showlegend": false,
         "text": "<b>ruprecht → adam</b>:<br><br>7<br>9<br>10<br>11<br>",
         "type": "scatter",
         "x": [
          -0.5148059348309609
         ],
         "y": [
          -0.23023462629187513
         ]
        },
        {
         "hoverinfo": "skip",
         "legendgroup": "ruprecht → licht",
         "line": {
          "color": "grey",
          "smoothing": 1.3,
          "width": 2.515151515151515
         },
         "mode": "lines",
         "name": "ruprecht → licht",
         "opacity": 0.3,
         "showlegend": false,
         "type": "scatter",
         "x": [
          0.1505312711607062,
          -0.6174474426476536
         ],
         "y": [
          0.10153281288679655,
          -0.3143090336943017
         ]
        },
        {
         "hoverinfo": "text",
         "marker": {
          "color": "grey",
          "opacity": 0.4,
          "size": 2.515151515151515,
          "symbol": "cross-thin"
         },
         "mode": "markers",
         "name": "ruprecht → licht",
         "showlegend": false,
         "text": "<b>ruprecht → licht</b>:<br><br>7<br>9<br>11<br>12<br>",
         "type": "scatter",
         "x": [
          -0.5602575384278823
         ],
         "y": [
          -0.28334208767230507
         ]
        },
        {
         "hoverinfo": "skip",
         "legendgroup": "ruprecht → walter",
         "line": {
          "color": "grey",
          "smoothing": 1.3,
          "width": 2.893939393939394
         },
         "mode": "lines",
         "name": "ruprecht → walter",
         "opacity": 0.3,
         "showlegend": false,
         "type": "scatter",
         "x": [
          -0.5724744375264866,
          -0.6398084439472576
         ],
         "y": [
          0.26471079787236823,
          -0.3092622918906242
         ]
        },
        {
         "hoverinfo": "text",
         "marker": {
          "color": "grey",
          "opacity": 0.4,
          "size": 2.893939393939394,
          "symbol": "cross-thin"
         },
         "mode": "markers",
         "name": "ruprecht → walter",
         "showlegend": false,
         "text": "<b>ruprecht → walter</b>:<br><br>7<br>9<br>10<br>11<br>12<br>",
         "type": "scatter",
         "x": [
          -0.634794209426562
         ],
         "y": [
          -0.2665196149933801
         ]
        },
        {
         "hoverinfo": "skip",
         "legendgroup": "veit → adam",
         "line": {
          "color": "grey",
          "smoothing": 1.3,
          "width": 2.1363636363636367
         },
         "mode": "lines",
         "name": "veit → adam",
         "opacity": 0.3,
         "showlegend": false,
         "type": "scatter",
         "x": [
          0.5948173651098744,
          -0.4936995319932091
         ],
         "y": [
          0.5994663988256341,
          -0.8547943208732512
         ]
        },
        {
         "hoverinfo": "text",
         "marker": {
          "color": "grey",
          "opacity": 0.4,
          "size": 2.1363636363636367,
          "symbol": "cross-thin"
         },
         "mode": "markers",
         "name": "veit → adam",
         "showlegend": false,
         "text": "<b>veit → adam</b>:<br><br>7<br>9<br>11<br>",
         "type": "scatter",
         "x": [
          -0.41263976306000083
         ],
         "y": [
          -0.7464983098318448
         ]
        },
        {
         "hoverinfo": "skip",
         "legendgroup": "veit → licht",
         "line": {
          "color": "grey",
          "smoothing": 1.3,
          "width": 2.515151515151515
         },
         "mode": "lines",
         "name": "veit → licht",
         "opacity": 0.3,
         "showlegend": false,
         "type": "scatter",
         "x": [
          0.15393681021973818,
          -0.5073350130722855
         ],
         "y": [
          0.08432402343546423,
          -0.8707265592873802
         ]
        },
        {
         "hoverinfo": "text",
         "marker": {
          "color": "grey",
          "opacity": 0.4,
          "size": 2.515151515151515,
          "symbol": "cross-thin"
         },
         "mode": "markers",
         "name": "veit → licht",
         "showlegend": false,
         "text": "<b>veit → licht</b>:<br><br>7<br>9<br>11<br>12<br>",
         "type": "scatter",
         "x": [
          -0.45809136665692207
         ],
         "y": [
          -0.7996057712122747
         ]
        },
        {
         "hoverinfo": "skip",
         "legendgroup": "veit → walter",
         "line": {
          "color": "grey",
          "smoothing": 1.3,
          "width": 2.515151515151515
         },
         "mode": "lines",
         "name": "veit → walter",
         "opacity": 0.3,
         "showlegend": false,
         "type": "scatter",
         "x": [
          -0.5690688984674547,
          -0.5296960143718894
         ],
         "y": [
          0.24750200842103592,
          -0.8656798174837027
         ]
        },
        {
         "hoverinfo": "text",
         "marker": {
          "color": "grey",
          "opacity": 0.4,
          "size": 2.515151515151515,
          "symbol": "cross-thin"
         },
         "mode": "markers",
         "name": "veit → walter",
         "showlegend": false,
         "text": "<b>veit → walter</b>:<br><br>7<br>9<br>11<br>12<br>",
         "type": "scatter",
         "x": [
          -0.5326280376556017
         ],
         "y": [
          -0.7827832985333498
         ]
        },
        {
         "hoverinfo": "skip",
         "legendgroup": "erste_magd → walter",
         "line": {
          "color": "grey",
          "smoothing": 1.3,
          "width": 1.7575757575757576
         },
         "mode": "lines",
         "name": "erste_magd → walter",
         "opacity": 0.3,
         "showlegend": false,
         "type": "scatter",
         "x": [
          -0.5566535902150268,
          -0.12826771421005498
         ],
         "y": [
          0.2748428869086403,
          0.018341920282171787
         ]
        },
        {
         "hoverinfo": "text",
         "marker": {
          "color": "grey",
          "opacity": 0.4,
          "size": 1.7575757575757576,
          "symbol": "cross-thin"
         },
         "mode": "markers",
         "name": "erste_magd → walter",
         "showlegend": false,
         "text": "<b>erste_magd → walter</b>:<br><br>8<br>10<br>",
         "type": "scatter",
         "x": [
          -0.16016879008276563
         ],
         "y": [
          0.037443056094781144
         ]
        },
        {
         "hoverinfo": "skip",
         "legendgroup": "walter → erste_magd",
         "line": {
          "color": "grey",
          "smoothing": 1.3,
          "width": 1.7575757575757576
         },
         "mode": "lines",
         "name": "walter → erste_magd",
         "opacity": 0.3,
         "showlegend": false,
         "type": "scatter",
         "x": [
          -0.12826771421005495,
          -0.5566535902150268
         ],
         "y": [
          0.01834192028217178,
          0.2748428869086403
         ]
        },
        {
         "hoverinfo": "text",
         "marker": {
          "color": "grey",
          "opacity": 0.4,
          "size": 1.7575757575757576,
          "symbol": "cross-thin"
         },
         "mode": "markers",
         "name": "walter → erste_magd",
         "showlegend": false,
         "text": "<b>walter → erste_magd</b>:<br><br>8<br>10<br>",
         "type": "scatter",
         "x": [
          -0.5247525143423162
         ],
         "y": [
          0.2557417510960309
         ]
        },
        {
         "hoverinfo": "skip",
         "legendgroup": "erste_magd → ruprecht",
         "line": {
          "color": "grey",
          "smoothing": 1.3,
          "width": 1.378787878787879
         },
         "mode": "lines",
         "name": "erste_magd → ruprecht",
         "opacity": 0.3,
         "showlegend": false,
         "type": "scatter",
         "x": [
          -0.6261365542875245,
          -0.1304166718617817
         ],
         "y": [
          -0.31744849295317107,
          0.00002363018335286432
         ]
        },
        {
         "hoverinfo": "text",
         "marker": {
          "color": "grey",
          "opacity": 0.4,
          "size": 1.378787878787879,
          "symbol": "cross-thin"
         },
         "mode": "markers",
         "name": "erste_magd → ruprecht",
         "showlegend": false,
         "text": "<b>erste_magd → ruprecht</b>:<br><br>10<br>",
         "type": "scatter",
         "x": [
          -0.16733198225518808
         ],
         "y": [
          -0.02361791090128189
         ]
        },
        {
         "hoverinfo": "skip",
         "legendgroup": "erste_magd → frau_marthe",
         "line": {
          "color": "grey",
          "smoothing": 1.3,
          "width": 1.378787878787879
         },
         "mode": "lines",
         "name": "erste_magd → frau_marthe",
         "opacity": 0.3,
         "showlegend": false,
         "type": "scatter",
         "x": [
          0.5689589903319358,
          -0.09345495398695301
         ],
         "y": [
          -0.4308581316071592,
          -0.0034838844141931655
         ]
        },
        {
         "hoverinfo": "text",
         "marker": {
          "color": "grey",
          "opacity": 0.4,
          "size": 1.378787878787879,
          "symbol": "cross-thin"
         },
         "mode": "markers",
         "name": "erste_magd → frau_marthe",
         "showlegend": false,
         "text": "<b>erste_magd → frau_marthe</b>:<br><br>10<br>",
         "type": "scatter",
         "x": [
          -0.044126256005759174
         ],
         "y": [
          -0.03530962622643531
         ]
        },
        {
         "hoverinfo": "skip",
         "legendgroup": "ruprecht → erste_magd",
         "line": {
          "color": "grey",
          "smoothing": 1.3,
          "width": 1.378787878787879
         },
         "mode": "lines",
         "name": "ruprecht → erste_magd",
         "opacity": 0.3,
         "showlegend": false,
         "type": "scatter",
         "x": [
          -0.13041667186178169,
          -0.6261365542875245
         ],
         "y": [
          0.000023630183352872994,
          -0.31744849295317107
         ]
        },
        {
         "hoverinfo": "text",
         "marker": {
          "color": "grey",
          "opacity": 0.4,
          "size": 1.378787878787879,
          "symbol": "cross-thin"
         },
         "mode": "markers",
         "name": "ruprecht → erste_magd",
         "showlegend": false,
         "text": "<b>ruprecht → erste_magd</b>:<br><br>10<br>",
         "type": "scatter",
         "x": [
          -0.5892212438941181
         ],
         "y": [
          -0.29380695186853634
         ]
        },
        {
         "hoverinfo": "skip",
         "legendgroup": "frau_marthe → erste_magd",
         "line": {
          "color": "grey",
          "smoothing": 1.3,
          "width": 1.378787878787879
         },
         "mode": "lines",
         "name": "frau_marthe → erste_magd",
         "opacity": 0.3,
         "showlegend": false,
         "type": "scatter",
         "x": [
          -0.09345495398695303,
          0.5689589903319358
         ],
         "y": [
          -0.0034838844141931533,
          -0.4308581316071592
         ]
        },
        {
         "hoverinfo": "text",
         "marker": {
          "color": "grey",
          "opacity": 0.4,
          "size": 1.378787878787879,
          "symbol": "cross-thin"
         },
         "mode": "markers",
         "name": "frau_marthe → erste_magd",
         "showlegend": false,
         "text": "<b>frau_marthe → erste_magd</b>:<br><br>10<br>",
         "type": "scatter",
         "x": [
          0.519630292350742
         ],
         "y": [
          -0.39903238979491706
         ]
        },
        {
         "hoverinfo": "skip",
         "legendgroup": "licht → frau_brigitte",
         "line": {
          "color": "grey",
          "smoothing": 1.3,
          "width": 1.7575757575757576
         },
         "mode": "lines",
         "name": "licht → frau_brigitte",
         "opacity": 0.3,
         "showlegend": false,
         "type": "scatter",
         "x": [
          0.600078898763355,
          0.18818672501877864
         ],
         "y": [
          -0.04588292692053702,
          0.10983465124062433
         ]
        },
        {
         "hoverinfo": "text",
         "marker": {
          "color": "grey",
          "opacity": 0.4,
          "size": 1.7575757575757576,
          "symbol": "cross-thin"
         },
         "mode": "markers",
         "name": "licht → frau_brigitte",
         "showlegend": false,
         "text": "<b>licht → frau_brigitte</b>:<br><br>11<br>12<br>",
         "type": "scatter",
         "x": [
          0.2188595464678428
         ],
         "y": [
          0.09823866137755911
         ]
        },
        {
         "hoverinfo": "skip",
         "legendgroup": "walter → frau_brigitte",
         "line": {
          "color": "grey",
          "smoothing": 1.3,
          "width": 1.7575757575757576
         },
         "mode": "lines",
         "name": "walter → frau_brigitte",
         "opacity": 0.3,
         "showlegend": false,
         "type": "scatter",
         "x": [
          0.577717897463751,
          -0.5348189836684142
         ],
         "y": [
          -0.04083618511685954,
          0.273012636226196
         ]
        },
        {
         "hoverinfo": "text",
         "marker": {
          "color": "grey",
          "opacity": 0.4,
          "size": 1.7575757575757576,
          "symbol": "cross-thin"
         },
         "mode": "markers",
         "name": "walter → frau_brigitte",
         "showlegend": false,
         "text": "<b>walter → frau_brigitte</b>:<br><br>11<br>12<br>",
         "type": "scatter",
         "x": [
          -0.4519704925202743
         ],
         "y": [
          0.24964091548788336
         ]
        },
        {
         "hoverinfo": "skip",
         "legendgroup": "adam → frau_brigitte",
         "line": {
          "color": "grey",
          "smoothing": 1.3,
          "width": 1.378787878787879
         },
         "mode": "lines",
         "name": "adam → frau_brigitte",
         "opacity": 0.3,
         "showlegend": false,
         "type": "scatter",
         "x": [
          0.6137143798424313,
          0.6290672799089149
         ],
         "y": [
          -0.029950688506408054,
          0.6249770266307942
         ]
        },
        {
         "hoverinfo": "text",
         "marker": {
          "color": "grey",
          "opacity": 0.4,
          "size": 1.378787878787879,
          "symbol": "cross-thin"
         },
         "mode": "markers",
         "name": "adam → frau_brigitte",
         "showlegend": false,
         "text": "<b>adam → frau_brigitte</b>:<br><br>11<br>",
         "type": "scatter",
         "x": [
          0.6279239788401342
         ],
         "y": [
          0.576205813801428
         ]
        },
        {
         "hoverinfo": "skip",
         "legendgroup": "frau_marthe → frau_brigitte",
         "line": {
          "color": "grey",
          "smoothing": 1.3,
          "width": 1.378787878787879
         },
         "mode": "lines",
         "name": "frau_marthe → frau_brigitte",
         "opacity": 0.3,
         "showlegend": false,
         "type": "scatter",
         "x": [
          0.612530657686853,
          0.5907935968785484
         ],
         "y": [
          -0.06266198981322448,
          -0.4326883822896035
         ]
        },
        {
         "hoverinfo": "text",
         "marker": {
          "color": "grey",
          "opacity": 0.4,
          "size": 1.378787878787879,
          "symbol": "cross-thin"
         },
         "mode": "markers",
         "name": "frau_marthe → frau_brigitte",
         "showlegend": false,
         "text": "<b>frau_marthe → frau_brigitte</b>:<br><br>11<br>",
         "type": "scatter",
         "x": [
          0.5924123141727838
         ],
         "y": [
          -0.4051332254030646
         ]
        },
        {
         "hoverinfo": "skip",
         "legendgroup": "ruprecht → frau_brigitte",
         "line": {
          "color": "grey",
          "smoothing": 1.3,
          "width": 1.7575757575757576
         },
         "mode": "lines",
         "name": "ruprecht → frau_brigitte",
         "opacity": 0.3,
         "showlegend": false,
         "type": "scatter",
         "x": [
          0.5755689398120243,
          -0.6043019477409118
         ],
         "y": [
          -0.059154475215678445,
          -0.31927874363561537
         ]
        },
        {
         "hoverinfo": "text",
         "marker": {
          "color": "grey",
          "opacity": 0.4,
          "size": 1.7575757575757576,
          "symbol": "cross-thin"
         },
         "mode": "markers",
         "name": "ruprecht → frau_brigitte",
         "showlegend": false,
         "text": "<b>ruprecht → frau_brigitte</b>:<br><br>11<br>12<br>",
         "type": "scatter",
         "x": [
          -0.5164392220720763
         ],
         "y": [
          -0.2999077874766839
         ]
        },
        {
         "hoverinfo": "skip",
         "legendgroup": "frau_brigitte → licht",
         "line": {
          "color": "grey",
          "smoothing": 1.3,
          "width": 1.7575757575757576
         },
         "mode": "lines",
         "name": "frau_brigitte → licht",
         "opacity": 0.3,
         "showlegend": false,
         "type": "scatter",
         "x": [
          0.18818672501877862,
          0.600078898763355
         ],
         "y": [
          0.10983465124062433,
          -0.04588292692053701
         ]
        },
        {
         "hoverinfo": "text",
         "marker": {
          "color": "grey",
          "opacity": 0.4,
          "size": 1.7575757575757576,
          "symbol": "cross-thin"
         },
         "mode": "markers",
         "name": "frau_brigitte → licht",
         "showlegend": false,
         "text": "<b>frau_brigitte → licht</b>:<br><br>11<br>12<br>",
         "type": "scatter",
         "x": [
          0.5694060773142907
         ],
         "y": [
          -0.034286937057471815
         ]
        },
        {
         "hoverinfo": "skip",
         "legendgroup": "frau_brigitte → walter",
         "line": {
          "color": "grey",
          "smoothing": 1.3,
          "width": 1.7575757575757576
         },
         "mode": "lines",
         "name": "frau_brigitte → walter",
         "opacity": 0.3,
         "showlegend": false,
         "type": "scatter",
         "x": [
          -0.5348189836684142,
          0.577717897463751
         ],
         "y": [
          0.273012636226196,
          -0.04083618511685953
         ]
        },
        {
         "hoverinfo": "text",
         "marker": {
          "color": "grey",
          "opacity": 0.4,
          "size": 1.7575757575757576,
          "symbol": "cross-thin"
         },
         "mode": "markers",
         "name": "frau_brigitte → walter",
         "showlegend": false,
         "text": "<b>frau_brigitte → walter</b>:<br><br>11<br>12<br>",
         "type": "scatter",
         "x": [
          0.4948694063156111
         ],
         "y": [
          -0.017464464378546898
         ]
        },
        {
         "hoverinfo": "skip",
         "legendgroup": "frau_brigitte → adam",
         "line": {
          "color": "grey",
          "smoothing": 1.3,
          "width": 1.378787878787879
         },
         "mode": "lines",
         "name": "frau_brigitte → adam",
         "opacity": 0.3,
         "showlegend": false,
         "type": "scatter",
         "x": [
          0.6290672799089149,
          0.6137143798424313
         ],
         "y": [
          0.6249770266307942,
          -0.029950688506408033
         ]
        },
        {
         "hoverinfo": "text",
         "marker": {
          "color": "grey",
          "opacity": 0.4,
          "size": 1.378787878787879,
          "symbol": "cross-thin"
         },
         "mode": "markers",
         "name": "frau_brigitte → adam",
         "showlegend": false,
         "text": "<b>frau_brigitte → adam</b>:<br><br>11<br>",
         "type": "scatter",
         "x": [
          0.6148576809112121
         ],
         "y": [
          0.018820524322958075
         ]
        },
        {
         "hoverinfo": "skip",
         "legendgroup": "frau_brigitte → frau_marthe",
         "line": {
          "color": "grey",
          "smoothing": 1.3,
          "width": 1.378787878787879
         },
         "mode": "lines",
         "name": "frau_brigitte → frau_marthe",
         "opacity": 0.3,
         "showlegend": false,
         "type": "scatter",
         "x": [
          0.5907935968785484,
          0.612530657686853
         ],
         "y": [
          -0.4326883822896035,
          -0.06266198981322449
         ]
        },
        {
         "hoverinfo": "text",
         "marker": {
          "color": "grey",
          "opacity": 0.4,
          "size": 1.378787878787879,
          "symbol": "cross-thin"
         },
         "mode": "markers",
         "name": "frau_brigitte → frau_marthe",
         "showlegend": false,
         "text": "<b>frau_brigitte → frau_marthe</b>:<br><br>11<br>",
         "type": "scatter",
         "x": [
          0.6109119403926175
         ],
         "y": [
          -0.09021714669976336
         ]
        },
        {
         "hoverinfo": "skip",
         "legendgroup": "frau_brigitte → ruprecht",
         "line": {
          "color": "grey",
          "smoothing": 1.3,
          "width": 1.7575757575757576
         },
         "mode": "lines",
         "name": "frau_brigitte → ruprecht",
         "opacity": 0.3,
         "showlegend": false,
         "type": "scatter",
         "x": [
          -0.6043019477409118,
          0.5755689398120243
         ],
         "y": [
          -0.31927874363561537,
          -0.05915447521567846
         ]
        },
        {
         "hoverinfo": "text",
         "marker": {
          "color": "grey",
          "opacity": 0.4,
          "size": 1.7575757575757576,
          "symbol": "cross-thin"
         },
         "mode": "markers",
         "name": "frau_brigitte → ruprecht",
         "showlegend": false,
         "text": "<b>frau_brigitte → ruprecht</b>:<br><br>11<br>12<br>",
         "type": "scatter",
         "x": [
          0.48770621414318865
         ],
         "y": [
          -0.07852543137460993
         ]
        },
        {
         "hoverinfo": "skip",
         "legendgroup": "frau_brigitte → veit",
         "line": {
          "color": "grey",
          "smoothing": 1.3,
          "width": 1.7575757575757576
         },
         "mode": "lines",
         "name": "frau_brigitte → veit",
         "opacity": 0.3,
         "showlegend": false,
         "type": "scatter",
         "x": [
          -0.4941895181655437,
          0.5789744788710562
         ],
         "y": [
          -0.8756962692286938,
          -0.0763632646670108
         ]
        },
        {
         "hoverinfo": "text",
         "marker": {
          "color": "grey",
          "opacity": 0.4,
          "size": 1.7575757575757576,
          "symbol": "cross-thin"
         },
         "mode": "markers",
         "name": "frau_brigitte → veit",
         "showlegend": false,
         "text": "<b>frau_brigitte → veit</b>:<br><br>11<br>12<br>",
         "type": "scatter",
         "x": [
          0.49905801100662867
         ],
         "y": [
          -0.135888062879051
         ]
        },
        {
         "hoverinfo": "skip",
         "legendgroup": "frau_brigitte → eve",
         "line": {
          "color": "grey",
          "smoothing": 1.3,
          "width": 1.7575757575757576
         },
         "mode": "lines",
         "name": "frau_brigitte → eve",
         "opacity": 0.3,
         "showlegend": false,
         "type": "scatter",
         "x": [
          0.13051791898962783,
          0.5982953274428657
         ],
         "y": [
          -0.9715255791058555,
          -0.07932705775599519
         ]
        },
        {
         "hoverinfo": "text",
         "marker": {
          "color": "grey",
          "opacity": 0.4,
          "size": 1.7575757575757576,
          "symbol": "cross-thin"
         },
         "mode": "markers",
         "name": "frau_brigitte → eve",
         "showlegend": false,
         "text": "<b>frau_brigitte → eve</b>:<br><br>11<br>12<br>",
         "type": "scatter",
         "x": [
          0.5634608395793268
         ],
         "y": [
          -0.14576737317566563
         ]
        },
        {
         "hoverinfo": "skip",
         "legendgroup": "veit → frau_brigitte",
         "line": {
          "color": "grey",
          "smoothing": 1.3,
          "width": 1.7575757575757576
         },
         "mode": "lines",
         "name": "veit → frau_brigitte",
         "opacity": 0.3,
         "showlegend": false,
         "type": "scatter",
         "x": [
          0.5789744788710562,
          -0.4941895181655437
         ],
         "y": [
          -0.07636326466701077,
          -0.8756962692286938
         ]
        },
        {
         "hoverinfo": "text",
         "marker": {
          "color": "grey",
          "opacity": 0.4,
          "size": 1.7575757575757576,
          "symbol": "cross-thin"
         },
         "mode": "markers",
         "name": "veit → frau_brigitte",
         "showlegend": false,
         "text": "<b>veit → frau_brigitte</b>:<br><br>11<br>12<br>",
         "type": "scatter",
         "x": [
          -0.41427305030111605
         ],
         "y": [
          -0.8161714710166537
         ]
        },
        {
         "hoverinfo": "skip",
         "legendgroup": "eve → frau_brigitte",
         "line": {
          "color": "grey",
          "smoothing": 1.3,
          "width": 1.7575757575757576
         },
         "mode": "lines",
         "name": "eve → frau_brigitte",
         "opacity": 0.3,
         "showlegend": false,
         "type": "scatter",
         "x": [
          0.5982953274428657,
          0.13051791898962786
         ],
         "y": [
          -0.07932705775599516,
          -0.9715255791058555
         ]
        },
        {
         "hoverinfo": "text",
         "marker": {
          "color": "grey",
          "opacity": 0.4,
          "size": 1.7575757575757576,
          "symbol": "cross-thin"
         },
         "mode": "markers",
         "name": "eve → frau_brigitte",
         "showlegend": false,
         "text": "<b>eve → frau_brigitte</b>:<br><br>11<br>12<br>",
         "type": "scatter",
         "x": [
          0.16535240685316682
         ],
         "y": [
          -0.9050852636861851
         ]
        },
        {
         "hoverinfo": "skip",
         "legendgroup": "ruprecht → mehrere",
         "line": {
          "color": "grey",
          "smoothing": 1.3,
          "width": 1.378787878787879
         },
         "mode": "lines",
         "name": "ruprecht → mehrere",
         "opacity": 0.3,
         "showlegend": false,
         "type": "scatter",
         "x": [
          -0.12814379069054285,
          -0.6260662589935686
         ],
         "y": [
          -0.3833788669112079,
          -0.3293063021416627
         ]
        },
        {
         "hoverinfo": "text",
         "marker": {
          "color": "grey",
          "opacity": 0.4,
          "size": 1.378787878787879,
          "symbol": "cross-thin"
         },
         "mode": "markers",
         "name": "ruprecht → mehrere",
         "showlegend": false,
         "text": "<b>ruprecht → mehrere</b>:<br><br>12<br>",
         "type": "scatter",
         "x": [
          -0.5889869262475986
         ],
         "y": [
          -0.33333298249684157
         ]
        },
        {
         "hoverinfo": "skip",
         "legendgroup": "eve → mehrere",
         "line": {
          "color": "grey",
          "smoothing": 1.3,
          "width": 1.378787878787879
         },
         "mode": "lines",
         "name": "eve → mehrere",
         "opacity": 0.3,
         "showlegend": false,
         "type": "scatter",
         "x": [
          -0.1054174030597014,
          0.10875360773697111
         ],
         "y": [
          -0.40355144945152466,
          -0.9815531376119028
         ]
        },
        {
         "hoverinfo": "text",
         "marker": {
          "color": "grey",
          "opacity": 0.4,
          "size": 1.378787878787879,
          "symbol": "cross-thin"
         },
         "mode": "markers",
         "name": "eve → mehrere",
         "showlegend": false,
         "text": "<b>eve → mehrere</b>:<br><br>12<br>",
         "type": "scatter",
         "x": [
          0.09280470267764444
         ],
         "y": [
          -0.9385104587063428
         ]
        },
        {
         "hoverinfo": "skip",
         "legendgroup": "walter → mehrere",
         "line": {
          "color": "grey",
          "smoothing": 1.3,
          "width": 1.378787878787879
         },
         "mode": "lines",
         "name": "walter → mehrere",
         "opacity": 0.3,
         "showlegend": false,
         "type": "scatter",
         "x": [
          -0.12599483303881612,
          -0.556583294921071
         ],
         "y": [
          -0.365060576812389,
          0.2629850777201487
         ]
        },
        {
         "hoverinfo": "text",
         "marker": {
          "color": "grey",
          "opacity": 0.4,
          "size": 1.378787878787879,
          "symbol": "cross-thin"
         },
         "mode": "markers",
         "name": "walter → mehrere",
         "showlegend": false,
         "text": "<b>walter → mehrere</b>:<br><br>12<br>",
         "type": "scatter",
         "x": [
          -0.5245181966957967
         ],
         "y": [
          0.21621572046772566
         ]
        },
        {
         "hoverinfo": "skip",
         "legendgroup": "licht → mehrere",
         "line": {
          "color": "grey",
          "smoothing": 1.3,
          "width": 1.378787878787879
         },
         "mode": "lines",
         "name": "licht → mehrere",
         "opacity": 0.3,
         "showlegend": false,
         "type": "scatter",
         "x": [
          -0.10363383173921221,
          0.1664224137661219
         ],
         "y": [
          -0.3701073186160665,
          0.09980709273457701
         ]
        },
        {
         "hoverinfo": "text",
         "marker": {
          "color": "grey",
          "opacity": 0.4,
          "size": 1.378787878787879,
          "symbol": "cross-thin"
         },
         "mode": "markers",
         "name": "licht → mehrere",
         "showlegend": false,
         "text": "<b>licht → mehrere</b>:<br><br>12<br>",
         "type": "scatter",
         "x": [
          0.14631184229232042
         ],
         "y": [
          0.06481346635740143
         ]
        },
        {
         "hoverinfo": "skip",
         "legendgroup": "frau_brigitte → mehrere",
         "line": {
          "color": "grey",
          "smoothing": 1.3,
          "width": 1.378787878787879
         },
         "mode": "lines",
         "name": "frau_brigitte → mehrere",
         "opacity": 0.3,
         "showlegend": false,
         "type": "scatter",
         "x": [
          -0.09048833683247041,
          0.59146008241744
         ],
         "y": [
          -0.3750770285573802,
          -0.06088019536789799
         ]
        },
        {
         "hoverinfo": "text",
         "marker": {
          "color": "grey",
          "opacity": 0.4,
          "size": 1.378787878787879,
          "symbol": "cross-thin"
         },
         "mode": "markers",
         "name": "frau_brigitte → mehrere",
         "showlegend": false,
         "text": "<b>frau_brigitte → mehrere</b>:<br><br>12<br>",
         "type": "scatter",
         "x": [
          0.5406766894945744
         ],
         "y": [
          -0.08427783188200837
         ]
        },
        {
         "hoverinfo": "skip",
         "legendgroup": "veit → mehrere",
         "line": {
          "color": "grey",
          "smoothing": 1.3,
          "width": 1.378787878787879
         },
         "mode": "lines",
         "name": "veit → mehrere",
         "opacity": 0.3,
         "showlegend": false,
         "type": "scatter",
         "x": [
          -0.12473825163151084,
          -0.5159538294182004
         ],
         "y": [
          -0.40058765636254023,
          -0.8857238277347411
         ]
        },
        {
         "hoverinfo": "text",
         "marker": {
          "color": "grey",
          "opacity": 0.4,
          "size": 1.378787878787879,
          "symbol": "cross-thin"
         },
         "mode": "markers",
         "name": "veit → mehrere",
         "showlegend": false,
         "text": "<b>veit → mehrere</b>:<br><br>12<br>",
         "type": "scatter",
         "x": [
          -0.4868207544766385
         ],
         "y": [
          -0.8495966660368113
         ]
        },
        {
         "hoverinfo": "skip",
         "legendgroup": "mehrere → ruprecht",
         "line": {
          "color": "grey",
          "smoothing": 1.3,
          "width": 1.378787878787879
         },
         "mode": "lines",
         "name": "mehrere → ruprecht",
         "opacity": 0.3,
         "showlegend": false,
         "type": "scatter",
         "x": [
          -0.6260662589935686,
          -0.12814379069054285
         ],
         "y": [
          -0.3293063021416626,
          -0.3833788669112079
         ]
        },
        {
         "hoverinfo": "text",
         "marker": {
          "color": "grey",
          "opacity": 0.4,
          "size": 1.378787878787879,
          "symbol": "cross-thin"
         },
         "mode": "markers",
         "name": "mehrere → ruprecht",
         "showlegend": false,
         "text": "<b>mehrere → ruprecht</b>:<br><br>12<br>",
         "type": "scatter",
         "x": [
          -0.16522312343651285
         ],
         "y": [
          -0.3793521865560291
         ]
        },
        {
         "hoverinfo": "skip",
         "legendgroup": "mehrere → eve",
         "line": {
          "color": "grey",
          "smoothing": 1.3,
          "width": 1.378787878787879
         },
         "mode": "lines",
         "name": "mehrere → eve",
         "opacity": 0.3,
         "showlegend": false,
         "type": "scatter",
         "x": [
          0.10875360773697113,
          -0.1054174030597014
         ],
         "y": [
          -0.9815531376119028,
          -0.40355144945152466
         ]
        },
        {
         "hoverinfo": "text",
         "marker": {
          "color": "grey",
          "opacity": 0.4,
          "size": 1.378787878787879,
          "symbol": "cross-thin"
         },
         "mode": "markers",
         "name": "mehrere → eve",
         "showlegend": false,
         "text": "<b>mehrere → eve</b>:<br><br>12<br>",
         "type": "scatter",
         "x": [
          -0.08946849800037474
         ],
         "y": [
          -0.4465941283570848
         ]
        },
        {
         "hoverinfo": "skip",
         "legendgroup": "mehrere → walter",
         "line": {
          "color": "grey",
          "smoothing": 1.3,
          "width": 1.378787878787879
         },
         "mode": "lines",
         "name": "mehrere → walter",
         "opacity": 0.3,
         "showlegend": false,
         "type": "scatter",
         "x": [
          -0.556583294921071,
          -0.12599483303881612
         ],
         "y": [
          0.26298507772014873,
          -0.365060576812389
         ]
        },
        {
         "hoverinfo": "text",
         "marker": {
          "color": "grey",
          "opacity": 0.4,
          "size": 1.378787878787879,
          "symbol": "cross-thin"
         },
         "mode": "markers",
         "name": "mehrere → walter",
         "showlegend": false,
         "text": "<b>mehrere → walter</b>:<br><br>12<br>",
         "type": "scatter",
         "x": [
          -0.1580599312640904
         ],
         "y": [
          -0.31829121955996603
         ]
        },
        {
         "hoverinfo": "skip",
         "legendgroup": "mehrere → licht",
         "line": {
          "color": "grey",
          "smoothing": 1.3,
          "width": 1.378787878787879
         },
         "mode": "lines",
         "name": "mehrere → licht",
         "opacity": 0.3,
         "showlegend": false,
         "type": "scatter",
         "x": [
          0.1664224137661219,
          -0.1036338317392122
         ],
         "y": [
          0.09980709273457702,
          -0.3701073186160665
         ]
        },
        {
         "hoverinfo": "text",
         "marker": {
          "color": "grey",
          "opacity": 0.4,
          "size": 1.378787878787879,
          "symbol": "cross-thin"
         },
         "mode": "markers",
         "name": "mehrere → licht",
         "showlegend": false,
         "text": "<b>mehrere → licht</b>:<br><br>12<br>",
         "type": "scatter",
         "x": [
          -0.08352326026541074
         ],
         "y": [
          -0.335113692238891
         ]
        },
        {
         "hoverinfo": "skip",
         "legendgroup": "mehrere → frau_brigitte",
         "line": {
          "color": "grey",
          "smoothing": 1.3,
          "width": 1.378787878787879
         },
         "mode": "lines",
         "name": "mehrere → frau_brigitte",
         "opacity": 0.3,
         "showlegend": false,
         "type": "scatter",
         "x": [
          0.59146008241744,
          -0.0904883368324704
         ],
         "y": [
          -0.06088019536789798,
          -0.3750770285573802
         ]
        },
        {
         "hoverinfo": "text",
         "marker": {
          "color": "grey",
          "opacity": 0.4,
          "size": 1.378787878787879,
          "symbol": "cross-thin"
         },
         "mode": "markers",
         "name": "mehrere → frau_brigitte",
         "showlegend": false,
         "text": "<b>mehrere → frau_brigitte</b>:<br><br>12<br>",
         "type": "scatter",
         "x": [
          -0.039704943909604745
         ],
         "y": [
          -0.3516793920432698
         ]
        },
        {
         "hoverinfo": "skip",
         "legendgroup": "mehrere → veit",
         "line": {
          "color": "grey",
          "smoothing": 1.3,
          "width": 1.378787878787879
         },
         "mode": "lines",
         "name": "mehrere → veit",
         "opacity": 0.3,
         "showlegend": false,
         "type": "scatter",
         "x": [
          -0.5159538294182004,
          -0.12473825163151085
         ],
         "y": [
          -0.8857238277347411,
          -0.4005876563625403
         ]
        },
        {
         "hoverinfo": "text",
         "marker": {
          "color": "grey",
          "opacity": 0.4,
          "size": 1.378787878787879,
          "symbol": "cross-thin"
         },
         "mode": "markers",
         "name": "mehrere → veit",
         "showlegend": false,
         "text": "<b>mehrere → veit</b>:<br><br>12<br>",
         "type": "scatter",
         "x": [
          -0.15387132657307284
         ],
         "y": [
          -0.43671481806047013
         ]
        },
        {
         "hoverinfo": "text",
         "legendgroup": "licht",
         "marker": {
          "color": "black",
          "opacity": 1,
          "size": 36
         },
         "mode": "markers+text",
         "opacity": 1,
         "showlegend": false,
         "text": "licht",
         "textfont": {
          "size": 17
         },
         "textposition": "top center",
         "type": "scatter",
         "x": [
          0.17504123011203682
         ],
         "y": [
          0.11480436118193799
         ]
        },
        {
         "hoverinfo": "text",
         "legendgroup": "adam",
         "marker": {
          "color": "black",
          "opacity": 1,
          "size": 36
         },
         "mode": "markers+text",
         "opacity": 1,
         "showlegend": false,
         "text": "adam",
         "textfont": {
          "size": 17
         },
         "textposition": "top center",
         "type": "scatter",
         "x": [
          0.6295572660812494
         ],
         "y": [
          0.6458789749862368
         ]
        },
        {
         "hoverinfo": "text",
         "legendgroup": "der_bediente",
         "marker": {
          "color": "black",
          "opacity": 1,
          "size": 15
         },
         "mode": "markers+text",
         "opacity": 1,
         "showlegend": false,
         "text": "der_bediente",
         "textfont": {
          "size": 10
         },
         "textposition": "top center",
         "type": "scatter",
         "x": [
          0.20936922961815
         ],
         "y": [
          0.5673716925352734
         ]
        },
        {
         "hoverinfo": "text",
         "legendgroup": "erste_magd",
         "marker": {
          "color": "black",
          "opacity": 1,
          "size": 24
         },
         "mode": "markers+text",
         "opacity": 1,
         "showlegend": false,
         "text": "erste_magd",
         "textfont": {
          "size": 13
         },
         "textposition": "top center",
         "type": "scatter",
         "x": [
          -0.11459582455032181
         ],
         "y": [
          0.010155719219624914
         ]
        },
        {
         "hoverinfo": "text",
         "legendgroup": "zweite_magd",
         "marker": {
          "color": "black",
          "opacity": 1,
          "size": 21
         },
         "mode": "markers+text",
         "opacity": 1,
         "showlegend": false,
         "text": "zweite_magd",
         "textfont": {
          "size": 12
         },
         "textposition": "top center",
         "type": "scatter",
         "x": [
          -0.2864549684734171
         ],
         "y": [
          0.5612516479217673
         ]
        },
        {
         "hoverinfo": "text",
         "legendgroup": "walter",
         "marker": {
          "color": "black",
          "opacity": 1,
          "size": 36
         },
         "mode": "markers+text",
         "opacity": 1,
         "showlegend": false,
         "text": "walter",
         "textfont": {
          "size": 17
         },
         "textposition": "top center",
         "type": "scatter",
         "x": [
          -0.5703254798747599
         ],
         "y": [
          0.28302908797118714
         ]
        },
        {
         "hoverinfo": "text",
         "legendgroup": "der_buettel",
         "marker": {
          "color": "black",
          "opacity": 1,
          "size": 12
         },
         "mode": "markers+text",
         "opacity": 1,
         "showlegend": false,
         "text": "der_buettel",
         "textfont": {
          "size": 9
         },
         "textposition": "top center",
         "type": "scatter",
         "x": [
          -0.07885507759204025
         ],
         "y": [
          0.9267509543735245
         ]
        },
        {
         "hoverinfo": "text",
         "legendgroup": "frau_marthe",
         "marker": {
          "color": "black",
          "opacity": 1,
          "size": 27
         },
         "mode": "markers+text",
         "opacity": 1,
         "showlegend": false,
         "text": "frau_marthe",
         "textfont": {
          "size": 14
         },
         "textposition": "top center",
         "type": "scatter",
         "x": [
          0.5900998608953046
         ],
         "y": [
          -0.4444977352409773
         ]
        },
        {
         "hoverinfo": "text",
         "legendgroup": "veit",
         "marker": {
          "color": "black",
          "opacity": 1,
          "size": 27
         },
         "mode": "markers+text",
         "opacity": 1,
         "showlegend": false,
         "text": "veit",
         "textfont": {
          "size": 14
         },
         "textposition": "top center",
         "type": "scatter",
         "x": [
          -0.5284394329645842
         ],
         "y": [
          -0.9012068970338539
         ]
        },
        {
         "hoverinfo": "text",
         "legendgroup": "ruprecht",
         "marker": {
          "color": "black",
          "opacity": 1,
          "size": 30
         },
         "mode": "markers+text",
         "opacity": 1,
         "showlegend": false,
         "text": "ruprecht",
         "textfont": {
          "size": 15
         },
         "textposition": "top center",
         "type": "scatter",
         "x": [
          -0.6419574015989843
         ],
         "y": [
          -0.3275805819894431
         ]
        },
        {
         "hoverinfo": "text",
         "legendgroup": "eve",
         "marker": {
          "color": "black",
          "opacity": 1,
          "size": 27
         },
         "mode": "markers+text",
         "opacity": 1,
         "showlegend": false,
         "text": "eve",
         "textfont": {
          "size": 14
         },
         "textposition": "top center",
         "type": "scatter",
         "x": [
          0.11558885276239685
         ],
         "y": [
          -1
         ]
        },
        {
         "hoverinfo": "text",
         "legendgroup": "frau_brigitte",
         "marker": {
          "color": "black",
          "opacity": 1,
          "size": 27
         },
         "mode": "markers+text",
         "opacity": 1,
         "showlegend": false,
         "text": "frau_brigitte",
         "textfont": {
          "size": 14
         },
         "textposition": "top center",
         "type": "scatter",
         "x": [
          0.6132243936700967
         ],
         "y": [
          -0.05085263686185068
         ]
        },
        {
         "hoverinfo": "text",
         "legendgroup": "mehrere",
         "marker": {
          "color": "black",
          "opacity": 1,
          "size": 21
         },
         "mode": "markers+text",
         "opacity": 1,
         "showlegend": false,
         "text": "mehrere",
         "textfont": {
          "size": 12
         },
         "textposition": "top center",
         "type": "scatter",
         "x": [
          -0.11225264808512714
         ],
         "y": [
          -0.3851045870634275
         ]
        }
       ],
       "layout": {
        "height": 600,
        "paper_bgcolor": "rgba(0,0,0,0)",
        "plot_bgcolor": "rgba(0,0,0,0)",
        "template": {
         "data": {
          "bar": [
           {
            "error_x": {
             "color": "#2a3f5f"
            },
            "error_y": {
             "color": "#2a3f5f"
            },
            "marker": {
             "line": {
              "color": "#E5ECF6",
              "width": 0.5
             },
             "pattern": {
              "fillmode": "overlay",
              "size": 10,
              "solidity": 0.2
             }
            },
            "type": "bar"
           }
          ],
          "barpolar": [
           {
            "marker": {
             "line": {
              "color": "#E5ECF6",
              "width": 0.5
             },
             "pattern": {
              "fillmode": "overlay",
              "size": 10,
              "solidity": 0.2
             }
            },
            "type": "barpolar"
           }
          ],
          "carpet": [
           {
            "aaxis": {
             "endlinecolor": "#2a3f5f",
             "gridcolor": "white",
             "linecolor": "white",
             "minorgridcolor": "white",
             "startlinecolor": "#2a3f5f"
            },
            "baxis": {
             "endlinecolor": "#2a3f5f",
             "gridcolor": "white",
             "linecolor": "white",
             "minorgridcolor": "white",
             "startlinecolor": "#2a3f5f"
            },
            "type": "carpet"
           }
          ],
          "choropleth": [
           {
            "colorbar": {
             "outlinewidth": 0,
             "ticks": ""
            },
            "type": "choropleth"
           }
          ],
          "contour": [
           {
            "colorbar": {
             "outlinewidth": 0,
             "ticks": ""
            },
            "colorscale": [
             [
              0,
              "#0d0887"
             ],
             [
              0.1111111111111111,
              "#46039f"
             ],
             [
              0.2222222222222222,
              "#7201a8"
             ],
             [
              0.3333333333333333,
              "#9c179e"
             ],
             [
              0.4444444444444444,
              "#bd3786"
             ],
             [
              0.5555555555555556,
              "#d8576b"
             ],
             [
              0.6666666666666666,
              "#ed7953"
             ],
             [
              0.7777777777777778,
              "#fb9f3a"
             ],
             [
              0.8888888888888888,
              "#fdca26"
             ],
             [
              1,
              "#f0f921"
             ]
            ],
            "type": "contour"
           }
          ],
          "contourcarpet": [
           {
            "colorbar": {
             "outlinewidth": 0,
             "ticks": ""
            },
            "type": "contourcarpet"
           }
          ],
          "heatmap": [
           {
            "colorbar": {
             "outlinewidth": 0,
             "ticks": ""
            },
            "colorscale": [
             [
              0,
              "#0d0887"
             ],
             [
              0.1111111111111111,
              "#46039f"
             ],
             [
              0.2222222222222222,
              "#7201a8"
             ],
             [
              0.3333333333333333,
              "#9c179e"
             ],
             [
              0.4444444444444444,
              "#bd3786"
             ],
             [
              0.5555555555555556,
              "#d8576b"
             ],
             [
              0.6666666666666666,
              "#ed7953"
             ],
             [
              0.7777777777777778,
              "#fb9f3a"
             ],
             [
              0.8888888888888888,
              "#fdca26"
             ],
             [
              1,
              "#f0f921"
             ]
            ],
            "type": "heatmap"
           }
          ],
          "heatmapgl": [
           {
            "colorbar": {
             "outlinewidth": 0,
             "ticks": ""
            },
            "colorscale": [
             [
              0,
              "#0d0887"
             ],
             [
              0.1111111111111111,
              "#46039f"
             ],
             [
              0.2222222222222222,
              "#7201a8"
             ],
             [
              0.3333333333333333,
              "#9c179e"
             ],
             [
              0.4444444444444444,
              "#bd3786"
             ],
             [
              0.5555555555555556,
              "#d8576b"
             ],
             [
              0.6666666666666666,
              "#ed7953"
             ],
             [
              0.7777777777777778,
              "#fb9f3a"
             ],
             [
              0.8888888888888888,
              "#fdca26"
             ],
             [
              1,
              "#f0f921"
             ]
            ],
            "type": "heatmapgl"
           }
          ],
          "histogram": [
           {
            "marker": {
             "pattern": {
              "fillmode": "overlay",
              "size": 10,
              "solidity": 0.2
             }
            },
            "type": "histogram"
           }
          ],
          "histogram2d": [
           {
            "colorbar": {
             "outlinewidth": 0,
             "ticks": ""
            },
            "colorscale": [
             [
              0,
              "#0d0887"
             ],
             [
              0.1111111111111111,
              "#46039f"
             ],
             [
              0.2222222222222222,
              "#7201a8"
             ],
             [
              0.3333333333333333,
              "#9c179e"
             ],
             [
              0.4444444444444444,
              "#bd3786"
             ],
             [
              0.5555555555555556,
              "#d8576b"
             ],
             [
              0.6666666666666666,
              "#ed7953"
             ],
             [
              0.7777777777777778,
              "#fb9f3a"
             ],
             [
              0.8888888888888888,
              "#fdca26"
             ],
             [
              1,
              "#f0f921"
             ]
            ],
            "type": "histogram2d"
           }
          ],
          "histogram2dcontour": [
           {
            "colorbar": {
             "outlinewidth": 0,
             "ticks": ""
            },
            "colorscale": [
             [
              0,
              "#0d0887"
             ],
             [
              0.1111111111111111,
              "#46039f"
             ],
             [
              0.2222222222222222,
              "#7201a8"
             ],
             [
              0.3333333333333333,
              "#9c179e"
             ],
             [
              0.4444444444444444,
              "#bd3786"
             ],
             [
              0.5555555555555556,
              "#d8576b"
             ],
             [
              0.6666666666666666,
              "#ed7953"
             ],
             [
              0.7777777777777778,
              "#fb9f3a"
             ],
             [
              0.8888888888888888,
              "#fdca26"
             ],
             [
              1,
              "#f0f921"
             ]
            ],
            "type": "histogram2dcontour"
           }
          ],
          "mesh3d": [
           {
            "colorbar": {
             "outlinewidth": 0,
             "ticks": ""
            },
            "type": "mesh3d"
           }
          ],
          "parcoords": [
           {
            "line": {
             "colorbar": {
              "outlinewidth": 0,
              "ticks": ""
             }
            },
            "type": "parcoords"
           }
          ],
          "pie": [
           {
            "automargin": true,
            "type": "pie"
           }
          ],
          "scatter": [
           {
            "marker": {
             "colorbar": {
              "outlinewidth": 0,
              "ticks": ""
             }
            },
            "type": "scatter"
           }
          ],
          "scatter3d": [
           {
            "line": {
             "colorbar": {
              "outlinewidth": 0,
              "ticks": ""
             }
            },
            "marker": {
             "colorbar": {
              "outlinewidth": 0,
              "ticks": ""
             }
            },
            "type": "scatter3d"
           }
          ],
          "scattercarpet": [
           {
            "marker": {
             "colorbar": {
              "outlinewidth": 0,
              "ticks": ""
             }
            },
            "type": "scattercarpet"
           }
          ],
          "scattergeo": [
           {
            "marker": {
             "colorbar": {
              "outlinewidth": 0,
              "ticks": ""
             }
            },
            "type": "scattergeo"
           }
          ],
          "scattergl": [
           {
            "marker": {
             "colorbar": {
              "outlinewidth": 0,
              "ticks": ""
             }
            },
            "type": "scattergl"
           }
          ],
          "scattermapbox": [
           {
            "marker": {
             "colorbar": {
              "outlinewidth": 0,
              "ticks": ""
             }
            },
            "type": "scattermapbox"
           }
          ],
          "scatterpolar": [
           {
            "marker": {
             "colorbar": {
              "outlinewidth": 0,
              "ticks": ""
             }
            },
            "type": "scatterpolar"
           }
          ],
          "scatterpolargl": [
           {
            "marker": {
             "colorbar": {
              "outlinewidth": 0,
              "ticks": ""
             }
            },
            "type": "scatterpolargl"
           }
          ],
          "scatterternary": [
           {
            "marker": {
             "colorbar": {
              "outlinewidth": 0,
              "ticks": ""
             }
            },
            "type": "scatterternary"
           }
          ],
          "surface": [
           {
            "colorbar": {
             "outlinewidth": 0,
             "ticks": ""
            },
            "colorscale": [
             [
              0,
              "#0d0887"
             ],
             [
              0.1111111111111111,
              "#46039f"
             ],
             [
              0.2222222222222222,
              "#7201a8"
             ],
             [
              0.3333333333333333,
              "#9c179e"
             ],
             [
              0.4444444444444444,
              "#bd3786"
             ],
             [
              0.5555555555555556,
              "#d8576b"
             ],
             [
              0.6666666666666666,
              "#ed7953"
             ],
             [
              0.7777777777777778,
              "#fb9f3a"
             ],
             [
              0.8888888888888888,
              "#fdca26"
             ],
             [
              1,
              "#f0f921"
             ]
            ],
            "type": "surface"
           }
          ],
          "table": [
           {
            "cells": {
             "fill": {
              "color": "#EBF0F8"
             },
             "line": {
              "color": "white"
             }
            },
            "header": {
             "fill": {
              "color": "#C8D4E3"
             },
             "line": {
              "color": "white"
             }
            },
            "type": "table"
           }
          ]
         },
         "layout": {
          "annotationdefaults": {
           "arrowcolor": "#2a3f5f",
           "arrowhead": 0,
           "arrowwidth": 1
          },
          "autotypenumbers": "strict",
          "coloraxis": {
           "colorbar": {
            "outlinewidth": 0,
            "ticks": ""
           }
          },
          "colorscale": {
           "diverging": [
            [
             0,
             "#8e0152"
            ],
            [
             0.1,
             "#c51b7d"
            ],
            [
             0.2,
             "#de77ae"
            ],
            [
             0.3,
             "#f1b6da"
            ],
            [
             0.4,
             "#fde0ef"
            ],
            [
             0.5,
             "#f7f7f7"
            ],
            [
             0.6,
             "#e6f5d0"
            ],
            [
             0.7,
             "#b8e186"
            ],
            [
             0.8,
             "#7fbc41"
            ],
            [
             0.9,
             "#4d9221"
            ],
            [
             1,
             "#276419"
            ]
           ],
           "sequential": [
            [
             0,
             "#0d0887"
            ],
            [
             0.1111111111111111,
             "#46039f"
            ],
            [
             0.2222222222222222,
             "#7201a8"
            ],
            [
             0.3333333333333333,
             "#9c179e"
            ],
            [
             0.4444444444444444,
             "#bd3786"
            ],
            [
             0.5555555555555556,
             "#d8576b"
            ],
            [
             0.6666666666666666,
             "#ed7953"
            ],
            [
             0.7777777777777778,
             "#fb9f3a"
            ],
            [
             0.8888888888888888,
             "#fdca26"
            ],
            [
             1,
             "#f0f921"
            ]
           ],
           "sequentialminus": [
            [
             0,
             "#0d0887"
            ],
            [
             0.1111111111111111,
             "#46039f"
            ],
            [
             0.2222222222222222,
             "#7201a8"
            ],
            [
             0.3333333333333333,
             "#9c179e"
            ],
            [
             0.4444444444444444,
             "#bd3786"
            ],
            [
             0.5555555555555556,
             "#d8576b"
            ],
            [
             0.6666666666666666,
             "#ed7953"
            ],
            [
             0.7777777777777778,
             "#fb9f3a"
            ],
            [
             0.8888888888888888,
             "#fdca26"
            ],
            [
             1,
             "#f0f921"
            ]
           ]
          },
          "colorway": [
           "#636efa",
           "#EF553B",
           "#00cc96",
           "#ab63fa",
           "#FFA15A",
           "#19d3f3",
           "#FF6692",
           "#B6E880",
           "#FF97FF",
           "#FECB52"
          ],
          "font": {
           "color": "#2a3f5f"
          },
          "geo": {
           "bgcolor": "white",
           "lakecolor": "white",
           "landcolor": "#E5ECF6",
           "showlakes": true,
           "showland": true,
           "subunitcolor": "white"
          },
          "hoverlabel": {
           "align": "left"
          },
          "hovermode": "closest",
          "mapbox": {
           "style": "light"
          },
          "paper_bgcolor": "white",
          "plot_bgcolor": "#E5ECF6",
          "polar": {
           "angularaxis": {
            "gridcolor": "white",
            "linecolor": "white",
            "ticks": ""
           },
           "bgcolor": "#E5ECF6",
           "radialaxis": {
            "gridcolor": "white",
            "linecolor": "white",
            "ticks": ""
           }
          },
          "scene": {
           "xaxis": {
            "backgroundcolor": "#E5ECF6",
            "gridcolor": "white",
            "gridwidth": 2,
            "linecolor": "white",
            "showbackground": true,
            "ticks": "",
            "zerolinecolor": "white"
           },
           "yaxis": {
            "backgroundcolor": "#E5ECF6",
            "gridcolor": "white",
            "gridwidth": 2,
            "linecolor": "white",
            "showbackground": true,
            "ticks": "",
            "zerolinecolor": "white"
           },
           "zaxis": {
            "backgroundcolor": "#E5ECF6",
            "gridcolor": "white",
            "gridwidth": 2,
            "linecolor": "white",
            "showbackground": true,
            "ticks": "",
            "zerolinecolor": "white"
           }
          },
          "shapedefaults": {
           "line": {
            "color": "#2a3f5f"
           }
          },
          "ternary": {
           "aaxis": {
            "gridcolor": "white",
            "linecolor": "white",
            "ticks": ""
           },
           "baxis": {
            "gridcolor": "white",
            "linecolor": "white",
            "ticks": ""
           },
           "bgcolor": "#E5ECF6",
           "caxis": {
            "gridcolor": "white",
            "linecolor": "white",
            "ticks": ""
           }
          },
          "title": {
           "x": 0.05
          },
          "xaxis": {
           "automargin": true,
           "gridcolor": "white",
           "linecolor": "white",
           "ticks": "",
           "title": {
            "standoff": 15
           },
           "zerolinecolor": "white",
           "zerolinewidth": 2
          },
          "yaxis": {
           "automargin": true,
           "gridcolor": "white",
           "linecolor": "white",
           "ticks": "",
           "title": {
            "standoff": 15
           },
           "zerolinecolor": "white",
           "zerolinewidth": 2
          }
         }
        },
        "title": {
         "text": "CONFIG GRAPH FOR KLEIST-DER-ZERBROCHENE-KRUG"
        },
        "xaxis": {
         "showticklabels": false,
         "ticks": ""
        },
        "yaxis": {
         "showticklabels": false,
         "ticks": ""
        }
       }
      }
     },
     "metadata": {},
     "output_type": "display_data"
    }
   ],
   "source": [
    "fig3 = network.plot(network_type='config')"
   ]
  },
  {
   "cell_type": "code",
   "execution_count": 34,
   "metadata": {},
   "outputs": [],
   "source": [
    "fig3.write_html('demo_network_graphs/krug_config_demo.html')"
   ]
  }
 ],
 "metadata": {
  "interpreter": {
   "hash": "a3d30abdbb68051ec754755d2929097b9a5927425d2adda3802c72d0eb25048c"
  },
  "kernelspec": {
   "display_name": "Python 3.9.10 64-bit ('.venv': venv)",
   "language": "python",
   "name": "python3"
  },
  "language_info": {
   "codemirror_mode": {
    "name": "ipython",
    "version": 3
   },
   "file_extension": ".py",
   "mimetype": "text/x-python",
   "name": "python",
   "nbconvert_exporter": "python",
   "pygments_lexer": "ipython3",
   "version": "3.9.10"
  },
  "orig_nbformat": 4
 },
 "nbformat": 4,
 "nbformat_minor": 2
}
