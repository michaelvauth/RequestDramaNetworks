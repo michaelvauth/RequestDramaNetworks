{
 "cells": [
  {
   "cell_type": "markdown",
   "metadata": {},
   "source": [
    "# Notebook to introduce 3 types of dramatic networks"
   ]
  },
  {
   "cell_type": "code",
   "execution_count": 1,
   "metadata": {},
   "outputs": [],
   "source": [
    "import requestnetpy.network_graphs as ng"
   ]
  },
  {
   "cell_type": "markdown",
   "metadata": {},
   "source": [
    "## Plot network based on **automated request annotations**"
   ]
  },
  {
   "cell_type": "code",
   "execution_count": 2,
   "metadata": {},
   "outputs": [
    {
     "data": {
      "application/vnd.plotly.v1+json": {
       "config": {
        "plotlyServerURL": "https://plot.ly"
       },
       "data": [
        {
         "hoverinfo": "text",
         "marker": {
          "color": "green",
          "opacity": 0.4,
          "size": 1.4545454545454546,
          "symbol": "cross-thin"
         },
         "mode": "markers",
         "name": "rupert → ottokar",
         "showlegend": false,
         "text": "<b>rupert → ottokar</b>:<br><br>Ein Fluch, wie unsrer, kömmt vor Gottes Ohr Und je[...]<br>Wer bist du? Rede!<br>",
         "type": "scatter",
         "x": [
          0.16997061573042424
         ],
         "y": [
          -0.09786481400596438
         ]
        },
        {
         "hoverinfo": "text",
         "marker": {
          "color": "green",
          "opacity": 0.4,
          "size": 3.0454545454545454,
          "symbol": "cross-thin"
         },
         "mode": "markers",
         "name": "eustache → rupert",
         "showlegend": false,
         "text": "<b>eustache → rupert</b>:<br><br>O Gott! Wie soll ein Weib sich rächen?<br>Hat denn der Herold ihn beleidigt?<br>So läßt sich's fast nicht denken, daß die Tat Von [...]<br>Stör ich?<br>Rupert! Du könntest noch an Rache denken?<br>Ist es möglich? O Nicht diesen Augenblick zum weni[...]<br>Das Mädchen? O Mein Gott, du wirst das Mädchen doc[...]<br>O Gott, mein Heiland, was hab ich getan?<br>Ein Kindesfinger?<br>",
         "type": "scatter",
         "x": [
          0.1580071441380766
         ],
         "y": [
          -0.20132477432018728
         ]
        },
        {
         "hoverinfo": "text",
         "marker": {
          "color": "green",
          "opacity": 0.4,
          "size": 4.409090909090908,
          "symbol": "cross-thin"
         },
         "mode": "markers",
         "name": "rupert → jeronimus",
         "showlegend": false,
         "text": "<b>rupert → jeronimus</b>:<br><br>– Doch sag's ihm nicht so sanft, wie ich, hörst du[...]<br>– Du kommst Aus Warwand – nicht?<br>– Vielleicht hast du Aufträg an mich, kommst im Ge[...]<br>Mein Gast – und hättst aus Warwand keinen Auftrag?<br>Mich; Mich sprechen?<br>Unschuld?<br>Meinst du?<br>Ein Irrtum?<br>Nun?<br>Weiter – Nun, das andere Gerücht?<br>Sylvester doch ist überzeugt, wie billig, Daß ich [...]<br>– Nun, sprich weiter, noch Ein anderes Gerücht wol[...]<br>Sieh zu, wie's geht – sag an.<br>Was ist ein Herold?<br>Bis<br>[...]",
         "type": "scatter",
         "x": [
          0.15465753817201877
         ],
         "y": [
          -0.06447160385456023
         ]
        },
        {
         "hoverinfo": "text",
         "marker": {
          "color": "green",
          "opacity": 0.4,
          "size": 2.3636363636363633,
          "symbol": "cross-thin"
         },
         "mode": "markers",
         "name": "ottokar → jeronimus",
         "showlegend": false,
         "text": "<b>ottokar → jeronimus</b>:<br><br>– Nun, was gibt's?<br>So? Aus Warwand? Nun?<br>Sylvesters? Du?<br>Wie? Du wüßtest nichts?<br>– Das Rechtgefühl! Als ob's ein andres noch In ein[...]<br>Wie sagst du, Jeronimus?<br>",
         "type": "scatter",
         "x": [
          0.2576948449932042
         ],
         "y": [
          0.05915553978989674
         ]
        },
        {
         "hoverinfo": "text",
         "marker": {
          "color": "green",
          "opacity": 0.4,
          "size": 2.1363636363636367,
          "symbol": "cross-thin"
         },
         "mode": "markers",
         "name": "jeronimus → ottokar",
         "showlegend": false,
         "text": "<b>jeronimus → ottokar</b>:<br><br>Wie meinst du das?<br>Ottokar! Was meinst du? Sieh, du schlägst mir ins [...]<br>Suchst du ihn? Ich geh mit dir.<br>Was ist dir, Ottokar? Was hat so plötzlich Dich un[...]<br>– Tränen? Warum Tränen?<br>",
         "type": "scatter",
         "x": [
          0.1351902245259603
         ],
         "y": [
          0.3263012210011299
         ]
        },
        {
         "hoverinfo": "text",
         "marker": {
          "color": "green",
          "opacity": 0.4,
          "size": 4.409090909090908,
          "symbol": "cross-thin"
         },
         "mode": "markers",
         "name": "jeronimus → kirchenvogt",
         "showlegend": false,
         "text": "<b>jeronimus → kirchenvogt</b>:<br><br>Du kennst mich?<br>Ich bin auf Reisen, hab hier angesprochen, Und fin[...]<br>Nun denn, So sprich.<br>Wer hat dir das gesagt?<br>Sprich weiter.<br>Wirklich?<br>Nun das erzähl, wie ist das zugegangen?<br>Tat Rupert das?<br>Gestanden?<br>Was Hat er gestanden?<br>Hast du's gehört? Aus seinem Munde?<br>Sprich, wie gestand er's?<br>Auf Der Folter? Sag mir seine Worte.<br>Sylvester! – – Nun, und was war's weiter?<br>So? Und weiter weißt du nichts?<br>",
         "type": "scatter",
         "x": [
          0.1560513890865368
         ],
         "y": [
          0.38580772691574494
         ]
        },
        {
         "hoverinfo": "text",
         "marker": {
          "color": "green",
          "opacity": 0.4,
          "size": 1.4545454545454546,
          "symbol": "cross-thin"
         },
         "mode": "markers",
         "name": "kirchenvogt → jeronimus",
         "showlegend": false,
         "text": "<b>kirchenvogt → jeronimus</b>:<br><br>Warst du schon In dieser Kirche?<br>Ei, Herr, wie kann Ein Kirchenvogt die Namen aller[...]<br>",
         "type": "scatter",
         "x": [
          0.44544532603839265
         ],
         "y": [
          0.5947140930214317
         ]
        },
        {
         "hoverinfo": "text",
         "marker": {
          "color": "green",
          "opacity": 0.4,
          "size": 1.2272727272727273,
          "symbol": "cross-thin"
         },
         "mode": "markers",
         "name": "ein_diener_1-1 → jeronimus",
         "showlegend": false,
         "text": "<b>ein_diener_1-1 → jeronimus</b>:<br><br>War nicht Graf Rupert hier?<br>",
         "type": "scatter",
         "x": [
          0.2566257772067097
         ],
         "y": [
          0.6561785869450767
         ]
        },
        {
         "hoverinfo": "text",
         "marker": {
          "color": "green",
          "opacity": 0.4,
          "size": 5.318181818181818,
          "symbol": "cross-thin"
         },
         "mode": "markers",
         "name": "ottokar → johann",
         "showlegend": false,
         "text": "<b>ottokar → johann</b>:<br><br>Wie kamst du denn zu diesem Schleier? Er Ist's, is[...]<br>Und der Schleier? Wie kamst du denn zu diesem Schl[...]<br>Wo?<br>Und kennst nicht die Person, Die ihn verloren?<br>Wahrhaftig? – Also fandst du ihn wohl nicht? Er wa[...]<br>Wer rettete dich denn?<br>Wie? Nackend?<br>Nun?<br>Und sprach sie nicht?<br>Wie? Warum denn das?<br>Und sagte sie Dir ihren Namen nicht?<br>Ob ich sie kenne? Glaubst du Tor, Die Sonne schein[...]<br>Das fragst du hier an dieser Leiche? Gegen Sylvest[...]<br>Was?<br>[...]",
         "type": "scatter",
         "x": [
          0.23814525480852303
         ],
         "y": [
          0.04164179532502435
         ]
        },
        {
         "hoverinfo": "text",
         "marker": {
          "color": "green",
          "opacity": 0.4,
          "size": 2.8181818181818183,
          "symbol": "cross-thin"
         },
         "mode": "markers",
         "name": "johann → ottokar",
         "showlegend": false,
         "text": "<b>johann → ottokar</b>:<br><br>Den Schleier – ? Gnäd'ger Herr, was denkst du? Sol[...]<br>Wer, fragst du? Ach, Daß ich mit einem Wort es nen[...]<br>Mit Tönen wie aus Glocken – fragte, stets Geschäft[...]<br>Wie? kennst Du sie?<br>Wie meinst Du das – ? Und kennst auch ihren Namen?<br>– Gegen wen?<br>Was sonst an mir kann so voll Greuel sein, Und, bi[...]<br>– Sprich. Wenn einer mir vertraut', er wiss' ein R[...]<br>",
         "type": "scatter",
         "x": [
          -0.04075608713617062
         ],
         "y": [
          0.16867752081727846
         ]
        },
        {
         "hoverinfo": "text",
         "marker": {
          "color": "green",
          "opacity": 0.4,
          "size": 3.5,
          "symbol": "cross-thin"
         },
         "mode": "markers",
         "name": "sylvius → agnes",
         "showlegend": false,
         "text": "<b>sylvius → agnes</b>:<br><br>Agnes, wo ist Philipp?<br>Hilft das?<br>Du weinst?<br>Warum denn, meint der Pater, Sollst du nicht weine[...]<br>Glaubst du's?<br>Wie willst du's halten, Agnes?<br>Ich meine, wie du's gläubest?<br>Wie? Du bist Nicht eingesegnet? Sprich, wie alt de[...]<br>Das möchtest du doch wohl?<br>Sag's ihr gleich.<br>Denn wer sagt dir, Daß die aus Rossitz unsre Feind[...]<br>",
         "type": "scatter",
         "x": [
          -0.3974713754288078
         ],
         "y": [
          0.0638531930612655
         ]
        },
        {
         "hoverinfo": "text",
         "marker": {
          "color": "green",
          "opacity": 0.4,
          "size": 2.3636363636363633,
          "symbol": "cross-thin"
         },
         "mode": "markers",
         "name": "agnes → sylvius",
         "showlegend": false,
         "text": "<b>agnes → sylvius</b>:<br><br>Denn hier war Philipp gern, wie sollt er nicht? Wi[...]<br>Ja, da möcht es freilich doch Wohl anders sein, wo[...]<br>Wie meinst du das?<br>Meinst du?<br>Nein, lieber Sag du es ihr, sie möchte ungleich vo[...]<br>Was soll das?<br>",
         "type": "scatter",
         "x": [
          -0.6337781885376195
         ],
         "y": [
          0.08322105485781474
         ]
        },
        {
         "hoverinfo": "text",
         "marker": {
          "color": "green",
          "opacity": 0.4,
          "size": 1.4545454545454546,
          "symbol": "cross-thin"
         },
         "mode": "markers",
         "name": "gertrude → sylvius",
         "showlegend": false,
         "text": "<b>gertrude → sylvius</b>:<br><br>Hat dir Jerome das gelehrt?<br>Gesagt? Und öffentlich? Was hätt ich öffentlich ge[...]<br>",
         "type": "scatter",
         "x": [
          -0.4904261111175271
         ],
         "y": [
          0.13528671419939636
         ]
        },
        {
         "hoverinfo": "text",
         "marker": {
          "color": "green",
          "opacity": 0.4,
          "size": 1.2272727272727273,
          "symbol": "cross-thin"
         },
         "mode": "markers",
         "name": "sylvius → gertrude",
         "showlegend": false,
         "text": "<b>sylvius → gertrude</b>:<br><br>Gertrude, Sprich, ist sie rot?<br>",
         "type": "scatter",
         "x": [
          -0.3815433668265753
         ],
         "y": [
          0.06963826632144124
         ]
        },
        {
         "hoverinfo": "text",
         "marker": {
          "color": "green",
          "opacity": 0.4,
          "size": 1.9090909090909092,
          "symbol": "cross-thin"
         },
         "mode": "markers",
         "name": "gertrude → agnes",
         "showlegend": false,
         "text": "<b>gertrude → agnes</b>:<br><br>Gedulde dich bis morgen, willst du das? Hier, Agne[...]<br>Aber, meine Tochter, Wie konntest du so einsam und[...]<br>Einen Ritter? Sieh Wie du in die Gefahr dich wagst[...]<br>Weißt du es?<br>",
         "type": "scatter",
         "x": [
          -0.5199644627561286
         ],
         "y": [
          0.137707696923965
         ]
        },
        {
         "hoverinfo": "text",
         "marker": {
          "color": "green",
          "opacity": 0.4,
          "size": 1.9090909090909092,
          "symbol": "cross-thin"
         },
         "mode": "markers",
         "name": "agnes → gertrude",
         "showlegend": false,
         "text": "<b>agnes → gertrude</b>:<br><br>Geheimnis! Allen Kindern in dem Schlosse Ist es be[...]<br>Bin ich von dem Entsetzlichen erlöst?<br>Mich?<br>Weiß er's?<br>",
         "type": "scatter",
         "x": [
          -0.6473885315739885
         ],
         "y": [
          0.09142711084255914
         ]
        },
        {
         "hoverinfo": "text",
         "marker": {
          "color": "green",
          "opacity": 0.4,
          "size": 4.863636363636363,
          "symbol": "cross-thin"
         },
         "mode": "markers",
         "name": "gertrude → sylvester",
         "showlegend": false,
         "text": "<b>gertrude → sylvester</b>:<br><br>– Denn In Lebensfülle, in dem Sarge morgen. – Waru[...]<br>Ihm vorgeworfen? O mein Gemahl, die Sache lag so k[...]<br>Soll ich ihm einen Platz an unserm Tisch Bereiten?<br>O großer Gott, wer denn Beschuldiget dich dieser U[...]<br>Um Gotteswillen, In deiner Feinde Macht gibst du d[...]<br>Sylvester, kennst du mich, kennst du mich wieder?<br>Du weißt ja, wie du sagst, sogar warum?<br>– Warum riefst du ihm nicht?<br>Um Gotteswillen, was denn sonst?<br>Und wir, Wir müßten uns dann reinigen?<br><br>[...]",
         "type": "scatter",
         "x": [
          -0.49085617913600227
         ],
         "y": [
          0.15221442413381597
         ]
        },
        {
         "hoverinfo": "text",
         "marker": {
          "color": "green",
          "opacity": 0.4,
          "size": 1.4545454545454546,
          "symbol": "cross-thin"
         },
         "mode": "markers",
         "name": "gaertner → sylvester",
         "showlegend": false,
         "text": "<b>gaertner → sylvester</b>:<br><br>Herr, werden wir's erleben?<br>Deine Kinder? Herr, Ich möchte lieber eine Eichenp[...]<br>",
         "type": "scatter",
         "x": [
          -0.24251204459626446
         ],
         "y": [
          0.778605975977462
         ]
        },
        {
         "hoverinfo": "text",
         "marker": {
          "color": "green",
          "opacity": 0.4,
          "size": 1.2272727272727273,
          "symbol": "cross-thin"
         },
         "mode": "markers",
         "name": "sylvester → gaertner",
         "showlegend": false,
         "text": "<b>sylvester → gaertner</b>:<br><br>Wie meinst du das?<br>",
         "type": "scatter",
         "x": [
          -0.35782018626621404
         ],
         "y": [
          0.2915867170471783
         ]
        },
        {
         "hoverinfo": "text",
         "marker": {
          "color": "green",
          "opacity": 0.4,
          "size": 5.090909090909091,
          "symbol": "cross-thin"
         },
         "mode": "markers",
         "name": "sylvester → gertrude",
         "showlegend": false,
         "text": "<b>sylvester → gertrude</b>:<br><br>Was meinst du? Wenn Vor achtzehn Jahren, als du sc[...]<br>Sage mir, wie kam Ich denn auf diesen Stuhl? Zulet[...]<br>– Wie, was ist dir denn? Was ist Euch denn? Fehlt [...]<br>Ins Bett? O pfui! bin ich denn – sage mir, Bin ich[...]<br>Meinst du, es wäre nötig?<br>Was mich freut, Ist, daß der Geist doch mehr ist, [...]<br>Mich selbst? Mißtrauisch gegen mich? Nun laß Doch [...]<br>Von meinen Leuten?<br>Gestanden hätt er das?<br>– Wer Hat's denn gehört, daß er's gestanden?<br>Und wer hat dir d<br>[...]",
         "type": "scatter",
         "x": [
          -0.38541397899285157
         ],
         "y": [
          0.22198765573121765
         ]
        },
        {
         "hoverinfo": "text",
         "marker": {
          "color": "green",
          "opacity": 0.4,
          "size": 2.8181818181818183,
          "symbol": "cross-thin"
         },
         "mode": "markers",
         "name": "sylvester → aldoebern",
         "showlegend": false,
         "text": "<b>sylvester → aldoebern</b>:<br><br>Aus Rossitz, sagst du?<br>Drum so laß uns schnell Hinhüpfen über den Gebrauc[...]<br>Mord?<br>– Du bist Aus Rossitz nicht, nicht wahr? – Nun set[...]<br>Ich wußt es wohl, nun setz dich. Gertrude! Laß mir[...]<br>Ja, Was Henker denkst du? Hat dir einer Unrecht, B[...]<br>Nun wenn's Ist's wirklich wahr? Um eines Mordes wi[...]<br>Franz, sattle mir mein Pferd. – Verzeih mein Freun[...]<br>",
         "type": "scatter",
         "x": [
          -0.40322227451319964
         ],
         "y": [
          0.27601369278469
         ]
        },
        {
         "hoverinfo": "text",
         "marker": {
          "color": "green",
          "opacity": 0.4,
          "size": 2.1363636363636367,
          "symbol": "cross-thin"
         },
         "mode": "markers",
         "name": "aldoebern → sylvester",
         "showlegend": false,
         "text": "<b>aldoebern → sylvester</b>:<br><br>– Was soll das?<br>Meiner Seite?<br>Bist du von Sinnen, oder ist's Verstellung?<br>Denkst du Mir sei von meiner Mutter so viel Mensch[...]<br>Soll ich's dir zehenmal Und wieder zehnmal wiederk[...]<br>",
         "type": "scatter",
         "x": [
          -0.6511308388191349
         ],
         "y": [
          0.6384487576150674
         ]
        },
        {
         "hoverinfo": "text",
         "marker": {
          "color": "green",
          "opacity": 0.4,
          "size": 2.590909090909091,
          "symbol": "cross-thin"
         },
         "mode": "markers",
         "name": "jeronimus → sylvester",
         "showlegend": false,
         "text": "<b>jeronimus → sylvester</b>:<br><br>Wohin?<br>Wo willst du hin?<br>Lieferst du Wie ein bekehrter Sünder selbst dich a[...]<br>Agnes! Agnes! Ich sehe keine Wunde. – Lebst du, Ag[...]<br>Hast du denn die Leute, Die sogenannten Mörder nic[...]<br>Wie? Wenn er es nicht Gestehen will, macht man's w[...]<br>Sag kurz, was willst du tun?<br>",
         "type": "scatter",
         "x": [
          0.07066606187330357
         ],
         "y": [
          0.34679591900536993
         ]
        },
        {
         "hoverinfo": "text",
         "marker": {
          "color": "green",
          "opacity": 0.4,
          "size": 3.272727272727273,
          "symbol": "cross-thin"
         },
         "mode": "markers",
         "name": "sylvester → jeronimus",
         "showlegend": false,
         "text": "<b>sylvester → jeronimus</b>:<br><br>Was für ein Wort – ?<br>Glaubst du, daß ich, wenn eine Schuld mich drückte[...]<br>Lebt sie? Und unverwundet?<br>Kennst du Den Menschen?<br>Das Schwert empfangen, gestern erst – und heute Wa[...]<br>Betrug? Wie wär das möglich?<br>Das war?<br>Nun? Und wenn Er dann gesteht, daß Rupert ihn gedu[...]<br>So? Dann freilich bin ich auch ein Mörder.<br>Ich bin dir wohl ein Rätsel? Nicht wahr? Nun tröst[...]<br>",
         "type": "scatter",
         "x": [
          -0.3230226188807065
         ],
         "y": [
          0.243607821828057
         ]
        },
        {
         "hoverinfo": "text",
         "marker": {
          "color": "green",
          "opacity": 0.4,
          "size": 10.545454545454547,
          "symbol": "cross-thin"
         },
         "mode": "markers",
         "name": "agnes → ottokar",
         "showlegend": false,
         "text": "<b>agnes → ottokar</b>:<br><br>'s ist doch ein häßliches Drum ist das Schlimmste [...]<br>Ist er hübsch?<br>Wahrhaftig? Sieh einmal die Finger an.<br>Stundenlang hab ich Gesonnen, wie ein jedes einzel[...]<br>Liebst du mich, so sprich sogleich Ein Wort, das m[...]<br>Von meinem Vaterhause? Kennst du's denn? Hab ich n[...]<br>Du weißt's?<br>Morden?<br>Von Liebe, hör ich wohl, sprachst du mit mir, Doch[...]<br>– Laß mich. – Wollt ihr mich morden?<br>Soll ich dir traun, wenn du nicht mir?<br>– Du hast mich herbestellt, was w<br>[...]",
         "type": "scatter",
         "x": [
          -0.5696840939034378
         ],
         "y": [
          0.07965406678799432
         ]
        },
        {
         "hoverinfo": "text",
         "marker": {
          "color": "green",
          "opacity": 0.4,
          "size": 11.454545454545453,
          "symbol": "cross-thin"
         },
         "mode": "markers",
         "name": "ottokar → agnes",
         "showlegend": false,
         "text": "<b>ottokar → agnes</b>:<br><br>Und mir du.<br>Nun sage mir, wie konntest du es wagen, So einsam [...]<br>Wie sagst du? Ihr wärt in Frieden mit den Nachbarn[...]<br>Was ängstigt dich? Ich will dir jeden falschen Wah[...]<br>Kennst du ihn?<br>Dich morden? – Frei bist du, und willst du gehen, [...]<br>Und kehrst nicht wieder?<br>Maria! Willst du nicht besser von Mir denken lerne[...]<br>Vor mir erschrickst du?<br>Ist's wirklich wahr, vor mir wärst du erschrocken?<br>Wenn Ich's dir nun sage, kannst du mir vertraun, M[...]<br><br>[...]",
         "type": "scatter",
         "x": [
          0.17937547627882666
         ],
         "y": [
          0.03175030043288167
         ]
        },
        {
         "hoverinfo": "text",
         "marker": {
          "color": "green",
          "opacity": 0.4,
          "size": 2.8181818181818183,
          "symbol": "cross-thin"
         },
         "mode": "markers",
         "name": "sylvester → theistiner",
         "showlegend": false,
         "text": "<b>sylvester → theistiner</b>:<br><br>Du weißt's? Nun, sprich, Was meinst du, 's ist doc[...]<br>Bezweifelt? Nein, das tu ich auch nicht mehr. – Un[...]<br>Wie meinst du das? Der Herold wär noch hier?<br>Gesteiniget?<br>Wo sind sie?<br>– Laßt mich allein ihr Weiber. Wenn sie so Gestimm[...]<br>Er will nach meinem Haupte greifen, will Es – nun,[...]<br>Der Zug soll halten! Ist es diese Höhle?<br>",
         "type": "scatter",
         "x": [
          -0.3484461683940983
         ],
         "y": [
          0.14777921201955418
         ]
        },
        {
         "hoverinfo": "text",
         "marker": {
          "color": "green",
          "opacity": 0.4,
          "size": 1.2272727272727273,
          "symbol": "cross-thin"
         },
         "mode": "markers",
         "name": "jeronimus → gertrude",
         "showlegend": false,
         "text": "<b>jeronimus → gertrude</b>:<br><br>– – Bin ich Ein Schuft in meinen Augen doch, um wi[...]<br>",
         "type": "scatter",
         "x": [
          0.057485786855409726
         ],
         "y": [
          0.33807426505569477
         ]
        },
        {
         "hoverinfo": "text",
         "marker": {
          "color": "green",
          "opacity": 0.4,
          "size": 1.4545454545454546,
          "symbol": "cross-thin"
         },
         "mode": "markers",
         "name": "agnes → johann",
         "showlegend": false,
         "text": "<b>agnes → johann</b>:<br><br>Fort, Ungeheuer, bist du nicht aus Rossitz?<br>Was willst du, Rasender, von mir?<br>",
         "type": "scatter",
         "x": [
          -0.6045467616465245
         ],
         "y": [
          0.09553353247452608
         ]
        },
        {
         "hoverinfo": "text",
         "marker": {
          "color": "green",
          "opacity": 0.4,
          "size": 1.6818181818181817,
          "symbol": "cross-thin"
         },
         "mode": "markers",
         "name": "johann → agnes",
         "showlegend": false,
         "text": "<b>johann → agnes</b>:<br><br>Wie kann ich furchtbar sein? Sieh mich doch an, Ic[...]<br>Sieh, Mädchen, morgen lieg ich in dem Grabe, Ein J[...]<br>– Hast du nicht einen Mir schon ins Herz gedrückt?<br>",
         "type": "scatter",
         "x": [
          -0.13438853340895368
         ],
         "y": [
          0.17466549161166756
         ]
        },
        {
         "hoverinfo": "text",
         "marker": {
          "color": "green",
          "opacity": 0.4,
          "size": 1.4545454545454546,
          "symbol": "cross-thin"
         },
         "mode": "markers",
         "name": "gertrude → jeronimus",
         "showlegend": false,
         "text": "<b>gertrude → jeronimus</b>:<br><br>Ist er nicht Aus Rossitz?<br>Unsre Agnes? Und woher?<br>",
         "type": "scatter",
         "x": [
          -0.441645094041751
         ],
         "y": [
          0.1651129362809801
         ]
        },
        {
         "hoverinfo": "text",
         "marker": {
          "color": "green",
          "opacity": 0.4,
          "size": 1.4545454545454546,
          "symbol": "cross-thin"
         },
         "mode": "markers",
         "name": "sylvester → agnes",
         "showlegend": false,
         "text": "<b>sylvester → agnes</b>:<br><br>Und zückt' er gleich den Dolch? Und sprach er nich[...]<br>Die Katze war mir übers Fläschchen Mit Ananas geko[...]<br>",
         "type": "scatter",
         "x": [
          -0.40134198759508405
         ],
         "y": [
          0.2162025824710419
         ]
        },
        {
         "hoverinfo": "text",
         "marker": {
          "color": "green",
          "opacity": 0.4,
          "size": 1.6818181818181817,
          "symbol": "cross-thin"
         },
         "mode": "markers",
         "name": "agnes → jeronimus",
         "showlegend": false,
         "text": "<b>agnes → jeronimus</b>:<br><br>– Glaubst du, es sei ein Rossitzscher?<br>Meinst du den – ?<br>Mir? Den Tod?<br>",
         "type": "scatter",
         "x": [
          -0.5849971714618433
         ],
         "y": [
          0.11304727693939846
         ]
        },
        {
         "hoverinfo": "text",
         "marker": {
          "color": "green",
          "opacity": 0.4,
          "size": 1.4545454545454546,
          "symbol": "cross-thin"
         },
         "mode": "markers",
         "name": "jeronimus → agnes",
         "showlegend": false,
         "text": "<b>jeronimus → agnes</b>:<br><br>– Kennst du ihn nicht?<br>Ich habe sichre Proben doch, daß er Dich kennt?<br>",
         "type": "scatter",
         "x": [
          0.04155777825317725
         ],
         "y": [
          0.332289191795519
         ]
        },
        {
         "hoverinfo": "text",
         "marker": {
          "color": "green",
          "opacity": 0.4,
          "size": 1.2272727272727273,
          "symbol": "cross-thin"
         },
         "mode": "markers",
         "name": "sylvester → ein_diener_2-3",
         "showlegend": false,
         "text": "<b>sylvester → ein_diener_2-3</b>:<br><br>Ist er sich sein bewußt?<br>",
         "type": "scatter",
         "x": [
          -0.4162025754530455
         ],
         "y": [
          0.2606006401002524
         ]
        },
        {
         "hoverinfo": "text",
         "marker": {
          "color": "green",
          "opacity": 0.4,
          "size": 3.9545454545454546,
          "symbol": "cross-thin"
         },
         "mode": "markers",
         "name": "rupert → eustache",
         "showlegend": false,
         "text": "<b>rupert → eustache</b>:<br><br>Erschlagen, sagst du?<br>Das Volk – ein Volk von Weibern wohl?<br>In vierzehn Tagen bist du frei. Was willst du?<br>Solange ich kein Knecht, soll mir Den Herrn ein an[...]<br>So werd ich mich vor dir wohl reinigen müssen? Sol[...]<br>Wissen es die Leute, Wie's zugegangen?<br>Ob Ich an die Rache denke? – Frage doch, Ob ich no[...]<br>Warum Meinst du, hätt er mir wohl verziehen, da De[...]<br>Welche seltsame Anwandlung? Mir den Fluch des Sohn[...]<br>Lieben?<br>Gebirg?<br>Nein, sag mir, hab ic<br>[...]",
         "type": "scatter",
         "x": [
          0.15846481697856482
         ],
         "y": [
          -0.12157045341317008
         ]
        },
        {
         "hoverinfo": "text",
         "marker": {
          "color": "green",
          "opacity": 0.4,
          "size": 3.9545454545454546,
          "symbol": "cross-thin"
         },
         "mode": "markers",
         "name": "rupert → santing",
         "showlegend": false,
         "text": "<b>rupert → santing</b>:<br><br>Hat's ein Mann gehört?<br>Was hat er mitgebracht?<br>Wer von euch beiden ist das Weib?<br>Der Herold, sei's – das wollt ich glauben; doch Jo[...]<br>Morden! Ein Mädchen! Sind sie toll? Der Junge ist [...]<br>Wer sagt das?<br>Hast du mir Gedient? Soll ich dir erklären, was Ei[...]<br>Löscht er Den Durst?<br>– Wohlan, So sollen sie denn recht gehabt auch hab[...]<br>– – Was war es schon?<br>Nichts Böses? Santing! Warum denn hätt ich sie gem[...]<br>Denkst du an Sylvester?<br>– Ging er nicht au<br>[...]",
         "type": "scatter",
         "x": [
          0.14878788919329344
         ],
         "y": [
          -0.1380957651144914
         ]
        },
        {
         "hoverinfo": "text",
         "marker": {
          "color": "green",
          "opacity": 0.4,
          "size": 1.2272727272727273,
          "symbol": "cross-thin"
         },
         "mode": "markers",
         "name": "rupert → ein_diener_3-2",
         "showlegend": false,
         "text": "<b>rupert → ein_diener_3-2</b>:<br><br>Nun? was willst du?<br>",
         "type": "scatter",
         "x": [
          0.20260236034885964
         ],
         "y": [
          -0.14473425128094175
         ]
        },
        {
         "hoverinfo": "text",
         "marker": {
          "color": "green",
          "opacity": 0.4,
          "size": 2.1363636363636367,
          "symbol": "cross-thin"
         },
         "mode": "markers",
         "name": "rupert → der_wanderer",
         "showlegend": false,
         "text": "<b>rupert → der_wanderer</b>:<br><br>Wer bist du, mein Sohn?<br>Du warst in Warwand; Was sahst du da?<br>Wer tat es?<br>War Sylvester selbst dabei?<br>Und was sagt' er da?<br>",
         "type": "scatter",
         "x": [
          0.2197871323636743
         ],
         "y": [
          -0.12032348612811629
         ]
        },
        {
         "hoverinfo": "text",
         "marker": {
          "color": "green",
          "opacity": 0.4,
          "size": 1.2272727272727273,
          "symbol": "cross-thin"
         },
         "mode": "markers",
         "name": "rupert → zweiter_wanderer",
         "showlegend": false,
         "text": "<b>rupert → zweiter_wanderer</b>:<br><br>Und also wohl den Herold nicht?<br>",
         "type": "scatter",
         "x": [
          0.22039486274345613
         ],
         "y": [
          -0.09533662733854512
         ]
        },
        {
         "hoverinfo": "text",
         "marker": {
          "color": "green",
          "opacity": 0.4,
          "size": 2.3636363636363633,
          "symbol": "cross-thin"
         },
         "mode": "markers",
         "name": "jeronimus → eustache",
         "showlegend": false,
         "text": "<b>jeronimus → eustache</b>:<br><br>Was seid ihr besser denn Als die Beklagten, wenn d[...]<br>Wer fragst du? Johann.<br>Selbst Rupert? Ei, wenn's nur dies Wort bedurfte, [...]<br>Wirklich? Nun so war auch wohl Dies Wort nicht nöt[...]<br>Was war das?<br>Weiß er Denn, daß Johann von meiner Hand gefallen?<br>",
         "type": "scatter",
         "x": [
          0.1236844257741009
         ],
         "y": [
          0.30259558159392425
         ]
        },
        {
         "hoverinfo": "text",
         "marker": {
          "color": "green",
          "opacity": 0.4,
          "size": 4.409090909090908,
          "symbol": "cross-thin"
         },
         "mode": "markers",
         "name": "eustache → jeronimus",
         "showlegend": false,
         "text": "<b>eustache → jeronimus</b>:<br><br>So laß mich doch ein Wort nur sprechen – sind Wir [...]<br>Wer Hat es gestanden?<br>Ist's möglich, du nimmst ihn in Schutz?<br>Soll ich dir Mehr glauben, als den Tätern, die es [...]<br>Und nicht für unsre?<br>– Was hat Der Knabe denn gestanden?<br>– Ich werde nie den Unglückstag Vergessen – und es[...]<br>Und weiter nichts?<br>So glaubt er's also nicht?<br>So ist Er krank?<br>Nun, und was bedeutet das?<br>Wie? Du erschreckst mich, Ottokar und Agnes?<br>– Aber wie? Man sagte, – War's ein Ger<br>[...]",
         "type": "scatter",
         "x": [
          0.1541426562264695
         ],
         "y": [
          -0.15419521487495458
         ]
        },
        {
         "hoverinfo": "text",
         "marker": {
          "color": "green",
          "opacity": 0.4,
          "size": 2.3636363636363633,
          "symbol": "cross-thin"
         },
         "mode": "markers",
         "name": "jeronimus → rupert",
         "showlegend": false,
         "text": "<b>jeronimus → rupert</b>:<br><br>Wirklich? Willst du's tun?<br>– Jemals? Ich eile gleich zu ihm.<br>Wie?<br>Wie sagst du?<br>Was ist das? Rupert!<br>Wie?<br>",
         "type": "scatter",
         "x": [
          0.12374163487916193
         ],
         "y": [
          0.31256487170730135
         ]
        },
        {
         "hoverinfo": "text",
         "marker": {
          "color": "green",
          "opacity": 0.4,
          "size": 1.2272727272727273,
          "symbol": "cross-thin"
         },
         "mode": "markers",
         "name": "rupert → rupert",
         "showlegend": false,
         "text": "<b>rupert → rupert</b>:<br><br>Wo sind die Hunde wenn Ich pfeife? – Ruft den Graf[...]<br>",
         "type": "scatter",
         "x": [
          0.15852202608362587
         ],
         "y": [
          -0.11160116329979293
         ]
        },
        {
         "hoverinfo": "text",
         "marker": {
          "color": "green",
          "opacity": 0.4,
          "size": 1.9090909090909092,
          "symbol": "cross-thin"
         },
         "mode": "markers",
         "name": "santing → rupert",
         "showlegend": false,
         "text": "<b>santing → rupert</b>:<br><br>Mich?<br>Fühlst du nicht wohl dich?<br>Was fehlt dir?<br>Bist du denn verrückt? Das Mädchen ist Sylvesters [...]<br>",
         "type": "scatter",
         "x": [
          0.07091479407063417
         ],
         "y": [
          -0.3500525796320793
         ]
        },
        {
         "hoverinfo": "text",
         "marker": {
          "color": "green",
          "opacity": 0.4,
          "size": 1.4545454545454546,
          "symbol": "cross-thin"
         },
         "mode": "markers",
         "name": "eustache → die_kammerzofe",
         "showlegend": false,
         "text": "<b>eustache → die_kammerzofe</b>:<br><br>Dich? Bist du von Sinnen?<br>Wen?<br>",
         "type": "scatter",
         "x": [
          0.15117036385020866
         ],
         "y": [
          -0.29016465799020796
         ]
        },
        {
         "hoverinfo": "text",
         "marker": {
          "color": "green",
          "opacity": 0.4,
          "size": 1.2272727272727273,
          "symbol": "cross-thin"
         },
         "mode": "markers",
         "name": "rupert → die_kammerzofe",
         "showlegend": false,
         "text": "<b>rupert → die_kammerzofe</b>:<br><br>– Gehört? – Du selbst?<br>",
         "type": "scatter",
         "x": [
          0.15168524579575793
         ],
         "y": [
          -0.20044104696981363
         ]
        },
        {
         "hoverinfo": "text",
         "marker": {
          "color": "green",
          "opacity": 0.4,
          "size": 1.2272727272727273,
          "symbol": "cross-thin"
         },
         "mode": "markers",
         "name": "die_kammerzofe → rupert",
         "showlegend": false,
         "text": "<b>die_kammerzofe → rupert</b>:<br><br>So schenkst du ihm das Leben?<br>",
         "type": "scatter",
         "x": [
          0.09699100349281446
         ],
         "y": [
          -0.9111601163299793
         ]
        },
        {
         "hoverinfo": "text",
         "marker": {
          "color": "green",
          "opacity": 0.4,
          "size": 1.4545454545454546,
          "symbol": "cross-thin"
         },
         "mode": "markers",
         "name": "rupert → ein_diener_4-1",
         "showlegend": false,
         "text": "<b>rupert → ein_diener_4-1</b>:<br><br>Ist noch der Graf zurück nicht vom Spaziergang?<br>Wo ist der Santing?<br>",
         "type": "scatter",
         "x": [
          0.18719371579764776
         ],
         "y": [
          -0.190541932982155
         ]
        },
        {
         "hoverinfo": "text",
         "marker": {
          "color": "green",
          "opacity": 0.4,
          "size": 2.590909090909091,
          "symbol": "cross-thin"
         },
         "mode": "markers",
         "name": "ursula → barnabe",
         "showlegend": false,
         "text": "<b>ursula → barnabe</b>:<br><br>Barnabe! Barnabe! Rührst du den Kessel?<br>Aber Die ungelegten Eier aus dem Hechtsbauch?<br>Ich will erst Fliederblüte zubereiten. Laß du nur [...]<br>Barnabe! Barnabe! Wer spricht denn in der Küch?<br>Bist du es? Sprichst du die drei Wünsche?<br>Barnabe! Du böses Mädel! Was lachst du?<br>Meinen auch vom Krebse?<br>",
         "type": "scatter",
         "x": [
          -0.6137294172680536
         ],
         "y": [
          -0.41642129545584383
         ]
        },
        {
         "hoverinfo": "text",
         "marker": {
          "color": "green",
          "opacity": 0.4,
          "size": 1.6818181818181817,
          "symbol": "cross-thin"
         },
         "mode": "markers",
         "name": "barnabe → ursula",
         "showlegend": false,
         "text": "<b>barnabe → ursula</b>:<br><br>Schneid ich noch einen auf?<br>Was sagst du, Mutter?<br>Ei, was lach ich? Ich bin lustig, Und sprech die W[...]<br>",
         "type": "scatter",
         "x": [
          -0.742152280707264
         ],
         "y": [
          -0.33141958584123277
         ]
        },
        {
         "hoverinfo": "text",
         "marker": {
          "color": "green",
          "opacity": 0.4,
          "size": 2.1363636363636367,
          "symbol": "cross-thin"
         },
         "mode": "markers",
         "name": "barnabe → ottokar",
         "showlegend": false,
         "text": "<b>barnabe → ottokar</b>:<br><br>– Wo blieb Ich stehn? Freuden vollauf – Nein, das [...]<br>Was weiß ich? Weil ich eine Jungfrau bin.<br>Du lieber Gott, bist du ein Engel?<br>Wir zogen's drauf heraus, bemühten viel Uns um das[...]<br>Soll ich sie dir rufen? Nun ja, es wird ihr Freude[...]<br>",
         "type": "scatter",
         "x": [
          -0.6550838325182878
         ],
         "y": [
          -0.2861387019616165
         ]
        },
        {
         "hoverinfo": "text",
         "marker": {
          "color": "green",
          "opacity": 0.4,
          "size": 4.409090909090908,
          "symbol": "cross-thin"
         },
         "mode": "markers",
         "name": "ottokar → barnabe",
         "showlegend": false,
         "text": "<b>ottokar → barnabe</b>:<br><br>Was sprichst du mit Dem Kessel, Mädchen? Bist du e[...]<br>Warum Denn just nur du?<br>Und wie heißt du denn, Du liebe Jungfrau?<br>Wozu? Das wirst du selber ja verstehn.<br>Was kochst du denn?<br>Sag mir – ? Hab Ich recht gehört – ?<br>Hör, weißt du was? Bring diesen Beutel deiner Mutt[...]<br>Gefunden bloß? Auf welche Art?<br>Erzähle mehr noch. Du und deine Mutter – War niema[...]<br>Wie?<br>Wissen sie, daß Agnes hier In dieser Höhle?<br>Leise öffne ich Die Türe, schließe leise sie, als [..<br>[...]",
         "type": "scatter",
         "x": [
          0.16988661643273223
         ],
         "y": [
          -0.008893340539297308
         ]
        },
        {
         "hoverinfo": "text",
         "marker": {
          "color": "green",
          "opacity": 0.4,
          "size": 1.4545454545454546,
          "symbol": "cross-thin"
         },
         "mode": "markers",
         "name": "ottokar → ursula",
         "showlegend": false,
         "text": "<b>ottokar → ursula</b>:<br><br>So? Deine Stimme Klingt schöner, als dein Name.<br>Kin – Kindesfinger?<br>",
         "type": "scatter",
         "x": [
          0.18593947436263353
         ],
         "y": [
          -0.019518554241123698
         ]
        },
        {
         "hoverinfo": "text",
         "marker": {
          "color": "green",
          "opacity": 0.4,
          "size": 1.2272727272727273,
          "symbol": "cross-thin"
         },
         "mode": "markers",
         "name": "ottokar → santing",
         "showlegend": false,
         "text": "<b>ottokar → santing</b>:<br><br>Wir wollen's beide dir schon lohnen. Doch mußt du'[...]<br>",
         "type": "scatter",
         "x": [
          0.25182519601447895
         ],
         "y": [
          -0.014468621470034443
         ]
        },
        {
         "hoverinfo": "text",
         "marker": {
          "color": "green",
          "opacity": 0.4,
          "size": 1.9090909090909092,
          "symbol": "cross-thin"
         },
         "mode": "markers",
         "name": "barnabe → santing",
         "showlegend": false,
         "text": "<b>barnabe → santing</b>:<br><br>Hier geht's nach Warwand doch, gestrenger Ritter?<br>Kennst du sie?<br>– Und bin ich auf dem rechten Weg?<br>Wer? – Meine Mutter.<br>",
         "type": "scatter",
         "x": [
          -0.6762665590554187
         ],
         "y": [
          -0.32636965307014354
         ]
        },
        {
         "hoverinfo": "text",
         "marker": {
          "color": "green",
          "opacity": 0.4,
          "size": 2.1363636363636367,
          "symbol": "cross-thin"
         },
         "mode": "markers",
         "name": "santing → barnabe",
         "showlegend": false,
         "text": "<b>santing → barnabe</b>:<br><br>Was hast du denn zu tun dort, schönes Kind?<br>Was wirst du ihr denn sagen?<br>Heut noch?<br>– Also heute noch?<br>Wer schickt dich denn?<br>",
         "type": "scatter",
         "x": [
          -0.02075792240144496
         ],
         "y": [
          -0.3709719005160406
         ]
        },
        {
         "hoverinfo": "text",
         "marker": {
          "color": "green",
          "opacity": 0.4,
          "size": 1.9090909090909092,
          "symbol": "cross-thin"
         },
         "mode": "markers",
         "name": "ottokar → fintenring",
         "showlegend": false,
         "text": "<b>ottokar → fintenring</b>:<br><br>Mein Vater hat's befohlen?<br>Was sagst du?<br>Nun?<br>Sag mir um 's Himmels willen nur, was hab Ich Böse[...]<br>",
         "type": "scatter",
         "x": [
          0.3311605814756895
         ],
         "y": [
          -0.04296684432641562
         ]
        },
        {
         "hoverinfo": "text",
         "marker": {
          "color": "green",
          "opacity": 0.4,
          "size": 1.2272727272727273,
          "symbol": "cross-thin"
         },
         "mode": "markers",
         "name": "fintenring → ottokar",
         "showlegend": false,
         "text": "<b>fintenring → ottokar</b>:<br><br>Im Ernste?<br>",
         "type": "scatter",
         "x": [
          0.7963818528683279
         ],
         "y": [
          -0.5928002360456813
         ]
        },
        {
         "hoverinfo": "text",
         "marker": {
          "color": "green",
          "opacity": 0.4,
          "size": 2.1363636363636367,
          "symbol": "cross-thin"
         },
         "mode": "markers",
         "name": "ottokar → eustache",
         "showlegend": false,
         "text": "<b>ottokar → eustache</b>:<br><br>Du erschreckst mich – – Wie bist du so entstellt?<br>Jeronimus? O Gott des Himmels! Wer Hat das getan?<br>Wie? Wer konnt ihm die Entdecken?<br>Von wem sprichst du?<br>Wer?<br>",
         "type": "scatter",
         "x": [
          0.2615021237997503
         ],
         "y": [
          0.0020566902312868854
         ]
        },
        {
         "hoverinfo": "text",
         "marker": {
          "color": "green",
          "opacity": 0.4,
          "size": 1.9090909090909092,
          "symbol": "cross-thin"
         },
         "mode": "markers",
         "name": "agnes → barnabe",
         "showlegend": false,
         "text": "<b>agnes → barnabe</b>:<br><br>Siehst Du wirklich nichts? Du kennst ihn doch?<br>Die Lichter schon? So ist's mir unbegreiflich.<br>War's auch gewiß vom Wasserfalle nur?<br>Ist's einer? Sind es zwei?<br>",
         "type": "scatter",
         "x": [
          -0.6728054000223154
         ],
         "y": [
          0.04499839661020442
         ]
        },
        {
         "hoverinfo": "text",
         "marker": {
          "color": "green",
          "opacity": 0.4,
          "size": 1.2272727272727273,
          "symbol": "cross-thin"
         },
         "mode": "markers",
         "name": "agnes → sylvester",
         "showlegend": false,
         "text": "<b>agnes → sylvester</b>:<br><br>Wer ruft?<br>",
         "type": "scatter",
         "x": [
          -0.6342082565560946
         ],
         "y": [
          0.10014876479223435
         ]
        },
        {
         "hoverinfo": "text",
         "marker": {
          "color": "green",
          "opacity": 0.4,
          "size": 1.2272727272727273,
          "symbol": "cross-thin"
         },
         "mode": "markers",
         "name": "theistiner → ein_ritter",
         "showlegend": false,
         "text": "<b>theistiner → ein_ritter</b>:<br><br>Was bedeutet das?<br>",
         "type": "scatter",
         "x": [
          -0.15762592395199376
         ],
         "y": [
          -0.5689655654979137
         ]
        },
        {
         "hoverinfo": "text",
         "marker": {
          "color": "green",
          "opacity": 0.4,
          "size": 1.2272727272727273,
          "symbol": "cross-thin"
         },
         "mode": "markers",
         "name": "sylvester → rupert",
         "showlegend": false,
         "text": "<b>sylvester → rupert</b>:<br><br>O gefangen! Warum gefangen? Gott der Gerechtigkeit[...]<br>",
         "type": "scatter",
         "x": [
          -0.3191581309690994
         ],
         "y": [
          0.1964782623828243
         ]
        },
        {
         "hoverinfo": "text",
         "marker": {
          "color": "green",
          "opacity": 0.4,
          "size": 1.2272727272727273,
          "symbol": "cross-thin"
         },
         "mode": "markers",
         "name": "gertrude → eustache",
         "showlegend": false,
         "text": "<b>gertrude → eustache</b>:<br><br>Ritter, Ihr Männer! Ist es wahr? Wo ist sie? Wo? O[...]<br>",
         "type": "scatter",
         "x": [
          -0.43783781523520493
         ],
         "y": [
          0.10801408672237023
         ]
        },
        {
         "hoverinfo": "text",
         "marker": {
          "color": "green",
          "opacity": 0.4,
          "size": 1.2272727272727273,
          "symbol": "cross-thin"
         },
         "mode": "markers",
         "name": "eustache → sylvius",
         "showlegend": false,
         "text": "<b>eustache → sylvius</b>:<br><br>Wo ist er? – Jesus! Deine Tochter auch? – Sie sind[...]<br>",
         "type": "scatter",
         "x": [
          0.10536163915069337
         ],
         "y": [
          -0.1840214369565383
         ]
        },
        {
         "hoverinfo": "text",
         "marker": {
          "color": "green",
          "opacity": 0.4,
          "size": 2.1363636363636367,
          "symbol": "cross-thin"
         },
         "mode": "markers",
         "name": "sylvius → johann",
         "showlegend": false,
         "text": "<b>sylvius → johann</b>:<br><br>Wohin führst du mich, Knabe?<br>Am Ziele schon? Bei meinem Erschlagnen Kindeskind?[...]<br>Weh! Hört denn Kein menschlich Ohr den Jammer eine[...]<br>Ist es noch weit?<br>Noch eine Leiche? Knabe! Sind wir denn In einem Be[...]<br>",
         "type": "scatter",
         "x": [
          -0.33870159689911145
         ],
         "y": [
          0.07374468795340819
         ]
        },
        {
         "hoverinfo": "text",
         "marker": {
          "color": "green",
          "opacity": 0.4,
          "size": 1.2272727272727273,
          "symbol": "cross-thin"
         },
         "mode": "markers",
         "name": "eustache → sylvester",
         "showlegend": false,
         "text": "<b>eustache → sylvester</b>:<br><br>Agnes! Ottokar! Was soll Ich glauben –? O ich Unhe[...]<br>",
         "type": "scatter",
         "x": [
          0.10493157113221824
         ],
         "y": [
          -0.1670937270221187
         ]
        },
        {
         "hoverinfo": "text",
         "marker": {
          "color": "green",
          "opacity": 0.4,
          "size": 1.2272727272727273,
          "symbol": "cross-thin"
         },
         "mode": "markers",
         "name": "sylvester → sylvius",
         "showlegend": false,
         "text": "<b>sylvester → sylvius</b>:<br><br>Dein Sohn in meiner Agnes Kleidern? Wer denn ist d[...]<br>",
         "type": "scatter",
         "x": [
          -0.3718036359564826
         ],
         "y": [
          0.21378159974647326
         ]
        },
        {
         "hoverinfo": "text",
         "marker": {
          "color": "green",
          "opacity": 0.4,
          "size": 1.2272727272727273,
          "symbol": "cross-thin"
         },
         "mode": "markers",
         "name": "sylvius → sylvester",
         "showlegend": false,
         "text": "<b>sylvius → sylvester</b>:<br><br>Sylvester! Wo ist denn Agnes' Leiche? Führ mich zu[...]<br>",
         "type": "scatter",
         "x": [
          -0.3683630918086815
         ],
         "y": [
          0.07835992027111645
         ]
        },
        {
         "hoverinfo": "text",
         "marker": {
          "color": "green",
          "opacity": 0.4,
          "size": 1.2272727272727273,
          "symbol": "cross-thin"
         },
         "mode": "markers",
         "name": "sylvester → johann",
         "showlegend": false,
         "text": "<b>sylvester → johann</b>:<br><br>Unglücklicher! Sie ist ja nicht ermordet?<br>",
         "type": "scatter",
         "x": [
          -0.3425722090653877
         ],
         "y": [
          0.2260940773631846
         ]
        },
        {
         "hoverinfo": "text",
         "marker": {
          "color": "green",
          "opacity": 0.4,
          "size": 1.2272727272727273,
          "symbol": "cross-thin"
         },
         "mode": "markers",
         "name": "alle_5-1 → eustache",
         "showlegend": false,
         "text": "<b>alle_5-1 → eustache</b>:<br><br>Was war das? Welche seltsame Erscheinung?<br>",
         "type": "scatter",
         "x": [
          -0.3174409523123908
         ],
         "y": [
          -0.4786339687583603
         ]
        },
        {
         "hoverinfo": "text",
         "marker": {
          "color": "green",
          "opacity": 0.4,
          "size": 1.4545454545454546,
          "symbol": "cross-thin"
         },
         "mode": "markers",
         "name": "rupert → sylvester",
         "showlegend": false,
         "text": "<b>rupert → sylvester</b>:<br><br>Fehlte Petern nicht Der kleine Finger an der linke[...]<br>Ertrunken?<br>",
         "type": "scatter",
         "x": [
          0.10544645307776751
         ],
         "y": [
          -0.07737011600172435
         ]
        },
        {
         "hoverinfo": "text",
         "marker": {
          "color": "green",
          "opacity": 0.4,
          "size": 1.2272727272727273,
          "symbol": "cross-thin"
         },
         "mode": "markers",
         "name": "sylvester → eustache",
         "showlegend": false,
         "text": "<b>sylvester → eustache</b>:<br><br>Dem Peter? Dem erschlagnen Knaben? Fangt Das Weib [...]<br>",
         "type": "scatter",
         "x": [
          -0.3192153400741604
         ],
         "y": [
          0.18650897226944713
         ]
        },
        {
         "hoverinfo": "text",
         "marker": {
          "color": "green",
          "opacity": 0.4,
          "size": 1.4545454545454546,
          "symbol": "cross-thin"
         },
         "mode": "markers",
         "name": "sylvester → ursula",
         "showlegend": false,
         "text": "<b>sylvester → ursula</b>:<br><br>Wie kamst du, Weib, zu diesem Finger?<br>Und warum schnittst du ihm den Finger ab?<br>",
         "type": "scatter",
         "x": [
          -0.3947779895112772
         ],
         "y": [
          0.16493372779703655
         ]
        },
        {
         "hoverinfo": "text",
         "marker": {
          "color": "green",
          "opacity": 0.4,
          "size": 1.2272727272727273,
          "symbol": "cross-thin"
         },
         "mode": "markers",
         "name": "johann → ursula",
         "showlegend": false,
         "text": "<b>johann → ursula</b>:<br><br>Was willst du, alte Hexe?<br>",
         "type": "scatter",
         "x": [
          -0.12782453532514682
         ],
         "y": [
          0.12339663693766217
         ]
        },
        {
         "hoverinfo": "text",
         "marker": {
          "color": "green",
          "opacity": 0.4,
          "size": 1.2272727272727273,
          "symbol": "cross-thin"
         },
         "mode": "markers",
         "name": "johann → rupert",
         "showlegend": false,
         "text": "<b>johann → rupert</b>:<br><br>Versehen? Ein Versehen? Schade! Schade! Die arme A[...]<br>",
         "type": "scatter",
         "x": [
          -0.052204676782969
         ],
         "y": [
          0.1549411715234499
         ]
        },
        {
         "hoverinfo": "text",
         "marker": {
          "color": "green",
          "opacity": 0.4,
          "size": 1.2272727272727273,
          "symbol": "cross-thin"
         },
         "mode": "markers",
         "name": "rupert → johann",
         "showlegend": false,
         "text": "<b>rupert → johann</b>:<br><br>Sylvester! Selbst bin ich ein Kinderloser! Sylvest[...]<br>",
         "type": "scatter",
         "x": [
          0.13510794798733755
         ],
         "y": [
          -0.08198534831943262
         ]
        },
        {
         "hoverinfo": "text",
         "legendgroup": "rupert",
         "marker": {
          "color": "blue",
          "opacity": 0.5,
          "size": 21
         },
         "mode": "markers+text",
         "opacity": 0.5,
         "showlegend": false,
         "text": "rupert",
         "textfont": {
          "size": 10
         },
         "type": "scatter",
         "x": [
          0.15852202608362587
         ],
         "y": [
          -0.11160116329979293
         ]
        },
        {
         "hoverinfo": "text",
         "legendgroup": "ottokar",
         "marker": {
          "color": "blue",
          "opacity": 0.5,
          "size": 18
         },
         "mode": "markers+text",
         "opacity": 0.5,
         "showlegend": false,
         "text": "ottokar",
         "textfont": {
          "size": 9
         },
         "type": "scatter",
         "x": [
          0.2730079225516097
         ],
         "y": [
          0.02576232963849259
         ]
        },
        {
         "hoverinfo": "text",
         "legendgroup": "eustache",
         "marker": {
          "color": "blue",
          "opacity": 0.5,
          "size": 18
         },
         "mode": "markers+text",
         "opacity": 0.5,
         "showlegend": false,
         "text": "eustache",
         "textfont": {
          "size": 9
         },
         "type": "scatter",
         "x": [
          0.15794993503301555
         ],
         "y": [
          -0.21129406443356444
         ]
        },
        {
         "hoverinfo": "text",
         "legendgroup": "jeronimus",
         "marker": {
          "color": "blue",
          "opacity": 0.5,
          "size": 24
         },
         "mode": "markers+text",
         "opacity": 0.5,
         "showlegend": false,
         "text": "jeronimus",
         "textfont": {
          "size": 11
         },
         "type": "scatter",
         "x": [
          0.11987714696755482
         ],
         "y": [
          0.3596944311525341
         ]
        },
        {
         "hoverinfo": "text",
         "legendgroup": "kirchenvogt",
         "marker": {
          "color": "blue",
          "opacity": 0.5,
          "size": 3
         },
         "mode": "markers+text",
         "opacity": 0.5,
         "showlegend": false,
         "text": "kirchenvogt",
         "textfont": {
          "size": 4
         },
         "type": "scatter",
         "x": [
          0.4816195681573746
         ],
         "y": [
          0.6208273887846426
         ]
        },
        {
         "hoverinfo": "text",
         "legendgroup": "ein_diener_1-1",
         "marker": {
          "color": "blue",
          "opacity": 0.5,
          "size": 0
         },
         "mode": "markers+text",
         "opacity": 0.5,
         "showlegend": false,
         "text": "ein_diener_1-1",
         "textfont": {
          "size": 3
         },
         "type": "scatter",
         "x": [
          0.2718200694555047
         ],
         "y": [
          0.6891212709220258
         ]
        },
        {
         "hoverinfo": "text",
         "legendgroup": "johann",
         "marker": {
          "color": "blue",
          "opacity": 0.5,
          "size": 15
         },
         "mode": "markers+text",
         "opacity": 0.5,
         "showlegend": false,
         "text": "johann",
         "textfont": {
          "size": 8
         },
         "type": "scatter",
         "x": [
          -0.07561875487925733
         ],
         "y": [
          0.18455698650381022
         ]
        },
        {
         "hoverinfo": "text",
         "legendgroup": "sylvius",
         "marker": {
          "color": "blue",
          "opacity": 0.5,
          "size": 12
         },
         "mode": "markers+text",
         "opacity": 0.5,
         "showlegend": false,
         "text": "sylvius",
         "textfont": {
          "size": 7
         },
         "type": "scatter",
         "x": [
          -0.3679330237902063
         ],
         "y": [
          0.061432210336696845
         ]
        },
        {
         "hoverinfo": "text",
         "legendgroup": "agnes",
         "marker": {
          "color": "blue",
          "opacity": 0.5,
          "size": 18
         },
         "mode": "markers+text",
         "opacity": 0.5,
         "showlegend": false,
         "text": "agnes",
         "textfont": {
          "size": 9
         },
         "type": "scatter",
         "x": [
          -0.6633165401762209
         ],
         "y": [
          0.0856420375823834
         ]
        },
        {
         "hoverinfo": "text",
         "legendgroup": "gertrude",
         "marker": {
          "color": "blue",
          "opacity": 0.5,
          "size": 12
         },
         "mode": "markers+text",
         "opacity": 0.5,
         "showlegend": false,
         "text": "gertrude",
         "textfont": {
          "size": 7
         },
         "type": "scatter",
         "x": [
          -0.5040364541538961
         ],
         "y": [
          0.14349277018414075
         ]
        },
        {
         "hoverinfo": "text",
         "legendgroup": "sylvester",
         "marker": {
          "color": "blue",
          "opacity": 0.5,
          "size": 24
         },
         "mode": "markers+text",
         "opacity": 0.5,
         "showlegend": false,
         "text": "sylvester",
         "textfont": {
          "size": 11
         },
         "type": "scatter",
         "x": [
          -0.3722337039749577
         ],
         "y": [
          0.23070930968089287
         ]
        },
        {
         "hoverinfo": "text",
         "legendgroup": "gaertner",
         "marker": {
          "color": "blue",
          "opacity": 0.5,
          "size": 3
         },
         "mode": "markers+text",
         "opacity": 0.5,
         "showlegend": false,
         "text": "gaertner",
         "textfont": {
          "size": 4
         },
         "type": "scatter",
         "x": [
          -0.22809852688752077
         ],
         "y": [
          0.8394833833437474
         ]
        },
        {
         "hoverinfo": "text",
         "legendgroup": "aldoebern",
         "marker": {
          "color": "blue",
          "opacity": 0.5,
          "size": 3
         },
         "mode": "markers+text",
         "opacity": 0.5,
         "showlegend": false,
         "text": "aldoebern",
         "textfont": {
          "size": 4
         },
         "type": "scatter",
         "x": [
          -0.6821194093573768
         ],
         "y": [
          0.6837531407188645
         ]
        },
        {
         "hoverinfo": "text",
         "legendgroup": "theistiner",
         "marker": {
          "color": "blue",
          "opacity": 0.5,
          "size": 3
         },
         "mode": "markers+text",
         "opacity": 0.5,
         "showlegend": false,
         "text": "theistiner",
         "textfont": {
          "size": 4
         },
         "type": "scatter",
         "x": [
          -0.13435834816636363
         ],
         "y": [
          -0.5985916669324939
         ]
        },
        {
         "hoverinfo": "text",
         "legendgroup": "ein_diener_2-3",
         "marker": {
          "color": "blue",
          "opacity": 0.5,
          "size": 3
         },
         "mode": "markers+text",
         "opacity": 0.5,
         "showlegend": false,
         "text": "ein_diener_2-3",
         "textfont": {
          "size": 4
         },
         "type": "scatter",
         "x": [
          -0.8119224187558353
         ],
         "y": [
          0.5296226138744882
         ]
        },
        {
         "hoverinfo": "text",
         "legendgroup": "santing",
         "marker": {
          "color": "blue",
          "opacity": 0.5,
          "size": 9
         },
         "mode": "markers+text",
         "opacity": 0.5,
         "showlegend": false,
         "text": "santing",
         "textfont": {
          "size": 6
         },
         "type": "scatter",
         "x": [
          0.06118065718030175
         ],
         "y": [
          -0.37654718144677773
         ]
        },
        {
         "hoverinfo": "text",
         "legendgroup": "ein_diener_3-2",
         "marker": {
          "color": "blue",
          "opacity": 0.5,
          "size": 3
         },
         "mode": "markers+text",
         "opacity": 0.5,
         "showlegend": false,
         "text": "ein_diener_3-2",
         "textfont": {
          "size": 4
         },
         "type": "scatter",
         "x": [
          0.5993253687359638
         ],
         "y": [
          -0.44293204311128104
         ]
        },
        {
         "hoverinfo": "text",
         "legendgroup": "der_wanderer",
         "marker": {
          "color": "blue",
          "opacity": 0.5,
          "size": 3
         },
         "mode": "markers+text",
         "opacity": 0.5,
         "showlegend": false,
         "text": "der_wanderer",
         "textfont": {
          "size": 4
         },
         "type": "scatter",
         "x": [
          0.7711730888841103
         ],
         "y": [
          -0.1988243915830265
         ]
        },
        {
         "hoverinfo": "text",
         "legendgroup": "zweiter_wanderer",
         "marker": {
          "color": "blue",
          "opacity": 0.5,
          "size": 3
         },
         "mode": "markers+text",
         "opacity": 0.5,
         "showlegend": false,
         "text": "zweiter_wanderer",
         "textfont": {
          "size": 4
         },
         "type": "scatter",
         "x": [
          0.7772503926819285
         ],
         "y": [
          0.05104419631268521
         ]
        },
        {
         "hoverinfo": "text",
         "legendgroup": "die_kammerzofe",
         "marker": {
          "color": "blue",
          "opacity": 0.5,
          "size": 6
         },
         "mode": "markers+text",
         "opacity": 0.5,
         "showlegend": false,
         "text": "die_kammerzofe",
         "textfont": {
          "size": 5
         },
         "type": "scatter",
         "x": [
          0.09015422320494652
         ],
         "y": [
          -1
         ]
        },
        {
         "hoverinfo": "text",
         "legendgroup": "ein_diener_4-1",
         "marker": {
          "color": "blue",
          "opacity": 0.5,
          "size": 3
         },
         "mode": "markers+text",
         "opacity": 0.5,
         "showlegend": false,
         "text": "ein_diener_4-1",
         "textfont": {
          "size": 4
         },
         "type": "scatter",
         "x": [
          0.4452389232238448
         ],
         "y": [
          -0.9010088601234133
         ]
        },
        {
         "hoverinfo": "text",
         "legendgroup": "ursula",
         "marker": {
          "color": "blue",
          "opacity": 0.5,
          "size": 12
         },
         "mode": "markers+text",
         "opacity": 0.5,
         "showlegend": false,
         "text": "ursula",
         "textfont": {
          "size": 7
         },
         "type": "scatter",
         "x": [
          -0.5976765593381522
         ],
         "y": [
          -0.42704650915767023
         ]
        },
        {
         "hoverinfo": "text",
         "legendgroup": "barnabe",
         "marker": {
          "color": "blue",
          "opacity": 0.5,
          "size": 12
         },
         "mode": "markers+text",
         "opacity": 0.5,
         "showlegend": false,
         "text": "barnabe",
         "textfont": {
          "size": 7
         },
         "type": "scatter",
         "x": [
          -0.7582051386371653
         ],
         "y": [
          -0.32079437213940637
         ]
        },
        {
         "hoverinfo": "text",
         "legendgroup": "fintenring",
         "marker": {
          "color": "blue",
          "opacity": 0.5,
          "size": 3
         },
         "mode": "markers+text",
         "opacity": 0.5,
         "showlegend": false,
         "text": "fintenring",
         "textfont": {
          "size": 4
         },
         "type": "scatter",
         "x": [
          0.8545345117924076
         ],
         "y": [
          -0.6615294100105895
         ]
        },
        {
         "hoverinfo": "text",
         "legendgroup": "ein_ritter",
         "marker": {
          "color": "blue",
          "opacity": 0.5,
          "size": 3
         },
         "mode": "markers+text",
         "opacity": 0.5,
         "showlegend": false,
         "text": "ein_ritter",
         "textfont": {
          "size": 4
         },
         "type": "scatter",
         "x": [
          -0.36703410602266506
         ],
         "y": [
          -0.30233065258669184
         ]
        },
        {
         "hoverinfo": "text",
         "legendgroup": "alle_5-1",
         "marker": {
          "color": "blue",
          "opacity": 0.5,
          "size": 0
         },
         "mode": "markers+text",
         "opacity": 0.5,
         "showlegend": false,
         "text": "alle_5-1",
         "textfont": {
          "size": 3
         },
         "type": "scatter",
         "x": [
          -0.3702621620174359
         ],
         "y": [
          -0.5083384025722265
         ]
        },
        {
         "hoverinfo": "text",
         "legendgroup": "johann",
         "marker": {
          "color": "red",
          "opacity": 0.5,
          "size": 36
         },
         "mode": "markers",
         "opacity": 0.5,
         "showlegend": false,
         "text": "RUPERT<br>indegree: 12<br>outdegree: 7",
         "type": "scatter",
         "x": [
          0.15852202608362587
         ],
         "y": [
          -0.11160116329979293
         ]
        },
        {
         "hoverinfo": "text",
         "legendgroup": "johann",
         "marker": {
          "color": "red",
          "opacity": 0.5,
          "size": 24
         },
         "mode": "markers",
         "opacity": 0.5,
         "showlegend": false,
         "text": "OTTOKAR<br>indegree: 8<br>outdegree: 6",
         "type": "scatter",
         "x": [
          0.2730079225516097
         ],
         "y": [
          0.02576232963849259
         ]
        },
        {
         "hoverinfo": "text",
         "legendgroup": "johann",
         "marker": {
          "color": "red",
          "opacity": 0.5,
          "size": 15
         },
         "mode": "markers",
         "opacity": 0.5,
         "showlegend": false,
         "text": "EUSTACHE<br>indegree: 5<br>outdegree: 6",
         "type": "scatter",
         "x": [
          0.15794993503301555
         ],
         "y": [
          -0.21129406443356444
         ]
        },
        {
         "hoverinfo": "text",
         "legendgroup": "johann",
         "marker": {
          "color": "red",
          "opacity": 0.5,
          "size": 21
         },
         "mode": "markers",
         "opacity": 0.5,
         "showlegend": false,
         "text": "JERONIMUS<br>indegree: 7<br>outdegree: 8",
         "type": "scatter",
         "x": [
          0.11987714696755482
         ],
         "y": [
          0.3596944311525341
         ]
        },
        {
         "hoverinfo": "text",
         "legendgroup": "johann",
         "marker": {
          "color": "red",
          "opacity": 0.5,
          "size": 3
         },
         "mode": "markers",
         "opacity": 0.5,
         "showlegend": false,
         "text": "KIRCHENVOGT<br>indegree: 1<br>outdegree: 1",
         "type": "scatter",
         "x": [
          0.4816195681573746
         ],
         "y": [
          0.6208273887846426
         ]
        },
        {
         "hoverinfo": "text",
         "legendgroup": "johann",
         "marker": {
          "color": "red",
          "opacity": 0.5,
          "size": 3
         },
         "mode": "markers",
         "opacity": 0.5,
         "showlegend": false,
         "text": "EIN_DIENER_1-1<br>indegree: 1<br>outdegree: 0",
         "type": "scatter",
         "x": [
          0.2718200694555047
         ],
         "y": [
          0.6891212709220258
         ]
        },
        {
         "hoverinfo": "text",
         "legendgroup": "johann",
         "marker": {
          "color": "red",
          "opacity": 0.5,
          "size": 12
         },
         "mode": "markers",
         "opacity": 0.5,
         "showlegend": false,
         "text": "JOHANN<br>indegree: 4<br>outdegree: 5",
         "type": "scatter",
         "x": [
          -0.07561875487925733
         ],
         "y": [
          0.18455698650381022
         ]
        },
        {
         "hoverinfo": "text",
         "legendgroup": "johann",
         "marker": {
          "color": "red",
          "opacity": 0.5,
          "size": 12
         },
         "mode": "markers",
         "opacity": 0.5,
         "showlegend": false,
         "text": "SYLVIUS<br>indegree: 4<br>outdegree: 4",
         "type": "scatter",
         "x": [
          -0.3679330237902063
         ],
         "y": [
          0.061432210336696845
         ]
        },
        {
         "hoverinfo": "text",
         "legendgroup": "johann",
         "marker": {
          "color": "red",
          "opacity": 0.5,
          "size": 21
         },
         "mode": "markers",
         "opacity": 0.5,
         "showlegend": false,
         "text": "AGNES<br>indegree: 7<br>outdegree: 6",
         "type": "scatter",
         "x": [
          -0.6633165401762209
         ],
         "y": [
          0.0856420375823834
         ]
        },
        {
         "hoverinfo": "text",
         "legendgroup": "johann",
         "marker": {
          "color": "red",
          "opacity": 0.5,
          "size": 15
         },
         "mode": "markers",
         "opacity": 0.5,
         "showlegend": false,
         "text": "GERTRUDE<br>indegree: 5<br>outdegree: 4",
         "type": "scatter",
         "x": [
          -0.5040364541538961
         ],
         "y": [
          0.14349277018414075
         ]
        },
        {
         "hoverinfo": "text",
         "legendgroup": "johann",
         "marker": {
          "color": "red",
          "opacity": 0.5,
          "size": 36
         },
         "mode": "markers",
         "opacity": 0.5,
         "showlegend": false,
         "text": "SYLVESTER<br>indegree: 12<br>outdegree: 8",
         "type": "scatter",
         "x": [
          -0.3722337039749577
         ],
         "y": [
          0.23070930968089287
         ]
        },
        {
         "hoverinfo": "text",
         "legendgroup": "johann",
         "marker": {
          "color": "red",
          "opacity": 0.5,
          "size": 3
         },
         "mode": "markers",
         "opacity": 0.5,
         "showlegend": false,
         "text": "GAERTNER<br>indegree: 1<br>outdegree: 1",
         "type": "scatter",
         "x": [
          -0.22809852688752077
         ],
         "y": [
          0.8394833833437474
         ]
        },
        {
         "hoverinfo": "text",
         "legendgroup": "johann",
         "marker": {
          "color": "red",
          "opacity": 0.5,
          "size": 3
         },
         "mode": "markers",
         "opacity": 0.5,
         "showlegend": false,
         "text": "ALDOEBERN<br>indegree: 1<br>outdegree: 1",
         "type": "scatter",
         "x": [
          -0.6821194093573768
         ],
         "y": [
          0.6837531407188645
         ]
        },
        {
         "hoverinfo": "text",
         "legendgroup": "johann",
         "marker": {
          "color": "red",
          "opacity": 0.5,
          "size": 3
         },
         "mode": "markers",
         "opacity": 0.5,
         "showlegend": false,
         "text": "THEISTINER<br>indegree: 1<br>outdegree: 1",
         "type": "scatter",
         "x": [
          -0.13435834816636363
         ],
         "y": [
          -0.5985916669324939
         ]
        },
        {
         "hoverinfo": "text",
         "legendgroup": "johann",
         "marker": {
          "color": "red",
          "opacity": 0.5,
          "size": 0
         },
         "mode": "markers",
         "opacity": 0.5,
         "showlegend": false,
         "text": "EIN_DIENER_2-3<br>indegree: 0<br>outdegree: 1",
         "type": "scatter",
         "x": [
          -0.8119224187558353
         ],
         "y": [
          0.5296226138744882
         ]
        },
        {
         "hoverinfo": "text",
         "legendgroup": "johann",
         "marker": {
          "color": "red",
          "opacity": 0.5,
          "size": 6
         },
         "mode": "markers",
         "opacity": 0.5,
         "showlegend": false,
         "text": "SANTING<br>indegree: 2<br>outdegree: 3",
         "type": "scatter",
         "x": [
          0.06118065718030175
         ],
         "y": [
          -0.37654718144677773
         ]
        },
        {
         "hoverinfo": "text",
         "legendgroup": "johann",
         "marker": {
          "color": "red",
          "opacity": 0.5,
          "size": 0
         },
         "mode": "markers",
         "opacity": 0.5,
         "showlegend": false,
         "text": "EIN_DIENER_3-2<br>indegree: 0<br>outdegree: 1",
         "type": "scatter",
         "x": [
          0.5993253687359638
         ],
         "y": [
          -0.44293204311128104
         ]
        },
        {
         "hoverinfo": "text",
         "legendgroup": "johann",
         "marker": {
          "color": "red",
          "opacity": 0.5,
          "size": 0
         },
         "mode": "markers",
         "opacity": 0.5,
         "showlegend": false,
         "text": "DER_WANDERER<br>indegree: 0<br>outdegree: 1",
         "type": "scatter",
         "x": [
          0.7711730888841103
         ],
         "y": [
          -0.1988243915830265
         ]
        },
        {
         "hoverinfo": "text",
         "legendgroup": "johann",
         "marker": {
          "color": "red",
          "opacity": 0.5,
          "size": 0
         },
         "mode": "markers",
         "opacity": 0.5,
         "showlegend": false,
         "text": "ZWEITER_WANDERER<br>indegree: 0<br>outdegree: 1",
         "type": "scatter",
         "x": [
          0.7772503926819285
         ],
         "y": [
          0.05104419631268521
         ]
        },
        {
         "hoverinfo": "text",
         "legendgroup": "johann",
         "marker": {
          "color": "red",
          "opacity": 0.5,
          "size": 3
         },
         "mode": "markers",
         "opacity": 0.5,
         "showlegend": false,
         "text": "DIE_KAMMERZOFE<br>indegree: 1<br>outdegree: 2",
         "type": "scatter",
         "x": [
          0.09015422320494652
         ],
         "y": [
          -1
         ]
        },
        {
         "hoverinfo": "text",
         "legendgroup": "johann",
         "marker": {
          "color": "red",
          "opacity": 0.5,
          "size": 0
         },
         "mode": "markers",
         "opacity": 0.5,
         "showlegend": false,
         "text": "EIN_DIENER_4-1<br>indegree: 0<br>outdegree: 1",
         "type": "scatter",
         "x": [
          0.4452389232238448
         ],
         "y": [
          -0.9010088601234133
         ]
        },
        {
         "hoverinfo": "text",
         "legendgroup": "johann",
         "marker": {
          "color": "red",
          "opacity": 0.5,
          "size": 3
         },
         "mode": "markers",
         "opacity": 0.5,
         "showlegend": false,
         "text": "URSULA<br>indegree: 1<br>outdegree: 4",
         "type": "scatter",
         "x": [
          -0.5976765593381522
         ],
         "y": [
          -0.42704650915767023
         ]
        },
        {
         "hoverinfo": "text",
         "legendgroup": "johann",
         "marker": {
          "color": "red",
          "opacity": 0.5,
          "size": 9
         },
         "mode": "markers",
         "opacity": 0.5,
         "showlegend": false,
         "text": "BARNABE<br>indegree: 3<br>outdegree: 4",
         "type": "scatter",
         "x": [
          -0.7582051386371653
         ],
         "y": [
          -0.32079437213940637
         ]
        },
        {
         "hoverinfo": "text",
         "legendgroup": "johann",
         "marker": {
          "color": "red",
          "opacity": 0.5,
          "size": 3
         },
         "mode": "markers",
         "opacity": 0.5,
         "showlegend": false,
         "text": "FINTENRING<br>indegree: 1<br>outdegree: 1",
         "type": "scatter",
         "x": [
          0.8545345117924076
         ],
         "y": [
          -0.6615294100105895
         ]
        },
        {
         "hoverinfo": "text",
         "legendgroup": "johann",
         "marker": {
          "color": "red",
          "opacity": 0.5,
          "size": 0
         },
         "mode": "markers",
         "opacity": 0.5,
         "showlegend": false,
         "text": "EIN_RITTER<br>indegree: 0<br>outdegree: 1",
         "type": "scatter",
         "x": [
          -0.36703410602266506
         ],
         "y": [
          -0.30233065258669184
         ]
        },
        {
         "hoverinfo": "text",
         "legendgroup": "johann",
         "marker": {
          "color": "red",
          "opacity": 0.5,
          "size": 3
         },
         "mode": "markers",
         "opacity": 0.5,
         "showlegend": false,
         "text": "ALLE_5-1<br>indegree: 1<br>outdegree: 0",
         "type": "scatter",
         "x": [
          -0.3702621620174359
         ],
         "y": [
          -0.5083384025722265
         ]
        }
       ],
       "layout": {
        "annotations": [
         {
          "arrowcolor": "green",
          "arrowhead": 1,
          "arrowsize": 0.3,
          "arrowwidth": 1.4545454545454546,
          "ax": 0.15852202608362587,
          "axref": "x",
          "ay": -0.11160116329979293,
          "ayref": "y",
          "opacity": 0.5,
          "showarrow": true,
          "text": "",
          "x": 0.2730079225516097,
          "xref": "x",
          "y": 0.02576232963849259,
          "yref": "y"
         },
         {
          "arrowcolor": "green",
          "arrowhead": 1,
          "arrowsize": 0.3,
          "arrowwidth": 3.0454545454545454,
          "ax": 0.15794993503301555,
          "axref": "x",
          "ay": -0.21129406443356444,
          "ayref": "y",
          "opacity": 0.5,
          "showarrow": true,
          "text": "",
          "x": 0.15852202608362587,
          "xref": "x",
          "y": -0.11160116329979293,
          "yref": "y"
         },
         {
          "arrowcolor": "green",
          "arrowhead": 1,
          "arrowsize": 0.3,
          "arrowwidth": 4.409090909090908,
          "ax": 0.15852202608362587,
          "axref": "x",
          "ay": -0.11160116329979293,
          "ayref": "y",
          "opacity": 0.5,
          "showarrow": true,
          "text": "",
          "x": 0.11987714696755482,
          "xref": "x",
          "y": 0.3596944311525341,
          "yref": "y"
         },
         {
          "arrowcolor": "green",
          "arrowhead": 1,
          "arrowsize": 0.3,
          "arrowwidth": 2.3636363636363633,
          "ax": 0.2730079225516097,
          "axref": "x",
          "ay": 0.02576232963849259,
          "ayref": "y",
          "opacity": 0.5,
          "showarrow": true,
          "text": "",
          "x": 0.11987714696755482,
          "xref": "x",
          "y": 0.3596944311525341,
          "yref": "y"
         },
         {
          "arrowcolor": "green",
          "arrowhead": 1,
          "arrowsize": 0.3,
          "arrowwidth": 2.1363636363636367,
          "ax": 0.11987714696755482,
          "axref": "x",
          "ay": 0.3596944311525341,
          "ayref": "y",
          "opacity": 0.5,
          "showarrow": true,
          "text": "",
          "x": 0.2730079225516097,
          "xref": "x",
          "y": 0.02576232963849259,
          "yref": "y"
         },
         {
          "arrowcolor": "green",
          "arrowhead": 1,
          "arrowsize": 0.3,
          "arrowwidth": 4.409090909090908,
          "ax": 0.11987714696755482,
          "axref": "x",
          "ay": 0.3596944311525341,
          "ayref": "y",
          "opacity": 0.5,
          "showarrow": true,
          "text": "",
          "x": 0.4816195681573746,
          "xref": "x",
          "y": 0.6208273887846426,
          "yref": "y"
         },
         {
          "arrowcolor": "green",
          "arrowhead": 1,
          "arrowsize": 0.3,
          "arrowwidth": 1.4545454545454546,
          "ax": 0.4816195681573746,
          "axref": "x",
          "ay": 0.6208273887846426,
          "ayref": "y",
          "opacity": 0.5,
          "showarrow": true,
          "text": "",
          "x": 0.11987714696755482,
          "xref": "x",
          "y": 0.3596944311525341,
          "yref": "y"
         },
         {
          "arrowcolor": "green",
          "arrowhead": 1,
          "arrowsize": 0.3,
          "arrowwidth": 1.2272727272727273,
          "ax": 0.2718200694555047,
          "axref": "x",
          "ay": 0.6891212709220258,
          "ayref": "y",
          "opacity": 0.5,
          "showarrow": true,
          "text": "",
          "x": 0.11987714696755482,
          "xref": "x",
          "y": 0.3596944311525341,
          "yref": "y"
         },
         {
          "arrowcolor": "green",
          "arrowhead": 1,
          "arrowsize": 0.3,
          "arrowwidth": 5.318181818181818,
          "ax": 0.2730079225516097,
          "axref": "x",
          "ay": 0.02576232963849259,
          "ayref": "y",
          "opacity": 0.5,
          "showarrow": true,
          "text": "",
          "x": -0.07561875487925733,
          "xref": "x",
          "y": 0.18455698650381022,
          "yref": "y"
         },
         {
          "arrowcolor": "green",
          "arrowhead": 1,
          "arrowsize": 0.3,
          "arrowwidth": 2.8181818181818183,
          "ax": -0.07561875487925733,
          "axref": "x",
          "ay": 0.18455698650381022,
          "ayref": "y",
          "opacity": 0.5,
          "showarrow": true,
          "text": "",
          "x": 0.2730079225516097,
          "xref": "x",
          "y": 0.02576232963849259,
          "yref": "y"
         },
         {
          "arrowcolor": "green",
          "arrowhead": 1,
          "arrowsize": 0.3,
          "arrowwidth": 3.5,
          "ax": -0.3679330237902063,
          "axref": "x",
          "ay": 0.061432210336696845,
          "ayref": "y",
          "opacity": 0.5,
          "showarrow": true,
          "text": "",
          "x": -0.6633165401762209,
          "xref": "x",
          "y": 0.0856420375823834,
          "yref": "y"
         },
         {
          "arrowcolor": "green",
          "arrowhead": 1,
          "arrowsize": 0.3,
          "arrowwidth": 2.3636363636363633,
          "ax": -0.6633165401762209,
          "axref": "x",
          "ay": 0.0856420375823834,
          "ayref": "y",
          "opacity": 0.5,
          "showarrow": true,
          "text": "",
          "x": -0.3679330237902063,
          "xref": "x",
          "y": 0.061432210336696845,
          "yref": "y"
         },
         {
          "arrowcolor": "green",
          "arrowhead": 1,
          "arrowsize": 0.3,
          "arrowwidth": 1.4545454545454546,
          "ax": -0.5040364541538961,
          "axref": "x",
          "ay": 0.14349277018414075,
          "ayref": "y",
          "opacity": 0.5,
          "showarrow": true,
          "text": "",
          "x": -0.3679330237902063,
          "xref": "x",
          "y": 0.061432210336696845,
          "yref": "y"
         },
         {
          "arrowcolor": "green",
          "arrowhead": 1,
          "arrowsize": 0.3,
          "arrowwidth": 1.2272727272727273,
          "ax": -0.3679330237902063,
          "axref": "x",
          "ay": 0.061432210336696845,
          "ayref": "y",
          "opacity": 0.5,
          "showarrow": true,
          "text": "",
          "x": -0.5040364541538961,
          "xref": "x",
          "y": 0.14349277018414075,
          "yref": "y"
         },
         {
          "arrowcolor": "green",
          "arrowhead": 1,
          "arrowsize": 0.3,
          "arrowwidth": 1.9090909090909092,
          "ax": -0.5040364541538961,
          "axref": "x",
          "ay": 0.14349277018414075,
          "ayref": "y",
          "opacity": 0.5,
          "showarrow": true,
          "text": "",
          "x": -0.6633165401762209,
          "xref": "x",
          "y": 0.0856420375823834,
          "yref": "y"
         },
         {
          "arrowcolor": "green",
          "arrowhead": 1,
          "arrowsize": 0.3,
          "arrowwidth": 1.9090909090909092,
          "ax": -0.6633165401762209,
          "axref": "x",
          "ay": 0.0856420375823834,
          "ayref": "y",
          "opacity": 0.5,
          "showarrow": true,
          "text": "",
          "x": -0.5040364541538961,
          "xref": "x",
          "y": 0.14349277018414075,
          "yref": "y"
         },
         {
          "arrowcolor": "green",
          "arrowhead": 1,
          "arrowsize": 0.3,
          "arrowwidth": 4.863636363636363,
          "ax": -0.5040364541538961,
          "axref": "x",
          "ay": 0.14349277018414075,
          "ayref": "y",
          "opacity": 0.5,
          "showarrow": true,
          "text": "",
          "x": -0.3722337039749577,
          "xref": "x",
          "y": 0.23070930968089287,
          "yref": "y"
         },
         {
          "arrowcolor": "green",
          "arrowhead": 1,
          "arrowsize": 0.3,
          "arrowwidth": 1.4545454545454546,
          "ax": -0.22809852688752077,
          "axref": "x",
          "ay": 0.8394833833437474,
          "ayref": "y",
          "opacity": 0.5,
          "showarrow": true,
          "text": "",
          "x": -0.3722337039749577,
          "xref": "x",
          "y": 0.23070930968089287,
          "yref": "y"
         },
         {
          "arrowcolor": "green",
          "arrowhead": 1,
          "arrowsize": 0.3,
          "arrowwidth": 1.2272727272727273,
          "ax": -0.3722337039749577,
          "axref": "x",
          "ay": 0.23070930968089287,
          "ayref": "y",
          "opacity": 0.5,
          "showarrow": true,
          "text": "",
          "x": -0.22809852688752077,
          "xref": "x",
          "y": 0.8394833833437474,
          "yref": "y"
         },
         {
          "arrowcolor": "green",
          "arrowhead": 1,
          "arrowsize": 0.3,
          "arrowwidth": 5.090909090909091,
          "ax": -0.3722337039749577,
          "axref": "x",
          "ay": 0.23070930968089287,
          "ayref": "y",
          "opacity": 0.5,
          "showarrow": true,
          "text": "",
          "x": -0.5040364541538961,
          "xref": "x",
          "y": 0.14349277018414075,
          "yref": "y"
         },
         {
          "arrowcolor": "green",
          "arrowhead": 1,
          "arrowsize": 0.3,
          "arrowwidth": 2.8181818181818183,
          "ax": -0.3722337039749577,
          "axref": "x",
          "ay": 0.23070930968089287,
          "ayref": "y",
          "opacity": 0.5,
          "showarrow": true,
          "text": "",
          "x": -0.6821194093573768,
          "xref": "x",
          "y": 0.6837531407188645,
          "yref": "y"
         },
         {
          "arrowcolor": "green",
          "arrowhead": 1,
          "arrowsize": 0.3,
          "arrowwidth": 2.1363636363636367,
          "ax": -0.6821194093573768,
          "axref": "x",
          "ay": 0.6837531407188645,
          "ayref": "y",
          "opacity": 0.5,
          "showarrow": true,
          "text": "",
          "x": -0.3722337039749577,
          "xref": "x",
          "y": 0.23070930968089287,
          "yref": "y"
         },
         {
          "arrowcolor": "green",
          "arrowhead": 1,
          "arrowsize": 0.3,
          "arrowwidth": 2.590909090909091,
          "ax": 0.11987714696755482,
          "axref": "x",
          "ay": 0.3596944311525341,
          "ayref": "y",
          "opacity": 0.5,
          "showarrow": true,
          "text": "",
          "x": -0.3722337039749577,
          "xref": "x",
          "y": 0.23070930968089287,
          "yref": "y"
         },
         {
          "arrowcolor": "green",
          "arrowhead": 1,
          "arrowsize": 0.3,
          "arrowwidth": 3.272727272727273,
          "ax": -0.3722337039749577,
          "axref": "x",
          "ay": 0.23070930968089287,
          "ayref": "y",
          "opacity": 0.5,
          "showarrow": true,
          "text": "",
          "x": 0.11987714696755482,
          "xref": "x",
          "y": 0.3596944311525341,
          "yref": "y"
         },
         {
          "arrowcolor": "green",
          "arrowhead": 1,
          "arrowsize": 0.3,
          "arrowwidth": 10.545454545454547,
          "ax": -0.6633165401762209,
          "axref": "x",
          "ay": 0.0856420375823834,
          "ayref": "y",
          "opacity": 0.5,
          "showarrow": true,
          "text": "",
          "x": 0.2730079225516097,
          "xref": "x",
          "y": 0.02576232963849259,
          "yref": "y"
         },
         {
          "arrowcolor": "green",
          "arrowhead": 1,
          "arrowsize": 0.3,
          "arrowwidth": 11.454545454545453,
          "ax": 0.2730079225516097,
          "axref": "x",
          "ay": 0.02576232963849259,
          "ayref": "y",
          "opacity": 0.5,
          "showarrow": true,
          "text": "",
          "x": -0.6633165401762209,
          "xref": "x",
          "y": 0.0856420375823834,
          "yref": "y"
         },
         {
          "arrowcolor": "green",
          "arrowhead": 1,
          "arrowsize": 0.3,
          "arrowwidth": 2.8181818181818183,
          "ax": -0.3722337039749577,
          "axref": "x",
          "ay": 0.23070930968089287,
          "ayref": "y",
          "opacity": 0.5,
          "showarrow": true,
          "text": "",
          "x": -0.13435834816636363,
          "xref": "x",
          "y": -0.5985916669324939,
          "yref": "y"
         },
         {
          "arrowcolor": "green",
          "arrowhead": 1,
          "arrowsize": 0.3,
          "arrowwidth": 1.2272727272727273,
          "ax": 0.11987714696755482,
          "axref": "x",
          "ay": 0.3596944311525341,
          "ayref": "y",
          "opacity": 0.5,
          "showarrow": true,
          "text": "",
          "x": -0.5040364541538961,
          "xref": "x",
          "y": 0.14349277018414075,
          "yref": "y"
         },
         {
          "arrowcolor": "green",
          "arrowhead": 1,
          "arrowsize": 0.3,
          "arrowwidth": 1.4545454545454546,
          "ax": -0.6633165401762209,
          "axref": "x",
          "ay": 0.0856420375823834,
          "ayref": "y",
          "opacity": 0.5,
          "showarrow": true,
          "text": "",
          "x": -0.07561875487925733,
          "xref": "x",
          "y": 0.18455698650381022,
          "yref": "y"
         },
         {
          "arrowcolor": "green",
          "arrowhead": 1,
          "arrowsize": 0.3,
          "arrowwidth": 1.6818181818181817,
          "ax": -0.07561875487925733,
          "axref": "x",
          "ay": 0.18455698650381022,
          "ayref": "y",
          "opacity": 0.5,
          "showarrow": true,
          "text": "",
          "x": -0.6633165401762209,
          "xref": "x",
          "y": 0.0856420375823834,
          "yref": "y"
         },
         {
          "arrowcolor": "green",
          "arrowhead": 1,
          "arrowsize": 0.3,
          "arrowwidth": 1.4545454545454546,
          "ax": -0.5040364541538961,
          "axref": "x",
          "ay": 0.14349277018414075,
          "ayref": "y",
          "opacity": 0.5,
          "showarrow": true,
          "text": "",
          "x": 0.11987714696755482,
          "xref": "x",
          "y": 0.3596944311525341,
          "yref": "y"
         },
         {
          "arrowcolor": "green",
          "arrowhead": 1,
          "arrowsize": 0.3,
          "arrowwidth": 1.4545454545454546,
          "ax": -0.3722337039749577,
          "axref": "x",
          "ay": 0.23070930968089287,
          "ayref": "y",
          "opacity": 0.5,
          "showarrow": true,
          "text": "",
          "x": -0.6633165401762209,
          "xref": "x",
          "y": 0.0856420375823834,
          "yref": "y"
         },
         {
          "arrowcolor": "green",
          "arrowhead": 1,
          "arrowsize": 0.3,
          "arrowwidth": 1.6818181818181817,
          "ax": -0.6633165401762209,
          "axref": "x",
          "ay": 0.0856420375823834,
          "ayref": "y",
          "opacity": 0.5,
          "showarrow": true,
          "text": "",
          "x": 0.11987714696755482,
          "xref": "x",
          "y": 0.3596944311525341,
          "yref": "y"
         },
         {
          "arrowcolor": "green",
          "arrowhead": 1,
          "arrowsize": 0.3,
          "arrowwidth": 1.4545454545454546,
          "ax": 0.11987714696755482,
          "axref": "x",
          "ay": 0.3596944311525341,
          "ayref": "y",
          "opacity": 0.5,
          "showarrow": true,
          "text": "",
          "x": -0.6633165401762209,
          "xref": "x",
          "y": 0.0856420375823834,
          "yref": "y"
         },
         {
          "arrowcolor": "green",
          "arrowhead": 1,
          "arrowsize": 0.3,
          "arrowwidth": 1.2272727272727273,
          "ax": -0.3722337039749577,
          "axref": "x",
          "ay": 0.23070930968089287,
          "ayref": "y",
          "opacity": 0.5,
          "showarrow": true,
          "text": "",
          "x": -0.8119224187558353,
          "xref": "x",
          "y": 0.5296226138744882,
          "yref": "y"
         },
         {
          "arrowcolor": "green",
          "arrowhead": 1,
          "arrowsize": 0.3,
          "arrowwidth": 3.9545454545454546,
          "ax": 0.15852202608362587,
          "axref": "x",
          "ay": -0.11160116329979293,
          "ayref": "y",
          "opacity": 0.5,
          "showarrow": true,
          "text": "",
          "x": 0.15794993503301555,
          "xref": "x",
          "y": -0.21129406443356444,
          "yref": "y"
         },
         {
          "arrowcolor": "green",
          "arrowhead": 1,
          "arrowsize": 0.3,
          "arrowwidth": 3.9545454545454546,
          "ax": 0.15852202608362587,
          "axref": "x",
          "ay": -0.11160116329979293,
          "ayref": "y",
          "opacity": 0.5,
          "showarrow": true,
          "text": "",
          "x": 0.06118065718030175,
          "xref": "x",
          "y": -0.37654718144677773,
          "yref": "y"
         },
         {
          "arrowcolor": "green",
          "arrowhead": 1,
          "arrowsize": 0.3,
          "arrowwidth": 1.2272727272727273,
          "ax": 0.15852202608362587,
          "axref": "x",
          "ay": -0.11160116329979293,
          "ayref": "y",
          "opacity": 0.5,
          "showarrow": true,
          "text": "",
          "x": 0.5993253687359638,
          "xref": "x",
          "y": -0.44293204311128104,
          "yref": "y"
         },
         {
          "arrowcolor": "green",
          "arrowhead": 1,
          "arrowsize": 0.3,
          "arrowwidth": 2.1363636363636367,
          "ax": 0.15852202608362587,
          "axref": "x",
          "ay": -0.11160116329979293,
          "ayref": "y",
          "opacity": 0.5,
          "showarrow": true,
          "text": "",
          "x": 0.7711730888841103,
          "xref": "x",
          "y": -0.1988243915830265,
          "yref": "y"
         },
         {
          "arrowcolor": "green",
          "arrowhead": 1,
          "arrowsize": 0.3,
          "arrowwidth": 1.2272727272727273,
          "ax": 0.15852202608362587,
          "axref": "x",
          "ay": -0.11160116329979293,
          "ayref": "y",
          "opacity": 0.5,
          "showarrow": true,
          "text": "",
          "x": 0.7772503926819285,
          "xref": "x",
          "y": 0.05104419631268521,
          "yref": "y"
         },
         {
          "arrowcolor": "green",
          "arrowhead": 1,
          "arrowsize": 0.3,
          "arrowwidth": 2.3636363636363633,
          "ax": 0.11987714696755482,
          "axref": "x",
          "ay": 0.3596944311525341,
          "ayref": "y",
          "opacity": 0.5,
          "showarrow": true,
          "text": "",
          "x": 0.15794993503301555,
          "xref": "x",
          "y": -0.21129406443356444,
          "yref": "y"
         },
         {
          "arrowcolor": "green",
          "arrowhead": 1,
          "arrowsize": 0.3,
          "arrowwidth": 4.409090909090908,
          "ax": 0.15794993503301555,
          "axref": "x",
          "ay": -0.21129406443356444,
          "ayref": "y",
          "opacity": 0.5,
          "showarrow": true,
          "text": "",
          "x": 0.11987714696755482,
          "xref": "x",
          "y": 0.3596944311525341,
          "yref": "y"
         },
         {
          "arrowcolor": "green",
          "arrowhead": 1,
          "arrowsize": 0.3,
          "arrowwidth": 2.3636363636363633,
          "ax": 0.11987714696755482,
          "axref": "x",
          "ay": 0.3596944311525341,
          "ayref": "y",
          "opacity": 0.5,
          "showarrow": true,
          "text": "",
          "x": 0.15852202608362587,
          "xref": "x",
          "y": -0.11160116329979293,
          "yref": "y"
         },
         {
          "arrowcolor": "green",
          "arrowhead": 1,
          "arrowsize": 0.3,
          "arrowwidth": 1.2272727272727273,
          "ax": 0.15852202608362587,
          "axref": "x",
          "ay": -0.11160116329979293,
          "ayref": "y",
          "opacity": 0.5,
          "showarrow": true,
          "text": "",
          "x": 0.15852202608362587,
          "xref": "x",
          "y": -0.11160116329979293,
          "yref": "y"
         },
         {
          "arrowcolor": "green",
          "arrowhead": 1,
          "arrowsize": 0.3,
          "arrowwidth": 1.9090909090909092,
          "ax": 0.06118065718030175,
          "axref": "x",
          "ay": -0.37654718144677773,
          "ayref": "y",
          "opacity": 0.5,
          "showarrow": true,
          "text": "",
          "x": 0.15852202608362587,
          "xref": "x",
          "y": -0.11160116329979293,
          "yref": "y"
         },
         {
          "arrowcolor": "green",
          "arrowhead": 1,
          "arrowsize": 0.3,
          "arrowwidth": 1.4545454545454546,
          "ax": 0.15794993503301555,
          "axref": "x",
          "ay": -0.21129406443356444,
          "ayref": "y",
          "opacity": 0.5,
          "showarrow": true,
          "text": "",
          "x": 0.09015422320494652,
          "xref": "x",
          "y": -1,
          "yref": "y"
         },
         {
          "arrowcolor": "green",
          "arrowhead": 1,
          "arrowsize": 0.3,
          "arrowwidth": 1.2272727272727273,
          "ax": 0.15852202608362587,
          "axref": "x",
          "ay": -0.11160116329979293,
          "ayref": "y",
          "opacity": 0.5,
          "showarrow": true,
          "text": "",
          "x": 0.09015422320494652,
          "xref": "x",
          "y": -1,
          "yref": "y"
         },
         {
          "arrowcolor": "green",
          "arrowhead": 1,
          "arrowsize": 0.3,
          "arrowwidth": 1.2272727272727273,
          "ax": 0.09015422320494652,
          "axref": "x",
          "ay": -1,
          "ayref": "y",
          "opacity": 0.5,
          "showarrow": true,
          "text": "",
          "x": 0.15852202608362587,
          "xref": "x",
          "y": -0.11160116329979293,
          "yref": "y"
         },
         {
          "arrowcolor": "green",
          "arrowhead": 1,
          "arrowsize": 0.3,
          "arrowwidth": 1.4545454545454546,
          "ax": 0.15852202608362587,
          "axref": "x",
          "ay": -0.11160116329979293,
          "ayref": "y",
          "opacity": 0.5,
          "showarrow": true,
          "text": "",
          "x": 0.4452389232238448,
          "xref": "x",
          "y": -0.9010088601234133,
          "yref": "y"
         },
         {
          "arrowcolor": "green",
          "arrowhead": 1,
          "arrowsize": 0.3,
          "arrowwidth": 2.590909090909091,
          "ax": -0.5976765593381522,
          "axref": "x",
          "ay": -0.42704650915767023,
          "ayref": "y",
          "opacity": 0.5,
          "showarrow": true,
          "text": "",
          "x": -0.7582051386371653,
          "xref": "x",
          "y": -0.32079437213940637,
          "yref": "y"
         },
         {
          "arrowcolor": "green",
          "arrowhead": 1,
          "arrowsize": 0.3,
          "arrowwidth": 1.6818181818181817,
          "ax": -0.7582051386371653,
          "axref": "x",
          "ay": -0.32079437213940637,
          "ayref": "y",
          "opacity": 0.5,
          "showarrow": true,
          "text": "",
          "x": -0.5976765593381522,
          "xref": "x",
          "y": -0.42704650915767023,
          "yref": "y"
         },
         {
          "arrowcolor": "green",
          "arrowhead": 1,
          "arrowsize": 0.3,
          "arrowwidth": 2.1363636363636367,
          "ax": -0.7582051386371653,
          "axref": "x",
          "ay": -0.32079437213940637,
          "ayref": "y",
          "opacity": 0.5,
          "showarrow": true,
          "text": "",
          "x": 0.2730079225516097,
          "xref": "x",
          "y": 0.02576232963849259,
          "yref": "y"
         },
         {
          "arrowcolor": "green",
          "arrowhead": 1,
          "arrowsize": 0.3,
          "arrowwidth": 4.409090909090908,
          "ax": 0.2730079225516097,
          "axref": "x",
          "ay": 0.02576232963849259,
          "ayref": "y",
          "opacity": 0.5,
          "showarrow": true,
          "text": "",
          "x": -0.7582051386371653,
          "xref": "x",
          "y": -0.32079437213940637,
          "yref": "y"
         },
         {
          "arrowcolor": "green",
          "arrowhead": 1,
          "arrowsize": 0.3,
          "arrowwidth": 1.4545454545454546,
          "ax": 0.2730079225516097,
          "axref": "x",
          "ay": 0.02576232963849259,
          "ayref": "y",
          "opacity": 0.5,
          "showarrow": true,
          "text": "",
          "x": -0.5976765593381522,
          "xref": "x",
          "y": -0.42704650915767023,
          "yref": "y"
         },
         {
          "arrowcolor": "green",
          "arrowhead": 1,
          "arrowsize": 0.3,
          "arrowwidth": 1.2272727272727273,
          "ax": 0.2730079225516097,
          "axref": "x",
          "ay": 0.02576232963849259,
          "ayref": "y",
          "opacity": 0.5,
          "showarrow": true,
          "text": "",
          "x": 0.06118065718030175,
          "xref": "x",
          "y": -0.37654718144677773,
          "yref": "y"
         },
         {
          "arrowcolor": "green",
          "arrowhead": 1,
          "arrowsize": 0.3,
          "arrowwidth": 1.9090909090909092,
          "ax": -0.7582051386371653,
          "axref": "x",
          "ay": -0.32079437213940637,
          "ayref": "y",
          "opacity": 0.5,
          "showarrow": true,
          "text": "",
          "x": 0.06118065718030175,
          "xref": "x",
          "y": -0.37654718144677773,
          "yref": "y"
         },
         {
          "arrowcolor": "green",
          "arrowhead": 1,
          "arrowsize": 0.3,
          "arrowwidth": 2.1363636363636367,
          "ax": 0.06118065718030175,
          "axref": "x",
          "ay": -0.37654718144677773,
          "ayref": "y",
          "opacity": 0.5,
          "showarrow": true,
          "text": "",
          "x": -0.7582051386371653,
          "xref": "x",
          "y": -0.32079437213940637,
          "yref": "y"
         },
         {
          "arrowcolor": "green",
          "arrowhead": 1,
          "arrowsize": 0.3,
          "arrowwidth": 1.9090909090909092,
          "ax": 0.2730079225516097,
          "axref": "x",
          "ay": 0.02576232963849259,
          "ayref": "y",
          "opacity": 0.5,
          "showarrow": true,
          "text": "",
          "x": 0.8545345117924076,
          "xref": "x",
          "y": -0.6615294100105895,
          "yref": "y"
         },
         {
          "arrowcolor": "green",
          "arrowhead": 1,
          "arrowsize": 0.3,
          "arrowwidth": 1.2272727272727273,
          "ax": 0.8545345117924076,
          "axref": "x",
          "ay": -0.6615294100105895,
          "ayref": "y",
          "opacity": 0.5,
          "showarrow": true,
          "text": "",
          "x": 0.2730079225516097,
          "xref": "x",
          "y": 0.02576232963849259,
          "yref": "y"
         },
         {
          "arrowcolor": "green",
          "arrowhead": 1,
          "arrowsize": 0.3,
          "arrowwidth": 2.1363636363636367,
          "ax": 0.2730079225516097,
          "axref": "x",
          "ay": 0.02576232963849259,
          "ayref": "y",
          "opacity": 0.5,
          "showarrow": true,
          "text": "",
          "x": 0.15794993503301555,
          "xref": "x",
          "y": -0.21129406443356444,
          "yref": "y"
         },
         {
          "arrowcolor": "green",
          "arrowhead": 1,
          "arrowsize": 0.3,
          "arrowwidth": 1.9090909090909092,
          "ax": -0.6633165401762209,
          "axref": "x",
          "ay": 0.0856420375823834,
          "ayref": "y",
          "opacity": 0.5,
          "showarrow": true,
          "text": "",
          "x": -0.7582051386371653,
          "xref": "x",
          "y": -0.32079437213940637,
          "yref": "y"
         },
         {
          "arrowcolor": "green",
          "arrowhead": 1,
          "arrowsize": 0.3,
          "arrowwidth": 1.2272727272727273,
          "ax": -0.6633165401762209,
          "axref": "x",
          "ay": 0.0856420375823834,
          "ayref": "y",
          "opacity": 0.5,
          "showarrow": true,
          "text": "",
          "x": -0.3722337039749577,
          "xref": "x",
          "y": 0.23070930968089287,
          "yref": "y"
         },
         {
          "arrowcolor": "green",
          "arrowhead": 1,
          "arrowsize": 0.3,
          "arrowwidth": 1.2272727272727273,
          "ax": -0.13435834816636363,
          "axref": "x",
          "ay": -0.5985916669324939,
          "ayref": "y",
          "opacity": 0.5,
          "showarrow": true,
          "text": "",
          "x": -0.36703410602266506,
          "xref": "x",
          "y": -0.30233065258669184,
          "yref": "y"
         },
         {
          "arrowcolor": "green",
          "arrowhead": 1,
          "arrowsize": 0.3,
          "arrowwidth": 1.2272727272727273,
          "ax": -0.3722337039749577,
          "axref": "x",
          "ay": 0.23070930968089287,
          "ayref": "y",
          "opacity": 0.5,
          "showarrow": true,
          "text": "",
          "x": 0.15852202608362587,
          "xref": "x",
          "y": -0.11160116329979293,
          "yref": "y"
         },
         {
          "arrowcolor": "green",
          "arrowhead": 1,
          "arrowsize": 0.3,
          "arrowwidth": 1.2272727272727273,
          "ax": -0.5040364541538961,
          "axref": "x",
          "ay": 0.14349277018414075,
          "ayref": "y",
          "opacity": 0.5,
          "showarrow": true,
          "text": "",
          "x": 0.15794993503301555,
          "xref": "x",
          "y": -0.21129406443356444,
          "yref": "y"
         },
         {
          "arrowcolor": "green",
          "arrowhead": 1,
          "arrowsize": 0.3,
          "arrowwidth": 1.2272727272727273,
          "ax": 0.15794993503301555,
          "axref": "x",
          "ay": -0.21129406443356444,
          "ayref": "y",
          "opacity": 0.5,
          "showarrow": true,
          "text": "",
          "x": -0.3679330237902063,
          "xref": "x",
          "y": 0.061432210336696845,
          "yref": "y"
         },
         {
          "arrowcolor": "green",
          "arrowhead": 1,
          "arrowsize": 0.3,
          "arrowwidth": 2.1363636363636367,
          "ax": -0.3679330237902063,
          "axref": "x",
          "ay": 0.061432210336696845,
          "ayref": "y",
          "opacity": 0.5,
          "showarrow": true,
          "text": "",
          "x": -0.07561875487925733,
          "xref": "x",
          "y": 0.18455698650381022,
          "yref": "y"
         },
         {
          "arrowcolor": "green",
          "arrowhead": 1,
          "arrowsize": 0.3,
          "arrowwidth": 1.2272727272727273,
          "ax": 0.15794993503301555,
          "axref": "x",
          "ay": -0.21129406443356444,
          "ayref": "y",
          "opacity": 0.5,
          "showarrow": true,
          "text": "",
          "x": -0.3722337039749577,
          "xref": "x",
          "y": 0.23070930968089287,
          "yref": "y"
         },
         {
          "arrowcolor": "green",
          "arrowhead": 1,
          "arrowsize": 0.3,
          "arrowwidth": 1.2272727272727273,
          "ax": -0.3722337039749577,
          "axref": "x",
          "ay": 0.23070930968089287,
          "ayref": "y",
          "opacity": 0.5,
          "showarrow": true,
          "text": "",
          "x": -0.3679330237902063,
          "xref": "x",
          "y": 0.061432210336696845,
          "yref": "y"
         },
         {
          "arrowcolor": "green",
          "arrowhead": 1,
          "arrowsize": 0.3,
          "arrowwidth": 1.2272727272727273,
          "ax": -0.3679330237902063,
          "axref": "x",
          "ay": 0.061432210336696845,
          "ayref": "y",
          "opacity": 0.5,
          "showarrow": true,
          "text": "",
          "x": -0.3722337039749577,
          "xref": "x",
          "y": 0.23070930968089287,
          "yref": "y"
         },
         {
          "arrowcolor": "green",
          "arrowhead": 1,
          "arrowsize": 0.3,
          "arrowwidth": 1.2272727272727273,
          "ax": -0.3722337039749577,
          "axref": "x",
          "ay": 0.23070930968089287,
          "ayref": "y",
          "opacity": 0.5,
          "showarrow": true,
          "text": "",
          "x": -0.07561875487925733,
          "xref": "x",
          "y": 0.18455698650381022,
          "yref": "y"
         },
         {
          "arrowcolor": "green",
          "arrowhead": 1,
          "arrowsize": 0.3,
          "arrowwidth": 1.2272727272727273,
          "ax": -0.3702621620174359,
          "axref": "x",
          "ay": -0.5083384025722265,
          "ayref": "y",
          "opacity": 0.5,
          "showarrow": true,
          "text": "",
          "x": 0.15794993503301555,
          "xref": "x",
          "y": -0.21129406443356444,
          "yref": "y"
         },
         {
          "arrowcolor": "green",
          "arrowhead": 1,
          "arrowsize": 0.3,
          "arrowwidth": 1.4545454545454546,
          "ax": 0.15852202608362587,
          "axref": "x",
          "ay": -0.11160116329979293,
          "ayref": "y",
          "opacity": 0.5,
          "showarrow": true,
          "text": "",
          "x": -0.3722337039749577,
          "xref": "x",
          "y": 0.23070930968089287,
          "yref": "y"
         },
         {
          "arrowcolor": "green",
          "arrowhead": 1,
          "arrowsize": 0.3,
          "arrowwidth": 1.2272727272727273,
          "ax": -0.3722337039749577,
          "axref": "x",
          "ay": 0.23070930968089287,
          "ayref": "y",
          "opacity": 0.5,
          "showarrow": true,
          "text": "",
          "x": 0.15794993503301555,
          "xref": "x",
          "y": -0.21129406443356444,
          "yref": "y"
         },
         {
          "arrowcolor": "green",
          "arrowhead": 1,
          "arrowsize": 0.3,
          "arrowwidth": 1.4545454545454546,
          "ax": -0.3722337039749577,
          "axref": "x",
          "ay": 0.23070930968089287,
          "ayref": "y",
          "opacity": 0.5,
          "showarrow": true,
          "text": "",
          "x": -0.5976765593381522,
          "xref": "x",
          "y": -0.42704650915767023,
          "yref": "y"
         },
         {
          "arrowcolor": "green",
          "arrowhead": 1,
          "arrowsize": 0.3,
          "arrowwidth": 1.2272727272727273,
          "ax": -0.07561875487925733,
          "axref": "x",
          "ay": 0.18455698650381022,
          "ayref": "y",
          "opacity": 0.5,
          "showarrow": true,
          "text": "",
          "x": -0.5976765593381522,
          "xref": "x",
          "y": -0.42704650915767023,
          "yref": "y"
         },
         {
          "arrowcolor": "green",
          "arrowhead": 1,
          "arrowsize": 0.3,
          "arrowwidth": 1.2272727272727273,
          "ax": -0.07561875487925733,
          "axref": "x",
          "ay": 0.18455698650381022,
          "ayref": "y",
          "opacity": 0.5,
          "showarrow": true,
          "text": "",
          "x": 0.15852202608362587,
          "xref": "x",
          "y": -0.11160116329979293,
          "yref": "y"
         },
         {
          "arrowcolor": "green",
          "arrowhead": 1,
          "arrowsize": 0.3,
          "arrowwidth": 1.2272727272727273,
          "ax": 0.15852202608362587,
          "axref": "x",
          "ay": -0.11160116329979293,
          "ayref": "y",
          "opacity": 0.5,
          "showarrow": true,
          "text": "",
          "x": -0.07561875487925733,
          "xref": "x",
          "y": 0.18455698650381022,
          "yref": "y"
         }
        ],
        "height": 600,
        "paper_bgcolor": "rgba(0,0,0,0)",
        "plot_bgcolor": "rgba(0,0,0,0)",
        "template": {
         "data": {
          "bar": [
           {
            "error_x": {
             "color": "#2a3f5f"
            },
            "error_y": {
             "color": "#2a3f5f"
            },
            "marker": {
             "line": {
              "color": "#E5ECF6",
              "width": 0.5
             },
             "pattern": {
              "fillmode": "overlay",
              "size": 10,
              "solidity": 0.2
             }
            },
            "type": "bar"
           }
          ],
          "barpolar": [
           {
            "marker": {
             "line": {
              "color": "#E5ECF6",
              "width": 0.5
             },
             "pattern": {
              "fillmode": "overlay",
              "size": 10,
              "solidity": 0.2
             }
            },
            "type": "barpolar"
           }
          ],
          "carpet": [
           {
            "aaxis": {
             "endlinecolor": "#2a3f5f",
             "gridcolor": "white",
             "linecolor": "white",
             "minorgridcolor": "white",
             "startlinecolor": "#2a3f5f"
            },
            "baxis": {
             "endlinecolor": "#2a3f5f",
             "gridcolor": "white",
             "linecolor": "white",
             "minorgridcolor": "white",
             "startlinecolor": "#2a3f5f"
            },
            "type": "carpet"
           }
          ],
          "choropleth": [
           {
            "colorbar": {
             "outlinewidth": 0,
             "ticks": ""
            },
            "type": "choropleth"
           }
          ],
          "contour": [
           {
            "colorbar": {
             "outlinewidth": 0,
             "ticks": ""
            },
            "colorscale": [
             [
              0,
              "#0d0887"
             ],
             [
              0.1111111111111111,
              "#46039f"
             ],
             [
              0.2222222222222222,
              "#7201a8"
             ],
             [
              0.3333333333333333,
              "#9c179e"
             ],
             [
              0.4444444444444444,
              "#bd3786"
             ],
             [
              0.5555555555555556,
              "#d8576b"
             ],
             [
              0.6666666666666666,
              "#ed7953"
             ],
             [
              0.7777777777777778,
              "#fb9f3a"
             ],
             [
              0.8888888888888888,
              "#fdca26"
             ],
             [
              1,
              "#f0f921"
             ]
            ],
            "type": "contour"
           }
          ],
          "contourcarpet": [
           {
            "colorbar": {
             "outlinewidth": 0,
             "ticks": ""
            },
            "type": "contourcarpet"
           }
          ],
          "heatmap": [
           {
            "colorbar": {
             "outlinewidth": 0,
             "ticks": ""
            },
            "colorscale": [
             [
              0,
              "#0d0887"
             ],
             [
              0.1111111111111111,
              "#46039f"
             ],
             [
              0.2222222222222222,
              "#7201a8"
             ],
             [
              0.3333333333333333,
              "#9c179e"
             ],
             [
              0.4444444444444444,
              "#bd3786"
             ],
             [
              0.5555555555555556,
              "#d8576b"
             ],
             [
              0.6666666666666666,
              "#ed7953"
             ],
             [
              0.7777777777777778,
              "#fb9f3a"
             ],
             [
              0.8888888888888888,
              "#fdca26"
             ],
             [
              1,
              "#f0f921"
             ]
            ],
            "type": "heatmap"
           }
          ],
          "heatmapgl": [
           {
            "colorbar": {
             "outlinewidth": 0,
             "ticks": ""
            },
            "colorscale": [
             [
              0,
              "#0d0887"
             ],
             [
              0.1111111111111111,
              "#46039f"
             ],
             [
              0.2222222222222222,
              "#7201a8"
             ],
             [
              0.3333333333333333,
              "#9c179e"
             ],
             [
              0.4444444444444444,
              "#bd3786"
             ],
             [
              0.5555555555555556,
              "#d8576b"
             ],
             [
              0.6666666666666666,
              "#ed7953"
             ],
             [
              0.7777777777777778,
              "#fb9f3a"
             ],
             [
              0.8888888888888888,
              "#fdca26"
             ],
             [
              1,
              "#f0f921"
             ]
            ],
            "type": "heatmapgl"
           }
          ],
          "histogram": [
           {
            "marker": {
             "pattern": {
              "fillmode": "overlay",
              "size": 10,
              "solidity": 0.2
             }
            },
            "type": "histogram"
           }
          ],
          "histogram2d": [
           {
            "colorbar": {
             "outlinewidth": 0,
             "ticks": ""
            },
            "colorscale": [
             [
              0,
              "#0d0887"
             ],
             [
              0.1111111111111111,
              "#46039f"
             ],
             [
              0.2222222222222222,
              "#7201a8"
             ],
             [
              0.3333333333333333,
              "#9c179e"
             ],
             [
              0.4444444444444444,
              "#bd3786"
             ],
             [
              0.5555555555555556,
              "#d8576b"
             ],
             [
              0.6666666666666666,
              "#ed7953"
             ],
             [
              0.7777777777777778,
              "#fb9f3a"
             ],
             [
              0.8888888888888888,
              "#fdca26"
             ],
             [
              1,
              "#f0f921"
             ]
            ],
            "type": "histogram2d"
           }
          ],
          "histogram2dcontour": [
           {
            "colorbar": {
             "outlinewidth": 0,
             "ticks": ""
            },
            "colorscale": [
             [
              0,
              "#0d0887"
             ],
             [
              0.1111111111111111,
              "#46039f"
             ],
             [
              0.2222222222222222,
              "#7201a8"
             ],
             [
              0.3333333333333333,
              "#9c179e"
             ],
             [
              0.4444444444444444,
              "#bd3786"
             ],
             [
              0.5555555555555556,
              "#d8576b"
             ],
             [
              0.6666666666666666,
              "#ed7953"
             ],
             [
              0.7777777777777778,
              "#fb9f3a"
             ],
             [
              0.8888888888888888,
              "#fdca26"
             ],
             [
              1,
              "#f0f921"
             ]
            ],
            "type": "histogram2dcontour"
           }
          ],
          "mesh3d": [
           {
            "colorbar": {
             "outlinewidth": 0,
             "ticks": ""
            },
            "type": "mesh3d"
           }
          ],
          "parcoords": [
           {
            "line": {
             "colorbar": {
              "outlinewidth": 0,
              "ticks": ""
             }
            },
            "type": "parcoords"
           }
          ],
          "pie": [
           {
            "automargin": true,
            "type": "pie"
           }
          ],
          "scatter": [
           {
            "marker": {
             "colorbar": {
              "outlinewidth": 0,
              "ticks": ""
             }
            },
            "type": "scatter"
           }
          ],
          "scatter3d": [
           {
            "line": {
             "colorbar": {
              "outlinewidth": 0,
              "ticks": ""
             }
            },
            "marker": {
             "colorbar": {
              "outlinewidth": 0,
              "ticks": ""
             }
            },
            "type": "scatter3d"
           }
          ],
          "scattercarpet": [
           {
            "marker": {
             "colorbar": {
              "outlinewidth": 0,
              "ticks": ""
             }
            },
            "type": "scattercarpet"
           }
          ],
          "scattergeo": [
           {
            "marker": {
             "colorbar": {
              "outlinewidth": 0,
              "ticks": ""
             }
            },
            "type": "scattergeo"
           }
          ],
          "scattergl": [
           {
            "marker": {
             "colorbar": {
              "outlinewidth": 0,
              "ticks": ""
             }
            },
            "type": "scattergl"
           }
          ],
          "scattermapbox": [
           {
            "marker": {
             "colorbar": {
              "outlinewidth": 0,
              "ticks": ""
             }
            },
            "type": "scattermapbox"
           }
          ],
          "scatterpolar": [
           {
            "marker": {
             "colorbar": {
              "outlinewidth": 0,
              "ticks": ""
             }
            },
            "type": "scatterpolar"
           }
          ],
          "scatterpolargl": [
           {
            "marker": {
             "colorbar": {
              "outlinewidth": 0,
              "ticks": ""
             }
            },
            "type": "scatterpolargl"
           }
          ],
          "scatterternary": [
           {
            "marker": {
             "colorbar": {
              "outlinewidth": 0,
              "ticks": ""
             }
            },
            "type": "scatterternary"
           }
          ],
          "surface": [
           {
            "colorbar": {
             "outlinewidth": 0,
             "ticks": ""
            },
            "colorscale": [
             [
              0,
              "#0d0887"
             ],
             [
              0.1111111111111111,
              "#46039f"
             ],
             [
              0.2222222222222222,
              "#7201a8"
             ],
             [
              0.3333333333333333,
              "#9c179e"
             ],
             [
              0.4444444444444444,
              "#bd3786"
             ],
             [
              0.5555555555555556,
              "#d8576b"
             ],
             [
              0.6666666666666666,
              "#ed7953"
             ],
             [
              0.7777777777777778,
              "#fb9f3a"
             ],
             [
              0.8888888888888888,
              "#fdca26"
             ],
             [
              1,
              "#f0f921"
             ]
            ],
            "type": "surface"
           }
          ],
          "table": [
           {
            "cells": {
             "fill": {
              "color": "#EBF0F8"
             },
             "line": {
              "color": "white"
             }
            },
            "header": {
             "fill": {
              "color": "#C8D4E3"
             },
             "line": {
              "color": "white"
             }
            },
            "type": "table"
           }
          ]
         },
         "layout": {
          "annotationdefaults": {
           "arrowcolor": "#2a3f5f",
           "arrowhead": 0,
           "arrowwidth": 1
          },
          "autotypenumbers": "strict",
          "coloraxis": {
           "colorbar": {
            "outlinewidth": 0,
            "ticks": ""
           }
          },
          "colorscale": {
           "diverging": [
            [
             0,
             "#8e0152"
            ],
            [
             0.1,
             "#c51b7d"
            ],
            [
             0.2,
             "#de77ae"
            ],
            [
             0.3,
             "#f1b6da"
            ],
            [
             0.4,
             "#fde0ef"
            ],
            [
             0.5,
             "#f7f7f7"
            ],
            [
             0.6,
             "#e6f5d0"
            ],
            [
             0.7,
             "#b8e186"
            ],
            [
             0.8,
             "#7fbc41"
            ],
            [
             0.9,
             "#4d9221"
            ],
            [
             1,
             "#276419"
            ]
           ],
           "sequential": [
            [
             0,
             "#0d0887"
            ],
            [
             0.1111111111111111,
             "#46039f"
            ],
            [
             0.2222222222222222,
             "#7201a8"
            ],
            [
             0.3333333333333333,
             "#9c179e"
            ],
            [
             0.4444444444444444,
             "#bd3786"
            ],
            [
             0.5555555555555556,
             "#d8576b"
            ],
            [
             0.6666666666666666,
             "#ed7953"
            ],
            [
             0.7777777777777778,
             "#fb9f3a"
            ],
            [
             0.8888888888888888,
             "#fdca26"
            ],
            [
             1,
             "#f0f921"
            ]
           ],
           "sequentialminus": [
            [
             0,
             "#0d0887"
            ],
            [
             0.1111111111111111,
             "#46039f"
            ],
            [
             0.2222222222222222,
             "#7201a8"
            ],
            [
             0.3333333333333333,
             "#9c179e"
            ],
            [
             0.4444444444444444,
             "#bd3786"
            ],
            [
             0.5555555555555556,
             "#d8576b"
            ],
            [
             0.6666666666666666,
             "#ed7953"
            ],
            [
             0.7777777777777778,
             "#fb9f3a"
            ],
            [
             0.8888888888888888,
             "#fdca26"
            ],
            [
             1,
             "#f0f921"
            ]
           ]
          },
          "colorway": [
           "#636efa",
           "#EF553B",
           "#00cc96",
           "#ab63fa",
           "#FFA15A",
           "#19d3f3",
           "#FF6692",
           "#B6E880",
           "#FF97FF",
           "#FECB52"
          ],
          "font": {
           "color": "#2a3f5f"
          },
          "geo": {
           "bgcolor": "white",
           "lakecolor": "white",
           "landcolor": "#E5ECF6",
           "showlakes": true,
           "showland": true,
           "subunitcolor": "white"
          },
          "hoverlabel": {
           "align": "left"
          },
          "hovermode": "closest",
          "mapbox": {
           "style": "light"
          },
          "paper_bgcolor": "white",
          "plot_bgcolor": "#E5ECF6",
          "polar": {
           "angularaxis": {
            "gridcolor": "white",
            "linecolor": "white",
            "ticks": ""
           },
           "bgcolor": "#E5ECF6",
           "radialaxis": {
            "gridcolor": "white",
            "linecolor": "white",
            "ticks": ""
           }
          },
          "scene": {
           "xaxis": {
            "backgroundcolor": "#E5ECF6",
            "gridcolor": "white",
            "gridwidth": 2,
            "linecolor": "white",
            "showbackground": true,
            "ticks": "",
            "zerolinecolor": "white"
           },
           "yaxis": {
            "backgroundcolor": "#E5ECF6",
            "gridcolor": "white",
            "gridwidth": 2,
            "linecolor": "white",
            "showbackground": true,
            "ticks": "",
            "zerolinecolor": "white"
           },
           "zaxis": {
            "backgroundcolor": "#E5ECF6",
            "gridcolor": "white",
            "gridwidth": 2,
            "linecolor": "white",
            "showbackground": true,
            "ticks": "",
            "zerolinecolor": "white"
           }
          },
          "shapedefaults": {
           "line": {
            "color": "#2a3f5f"
           }
          },
          "ternary": {
           "aaxis": {
            "gridcolor": "white",
            "linecolor": "white",
            "ticks": ""
           },
           "baxis": {
            "gridcolor": "white",
            "linecolor": "white",
            "ticks": ""
           },
           "bgcolor": "#E5ECF6",
           "caxis": {
            "gridcolor": "white",
            "linecolor": "white",
            "ticks": ""
           }
          },
          "title": {
           "x": 0.05
          },
          "xaxis": {
           "automargin": true,
           "gridcolor": "white",
           "linecolor": "white",
           "ticks": "",
           "title": {
            "standoff": 15
           },
           "zerolinecolor": "white",
           "zerolinewidth": 2
          },
          "yaxis": {
           "automargin": true,
           "gridcolor": "white",
           "linecolor": "white",
           "ticks": "",
           "title": {
            "standoff": 15
           },
           "zerolinecolor": "white",
           "zerolinewidth": 2
          }
         }
        },
        "xaxis": {
         "showticklabels": false,
         "ticks": ""
        },
        "yaxis": {
         "showticklabels": false,
         "ticks": ""
        }
       }
      }
     },
     "metadata": {},
     "output_type": "display_data"
    },
    {
     "data": {
      "text/html": [
       "<div>\n",
       "<style scoped>\n",
       "    .dataframe tbody tr th:only-of-type {\n",
       "        vertical-align: middle;\n",
       "    }\n",
       "\n",
       "    .dataframe tbody tr th {\n",
       "        vertical-align: top;\n",
       "    }\n",
       "\n",
       "    .dataframe thead th {\n",
       "        text-align: right;\n",
       "    }\n",
       "</style>\n",
       "<table border=\"1\" class=\"dataframe\">\n",
       "  <thead>\n",
       "    <tr style=\"text-align: right;\">\n",
       "      <th></th>\n",
       "      <th>speeches</th>\n",
       "      <th>degree</th>\n",
       "      <th>indegree</th>\n",
       "      <th>weighted_indegree</th>\n",
       "      <th>outdegree</th>\n",
       "      <th>weighted_outdegree</th>\n",
       "      <th>betweenness</th>\n",
       "      <th>betweenness_weighted</th>\n",
       "      <th>pagerank</th>\n",
       "      <th>pagerank_weighted</th>\n",
       "      <th>request_value</th>\n",
       "    </tr>\n",
       "  </thead>\n",
       "  <tbody>\n",
       "    <tr>\n",
       "      <th>sylvester</th>\n",
       "      <td>126</td>\n",
       "      <td>20.0</td>\n",
       "      <td>8.0</td>\n",
       "      <td>36.0</td>\n",
       "      <td>12.0</td>\n",
       "      <td>54.0</td>\n",
       "      <td>0.244040</td>\n",
       "      <td>0.380944</td>\n",
       "      <td>0.074285</td>\n",
       "      <td>0.074285</td>\n",
       "      <td>5.142857</td>\n",
       "    </tr>\n",
       "    <tr>\n",
       "      <th>rupert</th>\n",
       "      <td>134</td>\n",
       "      <td>19.0</td>\n",
       "      <td>7.0</td>\n",
       "      <td>23.0</td>\n",
       "      <td>12.0</td>\n",
       "      <td>57.0</td>\n",
       "      <td>0.218806</td>\n",
       "      <td>0.287778</td>\n",
       "      <td>0.068564</td>\n",
       "      <td>0.068564</td>\n",
       "      <td>5.104478</td>\n",
       "    </tr>\n",
       "    <tr>\n",
       "      <th>ottokar</th>\n",
       "      <td>227</td>\n",
       "      <td>14.0</td>\n",
       "      <td>6.0</td>\n",
       "      <td>63.0</td>\n",
       "      <td>8.0</td>\n",
       "      <td>98.0</td>\n",
       "      <td>0.125440</td>\n",
       "      <td>0.103333</td>\n",
       "      <td>0.136199</td>\n",
       "      <td>0.136199</td>\n",
       "      <td>3.453744</td>\n",
       "    </tr>\n",
       "    <tr>\n",
       "      <th>agnes</th>\n",
       "      <td>177</td>\n",
       "      <td>13.0</td>\n",
       "      <td>6.0</td>\n",
       "      <td>68.0</td>\n",
       "      <td>7.0</td>\n",
       "      <td>62.0</td>\n",
       "      <td>0.049317</td>\n",
       "      <td>0.057722</td>\n",
       "      <td>0.093354</td>\n",
       "      <td>0.093354</td>\n",
       "      <td>2.451977</td>\n",
       "    </tr>\n",
       "    <tr>\n",
       "      <th>jeronimus</th>\n",
       "      <td>125</td>\n",
       "      <td>15.0</td>\n",
       "      <td>8.0</td>\n",
       "      <td>54.0</td>\n",
       "      <td>7.0</td>\n",
       "      <td>42.0</td>\n",
       "      <td>0.142179</td>\n",
       "      <td>0.107222</td>\n",
       "      <td>0.115525</td>\n",
       "      <td>0.115525</td>\n",
       "      <td>2.352000</td>\n",
       "    </tr>\n",
       "    <tr>\n",
       "      <th>sylvius</th>\n",
       "      <td>38</td>\n",
       "      <td>8.0</td>\n",
       "      <td>4.0</td>\n",
       "      <td>10.0</td>\n",
       "      <td>4.0</td>\n",
       "      <td>18.0</td>\n",
       "      <td>0.004365</td>\n",
       "      <td>0.047222</td>\n",
       "      <td>0.021062</td>\n",
       "      <td>0.021062</td>\n",
       "      <td>1.894737</td>\n",
       "    </tr>\n",
       "    <tr>\n",
       "      <th>gertrude</th>\n",
       "      <td>72</td>\n",
       "      <td>9.0</td>\n",
       "      <td>4.0</td>\n",
       "      <td>24.0</td>\n",
       "      <td>5.0</td>\n",
       "      <td>26.0</td>\n",
       "      <td>0.004266</td>\n",
       "      <td>0.077000</td>\n",
       "      <td>0.037705</td>\n",
       "      <td>0.037705</td>\n",
       "      <td>1.805556</td>\n",
       "    </tr>\n",
       "    <tr>\n",
       "      <th>eustache</th>\n",
       "      <td>86</td>\n",
       "      <td>11.0</td>\n",
       "      <td>6.0</td>\n",
       "      <td>27.0</td>\n",
       "      <td>5.0</td>\n",
       "      <td>28.0</td>\n",
       "      <td>0.077758</td>\n",
       "      <td>0.136722</td>\n",
       "      <td>0.050809</td>\n",
       "      <td>0.050809</td>\n",
       "      <td>1.627907</td>\n",
       "    </tr>\n",
       "    <tr>\n",
       "      <th>alle_5-1</th>\n",
       "      <td>1</td>\n",
       "      <td>1.0</td>\n",
       "      <td>0.0</td>\n",
       "      <td>0.0</td>\n",
       "      <td>1.0</td>\n",
       "      <td>1.0</td>\n",
       "      <td>0.000000</td>\n",
       "      <td>0.000000</td>\n",
       "      <td>0.008206</td>\n",
       "      <td>0.008206</td>\n",
       "      <td>1.000000</td>\n",
       "    </tr>\n",
       "    <tr>\n",
       "      <th>ein_diener_1-1</th>\n",
       "      <td>1</td>\n",
       "      <td>1.0</td>\n",
       "      <td>0.0</td>\n",
       "      <td>0.0</td>\n",
       "      <td>1.0</td>\n",
       "      <td>1.0</td>\n",
       "      <td>0.000000</td>\n",
       "      <td>0.000000</td>\n",
       "      <td>0.008206</td>\n",
       "      <td>0.008206</td>\n",
       "      <td>1.000000</td>\n",
       "    </tr>\n",
       "    <tr>\n",
       "      <th>johann</th>\n",
       "      <td>64</td>\n",
       "      <td>9.0</td>\n",
       "      <td>5.0</td>\n",
       "      <td>28.0</td>\n",
       "      <td>4.0</td>\n",
       "      <td>13.0</td>\n",
       "      <td>0.020127</td>\n",
       "      <td>0.020222</td>\n",
       "      <td>0.040376</td>\n",
       "      <td>0.040376</td>\n",
       "      <td>0.812500</td>\n",
       "    </tr>\n",
       "    <tr>\n",
       "      <th>barnabe</th>\n",
       "      <td>50</td>\n",
       "      <td>7.0</td>\n",
       "      <td>4.0</td>\n",
       "      <td>31.0</td>\n",
       "      <td>3.0</td>\n",
       "      <td>12.0</td>\n",
       "      <td>0.042194</td>\n",
       "      <td>0.036667</td>\n",
       "      <td>0.080180</td>\n",
       "      <td>0.080180</td>\n",
       "      <td>0.720000</td>\n",
       "    </tr>\n",
       "    <tr>\n",
       "      <th>santing</th>\n",
       "      <td>39</td>\n",
       "      <td>5.0</td>\n",
       "      <td>3.0</td>\n",
       "      <td>18.0</td>\n",
       "      <td>2.0</td>\n",
       "      <td>9.0</td>\n",
       "      <td>0.029643</td>\n",
       "      <td>0.077222</td>\n",
       "      <td>0.045396</td>\n",
       "      <td>0.045396</td>\n",
       "      <td>0.461538</td>\n",
       "    </tr>\n",
       "    <tr>\n",
       "      <th>ursula</th>\n",
       "      <td>16</td>\n",
       "      <td>5.0</td>\n",
       "      <td>4.0</td>\n",
       "      <td>8.0</td>\n",
       "      <td>1.0</td>\n",
       "      <td>7.0</td>\n",
       "      <td>0.003532</td>\n",
       "      <td>0.000000</td>\n",
       "      <td>0.032585</td>\n",
       "      <td>0.032585</td>\n",
       "      <td>0.437500</td>\n",
       "    </tr>\n",
       "    <tr>\n",
       "      <th>aldoebern</th>\n",
       "      <td>14</td>\n",
       "      <td>2.0</td>\n",
       "      <td>1.0</td>\n",
       "      <td>8.0</td>\n",
       "      <td>1.0</td>\n",
       "      <td>5.0</td>\n",
       "      <td>0.000000</td>\n",
       "      <td>0.000000</td>\n",
       "      <td>0.017560</td>\n",
       "      <td>0.017560</td>\n",
       "      <td>0.357143</td>\n",
       "    </tr>\n",
       "    <tr>\n",
       "      <th>gaertner</th>\n",
       "      <td>6</td>\n",
       "      <td>2.0</td>\n",
       "      <td>1.0</td>\n",
       "      <td>1.0</td>\n",
       "      <td>1.0</td>\n",
       "      <td>2.0</td>\n",
       "      <td>0.000000</td>\n",
       "      <td>0.000000</td>\n",
       "      <td>0.009375</td>\n",
       "      <td>0.009375</td>\n",
       "      <td>0.333333</td>\n",
       "    </tr>\n",
       "    <tr>\n",
       "      <th>die_kammerzofe</th>\n",
       "      <td>8</td>\n",
       "      <td>3.0</td>\n",
       "      <td>2.0</td>\n",
       "      <td>3.0</td>\n",
       "      <td>1.0</td>\n",
       "      <td>1.0</td>\n",
       "      <td>0.000000</td>\n",
       "      <td>0.000000</td>\n",
       "      <td>0.012313</td>\n",
       "      <td>0.012313</td>\n",
       "      <td>0.125000</td>\n",
       "    </tr>\n",
       "    <tr>\n",
       "      <th>kirchenvogt</th>\n",
       "      <td>20</td>\n",
       "      <td>2.0</td>\n",
       "      <td>1.0</td>\n",
       "      <td>15.0</td>\n",
       "      <td>1.0</td>\n",
       "      <td>2.0</td>\n",
       "      <td>0.000000</td>\n",
       "      <td>0.000000</td>\n",
       "      <td>0.043276</td>\n",
       "      <td>0.043276</td>\n",
       "      <td>0.100000</td>\n",
       "    </tr>\n",
       "    <tr>\n",
       "      <th>fintenring</th>\n",
       "      <td>13</td>\n",
       "      <td>2.0</td>\n",
       "      <td>1.0</td>\n",
       "      <td>4.0</td>\n",
       "      <td>1.0</td>\n",
       "      <td>1.0</td>\n",
       "      <td>0.000000</td>\n",
       "      <td>0.000000</td>\n",
       "      <td>0.012931</td>\n",
       "      <td>0.012931</td>\n",
       "      <td>0.076923</td>\n",
       "    </tr>\n",
       "    <tr>\n",
       "      <th>theistiner</th>\n",
       "      <td>18</td>\n",
       "      <td>2.0</td>\n",
       "      <td>1.0</td>\n",
       "      <td>8.0</td>\n",
       "      <td>1.0</td>\n",
       "      <td>1.0</td>\n",
       "      <td>0.031667</td>\n",
       "      <td>0.031667</td>\n",
       "      <td>0.017560</td>\n",
       "      <td>0.017560</td>\n",
       "      <td>0.055556</td>\n",
       "    </tr>\n",
       "    <tr>\n",
       "      <th>ein_diener_4-1</th>\n",
       "      <td>2</td>\n",
       "      <td>1.0</td>\n",
       "      <td>1.0</td>\n",
       "      <td>2.0</td>\n",
       "      <td>0.0</td>\n",
       "      <td>0.0</td>\n",
       "      <td>0.000000</td>\n",
       "      <td>0.000000</td>\n",
       "      <td>0.010251</td>\n",
       "      <td>0.010251</td>\n",
       "      <td>0.000000</td>\n",
       "    </tr>\n",
       "    <tr>\n",
       "      <th>zweiter_wanderer</th>\n",
       "      <td>2</td>\n",
       "      <td>1.0</td>\n",
       "      <td>1.0</td>\n",
       "      <td>1.0</td>\n",
       "      <td>0.0</td>\n",
       "      <td>0.0</td>\n",
       "      <td>0.000000</td>\n",
       "      <td>0.000000</td>\n",
       "      <td>0.009228</td>\n",
       "      <td>0.009228</td>\n",
       "      <td>0.000000</td>\n",
       "    </tr>\n",
       "    <tr>\n",
       "      <th>ein_diener_3-2</th>\n",
       "      <td>3</td>\n",
       "      <td>1.0</td>\n",
       "      <td>1.0</td>\n",
       "      <td>1.0</td>\n",
       "      <td>0.0</td>\n",
       "      <td>0.0</td>\n",
       "      <td>0.000000</td>\n",
       "      <td>0.000000</td>\n",
       "      <td>0.009228</td>\n",
       "      <td>0.009228</td>\n",
       "      <td>0.000000</td>\n",
       "    </tr>\n",
       "    <tr>\n",
       "      <th>ein_diener_2-3</th>\n",
       "      <td>2</td>\n",
       "      <td>1.0</td>\n",
       "      <td>1.0</td>\n",
       "      <td>1.0</td>\n",
       "      <td>0.0</td>\n",
       "      <td>0.0</td>\n",
       "      <td>0.000000</td>\n",
       "      <td>0.000000</td>\n",
       "      <td>0.009375</td>\n",
       "      <td>0.009375</td>\n",
       "      <td>0.000000</td>\n",
       "    </tr>\n",
       "    <tr>\n",
       "      <th>ein_ritter</th>\n",
       "      <td>1</td>\n",
       "      <td>1.0</td>\n",
       "      <td>1.0</td>\n",
       "      <td>1.0</td>\n",
       "      <td>0.0</td>\n",
       "      <td>0.0</td>\n",
       "      <td>0.000000</td>\n",
       "      <td>0.000000</td>\n",
       "      <td>0.023132</td>\n",
       "      <td>0.023132</td>\n",
       "      <td>0.000000</td>\n",
       "    </tr>\n",
       "    <tr>\n",
       "      <th>der_wanderer</th>\n",
       "      <td>5</td>\n",
       "      <td>1.0</td>\n",
       "      <td>1.0</td>\n",
       "      <td>5.0</td>\n",
       "      <td>0.0</td>\n",
       "      <td>0.0</td>\n",
       "      <td>0.000000</td>\n",
       "      <td>0.000000</td>\n",
       "      <td>0.013318</td>\n",
       "      <td>0.013318</td>\n",
       "      <td>0.000000</td>\n",
       "    </tr>\n",
       "    <tr>\n",
       "      <th>chor_der_maedchen</th>\n",
       "      <td>3</td>\n",
       "      <td>NaN</td>\n",
       "      <td>NaN</td>\n",
       "      <td>NaN</td>\n",
       "      <td>NaN</td>\n",
       "      <td>NaN</td>\n",
       "      <td>NaN</td>\n",
       "      <td>NaN</td>\n",
       "      <td>NaN</td>\n",
       "      <td>NaN</td>\n",
       "      <td>NaN</td>\n",
       "    </tr>\n",
       "    <tr>\n",
       "      <th>chor_der_juenglinge</th>\n",
       "      <td>3</td>\n",
       "      <td>NaN</td>\n",
       "      <td>NaN</td>\n",
       "      <td>NaN</td>\n",
       "      <td>NaN</td>\n",
       "      <td>NaN</td>\n",
       "      <td>NaN</td>\n",
       "      <td>NaN</td>\n",
       "      <td>NaN</td>\n",
       "      <td>NaN</td>\n",
       "      <td>NaN</td>\n",
       "    </tr>\n",
       "    <tr>\n",
       "      <th>ein_knappe</th>\n",
       "      <td>1</td>\n",
       "      <td>NaN</td>\n",
       "      <td>NaN</td>\n",
       "      <td>NaN</td>\n",
       "      <td>NaN</td>\n",
       "      <td>NaN</td>\n",
       "      <td>NaN</td>\n",
       "      <td>NaN</td>\n",
       "      <td>NaN</td>\n",
       "      <td>NaN</td>\n",
       "      <td>NaN</td>\n",
       "    </tr>\n",
       "  </tbody>\n",
       "</table>\n",
       "</div>"
      ],
      "text/plain": [
       "                     speeches  degree  indegree  weighted_indegree  outdegree  \\\n",
       "sylvester                 126    20.0       8.0               36.0       12.0   \n",
       "rupert                    134    19.0       7.0               23.0       12.0   \n",
       "ottokar                   227    14.0       6.0               63.0        8.0   \n",
       "agnes                     177    13.0       6.0               68.0        7.0   \n",
       "jeronimus                 125    15.0       8.0               54.0        7.0   \n",
       "sylvius                    38     8.0       4.0               10.0        4.0   \n",
       "gertrude                   72     9.0       4.0               24.0        5.0   \n",
       "eustache                   86    11.0       6.0               27.0        5.0   \n",
       "alle_5-1                    1     1.0       0.0                0.0        1.0   \n",
       "ein_diener_1-1              1     1.0       0.0                0.0        1.0   \n",
       "johann                     64     9.0       5.0               28.0        4.0   \n",
       "barnabe                    50     7.0       4.0               31.0        3.0   \n",
       "santing                    39     5.0       3.0               18.0        2.0   \n",
       "ursula                     16     5.0       4.0                8.0        1.0   \n",
       "aldoebern                  14     2.0       1.0                8.0        1.0   \n",
       "gaertner                    6     2.0       1.0                1.0        1.0   \n",
       "die_kammerzofe              8     3.0       2.0                3.0        1.0   \n",
       "kirchenvogt                20     2.0       1.0               15.0        1.0   \n",
       "fintenring                 13     2.0       1.0                4.0        1.0   \n",
       "theistiner                 18     2.0       1.0                8.0        1.0   \n",
       "ein_diener_4-1              2     1.0       1.0                2.0        0.0   \n",
       "zweiter_wanderer            2     1.0       1.0                1.0        0.0   \n",
       "ein_diener_3-2              3     1.0       1.0                1.0        0.0   \n",
       "ein_diener_2-3              2     1.0       1.0                1.0        0.0   \n",
       "ein_ritter                  1     1.0       1.0                1.0        0.0   \n",
       "der_wanderer                5     1.0       1.0                5.0        0.0   \n",
       "chor_der_maedchen           3     NaN       NaN                NaN        NaN   \n",
       "chor_der_juenglinge         3     NaN       NaN                NaN        NaN   \n",
       "ein_knappe                  1     NaN       NaN                NaN        NaN   \n",
       "\n",
       "                     weighted_outdegree  betweenness  betweenness_weighted  \\\n",
       "sylvester                          54.0     0.244040              0.380944   \n",
       "rupert                             57.0     0.218806              0.287778   \n",
       "ottokar                            98.0     0.125440              0.103333   \n",
       "agnes                              62.0     0.049317              0.057722   \n",
       "jeronimus                          42.0     0.142179              0.107222   \n",
       "sylvius                            18.0     0.004365              0.047222   \n",
       "gertrude                           26.0     0.004266              0.077000   \n",
       "eustache                           28.0     0.077758              0.136722   \n",
       "alle_5-1                            1.0     0.000000              0.000000   \n",
       "ein_diener_1-1                      1.0     0.000000              0.000000   \n",
       "johann                             13.0     0.020127              0.020222   \n",
       "barnabe                            12.0     0.042194              0.036667   \n",
       "santing                             9.0     0.029643              0.077222   \n",
       "ursula                              7.0     0.003532              0.000000   \n",
       "aldoebern                           5.0     0.000000              0.000000   \n",
       "gaertner                            2.0     0.000000              0.000000   \n",
       "die_kammerzofe                      1.0     0.000000              0.000000   \n",
       "kirchenvogt                         2.0     0.000000              0.000000   \n",
       "fintenring                          1.0     0.000000              0.000000   \n",
       "theistiner                          1.0     0.031667              0.031667   \n",
       "ein_diener_4-1                      0.0     0.000000              0.000000   \n",
       "zweiter_wanderer                    0.0     0.000000              0.000000   \n",
       "ein_diener_3-2                      0.0     0.000000              0.000000   \n",
       "ein_diener_2-3                      0.0     0.000000              0.000000   \n",
       "ein_ritter                          0.0     0.000000              0.000000   \n",
       "der_wanderer                        0.0     0.000000              0.000000   \n",
       "chor_der_maedchen                   NaN          NaN                   NaN   \n",
       "chor_der_juenglinge                 NaN          NaN                   NaN   \n",
       "ein_knappe                          NaN          NaN                   NaN   \n",
       "\n",
       "                     pagerank  pagerank_weighted  request_value  \n",
       "sylvester            0.074285           0.074285       5.142857  \n",
       "rupert               0.068564           0.068564       5.104478  \n",
       "ottokar              0.136199           0.136199       3.453744  \n",
       "agnes                0.093354           0.093354       2.451977  \n",
       "jeronimus            0.115525           0.115525       2.352000  \n",
       "sylvius              0.021062           0.021062       1.894737  \n",
       "gertrude             0.037705           0.037705       1.805556  \n",
       "eustache             0.050809           0.050809       1.627907  \n",
       "alle_5-1             0.008206           0.008206       1.000000  \n",
       "ein_diener_1-1       0.008206           0.008206       1.000000  \n",
       "johann               0.040376           0.040376       0.812500  \n",
       "barnabe              0.080180           0.080180       0.720000  \n",
       "santing              0.045396           0.045396       0.461538  \n",
       "ursula               0.032585           0.032585       0.437500  \n",
       "aldoebern            0.017560           0.017560       0.357143  \n",
       "gaertner             0.009375           0.009375       0.333333  \n",
       "die_kammerzofe       0.012313           0.012313       0.125000  \n",
       "kirchenvogt          0.043276           0.043276       0.100000  \n",
       "fintenring           0.012931           0.012931       0.076923  \n",
       "theistiner           0.017560           0.017560       0.055556  \n",
       "ein_diener_4-1       0.010251           0.010251       0.000000  \n",
       "zweiter_wanderer     0.009228           0.009228       0.000000  \n",
       "ein_diener_3-2       0.009228           0.009228       0.000000  \n",
       "ein_diener_2-3       0.009375           0.009375       0.000000  \n",
       "ein_ritter           0.023132           0.023132       0.000000  \n",
       "der_wanderer         0.013318           0.013318       0.000000  \n",
       "chor_der_maedchen         NaN                NaN            NaN  \n",
       "chor_der_juenglinge       NaN                NaN            NaN  \n",
       "ein_knappe                NaN                NaN            NaN  "
      ]
     },
     "metadata": {},
     "output_type": "display_data"
    }
   ],
   "source": [
    "network = ng.Network(gerdracor_play_id='kleist-die-familie-schroffenstein')\n",
    "fig = network.plot(network_type='request')"
   ]
  },
  {
   "cell_type": "markdown",
   "metadata": {},
   "source": [
    "## Plot network based on **all speeches**"
   ]
  },
  {
   "cell_type": "code",
   "execution_count": 3,
   "metadata": {},
   "outputs": [
    {
     "data": {
      "application/vnd.plotly.v1+json": {
       "config": {
        "plotlyServerURL": "https://plot.ly"
       },
       "data": [
        {
         "hoverinfo": "text",
         "marker": {
          "color": "green",
          "opacity": 0.4,
          "size": 1.2386634844868736,
          "symbol": "cross-thin"
         },
         "mode": "markers",
         "name": "chor_der_maedchen → chor_der_juenglinge",
         "showlegend": false,
         "text": "<b>chor_der_maedchen → chor_der_juenglinge</b>:<br><br>Nieder trat ihn ein frecher Fuß.<br>Mörders Stahl gab die Antwort ihm.<br>Trotzig stehet der Feind und schweigt.<br>",
         "type": "scatter",
         "x": [
          0.6847119229504095
         ],
         "y": [
          0.29063039977224225
         ]
        },
        {
         "hoverinfo": "text",
         "marker": {
          "color": "green",
          "opacity": 0.4,
          "size": 1.1591089896579156,
          "symbol": "cross-thin"
         },
         "mode": "markers",
         "name": "chor_der_juenglinge → chor_der_maedchen",
         "showlegend": false,
         "text": "<b>chor_der_juenglinge → chor_der_maedchen</b>:<br><br>Dessen Thron die weiten Räume decken, Dessen Reich[...]<br><br>",
         "type": "scatter",
         "x": [
          0.6475019033493266
         ],
         "y": [
          0.4546368777755791
         ]
        },
        {
         "hoverinfo": "text",
         "marker": {
          "color": "green",
          "opacity": 0.4,
          "size": 1.079554494828958,
          "symbol": "cross-thin"
         },
         "mode": "markers",
         "name": "chor_der_juenglinge → rupert",
         "showlegend": false,
         "text": "<b>chor_der_juenglinge → rupert</b>:<br><br><br>",
         "type": "scatter",
         "x": [
          0.5944177884176347
         ],
         "y": [
          0.41646380244341724
         ]
        },
        {
         "hoverinfo": "text",
         "marker": {
          "color": "green",
          "opacity": 0.4,
          "size": 1.3977724741447892,
          "symbol": "cross-thin"
         },
         "mode": "markers",
         "name": "rupert → ottokar",
         "showlegend": false,
         "text": "<b>rupert → ottokar</b>:<br><br>Die Reihe ist an dir, mein Sohn.<br>Den Namen, Mein Sohn, den Namen nenne.<br>Ein Fluch, wie unsrer, kömmt vor Gottes Ohr Und je[...]<br>So komm.<br>Wer bist du? Rede!<br>",
         "type": "scatter",
         "x": [
          0.16997061573042424
         ],
         "y": [
          -0.09786481400596438
         ]
        },
        {
         "hoverinfo": "text",
         "marker": {
          "color": "green",
          "opacity": 0.4,
          "size": 1.3977724741447892,
          "symbol": "cross-thin"
         },
         "mode": "markers",
         "name": "ottokar → rupert",
         "showlegend": false,
         "text": "<b>ottokar → rupert</b>:<br><br>Mein Herz Trägt wie mit Schwingen deinen Fluch zu [...]<br>Rache schwör ich, Sylvestern Schroffenstein!<br>Rache! schwör ich, Rache! Dem Mörderhaus Sylvester[...]<br>Niemand Fügt dir ein Leid, wenn ohn ein Wort zu re[...]<br>Wenn ihr aus Warwand seid, so führt mich heim.<br>",
         "type": "scatter",
         "x": [
          0.2615593329048113
         ],
         "y": [
          0.012025980344664037
         ]
        },
        {
         "hoverinfo": "text",
         "marker": {
          "color": "green",
          "opacity": 0.4,
          "size": 3.7844073190135243,
          "symbol": "cross-thin"
         },
         "mode": "markers",
         "name": "rupert → eustache",
         "showlegend": false,
         "text": "<b>rupert → eustache</b>:<br><br>Eustache, Die Reihe ist an dir.<br>Und Mutter auch des Toten.<br>Doch nichts mehr von Natur. Ein hold ergötzend Mär[...]<br>Erschlagen, sagst du?<br>Das Volk – ein Volk von Weibern wohl?<br>– 's ist gut.<br>O listig ist die Schlange – 's ist nur gut, Daß wi[...]<br>Beleidigen! Ein Herold? Der die Zange Nur höchsten[...]<br>So führe mich zu ihm.<br>Laß uns allein, Eustache.<br>In vierzehn Tagen bist du frei. Was willst du?<br>Solange ich kein Knecht, soll mir Den Herrn ein an[...]<br>Wenn du <br>[...]",
         "type": "scatter",
         "x": [
          0.15846481697856482
         ],
         "y": [
          -0.12157045341317008
         ]
        },
        {
         "hoverinfo": "text",
         "marker": {
          "color": "green",
          "opacity": 0.4,
          "size": 4.0230708035003975,
          "symbol": "cross-thin"
         },
         "mode": "markers",
         "name": "eustache → rupert",
         "showlegend": false,
         "text": "<b>eustache → rupert</b>:<br><br>Verschone mich, Ich bin ein Weib –<br>O Gott! Wie soll ein Weib sich rächen?<br>– Könntst du nicht prüfen mindestens Vorher, aufsc[...]<br>Ja, so spricht das Volk.<br>Mir hat's Ein Mann bekräftigt.<br>Nicht doch, Santing, er sagte Nichts von Johann, v[...]<br>Er ist im Hause.<br>– Hör es nun selbst, Ob ich dir falsch berichtet.<br>Hat denn der Herold ihn beleidigt?<br>So läßt sich's fast nicht denken, daß die Tat Von [...]<br>'s ist kaum zu hoffen, kaum, – – Horch! Er kommt! [...]<br>– Ich T<br>[...]",
         "type": "scatter",
         "x": [
          0.1580071441380766
         ],
         "y": [
          -0.20132477432018728
         ]
        },
        {
         "hoverinfo": "text",
         "marker": {
          "color": "green",
          "opacity": 0.4,
          "size": 1.4773269689737472,
          "symbol": "cross-thin"
         },
         "mode": "markers",
         "name": "rupert → rupert",
         "showlegend": false,
         "text": "<b>rupert → rupert</b>:<br><br>Würge Sie betend.<br>Bringt ihn.<br>Tretet ab – bleib du, Santing.<br>Wo sind die Hunde wenn Ich pfeife? – Ruft den Graf[...]<br>Kommst du heraus, das schöne Gebirgslehn wird dir [...]<br>Ich fördre dein Gespenst zu deinem Vater!<br>",
         "type": "scatter",
         "x": [
          0.15852202608362587
         ],
         "y": [
          -0.11160116329979293
         ]
        },
        {
         "hoverinfo": "text",
         "marker": {
          "color": "green",
          "opacity": 0.4,
          "size": 3.307080350039777,
          "symbol": "cross-thin"
         },
         "mode": "markers",
         "name": "rupert → jeronimus",
         "showlegend": false,
         "text": "<b>rupert → jeronimus</b>:<br><br>– Doch sag's ihm nicht so sanft, wie ich, hörst du[...]<br>Santing!<br>– Du kommst Aus Warwand – nicht?<br>– Vielleicht hast du Aufträg an mich, kommst im Ge[...]<br>Mein Gast – und hättst aus Warwand keinen Auftrag?<br>Nun, Wir brechen die Gelegenheit vom Zaune; Sag an[...]<br>Mich; Mich sprechen?<br>Unschuld?<br>Meinst du?<br>Ein Irrtum?<br>– Nun, meinetwegen.<br>–<br>So sag's Daß ich mit Freuden ihn erwarten würde.<br>Dein Amt Scheint aus, wenn ich nicht irre.<br>Nun?<br>Auf den Tod, ich <br>[...]",
         "type": "scatter",
         "x": [
          0.15465753817201877
         ],
         "y": [
          -0.06447160385456023
         ]
        },
        {
         "hoverinfo": "text",
         "marker": {
          "color": "green",
          "opacity": 0.4,
          "size": 2.272871917263325,
          "symbol": "cross-thin"
         },
         "mode": "markers",
         "name": "jeronimus → ottokar",
         "showlegend": false,
         "text": "<b>jeronimus → ottokar</b>:<br><br>Ein Wort, Graf Ottokar.<br>Ich komm aus Warwand.<br>Bei meinem Eid, ich nehme ihre Sache.<br>Denn nie ward eine Fehde Beschlossen, als die eur'[...]<br>Ich habe hier in diesen Bänken wie Ein Narr gestan[...]<br>Du hörst, ich sage dir, Ich komm aus Warwand, wo S[...]<br>Wie meinst du das?<br>Du meinest, weil ein seltner Fisch sich zeigt Der [...]<br>Niemals War eine Wahl mir zwischen euch und ihnen;[...]<br>– Nein.<br>Ottokar! Was meinst du? Sieh, du schlägst mir ins [...]<br>Suchst du ihn? I<br>[...]",
         "type": "scatter",
         "x": [
          0.1351902245259603
         ],
         "y": [
          0.3263012210011299
         ]
        },
        {
         "hoverinfo": "text",
         "marker": {
          "color": "green",
          "opacity": 0.4,
          "size": 2.1933174224343674,
          "symbol": "cross-thin"
         },
         "mode": "markers",
         "name": "ottokar → jeronimus",
         "showlegend": false,
         "text": "<b>ottokar → jeronimus</b>:<br><br>– Nun, was gibt's?<br>So? Aus Warwand? Nun?<br>Sylvesters? Du?<br>Erkläre dich.<br>Wie? Du wüßtest nichts?<br>– Allerdings, man weiß, Du giltst dem Hause viel, [...]<br>Ich meine, weil –<br>Warwand, In diesem Worte liegt's, wie Gift in eine[...]<br>– Das Rechtgefühl! Als ob's ein andres noch In ein[...]<br>Leb wohl!<br>Willst Du's wissen, stell dich nur an diesen Sarg.<br>O laß An deiner Brust mich ruhn, mein lieber Freun[...]<br>Wie sagst du, Jeronimus?<br><br>Gib deine Hand, Verziehn sei a<br>[...]",
         "type": "scatter",
         "x": [
          0.2576948449932042
         ],
         "y": [
          0.05915553978989674
         ]
        },
        {
         "hoverinfo": "text",
         "marker": {
          "color": "green",
          "opacity": 0.4,
          "size": 2.591089896579157,
          "symbol": "cross-thin"
         },
         "mode": "markers",
         "name": "jeronimus → kirchenvogt",
         "showlegend": false,
         "text": "<b>jeronimus → kirchenvogt</b>:<br><br>He, Alter!<br>Du kennst mich?<br>Nein.<br>Ich bin auf Reisen, hab hier angesprochen, Und fin[...]<br>Zur Sache, Alter! das gehört zur Sache nicht.<br>Nun denn, So sprich.<br>Wer hat dir das gesagt?<br>Sprich weiter.<br>Tat er das!<br>Wirklich?<br>Nun das erzähl, wie ist das zugegangen?<br>Tat Rupert das?<br>Gestanden?<br>Was Hat er gestanden?<br>Hast du's gehört? Aus seinem Munde?<br>Sprich, wie gestand er's?<br>Auf Der Folter? Sag mir seine Worte.<br>Außer eins, sprachst du; Nenn mir das <b<br>[...]",
         "type": "scatter",
         "x": [
          0.1560513890865368
         ],
         "y": [
          0.38580772691574494
         ]
        },
        {
         "hoverinfo": "text",
         "marker": {
          "color": "green",
          "opacity": 0.4,
          "size": 2.5115354017501987,
          "symbol": "cross-thin"
         },
         "mode": "markers",
         "name": "kirchenvogt → jeronimus",
         "showlegend": false,
         "text": "<b>kirchenvogt → jeronimus</b>:<br><br>Herr!<br>Warst du schon In dieser Kirche?<br>Ei, Herr, wie kann Ein Kirchenvogt die Namen aller[...]<br>Seit alten Zeiten Gibt's zwischen unsern beiden Gr[...]<br>Denn das ist just als sagtest du, der Apfel Gehöre[...]<br>Er lag zwei Tage lang In Ohnmacht; alles hielt ihn[...]<br>Herr, zwanzig Jahre sind's, Kann's nicht beschwöre[...]<br>Seit der Zeit hat der Sylvester stets nach unsrer [...]<br>Sooft Ein Junker unserm Herrn geboren ward, Soll e[...]<br>Nun, Weil alles Warten und Gedulden do<br>[...]",
         "type": "scatter",
         "x": [
          0.44544532603839265
         ],
         "y": [
          0.5947140930214317
         ]
        },
        {
         "hoverinfo": "text",
         "marker": {
          "color": "green",
          "opacity": 0.4,
          "size": 1.079554494828958,
          "symbol": "cross-thin"
         },
         "mode": "markers",
         "name": "kirchenvogt → ein_diener_1-1",
         "showlegend": false,
         "text": "<b>kirchenvogt → ein_diener_1-1</b>:<br><br>Herr nichts.<br>",
         "type": "scatter",
         "x": [
          0.46063961828718764
         ],
         "y": [
          0.627656776998381
         ]
        },
        {
         "hoverinfo": "text",
         "marker": {
          "color": "green",
          "opacity": 0.4,
          "size": 1.079554494828958,
          "symbol": "cross-thin"
         },
         "mode": "markers",
         "name": "ein_diener_1-1 → jeronimus",
         "showlegend": false,
         "text": "<b>ein_diener_1-1 → jeronimus</b>:<br><br>War nicht Graf Rupert hier?<br>",
         "type": "scatter",
         "x": [
          0.2566257772067097
         ],
         "y": [
          0.6561785869450767
         ]
        },
        {
         "hoverinfo": "text",
         "marker": {
          "color": "green",
          "opacity": 0.4,
          "size": 4.261734287987271,
          "symbol": "cross-thin"
         },
         "mode": "markers",
         "name": "ottokar → johann",
         "showlegend": false,
         "text": "<b>ottokar → johann</b>:<br><br>Wie kamst du denn zu diesem Schleier? Er Ist's, is[...]<br>Und der Schleier? Wie kamst du denn zu diesem Schl[...]<br>Wo?<br>Und kennst nicht die Person, Die ihn verloren?<br>Es tut nichts. Ist einerlei. – Und weil er dir nic[...]<br>Ich war dir immer gut, Und will's dir schon so loh[...]<br>Du bist ja seltsam.<br>Wahrhaftig? – Also fandst du ihn wohl nicht? Er wa[...]<br>Wer rettete dich denn?<br>Wie? Nackend?<br>Nun?<br>O! Du Glücklicher!<br>Und sprach sie nicht?<br>Wie? Warum denn das?<br<br>[...]",
         "type": "scatter",
         "x": [
          0.23814525480852303
         ],
         "y": [
          0.04164179532502435
         ]
        },
        {
         "hoverinfo": "text",
         "marker": {
          "color": "green",
          "opacity": 0.4,
          "size": 4.182179793158314,
          "symbol": "cross-thin"
         },
         "mode": "markers",
         "name": "johann → ottokar",
         "showlegend": false,
         "text": "<b>johann → ottokar</b>:<br><br>–<br>Ich sag dir ja, ich fand ihn.<br>Im Tale Zum heil'gen Kreuz.<br>– Nein.<br>Den Schleier – ? Gnäd'ger Herr, was denkst du? Sol[...]<br>–<br>Denn einer heiligen Reliquie gleich Bewahrt er mir[...]<br>Gleich Vom Platz, wie ein gekrümmtes Fischbein, fl[...]<br>Wer, fragst du? Ach, Daß ich mit einem Wort es nen[...]<br>Zwar ich sah Sie fliehend nur in ihrer Schöne – De[...]<br>Ach, doch ein Engel Schien sie, als sie verhüllt n[...]<br>Still saß ich, rührte nicht ein Glied, Wie eine Ta[...]<b<br>[...]",
         "type": "scatter",
         "x": [
          -0.04075608713617062
         ],
         "y": [
          0.16867752081727846
         ]
        },
        {
         "hoverinfo": "text",
         "marker": {
          "color": "green",
          "opacity": 0.4,
          "size": 1.079554494828958,
          "symbol": "cross-thin"
         },
         "mode": "markers",
         "name": "ottokar → sylvius",
         "showlegend": false,
         "text": "<b>ottokar → sylvius</b>:<br><br>Laß mich, ich muß hinaus ins Freie.<br>",
         "type": "scatter",
         "x": [
          0.20891382791742813
         ],
         "y": [
          0.029329317708313016
         ]
        },
        {
         "hoverinfo": "text",
         "marker": {
          "color": "green",
          "opacity": 0.4,
          "size": 2.6706443914081146,
          "symbol": "cross-thin"
         },
         "mode": "markers",
         "name": "sylvius → agnes",
         "showlegend": false,
         "text": "<b>sylvius → agnes</b>:<br><br>Agnes, wo ist Philipp?<br>Hilft das?<br>Ach, es hilft nicht.<br>Ich, vor dem Erinnern.<br>Liebe Agnes.<br>Du weinst?<br>Warum denn, meint der Pater, Sollst du nicht weine[...]<br>Glaubst du's?<br>Ich glaub's Mit Zuversicht.<br>Wie willst du's halten, Agnes?<br>Ich meine, wie du's gläubest?<br>Wie? Du bist Nicht eingesegnet? Sprich, wie alt de[...]<br>Sieh, da könnte ja ein Ritter Bereits dich vor den[...]<br>Das möchtest du doch wohl?<br>Sag's der Mutter, Sie soll den Beicht'ger zu dir s[...<br>[...]",
         "type": "scatter",
         "x": [
          -0.3974713754288078
         ],
         "y": [
          0.0638531930612655
         ]
        },
        {
         "hoverinfo": "text",
         "marker": {
          "color": "green",
          "opacity": 0.4,
          "size": 2.7501988862370723,
          "symbol": "cross-thin"
         },
         "mode": "markers",
         "name": "agnes → sylvius",
         "showlegend": false,
         "text": "<b>agnes → sylvius</b>:<br><br>Komm her, ich schreib's dir in die Hand.<br>Es hilft, glaub mir's.<br>Ich meine, Vor dem Vergessen.<br>Guter Vater.<br>Fühl mir einmal die Wange an.<br>Denn sieh, Wie ich muß lachen, eh ich will, wenn e[...]<br>Ihm sei wohl, sagt er.<br>Denn hier war Philipp gern, wie sollt er nicht? Wi[...]<br>Ja, da möcht es freilich doch Wohl anders sein, wo[...]<br>Wie meinst du das?<br>Ich will's erst lernen, Vater.<br>Bald funfzehn.<br>Meinst du?<br>Das sag ich nicht.<br>Horch! Da kommt die Mutter.<br><br>[...]",
         "type": "scatter",
         "x": [
          -0.6337781885376195
         ],
         "y": [
          0.08322105485781474
         ]
        },
        {
         "hoverinfo": "text",
         "marker": {
          "color": "green",
          "opacity": 0.4,
          "size": 1.4773269689737472,
          "symbol": "cross-thin"
         },
         "mode": "markers",
         "name": "sylvius → gertrude",
         "showlegend": false,
         "text": "<b>sylvius → gertrude</b>:<br><br>Gertrude, hier das Mädel klagt dich an, Es rechne [...]<br>Gertrude, Sprich, ist sie rot?<br>Vergiftet! Unsern Philipp!<br>Gertrude, Du tust nicht gut daran, daß du das sags[...]<br>Der Möglichkeit doch schuldigst du sie an.<br>Ich will aufs Zimmer, Agnes, führe mich.<br>",
         "type": "scatter",
         "x": [
          -0.3815433668265753
         ],
         "y": [
          0.06963826632144124
         ]
        },
        {
         "hoverinfo": "text",
         "marker": {
          "color": "green",
          "opacity": 0.4,
          "size": 1.2386634844868736,
          "symbol": "cross-thin"
         },
         "mode": "markers",
         "name": "gertrude → sylvius",
         "showlegend": false,
         "text": "<b>gertrude → sylvius</b>:<br><br>Hat dir Jerome das gelehrt?<br>Gesagt? Und öffentlich? Was hätt ich öffentlich ge[...]<br>Du hörst ja, ich behaupte nichts, will keinen Der [...]<br>",
         "type": "scatter",
         "x": [
          -0.4904261111175271
         ],
         "y": [
          0.13528671419939636
         ]
        },
        {
         "hoverinfo": "text",
         "marker": {
          "color": "green",
          "opacity": 0.4,
          "size": 1.954653937947494,
          "symbol": "cross-thin"
         },
         "mode": "markers",
         "name": "gertrude → agnes",
         "showlegend": false,
         "text": "<b>gertrude → agnes</b>:<br><br>Gedulde dich bis morgen, willst du das? Hier, Agne[...]<br>Ei Agnes, immer trägt die Jugend das Geheimnis Im [...]<br>Hülfe! Kommt zu Hülfe! Hülfe!<br>–<br>Hier liegt er tot am Boden, fasse dich.<br>Jerome hat den Mörder hingestreckt.<br>Aber, meine Tochter, Wie konntest du so einsam und[...]<br>Und noch so lange Dich zu verweilen!<br>Einen Ritter? Sieh Wie du in die Gefahr dich wagst[...]<br>Leb wohl, Und kehre bald mit Trost zu uns zurück.<br>– Wirf gleich, sogleich ihn fort. Du sollst mit<br>[...]",
         "type": "scatter",
         "x": [
          -0.5199644627561286
         ],
         "y": [
          0.137707696923965
         ]
        },
        {
         "hoverinfo": "text",
         "marker": {
          "color": "green",
          "opacity": 0.4,
          "size": 1.7159904534606205,
          "symbol": "cross-thin"
         },
         "mode": "markers",
         "name": "agnes → gertrude",
         "showlegend": false,
         "text": "<b>agnes → gertrude</b>:<br><br>Geheimnis! Allen Kindern in dem Schlosse Ist es be[...]<br>Bin ich von dem Entsetzlichen erlöst?<br>–<br>Zürne nicht, Es war mein Lieblingsweg.<br>Einen Ritter traf Ich, der mich aufhielt.<br>Mich?<br>–<br>–<br>Weiß er's?<br>",
         "type": "scatter",
         "x": [
          -0.6473885315739885
         ],
         "y": [
          0.09142711084255914
         ]
        },
        {
         "hoverinfo": "text",
         "marker": {
          "color": "green",
          "opacity": 0.4,
          "size": 4.977724741447892,
          "symbol": "cross-thin"
         },
         "mode": "markers",
         "name": "gertrude → sylvester",
         "showlegend": false,
         "text": "<b>gertrude → sylvester</b>:<br><br>– Denn In Lebensfülle, in dem Sarge morgen. – Waru[...]<br>Mein teurer Gemahl! –<br>–<br>Ihm vorgeworfen? O mein Gemahl, die Sache lag so k[...]<br>Soll ich ihm einen Platz an unserm Tisch Bereiten?<br>O großer Gott, wer denn Beschuldiget dich dieser U[...]<br>Um Gotteswillen, In deiner Feinde Macht gibst du d[...]<br>–<br>Sylvester, kennst du mich, kennst du mich wieder?<br>Und an seiner Pforte Stehn deine Engel, wir, die D[...]<br>Du sankest stehend In Ohnmacht.<br>O nein, O nein, sie ist <br>[...]",
         "type": "scatter",
         "x": [
          -0.49085617913600227
         ],
         "y": [
          0.15221442413381597
         ]
        },
        {
         "hoverinfo": "text",
         "marker": {
          "color": "green",
          "opacity": 0.4,
          "size": 1.4773269689737472,
          "symbol": "cross-thin"
         },
         "mode": "markers",
         "name": "sylvester → gaertner",
         "showlegend": false,
         "text": "<b>sylvester → gaertner</b>:<br><br>Geb zu, Daß deine Rüben süß wie Zucker sind. –<br>Reiß aus, reiß aus –<br>Ausreißen ist ein froh Geschäft, Geschieht's um et[...]<br>Ei, wenn nicht wir, Doch unsre Kinder.<br>Wie meinst du das?<br>Schweig! Ich kann das alberne Geschwätz im Haus ni[...]<br>",
         "type": "scatter",
         "x": [
          -0.35782018626621404
         ],
         "y": [
          0.2915867170471783
         ]
        },
        {
         "hoverinfo": "text",
         "marker": {
          "color": "green",
          "opacity": 0.4,
          "size": 1.4773269689737472,
          "symbol": "cross-thin"
         },
         "mode": "markers",
         "name": "gaertner → sylvester",
         "showlegend": false,
         "text": "<b>gaertner → sylvester</b>:<br><br>Wie Feigen, Herr.<br>Ein Gärtner, Herr, bepflanzt zehn Felder lieber Mi[...]<br>Herr, werden wir's erleben?<br>Deine Kinder? Herr, Ich möchte lieber eine Eichenp[...]<br>Denn wenn sie der Nordostwind nur nicht stürzt, So[...]<br>Aber eßt Ihr nicht die Früchte, Der Teufel hol mic[...]<br>",
         "type": "scatter",
         "x": [
          -0.24251204459626446
         ],
         "y": [
          0.778605975977462
         ]
        },
        {
         "hoverinfo": "text",
         "marker": {
          "color": "green",
          "opacity": 0.4,
          "size": 4.818615751789976,
          "symbol": "cross-thin"
         },
         "mode": "markers",
         "name": "sylvester → gertrude",
         "showlegend": false,
         "text": "<b>sylvester → gertrude</b>:<br><br>Das Nichtsbedeutende, Gemeine, ganz Alltägliche, s[...]<br>Hättst du nicht wenigstens das Licht, Das, wie du [...]<br>Dem Pöbel, diesem Starmatz – diesem Hohlspiegel de[...]<br>Was meinst du? Wenn Vor achtzehn Jahren, als du sc[...]<br>Denn deine Rede, wenn sie gleich nicht reich, Ist [...]<br>Nein, warte; Ich reite mit dir, Freund.<br>Gertrude –<br>Mir ist so wohl, wie bei dem Eintritt in Ein andre[...]<br>Sage mir, wie kam Ich denn auf diesen Stuhl? Zulet[...]<br>– Wie, was ist dir denn? W<br>[...]",
         "type": "scatter",
         "x": [
          -0.38541397899285157
         ],
         "y": [
          0.22198765573121765
         ]
        },
        {
         "hoverinfo": "text",
         "marker": {
          "color": "green",
          "opacity": 0.4,
          "size": 1.079554494828958,
          "symbol": "cross-thin"
         },
         "mode": "markers",
         "name": "gertrude → ein_knappe",
         "showlegend": false,
         "text": "<b>gertrude → ein_knappe</b>:<br><br>–<br>",
         "type": "scatter",
         "x": [
          -0.4997380601479936
         ],
         "y": [
          0.21018643024709752
         ]
        },
        {
         "hoverinfo": "text",
         "marker": {
          "color": "green",
          "opacity": 0.4,
          "size": 1.079554494828958,
          "symbol": "cross-thin"
         },
         "mode": "markers",
         "name": "ein_knappe → sylvester",
         "showlegend": false,
         "text": "<b>ein_knappe → sylvester</b>:<br><br>Es ist ein Ritter, Herr, am Tore.<br>",
         "type": "scatter",
         "x": [
          -0.4521706330828797
         ],
         "y": [
          0.7524573647004269
         ]
        },
        {
         "hoverinfo": "text",
         "marker": {
          "color": "green",
          "opacity": 0.4,
          "size": 1.1591089896579156,
          "symbol": "cross-thin"
         },
         "mode": "markers",
         "name": "sylvester → sylvius",
         "showlegend": false,
         "text": "<b>sylvester → sylvius</b>:<br><br>Laß ihn ein.<br>Dein Sohn in meiner Agnes Kleidern? Wer denn ist d[...]<br>",
         "type": "scatter",
         "x": [
          -0.3718036359564826
         ],
         "y": [
          0.21378159974647326
         ]
        },
        {
         "hoverinfo": "text",
         "marker": {
          "color": "green",
          "opacity": 0.4,
          "size": 1.079554494828958,
          "symbol": "cross-thin"
         },
         "mode": "markers",
         "name": "sylvester → sylvester",
         "showlegend": false,
         "text": "<b>sylvester → sylvester</b>:<br><br>Ich will Indessen Sorge tragen für sein Pferd.<br>",
         "type": "scatter",
         "x": [
          -0.37223370397495775
         ],
         "y": [
          0.23070930968089287
         ]
        },
        {
         "hoverinfo": "text",
         "marker": {
          "color": "green",
          "opacity": 0.4,
          "size": 2.1137629276054097,
          "symbol": "cross-thin"
         },
         "mode": "markers",
         "name": "sylvester → aldoebern",
         "showlegend": false,
         "text": "<b>sylvester → aldoebern</b>:<br><br>Aus Rossitz, sagst du?<br>Drum so laß uns schnell Hinhüpfen über den Gebrauc[...]<br>Ei, du Narr, Stehn und Erzählen, das gehört zusamm[...]<br>Rede.<br>Mord?<br>– Du bist Aus Rossitz nicht, nicht wahr? – Nun set[...]<br>Ich wußt es wohl, nun setz dich. Gertrude! Laß mir[...]<br>Ja, Was Henker denkst du? Hat dir einer Unrecht, B[...]<br>–<br>Nun wenn's Ist's wirklich wahr? Um eines Mordes wi[...]<br>Franz, sattle mir mein Pferd. – Verzeih mein Freun[...]<br>Laß gut sein.<br>Ein einzelner tri<br>[...]",
         "type": "scatter",
         "x": [
          -0.40322227451319964
         ],
         "y": [
          0.27601369278469
         ]
        },
        {
         "hoverinfo": "text",
         "marker": {
          "color": "green",
          "opacity": 0.4,
          "size": 2.1137629276054097,
          "symbol": "cross-thin"
         },
         "mode": "markers",
         "name": "aldoebern → sylvester",
         "showlegend": false,
         "text": "<b>aldoebern → sylvester</b>:<br><br>Bin gesandt von meinem Herrn, Dem Rupert, Graf von[...]<br>Herr, kann es stehend abtun.<br>Meine Rede Wär fertig, Herr, noch eh ich niedersit[...]<br>–<br>Doch soll ich, meint er, nicht so frostig reden, V[...]<br>– Was soll das?<br>Meiner Seite?<br>Bist du von Sinnen, oder ist's Verstellung?<br>Denkst du Mir sei von meiner Mutter so viel Mensch[...]<br>Soll ich's dir zehenmal Und wieder zehnmal wiederk[...]<br>Leb denn wohl.<br>Wenn du glaubst, sie werden schonend In Rossitz di[...]<br>Das <br>[...]",
         "type": "scatter",
         "x": [
          -0.6511308388191349
         ],
         "y": [
          0.6384487576150674
         ]
        },
        {
         "hoverinfo": "text",
         "marker": {
          "color": "green",
          "opacity": 0.4,
          "size": 2.8297533810660305,
          "symbol": "cross-thin"
         },
         "mode": "markers",
         "name": "sylvester → jeronimus",
         "showlegend": false,
         "text": "<b>sylvester → jeronimus</b>:<br><br>– Mir ist das ihre heilig, Und fröhlich kühn wag i[...]<br>Ich bitte dich, Bleib bei den Weibern, bis ich wie[...]<br>Nach Rossitz.<br>Was für ein Wort – ?<br>Glaubst du, daß ich, wenn eine Schuld mich drückte[...]<br>'s ist gut. – Noch eins. Die beiden Waffenschmiede[...]<br>Lebt sie? Und unverwundet?<br>Gib mir die Hand, Jerome, wir verstehn Uns.<br>Kennst du Den Menschen?<br>Das Schwert empfangen, gestern erst – und heute Wa[...]<br>– Nun, genug. Ich will mit Ernst, daß du von Phili[...]<<br>[...]",
         "type": "scatter",
         "x": [
          -0.3230226188807065
         ],
         "y": [
          0.243607821828057
         ]
        },
        {
         "hoverinfo": "text",
         "marker": {
          "color": "green",
          "opacity": 0.4,
          "size": 2.7501988862370723,
          "symbol": "cross-thin"
         },
         "mode": "markers",
         "name": "jeronimus → sylvester",
         "showlegend": false,
         "text": "<b>jeronimus → sylvester</b>:<br><br>Wohin?<br>Wo willst du hin?<br>Lieferst du Wie ein bekehrter Sünder selbst dich a[...]<br>Drum geh nur hin, und leg dein sündig Haupt In chr[...]<br>Agnes! Agnes! Ich sehe keine Wunde. – Lebst du, Ag[...]<br>Frage nicht, du machst mich schamrot, – ja.<br>Es ist Verstellung offenbar.<br>Weiß nur so viel, daß sein Namen Johann, und er ei[...]<br>Wie alle Diener Ruperts, so auch er.<br>Ist Der Totschlag Peters ein Betrug, wie es Fast s[...]<br>Ei möglich wär es wohl, daß Ruperts Sohn, Der doch[<br>[...]",
         "type": "scatter",
         "x": [
          0.07066606187330357
         ],
         "y": [
          0.34679591900536993
         ]
        },
        {
         "hoverinfo": "text",
         "marker": {
          "color": "green",
          "opacity": 0.4,
          "size": 1.4773269689737472,
          "symbol": "cross-thin"
         },
         "mode": "markers",
         "name": "jeronimus → gertrude",
         "showlegend": false,
         "text": "<b>jeronimus → gertrude</b>:<br><br>Denn hier in deiner Nähe stinkt es, wie Bei Mörder[...]<br>– – Bin ich Ein Schuft in meinen Augen doch, um wi[...]<br>Schafft nur Hülfe, Ermordet ist sie nicht.<br>Eben war's noch Zeit, Er zückte schon den Dolch au[...]<br>Wir verstehn uns.<br>Ich hab es selbst gehört.<br>",
         "type": "scatter",
         "x": [
          0.057485786855409726
         ],
         "y": [
          0.33807426505569477
         ]
        },
        {
         "hoverinfo": "text",
         "marker": {
          "color": "green",
          "opacity": 0.4,
          "size": 10.54653937947494,
          "symbol": "cross-thin"
         },
         "mode": "markers",
         "name": "agnes → ottokar",
         "showlegend": false,
         "text": "<b>agnes → ottokar</b>:<br><br>'s ist doch ein häßliches Drum ist das Schlimmste [...]<br>Ist er hübsch?<br>Wahrhaftig? Sieh einmal die Finger an.<br>Das bekam ich, als ich aus den Dornen Die Blumen p[...]<br>Stundenlang hab ich Gesonnen, wie ein jedes einzel[...]<br>Liebst du mich, so sprich sogleich Ein Wort, das m[...]<br>Von meinem Vaterhause? Kennst du's denn? Hab ich n[...]<br>Du weißt's?<br>In Fehde? In meines Vaters Sälen liegt der Staub A[...]<br>Du hörst es, ja.<br>Morden?<br>–<br>– Du sprachst von Mord.<br>Von <br>[...]",
         "type": "scatter",
         "x": [
          -0.5696840939034378
         ],
         "y": [
          0.07965406678799432
         ]
        },
        {
         "hoverinfo": "text",
         "marker": {
          "color": "green",
          "opacity": 0.4,
          "size": 9.989657915672236,
          "symbol": "cross-thin"
         },
         "mode": "markers",
         "name": "ottokar → agnes",
         "showlegend": false,
         "text": "<b>ottokar → agnes</b>:<br><br>Jetzt nichts.<br>Recht hübsch.<br>–<br>Armes Kind.<br>Und mir du.<br>Wie hast du's heute wagen können, heute, Von deine[...]<br>O verzeih! Nicht meine Schuld ist's, daß ich's wei[...]<br>Nun sage mir, wie konntest du es wagen, So einsam [...]<br>Wie sagst du? Ihr wärt in Frieden mit den Nachbarn[...]<br>O Gott! Ich danke dir mein Leben nur Um dieser Kun[...]<br>Komm! Es darf kein Schatten mehr dich decken, nich[...]<br>Was ängstigt dich? Ich will dir jeden falschen Wah[...]<br>Von Liebe spra<br>[...]",
         "type": "scatter",
         "x": [
          0.17937547627882666
         ],
         "y": [
          0.03175030043288167
         ]
        },
        {
         "hoverinfo": "text",
         "marker": {
          "color": "green",
          "opacity": 0.4,
          "size": 1.079554494828958,
          "symbol": "cross-thin"
         },
         "mode": "markers",
         "name": "johann → gertrude",
         "showlegend": false,
         "text": "<b>johann → gertrude</b>:<br><br>– Gut. Noch gibt's ein andres Mittel.<br>",
         "type": "scatter",
         "x": [
          -0.1184605248067212
         ],
         "y": [
          0.18045056487184327
         ]
        },
        {
         "hoverinfo": "text",
         "marker": {
          "color": "green",
          "opacity": 0.4,
          "size": 2.272871917263325,
          "symbol": "cross-thin"
         },
         "mode": "markers",
         "name": "sylvester → theistiner",
         "showlegend": false,
         "text": "<b>sylvester → theistiner</b>:<br><br>Du weißt's? Nun, sprich, Was meinst du, 's ist doc[...]<br>Bezweifelt? Nein, das tu ich auch nicht mehr. – Un[...]<br>Wie meinst du das? Der Herold wär noch hier?<br>Gesteiniget?<br>Unrecht ist's, Theistin, mit deinem Haupt hättst d[...]<br>– Das Geschehne muß stets gut sein, wie es kann. G[...]<br>Nun, Beruh'ge dich – fortan kein anderes Gefühl al[...]<br>Wo sind sie?<br>– Laßt mich allein ihr Weiber. Wenn sie so Gestimm[...]<br>Er will nach meinem Haupte greifen, will Es – nun,[...]<br>Der<br>[...]",
         "type": "scatter",
         "x": [
          -0.3484461683940983
         ],
         "y": [
          0.14777921201955418
         ]
        },
        {
         "hoverinfo": "text",
         "marker": {
          "color": "green",
          "opacity": 0.4,
          "size": 2.3524264120922833,
          "symbol": "cross-thin"
         },
         "mode": "markers",
         "name": "theistiner → sylvester",
         "showlegend": false,
         "text": "<b>theistiner → sylvester</b>:<br><br>In Warwand Ist keiner, der's bezweifelt, ist fast [...]<br>So wohl, daß sie das Haupt sogar besitzen, Das dir[...]<br>Gesteinigt, ja.<br>Das Volk Den Eulen an den Torweg festgenagelt.<br>Zu seinem Leichnam kam ich – diesen hier, Jeronimu[...]<br>So geh ich, Herr, noch heut vor Abend sind Die säm[...]<br>Hier bin ich wieder, Herr, von meinem Zuge Und bri[...]<br>Drei, Der Manso, Vitina, Paratzin, haben Auf ihren[...]<br>Wie den gespannten Bogen, Herr; der Mord Jeromes h[...]<br>Ich kenn das N<br>[...]",
         "type": "scatter",
         "x": [
          -0.15814588374722305
         ],
         "y": [
          -0.5156615692711551
         ]
        },
        {
         "hoverinfo": "text",
         "marker": {
          "color": "green",
          "opacity": 0.4,
          "size": 1.3977724741447892,
          "symbol": "cross-thin"
         },
         "mode": "markers",
         "name": "sylvester → agnes",
         "showlegend": false,
         "text": "<b>sylvester → agnes</b>:<br><br>– Laß mich – das verstehst du nicht.<br>Und zückt' er gleich den Dolch? Und sprach er nich[...]<br>Die Katze war mir übers Fläschchen Mit Ananas geko[...]<br>Am Boden! Gott der Welt! Ein Schwert im Busen mein[...]<br>Die Hölle ruft dich, Mörder!<br>",
         "type": "scatter",
         "x": [
          -0.40134198759508405
         ],
         "y": [
          0.2162025824710419
         ]
        },
        {
         "hoverinfo": "text",
         "marker": {
          "color": "green",
          "opacity": 0.4,
          "size": 1.5568814638027049,
          "symbol": "cross-thin"
         },
         "mode": "markers",
         "name": "agnes → johann",
         "showlegend": false,
         "text": "<b>agnes → johann</b>:<br><br>Zu Hülfe! Zu Hülfe!<br>Fort, Ungeheuer, bist du nicht aus Rossitz?<br>Was willst du, Rasender, von mir?<br>Schützt mich, ihr Himmlischen, vor seiner Wut!<br>Errettet mich, Ihr Heiligen!<br>Zu Hülfe! Mörder! Hülfe!<br>Entsetzlicher!<br>",
         "type": "scatter",
         "x": [
          -0.6045467616465245
         ],
         "y": [
          0.09553353247452608
         ]
        },
        {
         "hoverinfo": "text",
         "marker": {
          "color": "green",
          "opacity": 0.4,
          "size": 1.4773269689737472,
          "symbol": "cross-thin"
         },
         "mode": "markers",
         "name": "johann → agnes",
         "showlegend": false,
         "text": "<b>johann → agnes</b>:<br><br>So höre mich doch, Mädchen! Es folgt dir ja kein F[...]<br>Wie kann ich furchtbar sein? Sieh mich doch an, Ic[...]<br>Mir bist du tot, und einer Leiche gleich, Mit kalt[...]<br>Sieh, Mädchen, morgen lieg ich in dem Grabe, Ein J[...]<br>– Es schauert mich, es zu berühren. – Da, Nimm die[...]<br>– Hast du nicht einen Mir schon ins Herz gedrückt?<br>",
         "type": "scatter",
         "x": [
          -0.13438853340895368
         ],
         "y": [
          0.17466549161166756
         ]
        },
        {
         "hoverinfo": "text",
         "marker": {
          "color": "green",
          "opacity": 0.4,
          "size": 1.079554494828958,
          "symbol": "cross-thin"
         },
         "mode": "markers",
         "name": "johann → jeronimus",
         "showlegend": false,
         "text": "<b>johann → jeronimus</b>:<br><br>Nimm diesen Dolch, Geliebte – Denn mit Wollust, Wi[...]<br>",
         "type": "scatter",
         "x": [
          -0.05606916469457611
         ],
         "y": [
          0.2020707309686826
         ]
        },
        {
         "hoverinfo": "text",
         "marker": {
          "color": "green",
          "opacity": 0.4,
          "size": 1.3182179793158313,
          "symbol": "cross-thin"
         },
         "mode": "markers",
         "name": "gertrude → jeronimus",
         "showlegend": false,
         "text": "<b>gertrude → jeronimus</b>:<br><br>–<br>Ist er nicht Aus Rossitz?<br>Unsre Agnes? Und woher?<br>– Er kann dich mit Dem Apfel, den er dir vom Baume[...]<br>",
         "type": "scatter",
         "x": [
          -0.441645094041751
         ],
         "y": [
          0.1651129362809801
         ]
        },
        {
         "hoverinfo": "text",
         "marker": {
          "color": "green",
          "opacity": 0.4,
          "size": 1.3182179793158313,
          "symbol": "cross-thin"
         },
         "mode": "markers",
         "name": "agnes → sylvester",
         "showlegend": false,
         "text": "<b>agnes → sylvester</b>:<br><br>Ich eilte – doch ihn trieb die Mordsucht schneller[...]<br>Er sprach, – Gott weiß, mir schien's fast, wie im [...]<br>Ja, so ist es.<br>Wer ruft?<br>",
         "type": "scatter",
         "x": [
          -0.6342082565560946
         ],
         "y": [
          0.10014876479223435
         ]
        },
        {
         "hoverinfo": "text",
         "marker": {
          "color": "green",
          "opacity": 0.4,
          "size": 1.3182179793158313,
          "symbol": "cross-thin"
         },
         "mode": "markers",
         "name": "agnes → jeronimus",
         "showlegend": false,
         "text": "<b>agnes → jeronimus</b>:<br><br>– Glaubst du, es sei ein Rossitzscher?<br>Meinst du den – ?<br>Ich hab ihn nie gesehen.<br>Mir? Den Tod?<br>",
         "type": "scatter",
         "x": [
          -0.5849971714618433
         ],
         "y": [
          0.11304727693939846
         ]
        },
        {
         "hoverinfo": "text",
         "marker": {
          "color": "green",
          "opacity": 0.4,
          "size": 1.3977724741447892,
          "symbol": "cross-thin"
         },
         "mode": "markers",
         "name": "jeronimus → agnes",
         "showlegend": false,
         "text": "<b>jeronimus → agnes</b>:<br><br>Ich weiß, Daß Ottokar oft ins Gebirge geht.<br>– Kennst du ihn nicht?<br>Ich habe sichre Proben doch, daß er Dich kennt?<br>Wenn ich nicht irre, sah ich einen Schleier, Den d[...]<br>Er hat beim Nachtmahl ihr den Tod geschworen.<br>",
         "type": "scatter",
         "x": [
          0.04155777825317725
         ],
         "y": [
          0.332289191795519
         ]
        },
        {
         "hoverinfo": "text",
         "marker": {
          "color": "green",
          "opacity": 0.4,
          "size": 1.079554494828958,
          "symbol": "cross-thin"
         },
         "mode": "markers",
         "name": "gertrude → ein_diener_2-3",
         "showlegend": false,
         "text": "<b>gertrude → ein_diener_2-3</b>:<br><br>Du darfst nicht aus den Mauern dieser Burg, Darfst[...]<br>",
         "type": "scatter",
         "x": [
          -0.53482505061409
         ],
         "y": [
          0.18210575455317551
         ]
        },
        {
         "hoverinfo": "text",
         "marker": {
          "color": "green",
          "opacity": 0.4,
          "size": 1.079554494828958,
          "symbol": "cross-thin"
         },
         "mode": "markers",
         "name": "ein_diener_2-3 → sylvester",
         "showlegend": false,
         "text": "<b>ein_diener_2-3 → sylvester</b>:<br><br>Der Wundarzt sagt, die Wunde sei nur leicht.<br>",
         "type": "scatter",
         "x": [
          -0.7679535472777476
         ],
         "y": [
          0.4997312834551286
         ]
        },
        {
         "hoverinfo": "text",
         "marker": {
          "color": "green",
          "opacity": 0.4,
          "size": 1.079554494828958,
          "symbol": "cross-thin"
         },
         "mode": "markers",
         "name": "sylvester → ein_diener_2-3",
         "showlegend": false,
         "text": "<b>sylvester → ein_diener_2-3</b>:<br><br>Ist er sich sein bewußt?<br>",
         "type": "scatter",
         "x": [
          -0.4162025754530455
         ],
         "y": [
          0.2606006401002524
         ]
        },
        {
         "hoverinfo": "text",
         "marker": {
          "color": "green",
          "opacity": 0.4,
          "size": 1.079554494828958,
          "symbol": "cross-thin"
         },
         "mode": "markers",
         "name": "ein_diener_2-3 → jeronimus",
         "showlegend": false,
         "text": "<b>ein_diener_2-3 → jeronimus</b>:<br><br>Denn er spricht ungehobelt Zeug, Wild durcheinande[...]<br>",
         "type": "scatter",
         "x": [
          -0.7187424621834962
         ],
         "y": [
          0.5126297956022927
         ]
        },
        {
         "hoverinfo": "text",
         "marker": {
          "color": "green",
          "opacity": 0.4,
          "size": 1.079554494828958,
          "symbol": "cross-thin"
         },
         "mode": "markers",
         "name": "agnes → rupert",
         "showlegend": false,
         "text": "<b>agnes → rupert</b>:<br><br>Morgen.<br>",
         "type": "scatter",
         "x": [
          -0.5811326835502362
         ],
         "y": [
          0.06591771749416576
         ]
        },
        {
         "hoverinfo": "text",
         "marker": {
          "color": "green",
          "opacity": 0.4,
          "size": 3.386634844868735,
          "symbol": "cross-thin"
         },
         "mode": "markers",
         "name": "rupert → santing",
         "showlegend": false,
         "text": "<b>rupert → santing</b>:<br><br>Hat's ein Mann gehört?<br>Was hat er mitgebracht?<br>Wer von euch beiden ist das Weib?<br>Bringt Den Mann zu mir.<br>Er setzet die Erfindungskraft vielleicht Der Rache[...]<br>Kannst Du selbst nicht an die Quelle gehn nach War[...]<br>Der Herold, sei's – das wollt ich glauben; doch Jo[...]<br>Morden! Ein Mädchen! Sind sie toll? Der Junge ist [...]<br>– Glaub's Trotz allem nicht, bis du's aus Warwand [...]<br>Auf jeden Fall Will ich den dritten sprechen, der [...]<br>Wer zuerst ihn tödlich Ge<br>[...]",
         "type": "scatter",
         "x": [
          0.14878788919329344
         ],
         "y": [
          -0.1380957651144914
         ]
        },
        {
         "hoverinfo": "text",
         "marker": {
          "color": "green",
          "opacity": 0.4,
          "size": 3.307080350039777,
          "symbol": "cross-thin"
         },
         "mode": "markers",
         "name": "santing → rupert",
         "showlegend": false,
         "text": "<b>santing → rupert</b>:<br><br>Der her aus Warwand kam, hat's mitgebracht.<br>Ich sage, Johann; und ist's der Herold, wohl, so s[...]<br>Hier ist der Wandrer, Herr, er kann dir sagen, Ob [...]<br>In dem Hause war, Wo ich ihn traf, ein andrer noch[...]<br>Wie Die Männer sprachen, hat er Agnes, Sylvesters [...]<br>Er soll den Dolch auf sie gezückt schon haben, Da [...]<br>So reit ich hin – und kehr ich heut am Tage Nach R[...]<br>Herr, der liegt krank im Haus.<br>–<br>'s ist ein Faustschlag Mir ins Gesicht.<br>Was Dienen is<br>[...]",
         "type": "scatter",
         "x": [
          0.07091479407063417
         ],
         "y": [
          -0.3500525796320793
         ]
        },
        {
         "hoverinfo": "text",
         "marker": {
          "color": "green",
          "opacity": 0.4,
          "size": 1.2386634844868736,
          "symbol": "cross-thin"
         },
         "mode": "markers",
         "name": "santing → eustache",
         "showlegend": false,
         "text": "<b>santing → eustache</b>:<br><br>Daß dein Johann Erschlagen sei.<br>Ich zweifle, daß er noch Im Ort.<br>'s ist abgetan, Herr.<br>",
         "type": "scatter",
         "x": [
          0.07085758496557314
         ],
         "y": [
          -0.3600218697454564
         ]
        },
        {
         "hoverinfo": "text",
         "marker": {
          "color": "green",
          "opacity": 0.4,
          "size": 1.2386634844868736,
          "symbol": "cross-thin"
         },
         "mode": "markers",
         "name": "rupert → ein_diener_3-2",
         "showlegend": false,
         "text": "<b>rupert → ein_diener_3-2</b>:<br><br>Ruft gleich den Grafen Ottokar!<br>Nun? was willst du?<br>'s ist gut.<br>",
         "type": "scatter",
         "x": [
          0.20260236034885964
         ],
         "y": [
          -0.14473425128094175
         ]
        },
        {
         "hoverinfo": "text",
         "marker": {
          "color": "green",
          "opacity": 0.4,
          "size": 1.2386634844868736,
          "symbol": "cross-thin"
         },
         "mode": "markers",
         "name": "ein_diener_3-2 → rupert",
         "showlegend": false,
         "text": "<b>ein_diener_3-2 → rupert</b>:<br><br>Es soll geschehn, Herr.<br>Herr, Wir haben eine Klingel hier gekauft, Und bit[...]<br>Wir bitten dich darum, denn wenn Du pfeifst, so sp[...]<br>",
         "type": "scatter",
         "x": [
          0.55524503447073
         ],
         "y": [
          -0.40979895513013226
         ]
        },
        {
         "hoverinfo": "text",
         "marker": {
          "color": "green",
          "opacity": 0.4,
          "size": 1.3977724741447892,
          "symbol": "cross-thin"
         },
         "mode": "markers",
         "name": "rupert → der_wanderer",
         "showlegend": false,
         "text": "<b>rupert → der_wanderer</b>:<br><br>Wer bist du, mein Sohn?<br>Du warst in Warwand; Was sahst du da?<br>Wer tat es?<br>War Sylvester selbst dabei?<br>Und was sagt' er da?<br>",
         "type": "scatter",
         "x": [
          0.2197871323636743
         ],
         "y": [
          -0.12032348612811629
         ]
        },
        {
         "hoverinfo": "text",
         "marker": {
          "color": "green",
          "opacity": 0.4,
          "size": 1.3977724741447892,
          "symbol": "cross-thin"
         },
         "mode": "markers",
         "name": "der_wanderer → rupert",
         "showlegend": false,
         "text": "<b>der_wanderer → rupert</b>:<br><br>Bin Hans Franz Flanz von Namen, Untertan Aus deine[...]<br>Sie haben deinen Herold Erschlagen.<br>Es waren an Die hundert über einen, alle Graf Sylv[...]<br>Nachher, als die Stücken Des Herolds auf dem Hofe [...]<br>Getreuen Untertanen sie.<br>",
         "type": "scatter",
         "x": [
          0.7099079826040618
         ],
         "y": [
          -0.19010206875470315
         ]
        },
        {
         "hoverinfo": "text",
         "marker": {
          "color": "green",
          "opacity": 0.4,
          "size": 1.1591089896579156,
          "symbol": "cross-thin"
         },
         "mode": "markers",
         "name": "rupert → zweiter_wanderer",
         "showlegend": false,
         "text": "<b>rupert → zweiter_wanderer</b>:<br><br>Es ist doch nicht Die Höll in seinem Dienst –<br>Und also wohl den Herold nicht?<br>",
         "type": "scatter",
         "x": [
          0.22039486274345613
         ],
         "y": [
          -0.09533662733854512
         ]
        },
        {
         "hoverinfo": "text",
         "marker": {
          "color": "green",
          "opacity": 0.4,
          "size": 1.1591089896579156,
          "symbol": "cross-thin"
         },
         "mode": "markers",
         "name": "zweiter_wanderer → rupert",
         "showlegend": false,
         "text": "<b>zweiter_wanderer → rupert</b>:<br><br>–<br>Herr, das geschah früher.<br>",
         "type": "scatter",
         "x": [
          0.7153775560220983
         ],
         "y": [
          0.0347796603514374
         ]
        },
        {
         "hoverinfo": "text",
         "marker": {
          "color": "green",
          "opacity": 0.4,
          "size": 3.2275258552108195,
          "symbol": "cross-thin"
         },
         "mode": "markers",
         "name": "eustache → jeronimus",
         "showlegend": false,
         "text": "<b>eustache → jeronimus</b>:<br><br>Um Gotteswillen, Ritter –<br>–<br>Ich sag dir ja –<br>So laß mich doch ein Wort nur sprechen – sind Wir [...]<br>Wer Hat es gestanden?<br>– Ich Erstaun, Jeronimus, und wage kaum Zu sagen, [...]<br>Ist's möglich, du nimmst ihn in Schutz?<br>Soll ich dir Mehr glauben, als den Tätern, die es [...]<br>–<br>Wenn jene Tat wie diese ist beschaffen –<br>Und nicht für unsre?<br>– Was hat Der Knabe denn gestanden?<br>Denn frag ich, heißt es stets, Er hat's gestanden;[...]<br>–<br>– Ich werde nie den U<br>[...]",
         "type": "scatter",
         "x": [
          0.1541426562264695
         ],
         "y": [
          -0.15419521487495458
         ]
        },
        {
         "hoverinfo": "text",
         "marker": {
          "color": "green",
          "opacity": 0.4,
          "size": 3.2275258552108195,
          "symbol": "cross-thin"
         },
         "mode": "markers",
         "name": "jeronimus → eustache",
         "showlegend": false,
         "text": "<b>jeronimus → eustache</b>:<br><br>Ihm den Mörder Zu senden, der ihm hinterrücks die [...]<br>Was seid ihr besser denn Als die Beklagten, wenn d[...]<br>Ist das die Weis in diesem Zweideutig bösen Zwist [...]<br>–<br>Wer fragst du? Johann.<br>Als ich Sylvester hörte hab ich schnell Im Geist e[...]<br>Haut mir Die Hand ab, wenn ich sie meineidig hebe;[...]<br>Nun, das nenn ich wieder spaßhaft; Denn glauben so[...]<br>Gerad so spricht Sylvester, Doch mit dem Unterschi[...]<br>Für jene, für Sylvesters Unschuld, steh ich.<br>Rein<br>[...]",
         "type": "scatter",
         "x": [
          0.1236844257741009
         ],
         "y": [
          0.30259558159392425
         ]
        },
        {
         "hoverinfo": "text",
         "marker": {
          "color": "green",
          "opacity": 0.4,
          "size": 3.2275258552108195,
          "symbol": "cross-thin"
         },
         "mode": "markers",
         "name": "jeronimus → rupert",
         "showlegend": false,
         "text": "<b>jeronimus → rupert</b>:<br><br>Das ist ein böser Strich durch meinen Plan.<br>Sei gegrüßet!<br>Unmittelbar von Hause, Doch war ich kürzlich dort.<br>– Als dein Gast komm ich.<br>Zum mindsten keinen andern, dessen ich Mich nicht [...]<br>– Sylvester will dich sprechen.<br>Freilich seltsam ist die Forderung, Ja unerhört fa[...]<br>Zweideutig stets – auch war es nur ein Wort, Das d[...]<br>Er glaubt, es steck ein Irrtum wo verborgen. –<br>Den er aufzudecken, nichts Bedürfe, als nur ein Ge[...]<br>Wirklich? Willst du's tun?<b<br>[...]",
         "type": "scatter",
         "x": [
          0.12374163487916193
         ],
         "y": [
          0.31256487170730135
         ]
        },
        {
         "hoverinfo": "text",
         "marker": {
          "color": "green",
          "opacity": 0.4,
          "size": 1.079554494828958,
          "symbol": "cross-thin"
         },
         "mode": "markers",
         "name": "eustache → santing",
         "showlegend": false,
         "text": "<b>eustache → santing</b>:<br><br>Alles Fällt über ihn – Jeronimus! – das Volk Mit K[...]<br>",
         "type": "scatter",
         "x": [
          0.14827300724774417
         ],
         "y": [
          -0.22781937613488576
         ]
        },
        {
         "hoverinfo": "text",
         "marker": {
          "color": "green",
          "opacity": 0.4,
          "size": 1.2386634844868736,
          "symbol": "cross-thin"
         },
         "mode": "markers",
         "name": "eustache → die_kammerzofe",
         "showlegend": false,
         "text": "<b>eustache → die_kammerzofe</b>:<br><br>Nun freilich wohl.<br>Dich? Bist du von Sinnen?<br>Wen?<br>",
         "type": "scatter",
         "x": [
          0.15117036385020866
         ],
         "y": [
          -0.29016465799020796
         ]
        },
        {
         "hoverinfo": "text",
         "marker": {
          "color": "green",
          "opacity": 0.4,
          "size": 1.1591089896579156,
          "symbol": "cross-thin"
         },
         "mode": "markers",
         "name": "die_kammerzofe → eustache",
         "showlegend": false,
         "text": "<b>die_kammerzofe → eustache</b>:<br><br>Um deine Hülfe, Gnädigste! Erbarmung, Gebieterin! [...]<br>Er Hat ihn zuerst getroffen.<br>",
         "type": "scatter",
         "x": [
          0.09693379438775343
         ],
         "y": [
          -0.9211294064433565
         ]
        },
        {
         "hoverinfo": "text",
         "marker": {
          "color": "green",
          "opacity": 0.4,
          "size": 1.4773269689737472,
          "symbol": "cross-thin"
         },
         "mode": "markers",
         "name": "die_kammerzofe → rupert",
         "showlegend": false,
         "text": "<b>die_kammerzofe → rupert</b>:<br><br>Den Ritter, Den dein Gemahl geboten zu erschlagen.<br>Santing hat's auf dein Geheiß gestiftet.<br>Auf dein Geheiß Gehört, wie du's dem Santing hast [...]<br>Es haben's außer mir noch zwei gehört.<br>So schenkst du ihm das Leben?<br>O Gott sei Dank! Und dir sei Dank, mein bester Her[...]<br>",
         "type": "scatter",
         "x": [
          0.09699100349281446
         ],
         "y": [
          -0.9111601163299793
         ]
        },
        {
         "hoverinfo": "text",
         "marker": {
          "color": "green",
          "opacity": 0.4,
          "size": 1.3977724741447892,
          "symbol": "cross-thin"
         },
         "mode": "markers",
         "name": "rupert → die_kammerzofe",
         "showlegend": false,
         "text": "<b>rupert → die_kammerzofe</b>:<br><br>– Santing Hat's angestiftet!<br>Schlange, giftige! Aus meinen Augen, fort!<br>– Gehört? – Du selbst?<br>– 's ist gut. Tritt ab.<br>'s soll aufgeschoben sein.<br>",
         "type": "scatter",
         "x": [
          0.15168524579575793
         ],
         "y": [
          -0.20044104696981363
         ]
        },
        {
         "hoverinfo": "text",
         "marker": {
          "color": "green",
          "opacity": 0.4,
          "size": 1.1591089896579156,
          "symbol": "cross-thin"
         },
         "mode": "markers",
         "name": "rupert → ein_diener_4-1",
         "showlegend": false,
         "text": "<b>rupert → ein_diener_4-1</b>:<br><br>Ist noch der Graf zurück nicht vom Spaziergang?<br>Wo ist der Santing?<br>",
         "type": "scatter",
         "x": [
          0.18719371579764776
         ],
         "y": [
          -0.190541932982155
         ]
        },
        {
         "hoverinfo": "text",
         "marker": {
          "color": "green",
          "opacity": 0.4,
          "size": 1.1591089896579156,
          "symbol": "cross-thin"
         },
         "mode": "markers",
         "name": "ein_diener_4-1 → rupert",
         "showlegend": false,
         "text": "<b>ein_diener_4-1 → rupert</b>:<br><br>Nein, Herr.<br>Bei der Leiche.<br>",
         "type": "scatter",
         "x": [
          0.4165672335098229
         ],
         "y": [
          -0.8220680904410512
         ]
        },
        {
         "hoverinfo": "text",
         "marker": {
          "color": "green",
          "opacity": 0.4,
          "size": 1.079554494828958,
          "symbol": "cross-thin"
         },
         "mode": "markers",
         "name": "eustache → gertrude",
         "showlegend": false,
         "text": "<b>eustache → gertrude</b>:<br><br>–<br>",
         "type": "scatter",
         "x": [
          0.0917512961143244
         ],
         "y": [
          -0.17581538097179392
         ]
        },
        {
         "hoverinfo": "text",
         "marker": {
          "color": "green",
          "opacity": 0.4,
          "size": 1.079554494828958,
          "symbol": "cross-thin"
         },
         "mode": "markers",
         "name": "sylvester → barnabe",
         "showlegend": false,
         "text": "<b>sylvester → barnabe</b>:<br><br>Du nimmst den Vortrab. Wenn es finster, brechen Wi[...]<br>",
         "type": "scatter",
         "x": [
          -0.4108308474411785
         ],
         "y": [
          0.17555894149886295
         ]
        },
        {
         "hoverinfo": "text",
         "marker": {
          "color": "green",
          "opacity": 0.4,
          "size": 1.5568814638027049,
          "symbol": "cross-thin"
         },
         "mode": "markers",
         "name": "barnabe → ursula",
         "showlegend": false,
         "text": "<b>barnabe → ursula</b>:<br><br>Dränge durchs Grab, wenn die Posaune ihm ruft. Ewi[...]<br>Ja doch, ja, mit beiden Händen; Ich wollt ich könn[...]<br>– Dann der Mutter: Alles Gedeihn; daß ihr die Land[...]<br>Der Brei Ist dick, daß schon die Kelle stehet.<br>Schneid ich noch einen auf?<br>Was sagst du, Mutter?<br>Ei, was lach ich? Ich bin lustig, Und sprech die W[...]<br>",
         "type": "scatter",
         "x": [
          -0.742152280707264
         ],
         "y": [
          -0.33141958584123277
         ]
        },
        {
         "hoverinfo": "text",
         "marker": {
          "color": "green",
          "opacity": 0.4,
          "size": 1.7159904534606205,
          "symbol": "cross-thin"
         },
         "mode": "markers",
         "name": "ursula → barnabe",
         "showlegend": false,
         "text": "<b>ursula → barnabe</b>:<br><br>Barnabe! Barnabe! Rührst du den Kessel?<br>–<br>Barnabe! Böses Mädel! Hast den Blumenstaub Vergess[...]<br>Aber Die ungelegten Eier aus dem Hechtsbauch?<br>Ich will erst Fliederblüte zubereiten. Laß du nur [...]<br>Barnabe! Barnabe! Wer spricht denn in der Küch?<br>Bist du es? Sprichst du die drei Wünsche?<br>Barnabe! Du böses Mädel! Was lachst du?<br>Meinen auch vom Krebse?<br>",
         "type": "scatter",
         "x": [
          -0.6137294172680536
         ],
         "y": [
          -0.41642129545584383
         ]
        },
        {
         "hoverinfo": "text",
         "marker": {
          "color": "green",
          "opacity": 0.4,
          "size": 2.7501988862370723,
          "symbol": "cross-thin"
         },
         "mode": "markers",
         "name": "barnabe → ottokar",
         "showlegend": false,
         "text": "<b>barnabe → ottokar</b>:<br><br>– Wo blieb Ich stehn? Freuden vollauf – Nein, das [...]<br>In dieser Küche darf jetzt niemand sein, Die Mutte[...]<br>Was weiß ich? Weil ich eine Jungfrau bin.<br>Barnabe.<br>Aber nun geh fort, Du lieber Herr. Denn meine Mutt[...]<br>Davon hat sie nichts gesagt.<br>Ich will die Mutter fragen.<br>'s ist unser Glücksbrei, Und ich muß die drei Wüns[...]<br>Ha! ha! Nun denkst du, ich sei eine Hexe.<br>Auch den vom Kalbe.<br>Ich muß die Wünsche sprechen, laß mich sein. Sonst[...]<br>–<br>Du liebe<br>[...]",
         "type": "scatter",
         "x": [
          -0.6550838325182878
         ],
         "y": [
          -0.2861387019616165
         ]
        },
        {
         "hoverinfo": "text",
         "marker": {
          "color": "green",
          "opacity": 0.4,
          "size": 2.909307875894988,
          "symbol": "cross-thin"
         },
         "mode": "markers",
         "name": "ottokar → barnabe",
         "showlegend": false,
         "text": "<b>ottokar → barnabe</b>:<br><br>Was sprichst du mit Dem Kessel, Mädchen? Bist du e[...]<br>Warum Denn just nur du?<br>Und wie heißt du denn, Du liebe Jungfrau?<br>Doch wenn ein Reiner zusieht, wird er um So besser[...]<br>Weil's sich von selbst ergibt.<br>Wozu? Das wirst du selber ja verstehn.<br>Was kochst du denn?<br>Sag mir – ? Hab Ich recht gehört – ?<br>Hör, weißt du was? Bring diesen Beutel deiner Mutt[...]<br>Nun geh.<br>Ein Kindesfinger! Wenn's der kleine wäre! Wenn's P[...]<br>Gefunden bloß? Auf welche Art?<br>Ja,<br>[...]",
         "type": "scatter",
         "x": [
          0.16988661643273223
         ],
         "y": [
          -0.008893340539297308
         ]
        },
        {
         "hoverinfo": "text",
         "marker": {
          "color": "green",
          "opacity": 0.4,
          "size": 1.1591089896579156,
          "symbol": "cross-thin"
         },
         "mode": "markers",
         "name": "ottokar → ursula",
         "showlegend": false,
         "text": "<b>ottokar → ursula</b>:<br><br>So? Deine Stimme Klingt schöner, als dein Name.<br>Kin – Kindesfinger?<br>",
         "type": "scatter",
         "x": [
          0.18593947436263353
         ],
         "y": [
          -0.019518554241123698
         ]
        },
        {
         "hoverinfo": "text",
         "marker": {
          "color": "green",
          "opacity": 0.4,
          "size": 1.079554494828958,
          "symbol": "cross-thin"
         },
         "mode": "markers",
         "name": "ottokar → santing",
         "showlegend": false,
         "text": "<b>ottokar → santing</b>:<br><br>Wir wollen's beide dir schon lohnen. Doch mußt du'[...]<br>",
         "type": "scatter",
         "x": [
          0.25182519601447895
         ],
         "y": [
          -0.014468621470034443
         ]
        },
        {
         "hoverinfo": "text",
         "marker": {
          "color": "green",
          "opacity": 0.4,
          "size": 1.079554494828958,
          "symbol": "cross-thin"
         },
         "mode": "markers",
         "name": "rupert → barnabe",
         "showlegend": false,
         "text": "<b>rupert → barnabe</b>:<br><br>Skorpion von einem Menschen.<br>",
         "type": "scatter",
         "x": [
          0.06684930961154674
         ],
         "y": [
          -0.13252048418375428
         ]
        },
        {
         "hoverinfo": "text",
         "marker": {
          "color": "green",
          "opacity": 0.4,
          "size": 1.5568814638027049,
          "symbol": "cross-thin"
         },
         "mode": "markers",
         "name": "barnabe → santing",
         "showlegend": false,
         "text": "<b>barnabe → santing</b>:<br><br>Hier geht's nach Warwand doch, gestrenger Ritter?<br>Bestellungen an Fräulein Agnes.<br>Sagen? Nichts, Ich führe sie bloß ins Gebirg.<br>Kennst du sie?<br>– Und bin ich auf dem rechten Weg?<br>Wer? – Meine Mutter.<br>Gott behüte euch.<br>",
         "type": "scatter",
         "x": [
          -0.6762665590554187
         ],
         "y": [
          -0.32636965307014354
         ]
        },
        {
         "hoverinfo": "text",
         "marker": {
          "color": "green",
          "opacity": 0.4,
          "size": 1.4773269689737472,
          "symbol": "cross-thin"
         },
         "mode": "markers",
         "name": "santing → barnabe",
         "showlegend": false,
         "text": "<b>santing → barnabe</b>:<br><br>Was hast du denn zu tun dort, schönes Kind?<br>Was wirst du ihr denn sagen?<br>Heut noch?<br>– Also heute noch?<br>Wer schickt dich denn?<br>So? Nun geh nur, geh auf diesem Wege fort, Du kann[...]<br>",
         "type": "scatter",
         "x": [
          -0.02075792240144496
         ],
         "y": [
          -0.3709719005160406
         ]
        },
        {
         "hoverinfo": "text",
         "marker": {
          "color": "green",
          "opacity": 0.4,
          "size": 2.0342084327764516,
          "symbol": "cross-thin"
         },
         "mode": "markers",
         "name": "ottokar → fintenring",
         "showlegend": false,
         "text": "<b>ottokar → fintenring</b>:<br><br>Mein Vater hat's befohlen?<br>Nun, weil ich doch kein Mädchen, will ich's tun.<br>Statt der Rosen Will er mit Ketten mich und Banden[...]<br>Denn deiner straft Dein graues Haupt um dreißig Ja[...]<br>Sag deinem Weibe nur, ich bring den Frieden.<br>Bei meinem Leben, ja.<br>Was sagst du?<br>Nun?<br>O bei Dem großen Gott des Himmels, sprechen muß Ic[...]<br>–<br>'s ist plötzlich mir so ernst zu Mut geworden, Als[...]<br>Sag mir um 's Himmels willen nur, was hab Ich Böse[...]<br>Nun denn, meinet<br>[...]",
         "type": "scatter",
         "x": [
          0.3311605814756895
         ],
         "y": [
          -0.04296684432641562
         ]
        },
        {
         "hoverinfo": "text",
         "marker": {
          "color": "green",
          "opacity": 0.4,
          "size": 2.0342084327764516,
          "symbol": "cross-thin"
         },
         "mode": "markers",
         "name": "fintenring → ottokar",
         "showlegend": false,
         "text": "<b>fintenring → ottokar</b>:<br><br>Komm, du alter Junge, Komm h'rein.<br>Denn hier auf diesen Quadersteinen müßt's Selbst e[...]<br>Hör, das gibt vortreffliche Gedanken, morgen, wett[...]<br>Nein, im Ernst, Bleib hier, und sei so lustig, wie[...]<br>Im Ernste?<br>Lebe wohl. Verschließe hinter mir Sogleich die Tür[...]<br>Ich soll Dir weiter gar nichts sagen, außer dies.<br>Ei, daß ich nichts sagen soll.<br>So Kannst du dich trösten mindestens, er ist Mit S[...]<br>Ei Du scherzest wohl.<br>– Nein, hör, ich wüßte was Gescheuter<br>[...]",
         "type": "scatter",
         "x": [
          0.7963818528683279
         ],
         "y": [
          -0.5928002360456813
         ]
        },
        {
         "hoverinfo": "text",
         "marker": {
          "color": "green",
          "opacity": 0.4,
          "size": 1.954653937947494,
          "symbol": "cross-thin"
         },
         "mode": "markers",
         "name": "ottokar → eustache",
         "showlegend": false,
         "text": "<b>ottokar → eustache</b>:<br><br>– Gott Weiß, wann der Vater wiederkehrt. – Sie wol[...]<br>Ach, Mutter!<br>Du erschreckst mich – – Wie bist du so entstellt?<br>Jeronimus? O Gott des Himmels! Wer Hat das getan?<br>Wie? Wer konnt ihm die Entdecken?<br>Von wem sprichst du?<br>– Kurz, Rein, wie die Sonne, ist Sylvester.<br>Wer?<br>Fintenring! Fintenring! Fintenring!<br>– Fintenring! Nun So helfe mir die Mutter Gottes d[...]<br>Mutter! Mutter! Sei wenn ich gesprungen Nur still,[...]<br>Ich brauch's. – Leb wohl.<br>",
         "type": "scatter",
         "x": [
          0.2615021237997503
         ],
         "y": [
          0.0020566902312868854
         ]
        },
        {
         "hoverinfo": "text",
         "marker": {
          "color": "green",
          "opacity": 0.4,
          "size": 1.8750994431185362,
          "symbol": "cross-thin"
         },
         "mode": "markers",
         "name": "eustache → ottokar",
         "showlegend": false,
         "text": "<b>eustache → ottokar</b>:<br><br>Ich werd es dir vergelten.<br>Hör, mein Sohn, ich habe dir Entsetzliches zu sage[...]<br>Das eine wirst Du wissen schon, Jerome ist erschla[...]<br>Rupert Kennt deine Liebe. –<br>Jerome hat es mir vertraut, Mich riß ein übereilte[...]<br>O Gott, von deinem Vater.<br>–<br>Wenn sie in dem Gebirge jetzt, Ist sie verloren, e[...]<br>–<br>– Ottokar! Ottokar!<br>–<br>",
         "type": "scatter",
         "x": [
          0.16945573378487497
         ],
         "y": [
          -0.18758842502635872
         ]
        },
        {
         "hoverinfo": "text",
         "marker": {
          "color": "green",
          "opacity": 0.4,
          "size": 1.079554494828958,
          "symbol": "cross-thin"
         },
         "mode": "markers",
         "name": "eustache → agnes",
         "showlegend": false,
         "text": "<b>eustache → agnes</b>:<br><br>Zu Hülfe! Hülfe! Hülfe!<br>",
         "type": "scatter",
         "x": [
          0.07582328751209191
         ],
         "y": [
          -0.18160045423196963
         ]
        },
        {
         "hoverinfo": "text",
         "marker": {
          "color": "green",
          "opacity": 0.4,
          "size": 1.7159904534606205,
          "symbol": "cross-thin"
         },
         "mode": "markers",
         "name": "agnes → barnabe",
         "showlegend": false,
         "text": "<b>agnes → barnabe</b>:<br><br>– Geh noch einmal Hinaus, du Liebe, vor den Eingan[...]<br>Ach Gott! Hab Dank für deine Nachricht.<br>Siehst Du wirklich nichts? Du kennst ihn doch?<br>So sieh nur scharf hin auf den Weg.<br>Die Lichter schon? So ist's mir unbegreiflich.<br>Ich will nur lieber Heimkehren. Komm. Begleite mic[...]<br>War's auch gewiß vom Wasserfalle nur?<br>Ist's einer? Sind es zwei?<br>Jetzt Durch dieses Heer von Geistern geh ich nicht[...]<br>",
         "type": "scatter",
         "x": [
          -0.6728054000223154
         ],
         "y": [
          0.04499839661020442
         ]
        },
        {
         "hoverinfo": "text",
         "marker": {
          "color": "green",
          "opacity": 0.4,
          "size": 2.0342084327764516,
          "symbol": "cross-thin"
         },
         "mode": "markers",
         "name": "barnabe → agnes",
         "showlegend": false,
         "text": "<b>barnabe → agnes</b>:<br><br>Von Den beiden Rittern seh ich nichts.<br>Aber von Dem schönen Jüngling seh ich auch nichts.<br>Wie mich.<br>Es wird Sehr finster schon im Tal, aus allen Häuse[...]<br>Wenn einer käm, ich könnt es hören, so Geheimnis-s[...]<br>– – Ach, es war Ein Windstoß, der vom Wasserfalle [...]<br>–<br>Das hab ich nicht gestanden.<br>Es schien mir kürzlich fast, als schlichen zwei Ge[...]<br>O Ritter! Ritter!<br>Ich fürcht es fast.<br>Sie kommen! Ritter! Sie kommen!<br>Soeben gingen die zwei Ritter Herau<br>[...]",
         "type": "scatter",
         "x": [
          -0.7487162787910709
         ],
         "y": [
          -0.2801507311672274
         ]
        },
        {
         "hoverinfo": "text",
         "marker": {
          "color": "green",
          "opacity": 0.4,
          "size": 1.079554494828958,
          "symbol": "cross-thin"
         },
         "mode": "markers",
         "name": "santing → agnes",
         "showlegend": false,
         "text": "<b>santing → agnes</b>:<br><br>Komm!<br>",
         "type": "scatter",
         "x": [
          -0.011269062555350512
         ],
         "y": [
          -0.33032825954386164
         ]
        },
        {
         "hoverinfo": "text",
         "marker": {
          "color": "green",
          "opacity": 0.4,
          "size": 1.079554494828958,
          "symbol": "cross-thin"
         },
         "mode": "markers",
         "name": "barnabe → sylvester",
         "showlegend": false,
         "text": "<b>barnabe → sylvester</b>:<br><br>O Jammer! Gott des Himmels! Mein Fräulein! Sie ist[...]<br>",
         "type": "scatter",
         "x": [
          -0.7196079951709446
         ],
         "y": [
          -0.2656440039573765
         ]
        },
        {
         "hoverinfo": "text",
         "marker": {
          "color": "green",
          "opacity": 0.4,
          "size": 1.079554494828958,
          "symbol": "cross-thin"
         },
         "mode": "markers",
         "name": "agnes → theistiner",
         "showlegend": false,
         "text": "<b>agnes → theistiner</b>:<br><br>Ach!<br>",
         "type": "scatter",
         "x": [
          -0.6104207209752351
         ],
         "y": [
          0.017218667130895662
         ]
        },
        {
         "hoverinfo": "text",
         "marker": {
          "color": "green",
          "opacity": 0.4,
          "size": 1.079554494828958,
          "symbol": "cross-thin"
         },
         "mode": "markers",
         "name": "theistiner → ein_ritter",
         "showlegend": false,
         "text": "<b>theistiner → ein_ritter</b>:<br><br>Was bedeutet das?<br>",
         "type": "scatter",
         "x": [
          -0.15762592395199376
         ],
         "y": [
          -0.5689655654979137
         ]
        },
        {
         "hoverinfo": "text",
         "marker": {
          "color": "green",
          "opacity": 0.4,
          "size": 1.079554494828958,
          "symbol": "cross-thin"
         },
         "mode": "markers",
         "name": "ein_ritter → theistiner",
         "showlegend": false,
         "text": "<b>ein_ritter → theistiner</b>:<br><br>Ein guter Fund, Sylvester! Diese saubern Zwei Herr[...]<br>",
         "type": "scatter",
         "x": [
          -0.3437665302370349
         ],
         "y": [
          -0.331956754021272
         ]
        },
        {
         "hoverinfo": "text",
         "marker": {
          "color": "green",
          "opacity": 0.4,
          "size": 1.1591089896579156,
          "symbol": "cross-thin"
         },
         "mode": "markers",
         "name": "sylvester → rupert",
         "showlegend": false,
         "text": "<b>sylvester → rupert</b>:<br><br>O gefangen! Warum gefangen? Gott der Gerechtigkeit[...]<br>Er trägt sein eigen schneidend Schwert im Busen La[...]<br>",
         "type": "scatter",
         "x": [
          -0.3191581309690994
         ],
         "y": [
          0.1964782623828243
         ]
        },
        {
         "hoverinfo": "text",
         "marker": {
          "color": "green",
          "opacity": 0.4,
          "size": 1.2386634844868736,
          "symbol": "cross-thin"
         },
         "mode": "markers",
         "name": "rupert → sylvester",
         "showlegend": false,
         "text": "<b>rupert → sylvester</b>:<br><br>Mein Sohn! Mein Sohn! Ermordet! Zu meinem Sohne la[...]<br>Fehlte Petern nicht Der kleine Finger an der linke[...]<br>Ertrunken?<br>",
         "type": "scatter",
         "x": [
          0.10544645307776751
         ],
         "y": [
          -0.07737011600172435
         ]
        },
        {
         "hoverinfo": "text",
         "marker": {
          "color": "green",
          "opacity": 0.4,
          "size": 1.079554494828958,
          "symbol": "cross-thin"
         },
         "mode": "markers",
         "name": "rupert → gertrude",
         "showlegend": false,
         "text": "<b>rupert → gertrude</b>:<br><br>Ottokar!<br>",
         "type": "scatter",
         "x": [
          0.09226617805987367
         ],
         "y": [
          -0.08609176995139955
         ]
        },
        {
         "hoverinfo": "text",
         "marker": {
          "color": "green",
          "opacity": 0.4,
          "size": 1.079554494828958,
          "symbol": "cross-thin"
         },
         "mode": "markers",
         "name": "gertrude → eustache",
         "showlegend": false,
         "text": "<b>gertrude → eustache</b>:<br><br>Ritter, Ihr Männer! Ist es wahr? Wo ist sie? Wo? O[...]<br>",
         "type": "scatter",
         "x": [
          -0.43783781523520493
         ],
         "y": [
          0.10801408672237023
         ]
        },
        {
         "hoverinfo": "text",
         "marker": {
          "color": "green",
          "opacity": 0.4,
          "size": 1.1591089896579156,
          "symbol": "cross-thin"
         },
         "mode": "markers",
         "name": "eustache → sylvester",
         "showlegend": false,
         "text": "<b>eustache → sylvester</b>:<br><br>Seid ihr Männer, So laßt ein Weib unangerührt hind[...]<br>Agnes! Ottokar! Was soll Ich glauben –? O ich Unhe[...]<br>",
         "type": "scatter",
         "x": [
          0.10493157113221824
         ],
         "y": [
          -0.1670937270221187
         ]
        },
        {
         "hoverinfo": "text",
         "marker": {
          "color": "green",
          "opacity": 0.4,
          "size": 1.2386634844868736,
          "symbol": "cross-thin"
         },
         "mode": "markers",
         "name": "sylvester → eustache",
         "showlegend": false,
         "text": "<b>sylvester → eustache</b>:<br><br>Geh hin zu deinem Sohn.<br>Fackeln her! – Nein, wahrlich, nein! Das ist Nicht[...]<br>Dem Peter? Dem erschlagnen Knaben? Fangt Das Weib [...]<br>",
         "type": "scatter",
         "x": [
          -0.3192153400741604
         ],
         "y": [
          0.18650897226944713
         ]
        },
        {
         "hoverinfo": "text",
         "marker": {
          "color": "green",
          "opacity": 0.4,
          "size": 1.079554494828958,
          "symbol": "cross-thin"
         },
         "mode": "markers",
         "name": "eustache → sylvius",
         "showlegend": false,
         "text": "<b>eustache → sylvius</b>:<br><br>Wo ist er? – Jesus! Deine Tochter auch? – Sie sind[...]<br>",
         "type": "scatter",
         "x": [
          0.10536163915069337
         ],
         "y": [
          -0.1840214369565383
         ]
        },
        {
         "hoverinfo": "text",
         "marker": {
          "color": "green",
          "opacity": 0.4,
          "size": 1.7159904534606205,
          "symbol": "cross-thin"
         },
         "mode": "markers",
         "name": "sylvius → johann",
         "showlegend": false,
         "text": "<b>sylvius → johann</b>:<br><br>Wohin führst du mich, Knabe?<br>Weh! Weh! Im Wald die Blindheit, und ihr Hüter Der[...]<br>Wohlan. Ich folge dir.<br>Am Ziele schon? Bei meinem Erschlagnen Kindeskind?[...]<br>Weh! Hört denn Kein menschlich Ohr den Jammer eine[...]<br>Ist es noch weit?<br>–<br>Das ist nicht Agnes! – Das wäre Agnes, Knabe? Agne[...]<br>Noch eine Leiche? Knabe! Sind wir denn In einem Be[...]<br>",
         "type": "scatter",
         "x": [
          -0.33870159689911145
         ],
         "y": [
          0.07374468795340819
         ]
        },
        {
         "hoverinfo": "text",
         "marker": {
          "color": "green",
          "opacity": 0.4,
          "size": 1.7159904534606205,
          "symbol": "cross-thin"
         },
         "mode": "markers",
         "name": "johann → sylvius",
         "showlegend": false,
         "text": "<b>johann → sylvius</b>:<br><br>Sei nur getrost! Es ist der rechte Weg.<br>'s ist inwendig Verriegelt. Komm. Wir müssen vorwä[...]<br>Heißa lustig! Wir sind am Ziele.<br>Wir wollen uns dran niedersetzen, komm, Wie Geier [...]<br>Gib deine Hand, ich führe dich zu Agnes.<br>Beuge dich.<br>Das Mädchen war So gut, und o so schön.<br>Komm, Alter, komm. Dort ist Noch eine Leich, ich h[...]<br>Du toller Hund! Geh gleich fort! Ottokar Ist dort [...]<br>",
         "type": "scatter",
         "x": [
          -0.10485018177035223
         ],
         "y": [
          0.17224450888709888
         ]
        },
        {
         "hoverinfo": "text",
         "marker": {
          "color": "green",
          "opacity": 0.4,
          "size": 1.1591089896579156,
          "symbol": "cross-thin"
         },
         "mode": "markers",
         "name": "johann → sylvester",
         "showlegend": false,
         "text": "<b>johann → sylvester</b>:<br><br>Ah! Der Skorpion! 's ist Ottokar!<br>Lustig, Alter! Sie ist's! 's ist Agnes!<br>",
         "type": "scatter",
         "x": [
          -0.10528024978882736
         ],
         "y": [
          0.1891722188215185
         ]
        },
        {
         "hoverinfo": "text",
         "marker": {
          "color": "green",
          "opacity": 0.4,
          "size": 1.079554494828958,
          "symbol": "cross-thin"
         },
         "mode": "markers",
         "name": "sylvius → sylvester",
         "showlegend": false,
         "text": "<b>sylvius → sylvester</b>:<br><br>Sylvester! Wo ist denn Agnes' Leiche? Führ mich zu[...]<br>",
         "type": "scatter",
         "x": [
          -0.3683630918086815
         ],
         "y": [
          0.07835992027111645
         ]
        },
        {
         "hoverinfo": "text",
         "marker": {
          "color": "green",
          "opacity": 0.4,
          "size": 1.1591089896579156,
          "symbol": "cross-thin"
         },
         "mode": "markers",
         "name": "sylvester → johann",
         "showlegend": false,
         "text": "<b>sylvester → johann</b>:<br><br>Unglücklicher! Sie ist ja nicht ermordet?<br>Agnes!<br>",
         "type": "scatter",
         "x": [
          -0.3425722090653877
         ],
         "y": [
          0.2260940773631846
         ]
        },
        {
         "hoverinfo": "text",
         "marker": {
          "color": "green",
          "opacity": 0.4,
          "size": 1.2386634844868736,
          "symbol": "cross-thin"
         },
         "mode": "markers",
         "name": "johann → rupert",
         "showlegend": false,
         "text": "<b>johann → rupert</b>:<br><br>Du Scheusal! Fort!<br>Versehen? Ein Versehen? Schade! Schade! Die arme A[...]<br>Papa hat es nicht gern getan, Papa Wird es nicht m[...]<br>",
         "type": "scatter",
         "x": [
          -0.052204676782969
         ],
         "y": [
          0.1549411715234499
         ]
        },
        {
         "hoverinfo": "text",
         "marker": {
          "color": "green",
          "opacity": 0.4,
          "size": 1.3182179793158313,
          "symbol": "cross-thin"
         },
         "mode": "markers",
         "name": "rupert → johann",
         "showlegend": false,
         "text": "<b>rupert → johann</b>:<br><br>– Sehr gefährlich ist's, Der Ohnmacht eines Rasend[...]<br>Johann! Mein Knäblein! Schweige still, dein Wort I[...]<br>Sylvester! Selbst bin ich ein Kinderloser! Sylvest[...]<br>Tritt ab.<br>",
         "type": "scatter",
         "x": [
          0.13510794798733755
         ],
         "y": [
          -0.08198534831943262
         ]
        },
        {
         "hoverinfo": "text",
         "marker": {
          "color": "green",
          "opacity": 0.4,
          "size": 1.079554494828958,
          "symbol": "cross-thin"
         },
         "mode": "markers",
         "name": "sylvius → eustache",
         "showlegend": false,
         "text": "<b>sylvius → eustache</b>:<br><br>O meine Agnes! O mein Kindeskind!<br>",
         "type": "scatter",
         "x": [
          -0.31534472790788415
         ],
         "y": [
          0.03415958285967072
         ]
        },
        {
         "hoverinfo": "text",
         "marker": {
          "color": "green",
          "opacity": 0.4,
          "size": 1.2386634844868736,
          "symbol": "cross-thin"
         },
         "mode": "markers",
         "name": "rupert → ursula",
         "showlegend": false,
         "text": "<b>rupert → ursula</b>:<br><br>Ich selbst! Ich selbst! Zweimal die Brust durchboh[...]<br>Unbegreiflich!<br>Ich fand zwei Reisige aus Warwand.<br>",
         "type": "scatter",
         "x": [
          0.08290216754144805
         ],
         "y": [
          -0.14314569788558068
         ]
        },
        {
         "hoverinfo": "text",
         "marker": {
          "color": "green",
          "opacity": 0.4,
          "size": 1.079554494828958,
          "symbol": "cross-thin"
         },
         "mode": "markers",
         "name": "ursula → alle_5-1",
         "showlegend": false,
         "text": "<b>ursula → alle_5-1</b>:<br><br>Hier <br>",
         "type": "scatter",
         "x": [
          -0.5749351196060807
         ],
         "y": [
          -0.43517569849912585
         ]
        },
        {
         "hoverinfo": "text",
         "marker": {
          "color": "green",
          "opacity": 0.4,
          "size": 1.079554494828958,
          "symbol": "cross-thin"
         },
         "mode": "markers",
         "name": "alle_5-1 → eustache",
         "showlegend": false,
         "text": "<b>alle_5-1 → eustache</b>:<br><br>Was war das? Welche seltsame Erscheinung?<br>",
         "type": "scatter",
         "x": [
          -0.3174409523123908
         ],
         "y": [
          -0.4786339687583603
         ]
        },
        {
         "hoverinfo": "text",
         "marker": {
          "color": "green",
          "opacity": 0.4,
          "size": 1.079554494828958,
          "symbol": "cross-thin"
         },
         "mode": "markers",
         "name": "ursula → sylvester",
         "showlegend": false,
         "text": "<b>ursula → sylvester</b>:<br><br>Gnade! Gnade! Gnade!<br>",
         "type": "scatter",
         "x": [
          -0.5751322738018328
         ],
         "y": [
          -0.36127092727381394
         ]
        },
        {
         "hoverinfo": "text",
         "marker": {
          "color": "green",
          "opacity": 0.4,
          "size": 1.1591089896579156,
          "symbol": "cross-thin"
         },
         "mode": "markers",
         "name": "sylvester → ursula",
         "showlegend": false,
         "text": "<b>sylvester → ursula</b>:<br><br>Wie kamst du, Weib, zu diesem Finger?<br>Und warum schnittst du ihm den Finger ab?<br>",
         "type": "scatter",
         "x": [
          -0.3947779895112772
         ],
         "y": [
          0.16493372779703655
         ]
        },
        {
         "hoverinfo": "text",
         "marker": {
          "color": "green",
          "opacity": 0.4,
          "size": 1.2386634844868736,
          "symbol": "cross-thin"
         },
         "mode": "markers",
         "name": "ursula → rupert",
         "showlegend": false,
         "text": "<b>ursula → rupert</b>:<br><br>Gnade! Das Kind, dem ich ihn abgeschnitten, ist Er[...]<br>Gnade! Wenn's dein Sohn ist, Wie meine Tochter sag[...]<br>Gott sei Dank! So seid ihr nun versöhnt.<br>",
         "type": "scatter",
         "x": [
          -0.5220567007959744
         ],
         "y": [
          -0.3955019745718825
         ]
        },
        {
         "hoverinfo": "text",
         "marker": {
          "color": "green",
          "opacity": 0.4,
          "size": 1.1591089896579156,
          "symbol": "cross-thin"
         },
         "mode": "markers",
         "name": "ursula → johann",
         "showlegend": false,
         "text": "<b>ursula → johann</b>:<br><br>Die kamen später zu dem Kind als ich, Ihm auch den[...]<br>'s ist abgetan, mein Wenn ihr euch totschlagt, ist[...]<br>",
         "type": "scatter",
         "x": [
          -0.5454707788922628
         ],
         "y": [
          -0.36588615959152215
         ]
        },
        {
         "hoverinfo": "text",
         "marker": {
          "color": "green",
          "opacity": 0.4,
          "size": 1.1591089896579156,
          "symbol": "cross-thin"
         },
         "mode": "markers",
         "name": "johann → ursula",
         "showlegend": false,
         "text": "<b>johann → ursula</b>:<br><br>Was willst du, alte Hexe?<br>Schurken! Wein! Wir wollen eins drauf trinken!<br>",
         "type": "scatter",
         "x": [
          -0.12782453532514682
         ],
         "y": [
          0.12339663693766217
         ]
        },
        {
         "hoverinfo": "text",
         "legendgroup": "chor_der_maedchen",
         "marker": {
          "color": "blue",
          "opacity": 0.5,
          "size": 3
         },
         "mode": "markers+text",
         "opacity": 0.5,
         "showlegend": false,
         "text": "chor_der_maedchen",
         "textfont": {
          "size": 4
         },
         "type": "scatter",
         "x": [
          0.6893631754005448
         ],
         "y": [
          0.27012959002182513
         ]
        },
        {
         "hoverinfo": "text",
         "legendgroup": "chor_der_juenglinge",
         "marker": {
          "color": "blue",
          "opacity": 0.5,
          "size": 3
         },
         "mode": "markers+text",
         "opacity": 0.5,
         "showlegend": false,
         "text": "chor_der_juenglinge",
         "textfont": {
          "size": 4
         },
         "type": "scatter",
         "x": [
          0.6428506508991912
         ],
         "y": [
          0.47513768752599617
         ]
        },
        {
         "hoverinfo": "text",
         "legendgroup": "rupert",
         "marker": {
          "color": "blue",
          "opacity": 0.5,
          "size": 45
         },
         "mode": "markers+text",
         "opacity": 0.5,
         "showlegend": false,
         "text": "rupert",
         "textfont": {
          "size": 18
         },
         "type": "scatter",
         "x": [
          0.15852202608362587
         ],
         "y": [
          -0.11160116329979293
         ]
        },
        {
         "hoverinfo": "text",
         "legendgroup": "ottokar",
         "marker": {
          "color": "blue",
          "opacity": 0.5,
          "size": 21
         },
         "mode": "markers+text",
         "opacity": 0.5,
         "showlegend": false,
         "text": "ottokar",
         "textfont": {
          "size": 10
         },
         "type": "scatter",
         "x": [
          0.2730079225516097
         ],
         "y": [
          0.02576232963849259
         ]
        },
        {
         "hoverinfo": "text",
         "legendgroup": "eustache",
         "marker": {
          "color": "blue",
          "opacity": 0.5,
          "size": 27
         },
         "mode": "markers+text",
         "opacity": 0.5,
         "showlegend": false,
         "text": "eustache",
         "textfont": {
          "size": 12
         },
         "type": "scatter",
         "x": [
          0.15794993503301555
         ],
         "y": [
          -0.21129406443356444
         ]
        },
        {
         "hoverinfo": "text",
         "legendgroup": "jeronimus",
         "marker": {
          "color": "blue",
          "opacity": 0.5,
          "size": 30
         },
         "mode": "markers+text",
         "opacity": 0.5,
         "showlegend": false,
         "text": "jeronimus",
         "textfont": {
          "size": 13
         },
         "type": "scatter",
         "x": [
          0.11987714696755482
         ],
         "y": [
          0.3596944311525341
         ]
        },
        {
         "hoverinfo": "text",
         "legendgroup": "kirchenvogt",
         "marker": {
          "color": "blue",
          "opacity": 0.5,
          "size": 3
         },
         "mode": "markers+text",
         "opacity": 0.5,
         "showlegend": false,
         "text": "kirchenvogt",
         "textfont": {
          "size": 4
         },
         "type": "scatter",
         "x": [
          0.4816195681573746
         ],
         "y": [
          0.6208273887846426
         ]
        },
        {
         "hoverinfo": "text",
         "legendgroup": "ein_diener_1-1",
         "marker": {
          "color": "blue",
          "opacity": 0.5,
          "size": 3
         },
         "mode": "markers+text",
         "opacity": 0.5,
         "showlegend": false,
         "text": "ein_diener_1-1",
         "textfont": {
          "size": 4
         },
         "type": "scatter",
         "x": [
          0.2718200694555047
         ],
         "y": [
          0.6891212709220258
         ]
        },
        {
         "hoverinfo": "text",
         "legendgroup": "johann",
         "marker": {
          "color": "blue",
          "opacity": 0.5,
          "size": 18
         },
         "mode": "markers+text",
         "opacity": 0.5,
         "showlegend": false,
         "text": "johann",
         "textfont": {
          "size": 9
         },
         "type": "scatter",
         "x": [
          -0.07561875487925733
         ],
         "y": [
          0.18455698650381022
         ]
        },
        {
         "hoverinfo": "text",
         "legendgroup": "sylvius",
         "marker": {
          "color": "blue",
          "opacity": 0.5,
          "size": 18
         },
         "mode": "markers+text",
         "opacity": 0.5,
         "showlegend": false,
         "text": "sylvius",
         "textfont": {
          "size": 9
         },
         "type": "scatter",
         "x": [
          -0.3679330237902063
         ],
         "y": [
          0.061432210336696845
         ]
        },
        {
         "hoverinfo": "text",
         "legendgroup": "agnes",
         "marker": {
          "color": "blue",
          "opacity": 0.5,
          "size": 27
         },
         "mode": "markers+text",
         "opacity": 0.5,
         "showlegend": false,
         "text": "agnes",
         "textfont": {
          "size": 12
         },
         "type": "scatter",
         "x": [
          -0.6633165401762209
         ],
         "y": [
          0.0856420375823834
         ]
        },
        {
         "hoverinfo": "text",
         "legendgroup": "gertrude",
         "marker": {
          "color": "blue",
          "opacity": 0.5,
          "size": 21
         },
         "mode": "markers+text",
         "opacity": 0.5,
         "showlegend": false,
         "text": "gertrude",
         "textfont": {
          "size": 10
         },
         "type": "scatter",
         "x": [
          -0.5040364541538961
         ],
         "y": [
          0.14349277018414075
         ]
        },
        {
         "hoverinfo": "text",
         "legendgroup": "sylvester",
         "marker": {
          "color": "blue",
          "opacity": 0.5,
          "size": 45
         },
         "mode": "markers+text",
         "opacity": 0.5,
         "showlegend": false,
         "text": "sylvester",
         "textfont": {
          "size": 18
         },
         "type": "scatter",
         "x": [
          -0.3722337039749577
         ],
         "y": [
          0.23070930968089287
         ]
        },
        {
         "hoverinfo": "text",
         "legendgroup": "gaertner",
         "marker": {
          "color": "blue",
          "opacity": 0.5,
          "size": 3
         },
         "mode": "markers+text",
         "opacity": 0.5,
         "showlegend": false,
         "text": "gaertner",
         "textfont": {
          "size": 4
         },
         "type": "scatter",
         "x": [
          -0.22809852688752077
         ],
         "y": [
          0.8394833833437474
         ]
        },
        {
         "hoverinfo": "text",
         "legendgroup": "ein_knappe",
         "marker": {
          "color": "blue",
          "opacity": 0.5,
          "size": 3
         },
         "mode": "markers+text",
         "opacity": 0.5,
         "showlegend": false,
         "text": "ein_knappe",
         "textfont": {
          "size": 4
         },
         "type": "scatter",
         "x": [
          -0.46105251409487097
         ],
         "y": [
          0.8104293708137084
         ]
        },
        {
         "hoverinfo": "text",
         "legendgroup": "aldoebern",
         "marker": {
          "color": "blue",
          "opacity": 0.5,
          "size": 3
         },
         "mode": "markers+text",
         "opacity": 0.5,
         "showlegend": false,
         "text": "aldoebern",
         "textfont": {
          "size": 4
         },
         "type": "scatter",
         "x": [
          -0.6821194093573768
         ],
         "y": [
          0.6837531407188645
         ]
        },
        {
         "hoverinfo": "text",
         "legendgroup": "theistiner",
         "marker": {
          "color": "blue",
          "opacity": 0.5,
          "size": 9
         },
         "mode": "markers+text",
         "opacity": 0.5,
         "showlegend": false,
         "text": "theistiner",
         "textfont": {
          "size": 6
         },
         "type": "scatter",
         "x": [
          -0.13435834816636363
         ],
         "y": [
          -0.5985916669324939
         ]
        },
        {
         "hoverinfo": "text",
         "legendgroup": "ein_diener_2-3",
         "marker": {
          "color": "blue",
          "opacity": 0.5,
          "size": 6
         },
         "mode": "markers+text",
         "opacity": 0.5,
         "showlegend": false,
         "text": "ein_diener_2-3",
         "textfont": {
          "size": 5
         },
         "type": "scatter",
         "x": [
          -0.8119224187558353
         ],
         "y": [
          0.5296226138744882
         ]
        },
        {
         "hoverinfo": "text",
         "legendgroup": "santing",
         "marker": {
          "color": "blue",
          "opacity": 0.5,
          "size": 12
         },
         "mode": "markers+text",
         "opacity": 0.5,
         "showlegend": false,
         "text": "santing",
         "textfont": {
          "size": 7
         },
         "type": "scatter",
         "x": [
          0.06118065718030175
         ],
         "y": [
          -0.37654718144677773
         ]
        },
        {
         "hoverinfo": "text",
         "legendgroup": "ein_diener_3-2",
         "marker": {
          "color": "blue",
          "opacity": 0.5,
          "size": 3
         },
         "mode": "markers+text",
         "opacity": 0.5,
         "showlegend": false,
         "text": "ein_diener_3-2",
         "textfont": {
          "size": 4
         },
         "type": "scatter",
         "x": [
          0.5993253687359638
         ],
         "y": [
          -0.44293204311128104
         ]
        },
        {
         "hoverinfo": "text",
         "legendgroup": "der_wanderer",
         "marker": {
          "color": "blue",
          "opacity": 0.5,
          "size": 3
         },
         "mode": "markers+text",
         "opacity": 0.5,
         "showlegend": false,
         "text": "der_wanderer",
         "textfont": {
          "size": 4
         },
         "type": "scatter",
         "x": [
          0.7711730888841103
         ],
         "y": [
          -0.1988243915830265
         ]
        },
        {
         "hoverinfo": "text",
         "legendgroup": "zweiter_wanderer",
         "marker": {
          "color": "blue",
          "opacity": 0.5,
          "size": 3
         },
         "mode": "markers+text",
         "opacity": 0.5,
         "showlegend": false,
         "text": "zweiter_wanderer",
         "textfont": {
          "size": 4
         },
         "type": "scatter",
         "x": [
          0.7772503926819285
         ],
         "y": [
          0.05104419631268521
         ]
        },
        {
         "hoverinfo": "text",
         "legendgroup": "die_kammerzofe",
         "marker": {
          "color": "blue",
          "opacity": 0.5,
          "size": 6
         },
         "mode": "markers+text",
         "opacity": 0.5,
         "showlegend": false,
         "text": "die_kammerzofe",
         "textfont": {
          "size": 5
         },
         "type": "scatter",
         "x": [
          0.09015422320494652
         ],
         "y": [
          -1
         ]
        },
        {
         "hoverinfo": "text",
         "legendgroup": "ein_diener_4-1",
         "marker": {
          "color": "blue",
          "opacity": 0.5,
          "size": 3
         },
         "mode": "markers+text",
         "opacity": 0.5,
         "showlegend": false,
         "text": "ein_diener_4-1",
         "textfont": {
          "size": 4
         },
         "type": "scatter",
         "x": [
          0.4452389232238448
         ],
         "y": [
          -0.9010088601234133
         ]
        },
        {
         "hoverinfo": "text",
         "legendgroup": "barnabe",
         "marker": {
          "color": "blue",
          "opacity": 0.5,
          "size": 18
         },
         "mode": "markers+text",
         "opacity": 0.5,
         "showlegend": false,
         "text": "barnabe",
         "textfont": {
          "size": 9
         },
         "type": "scatter",
         "x": [
          -0.7582051386371653
         ],
         "y": [
          -0.32079437213940637
         ]
        },
        {
         "hoverinfo": "text",
         "legendgroup": "ursula",
         "marker": {
          "color": "blue",
          "opacity": 0.5,
          "size": 15
         },
         "mode": "markers+text",
         "opacity": 0.5,
         "showlegend": false,
         "text": "ursula",
         "textfont": {
          "size": 8
         },
         "type": "scatter",
         "x": [
          -0.5976765593381522
         ],
         "y": [
          -0.42704650915767023
         ]
        },
        {
         "hoverinfo": "text",
         "legendgroup": "fintenring",
         "marker": {
          "color": "blue",
          "opacity": 0.5,
          "size": 3
         },
         "mode": "markers+text",
         "opacity": 0.5,
         "showlegend": false,
         "text": "fintenring",
         "textfont": {
          "size": 4
         },
         "type": "scatter",
         "x": [
          0.8545345117924076
         ],
         "y": [
          -0.6615294100105895
         ]
        },
        {
         "hoverinfo": "text",
         "legendgroup": "ein_ritter",
         "marker": {
          "color": "blue",
          "opacity": 0.5,
          "size": 3
         },
         "mode": "markers+text",
         "opacity": 0.5,
         "showlegend": false,
         "text": "ein_ritter",
         "textfont": {
          "size": 4
         },
         "type": "scatter",
         "x": [
          -0.36703410602266506
         ],
         "y": [
          -0.30233065258669184
         ]
        },
        {
         "hoverinfo": "text",
         "legendgroup": "alle_5-1",
         "marker": {
          "color": "blue",
          "opacity": 0.5,
          "size": 3
         },
         "mode": "markers+text",
         "opacity": 0.5,
         "showlegend": false,
         "text": "alle_5-1",
         "textfont": {
          "size": 4
         },
         "type": "scatter",
         "x": [
          -0.3702621620174359
         ],
         "y": [
          -0.5083384025722265
         ]
        },
        {
         "hoverinfo": "text",
         "legendgroup": "ursula",
         "marker": {
          "color": "red",
          "opacity": 0.5,
          "size": 3
         },
         "mode": "markers",
         "opacity": 0.5,
         "showlegend": false,
         "text": "CHOR_DER_MAEDCHEN<br>indegree: 1<br>outdegree: 1",
         "type": "scatter",
         "x": [
          0.6893631754005448
         ],
         "y": [
          0.27012959002182513
         ]
        },
        {
         "hoverinfo": "text",
         "legendgroup": "ursula",
         "marker": {
          "color": "red",
          "opacity": 0.5,
          "size": 6
         },
         "mode": "markers",
         "opacity": 0.5,
         "showlegend": false,
         "text": "CHOR_DER_JUENGLINGE<br>indegree: 2<br>outdegree: 1",
         "type": "scatter",
         "x": [
          0.6428506508991912
         ],
         "y": [
          0.47513768752599617
         ]
        },
        {
         "hoverinfo": "text",
         "legendgroup": "ursula",
         "marker": {
          "color": "red",
          "opacity": 0.5,
          "size": 45
         },
         "mode": "markers",
         "opacity": 0.5,
         "showlegend": false,
         "text": "RUPERT<br>indegree: 15<br>outdegree: 15",
         "type": "scatter",
         "x": [
          0.15852202608362587
         ],
         "y": [
          -0.11160116329979293
         ]
        },
        {
         "hoverinfo": "text",
         "legendgroup": "ursula",
         "marker": {
          "color": "red",
          "opacity": 0.5,
          "size": 30
         },
         "mode": "markers",
         "opacity": 0.5,
         "showlegend": false,
         "text": "OTTOKAR<br>indegree: 10<br>outdegree: 7",
         "type": "scatter",
         "x": [
          0.2730079225516097
         ],
         "y": [
          0.02576232963849259
         ]
        },
        {
         "hoverinfo": "text",
         "legendgroup": "ursula",
         "marker": {
          "color": "red",
          "opacity": 0.5,
          "size": 27
         },
         "mode": "markers",
         "opacity": 0.5,
         "showlegend": false,
         "text": "EUSTACHE<br>indegree: 9<br>outdegree: 9",
         "type": "scatter",
         "x": [
          0.15794993503301555
         ],
         "y": [
          -0.21129406443356444
         ]
        },
        {
         "hoverinfo": "text",
         "legendgroup": "ursula",
         "marker": {
          "color": "red",
          "opacity": 0.5,
          "size": 21
         },
         "mode": "markers",
         "opacity": 0.5,
         "showlegend": false,
         "text": "JERONIMUS<br>indegree: 7<br>outdegree: 10",
         "type": "scatter",
         "x": [
          0.11987714696755482
         ],
         "y": [
          0.3596944311525341
         ]
        },
        {
         "hoverinfo": "text",
         "legendgroup": "ursula",
         "marker": {
          "color": "red",
          "opacity": 0.5,
          "size": 6
         },
         "mode": "markers",
         "opacity": 0.5,
         "showlegend": false,
         "text": "KIRCHENVOGT<br>indegree: 2<br>outdegree: 1",
         "type": "scatter",
         "x": [
          0.4816195681573746
         ],
         "y": [
          0.6208273887846426
         ]
        },
        {
         "hoverinfo": "text",
         "legendgroup": "ursula",
         "marker": {
          "color": "red",
          "opacity": 0.5,
          "size": 3
         },
         "mode": "markers",
         "opacity": 0.5,
         "showlegend": false,
         "text": "EIN_DIENER_1-1<br>indegree: 1<br>outdegree: 1",
         "type": "scatter",
         "x": [
          0.2718200694555047
         ],
         "y": [
          0.6891212709220258
         ]
        },
        {
         "hoverinfo": "text",
         "legendgroup": "ursula",
         "marker": {
          "color": "red",
          "opacity": 0.5,
          "size": 24
         },
         "mode": "markers",
         "opacity": 0.5,
         "showlegend": false,
         "text": "JOHANN<br>indegree: 8<br>outdegree: 6",
         "type": "scatter",
         "x": [
          -0.07561875487925733
         ],
         "y": [
          0.18455698650381022
         ]
        },
        {
         "hoverinfo": "text",
         "legendgroup": "ursula",
         "marker": {
          "color": "red",
          "opacity": 0.5,
          "size": 15
         },
         "mode": "markers",
         "opacity": 0.5,
         "showlegend": false,
         "text": "SYLVIUS<br>indegree: 5<br>outdegree: 6",
         "type": "scatter",
         "x": [
          -0.3679330237902063
         ],
         "y": [
          0.061432210336696845
         ]
        },
        {
         "hoverinfo": "text",
         "legendgroup": "ursula",
         "marker": {
          "color": "red",
          "opacity": 0.5,
          "size": 27
         },
         "mode": "markers",
         "opacity": 0.5,
         "showlegend": false,
         "text": "AGNES<br>indegree: 9<br>outdegree: 9",
         "type": "scatter",
         "x": [
          -0.6633165401762209
         ],
         "y": [
          0.0856420375823834
         ]
        },
        {
         "hoverinfo": "text",
         "legendgroup": "ursula",
         "marker": {
          "color": "red",
          "opacity": 0.5,
          "size": 21
         },
         "mode": "markers",
         "opacity": 0.5,
         "showlegend": false,
         "text": "GERTRUDE<br>indegree: 7<br>outdegree: 7",
         "type": "scatter",
         "x": [
          -0.5040364541538961
         ],
         "y": [
          0.14349277018414075
         ]
        },
        {
         "hoverinfo": "text",
         "legendgroup": "ursula",
         "marker": {
          "color": "red",
          "opacity": 0.5,
          "size": 42
         },
         "mode": "markers",
         "opacity": 0.5,
         "showlegend": false,
         "text": "SYLVESTER<br>indegree: 14<br>outdegree: 15",
         "type": "scatter",
         "x": [
          -0.3722337039749577
         ],
         "y": [
          0.23070930968089287
         ]
        },
        {
         "hoverinfo": "text",
         "legendgroup": "ursula",
         "marker": {
          "color": "red",
          "opacity": 0.5,
          "size": 3
         },
         "mode": "markers",
         "opacity": 0.5,
         "showlegend": false,
         "text": "GAERTNER<br>indegree: 1<br>outdegree: 1",
         "type": "scatter",
         "x": [
          -0.22809852688752077
         ],
         "y": [
          0.8394833833437474
         ]
        },
        {
         "hoverinfo": "text",
         "legendgroup": "ursula",
         "marker": {
          "color": "red",
          "opacity": 0.5,
          "size": 3
         },
         "mode": "markers",
         "opacity": 0.5,
         "showlegend": false,
         "text": "EIN_KNAPPE<br>indegree: 1<br>outdegree: 1",
         "type": "scatter",
         "x": [
          -0.46105251409487097
         ],
         "y": [
          0.8104293708137084
         ]
        },
        {
         "hoverinfo": "text",
         "legendgroup": "ursula",
         "marker": {
          "color": "red",
          "opacity": 0.5,
          "size": 3
         },
         "mode": "markers",
         "opacity": 0.5,
         "showlegend": false,
         "text": "ALDOEBERN<br>indegree: 1<br>outdegree: 1",
         "type": "scatter",
         "x": [
          -0.6821194093573768
         ],
         "y": [
          0.6837531407188645
         ]
        },
        {
         "hoverinfo": "text",
         "legendgroup": "ursula",
         "marker": {
          "color": "red",
          "opacity": 0.5,
          "size": 6
         },
         "mode": "markers",
         "opacity": 0.5,
         "showlegend": false,
         "text": "THEISTINER<br>indegree: 2<br>outdegree: 3",
         "type": "scatter",
         "x": [
          -0.13435834816636363
         ],
         "y": [
          -0.5985916669324939
         ]
        },
        {
         "hoverinfo": "text",
         "legendgroup": "ursula",
         "marker": {
          "color": "red",
          "opacity": 0.5,
          "size": 6
         },
         "mode": "markers",
         "opacity": 0.5,
         "showlegend": false,
         "text": "EIN_DIENER_2-3<br>indegree: 2<br>outdegree: 2",
         "type": "scatter",
         "x": [
          -0.8119224187558353
         ],
         "y": [
          0.5296226138744882
         ]
        },
        {
         "hoverinfo": "text",
         "legendgroup": "ursula",
         "marker": {
          "color": "red",
          "opacity": 0.5,
          "size": 12
         },
         "mode": "markers",
         "opacity": 0.5,
         "showlegend": false,
         "text": "SANTING<br>indegree: 4<br>outdegree: 4",
         "type": "scatter",
         "x": [
          0.06118065718030175
         ],
         "y": [
          -0.37654718144677773
         ]
        },
        {
         "hoverinfo": "text",
         "legendgroup": "ursula",
         "marker": {
          "color": "red",
          "opacity": 0.5,
          "size": 3
         },
         "mode": "markers",
         "opacity": 0.5,
         "showlegend": false,
         "text": "EIN_DIENER_3-2<br>indegree: 1<br>outdegree: 1",
         "type": "scatter",
         "x": [
          0.5993253687359638
         ],
         "y": [
          -0.44293204311128104
         ]
        },
        {
         "hoverinfo": "text",
         "legendgroup": "ursula",
         "marker": {
          "color": "red",
          "opacity": 0.5,
          "size": 3
         },
         "mode": "markers",
         "opacity": 0.5,
         "showlegend": false,
         "text": "DER_WANDERER<br>indegree: 1<br>outdegree: 1",
         "type": "scatter",
         "x": [
          0.7711730888841103
         ],
         "y": [
          -0.1988243915830265
         ]
        },
        {
         "hoverinfo": "text",
         "legendgroup": "ursula",
         "marker": {
          "color": "red",
          "opacity": 0.5,
          "size": 3
         },
         "mode": "markers",
         "opacity": 0.5,
         "showlegend": false,
         "text": "ZWEITER_WANDERER<br>indegree: 1<br>outdegree: 1",
         "type": "scatter",
         "x": [
          0.7772503926819285
         ],
         "y": [
          0.05104419631268521
         ]
        },
        {
         "hoverinfo": "text",
         "legendgroup": "ursula",
         "marker": {
          "color": "red",
          "opacity": 0.5,
          "size": 6
         },
         "mode": "markers",
         "opacity": 0.5,
         "showlegend": false,
         "text": "DIE_KAMMERZOFE<br>indegree: 2<br>outdegree: 2",
         "type": "scatter",
         "x": [
          0.09015422320494652
         ],
         "y": [
          -1
         ]
        },
        {
         "hoverinfo": "text",
         "legendgroup": "ursula",
         "marker": {
          "color": "red",
          "opacity": 0.5,
          "size": 3
         },
         "mode": "markers",
         "opacity": 0.5,
         "showlegend": false,
         "text": "EIN_DIENER_4-1<br>indegree: 1<br>outdegree: 1",
         "type": "scatter",
         "x": [
          0.4452389232238448
         ],
         "y": [
          -0.9010088601234133
         ]
        },
        {
         "hoverinfo": "text",
         "legendgroup": "ursula",
         "marker": {
          "color": "red",
          "opacity": 0.5,
          "size": 15
         },
         "mode": "markers",
         "opacity": 0.5,
         "showlegend": false,
         "text": "BARNABE<br>indegree: 5<br>outdegree: 6",
         "type": "scatter",
         "x": [
          -0.7582051386371653
         ],
         "y": [
          -0.32079437213940637
         ]
        },
        {
         "hoverinfo": "text",
         "legendgroup": "ursula",
         "marker": {
          "color": "red",
          "opacity": 0.5,
          "size": 15
         },
         "mode": "markers",
         "opacity": 0.5,
         "showlegend": false,
         "text": "URSULA<br>indegree: 5<br>outdegree: 5",
         "type": "scatter",
         "x": [
          -0.5976765593381522
         ],
         "y": [
          -0.42704650915767023
         ]
        },
        {
         "hoverinfo": "text",
         "legendgroup": "ursula",
         "marker": {
          "color": "red",
          "opacity": 0.5,
          "size": 3
         },
         "mode": "markers",
         "opacity": 0.5,
         "showlegend": false,
         "text": "FINTENRING<br>indegree: 1<br>outdegree: 1",
         "type": "scatter",
         "x": [
          0.8545345117924076
         ],
         "y": [
          -0.6615294100105895
         ]
        },
        {
         "hoverinfo": "text",
         "legendgroup": "ursula",
         "marker": {
          "color": "red",
          "opacity": 0.5,
          "size": 3
         },
         "mode": "markers",
         "opacity": 0.5,
         "showlegend": false,
         "text": "EIN_RITTER<br>indegree: 1<br>outdegree: 1",
         "type": "scatter",
         "x": [
          -0.36703410602266506
         ],
         "y": [
          -0.30233065258669184
         ]
        },
        {
         "hoverinfo": "text",
         "legendgroup": "ursula",
         "marker": {
          "color": "red",
          "opacity": 0.5,
          "size": 3
         },
         "mode": "markers",
         "opacity": 0.5,
         "showlegend": false,
         "text": "ALLE_5-1<br>indegree: 1<br>outdegree: 1",
         "type": "scatter",
         "x": [
          -0.3702621620174359
         ],
         "y": [
          -0.5083384025722265
         ]
        }
       ],
       "layout": {
        "annotations": [
         {
          "arrowcolor": "green",
          "arrowhead": 1,
          "arrowsize": 0.3,
          "arrowwidth": 1.2386634844868736,
          "ax": 0.6893631754005448,
          "axref": "x",
          "ay": 0.27012959002182513,
          "ayref": "y",
          "opacity": 0.5,
          "showarrow": true,
          "text": "",
          "x": 0.6428506508991912,
          "xref": "x",
          "y": 0.47513768752599617,
          "yref": "y"
         },
         {
          "arrowcolor": "green",
          "arrowhead": 1,
          "arrowsize": 0.3,
          "arrowwidth": 1.1591089896579156,
          "ax": 0.6428506508991912,
          "axref": "x",
          "ay": 0.47513768752599617,
          "ayref": "y",
          "opacity": 0.5,
          "showarrow": true,
          "text": "",
          "x": 0.6893631754005448,
          "xref": "x",
          "y": 0.27012959002182513,
          "yref": "y"
         },
         {
          "arrowcolor": "green",
          "arrowhead": 1,
          "arrowsize": 0.3,
          "arrowwidth": 1.079554494828958,
          "ax": 0.6428506508991912,
          "axref": "x",
          "ay": 0.47513768752599617,
          "ayref": "y",
          "opacity": 0.5,
          "showarrow": true,
          "text": "",
          "x": 0.15852202608362587,
          "xref": "x",
          "y": -0.11160116329979293,
          "yref": "y"
         },
         {
          "arrowcolor": "green",
          "arrowhead": 1,
          "arrowsize": 0.3,
          "arrowwidth": 1.3977724741447892,
          "ax": 0.15852202608362587,
          "axref": "x",
          "ay": -0.11160116329979293,
          "ayref": "y",
          "opacity": 0.5,
          "showarrow": true,
          "text": "",
          "x": 0.2730079225516097,
          "xref": "x",
          "y": 0.02576232963849259,
          "yref": "y"
         },
         {
          "arrowcolor": "green",
          "arrowhead": 1,
          "arrowsize": 0.3,
          "arrowwidth": 1.3977724741447892,
          "ax": 0.2730079225516097,
          "axref": "x",
          "ay": 0.02576232963849259,
          "ayref": "y",
          "opacity": 0.5,
          "showarrow": true,
          "text": "",
          "x": 0.15852202608362587,
          "xref": "x",
          "y": -0.11160116329979293,
          "yref": "y"
         },
         {
          "arrowcolor": "green",
          "arrowhead": 1,
          "arrowsize": 0.3,
          "arrowwidth": 3.7844073190135243,
          "ax": 0.15852202608362587,
          "axref": "x",
          "ay": -0.11160116329979293,
          "ayref": "y",
          "opacity": 0.5,
          "showarrow": true,
          "text": "",
          "x": 0.15794993503301555,
          "xref": "x",
          "y": -0.21129406443356444,
          "yref": "y"
         },
         {
          "arrowcolor": "green",
          "arrowhead": 1,
          "arrowsize": 0.3,
          "arrowwidth": 4.0230708035003975,
          "ax": 0.15794993503301555,
          "axref": "x",
          "ay": -0.21129406443356444,
          "ayref": "y",
          "opacity": 0.5,
          "showarrow": true,
          "text": "",
          "x": 0.15852202608362587,
          "xref": "x",
          "y": -0.11160116329979293,
          "yref": "y"
         },
         {
          "arrowcolor": "green",
          "arrowhead": 1,
          "arrowsize": 0.3,
          "arrowwidth": 1.4773269689737472,
          "ax": 0.15852202608362587,
          "axref": "x",
          "ay": -0.11160116329979293,
          "ayref": "y",
          "opacity": 0.5,
          "showarrow": true,
          "text": "",
          "x": 0.15852202608362587,
          "xref": "x",
          "y": -0.11160116329979293,
          "yref": "y"
         },
         {
          "arrowcolor": "green",
          "arrowhead": 1,
          "arrowsize": 0.3,
          "arrowwidth": 3.307080350039777,
          "ax": 0.15852202608362587,
          "axref": "x",
          "ay": -0.11160116329979293,
          "ayref": "y",
          "opacity": 0.5,
          "showarrow": true,
          "text": "",
          "x": 0.11987714696755482,
          "xref": "x",
          "y": 0.3596944311525341,
          "yref": "y"
         },
         {
          "arrowcolor": "green",
          "arrowhead": 1,
          "arrowsize": 0.3,
          "arrowwidth": 2.272871917263325,
          "ax": 0.11987714696755482,
          "axref": "x",
          "ay": 0.3596944311525341,
          "ayref": "y",
          "opacity": 0.5,
          "showarrow": true,
          "text": "",
          "x": 0.2730079225516097,
          "xref": "x",
          "y": 0.02576232963849259,
          "yref": "y"
         },
         {
          "arrowcolor": "green",
          "arrowhead": 1,
          "arrowsize": 0.3,
          "arrowwidth": 2.1933174224343674,
          "ax": 0.2730079225516097,
          "axref": "x",
          "ay": 0.02576232963849259,
          "ayref": "y",
          "opacity": 0.5,
          "showarrow": true,
          "text": "",
          "x": 0.11987714696755482,
          "xref": "x",
          "y": 0.3596944311525341,
          "yref": "y"
         },
         {
          "arrowcolor": "green",
          "arrowhead": 1,
          "arrowsize": 0.3,
          "arrowwidth": 2.591089896579157,
          "ax": 0.11987714696755482,
          "axref": "x",
          "ay": 0.3596944311525341,
          "ayref": "y",
          "opacity": 0.5,
          "showarrow": true,
          "text": "",
          "x": 0.4816195681573746,
          "xref": "x",
          "y": 0.6208273887846426,
          "yref": "y"
         },
         {
          "arrowcolor": "green",
          "arrowhead": 1,
          "arrowsize": 0.3,
          "arrowwidth": 2.5115354017501987,
          "ax": 0.4816195681573746,
          "axref": "x",
          "ay": 0.6208273887846426,
          "ayref": "y",
          "opacity": 0.5,
          "showarrow": true,
          "text": "",
          "x": 0.11987714696755482,
          "xref": "x",
          "y": 0.3596944311525341,
          "yref": "y"
         },
         {
          "arrowcolor": "green",
          "arrowhead": 1,
          "arrowsize": 0.3,
          "arrowwidth": 1.079554494828958,
          "ax": 0.4816195681573746,
          "axref": "x",
          "ay": 0.6208273887846426,
          "ayref": "y",
          "opacity": 0.5,
          "showarrow": true,
          "text": "",
          "x": 0.2718200694555047,
          "xref": "x",
          "y": 0.6891212709220258,
          "yref": "y"
         },
         {
          "arrowcolor": "green",
          "arrowhead": 1,
          "arrowsize": 0.3,
          "arrowwidth": 1.079554494828958,
          "ax": 0.2718200694555047,
          "axref": "x",
          "ay": 0.6891212709220258,
          "ayref": "y",
          "opacity": 0.5,
          "showarrow": true,
          "text": "",
          "x": 0.11987714696755482,
          "xref": "x",
          "y": 0.3596944311525341,
          "yref": "y"
         },
         {
          "arrowcolor": "green",
          "arrowhead": 1,
          "arrowsize": 0.3,
          "arrowwidth": 4.261734287987271,
          "ax": 0.2730079225516097,
          "axref": "x",
          "ay": 0.02576232963849259,
          "ayref": "y",
          "opacity": 0.5,
          "showarrow": true,
          "text": "",
          "x": -0.07561875487925733,
          "xref": "x",
          "y": 0.18455698650381022,
          "yref": "y"
         },
         {
          "arrowcolor": "green",
          "arrowhead": 1,
          "arrowsize": 0.3,
          "arrowwidth": 4.182179793158314,
          "ax": -0.07561875487925733,
          "axref": "x",
          "ay": 0.18455698650381022,
          "ayref": "y",
          "opacity": 0.5,
          "showarrow": true,
          "text": "",
          "x": 0.2730079225516097,
          "xref": "x",
          "y": 0.02576232963849259,
          "yref": "y"
         },
         {
          "arrowcolor": "green",
          "arrowhead": 1,
          "arrowsize": 0.3,
          "arrowwidth": 1.079554494828958,
          "ax": 0.2730079225516097,
          "axref": "x",
          "ay": 0.02576232963849259,
          "ayref": "y",
          "opacity": 0.5,
          "showarrow": true,
          "text": "",
          "x": -0.3679330237902063,
          "xref": "x",
          "y": 0.061432210336696845,
          "yref": "y"
         },
         {
          "arrowcolor": "green",
          "arrowhead": 1,
          "arrowsize": 0.3,
          "arrowwidth": 2.6706443914081146,
          "ax": -0.3679330237902063,
          "axref": "x",
          "ay": 0.061432210336696845,
          "ayref": "y",
          "opacity": 0.5,
          "showarrow": true,
          "text": "",
          "x": -0.6633165401762209,
          "xref": "x",
          "y": 0.0856420375823834,
          "yref": "y"
         },
         {
          "arrowcolor": "green",
          "arrowhead": 1,
          "arrowsize": 0.3,
          "arrowwidth": 2.7501988862370723,
          "ax": -0.6633165401762209,
          "axref": "x",
          "ay": 0.0856420375823834,
          "ayref": "y",
          "opacity": 0.5,
          "showarrow": true,
          "text": "",
          "x": -0.3679330237902063,
          "xref": "x",
          "y": 0.061432210336696845,
          "yref": "y"
         },
         {
          "arrowcolor": "green",
          "arrowhead": 1,
          "arrowsize": 0.3,
          "arrowwidth": 1.4773269689737472,
          "ax": -0.3679330237902063,
          "axref": "x",
          "ay": 0.061432210336696845,
          "ayref": "y",
          "opacity": 0.5,
          "showarrow": true,
          "text": "",
          "x": -0.5040364541538961,
          "xref": "x",
          "y": 0.14349277018414075,
          "yref": "y"
         },
         {
          "arrowcolor": "green",
          "arrowhead": 1,
          "arrowsize": 0.3,
          "arrowwidth": 1.2386634844868736,
          "ax": -0.5040364541538961,
          "axref": "x",
          "ay": 0.14349277018414075,
          "ayref": "y",
          "opacity": 0.5,
          "showarrow": true,
          "text": "",
          "x": -0.3679330237902063,
          "xref": "x",
          "y": 0.061432210336696845,
          "yref": "y"
         },
         {
          "arrowcolor": "green",
          "arrowhead": 1,
          "arrowsize": 0.3,
          "arrowwidth": 1.954653937947494,
          "ax": -0.5040364541538961,
          "axref": "x",
          "ay": 0.14349277018414075,
          "ayref": "y",
          "opacity": 0.5,
          "showarrow": true,
          "text": "",
          "x": -0.6633165401762209,
          "xref": "x",
          "y": 0.0856420375823834,
          "yref": "y"
         },
         {
          "arrowcolor": "green",
          "arrowhead": 1,
          "arrowsize": 0.3,
          "arrowwidth": 1.7159904534606205,
          "ax": -0.6633165401762209,
          "axref": "x",
          "ay": 0.0856420375823834,
          "ayref": "y",
          "opacity": 0.5,
          "showarrow": true,
          "text": "",
          "x": -0.5040364541538961,
          "xref": "x",
          "y": 0.14349277018414075,
          "yref": "y"
         },
         {
          "arrowcolor": "green",
          "arrowhead": 1,
          "arrowsize": 0.3,
          "arrowwidth": 4.977724741447892,
          "ax": -0.5040364541538961,
          "axref": "x",
          "ay": 0.14349277018414075,
          "ayref": "y",
          "opacity": 0.5,
          "showarrow": true,
          "text": "",
          "x": -0.3722337039749577,
          "xref": "x",
          "y": 0.23070930968089287,
          "yref": "y"
         },
         {
          "arrowcolor": "green",
          "arrowhead": 1,
          "arrowsize": 0.3,
          "arrowwidth": 1.4773269689737472,
          "ax": -0.3722337039749577,
          "axref": "x",
          "ay": 0.23070930968089287,
          "ayref": "y",
          "opacity": 0.5,
          "showarrow": true,
          "text": "",
          "x": -0.22809852688752077,
          "xref": "x",
          "y": 0.8394833833437474,
          "yref": "y"
         },
         {
          "arrowcolor": "green",
          "arrowhead": 1,
          "arrowsize": 0.3,
          "arrowwidth": 1.4773269689737472,
          "ax": -0.22809852688752077,
          "axref": "x",
          "ay": 0.8394833833437474,
          "ayref": "y",
          "opacity": 0.5,
          "showarrow": true,
          "text": "",
          "x": -0.3722337039749577,
          "xref": "x",
          "y": 0.23070930968089287,
          "yref": "y"
         },
         {
          "arrowcolor": "green",
          "arrowhead": 1,
          "arrowsize": 0.3,
          "arrowwidth": 4.818615751789976,
          "ax": -0.3722337039749577,
          "axref": "x",
          "ay": 0.23070930968089287,
          "ayref": "y",
          "opacity": 0.5,
          "showarrow": true,
          "text": "",
          "x": -0.5040364541538961,
          "xref": "x",
          "y": 0.14349277018414075,
          "yref": "y"
         },
         {
          "arrowcolor": "green",
          "arrowhead": 1,
          "arrowsize": 0.3,
          "arrowwidth": 1.079554494828958,
          "ax": -0.5040364541538961,
          "axref": "x",
          "ay": 0.14349277018414075,
          "ayref": "y",
          "opacity": 0.5,
          "showarrow": true,
          "text": "",
          "x": -0.46105251409487097,
          "xref": "x",
          "y": 0.8104293708137084,
          "yref": "y"
         },
         {
          "arrowcolor": "green",
          "arrowhead": 1,
          "arrowsize": 0.3,
          "arrowwidth": 1.079554494828958,
          "ax": -0.46105251409487097,
          "axref": "x",
          "ay": 0.8104293708137084,
          "ayref": "y",
          "opacity": 0.5,
          "showarrow": true,
          "text": "",
          "x": -0.3722337039749577,
          "xref": "x",
          "y": 0.23070930968089287,
          "yref": "y"
         },
         {
          "arrowcolor": "green",
          "arrowhead": 1,
          "arrowsize": 0.3,
          "arrowwidth": 1.1591089896579156,
          "ax": -0.3722337039749577,
          "axref": "x",
          "ay": 0.23070930968089287,
          "ayref": "y",
          "opacity": 0.5,
          "showarrow": true,
          "text": "",
          "x": -0.3679330237902063,
          "xref": "x",
          "y": 0.061432210336696845,
          "yref": "y"
         },
         {
          "arrowcolor": "green",
          "arrowhead": 1,
          "arrowsize": 0.3,
          "arrowwidth": 1.079554494828958,
          "ax": -0.3722337039749577,
          "axref": "x",
          "ay": 0.23070930968089287,
          "ayref": "y",
          "opacity": 0.5,
          "showarrow": true,
          "text": "",
          "x": -0.3722337039749577,
          "xref": "x",
          "y": 0.23070930968089287,
          "yref": "y"
         },
         {
          "arrowcolor": "green",
          "arrowhead": 1,
          "arrowsize": 0.3,
          "arrowwidth": 2.1137629276054097,
          "ax": -0.3722337039749577,
          "axref": "x",
          "ay": 0.23070930968089287,
          "ayref": "y",
          "opacity": 0.5,
          "showarrow": true,
          "text": "",
          "x": -0.6821194093573768,
          "xref": "x",
          "y": 0.6837531407188645,
          "yref": "y"
         },
         {
          "arrowcolor": "green",
          "arrowhead": 1,
          "arrowsize": 0.3,
          "arrowwidth": 2.1137629276054097,
          "ax": -0.6821194093573768,
          "axref": "x",
          "ay": 0.6837531407188645,
          "ayref": "y",
          "opacity": 0.5,
          "showarrow": true,
          "text": "",
          "x": -0.3722337039749577,
          "xref": "x",
          "y": 0.23070930968089287,
          "yref": "y"
         },
         {
          "arrowcolor": "green",
          "arrowhead": 1,
          "arrowsize": 0.3,
          "arrowwidth": 2.8297533810660305,
          "ax": -0.3722337039749577,
          "axref": "x",
          "ay": 0.23070930968089287,
          "ayref": "y",
          "opacity": 0.5,
          "showarrow": true,
          "text": "",
          "x": 0.11987714696755482,
          "xref": "x",
          "y": 0.3596944311525341,
          "yref": "y"
         },
         {
          "arrowcolor": "green",
          "arrowhead": 1,
          "arrowsize": 0.3,
          "arrowwidth": 2.7501988862370723,
          "ax": 0.11987714696755482,
          "axref": "x",
          "ay": 0.3596944311525341,
          "ayref": "y",
          "opacity": 0.5,
          "showarrow": true,
          "text": "",
          "x": -0.3722337039749577,
          "xref": "x",
          "y": 0.23070930968089287,
          "yref": "y"
         },
         {
          "arrowcolor": "green",
          "arrowhead": 1,
          "arrowsize": 0.3,
          "arrowwidth": 1.4773269689737472,
          "ax": 0.11987714696755482,
          "axref": "x",
          "ay": 0.3596944311525341,
          "ayref": "y",
          "opacity": 0.5,
          "showarrow": true,
          "text": "",
          "x": -0.5040364541538961,
          "xref": "x",
          "y": 0.14349277018414075,
          "yref": "y"
         },
         {
          "arrowcolor": "green",
          "arrowhead": 1,
          "arrowsize": 0.3,
          "arrowwidth": 10.54653937947494,
          "ax": -0.6633165401762209,
          "axref": "x",
          "ay": 0.0856420375823834,
          "ayref": "y",
          "opacity": 0.5,
          "showarrow": true,
          "text": "",
          "x": 0.2730079225516097,
          "xref": "x",
          "y": 0.02576232963849259,
          "yref": "y"
         },
         {
          "arrowcolor": "green",
          "arrowhead": 1,
          "arrowsize": 0.3,
          "arrowwidth": 9.989657915672236,
          "ax": 0.2730079225516097,
          "axref": "x",
          "ay": 0.02576232963849259,
          "ayref": "y",
          "opacity": 0.5,
          "showarrow": true,
          "text": "",
          "x": -0.6633165401762209,
          "xref": "x",
          "y": 0.0856420375823834,
          "yref": "y"
         },
         {
          "arrowcolor": "green",
          "arrowhead": 1,
          "arrowsize": 0.3,
          "arrowwidth": 1.079554494828958,
          "ax": -0.07561875487925733,
          "axref": "x",
          "ay": 0.18455698650381022,
          "ayref": "y",
          "opacity": 0.5,
          "showarrow": true,
          "text": "",
          "x": -0.5040364541538961,
          "xref": "x",
          "y": 0.14349277018414075,
          "yref": "y"
         },
         {
          "arrowcolor": "green",
          "arrowhead": 1,
          "arrowsize": 0.3,
          "arrowwidth": 2.272871917263325,
          "ax": -0.3722337039749577,
          "axref": "x",
          "ay": 0.23070930968089287,
          "ayref": "y",
          "opacity": 0.5,
          "showarrow": true,
          "text": "",
          "x": -0.13435834816636363,
          "xref": "x",
          "y": -0.5985916669324939,
          "yref": "y"
         },
         {
          "arrowcolor": "green",
          "arrowhead": 1,
          "arrowsize": 0.3,
          "arrowwidth": 2.3524264120922833,
          "ax": -0.13435834816636363,
          "axref": "x",
          "ay": -0.5985916669324939,
          "ayref": "y",
          "opacity": 0.5,
          "showarrow": true,
          "text": "",
          "x": -0.3722337039749577,
          "xref": "x",
          "y": 0.23070930968089287,
          "yref": "y"
         },
         {
          "arrowcolor": "green",
          "arrowhead": 1,
          "arrowsize": 0.3,
          "arrowwidth": 1.3977724741447892,
          "ax": -0.3722337039749577,
          "axref": "x",
          "ay": 0.23070930968089287,
          "ayref": "y",
          "opacity": 0.5,
          "showarrow": true,
          "text": "",
          "x": -0.6633165401762209,
          "xref": "x",
          "y": 0.0856420375823834,
          "yref": "y"
         },
         {
          "arrowcolor": "green",
          "arrowhead": 1,
          "arrowsize": 0.3,
          "arrowwidth": 1.5568814638027049,
          "ax": -0.6633165401762209,
          "axref": "x",
          "ay": 0.0856420375823834,
          "ayref": "y",
          "opacity": 0.5,
          "showarrow": true,
          "text": "",
          "x": -0.07561875487925733,
          "xref": "x",
          "y": 0.18455698650381022,
          "yref": "y"
         },
         {
          "arrowcolor": "green",
          "arrowhead": 1,
          "arrowsize": 0.3,
          "arrowwidth": 1.4773269689737472,
          "ax": -0.07561875487925733,
          "axref": "x",
          "ay": 0.18455698650381022,
          "ayref": "y",
          "opacity": 0.5,
          "showarrow": true,
          "text": "",
          "x": -0.6633165401762209,
          "xref": "x",
          "y": 0.0856420375823834,
          "yref": "y"
         },
         {
          "arrowcolor": "green",
          "arrowhead": 1,
          "arrowsize": 0.3,
          "arrowwidth": 1.079554494828958,
          "ax": -0.07561875487925733,
          "axref": "x",
          "ay": 0.18455698650381022,
          "ayref": "y",
          "opacity": 0.5,
          "showarrow": true,
          "text": "",
          "x": 0.11987714696755482,
          "xref": "x",
          "y": 0.3596944311525341,
          "yref": "y"
         },
         {
          "arrowcolor": "green",
          "arrowhead": 1,
          "arrowsize": 0.3,
          "arrowwidth": 1.3182179793158313,
          "ax": -0.5040364541538961,
          "axref": "x",
          "ay": 0.14349277018414075,
          "ayref": "y",
          "opacity": 0.5,
          "showarrow": true,
          "text": "",
          "x": 0.11987714696755482,
          "xref": "x",
          "y": 0.3596944311525341,
          "yref": "y"
         },
         {
          "arrowcolor": "green",
          "arrowhead": 1,
          "arrowsize": 0.3,
          "arrowwidth": 1.3182179793158313,
          "ax": -0.6633165401762209,
          "axref": "x",
          "ay": 0.0856420375823834,
          "ayref": "y",
          "opacity": 0.5,
          "showarrow": true,
          "text": "",
          "x": -0.3722337039749577,
          "xref": "x",
          "y": 0.23070930968089287,
          "yref": "y"
         },
         {
          "arrowcolor": "green",
          "arrowhead": 1,
          "arrowsize": 0.3,
          "arrowwidth": 1.3182179793158313,
          "ax": -0.6633165401762209,
          "axref": "x",
          "ay": 0.0856420375823834,
          "ayref": "y",
          "opacity": 0.5,
          "showarrow": true,
          "text": "",
          "x": 0.11987714696755482,
          "xref": "x",
          "y": 0.3596944311525341,
          "yref": "y"
         },
         {
          "arrowcolor": "green",
          "arrowhead": 1,
          "arrowsize": 0.3,
          "arrowwidth": 1.3977724741447892,
          "ax": 0.11987714696755482,
          "axref": "x",
          "ay": 0.3596944311525341,
          "ayref": "y",
          "opacity": 0.5,
          "showarrow": true,
          "text": "",
          "x": -0.6633165401762209,
          "xref": "x",
          "y": 0.0856420375823834,
          "yref": "y"
         },
         {
          "arrowcolor": "green",
          "arrowhead": 1,
          "arrowsize": 0.3,
          "arrowwidth": 1.079554494828958,
          "ax": -0.5040364541538961,
          "axref": "x",
          "ay": 0.14349277018414075,
          "ayref": "y",
          "opacity": 0.5,
          "showarrow": true,
          "text": "",
          "x": -0.8119224187558353,
          "xref": "x",
          "y": 0.5296226138744882,
          "yref": "y"
         },
         {
          "arrowcolor": "green",
          "arrowhead": 1,
          "arrowsize": 0.3,
          "arrowwidth": 1.079554494828958,
          "ax": -0.8119224187558353,
          "axref": "x",
          "ay": 0.5296226138744882,
          "ayref": "y",
          "opacity": 0.5,
          "showarrow": true,
          "text": "",
          "x": -0.3722337039749577,
          "xref": "x",
          "y": 0.23070930968089287,
          "yref": "y"
         },
         {
          "arrowcolor": "green",
          "arrowhead": 1,
          "arrowsize": 0.3,
          "arrowwidth": 1.079554494828958,
          "ax": -0.3722337039749577,
          "axref": "x",
          "ay": 0.23070930968089287,
          "ayref": "y",
          "opacity": 0.5,
          "showarrow": true,
          "text": "",
          "x": -0.8119224187558353,
          "xref": "x",
          "y": 0.5296226138744882,
          "yref": "y"
         },
         {
          "arrowcolor": "green",
          "arrowhead": 1,
          "arrowsize": 0.3,
          "arrowwidth": 1.079554494828958,
          "ax": -0.8119224187558353,
          "axref": "x",
          "ay": 0.5296226138744882,
          "ayref": "y",
          "opacity": 0.5,
          "showarrow": true,
          "text": "",
          "x": 0.11987714696755482,
          "xref": "x",
          "y": 0.3596944311525341,
          "yref": "y"
         },
         {
          "arrowcolor": "green",
          "arrowhead": 1,
          "arrowsize": 0.3,
          "arrowwidth": 1.079554494828958,
          "ax": -0.6633165401762209,
          "axref": "x",
          "ay": 0.0856420375823834,
          "ayref": "y",
          "opacity": 0.5,
          "showarrow": true,
          "text": "",
          "x": 0.15852202608362587,
          "xref": "x",
          "y": -0.11160116329979293,
          "yref": "y"
         },
         {
          "arrowcolor": "green",
          "arrowhead": 1,
          "arrowsize": 0.3,
          "arrowwidth": 3.386634844868735,
          "ax": 0.15852202608362587,
          "axref": "x",
          "ay": -0.11160116329979293,
          "ayref": "y",
          "opacity": 0.5,
          "showarrow": true,
          "text": "",
          "x": 0.06118065718030175,
          "xref": "x",
          "y": -0.37654718144677773,
          "yref": "y"
         },
         {
          "arrowcolor": "green",
          "arrowhead": 1,
          "arrowsize": 0.3,
          "arrowwidth": 3.307080350039777,
          "ax": 0.06118065718030175,
          "axref": "x",
          "ay": -0.37654718144677773,
          "ayref": "y",
          "opacity": 0.5,
          "showarrow": true,
          "text": "",
          "x": 0.15852202608362587,
          "xref": "x",
          "y": -0.11160116329979293,
          "yref": "y"
         },
         {
          "arrowcolor": "green",
          "arrowhead": 1,
          "arrowsize": 0.3,
          "arrowwidth": 1.2386634844868736,
          "ax": 0.06118065718030175,
          "axref": "x",
          "ay": -0.37654718144677773,
          "ayref": "y",
          "opacity": 0.5,
          "showarrow": true,
          "text": "",
          "x": 0.15794993503301555,
          "xref": "x",
          "y": -0.21129406443356444,
          "yref": "y"
         },
         {
          "arrowcolor": "green",
          "arrowhead": 1,
          "arrowsize": 0.3,
          "arrowwidth": 1.2386634844868736,
          "ax": 0.15852202608362587,
          "axref": "x",
          "ay": -0.11160116329979293,
          "ayref": "y",
          "opacity": 0.5,
          "showarrow": true,
          "text": "",
          "x": 0.5993253687359638,
          "xref": "x",
          "y": -0.44293204311128104,
          "yref": "y"
         },
         {
          "arrowcolor": "green",
          "arrowhead": 1,
          "arrowsize": 0.3,
          "arrowwidth": 1.2386634844868736,
          "ax": 0.5993253687359638,
          "axref": "x",
          "ay": -0.44293204311128104,
          "ayref": "y",
          "opacity": 0.5,
          "showarrow": true,
          "text": "",
          "x": 0.15852202608362587,
          "xref": "x",
          "y": -0.11160116329979293,
          "yref": "y"
         },
         {
          "arrowcolor": "green",
          "arrowhead": 1,
          "arrowsize": 0.3,
          "arrowwidth": 1.3977724741447892,
          "ax": 0.15852202608362587,
          "axref": "x",
          "ay": -0.11160116329979293,
          "ayref": "y",
          "opacity": 0.5,
          "showarrow": true,
          "text": "",
          "x": 0.7711730888841103,
          "xref": "x",
          "y": -0.1988243915830265,
          "yref": "y"
         },
         {
          "arrowcolor": "green",
          "arrowhead": 1,
          "arrowsize": 0.3,
          "arrowwidth": 1.3977724741447892,
          "ax": 0.7711730888841103,
          "axref": "x",
          "ay": -0.1988243915830265,
          "ayref": "y",
          "opacity": 0.5,
          "showarrow": true,
          "text": "",
          "x": 0.15852202608362587,
          "xref": "x",
          "y": -0.11160116329979293,
          "yref": "y"
         },
         {
          "arrowcolor": "green",
          "arrowhead": 1,
          "arrowsize": 0.3,
          "arrowwidth": 1.1591089896579156,
          "ax": 0.15852202608362587,
          "axref": "x",
          "ay": -0.11160116329979293,
          "ayref": "y",
          "opacity": 0.5,
          "showarrow": true,
          "text": "",
          "x": 0.7772503926819285,
          "xref": "x",
          "y": 0.05104419631268521,
          "yref": "y"
         },
         {
          "arrowcolor": "green",
          "arrowhead": 1,
          "arrowsize": 0.3,
          "arrowwidth": 1.1591089896579156,
          "ax": 0.7772503926819285,
          "axref": "x",
          "ay": 0.05104419631268521,
          "ayref": "y",
          "opacity": 0.5,
          "showarrow": true,
          "text": "",
          "x": 0.15852202608362587,
          "xref": "x",
          "y": -0.11160116329979293,
          "yref": "y"
         },
         {
          "arrowcolor": "green",
          "arrowhead": 1,
          "arrowsize": 0.3,
          "arrowwidth": 3.2275258552108195,
          "ax": 0.15794993503301555,
          "axref": "x",
          "ay": -0.21129406443356444,
          "ayref": "y",
          "opacity": 0.5,
          "showarrow": true,
          "text": "",
          "x": 0.11987714696755482,
          "xref": "x",
          "y": 0.3596944311525341,
          "yref": "y"
         },
         {
          "arrowcolor": "green",
          "arrowhead": 1,
          "arrowsize": 0.3,
          "arrowwidth": 3.2275258552108195,
          "ax": 0.11987714696755482,
          "axref": "x",
          "ay": 0.3596944311525341,
          "ayref": "y",
          "opacity": 0.5,
          "showarrow": true,
          "text": "",
          "x": 0.15794993503301555,
          "xref": "x",
          "y": -0.21129406443356444,
          "yref": "y"
         },
         {
          "arrowcolor": "green",
          "arrowhead": 1,
          "arrowsize": 0.3,
          "arrowwidth": 3.2275258552108195,
          "ax": 0.11987714696755482,
          "axref": "x",
          "ay": 0.3596944311525341,
          "ayref": "y",
          "opacity": 0.5,
          "showarrow": true,
          "text": "",
          "x": 0.15852202608362587,
          "xref": "x",
          "y": -0.11160116329979293,
          "yref": "y"
         },
         {
          "arrowcolor": "green",
          "arrowhead": 1,
          "arrowsize": 0.3,
          "arrowwidth": 1.079554494828958,
          "ax": 0.15794993503301555,
          "axref": "x",
          "ay": -0.21129406443356444,
          "ayref": "y",
          "opacity": 0.5,
          "showarrow": true,
          "text": "",
          "x": 0.06118065718030175,
          "xref": "x",
          "y": -0.37654718144677773,
          "yref": "y"
         },
         {
          "arrowcolor": "green",
          "arrowhead": 1,
          "arrowsize": 0.3,
          "arrowwidth": 1.2386634844868736,
          "ax": 0.15794993503301555,
          "axref": "x",
          "ay": -0.21129406443356444,
          "ayref": "y",
          "opacity": 0.5,
          "showarrow": true,
          "text": "",
          "x": 0.09015422320494652,
          "xref": "x",
          "y": -1,
          "yref": "y"
         },
         {
          "arrowcolor": "green",
          "arrowhead": 1,
          "arrowsize": 0.3,
          "arrowwidth": 1.1591089896579156,
          "ax": 0.09015422320494652,
          "axref": "x",
          "ay": -1,
          "ayref": "y",
          "opacity": 0.5,
          "showarrow": true,
          "text": "",
          "x": 0.15794993503301555,
          "xref": "x",
          "y": -0.21129406443356444,
          "yref": "y"
         },
         {
          "arrowcolor": "green",
          "arrowhead": 1,
          "arrowsize": 0.3,
          "arrowwidth": 1.4773269689737472,
          "ax": 0.09015422320494652,
          "axref": "x",
          "ay": -1,
          "ayref": "y",
          "opacity": 0.5,
          "showarrow": true,
          "text": "",
          "x": 0.15852202608362587,
          "xref": "x",
          "y": -0.11160116329979293,
          "yref": "y"
         },
         {
          "arrowcolor": "green",
          "arrowhead": 1,
          "arrowsize": 0.3,
          "arrowwidth": 1.3977724741447892,
          "ax": 0.15852202608362587,
          "axref": "x",
          "ay": -0.11160116329979293,
          "ayref": "y",
          "opacity": 0.5,
          "showarrow": true,
          "text": "",
          "x": 0.09015422320494652,
          "xref": "x",
          "y": -1,
          "yref": "y"
         },
         {
          "arrowcolor": "green",
          "arrowhead": 1,
          "arrowsize": 0.3,
          "arrowwidth": 1.1591089896579156,
          "ax": 0.15852202608362587,
          "axref": "x",
          "ay": -0.11160116329979293,
          "ayref": "y",
          "opacity": 0.5,
          "showarrow": true,
          "text": "",
          "x": 0.4452389232238448,
          "xref": "x",
          "y": -0.9010088601234133,
          "yref": "y"
         },
         {
          "arrowcolor": "green",
          "arrowhead": 1,
          "arrowsize": 0.3,
          "arrowwidth": 1.1591089896579156,
          "ax": 0.4452389232238448,
          "axref": "x",
          "ay": -0.9010088601234133,
          "ayref": "y",
          "opacity": 0.5,
          "showarrow": true,
          "text": "",
          "x": 0.15852202608362587,
          "xref": "x",
          "y": -0.11160116329979293,
          "yref": "y"
         },
         {
          "arrowcolor": "green",
          "arrowhead": 1,
          "arrowsize": 0.3,
          "arrowwidth": 1.079554494828958,
          "ax": 0.15794993503301555,
          "axref": "x",
          "ay": -0.21129406443356444,
          "ayref": "y",
          "opacity": 0.5,
          "showarrow": true,
          "text": "",
          "x": -0.5040364541538961,
          "xref": "x",
          "y": 0.14349277018414075,
          "yref": "y"
         },
         {
          "arrowcolor": "green",
          "arrowhead": 1,
          "arrowsize": 0.3,
          "arrowwidth": 1.079554494828958,
          "ax": -0.3722337039749577,
          "axref": "x",
          "ay": 0.23070930968089287,
          "ayref": "y",
          "opacity": 0.5,
          "showarrow": true,
          "text": "",
          "x": -0.7582051386371653,
          "xref": "x",
          "y": -0.32079437213940637,
          "yref": "y"
         },
         {
          "arrowcolor": "green",
          "arrowhead": 1,
          "arrowsize": 0.3,
          "arrowwidth": 1.5568814638027049,
          "ax": -0.7582051386371653,
          "axref": "x",
          "ay": -0.32079437213940637,
          "ayref": "y",
          "opacity": 0.5,
          "showarrow": true,
          "text": "",
          "x": -0.5976765593381522,
          "xref": "x",
          "y": -0.42704650915767023,
          "yref": "y"
         },
         {
          "arrowcolor": "green",
          "arrowhead": 1,
          "arrowsize": 0.3,
          "arrowwidth": 1.7159904534606205,
          "ax": -0.5976765593381522,
          "axref": "x",
          "ay": -0.42704650915767023,
          "ayref": "y",
          "opacity": 0.5,
          "showarrow": true,
          "text": "",
          "x": -0.7582051386371653,
          "xref": "x",
          "y": -0.32079437213940637,
          "yref": "y"
         },
         {
          "arrowcolor": "green",
          "arrowhead": 1,
          "arrowsize": 0.3,
          "arrowwidth": 2.7501988862370723,
          "ax": -0.7582051386371653,
          "axref": "x",
          "ay": -0.32079437213940637,
          "ayref": "y",
          "opacity": 0.5,
          "showarrow": true,
          "text": "",
          "x": 0.2730079225516097,
          "xref": "x",
          "y": 0.02576232963849259,
          "yref": "y"
         },
         {
          "arrowcolor": "green",
          "arrowhead": 1,
          "arrowsize": 0.3,
          "arrowwidth": 2.909307875894988,
          "ax": 0.2730079225516097,
          "axref": "x",
          "ay": 0.02576232963849259,
          "ayref": "y",
          "opacity": 0.5,
          "showarrow": true,
          "text": "",
          "x": -0.7582051386371653,
          "xref": "x",
          "y": -0.32079437213940637,
          "yref": "y"
         },
         {
          "arrowcolor": "green",
          "arrowhead": 1,
          "arrowsize": 0.3,
          "arrowwidth": 1.1591089896579156,
          "ax": 0.2730079225516097,
          "axref": "x",
          "ay": 0.02576232963849259,
          "ayref": "y",
          "opacity": 0.5,
          "showarrow": true,
          "text": "",
          "x": -0.5976765593381522,
          "xref": "x",
          "y": -0.42704650915767023,
          "yref": "y"
         },
         {
          "arrowcolor": "green",
          "arrowhead": 1,
          "arrowsize": 0.3,
          "arrowwidth": 1.079554494828958,
          "ax": 0.2730079225516097,
          "axref": "x",
          "ay": 0.02576232963849259,
          "ayref": "y",
          "opacity": 0.5,
          "showarrow": true,
          "text": "",
          "x": 0.06118065718030175,
          "xref": "x",
          "y": -0.37654718144677773,
          "yref": "y"
         },
         {
          "arrowcolor": "green",
          "arrowhead": 1,
          "arrowsize": 0.3,
          "arrowwidth": 1.079554494828958,
          "ax": 0.15852202608362587,
          "axref": "x",
          "ay": -0.11160116329979293,
          "ayref": "y",
          "opacity": 0.5,
          "showarrow": true,
          "text": "",
          "x": -0.7582051386371653,
          "xref": "x",
          "y": -0.32079437213940637,
          "yref": "y"
         },
         {
          "arrowcolor": "green",
          "arrowhead": 1,
          "arrowsize": 0.3,
          "arrowwidth": 1.5568814638027049,
          "ax": -0.7582051386371653,
          "axref": "x",
          "ay": -0.32079437213940637,
          "ayref": "y",
          "opacity": 0.5,
          "showarrow": true,
          "text": "",
          "x": 0.06118065718030175,
          "xref": "x",
          "y": -0.37654718144677773,
          "yref": "y"
         },
         {
          "arrowcolor": "green",
          "arrowhead": 1,
          "arrowsize": 0.3,
          "arrowwidth": 1.4773269689737472,
          "ax": 0.06118065718030175,
          "axref": "x",
          "ay": -0.37654718144677773,
          "ayref": "y",
          "opacity": 0.5,
          "showarrow": true,
          "text": "",
          "x": -0.7582051386371653,
          "xref": "x",
          "y": -0.32079437213940637,
          "yref": "y"
         },
         {
          "arrowcolor": "green",
          "arrowhead": 1,
          "arrowsize": 0.3,
          "arrowwidth": 2.0342084327764516,
          "ax": 0.2730079225516097,
          "axref": "x",
          "ay": 0.02576232963849259,
          "ayref": "y",
          "opacity": 0.5,
          "showarrow": true,
          "text": "",
          "x": 0.8545345117924076,
          "xref": "x",
          "y": -0.6615294100105895,
          "yref": "y"
         },
         {
          "arrowcolor": "green",
          "arrowhead": 1,
          "arrowsize": 0.3,
          "arrowwidth": 2.0342084327764516,
          "ax": 0.8545345117924076,
          "axref": "x",
          "ay": -0.6615294100105895,
          "ayref": "y",
          "opacity": 0.5,
          "showarrow": true,
          "text": "",
          "x": 0.2730079225516097,
          "xref": "x",
          "y": 0.02576232963849259,
          "yref": "y"
         },
         {
          "arrowcolor": "green",
          "arrowhead": 1,
          "arrowsize": 0.3,
          "arrowwidth": 1.954653937947494,
          "ax": 0.2730079225516097,
          "axref": "x",
          "ay": 0.02576232963849259,
          "ayref": "y",
          "opacity": 0.5,
          "showarrow": true,
          "text": "",
          "x": 0.15794993503301555,
          "xref": "x",
          "y": -0.21129406443356444,
          "yref": "y"
         },
         {
          "arrowcolor": "green",
          "arrowhead": 1,
          "arrowsize": 0.3,
          "arrowwidth": 1.8750994431185362,
          "ax": 0.15794993503301555,
          "axref": "x",
          "ay": -0.21129406443356444,
          "ayref": "y",
          "opacity": 0.5,
          "showarrow": true,
          "text": "",
          "x": 0.2730079225516097,
          "xref": "x",
          "y": 0.02576232963849259,
          "yref": "y"
         },
         {
          "arrowcolor": "green",
          "arrowhead": 1,
          "arrowsize": 0.3,
          "arrowwidth": 1.079554494828958,
          "ax": 0.15794993503301555,
          "axref": "x",
          "ay": -0.21129406443356444,
          "ayref": "y",
          "opacity": 0.5,
          "showarrow": true,
          "text": "",
          "x": -0.6633165401762209,
          "xref": "x",
          "y": 0.0856420375823834,
          "yref": "y"
         },
         {
          "arrowcolor": "green",
          "arrowhead": 1,
          "arrowsize": 0.3,
          "arrowwidth": 1.7159904534606205,
          "ax": -0.6633165401762209,
          "axref": "x",
          "ay": 0.0856420375823834,
          "ayref": "y",
          "opacity": 0.5,
          "showarrow": true,
          "text": "",
          "x": -0.7582051386371653,
          "xref": "x",
          "y": -0.32079437213940637,
          "yref": "y"
         },
         {
          "arrowcolor": "green",
          "arrowhead": 1,
          "arrowsize": 0.3,
          "arrowwidth": 2.0342084327764516,
          "ax": -0.7582051386371653,
          "axref": "x",
          "ay": -0.32079437213940637,
          "ayref": "y",
          "opacity": 0.5,
          "showarrow": true,
          "text": "",
          "x": -0.6633165401762209,
          "xref": "x",
          "y": 0.0856420375823834,
          "yref": "y"
         },
         {
          "arrowcolor": "green",
          "arrowhead": 1,
          "arrowsize": 0.3,
          "arrowwidth": 1.079554494828958,
          "ax": 0.06118065718030175,
          "axref": "x",
          "ay": -0.37654718144677773,
          "ayref": "y",
          "opacity": 0.5,
          "showarrow": true,
          "text": "",
          "x": -0.6633165401762209,
          "xref": "x",
          "y": 0.0856420375823834,
          "yref": "y"
         },
         {
          "arrowcolor": "green",
          "arrowhead": 1,
          "arrowsize": 0.3,
          "arrowwidth": 1.079554494828958,
          "ax": -0.7582051386371653,
          "axref": "x",
          "ay": -0.32079437213940637,
          "ayref": "y",
          "opacity": 0.5,
          "showarrow": true,
          "text": "",
          "x": -0.3722337039749577,
          "xref": "x",
          "y": 0.23070930968089287,
          "yref": "y"
         },
         {
          "arrowcolor": "green",
          "arrowhead": 1,
          "arrowsize": 0.3,
          "arrowwidth": 1.079554494828958,
          "ax": -0.6633165401762209,
          "axref": "x",
          "ay": 0.0856420375823834,
          "ayref": "y",
          "opacity": 0.5,
          "showarrow": true,
          "text": "",
          "x": -0.13435834816636363,
          "xref": "x",
          "y": -0.5985916669324939,
          "yref": "y"
         },
         {
          "arrowcolor": "green",
          "arrowhead": 1,
          "arrowsize": 0.3,
          "arrowwidth": 1.079554494828958,
          "ax": -0.13435834816636363,
          "axref": "x",
          "ay": -0.5985916669324939,
          "ayref": "y",
          "opacity": 0.5,
          "showarrow": true,
          "text": "",
          "x": -0.36703410602266506,
          "xref": "x",
          "y": -0.30233065258669184,
          "yref": "y"
         },
         {
          "arrowcolor": "green",
          "arrowhead": 1,
          "arrowsize": 0.3,
          "arrowwidth": 1.079554494828958,
          "ax": -0.36703410602266506,
          "axref": "x",
          "ay": -0.30233065258669184,
          "ayref": "y",
          "opacity": 0.5,
          "showarrow": true,
          "text": "",
          "x": -0.13435834816636363,
          "xref": "x",
          "y": -0.5985916669324939,
          "yref": "y"
         },
         {
          "arrowcolor": "green",
          "arrowhead": 1,
          "arrowsize": 0.3,
          "arrowwidth": 1.1591089896579156,
          "ax": -0.3722337039749577,
          "axref": "x",
          "ay": 0.23070930968089287,
          "ayref": "y",
          "opacity": 0.5,
          "showarrow": true,
          "text": "",
          "x": 0.15852202608362587,
          "xref": "x",
          "y": -0.11160116329979293,
          "yref": "y"
         },
         {
          "arrowcolor": "green",
          "arrowhead": 1,
          "arrowsize": 0.3,
          "arrowwidth": 1.2386634844868736,
          "ax": 0.15852202608362587,
          "axref": "x",
          "ay": -0.11160116329979293,
          "ayref": "y",
          "opacity": 0.5,
          "showarrow": true,
          "text": "",
          "x": -0.3722337039749577,
          "xref": "x",
          "y": 0.23070930968089287,
          "yref": "y"
         },
         {
          "arrowcolor": "green",
          "arrowhead": 1,
          "arrowsize": 0.3,
          "arrowwidth": 1.079554494828958,
          "ax": 0.15852202608362587,
          "axref": "x",
          "ay": -0.11160116329979293,
          "ayref": "y",
          "opacity": 0.5,
          "showarrow": true,
          "text": "",
          "x": -0.5040364541538961,
          "xref": "x",
          "y": 0.14349277018414075,
          "yref": "y"
         },
         {
          "arrowcolor": "green",
          "arrowhead": 1,
          "arrowsize": 0.3,
          "arrowwidth": 1.079554494828958,
          "ax": -0.5040364541538961,
          "axref": "x",
          "ay": 0.14349277018414075,
          "ayref": "y",
          "opacity": 0.5,
          "showarrow": true,
          "text": "",
          "x": 0.15794993503301555,
          "xref": "x",
          "y": -0.21129406443356444,
          "yref": "y"
         },
         {
          "arrowcolor": "green",
          "arrowhead": 1,
          "arrowsize": 0.3,
          "arrowwidth": 1.1591089896579156,
          "ax": 0.15794993503301555,
          "axref": "x",
          "ay": -0.21129406443356444,
          "ayref": "y",
          "opacity": 0.5,
          "showarrow": true,
          "text": "",
          "x": -0.3722337039749577,
          "xref": "x",
          "y": 0.23070930968089287,
          "yref": "y"
         },
         {
          "arrowcolor": "green",
          "arrowhead": 1,
          "arrowsize": 0.3,
          "arrowwidth": 1.2386634844868736,
          "ax": -0.3722337039749577,
          "axref": "x",
          "ay": 0.23070930968089287,
          "ayref": "y",
          "opacity": 0.5,
          "showarrow": true,
          "text": "",
          "x": 0.15794993503301555,
          "xref": "x",
          "y": -0.21129406443356444,
          "yref": "y"
         },
         {
          "arrowcolor": "green",
          "arrowhead": 1,
          "arrowsize": 0.3,
          "arrowwidth": 1.079554494828958,
          "ax": 0.15794993503301555,
          "axref": "x",
          "ay": -0.21129406443356444,
          "ayref": "y",
          "opacity": 0.5,
          "showarrow": true,
          "text": "",
          "x": -0.3679330237902063,
          "xref": "x",
          "y": 0.061432210336696845,
          "yref": "y"
         },
         {
          "arrowcolor": "green",
          "arrowhead": 1,
          "arrowsize": 0.3,
          "arrowwidth": 1.7159904534606205,
          "ax": -0.3679330237902063,
          "axref": "x",
          "ay": 0.061432210336696845,
          "ayref": "y",
          "opacity": 0.5,
          "showarrow": true,
          "text": "",
          "x": -0.07561875487925733,
          "xref": "x",
          "y": 0.18455698650381022,
          "yref": "y"
         },
         {
          "arrowcolor": "green",
          "arrowhead": 1,
          "arrowsize": 0.3,
          "arrowwidth": 1.7159904534606205,
          "ax": -0.07561875487925733,
          "axref": "x",
          "ay": 0.18455698650381022,
          "ayref": "y",
          "opacity": 0.5,
          "showarrow": true,
          "text": "",
          "x": -0.3679330237902063,
          "xref": "x",
          "y": 0.061432210336696845,
          "yref": "y"
         },
         {
          "arrowcolor": "green",
          "arrowhead": 1,
          "arrowsize": 0.3,
          "arrowwidth": 1.1591089896579156,
          "ax": -0.07561875487925733,
          "axref": "x",
          "ay": 0.18455698650381022,
          "ayref": "y",
          "opacity": 0.5,
          "showarrow": true,
          "text": "",
          "x": -0.3722337039749577,
          "xref": "x",
          "y": 0.23070930968089287,
          "yref": "y"
         },
         {
          "arrowcolor": "green",
          "arrowhead": 1,
          "arrowsize": 0.3,
          "arrowwidth": 1.079554494828958,
          "ax": -0.3679330237902063,
          "axref": "x",
          "ay": 0.061432210336696845,
          "ayref": "y",
          "opacity": 0.5,
          "showarrow": true,
          "text": "",
          "x": -0.3722337039749577,
          "xref": "x",
          "y": 0.23070930968089287,
          "yref": "y"
         },
         {
          "arrowcolor": "green",
          "arrowhead": 1,
          "arrowsize": 0.3,
          "arrowwidth": 1.1591089896579156,
          "ax": -0.3722337039749577,
          "axref": "x",
          "ay": 0.23070930968089287,
          "ayref": "y",
          "opacity": 0.5,
          "showarrow": true,
          "text": "",
          "x": -0.07561875487925733,
          "xref": "x",
          "y": 0.18455698650381022,
          "yref": "y"
         },
         {
          "arrowcolor": "green",
          "arrowhead": 1,
          "arrowsize": 0.3,
          "arrowwidth": 1.2386634844868736,
          "ax": -0.07561875487925733,
          "axref": "x",
          "ay": 0.18455698650381022,
          "ayref": "y",
          "opacity": 0.5,
          "showarrow": true,
          "text": "",
          "x": 0.15852202608362587,
          "xref": "x",
          "y": -0.11160116329979293,
          "yref": "y"
         },
         {
          "arrowcolor": "green",
          "arrowhead": 1,
          "arrowsize": 0.3,
          "arrowwidth": 1.3182179793158313,
          "ax": 0.15852202608362587,
          "axref": "x",
          "ay": -0.11160116329979293,
          "ayref": "y",
          "opacity": 0.5,
          "showarrow": true,
          "text": "",
          "x": -0.07561875487925733,
          "xref": "x",
          "y": 0.18455698650381022,
          "yref": "y"
         },
         {
          "arrowcolor": "green",
          "arrowhead": 1,
          "arrowsize": 0.3,
          "arrowwidth": 1.079554494828958,
          "ax": -0.3679330237902063,
          "axref": "x",
          "ay": 0.061432210336696845,
          "ayref": "y",
          "opacity": 0.5,
          "showarrow": true,
          "text": "",
          "x": 0.15794993503301555,
          "xref": "x",
          "y": -0.21129406443356444,
          "yref": "y"
         },
         {
          "arrowcolor": "green",
          "arrowhead": 1,
          "arrowsize": 0.3,
          "arrowwidth": 1.2386634844868736,
          "ax": 0.15852202608362587,
          "axref": "x",
          "ay": -0.11160116329979293,
          "ayref": "y",
          "opacity": 0.5,
          "showarrow": true,
          "text": "",
          "x": -0.5976765593381522,
          "xref": "x",
          "y": -0.42704650915767023,
          "yref": "y"
         },
         {
          "arrowcolor": "green",
          "arrowhead": 1,
          "arrowsize": 0.3,
          "arrowwidth": 1.079554494828958,
          "ax": -0.5976765593381522,
          "axref": "x",
          "ay": -0.42704650915767023,
          "ayref": "y",
          "opacity": 0.5,
          "showarrow": true,
          "text": "",
          "x": -0.3702621620174359,
          "xref": "x",
          "y": -0.5083384025722265,
          "yref": "y"
         },
         {
          "arrowcolor": "green",
          "arrowhead": 1,
          "arrowsize": 0.3,
          "arrowwidth": 1.079554494828958,
          "ax": -0.3702621620174359,
          "axref": "x",
          "ay": -0.5083384025722265,
          "ayref": "y",
          "opacity": 0.5,
          "showarrow": true,
          "text": "",
          "x": 0.15794993503301555,
          "xref": "x",
          "y": -0.21129406443356444,
          "yref": "y"
         },
         {
          "arrowcolor": "green",
          "arrowhead": 1,
          "arrowsize": 0.3,
          "arrowwidth": 1.079554494828958,
          "ax": -0.5976765593381522,
          "axref": "x",
          "ay": -0.42704650915767023,
          "ayref": "y",
          "opacity": 0.5,
          "showarrow": true,
          "text": "",
          "x": -0.3722337039749577,
          "xref": "x",
          "y": 0.23070930968089287,
          "yref": "y"
         },
         {
          "arrowcolor": "green",
          "arrowhead": 1,
          "arrowsize": 0.3,
          "arrowwidth": 1.1591089896579156,
          "ax": -0.3722337039749577,
          "axref": "x",
          "ay": 0.23070930968089287,
          "ayref": "y",
          "opacity": 0.5,
          "showarrow": true,
          "text": "",
          "x": -0.5976765593381522,
          "xref": "x",
          "y": -0.42704650915767023,
          "yref": "y"
         },
         {
          "arrowcolor": "green",
          "arrowhead": 1,
          "arrowsize": 0.3,
          "arrowwidth": 1.2386634844868736,
          "ax": -0.5976765593381522,
          "axref": "x",
          "ay": -0.42704650915767023,
          "ayref": "y",
          "opacity": 0.5,
          "showarrow": true,
          "text": "",
          "x": 0.15852202608362587,
          "xref": "x",
          "y": -0.11160116329979293,
          "yref": "y"
         },
         {
          "arrowcolor": "green",
          "arrowhead": 1,
          "arrowsize": 0.3,
          "arrowwidth": 1.1591089896579156,
          "ax": -0.5976765593381522,
          "axref": "x",
          "ay": -0.42704650915767023,
          "ayref": "y",
          "opacity": 0.5,
          "showarrow": true,
          "text": "",
          "x": -0.07561875487925733,
          "xref": "x",
          "y": 0.18455698650381022,
          "yref": "y"
         },
         {
          "arrowcolor": "green",
          "arrowhead": 1,
          "arrowsize": 0.3,
          "arrowwidth": 1.1591089896579156,
          "ax": -0.07561875487925733,
          "axref": "x",
          "ay": 0.18455698650381022,
          "ayref": "y",
          "opacity": 0.5,
          "showarrow": true,
          "text": "",
          "x": -0.5976765593381522,
          "xref": "x",
          "y": -0.42704650915767023,
          "yref": "y"
         }
        ],
        "height": 600,
        "paper_bgcolor": "rgba(0,0,0,0)",
        "plot_bgcolor": "rgba(0,0,0,0)",
        "template": {
         "data": {
          "bar": [
           {
            "error_x": {
             "color": "#2a3f5f"
            },
            "error_y": {
             "color": "#2a3f5f"
            },
            "marker": {
             "line": {
              "color": "#E5ECF6",
              "width": 0.5
             },
             "pattern": {
              "fillmode": "overlay",
              "size": 10,
              "solidity": 0.2
             }
            },
            "type": "bar"
           }
          ],
          "barpolar": [
           {
            "marker": {
             "line": {
              "color": "#E5ECF6",
              "width": 0.5
             },
             "pattern": {
              "fillmode": "overlay",
              "size": 10,
              "solidity": 0.2
             }
            },
            "type": "barpolar"
           }
          ],
          "carpet": [
           {
            "aaxis": {
             "endlinecolor": "#2a3f5f",
             "gridcolor": "white",
             "linecolor": "white",
             "minorgridcolor": "white",
             "startlinecolor": "#2a3f5f"
            },
            "baxis": {
             "endlinecolor": "#2a3f5f",
             "gridcolor": "white",
             "linecolor": "white",
             "minorgridcolor": "white",
             "startlinecolor": "#2a3f5f"
            },
            "type": "carpet"
           }
          ],
          "choropleth": [
           {
            "colorbar": {
             "outlinewidth": 0,
             "ticks": ""
            },
            "type": "choropleth"
           }
          ],
          "contour": [
           {
            "colorbar": {
             "outlinewidth": 0,
             "ticks": ""
            },
            "colorscale": [
             [
              0,
              "#0d0887"
             ],
             [
              0.1111111111111111,
              "#46039f"
             ],
             [
              0.2222222222222222,
              "#7201a8"
             ],
             [
              0.3333333333333333,
              "#9c179e"
             ],
             [
              0.4444444444444444,
              "#bd3786"
             ],
             [
              0.5555555555555556,
              "#d8576b"
             ],
             [
              0.6666666666666666,
              "#ed7953"
             ],
             [
              0.7777777777777778,
              "#fb9f3a"
             ],
             [
              0.8888888888888888,
              "#fdca26"
             ],
             [
              1,
              "#f0f921"
             ]
            ],
            "type": "contour"
           }
          ],
          "contourcarpet": [
           {
            "colorbar": {
             "outlinewidth": 0,
             "ticks": ""
            },
            "type": "contourcarpet"
           }
          ],
          "heatmap": [
           {
            "colorbar": {
             "outlinewidth": 0,
             "ticks": ""
            },
            "colorscale": [
             [
              0,
              "#0d0887"
             ],
             [
              0.1111111111111111,
              "#46039f"
             ],
             [
              0.2222222222222222,
              "#7201a8"
             ],
             [
              0.3333333333333333,
              "#9c179e"
             ],
             [
              0.4444444444444444,
              "#bd3786"
             ],
             [
              0.5555555555555556,
              "#d8576b"
             ],
             [
              0.6666666666666666,
              "#ed7953"
             ],
             [
              0.7777777777777778,
              "#fb9f3a"
             ],
             [
              0.8888888888888888,
              "#fdca26"
             ],
             [
              1,
              "#f0f921"
             ]
            ],
            "type": "heatmap"
           }
          ],
          "heatmapgl": [
           {
            "colorbar": {
             "outlinewidth": 0,
             "ticks": ""
            },
            "colorscale": [
             [
              0,
              "#0d0887"
             ],
             [
              0.1111111111111111,
              "#46039f"
             ],
             [
              0.2222222222222222,
              "#7201a8"
             ],
             [
              0.3333333333333333,
              "#9c179e"
             ],
             [
              0.4444444444444444,
              "#bd3786"
             ],
             [
              0.5555555555555556,
              "#d8576b"
             ],
             [
              0.6666666666666666,
              "#ed7953"
             ],
             [
              0.7777777777777778,
              "#fb9f3a"
             ],
             [
              0.8888888888888888,
              "#fdca26"
             ],
             [
              1,
              "#f0f921"
             ]
            ],
            "type": "heatmapgl"
           }
          ],
          "histogram": [
           {
            "marker": {
             "pattern": {
              "fillmode": "overlay",
              "size": 10,
              "solidity": 0.2
             }
            },
            "type": "histogram"
           }
          ],
          "histogram2d": [
           {
            "colorbar": {
             "outlinewidth": 0,
             "ticks": ""
            },
            "colorscale": [
             [
              0,
              "#0d0887"
             ],
             [
              0.1111111111111111,
              "#46039f"
             ],
             [
              0.2222222222222222,
              "#7201a8"
             ],
             [
              0.3333333333333333,
              "#9c179e"
             ],
             [
              0.4444444444444444,
              "#bd3786"
             ],
             [
              0.5555555555555556,
              "#d8576b"
             ],
             [
              0.6666666666666666,
              "#ed7953"
             ],
             [
              0.7777777777777778,
              "#fb9f3a"
             ],
             [
              0.8888888888888888,
              "#fdca26"
             ],
             [
              1,
              "#f0f921"
             ]
            ],
            "type": "histogram2d"
           }
          ],
          "histogram2dcontour": [
           {
            "colorbar": {
             "outlinewidth": 0,
             "ticks": ""
            },
            "colorscale": [
             [
              0,
              "#0d0887"
             ],
             [
              0.1111111111111111,
              "#46039f"
             ],
             [
              0.2222222222222222,
              "#7201a8"
             ],
             [
              0.3333333333333333,
              "#9c179e"
             ],
             [
              0.4444444444444444,
              "#bd3786"
             ],
             [
              0.5555555555555556,
              "#d8576b"
             ],
             [
              0.6666666666666666,
              "#ed7953"
             ],
             [
              0.7777777777777778,
              "#fb9f3a"
             ],
             [
              0.8888888888888888,
              "#fdca26"
             ],
             [
              1,
              "#f0f921"
             ]
            ],
            "type": "histogram2dcontour"
           }
          ],
          "mesh3d": [
           {
            "colorbar": {
             "outlinewidth": 0,
             "ticks": ""
            },
            "type": "mesh3d"
           }
          ],
          "parcoords": [
           {
            "line": {
             "colorbar": {
              "outlinewidth": 0,
              "ticks": ""
             }
            },
            "type": "parcoords"
           }
          ],
          "pie": [
           {
            "automargin": true,
            "type": "pie"
           }
          ],
          "scatter": [
           {
            "marker": {
             "colorbar": {
              "outlinewidth": 0,
              "ticks": ""
             }
            },
            "type": "scatter"
           }
          ],
          "scatter3d": [
           {
            "line": {
             "colorbar": {
              "outlinewidth": 0,
              "ticks": ""
             }
            },
            "marker": {
             "colorbar": {
              "outlinewidth": 0,
              "ticks": ""
             }
            },
            "type": "scatter3d"
           }
          ],
          "scattercarpet": [
           {
            "marker": {
             "colorbar": {
              "outlinewidth": 0,
              "ticks": ""
             }
            },
            "type": "scattercarpet"
           }
          ],
          "scattergeo": [
           {
            "marker": {
             "colorbar": {
              "outlinewidth": 0,
              "ticks": ""
             }
            },
            "type": "scattergeo"
           }
          ],
          "scattergl": [
           {
            "marker": {
             "colorbar": {
              "outlinewidth": 0,
              "ticks": ""
             }
            },
            "type": "scattergl"
           }
          ],
          "scattermapbox": [
           {
            "marker": {
             "colorbar": {
              "outlinewidth": 0,
              "ticks": ""
             }
            },
            "type": "scattermapbox"
           }
          ],
          "scatterpolar": [
           {
            "marker": {
             "colorbar": {
              "outlinewidth": 0,
              "ticks": ""
             }
            },
            "type": "scatterpolar"
           }
          ],
          "scatterpolargl": [
           {
            "marker": {
             "colorbar": {
              "outlinewidth": 0,
              "ticks": ""
             }
            },
            "type": "scatterpolargl"
           }
          ],
          "scatterternary": [
           {
            "marker": {
             "colorbar": {
              "outlinewidth": 0,
              "ticks": ""
             }
            },
            "type": "scatterternary"
           }
          ],
          "surface": [
           {
            "colorbar": {
             "outlinewidth": 0,
             "ticks": ""
            },
            "colorscale": [
             [
              0,
              "#0d0887"
             ],
             [
              0.1111111111111111,
              "#46039f"
             ],
             [
              0.2222222222222222,
              "#7201a8"
             ],
             [
              0.3333333333333333,
              "#9c179e"
             ],
             [
              0.4444444444444444,
              "#bd3786"
             ],
             [
              0.5555555555555556,
              "#d8576b"
             ],
             [
              0.6666666666666666,
              "#ed7953"
             ],
             [
              0.7777777777777778,
              "#fb9f3a"
             ],
             [
              0.8888888888888888,
              "#fdca26"
             ],
             [
              1,
              "#f0f921"
             ]
            ],
            "type": "surface"
           }
          ],
          "table": [
           {
            "cells": {
             "fill": {
              "color": "#EBF0F8"
             },
             "line": {
              "color": "white"
             }
            },
            "header": {
             "fill": {
              "color": "#C8D4E3"
             },
             "line": {
              "color": "white"
             }
            },
            "type": "table"
           }
          ]
         },
         "layout": {
          "annotationdefaults": {
           "arrowcolor": "#2a3f5f",
           "arrowhead": 0,
           "arrowwidth": 1
          },
          "autotypenumbers": "strict",
          "coloraxis": {
           "colorbar": {
            "outlinewidth": 0,
            "ticks": ""
           }
          },
          "colorscale": {
           "diverging": [
            [
             0,
             "#8e0152"
            ],
            [
             0.1,
             "#c51b7d"
            ],
            [
             0.2,
             "#de77ae"
            ],
            [
             0.3,
             "#f1b6da"
            ],
            [
             0.4,
             "#fde0ef"
            ],
            [
             0.5,
             "#f7f7f7"
            ],
            [
             0.6,
             "#e6f5d0"
            ],
            [
             0.7,
             "#b8e186"
            ],
            [
             0.8,
             "#7fbc41"
            ],
            [
             0.9,
             "#4d9221"
            ],
            [
             1,
             "#276419"
            ]
           ],
           "sequential": [
            [
             0,
             "#0d0887"
            ],
            [
             0.1111111111111111,
             "#46039f"
            ],
            [
             0.2222222222222222,
             "#7201a8"
            ],
            [
             0.3333333333333333,
             "#9c179e"
            ],
            [
             0.4444444444444444,
             "#bd3786"
            ],
            [
             0.5555555555555556,
             "#d8576b"
            ],
            [
             0.6666666666666666,
             "#ed7953"
            ],
            [
             0.7777777777777778,
             "#fb9f3a"
            ],
            [
             0.8888888888888888,
             "#fdca26"
            ],
            [
             1,
             "#f0f921"
            ]
           ],
           "sequentialminus": [
            [
             0,
             "#0d0887"
            ],
            [
             0.1111111111111111,
             "#46039f"
            ],
            [
             0.2222222222222222,
             "#7201a8"
            ],
            [
             0.3333333333333333,
             "#9c179e"
            ],
            [
             0.4444444444444444,
             "#bd3786"
            ],
            [
             0.5555555555555556,
             "#d8576b"
            ],
            [
             0.6666666666666666,
             "#ed7953"
            ],
            [
             0.7777777777777778,
             "#fb9f3a"
            ],
            [
             0.8888888888888888,
             "#fdca26"
            ],
            [
             1,
             "#f0f921"
            ]
           ]
          },
          "colorway": [
           "#636efa",
           "#EF553B",
           "#00cc96",
           "#ab63fa",
           "#FFA15A",
           "#19d3f3",
           "#FF6692",
           "#B6E880",
           "#FF97FF",
           "#FECB52"
          ],
          "font": {
           "color": "#2a3f5f"
          },
          "geo": {
           "bgcolor": "white",
           "lakecolor": "white",
           "landcolor": "#E5ECF6",
           "showlakes": true,
           "showland": true,
           "subunitcolor": "white"
          },
          "hoverlabel": {
           "align": "left"
          },
          "hovermode": "closest",
          "mapbox": {
           "style": "light"
          },
          "paper_bgcolor": "white",
          "plot_bgcolor": "#E5ECF6",
          "polar": {
           "angularaxis": {
            "gridcolor": "white",
            "linecolor": "white",
            "ticks": ""
           },
           "bgcolor": "#E5ECF6",
           "radialaxis": {
            "gridcolor": "white",
            "linecolor": "white",
            "ticks": ""
           }
          },
          "scene": {
           "xaxis": {
            "backgroundcolor": "#E5ECF6",
            "gridcolor": "white",
            "gridwidth": 2,
            "linecolor": "white",
            "showbackground": true,
            "ticks": "",
            "zerolinecolor": "white"
           },
           "yaxis": {
            "backgroundcolor": "#E5ECF6",
            "gridcolor": "white",
            "gridwidth": 2,
            "linecolor": "white",
            "showbackground": true,
            "ticks": "",
            "zerolinecolor": "white"
           },
           "zaxis": {
            "backgroundcolor": "#E5ECF6",
            "gridcolor": "white",
            "gridwidth": 2,
            "linecolor": "white",
            "showbackground": true,
            "ticks": "",
            "zerolinecolor": "white"
           }
          },
          "shapedefaults": {
           "line": {
            "color": "#2a3f5f"
           }
          },
          "ternary": {
           "aaxis": {
            "gridcolor": "white",
            "linecolor": "white",
            "ticks": ""
           },
           "baxis": {
            "gridcolor": "white",
            "linecolor": "white",
            "ticks": ""
           },
           "bgcolor": "#E5ECF6",
           "caxis": {
            "gridcolor": "white",
            "linecolor": "white",
            "ticks": ""
           }
          },
          "title": {
           "x": 0.05
          },
          "xaxis": {
           "automargin": true,
           "gridcolor": "white",
           "linecolor": "white",
           "ticks": "",
           "title": {
            "standoff": 15
           },
           "zerolinecolor": "white",
           "zerolinewidth": 2
          },
          "yaxis": {
           "automargin": true,
           "gridcolor": "white",
           "linecolor": "white",
           "ticks": "",
           "title": {
            "standoff": 15
           },
           "zerolinecolor": "white",
           "zerolinewidth": 2
          }
         }
        },
        "xaxis": {
         "showticklabels": false,
         "ticks": ""
        },
        "yaxis": {
         "showticklabels": false,
         "ticks": ""
        }
       }
      }
     },
     "metadata": {},
     "output_type": "display_data"
    },
    {
     "data": {
      "text/html": [
       "<div>\n",
       "<style scoped>\n",
       "    .dataframe tbody tr th:only-of-type {\n",
       "        vertical-align: middle;\n",
       "    }\n",
       "\n",
       "    .dataframe tbody tr th {\n",
       "        vertical-align: top;\n",
       "    }\n",
       "\n",
       "    .dataframe thead th {\n",
       "        text-align: right;\n",
       "    }\n",
       "</style>\n",
       "<table border=\"1\" class=\"dataframe\">\n",
       "  <thead>\n",
       "    <tr style=\"text-align: right;\">\n",
       "      <th></th>\n",
       "      <th>speeches</th>\n",
       "      <th>degree</th>\n",
       "      <th>indegree</th>\n",
       "      <th>weighted_indegree</th>\n",
       "      <th>outdegree</th>\n",
       "      <th>weighted_outdegree</th>\n",
       "      <th>betweenness</th>\n",
       "      <th>betweenness_weighted</th>\n",
       "      <th>pagerank</th>\n",
       "      <th>pagerank_weighted</th>\n",
       "      <th>request_value</th>\n",
       "    </tr>\n",
       "  </thead>\n",
       "  <tbody>\n",
       "    <tr>\n",
       "      <th>rupert</th>\n",
       "      <td>134</td>\n",
       "      <td>30</td>\n",
       "      <td>15</td>\n",
       "      <td>134</td>\n",
       "      <td>15</td>\n",
       "      <td>134</td>\n",
       "      <td>0.374025</td>\n",
       "      <td>0.435185</td>\n",
       "      <td>0.121724</td>\n",
       "      <td>0.121724</td>\n",
       "      <td>15.0</td>\n",
       "    </tr>\n",
       "    <tr>\n",
       "      <th>sylvester</th>\n",
       "      <td>126</td>\n",
       "      <td>29</td>\n",
       "      <td>15</td>\n",
       "      <td>126</td>\n",
       "      <td>14</td>\n",
       "      <td>126</td>\n",
       "      <td>0.321547</td>\n",
       "      <td>0.348876</td>\n",
       "      <td>0.107517</td>\n",
       "      <td>0.107517</td>\n",
       "      <td>14.0</td>\n",
       "    </tr>\n",
       "    <tr>\n",
       "      <th>ottokar</th>\n",
       "      <td>227</td>\n",
       "      <td>17</td>\n",
       "      <td>7</td>\n",
       "      <td>227</td>\n",
       "      <td>10</td>\n",
       "      <td>227</td>\n",
       "      <td>0.087665</td>\n",
       "      <td>0.068783</td>\n",
       "      <td>0.125425</td>\n",
       "      <td>0.125425</td>\n",
       "      <td>10.0</td>\n",
       "    </tr>\n",
       "    <tr>\n",
       "      <th>agnes</th>\n",
       "      <td>177</td>\n",
       "      <td>18</td>\n",
       "      <td>9</td>\n",
       "      <td>177</td>\n",
       "      <td>9</td>\n",
       "      <td>177</td>\n",
       "      <td>0.047813</td>\n",
       "      <td>0.197090</td>\n",
       "      <td>0.096192</td>\n",
       "      <td>0.096192</td>\n",
       "      <td>9.0</td>\n",
       "    </tr>\n",
       "    <tr>\n",
       "      <th>eustache</th>\n",
       "      <td>86</td>\n",
       "      <td>18</td>\n",
       "      <td>9</td>\n",
       "      <td>86</td>\n",
       "      <td>9</td>\n",
       "      <td>86</td>\n",
       "      <td>0.083670</td>\n",
       "      <td>0.238095</td>\n",
       "      <td>0.069504</td>\n",
       "      <td>0.069504</td>\n",
       "      <td>9.0</td>\n",
       "    </tr>\n",
       "    <tr>\n",
       "      <th>johann</th>\n",
       "      <td>64</td>\n",
       "      <td>14</td>\n",
       "      <td>6</td>\n",
       "      <td>65</td>\n",
       "      <td>8</td>\n",
       "      <td>64</td>\n",
       "      <td>0.017276</td>\n",
       "      <td>0.013228</td>\n",
       "      <td>0.038709</td>\n",
       "      <td>0.038709</td>\n",
       "      <td>8.0</td>\n",
       "    </tr>\n",
       "    <tr>\n",
       "      <th>gertrude</th>\n",
       "      <td>72</td>\n",
       "      <td>14</td>\n",
       "      <td>7</td>\n",
       "      <td>72</td>\n",
       "      <td>7</td>\n",
       "      <td>72</td>\n",
       "      <td>0.053034</td>\n",
       "      <td>0.200397</td>\n",
       "      <td>0.053409</td>\n",
       "      <td>0.053409</td>\n",
       "      <td>7.0</td>\n",
       "    </tr>\n",
       "    <tr>\n",
       "      <th>jeronimus</th>\n",
       "      <td>125</td>\n",
       "      <td>17</td>\n",
       "      <td>10</td>\n",
       "      <td>125</td>\n",
       "      <td>7</td>\n",
       "      <td>125</td>\n",
       "      <td>0.152549</td>\n",
       "      <td>0.133598</td>\n",
       "      <td>0.098214</td>\n",
       "      <td>0.098214</td>\n",
       "      <td>7.0</td>\n",
       "    </tr>\n",
       "    <tr>\n",
       "      <th>barnabe</th>\n",
       "      <td>50</td>\n",
       "      <td>11</td>\n",
       "      <td>6</td>\n",
       "      <td>50</td>\n",
       "      <td>5</td>\n",
       "      <td>50</td>\n",
       "      <td>0.013969</td>\n",
       "      <td>0.046627</td>\n",
       "      <td>0.033605</td>\n",
       "      <td>0.033605</td>\n",
       "      <td>5.0</td>\n",
       "    </tr>\n",
       "    <tr>\n",
       "      <th>sylvius</th>\n",
       "      <td>38</td>\n",
       "      <td>11</td>\n",
       "      <td>6</td>\n",
       "      <td>38</td>\n",
       "      <td>5</td>\n",
       "      <td>38</td>\n",
       "      <td>0.003663</td>\n",
       "      <td>0.074735</td>\n",
       "      <td>0.024460</td>\n",
       "      <td>0.024460</td>\n",
       "      <td>5.0</td>\n",
       "    </tr>\n",
       "    <tr>\n",
       "      <th>ursula</th>\n",
       "      <td>16</td>\n",
       "      <td>10</td>\n",
       "      <td>5</td>\n",
       "      <td>16</td>\n",
       "      <td>5</td>\n",
       "      <td>16</td>\n",
       "      <td>0.038979</td>\n",
       "      <td>0.037037</td>\n",
       "      <td>0.014906</td>\n",
       "      <td>0.014906</td>\n",
       "      <td>5.0</td>\n",
       "    </tr>\n",
       "    <tr>\n",
       "      <th>santing</th>\n",
       "      <td>39</td>\n",
       "      <td>8</td>\n",
       "      <td>4</td>\n",
       "      <td>39</td>\n",
       "      <td>4</td>\n",
       "      <td>39</td>\n",
       "      <td>0.003781</td>\n",
       "      <td>0.021164</td>\n",
       "      <td>0.033492</td>\n",
       "      <td>0.033492</td>\n",
       "      <td>4.0</td>\n",
       "    </tr>\n",
       "    <tr>\n",
       "      <th>kirchenvogt</th>\n",
       "      <td>20</td>\n",
       "      <td>3</td>\n",
       "      <td>1</td>\n",
       "      <td>20</td>\n",
       "      <td>2</td>\n",
       "      <td>20</td>\n",
       "      <td>0.035714</td>\n",
       "      <td>0.035714</td>\n",
       "      <td>0.018529</td>\n",
       "      <td>0.018529</td>\n",
       "      <td>2.0</td>\n",
       "    </tr>\n",
       "    <tr>\n",
       "      <th>ein_diener_2-3</th>\n",
       "      <td>2</td>\n",
       "      <td>4</td>\n",
       "      <td>2</td>\n",
       "      <td>2</td>\n",
       "      <td>2</td>\n",
       "      <td>2</td>\n",
       "      <td>0.000000</td>\n",
       "      <td>0.098876</td>\n",
       "      <td>0.006528</td>\n",
       "      <td>0.006528</td>\n",
       "      <td>2.0</td>\n",
       "    </tr>\n",
       "    <tr>\n",
       "      <th>die_kammerzofe</th>\n",
       "      <td>8</td>\n",
       "      <td>4</td>\n",
       "      <td>2</td>\n",
       "      <td>8</td>\n",
       "      <td>2</td>\n",
       "      <td>8</td>\n",
       "      <td>0.000000</td>\n",
       "      <td>0.000000</td>\n",
       "      <td>0.011094</td>\n",
       "      <td>0.011094</td>\n",
       "      <td>2.0</td>\n",
       "    </tr>\n",
       "    <tr>\n",
       "      <th>chor_der_juenglinge</th>\n",
       "      <td>3</td>\n",
       "      <td>3</td>\n",
       "      <td>1</td>\n",
       "      <td>3</td>\n",
       "      <td>2</td>\n",
       "      <td>3</td>\n",
       "      <td>0.035714</td>\n",
       "      <td>0.035714</td>\n",
       "      <td>0.018464</td>\n",
       "      <td>0.018464</td>\n",
       "      <td>2.0</td>\n",
       "    </tr>\n",
       "    <tr>\n",
       "      <th>theistiner</th>\n",
       "      <td>18</td>\n",
       "      <td>5</td>\n",
       "      <td>3</td>\n",
       "      <td>18</td>\n",
       "      <td>2</td>\n",
       "      <td>18</td>\n",
       "      <td>0.068783</td>\n",
       "      <td>0.068783</td>\n",
       "      <td>0.022541</td>\n",
       "      <td>0.022541</td>\n",
       "      <td>2.0</td>\n",
       "    </tr>\n",
       "    <tr>\n",
       "      <th>chor_der_maedchen</th>\n",
       "      <td>3</td>\n",
       "      <td>2</td>\n",
       "      <td>1</td>\n",
       "      <td>2</td>\n",
       "      <td>1</td>\n",
       "      <td>3</td>\n",
       "      <td>0.000000</td>\n",
       "      <td>0.000000</td>\n",
       "      <td>0.015637</td>\n",
       "      <td>0.015637</td>\n",
       "      <td>1.0</td>\n",
       "    </tr>\n",
       "    <tr>\n",
       "      <th>fintenring</th>\n",
       "      <td>13</td>\n",
       "      <td>2</td>\n",
       "      <td>1</td>\n",
       "      <td>13</td>\n",
       "      <td>1</td>\n",
       "      <td>13</td>\n",
       "      <td>0.000000</td>\n",
       "      <td>0.000000</td>\n",
       "      <td>0.011278</td>\n",
       "      <td>0.011278</td>\n",
       "      <td>1.0</td>\n",
       "    </tr>\n",
       "    <tr>\n",
       "      <th>ein_ritter</th>\n",
       "      <td>1</td>\n",
       "      <td>2</td>\n",
       "      <td>1</td>\n",
       "      <td>1</td>\n",
       "      <td>1</td>\n",
       "      <td>1</td>\n",
       "      <td>0.000000</td>\n",
       "      <td>0.000000</td>\n",
       "      <td>0.006237</td>\n",
       "      <td>0.006237</td>\n",
       "      <td>1.0</td>\n",
       "    </tr>\n",
       "    <tr>\n",
       "      <th>ein_diener_4-1</th>\n",
       "      <td>2</td>\n",
       "      <td>2</td>\n",
       "      <td>1</td>\n",
       "      <td>2</td>\n",
       "      <td>1</td>\n",
       "      <td>2</td>\n",
       "      <td>0.000000</td>\n",
       "      <td>0.000000</td>\n",
       "      <td>0.006717</td>\n",
       "      <td>0.006717</td>\n",
       "      <td>1.0</td>\n",
       "    </tr>\n",
       "    <tr>\n",
       "      <th>ein_knappe</th>\n",
       "      <td>1</td>\n",
       "      <td>2</td>\n",
       "      <td>1</td>\n",
       "      <td>1</td>\n",
       "      <td>1</td>\n",
       "      <td>1</td>\n",
       "      <td>0.000000</td>\n",
       "      <td>0.009590</td>\n",
       "      <td>0.005803</td>\n",
       "      <td>0.005803</td>\n",
       "      <td>1.0</td>\n",
       "    </tr>\n",
       "    <tr>\n",
       "      <th>zweiter_wanderer</th>\n",
       "      <td>2</td>\n",
       "      <td>2</td>\n",
       "      <td>1</td>\n",
       "      <td>2</td>\n",
       "      <td>1</td>\n",
       "      <td>2</td>\n",
       "      <td>0.000000</td>\n",
       "      <td>0.000000</td>\n",
       "      <td>0.006717</td>\n",
       "      <td>0.006717</td>\n",
       "      <td>1.0</td>\n",
       "    </tr>\n",
       "    <tr>\n",
       "      <th>der_wanderer</th>\n",
       "      <td>5</td>\n",
       "      <td>2</td>\n",
       "      <td>1</td>\n",
       "      <td>5</td>\n",
       "      <td>1</td>\n",
       "      <td>5</td>\n",
       "      <td>0.000000</td>\n",
       "      <td>0.000000</td>\n",
       "      <td>0.009033</td>\n",
       "      <td>0.009033</td>\n",
       "      <td>1.0</td>\n",
       "    </tr>\n",
       "    <tr>\n",
       "      <th>ein_diener_3-2</th>\n",
       "      <td>3</td>\n",
       "      <td>2</td>\n",
       "      <td>1</td>\n",
       "      <td>3</td>\n",
       "      <td>1</td>\n",
       "      <td>3</td>\n",
       "      <td>0.000000</td>\n",
       "      <td>0.000000</td>\n",
       "      <td>0.007489</td>\n",
       "      <td>0.007489</td>\n",
       "      <td>1.0</td>\n",
       "    </tr>\n",
       "    <tr>\n",
       "      <th>aldoebern</th>\n",
       "      <td>14</td>\n",
       "      <td>2</td>\n",
       "      <td>1</td>\n",
       "      <td>14</td>\n",
       "      <td>1</td>\n",
       "      <td>14</td>\n",
       "      <td>0.000000</td>\n",
       "      <td>0.000000</td>\n",
       "      <td>0.015327</td>\n",
       "      <td>0.015327</td>\n",
       "      <td>1.0</td>\n",
       "    </tr>\n",
       "    <tr>\n",
       "      <th>gaertner</th>\n",
       "      <td>6</td>\n",
       "      <td>2</td>\n",
       "      <td>1</td>\n",
       "      <td>6</td>\n",
       "      <td>1</td>\n",
       "      <td>6</td>\n",
       "      <td>0.000000</td>\n",
       "      <td>0.000000</td>\n",
       "      <td>0.009524</td>\n",
       "      <td>0.009524</td>\n",
       "      <td>1.0</td>\n",
       "    </tr>\n",
       "    <tr>\n",
       "      <th>ein_diener_1-1</th>\n",
       "      <td>1</td>\n",
       "      <td>2</td>\n",
       "      <td>1</td>\n",
       "      <td>1</td>\n",
       "      <td>1</td>\n",
       "      <td>1</td>\n",
       "      <td>0.000000</td>\n",
       "      <td>0.033069</td>\n",
       "      <td>0.005960</td>\n",
       "      <td>0.005960</td>\n",
       "      <td>1.0</td>\n",
       "    </tr>\n",
       "    <tr>\n",
       "      <th>alle_5-1</th>\n",
       "      <td>1</td>\n",
       "      <td>2</td>\n",
       "      <td>1</td>\n",
       "      <td>1</td>\n",
       "      <td>1</td>\n",
       "      <td>1</td>\n",
       "      <td>0.000441</td>\n",
       "      <td>0.009921</td>\n",
       "      <td>0.005964</td>\n",
       "      <td>0.005964</td>\n",
       "      <td>1.0</td>\n",
       "    </tr>\n",
       "  </tbody>\n",
       "</table>\n",
       "</div>"
      ],
      "text/plain": [
       "                     speeches  degree  indegree  weighted_indegree  outdegree  \\\n",
       "rupert                    134      30        15                134         15   \n",
       "sylvester                 126      29        15                126         14   \n",
       "ottokar                   227      17         7                227         10   \n",
       "agnes                     177      18         9                177          9   \n",
       "eustache                   86      18         9                 86          9   \n",
       "johann                     64      14         6                 65          8   \n",
       "gertrude                   72      14         7                 72          7   \n",
       "jeronimus                 125      17        10                125          7   \n",
       "barnabe                    50      11         6                 50          5   \n",
       "sylvius                    38      11         6                 38          5   \n",
       "ursula                     16      10         5                 16          5   \n",
       "santing                    39       8         4                 39          4   \n",
       "kirchenvogt                20       3         1                 20          2   \n",
       "ein_diener_2-3              2       4         2                  2          2   \n",
       "die_kammerzofe              8       4         2                  8          2   \n",
       "chor_der_juenglinge         3       3         1                  3          2   \n",
       "theistiner                 18       5         3                 18          2   \n",
       "chor_der_maedchen           3       2         1                  2          1   \n",
       "fintenring                 13       2         1                 13          1   \n",
       "ein_ritter                  1       2         1                  1          1   \n",
       "ein_diener_4-1              2       2         1                  2          1   \n",
       "ein_knappe                  1       2         1                  1          1   \n",
       "zweiter_wanderer            2       2         1                  2          1   \n",
       "der_wanderer                5       2         1                  5          1   \n",
       "ein_diener_3-2              3       2         1                  3          1   \n",
       "aldoebern                  14       2         1                 14          1   \n",
       "gaertner                    6       2         1                  6          1   \n",
       "ein_diener_1-1              1       2         1                  1          1   \n",
       "alle_5-1                    1       2         1                  1          1   \n",
       "\n",
       "                     weighted_outdegree  betweenness  betweenness_weighted  \\\n",
       "rupert                              134     0.374025              0.435185   \n",
       "sylvester                           126     0.321547              0.348876   \n",
       "ottokar                             227     0.087665              0.068783   \n",
       "agnes                               177     0.047813              0.197090   \n",
       "eustache                             86     0.083670              0.238095   \n",
       "johann                               64     0.017276              0.013228   \n",
       "gertrude                             72     0.053034              0.200397   \n",
       "jeronimus                           125     0.152549              0.133598   \n",
       "barnabe                              50     0.013969              0.046627   \n",
       "sylvius                              38     0.003663              0.074735   \n",
       "ursula                               16     0.038979              0.037037   \n",
       "santing                              39     0.003781              0.021164   \n",
       "kirchenvogt                          20     0.035714              0.035714   \n",
       "ein_diener_2-3                        2     0.000000              0.098876   \n",
       "die_kammerzofe                        8     0.000000              0.000000   \n",
       "chor_der_juenglinge                   3     0.035714              0.035714   \n",
       "theistiner                           18     0.068783              0.068783   \n",
       "chor_der_maedchen                     3     0.000000              0.000000   \n",
       "fintenring                           13     0.000000              0.000000   \n",
       "ein_ritter                            1     0.000000              0.000000   \n",
       "ein_diener_4-1                        2     0.000000              0.000000   \n",
       "ein_knappe                            1     0.000000              0.009590   \n",
       "zweiter_wanderer                      2     0.000000              0.000000   \n",
       "der_wanderer                          5     0.000000              0.000000   \n",
       "ein_diener_3-2                        3     0.000000              0.000000   \n",
       "aldoebern                            14     0.000000              0.000000   \n",
       "gaertner                              6     0.000000              0.000000   \n",
       "ein_diener_1-1                        1     0.000000              0.033069   \n",
       "alle_5-1                              1     0.000441              0.009921   \n",
       "\n",
       "                     pagerank  pagerank_weighted  request_value  \n",
       "rupert               0.121724           0.121724           15.0  \n",
       "sylvester            0.107517           0.107517           14.0  \n",
       "ottokar              0.125425           0.125425           10.0  \n",
       "agnes                0.096192           0.096192            9.0  \n",
       "eustache             0.069504           0.069504            9.0  \n",
       "johann               0.038709           0.038709            8.0  \n",
       "gertrude             0.053409           0.053409            7.0  \n",
       "jeronimus            0.098214           0.098214            7.0  \n",
       "barnabe              0.033605           0.033605            5.0  \n",
       "sylvius              0.024460           0.024460            5.0  \n",
       "ursula               0.014906           0.014906            5.0  \n",
       "santing              0.033492           0.033492            4.0  \n",
       "kirchenvogt          0.018529           0.018529            2.0  \n",
       "ein_diener_2-3       0.006528           0.006528            2.0  \n",
       "die_kammerzofe       0.011094           0.011094            2.0  \n",
       "chor_der_juenglinge  0.018464           0.018464            2.0  \n",
       "theistiner           0.022541           0.022541            2.0  \n",
       "chor_der_maedchen    0.015637           0.015637            1.0  \n",
       "fintenring           0.011278           0.011278            1.0  \n",
       "ein_ritter           0.006237           0.006237            1.0  \n",
       "ein_diener_4-1       0.006717           0.006717            1.0  \n",
       "ein_knappe           0.005803           0.005803            1.0  \n",
       "zweiter_wanderer     0.006717           0.006717            1.0  \n",
       "der_wanderer         0.009033           0.009033            1.0  \n",
       "ein_diener_3-2       0.007489           0.007489            1.0  \n",
       "aldoebern            0.015327           0.015327            1.0  \n",
       "gaertner             0.009524           0.009524            1.0  \n",
       "ein_diener_1-1       0.005960           0.005960            1.0  \n",
       "alle_5-1             0.005964           0.005964            1.0  "
      ]
     },
     "metadata": {},
     "output_type": "display_data"
    }
   ],
   "source": [
    "fig = network.plot(network_type='com')"
   ]
  },
  {
   "cell_type": "markdown",
   "metadata": {},
   "source": [
    "## Plot network based on **character's configaration (copresence)**"
   ]
  },
  {
   "cell_type": "code",
   "execution_count": 4,
   "metadata": {},
   "outputs": [
    {
     "data": {
      "application/vnd.plotly.v1+json": {
       "config": {
        "plotlyServerURL": "https://plot.ly"
       },
       "data": [
        {
         "hoverinfo": "skip",
         "legendgroup": "chor_der_maedchen → chor_der_juenglinge",
         "line": {
          "color": "green",
          "smoothing": 1.3,
          "width": 1.2212389380530975
         },
         "mode": "lines",
         "name": "chor_der_maedchen → chor_der_juenglinge",
         "opacity": 0.5,
         "showlegend": false,
         "type": "scatter",
         "x": [
          0.6893631754005448,
          0.6428506508991912
         ],
         "y": [
          0.27012959002182513,
          0.47513768752599617
         ]
        },
        {
         "hoverinfo": "text",
         "marker": {
          "color": "green",
          "opacity": 0.4,
          "size": 1.2212389380530975,
          "symbol": "cross-thin"
         },
         "mode": "markers",
         "name": "chor_der_maedchen → chor_der_juenglinge",
         "showlegend": false,
         "text": "<b>chor_der_maedchen → chor_der_juenglinge</b>:<br><br>1<br>",
         "type": "scatter",
         "x": [
          0.6847119229504095
         ],
         "y": [
          0.29063039977224225
         ]
        },
        {
         "hoverinfo": "skip",
         "legendgroup": "chor_der_maedchen → rupert",
         "line": {
          "color": "green",
          "smoothing": 1.3,
          "width": 1.2212389380530975
         },
         "mode": "lines",
         "name": "chor_der_maedchen → rupert",
         "opacity": 0.5,
         "showlegend": false,
         "type": "scatter",
         "x": [
          0.6893631754005448,
          0.15852202608362587
         ],
         "y": [
          0.27012959002182513,
          -0.11160116329979293
         ]
        },
        {
         "hoverinfo": "text",
         "marker": {
          "color": "green",
          "opacity": 0.4,
          "size": 1.2212389380530975,
          "symbol": "cross-thin"
         },
         "mode": "markers",
         "name": "chor_der_maedchen → rupert",
         "showlegend": false,
         "text": "<b>chor_der_maedchen → rupert</b>:<br><br>1<br>",
         "type": "scatter",
         "x": [
          0.636279060468853
         ],
         "y": [
          0.23195651468966333
         ]
        },
        {
         "hoverinfo": "skip",
         "legendgroup": "chor_der_maedchen → ottokar",
         "line": {
          "color": "green",
          "smoothing": 1.3,
          "width": 1.2212389380530975
         },
         "mode": "lines",
         "name": "chor_der_maedchen → ottokar",
         "opacity": 0.5,
         "showlegend": false,
         "type": "scatter",
         "x": [
          0.6893631754005448,
          0.2730079225516097
         ],
         "y": [
          0.27012959002182513,
          0.02576232963849259
         ]
        },
        {
         "hoverinfo": "text",
         "marker": {
          "color": "green",
          "opacity": 0.4,
          "size": 1.2212389380530975,
          "symbol": "cross-thin"
         },
         "mode": "markers",
         "name": "chor_der_maedchen → ottokar",
         "showlegend": false,
         "text": "<b>chor_der_maedchen → ottokar</b>:<br><br>1<br>",
         "type": "scatter",
         "x": [
          0.6477276501156514
         ],
         "y": [
          0.24569286398349188
         ]
        },
        {
         "hoverinfo": "skip",
         "legendgroup": "chor_der_maedchen → eustache",
         "line": {
          "color": "green",
          "smoothing": 1.3,
          "width": 1.2212389380530975
         },
         "mode": "lines",
         "name": "chor_der_maedchen → eustache",
         "opacity": 0.5,
         "showlegend": false,
         "type": "scatter",
         "x": [
          0.6893631754005448,
          0.15794993503301555
         ],
         "y": [
          0.27012959002182513,
          -0.21129406443356444
         ]
        },
        {
         "hoverinfo": "text",
         "marker": {
          "color": "green",
          "opacity": 0.4,
          "size": 1.2212389380530975,
          "symbol": "cross-thin"
         },
         "mode": "markers",
         "name": "chor_der_maedchen → eustache",
         "showlegend": false,
         "text": "<b>chor_der_maedchen → eustache</b>:<br><br>1<br>",
         "type": "scatter",
         "x": [
          0.636221851363792
         ],
         "y": [
          0.22198722457628617
         ]
        },
        {
         "hoverinfo": "skip",
         "legendgroup": "chor_der_maedchen → jeronimus",
         "line": {
          "color": "green",
          "smoothing": 1.3,
          "width": 1.2212389380530975
         },
         "mode": "lines",
         "name": "chor_der_maedchen → jeronimus",
         "opacity": 0.5,
         "showlegend": false,
         "type": "scatter",
         "x": [
          0.6893631754005448,
          0.11987714696755482
         ],
         "y": [
          0.27012959002182513,
          0.3596944311525341
         ]
        },
        {
         "hoverinfo": "text",
         "marker": {
          "color": "green",
          "opacity": 0.4,
          "size": 1.2212389380530975,
          "symbol": "cross-thin"
         },
         "mode": "markers",
         "name": "chor_der_maedchen → jeronimus",
         "showlegend": false,
         "text": "<b>chor_der_maedchen → jeronimus</b>:<br><br>1<br>",
         "type": "scatter",
         "x": [
          0.6324145725572459
         ],
         "y": [
          0.27908607413489606
         ]
        },
        {
         "hoverinfo": "skip",
         "legendgroup": "chor_der_maedchen → kirchenvogt",
         "line": {
          "color": "green",
          "smoothing": 1.3,
          "width": 1.2212389380530975
         },
         "mode": "lines",
         "name": "chor_der_maedchen → kirchenvogt",
         "opacity": 0.5,
         "showlegend": false,
         "type": "scatter",
         "x": [
          0.6893631754005448,
          0.4816195681573746
         ],
         "y": [
          0.27012959002182513,
          0.6208273887846426
         ]
        },
        {
         "hoverinfo": "text",
         "marker": {
          "color": "green",
          "opacity": 0.4,
          "size": 1.2212389380530975,
          "symbol": "cross-thin"
         },
         "mode": "markers",
         "name": "chor_der_maedchen → kirchenvogt",
         "showlegend": false,
         "text": "<b>chor_der_maedchen → kirchenvogt</b>:<br><br>1<br>",
         "type": "scatter",
         "x": [
          0.6685888146762278
         ],
         "y": [
          0.30519936989810686
         ]
        },
        {
         "hoverinfo": "skip",
         "legendgroup": "chor_der_maedchen → ein_diener_1-1",
         "line": {
          "color": "green",
          "smoothing": 1.3,
          "width": 1.2212389380530975
         },
         "mode": "lines",
         "name": "chor_der_maedchen → ein_diener_1-1",
         "opacity": 0.5,
         "showlegend": false,
         "type": "scatter",
         "x": [
          0.6893631754005448,
          0.2718200694555047
         ],
         "y": [
          0.27012959002182513,
          0.6891212709220258
         ]
        },
        {
         "hoverinfo": "text",
         "marker": {
          "color": "green",
          "opacity": 0.4,
          "size": 1.2212389380530975,
          "symbol": "cross-thin"
         },
         "mode": "markers",
         "name": "chor_der_maedchen → ein_diener_1-1",
         "showlegend": false,
         "text": "<b>chor_der_maedchen → ein_diener_1-1</b>:<br><br>1<br>",
         "type": "scatter",
         "x": [
          0.6476088648060409
         ],
         "y": [
          0.3120287581118452
         ]
        },
        {
         "hoverinfo": "skip",
         "legendgroup": "chor_der_maedchen → johann",
         "line": {
          "color": "green",
          "smoothing": 1.3,
          "width": 1.2212389380530975
         },
         "mode": "lines",
         "name": "chor_der_maedchen → johann",
         "opacity": 0.5,
         "showlegend": false,
         "type": "scatter",
         "x": [
          0.6893631754005448,
          -0.07561875487925733
         ],
         "y": [
          0.27012959002182513,
          0.18455698650381022
         ]
        },
        {
         "hoverinfo": "text",
         "marker": {
          "color": "green",
          "opacity": 0.4,
          "size": 1.2212389380530975,
          "symbol": "cross-thin"
         },
         "mode": "markers",
         "name": "chor_der_maedchen → johann",
         "showlegend": false,
         "text": "<b>chor_der_maedchen → johann</b>:<br><br>1<br>",
         "type": "scatter",
         "x": [
          0.6128649823725646
         ],
         "y": [
          0.26157232967002364
         ]
        },
        {
         "hoverinfo": "skip",
         "legendgroup": "chor_der_juenglinge → chor_der_maedchen",
         "line": {
          "color": "green",
          "smoothing": 1.3,
          "width": 1.2212389380530975
         },
         "mode": "lines",
         "name": "chor_der_juenglinge → chor_der_maedchen",
         "opacity": 0.5,
         "showlegend": false,
         "type": "scatter",
         "x": [
          0.6428506508991912,
          0.6893631754005448
         ],
         "y": [
          0.47513768752599617,
          0.27012959002182513
         ]
        },
        {
         "hoverinfo": "text",
         "marker": {
          "color": "green",
          "opacity": 0.4,
          "size": 1.2212389380530975,
          "symbol": "cross-thin"
         },
         "mode": "markers",
         "name": "chor_der_juenglinge → chor_der_maedchen",
         "showlegend": false,
         "text": "<b>chor_der_juenglinge → chor_der_maedchen</b>:<br><br>1<br>",
         "type": "scatter",
         "x": [
          0.6475019033493266
         ],
         "y": [
          0.4546368777755791
         ]
        },
        {
         "hoverinfo": "skip",
         "legendgroup": "chor_der_juenglinge → rupert",
         "line": {
          "color": "green",
          "smoothing": 1.3,
          "width": 1.2212389380530975
         },
         "mode": "lines",
         "name": "chor_der_juenglinge → rupert",
         "opacity": 0.5,
         "showlegend": false,
         "type": "scatter",
         "x": [
          0.6428506508991912,
          0.15852202608362587
         ],
         "y": [
          0.47513768752599617,
          -0.11160116329979293
         ]
        },
        {
         "hoverinfo": "text",
         "marker": {
          "color": "green",
          "opacity": 0.4,
          "size": 1.2212389380530975,
          "symbol": "cross-thin"
         },
         "mode": "markers",
         "name": "chor_der_juenglinge → rupert",
         "showlegend": false,
         "text": "<b>chor_der_juenglinge → rupert</b>:<br><br>1<br>",
         "type": "scatter",
         "x": [
          0.5944177884176347
         ],
         "y": [
          0.41646380244341724
         ]
        },
        {
         "hoverinfo": "skip",
         "legendgroup": "chor_der_juenglinge → ottokar",
         "line": {
          "color": "green",
          "smoothing": 1.3,
          "width": 1.2212389380530975
         },
         "mode": "lines",
         "name": "chor_der_juenglinge → ottokar",
         "opacity": 0.5,
         "showlegend": false,
         "type": "scatter",
         "x": [
          0.6428506508991912,
          0.2730079225516097
         ],
         "y": [
          0.47513768752599617,
          0.02576232963849259
         ]
        },
        {
         "hoverinfo": "text",
         "marker": {
          "color": "green",
          "opacity": 0.4,
          "size": 1.2212389380530975,
          "symbol": "cross-thin"
         },
         "mode": "markers",
         "name": "chor_der_juenglinge → ottokar",
         "showlegend": false,
         "text": "<b>chor_der_juenglinge → ottokar</b>:<br><br>1<br>",
         "type": "scatter",
         "x": [
          0.6058663780644331
         ],
         "y": [
          0.4302001517372458
         ]
        },
        {
         "hoverinfo": "skip",
         "legendgroup": "chor_der_juenglinge → eustache",
         "line": {
          "color": "green",
          "smoothing": 1.3,
          "width": 1.2212389380530975
         },
         "mode": "lines",
         "name": "chor_der_juenglinge → eustache",
         "opacity": 0.5,
         "showlegend": false,
         "type": "scatter",
         "x": [
          0.6428506508991912,
          0.15794993503301555
         ],
         "y": [
          0.47513768752599617,
          -0.21129406443356444
         ]
        },
        {
         "hoverinfo": "text",
         "marker": {
          "color": "green",
          "opacity": 0.4,
          "size": 1.2212389380530975,
          "symbol": "cross-thin"
         },
         "mode": "markers",
         "name": "chor_der_juenglinge → eustache",
         "showlegend": false,
         "text": "<b>chor_der_juenglinge → eustache</b>:<br><br>1<br>",
         "type": "scatter",
         "x": [
          0.5943605793125737
         ],
         "y": [
          0.40649451233004014
         ]
        },
        {
         "hoverinfo": "skip",
         "legendgroup": "chor_der_juenglinge → jeronimus",
         "line": {
          "color": "green",
          "smoothing": 1.3,
          "width": 1.2212389380530975
         },
         "mode": "lines",
         "name": "chor_der_juenglinge → jeronimus",
         "opacity": 0.5,
         "showlegend": false,
         "type": "scatter",
         "x": [
          0.6428506508991912,
          0.11987714696755482
         ],
         "y": [
          0.47513768752599617,
          0.3596944311525341
         ]
        },
        {
         "hoverinfo": "text",
         "marker": {
          "color": "green",
          "opacity": 0.4,
          "size": 1.2212389380530975,
          "symbol": "cross-thin"
         },
         "mode": "markers",
         "name": "chor_der_juenglinge → jeronimus",
         "showlegend": false,
         "text": "<b>chor_der_juenglinge → jeronimus</b>:<br><br>1<br>",
         "type": "scatter",
         "x": [
          0.5905533005060276
         ],
         "y": [
          0.46359336188864997
         ]
        },
        {
         "hoverinfo": "skip",
         "legendgroup": "chor_der_juenglinge → kirchenvogt",
         "line": {
          "color": "green",
          "smoothing": 1.3,
          "width": 1.2212389380530975
         },
         "mode": "lines",
         "name": "chor_der_juenglinge → kirchenvogt",
         "opacity": 0.5,
         "showlegend": false,
         "type": "scatter",
         "x": [
          0.6428506508991912,
          0.4816195681573746
         ],
         "y": [
          0.47513768752599617,
          0.6208273887846426
         ]
        },
        {
         "hoverinfo": "text",
         "marker": {
          "color": "green",
          "opacity": 0.4,
          "size": 1.2212389380530975,
          "symbol": "cross-thin"
         },
         "mode": "markers",
         "name": "chor_der_juenglinge → kirchenvogt",
         "showlegend": false,
         "text": "<b>chor_der_juenglinge → kirchenvogt</b>:<br><br>1<br>",
         "type": "scatter",
         "x": [
          0.6267275426250095
         ],
         "y": [
          0.48970665765186083
         ]
        },
        {
         "hoverinfo": "skip",
         "legendgroup": "chor_der_juenglinge → ein_diener_1-1",
         "line": {
          "color": "green",
          "smoothing": 1.3,
          "width": 1.2212389380530975
         },
         "mode": "lines",
         "name": "chor_der_juenglinge → ein_diener_1-1",
         "opacity": 0.5,
         "showlegend": false,
         "type": "scatter",
         "x": [
          0.6428506508991912,
          0.2718200694555047
         ],
         "y": [
          0.47513768752599617,
          0.6891212709220258
         ]
        },
        {
         "hoverinfo": "text",
         "marker": {
          "color": "green",
          "opacity": 0.4,
          "size": 1.2212389380530975,
          "symbol": "cross-thin"
         },
         "mode": "markers",
         "name": "chor_der_juenglinge → ein_diener_1-1",
         "showlegend": false,
         "text": "<b>chor_der_juenglinge → ein_diener_1-1</b>:<br><br>1<br>",
         "type": "scatter",
         "x": [
          0.6057475927548226
         ],
         "y": [
          0.49653604586559913
         ]
        },
        {
         "hoverinfo": "skip",
         "legendgroup": "chor_der_juenglinge → johann",
         "line": {
          "color": "green",
          "smoothing": 1.3,
          "width": 1.2212389380530975
         },
         "mode": "lines",
         "name": "chor_der_juenglinge → johann",
         "opacity": 0.5,
         "showlegend": false,
         "type": "scatter",
         "x": [
          0.6428506508991912,
          -0.07561875487925733
         ],
         "y": [
          0.47513768752599617,
          0.18455698650381022
         ]
        },
        {
         "hoverinfo": "text",
         "marker": {
          "color": "green",
          "opacity": 0.4,
          "size": 1.2212389380530975,
          "symbol": "cross-thin"
         },
         "mode": "markers",
         "name": "chor_der_juenglinge → johann",
         "showlegend": false,
         "text": "<b>chor_der_juenglinge → johann</b>:<br><br>1<br>",
         "type": "scatter",
         "x": [
          0.5710037103213463
         ],
         "y": [
          0.4460796174237776
         ]
        },
        {
         "hoverinfo": "skip",
         "legendgroup": "rupert → chor_der_maedchen",
         "line": {
          "color": "green",
          "smoothing": 1.3,
          "width": 1.2212389380530975
         },
         "mode": "lines",
         "name": "rupert → chor_der_maedchen",
         "opacity": 0.5,
         "showlegend": false,
         "type": "scatter",
         "x": [
          0.15852202608362587,
          0.6893631754005448
         ],
         "y": [
          -0.11160116329979293,
          0.27012959002182513
         ]
        },
        {
         "hoverinfo": "text",
         "marker": {
          "color": "green",
          "opacity": 0.4,
          "size": 1.2212389380530975,
          "symbol": "cross-thin"
         },
         "mode": "markers",
         "name": "rupert → chor_der_maedchen",
         "showlegend": false,
         "text": "<b>rupert → chor_der_maedchen</b>:<br><br>1<br>",
         "type": "scatter",
         "x": [
          0.21160614101531777
         ],
         "y": [
          -0.07342808796763112
         ]
        },
        {
         "hoverinfo": "skip",
         "legendgroup": "rupert → chor_der_juenglinge",
         "line": {
          "color": "green",
          "smoothing": 1.3,
          "width": 1.2212389380530975
         },
         "mode": "lines",
         "name": "rupert → chor_der_juenglinge",
         "opacity": 0.5,
         "showlegend": false,
         "type": "scatter",
         "x": [
          0.15852202608362587,
          0.6428506508991912
         ],
         "y": [
          -0.11160116329979293,
          0.47513768752599617
         ]
        },
        {
         "hoverinfo": "text",
         "marker": {
          "color": "green",
          "opacity": 0.4,
          "size": 1.2212389380530975,
          "symbol": "cross-thin"
         },
         "mode": "markers",
         "name": "rupert → chor_der_juenglinge",
         "showlegend": false,
         "text": "<b>rupert → chor_der_juenglinge</b>:<br><br>1<br>",
         "type": "scatter",
         "x": [
          0.2069548885651824
         ],
         "y": [
          -0.05292727821721402
         ]
        },
        {
         "hoverinfo": "skip",
         "legendgroup": "rupert → ottokar",
         "line": {
          "color": "green",
          "smoothing": 1.3,
          "width": 1.4424778761061947
         },
         "mode": "lines",
         "name": "rupert → ottokar",
         "opacity": 0.5,
         "showlegend": false,
         "type": "scatter",
         "x": [
          0.15852202608362587,
          0.2730079225516097
         ],
         "y": [
          -0.11160116329979293,
          0.02576232963849259
         ]
        },
        {
         "hoverinfo": "text",
         "marker": {
          "color": "green",
          "opacity": 0.4,
          "size": 1.4424778761061947,
          "symbol": "cross-thin"
         },
         "mode": "markers",
         "name": "rupert → ottokar",
         "showlegend": false,
         "text": "<b>rupert → ottokar</b>:<br><br>1<br>13<br>",
         "type": "scatter",
         "x": [
          0.16997061573042424
         ],
         "y": [
          -0.09786481400596438
         ]
        },
        {
         "hoverinfo": "skip",
         "legendgroup": "rupert → eustache",
         "line": {
          "color": "green",
          "smoothing": 1.3,
          "width": 1.8849557522123894
         },
         "mode": "lines",
         "name": "rupert → eustache",
         "opacity": 0.5,
         "showlegend": false,
         "type": "scatter",
         "x": [
          0.15852202608362587,
          0.15794993503301555
         ],
         "y": [
          -0.11160116329979293,
          -0.21129406443356444
         ]
        },
        {
         "hoverinfo": "text",
         "marker": {
          "color": "green",
          "opacity": 0.4,
          "size": 1.8849557522123894,
          "symbol": "cross-thin"
         },
         "mode": "markers",
         "name": "rupert → eustache",
         "showlegend": false,
         "text": "<b>rupert → eustache</b>:<br><br>1<br>7<br>8<br>13<br>",
         "type": "scatter",
         "x": [
          0.15846481697856482
         ],
         "y": [
          -0.12157045341317008
         ]
        },
        {
         "hoverinfo": "skip",
         "legendgroup": "rupert → jeronimus",
         "line": {
          "color": "green",
          "smoothing": 1.3,
          "width": 1.4424778761061947
         },
         "mode": "lines",
         "name": "rupert → jeronimus",
         "opacity": 0.5,
         "showlegend": false,
         "type": "scatter",
         "x": [
          0.15852202608362587,
          0.11987714696755482
         ],
         "y": [
          -0.11160116329979293,
          0.3596944311525341
         ]
        },
        {
         "hoverinfo": "text",
         "marker": {
          "color": "green",
          "opacity": 0.4,
          "size": 1.4424778761061947,
          "symbol": "cross-thin"
         },
         "mode": "markers",
         "name": "rupert → jeronimus",
         "showlegend": false,
         "text": "<b>rupert → jeronimus</b>:<br><br>1<br>7<br>",
         "type": "scatter",
         "x": [
          0.15465753817201877
         ],
         "y": [
          -0.06447160385456023
         ]
        },
        {
         "hoverinfo": "skip",
         "legendgroup": "rupert → kirchenvogt",
         "line": {
          "color": "green",
          "smoothing": 1.3,
          "width": 1.2212389380530975
         },
         "mode": "lines",
         "name": "rupert → kirchenvogt",
         "opacity": 0.5,
         "showlegend": false,
         "type": "scatter",
         "x": [
          0.15852202608362587,
          0.4816195681573746
         ],
         "y": [
          -0.11160116329979293,
          0.6208273887846426
         ]
        },
        {
         "hoverinfo": "text",
         "marker": {
          "color": "green",
          "opacity": 0.4,
          "size": 1.2212389380530975,
          "symbol": "cross-thin"
         },
         "mode": "markers",
         "name": "rupert → kirchenvogt",
         "showlegend": false,
         "text": "<b>rupert → kirchenvogt</b>:<br><br>1<br>",
         "type": "scatter",
         "x": [
          0.19083178029100073
         ],
         "y": [
          -0.03835830809134937
         ]
        },
        {
         "hoverinfo": "skip",
         "legendgroup": "rupert → ein_diener_1-1",
         "line": {
          "color": "green",
          "smoothing": 1.3,
          "width": 1.2212389380530975
         },
         "mode": "lines",
         "name": "rupert → ein_diener_1-1",
         "opacity": 0.5,
         "showlegend": false,
         "type": "scatter",
         "x": [
          0.15852202608362587,
          0.2718200694555047
         ],
         "y": [
          -0.11160116329979293,
          0.6891212709220258
         ]
        },
        {
         "hoverinfo": "text",
         "marker": {
          "color": "green",
          "opacity": 0.4,
          "size": 1.2212389380530975,
          "symbol": "cross-thin"
         },
         "mode": "markers",
         "name": "rupert → ein_diener_1-1",
         "showlegend": false,
         "text": "<b>rupert → ein_diener_1-1</b>:<br><br>1<br>",
         "type": "scatter",
         "x": [
          0.16985183042081375
         ],
         "y": [
          -0.031528919877611056
         ]
        },
        {
         "hoverinfo": "skip",
         "legendgroup": "rupert → johann",
         "line": {
          "color": "green",
          "smoothing": 1.3,
          "width": 1.4424778761061947
         },
         "mode": "lines",
         "name": "rupert → johann",
         "opacity": 0.5,
         "showlegend": false,
         "type": "scatter",
         "x": [
          0.15852202608362587,
          -0.07561875487925733
         ],
         "y": [
          -0.11160116329979293,
          0.18455698650381022
         ]
        },
        {
         "hoverinfo": "text",
         "marker": {
          "color": "green",
          "opacity": 0.4,
          "size": 1.4424778761061947,
          "symbol": "cross-thin"
         },
         "mode": "markers",
         "name": "rupert → johann",
         "showlegend": false,
         "text": "<b>rupert → johann</b>:<br><br>1<br>13<br>",
         "type": "scatter",
         "x": [
          0.13510794798733755
         ],
         "y": [
          -0.08198534831943262
         ]
        },
        {
         "hoverinfo": "skip",
         "legendgroup": "ottokar → chor_der_maedchen",
         "line": {
          "color": "green",
          "smoothing": 1.3,
          "width": 1.2212389380530975
         },
         "mode": "lines",
         "name": "ottokar → chor_der_maedchen",
         "opacity": 0.5,
         "showlegend": false,
         "type": "scatter",
         "x": [
          0.2730079225516097,
          0.6893631754005448
         ],
         "y": [
          0.02576232963849259,
          0.27012959002182513
         ]
        },
        {
         "hoverinfo": "text",
         "marker": {
          "color": "green",
          "opacity": 0.4,
          "size": 1.2212389380530975,
          "symbol": "cross-thin"
         },
         "mode": "markers",
         "name": "ottokar → chor_der_maedchen",
         "showlegend": false,
         "text": "<b>ottokar → chor_der_maedchen</b>:<br><br>1<br>",
         "type": "scatter",
         "x": [
          0.3146434478365032
         ],
         "y": [
          0.050199055676825845
         ]
        },
        {
         "hoverinfo": "skip",
         "legendgroup": "ottokar → chor_der_juenglinge",
         "line": {
          "color": "green",
          "smoothing": 1.3,
          "width": 1.2212389380530975
         },
         "mode": "lines",
         "name": "ottokar → chor_der_juenglinge",
         "opacity": 0.5,
         "showlegend": false,
         "type": "scatter",
         "x": [
          0.2730079225516097,
          0.6428506508991912
         ],
         "y": [
          0.02576232963849259,
          0.47513768752599617
         ]
        },
        {
         "hoverinfo": "text",
         "marker": {
          "color": "green",
          "opacity": 0.4,
          "size": 1.2212389380530975,
          "symbol": "cross-thin"
         },
         "mode": "markers",
         "name": "ottokar → chor_der_juenglinge",
         "showlegend": false,
         "text": "<b>ottokar → chor_der_juenglinge</b>:<br><br>1<br>",
         "type": "scatter",
         "x": [
          0.3099921953863679
         ],
         "y": [
          0.07069986542724295
         ]
        },
        {
         "hoverinfo": "skip",
         "legendgroup": "ottokar → rupert",
         "line": {
          "color": "green",
          "smoothing": 1.3,
          "width": 1.4424778761061947
         },
         "mode": "lines",
         "name": "ottokar → rupert",
         "opacity": 0.5,
         "showlegend": false,
         "type": "scatter",
         "x": [
          0.2730079225516097,
          0.15852202608362587
         ],
         "y": [
          0.02576232963849259,
          -0.11160116329979293
         ]
        },
        {
         "hoverinfo": "text",
         "marker": {
          "color": "green",
          "opacity": 0.4,
          "size": 1.4424778761061947,
          "symbol": "cross-thin"
         },
         "mode": "markers",
         "name": "ottokar → rupert",
         "showlegend": false,
         "text": "<b>ottokar → rupert</b>:<br><br>1<br>13<br>",
         "type": "scatter",
         "x": [
          0.2615593329048113
         ],
         "y": [
          0.012025980344664037
         ]
        },
        {
         "hoverinfo": "skip",
         "legendgroup": "ottokar → eustache",
         "line": {
          "color": "green",
          "smoothing": 1.3,
          "width": 1.663716814159292
         },
         "mode": "lines",
         "name": "ottokar → eustache",
         "opacity": 0.5,
         "showlegend": false,
         "type": "scatter",
         "x": [
          0.2730079225516097,
          0.15794993503301555
         ],
         "y": [
          0.02576232963849259,
          -0.21129406443356444
         ]
        },
        {
         "hoverinfo": "text",
         "marker": {
          "color": "green",
          "opacity": 0.4,
          "size": 1.663716814159292,
          "symbol": "cross-thin"
         },
         "mode": "markers",
         "name": "ottokar → eustache",
         "showlegend": false,
         "text": "<b>ottokar → eustache</b>:<br><br>1<br>12<br>13<br>",
         "type": "scatter",
         "x": [
          0.2615021237997503
         ],
         "y": [
          0.0020566902312868854
         ]
        },
        {
         "hoverinfo": "skip",
         "legendgroup": "ottokar → jeronimus",
         "line": {
          "color": "green",
          "smoothing": 1.3,
          "width": 1.2212389380530975
         },
         "mode": "lines",
         "name": "ottokar → jeronimus",
         "opacity": 0.5,
         "showlegend": false,
         "type": "scatter",
         "x": [
          0.2730079225516097,
          0.11987714696755482
         ],
         "y": [
          0.02576232963849259,
          0.3596944311525341
         ]
        },
        {
         "hoverinfo": "text",
         "marker": {
          "color": "green",
          "opacity": 0.4,
          "size": 1.2212389380530975,
          "symbol": "cross-thin"
         },
         "mode": "markers",
         "name": "ottokar → jeronimus",
         "showlegend": false,
         "text": "<b>ottokar → jeronimus</b>:<br><br>1<br>",
         "type": "scatter",
         "x": [
          0.2576948449932042
         ],
         "y": [
          0.05915553978989674
         ]
        },
        {
         "hoverinfo": "skip",
         "legendgroup": "ottokar → kirchenvogt",
         "line": {
          "color": "green",
          "smoothing": 1.3,
          "width": 1.2212389380530975
         },
         "mode": "lines",
         "name": "ottokar → kirchenvogt",
         "opacity": 0.5,
         "showlegend": false,
         "type": "scatter",
         "x": [
          0.2730079225516097,
          0.4816195681573746
         ],
         "y": [
          0.02576232963849259,
          0.6208273887846426
         ]
        },
        {
         "hoverinfo": "text",
         "marker": {
          "color": "green",
          "opacity": 0.4,
          "size": 1.2212389380530975,
          "symbol": "cross-thin"
         },
         "mode": "markers",
         "name": "ottokar → kirchenvogt",
         "showlegend": false,
         "text": "<b>ottokar → kirchenvogt</b>:<br><br>1<br>",
         "type": "scatter",
         "x": [
          0.29386908711218623
         ],
         "y": [
          0.0852688355531076
         ]
        },
        {
         "hoverinfo": "skip",
         "legendgroup": "ottokar → ein_diener_1-1",
         "line": {
          "color": "green",
          "smoothing": 1.3,
          "width": 1.2212389380530975
         },
         "mode": "lines",
         "name": "ottokar → ein_diener_1-1",
         "opacity": 0.5,
         "showlegend": false,
         "type": "scatter",
         "x": [
          0.2730079225516097,
          0.2718200694555047
         ],
         "y": [
          0.02576232963849259,
          0.6891212709220258
         ]
        },
        {
         "hoverinfo": "text",
         "marker": {
          "color": "green",
          "opacity": 0.4,
          "size": 1.2212389380530975,
          "symbol": "cross-thin"
         },
         "mode": "markers",
         "name": "ottokar → ein_diener_1-1",
         "showlegend": false,
         "text": "<b>ottokar → ein_diener_1-1</b>:<br><br>1<br>",
         "type": "scatter",
         "x": [
          0.2728891372419992
         ],
         "y": [
          0.09209822376684591
         ]
        },
        {
         "hoverinfo": "skip",
         "legendgroup": "ottokar → johann",
         "line": {
          "color": "green",
          "smoothing": 1.3,
          "width": 1.663716814159292
         },
         "mode": "lines",
         "name": "ottokar → johann",
         "opacity": 0.5,
         "showlegend": false,
         "type": "scatter",
         "x": [
          0.2730079225516097,
          -0.07561875487925733
         ],
         "y": [
          0.02576232963849259,
          0.18455698650381022
         ]
        },
        {
         "hoverinfo": "text",
         "marker": {
          "color": "green",
          "opacity": 0.4,
          "size": 1.663716814159292,
          "symbol": "cross-thin"
         },
         "mode": "markers",
         "name": "ottokar → johann",
         "showlegend": false,
         "text": "<b>ottokar → johann</b>:<br><br>1<br>3<br>13<br>",
         "type": "scatter",
         "x": [
          0.23814525480852303
         ],
         "y": [
          0.04164179532502435
         ]
        },
        {
         "hoverinfo": "skip",
         "legendgroup": "eustache → chor_der_maedchen",
         "line": {
          "color": "green",
          "smoothing": 1.3,
          "width": 1.2212389380530975
         },
         "mode": "lines",
         "name": "eustache → chor_der_maedchen",
         "opacity": 0.5,
         "showlegend": false,
         "type": "scatter",
         "x": [
          0.15794993503301555,
          0.6893631754005448
         ],
         "y": [
          -0.21129406443356444,
          0.27012959002182513
         ]
        },
        {
         "hoverinfo": "text",
         "marker": {
          "color": "green",
          "opacity": 0.4,
          "size": 1.2212389380530975,
          "symbol": "cross-thin"
         },
         "mode": "markers",
         "name": "eustache → chor_der_maedchen",
         "showlegend": false,
         "text": "<b>eustache → chor_der_maedchen</b>:<br><br>1<br>",
         "type": "scatter",
         "x": [
          0.2110912590697685
         ],
         "y": [
          -0.16315169898802548
         ]
        },
        {
         "hoverinfo": "skip",
         "legendgroup": "eustache → chor_der_juenglinge",
         "line": {
          "color": "green",
          "smoothing": 1.3,
          "width": 1.2212389380530975
         },
         "mode": "lines",
         "name": "eustache → chor_der_juenglinge",
         "opacity": 0.5,
         "showlegend": false,
         "type": "scatter",
         "x": [
          0.15794993503301555,
          0.6428506508991912
         ],
         "y": [
          -0.21129406443356444,
          0.47513768752599617
         ]
        },
        {
         "hoverinfo": "text",
         "marker": {
          "color": "green",
          "opacity": 0.4,
          "size": 1.2212389380530975,
          "symbol": "cross-thin"
         },
         "mode": "markers",
         "name": "eustache → chor_der_juenglinge",
         "showlegend": false,
         "text": "<b>eustache → chor_der_juenglinge</b>:<br><br>1<br>",
         "type": "scatter",
         "x": [
          0.20644000661963313
         ],
         "y": [
          -0.14265088923760838
         ]
        },
        {
         "hoverinfo": "skip",
         "legendgroup": "eustache → rupert",
         "line": {
          "color": "green",
          "smoothing": 1.3,
          "width": 1.8849557522123894
         },
         "mode": "lines",
         "name": "eustache → rupert",
         "opacity": 0.5,
         "showlegend": false,
         "type": "scatter",
         "x": [
          0.15794993503301555,
          0.15852202608362587
         ],
         "y": [
          -0.21129406443356444,
          -0.11160116329979293
         ]
        },
        {
         "hoverinfo": "text",
         "marker": {
          "color": "green",
          "opacity": 0.4,
          "size": 1.8849557522123894,
          "symbol": "cross-thin"
         },
         "mode": "markers",
         "name": "eustache → rupert",
         "showlegend": false,
         "text": "<b>eustache → rupert</b>:<br><br>1<br>7<br>8<br>13<br>",
         "type": "scatter",
         "x": [
          0.1580071441380766
         ],
         "y": [
          -0.20132477432018728
         ]
        },
        {
         "hoverinfo": "skip",
         "legendgroup": "eustache → ottokar",
         "line": {
          "color": "green",
          "smoothing": 1.3,
          "width": 1.663716814159292
         },
         "mode": "lines",
         "name": "eustache → ottokar",
         "opacity": 0.5,
         "showlegend": false,
         "type": "scatter",
         "x": [
          0.15794993503301555,
          0.2730079225516097
         ],
         "y": [
          -0.21129406443356444,
          0.02576232963849259
         ]
        },
        {
         "hoverinfo": "text",
         "marker": {
          "color": "green",
          "opacity": 0.4,
          "size": 1.663716814159292,
          "symbol": "cross-thin"
         },
         "mode": "markers",
         "name": "eustache → ottokar",
         "showlegend": false,
         "text": "<b>eustache → ottokar</b>:<br><br>1<br>12<br>13<br>",
         "type": "scatter",
         "x": [
          0.16945573378487497
         ],
         "y": [
          -0.18758842502635872
         ]
        },
        {
         "hoverinfo": "skip",
         "legendgroup": "eustache → jeronimus",
         "line": {
          "color": "green",
          "smoothing": 1.3,
          "width": 1.4424778761061947
         },
         "mode": "lines",
         "name": "eustache → jeronimus",
         "opacity": 0.5,
         "showlegend": false,
         "type": "scatter",
         "x": [
          0.15794993503301555,
          0.11987714696755482
         ],
         "y": [
          -0.21129406443356444,
          0.3596944311525341
         ]
        },
        {
         "hoverinfo": "text",
         "marker": {
          "color": "green",
          "opacity": 0.4,
          "size": 1.4424778761061947,
          "symbol": "cross-thin"
         },
         "mode": "markers",
         "name": "eustache → jeronimus",
         "showlegend": false,
         "text": "<b>eustache → jeronimus</b>:<br><br>1<br>7<br>",
         "type": "scatter",
         "x": [
          0.1541426562264695
         ],
         "y": [
          -0.15419521487495458
         ]
        },
        {
         "hoverinfo": "skip",
         "legendgroup": "eustache → kirchenvogt",
         "line": {
          "color": "green",
          "smoothing": 1.3,
          "width": 1.2212389380530975
         },
         "mode": "lines",
         "name": "eustache → kirchenvogt",
         "opacity": 0.5,
         "showlegend": false,
         "type": "scatter",
         "x": [
          0.15794993503301555,
          0.4816195681573746
         ],
         "y": [
          -0.21129406443356444,
          0.6208273887846426
         ]
        },
        {
         "hoverinfo": "text",
         "marker": {
          "color": "green",
          "opacity": 0.4,
          "size": 1.2212389380530975,
          "symbol": "cross-thin"
         },
         "mode": "markers",
         "name": "eustache → kirchenvogt",
         "showlegend": false,
         "text": "<b>eustache → kirchenvogt</b>:<br><br>1<br>",
         "type": "scatter",
         "x": [
          0.19031689834545146
         ],
         "y": [
          -0.12808191911174371
         ]
        },
        {
         "hoverinfo": "skip",
         "legendgroup": "eustache → ein_diener_1-1",
         "line": {
          "color": "green",
          "smoothing": 1.3,
          "width": 1.2212389380530975
         },
         "mode": "lines",
         "name": "eustache → ein_diener_1-1",
         "opacity": 0.5,
         "showlegend": false,
         "type": "scatter",
         "x": [
          0.15794993503301555,
          0.2718200694555047
         ],
         "y": [
          -0.21129406443356444,
          0.6891212709220258
         ]
        },
        {
         "hoverinfo": "text",
         "marker": {
          "color": "green",
          "opacity": 0.4,
          "size": 1.2212389380530975,
          "symbol": "cross-thin"
         },
         "mode": "markers",
         "name": "eustache → ein_diener_1-1",
         "showlegend": false,
         "text": "<b>eustache → ein_diener_1-1</b>:<br><br>1<br>",
         "type": "scatter",
         "x": [
          0.16933694847526448
         ],
         "y": [
          -0.1212525308980054
         ]
        },
        {
         "hoverinfo": "skip",
         "legendgroup": "eustache → johann",
         "line": {
          "color": "green",
          "smoothing": 1.3,
          "width": 1.4424778761061947
         },
         "mode": "lines",
         "name": "eustache → johann",
         "opacity": 0.5,
         "showlegend": false,
         "type": "scatter",
         "x": [
          0.15794993503301555,
          -0.07561875487925733
         ],
         "y": [
          -0.21129406443356444,
          0.18455698650381022
         ]
        },
        {
         "hoverinfo": "text",
         "marker": {
          "color": "green",
          "opacity": 0.4,
          "size": 1.4424778761061947,
          "symbol": "cross-thin"
         },
         "mode": "markers",
         "name": "eustache → johann",
         "showlegend": false,
         "text": "<b>eustache → johann</b>:<br><br>1<br>13<br>",
         "type": "scatter",
         "x": [
          0.13459306604178828
         ],
         "y": [
          -0.17170895933982697
         ]
        },
        {
         "hoverinfo": "skip",
         "legendgroup": "jeronimus → chor_der_maedchen",
         "line": {
          "color": "green",
          "smoothing": 1.3,
          "width": 1.2212389380530975
         },
         "mode": "lines",
         "name": "jeronimus → chor_der_maedchen",
         "opacity": 0.5,
         "showlegend": false,
         "type": "scatter",
         "x": [
          0.11987714696755482,
          0.6893631754005448
         ],
         "y": [
          0.3596944311525341,
          0.27012959002182513
         ]
        },
        {
         "hoverinfo": "text",
         "marker": {
          "color": "green",
          "opacity": 0.4,
          "size": 1.2212389380530975,
          "symbol": "cross-thin"
         },
         "mode": "markers",
         "name": "jeronimus → chor_der_maedchen",
         "showlegend": false,
         "text": "<b>jeronimus → chor_der_maedchen</b>:<br><br>1<br>",
         "type": "scatter",
         "x": [
          0.1768257498108538
         ],
         "y": [
          0.3507379470394632
         ]
        },
        {
         "hoverinfo": "skip",
         "legendgroup": "jeronimus → chor_der_juenglinge",
         "line": {
          "color": "green",
          "smoothing": 1.3,
          "width": 1.2212389380530975
         },
         "mode": "lines",
         "name": "jeronimus → chor_der_juenglinge",
         "opacity": 0.5,
         "showlegend": false,
         "type": "scatter",
         "x": [
          0.11987714696755482,
          0.6428506508991912
         ],
         "y": [
          0.3596944311525341,
          0.47513768752599617
         ]
        },
        {
         "hoverinfo": "text",
         "marker": {
          "color": "green",
          "opacity": 0.4,
          "size": 1.2212389380530975,
          "symbol": "cross-thin"
         },
         "mode": "markers",
         "name": "jeronimus → chor_der_juenglinge",
         "showlegend": false,
         "text": "<b>jeronimus → chor_der_juenglinge</b>:<br><br>1<br>",
         "type": "scatter",
         "x": [
          0.17217449736071846
         ],
         "y": [
          0.3712387567898803
         ]
        },
        {
         "hoverinfo": "skip",
         "legendgroup": "jeronimus → rupert",
         "line": {
          "color": "green",
          "smoothing": 1.3,
          "width": 1.4424778761061947
         },
         "mode": "lines",
         "name": "jeronimus → rupert",
         "opacity": 0.5,
         "showlegend": false,
         "type": "scatter",
         "x": [
          0.11987714696755482,
          0.15852202608362587
         ],
         "y": [
          0.3596944311525341,
          -0.11160116329979293
         ]
        },
        {
         "hoverinfo": "text",
         "marker": {
          "color": "green",
          "opacity": 0.4,
          "size": 1.4424778761061947,
          "symbol": "cross-thin"
         },
         "mode": "markers",
         "name": "jeronimus → rupert",
         "showlegend": false,
         "text": "<b>jeronimus → rupert</b>:<br><br>1<br>7<br>",
         "type": "scatter",
         "x": [
          0.12374163487916193
         ],
         "y": [
          0.31256487170730135
         ]
        },
        {
         "hoverinfo": "skip",
         "legendgroup": "jeronimus → ottokar",
         "line": {
          "color": "green",
          "smoothing": 1.3,
          "width": 1.2212389380530975
         },
         "mode": "lines",
         "name": "jeronimus → ottokar",
         "opacity": 0.5,
         "showlegend": false,
         "type": "scatter",
         "x": [
          0.11987714696755482,
          0.2730079225516097
         ],
         "y": [
          0.3596944311525341,
          0.02576232963849259
         ]
        },
        {
         "hoverinfo": "text",
         "marker": {
          "color": "green",
          "opacity": 0.4,
          "size": 1.2212389380530975,
          "symbol": "cross-thin"
         },
         "mode": "markers",
         "name": "jeronimus → ottokar",
         "showlegend": false,
         "text": "<b>jeronimus → ottokar</b>:<br><br>1<br>",
         "type": "scatter",
         "x": [
          0.1351902245259603
         ],
         "y": [
          0.3263012210011299
         ]
        },
        {
         "hoverinfo": "skip",
         "legendgroup": "jeronimus → eustache",
         "line": {
          "color": "green",
          "smoothing": 1.3,
          "width": 1.4424778761061947
         },
         "mode": "lines",
         "name": "jeronimus → eustache",
         "opacity": 0.5,
         "showlegend": false,
         "type": "scatter",
         "x": [
          0.11987714696755482,
          0.15794993503301555
         ],
         "y": [
          0.3596944311525341,
          -0.21129406443356444
         ]
        },
        {
         "hoverinfo": "text",
         "marker": {
          "color": "green",
          "opacity": 0.4,
          "size": 1.4424778761061947,
          "symbol": "cross-thin"
         },
         "mode": "markers",
         "name": "jeronimus → eustache",
         "showlegend": false,
         "text": "<b>jeronimus → eustache</b>:<br><br>1<br>7<br>",
         "type": "scatter",
         "x": [
          0.1236844257741009
         ],
         "y": [
          0.30259558159392425
         ]
        },
        {
         "hoverinfo": "skip",
         "legendgroup": "jeronimus → kirchenvogt",
         "line": {
          "color": "green",
          "smoothing": 1.3,
          "width": 1.2212389380530975
         },
         "mode": "lines",
         "name": "jeronimus → kirchenvogt",
         "opacity": 0.5,
         "showlegend": false,
         "type": "scatter",
         "x": [
          0.11987714696755482,
          0.4816195681573746
         ],
         "y": [
          0.3596944311525341,
          0.6208273887846426
         ]
        },
        {
         "hoverinfo": "text",
         "marker": {
          "color": "green",
          "opacity": 0.4,
          "size": 1.2212389380530975,
          "symbol": "cross-thin"
         },
         "mode": "markers",
         "name": "jeronimus → kirchenvogt",
         "showlegend": false,
         "text": "<b>jeronimus → kirchenvogt</b>:<br><br>1<br>",
         "type": "scatter",
         "x": [
          0.1560513890865368
         ],
         "y": [
          0.38580772691574494
         ]
        },
        {
         "hoverinfo": "skip",
         "legendgroup": "jeronimus → ein_diener_1-1",
         "line": {
          "color": "green",
          "smoothing": 1.3,
          "width": 1.2212389380530975
         },
         "mode": "lines",
         "name": "jeronimus → ein_diener_1-1",
         "opacity": 0.5,
         "showlegend": false,
         "type": "scatter",
         "x": [
          0.11987714696755482,
          0.2718200694555047
         ],
         "y": [
          0.3596944311525341,
          0.6891212709220258
         ]
        },
        {
         "hoverinfo": "text",
         "marker": {
          "color": "green",
          "opacity": 0.4,
          "size": 1.2212389380530975,
          "symbol": "cross-thin"
         },
         "mode": "markers",
         "name": "jeronimus → ein_diener_1-1",
         "showlegend": false,
         "text": "<b>jeronimus → ein_diener_1-1</b>:<br><br>1<br>",
         "type": "scatter",
         "x": [
          0.13507143921634981
         ],
         "y": [
          0.39263711512948324
         ]
        },
        {
         "hoverinfo": "skip",
         "legendgroup": "jeronimus → johann",
         "line": {
          "color": "green",
          "smoothing": 1.3,
          "width": 1.4424778761061947
         },
         "mode": "lines",
         "name": "jeronimus → johann",
         "opacity": 0.5,
         "showlegend": false,
         "type": "scatter",
         "x": [
          0.11987714696755482,
          -0.07561875487925733
         ],
         "y": [
          0.3596944311525341,
          0.18455698650381022
         ]
        },
        {
         "hoverinfo": "text",
         "marker": {
          "color": "green",
          "opacity": 0.4,
          "size": 1.4424778761061947,
          "symbol": "cross-thin"
         },
         "mode": "markers",
         "name": "jeronimus → johann",
         "showlegend": false,
         "text": "<b>jeronimus → johann</b>:<br><br>1<br>5<br>",
         "type": "scatter",
         "x": [
          0.1003275567828736
         ],
         "y": [
          0.3421806866876617
         ]
        },
        {
         "hoverinfo": "skip",
         "legendgroup": "kirchenvogt → chor_der_maedchen",
         "line": {
          "color": "green",
          "smoothing": 1.3,
          "width": 1.2212389380530975
         },
         "mode": "lines",
         "name": "kirchenvogt → chor_der_maedchen",
         "opacity": 0.5,
         "showlegend": false,
         "type": "scatter",
         "x": [
          0.4816195681573746,
          0.6893631754005448
         ],
         "y": [
          0.6208273887846426,
          0.27012959002182513
         ]
        },
        {
         "hoverinfo": "text",
         "marker": {
          "color": "green",
          "opacity": 0.4,
          "size": 1.2212389380530975,
          "symbol": "cross-thin"
         },
         "mode": "markers",
         "name": "kirchenvogt → chor_der_maedchen",
         "showlegend": false,
         "text": "<b>kirchenvogt → chor_der_maedchen</b>:<br><br>1<br>",
         "type": "scatter",
         "x": [
          0.5023939288816917
         ],
         "y": [
          0.5857576089083608
         ]
        },
        {
         "hoverinfo": "skip",
         "legendgroup": "kirchenvogt → chor_der_juenglinge",
         "line": {
          "color": "green",
          "smoothing": 1.3,
          "width": 1.2212389380530975
         },
         "mode": "lines",
         "name": "kirchenvogt → chor_der_juenglinge",
         "opacity": 0.5,
         "showlegend": false,
         "type": "scatter",
         "x": [
          0.4816195681573746,
          0.6428506508991912
         ],
         "y": [
          0.6208273887846426,
          0.47513768752599617
         ]
        },
        {
         "hoverinfo": "text",
         "marker": {
          "color": "green",
          "opacity": 0.4,
          "size": 1.2212389380530975,
          "symbol": "cross-thin"
         },
         "mode": "markers",
         "name": "kirchenvogt → chor_der_juenglinge",
         "showlegend": false,
         "text": "<b>kirchenvogt → chor_der_juenglinge</b>:<br><br>1<br>",
         "type": "scatter",
         "x": [
          0.49774267643155634
         ],
         "y": [
          0.6062584186587779
         ]
        },
        {
         "hoverinfo": "skip",
         "legendgroup": "kirchenvogt → rupert",
         "line": {
          "color": "green",
          "smoothing": 1.3,
          "width": 1.2212389380530975
         },
         "mode": "lines",
         "name": "kirchenvogt → rupert",
         "opacity": 0.5,
         "showlegend": false,
         "type": "scatter",
         "x": [
          0.4816195681573746,
          0.15852202608362587
         ],
         "y": [
          0.6208273887846426,
          -0.11160116329979293
         ]
        },
        {
         "hoverinfo": "text",
         "marker": {
          "color": "green",
          "opacity": 0.4,
          "size": 1.2212389380530975,
          "symbol": "cross-thin"
         },
         "mode": "markers",
         "name": "kirchenvogt → rupert",
         "showlegend": false,
         "text": "<b>kirchenvogt → rupert</b>:<br><br>1<br>",
         "type": "scatter",
         "x": [
          0.44930981394999975
         ],
         "y": [
          0.5475845335761991
         ]
        },
        {
         "hoverinfo": "skip",
         "legendgroup": "kirchenvogt → ottokar",
         "line": {
          "color": "green",
          "smoothing": 1.3,
          "width": 1.2212389380530975
         },
         "mode": "lines",
         "name": "kirchenvogt → ottokar",
         "opacity": 0.5,
         "showlegend": false,
         "type": "scatter",
         "x": [
          0.4816195681573746,
          0.2730079225516097
         ],
         "y": [
          0.6208273887846426,
          0.02576232963849259
         ]
        },
        {
         "hoverinfo": "text",
         "marker": {
          "color": "green",
          "opacity": 0.4,
          "size": 1.2212389380530975,
          "symbol": "cross-thin"
         },
         "mode": "markers",
         "name": "kirchenvogt → ottokar",
         "showlegend": false,
         "text": "<b>kirchenvogt → ottokar</b>:<br><br>1<br>",
         "type": "scatter",
         "x": [
          0.46075840359679815
         ],
         "y": [
          0.5613208828700276
         ]
        },
        {
         "hoverinfo": "skip",
         "legendgroup": "kirchenvogt → eustache",
         "line": {
          "color": "green",
          "smoothing": 1.3,
          "width": 1.2212389380530975
         },
         "mode": "lines",
         "name": "kirchenvogt → eustache",
         "opacity": 0.5,
         "showlegend": false,
         "type": "scatter",
         "x": [
          0.4816195681573746,
          0.15794993503301555
         ],
         "y": [
          0.6208273887846426,
          -0.21129406443356444
         ]
        },
        {
         "hoverinfo": "text",
         "marker": {
          "color": "green",
          "opacity": 0.4,
          "size": 1.2212389380530975,
          "symbol": "cross-thin"
         },
         "mode": "markers",
         "name": "kirchenvogt → eustache",
         "showlegend": false,
         "text": "<b>kirchenvogt → eustache</b>:<br><br>1<br>",
         "type": "scatter",
         "x": [
          0.44925260484493873
         ],
         "y": [
          0.5376152434628219
         ]
        },
        {
         "hoverinfo": "skip",
         "legendgroup": "kirchenvogt → jeronimus",
         "line": {
          "color": "green",
          "smoothing": 1.3,
          "width": 1.2212389380530975
         },
         "mode": "lines",
         "name": "kirchenvogt → jeronimus",
         "opacity": 0.5,
         "showlegend": false,
         "type": "scatter",
         "x": [
          0.4816195681573746,
          0.11987714696755482
         ],
         "y": [
          0.6208273887846426,
          0.3596944311525341
         ]
        },
        {
         "hoverinfo": "text",
         "marker": {
          "color": "green",
          "opacity": 0.4,
          "size": 1.2212389380530975,
          "symbol": "cross-thin"
         },
         "mode": "markers",
         "name": "kirchenvogt → jeronimus",
         "showlegend": false,
         "text": "<b>kirchenvogt → jeronimus</b>:<br><br>1<br>",
         "type": "scatter",
         "x": [
          0.44544532603839265
         ],
         "y": [
          0.5947140930214317
         ]
        },
        {
         "hoverinfo": "skip",
         "legendgroup": "kirchenvogt → ein_diener_1-1",
         "line": {
          "color": "green",
          "smoothing": 1.3,
          "width": 1.2212389380530975
         },
         "mode": "lines",
         "name": "kirchenvogt → ein_diener_1-1",
         "opacity": 0.5,
         "showlegend": false,
         "type": "scatter",
         "x": [
          0.4816195681573746,
          0.2718200694555047
         ],
         "y": [
          0.6208273887846426,
          0.6891212709220258
         ]
        },
        {
         "hoverinfo": "text",
         "marker": {
          "color": "green",
          "opacity": 0.4,
          "size": 1.2212389380530975,
          "symbol": "cross-thin"
         },
         "mode": "markers",
         "name": "kirchenvogt → ein_diener_1-1",
         "showlegend": false,
         "text": "<b>kirchenvogt → ein_diener_1-1</b>:<br><br>1<br>",
         "type": "scatter",
         "x": [
          0.46063961828718764
         ],
         "y": [
          0.627656776998381
         ]
        },
        {
         "hoverinfo": "skip",
         "legendgroup": "kirchenvogt → johann",
         "line": {
          "color": "green",
          "smoothing": 1.3,
          "width": 1.2212389380530975
         },
         "mode": "lines",
         "name": "kirchenvogt → johann",
         "opacity": 0.5,
         "showlegend": false,
         "type": "scatter",
         "x": [
          0.4816195681573746,
          -0.07561875487925733
         ],
         "y": [
          0.6208273887846426,
          0.18455698650381022
         ]
        },
        {
         "hoverinfo": "text",
         "marker": {
          "color": "green",
          "opacity": 0.4,
          "size": 1.2212389380530975,
          "symbol": "cross-thin"
         },
         "mode": "markers",
         "name": "kirchenvogt → johann",
         "showlegend": false,
         "text": "<b>kirchenvogt → johann</b>:<br><br>1<br>",
         "type": "scatter",
         "x": [
          0.42589573585371143
         ],
         "y": [
          0.5772003485565593
         ]
        },
        {
         "hoverinfo": "skip",
         "legendgroup": "ein_diener_1-1 → chor_der_maedchen",
         "line": {
          "color": "green",
          "smoothing": 1.3,
          "width": 1.2212389380530975
         },
         "mode": "lines",
         "name": "ein_diener_1-1 → chor_der_maedchen",
         "opacity": 0.5,
         "showlegend": false,
         "type": "scatter",
         "x": [
          0.2718200694555047,
          0.6893631754005448
         ],
         "y": [
          0.6891212709220258,
          0.27012959002182513
         ]
        },
        {
         "hoverinfo": "text",
         "marker": {
          "color": "green",
          "opacity": 0.4,
          "size": 1.2212389380530975,
          "symbol": "cross-thin"
         },
         "mode": "markers",
         "name": "ein_diener_1-1 → chor_der_maedchen",
         "showlegend": false,
         "text": "<b>ein_diener_1-1 → chor_der_maedchen</b>:<br><br>1<br>",
         "type": "scatter",
         "x": [
          0.3135743800500087
         ],
         "y": [
          0.6472221028320058
         ]
        },
        {
         "hoverinfo": "skip",
         "legendgroup": "ein_diener_1-1 → chor_der_juenglinge",
         "line": {
          "color": "green",
          "smoothing": 1.3,
          "width": 1.2212389380530975
         },
         "mode": "lines",
         "name": "ein_diener_1-1 → chor_der_juenglinge",
         "opacity": 0.5,
         "showlegend": false,
         "type": "scatter",
         "x": [
          0.2718200694555047,
          0.6428506508991912
         ],
         "y": [
          0.6891212709220258,
          0.47513768752599617
         ]
        },
        {
         "hoverinfo": "text",
         "marker": {
          "color": "green",
          "opacity": 0.4,
          "size": 1.2212389380530975,
          "symbol": "cross-thin"
         },
         "mode": "markers",
         "name": "ein_diener_1-1 → chor_der_juenglinge",
         "showlegend": false,
         "text": "<b>ein_diener_1-1 → chor_der_juenglinge</b>:<br><br>1<br>",
         "type": "scatter",
         "x": [
          0.3089231275998734
         ],
         "y": [
          0.6677229125824229
         ]
        },
        {
         "hoverinfo": "skip",
         "legendgroup": "ein_diener_1-1 → rupert",
         "line": {
          "color": "green",
          "smoothing": 1.3,
          "width": 1.2212389380530975
         },
         "mode": "lines",
         "name": "ein_diener_1-1 → rupert",
         "opacity": 0.5,
         "showlegend": false,
         "type": "scatter",
         "x": [
          0.2718200694555047,
          0.15852202608362587
         ],
         "y": [
          0.6891212709220258,
          -0.11160116329979293
         ]
        },
        {
         "hoverinfo": "text",
         "marker": {
          "color": "green",
          "opacity": 0.4,
          "size": 1.2212389380530975,
          "symbol": "cross-thin"
         },
         "mode": "markers",
         "name": "ein_diener_1-1 → rupert",
         "showlegend": false,
         "text": "<b>ein_diener_1-1 → rupert</b>:<br><br>1<br>",
         "type": "scatter",
         "x": [
          0.2604902651183168
         ],
         "y": [
          0.609049027499844
         ]
        },
        {
         "hoverinfo": "skip",
         "legendgroup": "ein_diener_1-1 → ottokar",
         "line": {
          "color": "green",
          "smoothing": 1.3,
          "width": 1.2212389380530975
         },
         "mode": "lines",
         "name": "ein_diener_1-1 → ottokar",
         "opacity": 0.5,
         "showlegend": false,
         "type": "scatter",
         "x": [
          0.2718200694555047,
          0.2730079225516097
         ],
         "y": [
          0.6891212709220258,
          0.02576232963849259
         ]
        },
        {
         "hoverinfo": "text",
         "marker": {
          "color": "green",
          "opacity": 0.4,
          "size": 1.2212389380530975,
          "symbol": "cross-thin"
         },
         "mode": "markers",
         "name": "ein_diener_1-1 → ottokar",
         "showlegend": false,
         "text": "<b>ein_diener_1-1 → ottokar</b>:<br><br>1<br>",
         "type": "scatter",
         "x": [
          0.2719388547651152
         ],
         "y": [
          0.6227853767936725
         ]
        },
        {
         "hoverinfo": "skip",
         "legendgroup": "ein_diener_1-1 → eustache",
         "line": {
          "color": "green",
          "smoothing": 1.3,
          "width": 1.2212389380530975
         },
         "mode": "lines",
         "name": "ein_diener_1-1 → eustache",
         "opacity": 0.5,
         "showlegend": false,
         "type": "scatter",
         "x": [
          0.2718200694555047,
          0.15794993503301555
         ],
         "y": [
          0.6891212709220258,
          -0.21129406443356444
         ]
        },
        {
         "hoverinfo": "text",
         "marker": {
          "color": "green",
          "opacity": 0.4,
          "size": 1.2212389380530975,
          "symbol": "cross-thin"
         },
         "mode": "markers",
         "name": "ein_diener_1-1 → eustache",
         "showlegend": false,
         "text": "<b>ein_diener_1-1 → eustache</b>:<br><br>1<br>",
         "type": "scatter",
         "x": [
          0.2604330560132558
         ],
         "y": [
          0.5990797373864668
         ]
        },
        {
         "hoverinfo": "skip",
         "legendgroup": "ein_diener_1-1 → jeronimus",
         "line": {
          "color": "green",
          "smoothing": 1.3,
          "width": 1.2212389380530975
         },
         "mode": "lines",
         "name": "ein_diener_1-1 → jeronimus",
         "opacity": 0.5,
         "showlegend": false,
         "type": "scatter",
         "x": [
          0.2718200694555047,
          0.11987714696755482
         ],
         "y": [
          0.6891212709220258,
          0.3596944311525341
         ]
        },
        {
         "hoverinfo": "text",
         "marker": {
          "color": "green",
          "opacity": 0.4,
          "size": 1.2212389380530975,
          "symbol": "cross-thin"
         },
         "mode": "markers",
         "name": "ein_diener_1-1 → jeronimus",
         "showlegend": false,
         "text": "<b>ein_diener_1-1 → jeronimus</b>:<br><br>1<br>",
         "type": "scatter",
         "x": [
          0.2566257772067097
         ],
         "y": [
          0.6561785869450767
         ]
        },
        {
         "hoverinfo": "skip",
         "legendgroup": "ein_diener_1-1 → kirchenvogt",
         "line": {
          "color": "green",
          "smoothing": 1.3,
          "width": 1.2212389380530975
         },
         "mode": "lines",
         "name": "ein_diener_1-1 → kirchenvogt",
         "opacity": 0.5,
         "showlegend": false,
         "type": "scatter",
         "x": [
          0.2718200694555047,
          0.4816195681573746
         ],
         "y": [
          0.6891212709220258,
          0.6208273887846426
         ]
        },
        {
         "hoverinfo": "text",
         "marker": {
          "color": "green",
          "opacity": 0.4,
          "size": 1.2212389380530975,
          "symbol": "cross-thin"
         },
         "mode": "markers",
         "name": "ein_diener_1-1 → kirchenvogt",
         "showlegend": false,
         "text": "<b>ein_diener_1-1 → kirchenvogt</b>:<br><br>1<br>",
         "type": "scatter",
         "x": [
          0.2928000193256917
         ],
         "y": [
          0.6822918827082876
         ]
        },
        {
         "hoverinfo": "skip",
         "legendgroup": "ein_diener_1-1 → johann",
         "line": {
          "color": "green",
          "smoothing": 1.3,
          "width": 1.2212389380530975
         },
         "mode": "lines",
         "name": "ein_diener_1-1 → johann",
         "opacity": 0.5,
         "showlegend": false,
         "type": "scatter",
         "x": [
          0.2718200694555047,
          -0.07561875487925733
         ],
         "y": [
          0.6891212709220258,
          0.18455698650381022
         ]
        },
        {
         "hoverinfo": "text",
         "marker": {
          "color": "green",
          "opacity": 0.4,
          "size": 1.2212389380530975,
          "symbol": "cross-thin"
         },
         "mode": "markers",
         "name": "ein_diener_1-1 → johann",
         "showlegend": false,
         "text": "<b>ein_diener_1-1 → johann</b>:<br><br>1<br>",
         "type": "scatter",
         "x": [
          0.2370761870220285
         ],
         "y": [
          0.6386648424802043
         ]
        },
        {
         "hoverinfo": "skip",
         "legendgroup": "johann → chor_der_maedchen",
         "line": {
          "color": "green",
          "smoothing": 1.3,
          "width": 1.2212389380530975
         },
         "mode": "lines",
         "name": "johann → chor_der_maedchen",
         "opacity": 0.5,
         "showlegend": false,
         "type": "scatter",
         "x": [
          -0.07561875487925733,
          0.6893631754005448
         ],
         "y": [
          0.18455698650381022,
          0.27012959002182513
         ]
        },
        {
         "hoverinfo": "text",
         "marker": {
          "color": "green",
          "opacity": 0.4,
          "size": 1.2212389380530975,
          "symbol": "cross-thin"
         },
         "mode": "markers",
         "name": "johann → chor_der_maedchen",
         "showlegend": false,
         "text": "<b>johann → chor_der_maedchen</b>:<br><br>1<br>",
         "type": "scatter",
         "x": [
          0.0008794381487228914
         ],
         "y": [
          0.1931142468556117
         ]
        },
        {
         "hoverinfo": "skip",
         "legendgroup": "johann → chor_der_juenglinge",
         "line": {
          "color": "green",
          "smoothing": 1.3,
          "width": 1.2212389380530975
         },
         "mode": "lines",
         "name": "johann → chor_der_juenglinge",
         "opacity": 0.5,
         "showlegend": false,
         "type": "scatter",
         "x": [
          -0.07561875487925733,
          0.6428506508991912
         ],
         "y": [
          0.18455698650381022,
          0.47513768752599617
         ]
        },
        {
         "hoverinfo": "text",
         "marker": {
          "color": "green",
          "opacity": 0.4,
          "size": 1.2212389380530975,
          "symbol": "cross-thin"
         },
         "mode": "markers",
         "name": "johann → chor_der_juenglinge",
         "showlegend": false,
         "text": "<b>johann → chor_der_juenglinge</b>:<br><br>1<br>",
         "type": "scatter",
         "x": [
          -0.0037718143014124628
         ],
         "y": [
          0.2136150566060288
         ]
        },
        {
         "hoverinfo": "skip",
         "legendgroup": "johann → rupert",
         "line": {
          "color": "green",
          "smoothing": 1.3,
          "width": 1.4424778761061947
         },
         "mode": "lines",
         "name": "johann → rupert",
         "opacity": 0.5,
         "showlegend": false,
         "type": "scatter",
         "x": [
          -0.07561875487925733,
          0.15852202608362587
         ],
         "y": [
          0.18455698650381022,
          -0.11160116329979293
         ]
        },
        {
         "hoverinfo": "text",
         "marker": {
          "color": "green",
          "opacity": 0.4,
          "size": 1.4424778761061947,
          "symbol": "cross-thin"
         },
         "mode": "markers",
         "name": "johann → rupert",
         "showlegend": false,
         "text": "<b>johann → rupert</b>:<br><br>1<br>13<br>",
         "type": "scatter",
         "x": [
          -0.052204676782969
         ],
         "y": [
          0.1549411715234499
         ]
        },
        {
         "hoverinfo": "skip",
         "legendgroup": "johann → ottokar",
         "line": {
          "color": "green",
          "smoothing": 1.3,
          "width": 1.663716814159292
         },
         "mode": "lines",
         "name": "johann → ottokar",
         "opacity": 0.5,
         "showlegend": false,
         "type": "scatter",
         "x": [
          -0.07561875487925733,
          0.2730079225516097
         ],
         "y": [
          0.18455698650381022,
          0.02576232963849259
         ]
        },
        {
         "hoverinfo": "text",
         "marker": {
          "color": "green",
          "opacity": 0.4,
          "size": 1.663716814159292,
          "symbol": "cross-thin"
         },
         "mode": "markers",
         "name": "johann → ottokar",
         "showlegend": false,
         "text": "<b>johann → ottokar</b>:<br><br>1<br>3<br>13<br>",
         "type": "scatter",
         "x": [
          -0.04075608713617062
         ],
         "y": [
          0.16867752081727846
         ]
        },
        {
         "hoverinfo": "skip",
         "legendgroup": "johann → eustache",
         "line": {
          "color": "green",
          "smoothing": 1.3,
          "width": 1.4424778761061947
         },
         "mode": "lines",
         "name": "johann → eustache",
         "opacity": 0.5,
         "showlegend": false,
         "type": "scatter",
         "x": [
          -0.07561875487925733,
          0.15794993503301555
         ],
         "y": [
          0.18455698650381022,
          -0.21129406443356444
         ]
        },
        {
         "hoverinfo": "text",
         "marker": {
          "color": "green",
          "opacity": 0.4,
          "size": 1.4424778761061947,
          "symbol": "cross-thin"
         },
         "mode": "markers",
         "name": "johann → eustache",
         "showlegend": false,
         "text": "<b>johann → eustache</b>:<br><br>1<br>13<br>",
         "type": "scatter",
         "x": [
          -0.05226188588803003
         ],
         "y": [
          0.14497188141007275
         ]
        },
        {
         "hoverinfo": "skip",
         "legendgroup": "johann → jeronimus",
         "line": {
          "color": "green",
          "smoothing": 1.3,
          "width": 1.4424778761061947
         },
         "mode": "lines",
         "name": "johann → jeronimus",
         "opacity": 0.5,
         "showlegend": false,
         "type": "scatter",
         "x": [
          -0.07561875487925733,
          0.11987714696755482
         ],
         "y": [
          0.18455698650381022,
          0.3596944311525341
         ]
        },
        {
         "hoverinfo": "text",
         "marker": {
          "color": "green",
          "opacity": 0.4,
          "size": 1.4424778761061947,
          "symbol": "cross-thin"
         },
         "mode": "markers",
         "name": "johann → jeronimus",
         "showlegend": false,
         "text": "<b>johann → jeronimus</b>:<br><br>1<br>5<br>",
         "type": "scatter",
         "x": [
          -0.05606916469457611
         ],
         "y": [
          0.2020707309686826
         ]
        },
        {
         "hoverinfo": "skip",
         "legendgroup": "johann → kirchenvogt",
         "line": {
          "color": "green",
          "smoothing": 1.3,
          "width": 1.2212389380530975
         },
         "mode": "lines",
         "name": "johann → kirchenvogt",
         "opacity": 0.5,
         "showlegend": false,
         "type": "scatter",
         "x": [
          -0.07561875487925733,
          0.4816195681573746
         ],
         "y": [
          0.18455698650381022,
          0.6208273887846426
         ]
        },
        {
         "hoverinfo": "text",
         "marker": {
          "color": "green",
          "opacity": 0.4,
          "size": 1.2212389380530975,
          "symbol": "cross-thin"
         },
         "mode": "markers",
         "name": "johann → kirchenvogt",
         "showlegend": false,
         "text": "<b>johann → kirchenvogt</b>:<br><br>1<br>",
         "type": "scatter",
         "x": [
          -0.01989492257559413
         ],
         "y": [
          0.22818402673189347
         ]
        },
        {
         "hoverinfo": "skip",
         "legendgroup": "johann → ein_diener_1-1",
         "line": {
          "color": "green",
          "smoothing": 1.3,
          "width": 1.2212389380530975
         },
         "mode": "lines",
         "name": "johann → ein_diener_1-1",
         "opacity": 0.5,
         "showlegend": false,
         "type": "scatter",
         "x": [
          -0.07561875487925733,
          0.2718200694555047
         ],
         "y": [
          0.18455698650381022,
          0.6891212709220258
         ]
        },
        {
         "hoverinfo": "text",
         "marker": {
          "color": "green",
          "opacity": 0.4,
          "size": 1.2212389380530975,
          "symbol": "cross-thin"
         },
         "mode": "markers",
         "name": "johann → ein_diener_1-1",
         "showlegend": false,
         "text": "<b>johann → ein_diener_1-1</b>:<br><br>1<br>",
         "type": "scatter",
         "x": [
          -0.04087487244578113
         ],
         "y": [
          0.23501341494563177
         ]
        },
        {
         "hoverinfo": "skip",
         "legendgroup": "sylvius → agnes",
         "line": {
          "color": "green",
          "smoothing": 1.3,
          "width": 1.4424778761061947
         },
         "mode": "lines",
         "name": "sylvius → agnes",
         "opacity": 0.5,
         "showlegend": false,
         "type": "scatter",
         "x": [
          -0.3679330237902063,
          -0.6633165401762209
         ],
         "y": [
          0.061432210336696845,
          0.0856420375823834
         ]
        },
        {
         "hoverinfo": "text",
         "marker": {
          "color": "green",
          "opacity": 0.4,
          "size": 1.4424778761061947,
          "symbol": "cross-thin"
         },
         "mode": "markers",
         "name": "sylvius → agnes",
         "showlegend": false,
         "text": "<b>sylvius → agnes</b>:<br><br>2<br>13<br>",
         "type": "scatter",
         "x": [
          -0.3974713754288078
         ],
         "y": [
          0.0638531930612655
         ]
        },
        {
         "hoverinfo": "skip",
         "legendgroup": "sylvius → gertrude",
         "line": {
          "color": "green",
          "smoothing": 1.3,
          "width": 1.4424778761061947
         },
         "mode": "lines",
         "name": "sylvius → gertrude",
         "opacity": 0.5,
         "showlegend": false,
         "type": "scatter",
         "x": [
          -0.3679330237902063,
          -0.5040364541538961
         ],
         "y": [
          0.061432210336696845,
          0.14349277018414075
         ]
        },
        {
         "hoverinfo": "text",
         "marker": {
          "color": "green",
          "opacity": 0.4,
          "size": 1.4424778761061947,
          "symbol": "cross-thin"
         },
         "mode": "markers",
         "name": "sylvius → gertrude",
         "showlegend": false,
         "text": "<b>sylvius → gertrude</b>:<br><br>2<br>13<br>",
         "type": "scatter",
         "x": [
          -0.3815433668265753
         ],
         "y": [
          0.06963826632144124
         ]
        },
        {
         "hoverinfo": "skip",
         "legendgroup": "sylvius → sylvester",
         "line": {
          "color": "green",
          "smoothing": 1.3,
          "width": 1.4424778761061947
         },
         "mode": "lines",
         "name": "sylvius → sylvester",
         "opacity": 0.5,
         "showlegend": false,
         "type": "scatter",
         "x": [
          -0.3679330237902063,
          -0.3722337039749577
         ],
         "y": [
          0.061432210336696845,
          0.23070930968089287
         ]
        },
        {
         "hoverinfo": "text",
         "marker": {
          "color": "green",
          "opacity": 0.4,
          "size": 1.4424778761061947,
          "symbol": "cross-thin"
         },
         "mode": "markers",
         "name": "sylvius → sylvester",
         "showlegend": false,
         "text": "<b>sylvius → sylvester</b>:<br><br>2<br>13<br>",
         "type": "scatter",
         "x": [
          -0.3683630918086815
         ],
         "y": [
          0.07835992027111645
         ]
        },
        {
         "hoverinfo": "skip",
         "legendgroup": "sylvius → gaertner",
         "line": {
          "color": "green",
          "smoothing": 1.3,
          "width": 1.2212389380530975
         },
         "mode": "lines",
         "name": "sylvius → gaertner",
         "opacity": 0.5,
         "showlegend": false,
         "type": "scatter",
         "x": [
          -0.3679330237902063,
          -0.22809852688752077
         ],
         "y": [
          0.061432210336696845,
          0.8394833833437474
         ]
        },
        {
         "hoverinfo": "text",
         "marker": {
          "color": "green",
          "opacity": 0.4,
          "size": 1.2212389380530975,
          "symbol": "cross-thin"
         },
         "mode": "markers",
         "name": "sylvius → gaertner",
         "showlegend": false,
         "text": "<b>sylvius → gaertner</b>:<br><br>2<br>",
         "type": "scatter",
         "x": [
          -0.35394957409993777
         ],
         "y": [
          0.1392373276374019
         ]
        },
        {
         "hoverinfo": "skip",
         "legendgroup": "sylvius → ein_knappe",
         "line": {
          "color": "green",
          "smoothing": 1.3,
          "width": 1.2212389380530975
         },
         "mode": "lines",
         "name": "sylvius → ein_knappe",
         "opacity": 0.5,
         "showlegend": false,
         "type": "scatter",
         "x": [
          -0.3679330237902063,
          -0.46105251409487097
         ],
         "y": [
          0.061432210336696845,
          0.8104293708137084
         ]
        },
        {
         "hoverinfo": "text",
         "marker": {
          "color": "green",
          "opacity": 0.4,
          "size": 1.2212389380530975,
          "symbol": "cross-thin"
         },
         "mode": "markers",
         "name": "sylvius → ein_knappe",
         "showlegend": false,
         "text": "<b>sylvius → ein_knappe</b>:<br><br>2<br>",
         "type": "scatter",
         "x": [
          -0.3772449728206728
         ],
         "y": [
          0.136331926384398
         ]
        },
        {
         "hoverinfo": "skip",
         "legendgroup": "sylvius → aldoebern",
         "line": {
          "color": "green",
          "smoothing": 1.3,
          "width": 1.2212389380530975
         },
         "mode": "lines",
         "name": "sylvius → aldoebern",
         "opacity": 0.5,
         "showlegend": false,
         "type": "scatter",
         "x": [
          -0.3679330237902063,
          -0.6821194093573768
         ],
         "y": [
          0.061432210336696845,
          0.6837531407188645
         ]
        },
        {
         "hoverinfo": "text",
         "marker": {
          "color": "green",
          "opacity": 0.4,
          "size": 1.2212389380530975,
          "symbol": "cross-thin"
         },
         "mode": "markers",
         "name": "sylvius → aldoebern",
         "showlegend": false,
         "text": "<b>sylvius → aldoebern</b>:<br><br>2<br>",
         "type": "scatter",
         "x": [
          -0.3993516623469234
         ],
         "y": [
          0.1236643033749136
         ]
        },
        {
         "hoverinfo": "skip",
         "legendgroup": "sylvius → jeronimus",
         "line": {
          "color": "green",
          "smoothing": 1.3,
          "width": 1.2212389380530975
         },
         "mode": "lines",
         "name": "sylvius → jeronimus",
         "opacity": 0.5,
         "showlegend": false,
         "type": "scatter",
         "x": [
          -0.3679330237902063,
          0.11987714696755482
         ],
         "y": [
          0.061432210336696845,
          0.3596944311525341
         ]
        },
        {
         "hoverinfo": "text",
         "marker": {
          "color": "green",
          "opacity": 0.4,
          "size": 1.2212389380530975,
          "symbol": "cross-thin"
         },
         "mode": "markers",
         "name": "sylvius → jeronimus",
         "showlegend": false,
         "text": "<b>sylvius → jeronimus</b>:<br><br>2<br>",
         "type": "scatter",
         "x": [
          -0.3191520067144302
         ],
         "y": [
          0.09125843241828058
         ]
        },
        {
         "hoverinfo": "skip",
         "legendgroup": "agnes → sylvius",
         "line": {
          "color": "green",
          "smoothing": 1.3,
          "width": 1.4424778761061947
         },
         "mode": "lines",
         "name": "agnes → sylvius",
         "opacity": 0.5,
         "showlegend": false,
         "type": "scatter",
         "x": [
          -0.6633165401762209,
          -0.3679330237902063
         ],
         "y": [
          0.0856420375823834,
          0.061432210336696845
         ]
        },
        {
         "hoverinfo": "text",
         "marker": {
          "color": "green",
          "opacity": 0.4,
          "size": 1.4424778761061947,
          "symbol": "cross-thin"
         },
         "mode": "markers",
         "name": "agnes → sylvius",
         "showlegend": false,
         "text": "<b>agnes → sylvius</b>:<br><br>2<br>13<br>",
         "type": "scatter",
         "x": [
          -0.6337781885376195
         ],
         "y": [
          0.08322105485781474
         ]
        },
        {
         "hoverinfo": "skip",
         "legendgroup": "agnes → gertrude",
         "line": {
          "color": "green",
          "smoothing": 1.3,
          "width": 1.8849557522123894
         },
         "mode": "lines",
         "name": "agnes → gertrude",
         "opacity": 0.5,
         "showlegend": false,
         "type": "scatter",
         "x": [
          -0.6633165401762209,
          -0.5040364541538961
         ],
         "y": [
          0.0856420375823834,
          0.14349277018414075
         ]
        },
        {
         "hoverinfo": "text",
         "marker": {
          "color": "green",
          "opacity": 0.4,
          "size": 1.8849557522123894,
          "symbol": "cross-thin"
         },
         "mode": "markers",
         "name": "agnes → gertrude",
         "showlegend": false,
         "text": "<b>agnes → gertrude</b>:<br><br>2<br>5<br>9<br>13<br>",
         "type": "scatter",
         "x": [
          -0.6473885315739885
         ],
         "y": [
          0.09142711084255914
         ]
        },
        {
         "hoverinfo": "skip",
         "legendgroup": "agnes → sylvester",
         "line": {
          "color": "green",
          "smoothing": 1.3,
          "width": 1.8849557522123894
         },
         "mode": "lines",
         "name": "agnes → sylvester",
         "opacity": 0.5,
         "showlegend": false,
         "type": "scatter",
         "x": [
          -0.6633165401762209,
          -0.3722337039749577
         ],
         "y": [
          0.0856420375823834,
          0.23070930968089287
         ]
        },
        {
         "hoverinfo": "text",
         "marker": {
          "color": "green",
          "opacity": 0.4,
          "size": 1.8849557522123894,
          "symbol": "cross-thin"
         },
         "mode": "markers",
         "name": "agnes → sylvester",
         "showlegend": false,
         "text": "<b>agnes → sylvester</b>:<br><br>2<br>5<br>9<br>13<br>",
         "type": "scatter",
         "x": [
          -0.6342082565560946
         ],
         "y": [
          0.10014876479223435
         ]
        },
        {
         "hoverinfo": "skip",
         "legendgroup": "agnes → gaertner",
         "line": {
          "color": "green",
          "smoothing": 1.3,
          "width": 1.2212389380530975
         },
         "mode": "lines",
         "name": "agnes → gaertner",
         "opacity": 0.5,
         "showlegend": false,
         "type": "scatter",
         "x": [
          -0.6633165401762209,
          -0.22809852688752077
         ],
         "y": [
          0.0856420375823834,
          0.8394833833437474
         ]
        },
        {
         "hoverinfo": "text",
         "marker": {
          "color": "green",
          "opacity": 0.4,
          "size": 1.2212389380530975,
          "symbol": "cross-thin"
         },
         "mode": "markers",
         "name": "agnes → gaertner",
         "showlegend": false,
         "text": "<b>agnes → gaertner</b>:<br><br>2<br>",
         "type": "scatter",
         "x": [
          -0.6197947388473509
         ],
         "y": [
          0.1610261721585198
         ]
        },
        {
         "hoverinfo": "skip",
         "legendgroup": "agnes → ein_knappe",
         "line": {
          "color": "green",
          "smoothing": 1.3,
          "width": 1.2212389380530975
         },
         "mode": "lines",
         "name": "agnes → ein_knappe",
         "opacity": 0.5,
         "showlegend": false,
         "type": "scatter",
         "x": [
          -0.6633165401762209,
          -0.46105251409487097
         ],
         "y": [
          0.0856420375823834,
          0.8104293708137084
         ]
        },
        {
         "hoverinfo": "text",
         "marker": {
          "color": "green",
          "opacity": 0.4,
          "size": 1.2212389380530975,
          "symbol": "cross-thin"
         },
         "mode": "markers",
         "name": "agnes → ein_knappe",
         "showlegend": false,
         "text": "<b>agnes → ein_knappe</b>:<br><br>2<br>",
         "type": "scatter",
         "x": [
          -0.6430901375680859
         ],
         "y": [
          0.1581207709055159
         ]
        },
        {
         "hoverinfo": "skip",
         "legendgroup": "agnes → aldoebern",
         "line": {
          "color": "green",
          "smoothing": 1.3,
          "width": 1.2212389380530975
         },
         "mode": "lines",
         "name": "agnes → aldoebern",
         "opacity": 0.5,
         "showlegend": false,
         "type": "scatter",
         "x": [
          -0.6633165401762209,
          -0.6821194093573768
         ],
         "y": [
          0.0856420375823834,
          0.6837531407188645
         ]
        },
        {
         "hoverinfo": "text",
         "marker": {
          "color": "green",
          "opacity": 0.4,
          "size": 1.2212389380530975,
          "symbol": "cross-thin"
         },
         "mode": "markers",
         "name": "agnes → aldoebern",
         "showlegend": false,
         "text": "<b>agnes → aldoebern</b>:<br><br>2<br>",
         "type": "scatter",
         "x": [
          -0.6651968270943365
         ],
         "y": [
          0.1454531478960315
         ]
        },
        {
         "hoverinfo": "skip",
         "legendgroup": "agnes → jeronimus",
         "line": {
          "color": "green",
          "smoothing": 1.3,
          "width": 1.4424778761061947
         },
         "mode": "lines",
         "name": "agnes → jeronimus",
         "opacity": 0.5,
         "showlegend": false,
         "type": "scatter",
         "x": [
          -0.6633165401762209,
          0.11987714696755482
         ],
         "y": [
          0.0856420375823834,
          0.3596944311525341
         ]
        },
        {
         "hoverinfo": "text",
         "marker": {
          "color": "green",
          "opacity": 0.4,
          "size": 1.4424778761061947,
          "symbol": "cross-thin"
         },
         "mode": "markers",
         "name": "agnes → jeronimus",
         "showlegend": false,
         "text": "<b>agnes → jeronimus</b>:<br><br>2<br>5<br>",
         "type": "scatter",
         "x": [
          -0.5849971714618433
         ],
         "y": [
          0.11304727693939846
         ]
        },
        {
         "hoverinfo": "skip",
         "legendgroup": "gertrude → sylvius",
         "line": {
          "color": "green",
          "smoothing": 1.3,
          "width": 1.4424778761061947
         },
         "mode": "lines",
         "name": "gertrude → sylvius",
         "opacity": 0.5,
         "showlegend": false,
         "type": "scatter",
         "x": [
          -0.5040364541538961,
          -0.3679330237902063
         ],
         "y": [
          0.14349277018414075,
          0.061432210336696845
         ]
        },
        {
         "hoverinfo": "text",
         "marker": {
          "color": "green",
          "opacity": 0.4,
          "size": 1.4424778761061947,
          "symbol": "cross-thin"
         },
         "mode": "markers",
         "name": "gertrude → sylvius",
         "showlegend": false,
         "text": "<b>gertrude → sylvius</b>:<br><br>2<br>13<br>",
         "type": "scatter",
         "x": [
          -0.4904261111175271
         ],
         "y": [
          0.13528671419939636
         ]
        },
        {
         "hoverinfo": "skip",
         "legendgroup": "gertrude → agnes",
         "line": {
          "color": "green",
          "smoothing": 1.3,
          "width": 1.8849557522123894
         },
         "mode": "lines",
         "name": "gertrude → agnes",
         "opacity": 0.5,
         "showlegend": false,
         "type": "scatter",
         "x": [
          -0.5040364541538961,
          -0.6633165401762209
         ],
         "y": [
          0.14349277018414075,
          0.0856420375823834
         ]
        },
        {
         "hoverinfo": "text",
         "marker": {
          "color": "green",
          "opacity": 0.4,
          "size": 1.8849557522123894,
          "symbol": "cross-thin"
         },
         "mode": "markers",
         "name": "gertrude → agnes",
         "showlegend": false,
         "text": "<b>gertrude → agnes</b>:<br><br>2<br>5<br>9<br>13<br>",
         "type": "scatter",
         "x": [
          -0.5199644627561286
         ],
         "y": [
          0.137707696923965
         ]
        },
        {
         "hoverinfo": "skip",
         "legendgroup": "gertrude → sylvester",
         "line": {
          "color": "green",
          "smoothing": 1.3,
          "width": 2.106194690265487
         },
         "mode": "lines",
         "name": "gertrude → sylvester",
         "opacity": 0.5,
         "showlegend": false,
         "type": "scatter",
         "x": [
          -0.5040364541538961,
          -0.3722337039749577
         ],
         "y": [
          0.14349277018414075,
          0.23070930968089287
         ]
        },
        {
         "hoverinfo": "text",
         "marker": {
          "color": "green",
          "opacity": 0.4,
          "size": 2.106194690265487,
          "symbol": "cross-thin"
         },
         "mode": "markers",
         "name": "gertrude → sylvester",
         "showlegend": false,
         "text": "<b>gertrude → sylvester</b>:<br><br>2<br>4<br>5<br>9<br>13<br>",
         "type": "scatter",
         "x": [
          -0.49085617913600227
         ],
         "y": [
          0.15221442413381597
         ]
        },
        {
         "hoverinfo": "skip",
         "legendgroup": "gertrude → gaertner",
         "line": {
          "color": "green",
          "smoothing": 1.3,
          "width": 1.2212389380530975
         },
         "mode": "lines",
         "name": "gertrude → gaertner",
         "opacity": 0.5,
         "showlegend": false,
         "type": "scatter",
         "x": [
          -0.5040364541538961,
          -0.22809852688752077
         ],
         "y": [
          0.14349277018414075,
          0.8394833833437474
         ]
        },
        {
         "hoverinfo": "text",
         "marker": {
          "color": "green",
          "opacity": 0.4,
          "size": 1.2212389380530975,
          "symbol": "cross-thin"
         },
         "mode": "markers",
         "name": "gertrude → gaertner",
         "showlegend": false,
         "text": "<b>gertrude → gaertner</b>:<br><br>2<br>",
         "type": "scatter",
         "x": [
          -0.47644266142725855
         ],
         "y": [
          0.21309183150010141
         ]
        },
        {
         "hoverinfo": "skip",
         "legendgroup": "gertrude → ein_knappe",
         "line": {
          "color": "green",
          "smoothing": 1.3,
          "width": 1.2212389380530975
         },
         "mode": "lines",
         "name": "gertrude → ein_knappe",
         "opacity": 0.5,
         "showlegend": false,
         "type": "scatter",
         "x": [
          -0.5040364541538961,
          -0.46105251409487097
         ],
         "y": [
          0.14349277018414075,
          0.8104293708137084
         ]
        },
        {
         "hoverinfo": "text",
         "marker": {
          "color": "green",
          "opacity": 0.4,
          "size": 1.2212389380530975,
          "symbol": "cross-thin"
         },
         "mode": "markers",
         "name": "gertrude → ein_knappe",
         "showlegend": false,
         "text": "<b>gertrude → ein_knappe</b>:<br><br>2<br>",
         "type": "scatter",
         "x": [
          -0.4997380601479936
         ],
         "y": [
          0.21018643024709752
         ]
        },
        {
         "hoverinfo": "skip",
         "legendgroup": "gertrude → aldoebern",
         "line": {
          "color": "green",
          "smoothing": 1.3,
          "width": 1.2212389380530975
         },
         "mode": "lines",
         "name": "gertrude → aldoebern",
         "opacity": 0.5,
         "showlegend": false,
         "type": "scatter",
         "x": [
          -0.5040364541538961,
          -0.6821194093573768
         ],
         "y": [
          0.14349277018414075,
          0.6837531407188645
         ]
        },
        {
         "hoverinfo": "text",
         "marker": {
          "color": "green",
          "opacity": 0.4,
          "size": 1.2212389380530975,
          "symbol": "cross-thin"
         },
         "mode": "markers",
         "name": "gertrude → aldoebern",
         "showlegend": false,
         "text": "<b>gertrude → aldoebern</b>:<br><br>2<br>",
         "type": "scatter",
         "x": [
          -0.5218447496742442
         ],
         "y": [
          0.19751880723761311
         ]
        },
        {
         "hoverinfo": "skip",
         "legendgroup": "gertrude → jeronimus",
         "line": {
          "color": "green",
          "smoothing": 1.3,
          "width": 1.663716814159292
         },
         "mode": "lines",
         "name": "gertrude → jeronimus",
         "opacity": 0.5,
         "showlegend": false,
         "type": "scatter",
         "x": [
          -0.5040364541538961,
          0.11987714696755482
         ],
         "y": [
          0.14349277018414075,
          0.3596944311525341
         ]
        },
        {
         "hoverinfo": "text",
         "marker": {
          "color": "green",
          "opacity": 0.4,
          "size": 1.663716814159292,
          "symbol": "cross-thin"
         },
         "mode": "markers",
         "name": "gertrude → jeronimus",
         "showlegend": false,
         "text": "<b>gertrude → jeronimus</b>:<br><br>2<br>4<br>5<br>",
         "type": "scatter",
         "x": [
          -0.441645094041751
         ],
         "y": [
          0.1651129362809801
         ]
        },
        {
         "hoverinfo": "skip",
         "legendgroup": "sylvester → sylvius",
         "line": {
          "color": "green",
          "smoothing": 1.3,
          "width": 1.4424778761061947
         },
         "mode": "lines",
         "name": "sylvester → sylvius",
         "opacity": 0.5,
         "showlegend": false,
         "type": "scatter",
         "x": [
          -0.3722337039749577,
          -0.3679330237902063
         ],
         "y": [
          0.23070930968089287,
          0.061432210336696845
         ]
        },
        {
         "hoverinfo": "text",
         "marker": {
          "color": "green",
          "opacity": 0.4,
          "size": 1.4424778761061947,
          "symbol": "cross-thin"
         },
         "mode": "markers",
         "name": "sylvester → sylvius",
         "showlegend": false,
         "text": "<b>sylvester → sylvius</b>:<br><br>2<br>13<br>",
         "type": "scatter",
         "x": [
          -0.3718036359564826
         ],
         "y": [
          0.21378159974647326
         ]
        },
        {
         "hoverinfo": "skip",
         "legendgroup": "sylvester → agnes",
         "line": {
          "color": "green",
          "smoothing": 1.3,
          "width": 1.8849557522123894
         },
         "mode": "lines",
         "name": "sylvester → agnes",
         "opacity": 0.5,
         "showlegend": false,
         "type": "scatter",
         "x": [
          -0.3722337039749577,
          -0.6633165401762209
         ],
         "y": [
          0.23070930968089287,
          0.0856420375823834
         ]
        },
        {
         "hoverinfo": "text",
         "marker": {
          "color": "green",
          "opacity": 0.4,
          "size": 1.8849557522123894,
          "symbol": "cross-thin"
         },
         "mode": "markers",
         "name": "sylvester → agnes",
         "showlegend": false,
         "text": "<b>sylvester → agnes</b>:<br><br>2<br>5<br>9<br>13<br>",
         "type": "scatter",
         "x": [
          -0.40134198759508405
         ],
         "y": [
          0.2162025824710419
         ]
        },
        {
         "hoverinfo": "skip",
         "legendgroup": "sylvester → gertrude",
         "line": {
          "color": "green",
          "smoothing": 1.3,
          "width": 2.106194690265487
         },
         "mode": "lines",
         "name": "sylvester → gertrude",
         "opacity": 0.5,
         "showlegend": false,
         "type": "scatter",
         "x": [
          -0.3722337039749577,
          -0.5040364541538961
         ],
         "y": [
          0.23070930968089287,
          0.14349277018414075
         ]
        },
        {
         "hoverinfo": "text",
         "marker": {
          "color": "green",
          "opacity": 0.4,
          "size": 2.106194690265487,
          "symbol": "cross-thin"
         },
         "mode": "markers",
         "name": "sylvester → gertrude",
         "showlegend": false,
         "text": "<b>sylvester → gertrude</b>:<br><br>2<br>4<br>5<br>9<br>13<br>",
         "type": "scatter",
         "x": [
          -0.38541397899285157
         ],
         "y": [
          0.22198765573121765
         ]
        },
        {
         "hoverinfo": "skip",
         "legendgroup": "sylvester → gaertner",
         "line": {
          "color": "green",
          "smoothing": 1.3,
          "width": 1.2212389380530975
         },
         "mode": "lines",
         "name": "sylvester → gaertner",
         "opacity": 0.5,
         "showlegend": false,
         "type": "scatter",
         "x": [
          -0.3722337039749577,
          -0.22809852688752077
         ],
         "y": [
          0.23070930968089287,
          0.8394833833437474
         ]
        },
        {
         "hoverinfo": "text",
         "marker": {
          "color": "green",
          "opacity": 0.4,
          "size": 1.2212389380530975,
          "symbol": "cross-thin"
         },
         "mode": "markers",
         "name": "sylvester → gaertner",
         "showlegend": false,
         "text": "<b>sylvester → gaertner</b>:<br><br>2<br>",
         "type": "scatter",
         "x": [
          -0.35782018626621404
         ],
         "y": [
          0.2915867170471783
         ]
        },
        {
         "hoverinfo": "skip",
         "legendgroup": "sylvester → ein_knappe",
         "line": {
          "color": "green",
          "smoothing": 1.3,
          "width": 1.2212389380530975
         },
         "mode": "lines",
         "name": "sylvester → ein_knappe",
         "opacity": 0.5,
         "showlegend": false,
         "type": "scatter",
         "x": [
          -0.3722337039749577,
          -0.46105251409487097
         ],
         "y": [
          0.23070930968089287,
          0.8104293708137084
         ]
        },
        {
         "hoverinfo": "text",
         "marker": {
          "color": "green",
          "opacity": 0.4,
          "size": 1.2212389380530975,
          "symbol": "cross-thin"
         },
         "mode": "markers",
         "name": "sylvester → ein_knappe",
         "showlegend": false,
         "text": "<b>sylvester → ein_knappe</b>:<br><br>2<br>",
         "type": "scatter",
         "x": [
          -0.3811155849869491
         ],
         "y": [
          0.28868131579417444
         ]
        },
        {
         "hoverinfo": "skip",
         "legendgroup": "sylvester → aldoebern",
         "line": {
          "color": "green",
          "smoothing": 1.3,
          "width": 1.2212389380530975
         },
         "mode": "lines",
         "name": "sylvester → aldoebern",
         "opacity": 0.5,
         "showlegend": false,
         "type": "scatter",
         "x": [
          -0.3722337039749577,
          -0.6821194093573768
         ],
         "y": [
          0.23070930968089287,
          0.6837531407188645
         ]
        },
        {
         "hoverinfo": "text",
         "marker": {
          "color": "green",
          "opacity": 0.4,
          "size": 1.2212389380530975,
          "symbol": "cross-thin"
         },
         "mode": "markers",
         "name": "sylvester → aldoebern",
         "showlegend": false,
         "text": "<b>sylvester → aldoebern</b>:<br><br>2<br>",
         "type": "scatter",
         "x": [
          -0.40322227451319964
         ],
         "y": [
          0.27601369278469
         ]
        },
        {
         "hoverinfo": "skip",
         "legendgroup": "sylvester → jeronimus",
         "line": {
          "color": "green",
          "smoothing": 1.3,
          "width": 1.663716814159292
         },
         "mode": "lines",
         "name": "sylvester → jeronimus",
         "opacity": 0.5,
         "showlegend": false,
         "type": "scatter",
         "x": [
          -0.3722337039749577,
          0.11987714696755482
         ],
         "y": [
          0.23070930968089287,
          0.3596944311525341
         ]
        },
        {
         "hoverinfo": "text",
         "marker": {
          "color": "green",
          "opacity": 0.4,
          "size": 1.663716814159292,
          "symbol": "cross-thin"
         },
         "mode": "markers",
         "name": "sylvester → jeronimus",
         "showlegend": false,
         "text": "<b>sylvester → jeronimus</b>:<br><br>2<br>4<br>5<br>",
         "type": "scatter",
         "x": [
          -0.3230226188807065
         ],
         "y": [
          0.243607821828057
         ]
        },
        {
         "hoverinfo": "skip",
         "legendgroup": "gaertner → sylvius",
         "line": {
          "color": "green",
          "smoothing": 1.3,
          "width": 1.2212389380530975
         },
         "mode": "lines",
         "name": "gaertner → sylvius",
         "opacity": 0.5,
         "showlegend": false,
         "type": "scatter",
         "x": [
          -0.22809852688752077,
          -0.3679330237902063
         ],
         "y": [
          0.8394833833437474,
          0.061432210336696845
         ]
        },
        {
         "hoverinfo": "text",
         "marker": {
          "color": "green",
          "opacity": 0.4,
          "size": 1.2212389380530975,
          "symbol": "cross-thin"
         },
         "mode": "markers",
         "name": "gaertner → sylvius",
         "showlegend": false,
         "text": "<b>gaertner → sylvius</b>:<br><br>2<br>",
         "type": "scatter",
         "x": [
          -0.24208197657778935
         ],
         "y": [
          0.7616782660430423
         ]
        },
        {
         "hoverinfo": "skip",
         "legendgroup": "gaertner → agnes",
         "line": {
          "color": "green",
          "smoothing": 1.3,
          "width": 1.2212389380530975
         },
         "mode": "lines",
         "name": "gaertner → agnes",
         "opacity": 0.5,
         "showlegend": false,
         "type": "scatter",
         "x": [
          -0.22809852688752077,
          -0.6633165401762209
         ],
         "y": [
          0.8394833833437474,
          0.0856420375823834
         ]
        },
        {
         "hoverinfo": "text",
         "marker": {
          "color": "green",
          "opacity": 0.4,
          "size": 1.2212389380530975,
          "symbol": "cross-thin"
         },
         "mode": "markers",
         "name": "gaertner → agnes",
         "showlegend": false,
         "text": "<b>gaertner → agnes</b>:<br><br>2<br>",
         "type": "scatter",
         "x": [
          -0.2716203282163908
         ],
         "y": [
          0.7640992487676109
         ]
        },
        {
         "hoverinfo": "skip",
         "legendgroup": "gaertner → gertrude",
         "line": {
          "color": "green",
          "smoothing": 1.3,
          "width": 1.2212389380530975
         },
         "mode": "lines",
         "name": "gaertner → gertrude",
         "opacity": 0.5,
         "showlegend": false,
         "type": "scatter",
         "x": [
          -0.22809852688752077,
          -0.5040364541538961
         ],
         "y": [
          0.8394833833437474,
          0.14349277018414075
         ]
        },
        {
         "hoverinfo": "text",
         "marker": {
          "color": "green",
          "opacity": 0.4,
          "size": 1.2212389380530975,
          "symbol": "cross-thin"
         },
         "mode": "markers",
         "name": "gaertner → gertrude",
         "showlegend": false,
         "text": "<b>gaertner → gertrude</b>:<br><br>2<br>",
         "type": "scatter",
         "x": [
          -0.2556923196141583
         ],
         "y": [
          0.7698843220277867
         ]
        },
        {
         "hoverinfo": "skip",
         "legendgroup": "gaertner → sylvester",
         "line": {
          "color": "green",
          "smoothing": 1.3,
          "width": 1.2212389380530975
         },
         "mode": "lines",
         "name": "gaertner → sylvester",
         "opacity": 0.5,
         "showlegend": false,
         "type": "scatter",
         "x": [
          -0.22809852688752077,
          -0.3722337039749577
         ],
         "y": [
          0.8394833833437474,
          0.23070930968089287
         ]
        },
        {
         "hoverinfo": "text",
         "marker": {
          "color": "green",
          "opacity": 0.4,
          "size": 1.2212389380530975,
          "symbol": "cross-thin"
         },
         "mode": "markers",
         "name": "gaertner → sylvester",
         "showlegend": false,
         "text": "<b>gaertner → sylvester</b>:<br><br>2<br>",
         "type": "scatter",
         "x": [
          -0.24251204459626446
         ],
         "y": [
          0.778605975977462
         ]
        },
        {
         "hoverinfo": "skip",
         "legendgroup": "gaertner → ein_knappe",
         "line": {
          "color": "green",
          "smoothing": 1.3,
          "width": 1.2212389380530975
         },
         "mode": "lines",
         "name": "gaertner → ein_knappe",
         "opacity": 0.5,
         "showlegend": false,
         "type": "scatter",
         "x": [
          -0.22809852688752077,
          -0.46105251409487097
         ],
         "y": [
          0.8394833833437474,
          0.8104293708137084
         ]
        },
        {
         "hoverinfo": "text",
         "marker": {
          "color": "green",
          "opacity": 0.4,
          "size": 1.2212389380530975,
          "symbol": "cross-thin"
         },
         "mode": "markers",
         "name": "gaertner → ein_knappe",
         "showlegend": false,
         "text": "<b>gaertner → ein_knappe</b>:<br><br>2<br>",
         "type": "scatter",
         "x": [
          -0.2513939256082558
         ],
         "y": [
          0.8365779820907435
         ]
        },
        {
         "hoverinfo": "skip",
         "legendgroup": "gaertner → aldoebern",
         "line": {
          "color": "green",
          "smoothing": 1.3,
          "width": 1.2212389380530975
         },
         "mode": "lines",
         "name": "gaertner → aldoebern",
         "opacity": 0.5,
         "showlegend": false,
         "type": "scatter",
         "x": [
          -0.22809852688752077,
          -0.6821194093573768
         ],
         "y": [
          0.8394833833437474,
          0.6837531407188645
         ]
        },
        {
         "hoverinfo": "text",
         "marker": {
          "color": "green",
          "opacity": 0.4,
          "size": 1.2212389380530975,
          "symbol": "cross-thin"
         },
         "mode": "markers",
         "name": "gaertner → aldoebern",
         "showlegend": false,
         "text": "<b>gaertner → aldoebern</b>:<br><br>2<br>",
         "type": "scatter",
         "x": [
          -0.2735006151345064
         ],
         "y": [
          0.8239103590812591
         ]
        },
        {
         "hoverinfo": "skip",
         "legendgroup": "gaertner → jeronimus",
         "line": {
          "color": "green",
          "smoothing": 1.3,
          "width": 1.2212389380530975
         },
         "mode": "lines",
         "name": "gaertner → jeronimus",
         "opacity": 0.5,
         "showlegend": false,
         "type": "scatter",
         "x": [
          -0.22809852688752077,
          0.11987714696755482
         ],
         "y": [
          0.8394833833437474,
          0.3596944311525341
         ]
        },
        {
         "hoverinfo": "text",
         "marker": {
          "color": "green",
          "opacity": 0.4,
          "size": 1.2212389380530975,
          "symbol": "cross-thin"
         },
         "mode": "markers",
         "name": "gaertner → jeronimus",
         "showlegend": false,
         "text": "<b>gaertner → jeronimus</b>:<br><br>2<br>",
         "type": "scatter",
         "x": [
          -0.1933009595020132
         ],
         "y": [
          0.791504488124626
         ]
        },
        {
         "hoverinfo": "skip",
         "legendgroup": "ein_knappe → sylvius",
         "line": {
          "color": "green",
          "smoothing": 1.3,
          "width": 1.2212389380530975
         },
         "mode": "lines",
         "name": "ein_knappe → sylvius",
         "opacity": 0.5,
         "showlegend": false,
         "type": "scatter",
         "x": [
          -0.46105251409487097,
          -0.3679330237902063
         ],
         "y": [
          0.8104293708137084,
          0.061432210336696845
         ]
        },
        {
         "hoverinfo": "text",
         "marker": {
          "color": "green",
          "opacity": 0.4,
          "size": 1.2212389380530975,
          "symbol": "cross-thin"
         },
         "mode": "markers",
         "name": "ein_knappe → sylvius",
         "showlegend": false,
         "text": "<b>ein_knappe → sylvius</b>:<br><br>2<br>",
         "type": "scatter",
         "x": [
          -0.4517405650644045
         ],
         "y": [
          0.7355296547660073
         ]
        },
        {
         "hoverinfo": "skip",
         "legendgroup": "ein_knappe → agnes",
         "line": {
          "color": "green",
          "smoothing": 1.3,
          "width": 1.2212389380530975
         },
         "mode": "lines",
         "name": "ein_knappe → agnes",
         "opacity": 0.5,
         "showlegend": false,
         "type": "scatter",
         "x": [
          -0.46105251409487097,
          -0.6633165401762209
         ],
         "y": [
          0.8104293708137084,
          0.0856420375823834
         ]
        },
        {
         "hoverinfo": "text",
         "marker": {
          "color": "green",
          "opacity": 0.4,
          "size": 1.2212389380530975,
          "symbol": "cross-thin"
         },
         "mode": "markers",
         "name": "ein_knappe → agnes",
         "showlegend": false,
         "text": "<b>ein_knappe → agnes</b>:<br><br>2<br>",
         "type": "scatter",
         "x": [
          -0.481278916703006
         ],
         "y": [
          0.7379506374905759
         ]
        },
        {
         "hoverinfo": "skip",
         "legendgroup": "ein_knappe → gertrude",
         "line": {
          "color": "green",
          "smoothing": 1.3,
          "width": 1.2212389380530975
         },
         "mode": "lines",
         "name": "ein_knappe → gertrude",
         "opacity": 0.5,
         "showlegend": false,
         "type": "scatter",
         "x": [
          -0.46105251409487097,
          -0.5040364541538961
         ],
         "y": [
          0.8104293708137084,
          0.14349277018414075
         ]
        },
        {
         "hoverinfo": "text",
         "marker": {
          "color": "green",
          "opacity": 0.4,
          "size": 1.2212389380530975,
          "symbol": "cross-thin"
         },
         "mode": "markers",
         "name": "ein_knappe → gertrude",
         "showlegend": false,
         "text": "<b>ein_knappe → gertrude</b>:<br><br>2<br>",
         "type": "scatter",
         "x": [
          -0.4653509081007735
         ],
         "y": [
          0.7437357107507516
         ]
        },
        {
         "hoverinfo": "skip",
         "legendgroup": "ein_knappe → sylvester",
         "line": {
          "color": "green",
          "smoothing": 1.3,
          "width": 1.2212389380530975
         },
         "mode": "lines",
         "name": "ein_knappe → sylvester",
         "opacity": 0.5,
         "showlegend": false,
         "type": "scatter",
         "x": [
          -0.46105251409487097,
          -0.3722337039749577
         ],
         "y": [
          0.8104293708137084,
          0.23070930968089287
         ]
        },
        {
         "hoverinfo": "text",
         "marker": {
          "color": "green",
          "opacity": 0.4,
          "size": 1.2212389380530975,
          "symbol": "cross-thin"
         },
         "mode": "markers",
         "name": "ein_knappe → sylvester",
         "showlegend": false,
         "text": "<b>ein_knappe → sylvester</b>:<br><br>2<br>",
         "type": "scatter",
         "x": [
          -0.4521706330828797
         ],
         "y": [
          0.7524573647004269
         ]
        },
        {
         "hoverinfo": "skip",
         "legendgroup": "ein_knappe → gaertner",
         "line": {
          "color": "green",
          "smoothing": 1.3,
          "width": 1.2212389380530975
         },
         "mode": "lines",
         "name": "ein_knappe → gaertner",
         "opacity": 0.5,
         "showlegend": false,
         "type": "scatter",
         "x": [
          -0.46105251409487097,
          -0.22809852688752077
         ],
         "y": [
          0.8104293708137084,
          0.8394833833437474
         ]
        },
        {
         "hoverinfo": "text",
         "marker": {
          "color": "green",
          "opacity": 0.4,
          "size": 1.2212389380530975,
          "symbol": "cross-thin"
         },
         "mode": "markers",
         "name": "ein_knappe → gaertner",
         "showlegend": false,
         "text": "<b>ein_knappe → gaertner</b>:<br><br>2<br>",
         "type": "scatter",
         "x": [
          -0.437757115374136
         ],
         "y": [
          0.8133347720667123
         ]
        },
        {
         "hoverinfo": "skip",
         "legendgroup": "ein_knappe → aldoebern",
         "line": {
          "color": "green",
          "smoothing": 1.3,
          "width": 1.2212389380530975
         },
         "mode": "lines",
         "name": "ein_knappe → aldoebern",
         "opacity": 0.5,
         "showlegend": false,
         "type": "scatter",
         "x": [
          -0.46105251409487097,
          -0.6821194093573768
         ],
         "y": [
          0.8104293708137084,
          0.6837531407188645
         ]
        },
        {
         "hoverinfo": "text",
         "marker": {
          "color": "green",
          "opacity": 0.4,
          "size": 1.2212389380530975,
          "symbol": "cross-thin"
         },
         "mode": "markers",
         "name": "ein_knappe → aldoebern",
         "showlegend": false,
         "text": "<b>ein_knappe → aldoebern</b>:<br><br>2<br>",
         "type": "scatter",
         "x": [
          -0.4831592036211216
         ],
         "y": [
          0.797761747804224
         ]
        },
        {
         "hoverinfo": "skip",
         "legendgroup": "ein_knappe → jeronimus",
         "line": {
          "color": "green",
          "smoothing": 1.3,
          "width": 1.2212389380530975
         },
         "mode": "lines",
         "name": "ein_knappe → jeronimus",
         "opacity": 0.5,
         "showlegend": false,
         "type": "scatter",
         "x": [
          -0.46105251409487097,
          0.11987714696755482
         ],
         "y": [
          0.8104293708137084,
          0.3596944311525341
         ]
        },
        {
         "hoverinfo": "text",
         "marker": {
          "color": "green",
          "opacity": 0.4,
          "size": 1.2212389380530975,
          "symbol": "cross-thin"
         },
         "mode": "markers",
         "name": "ein_knappe → jeronimus",
         "showlegend": false,
         "text": "<b>ein_knappe → jeronimus</b>:<br><br>2<br>",
         "type": "scatter",
         "x": [
          -0.40295954798862843
         ],
         "y": [
          0.765355876847591
         ]
        },
        {
         "hoverinfo": "skip",
         "legendgroup": "aldoebern → sylvius",
         "line": {
          "color": "green",
          "smoothing": 1.3,
          "width": 1.2212389380530975
         },
         "mode": "lines",
         "name": "aldoebern → sylvius",
         "opacity": 0.5,
         "showlegend": false,
         "type": "scatter",
         "x": [
          -0.6821194093573768,
          -0.3679330237902063
         ],
         "y": [
          0.6837531407188645,
          0.061432210336696845
         ]
        },
        {
         "hoverinfo": "text",
         "marker": {
          "color": "green",
          "opacity": 0.4,
          "size": 1.2212389380530975,
          "symbol": "cross-thin"
         },
         "mode": "markers",
         "name": "aldoebern → sylvius",
         "showlegend": false,
         "text": "<b>aldoebern → sylvius</b>:<br><br>2<br>",
         "type": "scatter",
         "x": [
          -0.6507007708006598
         ],
         "y": [
          0.6215210476806478
         ]
        },
        {
         "hoverinfo": "skip",
         "legendgroup": "aldoebern → agnes",
         "line": {
          "color": "green",
          "smoothing": 1.3,
          "width": 1.2212389380530975
         },
         "mode": "lines",
         "name": "aldoebern → agnes",
         "opacity": 0.5,
         "showlegend": false,
         "type": "scatter",
         "x": [
          -0.6821194093573768,
          -0.6633165401762209
         ],
         "y": [
          0.6837531407188645,
          0.0856420375823834
         ]
        },
        {
         "hoverinfo": "text",
         "marker": {
          "color": "green",
          "opacity": 0.4,
          "size": 1.2212389380530975,
          "symbol": "cross-thin"
         },
         "mode": "markers",
         "name": "aldoebern → agnes",
         "showlegend": false,
         "text": "<b>aldoebern → agnes</b>:<br><br>2<br>",
         "type": "scatter",
         "x": [
          -0.6802391224392612
         ],
         "y": [
          0.6239420304052163
         ]
        },
        {
         "hoverinfo": "skip",
         "legendgroup": "aldoebern → gertrude",
         "line": {
          "color": "green",
          "smoothing": 1.3,
          "width": 1.2212389380530975
         },
         "mode": "lines",
         "name": "aldoebern → gertrude",
         "opacity": 0.5,
         "showlegend": false,
         "type": "scatter",
         "x": [
          -0.6821194093573768,
          -0.5040364541538961
         ],
         "y": [
          0.6837531407188645,
          0.14349277018414075
         ]
        },
        {
         "hoverinfo": "text",
         "marker": {
          "color": "green",
          "opacity": 0.4,
          "size": 1.2212389380530975,
          "symbol": "cross-thin"
         },
         "mode": "markers",
         "name": "aldoebern → gertrude",
         "showlegend": false,
         "text": "<b>aldoebern → gertrude</b>:<br><br>2<br>",
         "type": "scatter",
         "x": [
          -0.6643111138370288
         ],
         "y": [
          0.6297271036653921
         ]
        },
        {
         "hoverinfo": "skip",
         "legendgroup": "aldoebern → sylvester",
         "line": {
          "color": "green",
          "smoothing": 1.3,
          "width": 1.2212389380530975
         },
         "mode": "lines",
         "name": "aldoebern → sylvester",
         "opacity": 0.5,
         "showlegend": false,
         "type": "scatter",
         "x": [
          -0.6821194093573768,
          -0.3722337039749577
         ],
         "y": [
          0.6837531407188645,
          0.23070930968089287
         ]
        },
        {
         "hoverinfo": "text",
         "marker": {
          "color": "green",
          "opacity": 0.4,
          "size": 1.2212389380530975,
          "symbol": "cross-thin"
         },
         "mode": "markers",
         "name": "aldoebern → sylvester",
         "showlegend": false,
         "text": "<b>aldoebern → sylvester</b>:<br><br>2<br>",
         "type": "scatter",
         "x": [
          -0.6511308388191349
         ],
         "y": [
          0.6384487576150674
         ]
        },
        {
         "hoverinfo": "skip",
         "legendgroup": "aldoebern → gaertner",
         "line": {
          "color": "green",
          "smoothing": 1.3,
          "width": 1.2212389380530975
         },
         "mode": "lines",
         "name": "aldoebern → gaertner",
         "opacity": 0.5,
         "showlegend": false,
         "type": "scatter",
         "x": [
          -0.6821194093573768,
          -0.22809852688752077
         ],
         "y": [
          0.6837531407188645,
          0.8394833833437474
         ]
        },
        {
         "hoverinfo": "text",
         "marker": {
          "color": "green",
          "opacity": 0.4,
          "size": 1.2212389380530975,
          "symbol": "cross-thin"
         },
         "mode": "markers",
         "name": "aldoebern → gaertner",
         "showlegend": false,
         "text": "<b>aldoebern → gaertner</b>:<br><br>2<br>",
         "type": "scatter",
         "x": [
          -0.6367173211103913
         ],
         "y": [
          0.6993261649813528
         ]
        },
        {
         "hoverinfo": "skip",
         "legendgroup": "aldoebern → ein_knappe",
         "line": {
          "color": "green",
          "smoothing": 1.3,
          "width": 1.2212389380530975
         },
         "mode": "lines",
         "name": "aldoebern → ein_knappe",
         "opacity": 0.5,
         "showlegend": false,
         "type": "scatter",
         "x": [
          -0.6821194093573768,
          -0.46105251409487097
         ],
         "y": [
          0.6837531407188645,
          0.8104293708137084
         ]
        },
        {
         "hoverinfo": "text",
         "marker": {
          "color": "green",
          "opacity": 0.4,
          "size": 1.2212389380530975,
          "symbol": "cross-thin"
         },
         "mode": "markers",
         "name": "aldoebern → ein_knappe",
         "showlegend": false,
         "text": "<b>aldoebern → ein_knappe</b>:<br><br>2<br>",
         "type": "scatter",
         "x": [
          -0.6600127198311262
         ],
         "y": [
          0.6964207637283488
         ]
        },
        {
         "hoverinfo": "skip",
         "legendgroup": "aldoebern → jeronimus",
         "line": {
          "color": "green",
          "smoothing": 1.3,
          "width": 1.2212389380530975
         },
         "mode": "lines",
         "name": "aldoebern → jeronimus",
         "opacity": 0.5,
         "showlegend": false,
         "type": "scatter",
         "x": [
          -0.6821194093573768,
          0.11987714696755482
         ],
         "y": [
          0.6837531407188645,
          0.3596944311525341
         ]
        },
        {
         "hoverinfo": "text",
         "marker": {
          "color": "green",
          "opacity": 0.4,
          "size": 1.2212389380530975,
          "symbol": "cross-thin"
         },
         "mode": "markers",
         "name": "aldoebern → jeronimus",
         "showlegend": false,
         "text": "<b>aldoebern → jeronimus</b>:<br><br>2<br>",
         "type": "scatter",
         "x": [
          -0.6019197537248836
         ],
         "y": [
          0.6513472697622315
         ]
        },
        {
         "hoverinfo": "skip",
         "legendgroup": "jeronimus → sylvius",
         "line": {
          "color": "green",
          "smoothing": 1.3,
          "width": 1.2212389380530975
         },
         "mode": "lines",
         "name": "jeronimus → sylvius",
         "opacity": 0.5,
         "showlegend": false,
         "type": "scatter",
         "x": [
          0.11987714696755482,
          -0.3679330237902063
         ],
         "y": [
          0.3596944311525341,
          0.061432210336696845
         ]
        },
        {
         "hoverinfo": "text",
         "marker": {
          "color": "green",
          "opacity": 0.4,
          "size": 1.2212389380530975,
          "symbol": "cross-thin"
         },
         "mode": "markers",
         "name": "jeronimus → sylvius",
         "showlegend": false,
         "text": "<b>jeronimus → sylvius</b>:<br><br>2<br>",
         "type": "scatter",
         "x": [
          0.0710961298917787
         ],
         "y": [
          0.3298682090709504
         ]
        },
        {
         "hoverinfo": "skip",
         "legendgroup": "jeronimus → agnes",
         "line": {
          "color": "green",
          "smoothing": 1.3,
          "width": 1.4424778761061947
         },
         "mode": "lines",
         "name": "jeronimus → agnes",
         "opacity": 0.5,
         "showlegend": false,
         "type": "scatter",
         "x": [
          0.11987714696755482,
          -0.6633165401762209
         ],
         "y": [
          0.3596944311525341,
          0.0856420375823834
         ]
        },
        {
         "hoverinfo": "text",
         "marker": {
          "color": "green",
          "opacity": 0.4,
          "size": 1.4424778761061947,
          "symbol": "cross-thin"
         },
         "mode": "markers",
         "name": "jeronimus → agnes",
         "showlegend": false,
         "text": "<b>jeronimus → agnes</b>:<br><br>2<br>5<br>",
         "type": "scatter",
         "x": [
          0.04155777825317725
         ],
         "y": [
          0.332289191795519
         ]
        },
        {
         "hoverinfo": "skip",
         "legendgroup": "jeronimus → gertrude",
         "line": {
          "color": "green",
          "smoothing": 1.3,
          "width": 1.663716814159292
         },
         "mode": "lines",
         "name": "jeronimus → gertrude",
         "opacity": 0.5,
         "showlegend": false,
         "type": "scatter",
         "x": [
          0.11987714696755482,
          -0.5040364541538961
         ],
         "y": [
          0.3596944311525341,
          0.14349277018414075
         ]
        },
        {
         "hoverinfo": "text",
         "marker": {
          "color": "green",
          "opacity": 0.4,
          "size": 1.663716814159292,
          "symbol": "cross-thin"
         },
         "mode": "markers",
         "name": "jeronimus → gertrude",
         "showlegend": false,
         "text": "<b>jeronimus → gertrude</b>:<br><br>2<br>4<br>5<br>",
         "type": "scatter",
         "x": [
          0.057485786855409726
         ],
         "y": [
          0.33807426505569477
         ]
        },
        {
         "hoverinfo": "skip",
         "legendgroup": "jeronimus → sylvester",
         "line": {
          "color": "green",
          "smoothing": 1.3,
          "width": 1.663716814159292
         },
         "mode": "lines",
         "name": "jeronimus → sylvester",
         "opacity": 0.5,
         "showlegend": false,
         "type": "scatter",
         "x": [
          0.11987714696755482,
          -0.3722337039749577
         ],
         "y": [
          0.3596944311525341,
          0.23070930968089287
         ]
        },
        {
         "hoverinfo": "text",
         "marker": {
          "color": "green",
          "opacity": 0.4,
          "size": 1.663716814159292,
          "symbol": "cross-thin"
         },
         "mode": "markers",
         "name": "jeronimus → sylvester",
         "showlegend": false,
         "text": "<b>jeronimus → sylvester</b>:<br><br>2<br>4<br>5<br>",
         "type": "scatter",
         "x": [
          0.07066606187330357
         ],
         "y": [
          0.34679591900536993
         ]
        },
        {
         "hoverinfo": "skip",
         "legendgroup": "jeronimus → gaertner",
         "line": {
          "color": "green",
          "smoothing": 1.3,
          "width": 1.2212389380530975
         },
         "mode": "lines",
         "name": "jeronimus → gaertner",
         "opacity": 0.5,
         "showlegend": false,
         "type": "scatter",
         "x": [
          0.11987714696755482,
          -0.22809852688752077
         ],
         "y": [
          0.3596944311525341,
          0.8394833833437474
         ]
        },
        {
         "hoverinfo": "text",
         "marker": {
          "color": "green",
          "opacity": 0.4,
          "size": 1.2212389380530975,
          "symbol": "cross-thin"
         },
         "mode": "markers",
         "name": "jeronimus → gaertner",
         "showlegend": false,
         "text": "<b>jeronimus → gaertner</b>:<br><br>2<br>",
         "type": "scatter",
         "x": [
          0.08507957958204726
         ],
         "y": [
          0.40767332637165543
         ]
        },
        {
         "hoverinfo": "skip",
         "legendgroup": "jeronimus → ein_knappe",
         "line": {
          "color": "green",
          "smoothing": 1.3,
          "width": 1.2212389380530975
         },
         "mode": "lines",
         "name": "jeronimus → ein_knappe",
         "opacity": 0.5,
         "showlegend": false,
         "type": "scatter",
         "x": [
          0.11987714696755482,
          -0.46105251409487097
         ],
         "y": [
          0.3596944311525341,
          0.8104293708137084
         ]
        },
        {
         "hoverinfo": "text",
         "marker": {
          "color": "green",
          "opacity": 0.4,
          "size": 1.2212389380530975,
          "symbol": "cross-thin"
         },
         "mode": "markers",
         "name": "jeronimus → ein_knappe",
         "showlegend": false,
         "text": "<b>jeronimus → ein_knappe</b>:<br><br>2<br>",
         "type": "scatter",
         "x": [
          0.06178418086131224
         ],
         "y": [
          0.4047679251186515
         ]
        },
        {
         "hoverinfo": "skip",
         "legendgroup": "jeronimus → aldoebern",
         "line": {
          "color": "green",
          "smoothing": 1.3,
          "width": 1.2212389380530975
         },
         "mode": "lines",
         "name": "jeronimus → aldoebern",
         "opacity": 0.5,
         "showlegend": false,
         "type": "scatter",
         "x": [
          0.11987714696755482,
          -0.6821194093573768
         ],
         "y": [
          0.3596944311525341,
          0.6837531407188645
         ]
        },
        {
         "hoverinfo": "text",
         "marker": {
          "color": "green",
          "opacity": 0.4,
          "size": 1.2212389380530975,
          "symbol": "cross-thin"
         },
         "mode": "markers",
         "name": "jeronimus → aldoebern",
         "showlegend": false,
         "text": "<b>jeronimus → aldoebern</b>:<br><br>2<br>",
         "type": "scatter",
         "x": [
          0.039677491335061654
         ],
         "y": [
          0.39210030210916713
         ]
        },
        {
         "hoverinfo": "skip",
         "legendgroup": "agnes → ottokar",
         "line": {
          "color": "green",
          "smoothing": 1.3,
          "width": 1.663716814159292
         },
         "mode": "lines",
         "name": "agnes → ottokar",
         "opacity": 0.5,
         "showlegend": false,
         "type": "scatter",
         "x": [
          -0.6633165401762209,
          0.2730079225516097
         ],
         "y": [
          0.0856420375823834,
          0.02576232963849259
         ]
        },
        {
         "hoverinfo": "text",
         "marker": {
          "color": "green",
          "opacity": 0.4,
          "size": 1.663716814159292,
          "symbol": "cross-thin"
         },
         "mode": "markers",
         "name": "agnes → ottokar",
         "showlegend": false,
         "text": "<b>agnes → ottokar</b>:<br><br>3<br>6<br>13<br>",
         "type": "scatter",
         "x": [
          -0.5696840939034378
         ],
         "y": [
          0.07965406678799432
         ]
        },
        {
         "hoverinfo": "skip",
         "legendgroup": "agnes → johann",
         "line": {
          "color": "green",
          "smoothing": 1.3,
          "width": 1.663716814159292
         },
         "mode": "lines",
         "name": "agnes → johann",
         "opacity": 0.5,
         "showlegend": false,
         "type": "scatter",
         "x": [
          -0.6633165401762209,
          -0.07561875487925733
         ],
         "y": [
          0.0856420375823834,
          0.18455698650381022
         ]
        },
        {
         "hoverinfo": "text",
         "marker": {
          "color": "green",
          "opacity": 0.4,
          "size": 1.663716814159292,
          "symbol": "cross-thin"
         },
         "mode": "markers",
         "name": "agnes → johann",
         "showlegend": false,
         "text": "<b>agnes → johann</b>:<br><br>3<br>5<br>13<br>",
         "type": "scatter",
         "x": [
          -0.6045467616465245
         ],
         "y": [
          0.09553353247452608
         ]
        },
        {
         "hoverinfo": "skip",
         "legendgroup": "ottokar → agnes",
         "line": {
          "color": "green",
          "smoothing": 1.3,
          "width": 1.663716814159292
         },
         "mode": "lines",
         "name": "ottokar → agnes",
         "opacity": 0.5,
         "showlegend": false,
         "type": "scatter",
         "x": [
          0.2730079225516097,
          -0.6633165401762209
         ],
         "y": [
          0.02576232963849259,
          0.0856420375823834
         ]
        },
        {
         "hoverinfo": "text",
         "marker": {
          "color": "green",
          "opacity": 0.4,
          "size": 1.663716814159292,
          "symbol": "cross-thin"
         },
         "mode": "markers",
         "name": "ottokar → agnes",
         "showlegend": false,
         "text": "<b>ottokar → agnes</b>:<br><br>3<br>6<br>13<br>",
         "type": "scatter",
         "x": [
          0.17937547627882666
         ],
         "y": [
          0.03175030043288167
         ]
        },
        {
         "hoverinfo": "skip",
         "legendgroup": "johann → agnes",
         "line": {
          "color": "green",
          "smoothing": 1.3,
          "width": 1.663716814159292
         },
         "mode": "lines",
         "name": "johann → agnes",
         "opacity": 0.5,
         "showlegend": false,
         "type": "scatter",
         "x": [
          -0.07561875487925733,
          -0.6633165401762209
         ],
         "y": [
          0.18455698650381022,
          0.0856420375823834
         ]
        },
        {
         "hoverinfo": "text",
         "marker": {
          "color": "green",
          "opacity": 0.4,
          "size": 1.663716814159292,
          "symbol": "cross-thin"
         },
         "mode": "markers",
         "name": "johann → agnes",
         "showlegend": false,
         "text": "<b>johann → agnes</b>:<br><br>3<br>5<br>13<br>",
         "type": "scatter",
         "x": [
          -0.13438853340895368
         ],
         "y": [
          0.17466549161166756
         ]
        },
        {
         "hoverinfo": "skip",
         "legendgroup": "gertrude → theistiner",
         "line": {
          "color": "green",
          "smoothing": 1.3,
          "width": 1.663716814159292
         },
         "mode": "lines",
         "name": "gertrude → theistiner",
         "opacity": 0.5,
         "showlegend": false,
         "type": "scatter",
         "x": [
          -0.5040364541538961,
          -0.13435834816636363
         ],
         "y": [
          0.14349277018414075,
          -0.5985916669324939
         ]
        },
        {
         "hoverinfo": "text",
         "marker": {
          "color": "green",
          "opacity": 0.4,
          "size": 1.663716814159292,
          "symbol": "cross-thin"
         },
         "mode": "markers",
         "name": "gertrude → theistiner",
         "showlegend": false,
         "text": "<b>gertrude → theistiner</b>:<br><br>4<br>9<br>13<br>",
         "type": "scatter",
         "x": [
          -0.4670686435551428
         ],
         "y": [
          0.06928432647247729
         ]
        },
        {
         "hoverinfo": "skip",
         "legendgroup": "sylvester → theistiner",
         "line": {
          "color": "green",
          "smoothing": 1.3,
          "width": 1.663716814159292
         },
         "mode": "lines",
         "name": "sylvester → theistiner",
         "opacity": 0.5,
         "showlegend": false,
         "type": "scatter",
         "x": [
          -0.3722337039749577,
          -0.13435834816636363
         ],
         "y": [
          0.23070930968089287,
          -0.5985916669324939
         ]
        },
        {
         "hoverinfo": "text",
         "marker": {
          "color": "green",
          "opacity": 0.4,
          "size": 1.663716814159292,
          "symbol": "cross-thin"
         },
         "mode": "markers",
         "name": "sylvester → theistiner",
         "showlegend": false,
         "text": "<b>sylvester → theistiner</b>:<br><br>4<br>9<br>13<br>",
         "type": "scatter",
         "x": [
          -0.3484461683940983
         ],
         "y": [
          0.14777921201955418
         ]
        },
        {
         "hoverinfo": "skip",
         "legendgroup": "theistiner → gertrude",
         "line": {
          "color": "green",
          "smoothing": 1.3,
          "width": 1.663716814159292
         },
         "mode": "lines",
         "name": "theistiner → gertrude",
         "opacity": 0.5,
         "showlegend": false,
         "type": "scatter",
         "x": [
          -0.13435834816636363,
          -0.5040364541538961
         ],
         "y": [
          -0.5985916669324939,
          0.14349277018414075
         ]
        },
        {
         "hoverinfo": "text",
         "marker": {
          "color": "green",
          "opacity": 0.4,
          "size": 1.663716814159292,
          "symbol": "cross-thin"
         },
         "mode": "markers",
         "name": "theistiner → gertrude",
         "showlegend": false,
         "text": "<b>theistiner → gertrude</b>:<br><br>4<br>9<br>13<br>",
         "type": "scatter",
         "x": [
          -0.17132615876511686
         ],
         "y": [
          -0.5243832232208304
         ]
        },
        {
         "hoverinfo": "skip",
         "legendgroup": "theistiner → sylvester",
         "line": {
          "color": "green",
          "smoothing": 1.3,
          "width": 1.663716814159292
         },
         "mode": "lines",
         "name": "theistiner → sylvester",
         "opacity": 0.5,
         "showlegend": false,
         "type": "scatter",
         "x": [
          -0.13435834816636363,
          -0.3722337039749577
         ],
         "y": [
          -0.5985916669324939,
          0.23070930968089287
         ]
        },
        {
         "hoverinfo": "text",
         "marker": {
          "color": "green",
          "opacity": 0.4,
          "size": 1.663716814159292,
          "symbol": "cross-thin"
         },
         "mode": "markers",
         "name": "theistiner → sylvester",
         "showlegend": false,
         "text": "<b>theistiner → sylvester</b>:<br><br>4<br>9<br>13<br>",
         "type": "scatter",
         "x": [
          -0.15814588374722305
         ],
         "y": [
          -0.5156615692711551
         ]
        },
        {
         "hoverinfo": "skip",
         "legendgroup": "theistiner → jeronimus",
         "line": {
          "color": "green",
          "smoothing": 1.3,
          "width": 1.2212389380530975
         },
         "mode": "lines",
         "name": "theistiner → jeronimus",
         "opacity": 0.5,
         "showlegend": false,
         "type": "scatter",
         "x": [
          -0.13435834816636363,
          0.11987714696755482
         ],
         "y": [
          -0.5985916669324939,
          0.3596944311525341
         ]
        },
        {
         "hoverinfo": "text",
         "marker": {
          "color": "green",
          "opacity": 0.4,
          "size": 1.2212389380530975,
          "symbol": "cross-thin"
         },
         "mode": "markers",
         "name": "theistiner → jeronimus",
         "showlegend": false,
         "text": "<b>theistiner → jeronimus</b>:<br><br>4<br>",
         "type": "scatter",
         "x": [
          -0.10893479865297179
         ],
         "y": [
          -0.502763057123991
         ]
        },
        {
         "hoverinfo": "skip",
         "legendgroup": "jeronimus → theistiner",
         "line": {
          "color": "green",
          "smoothing": 1.3,
          "width": 1.2212389380530975
         },
         "mode": "lines",
         "name": "jeronimus → theistiner",
         "opacity": 0.5,
         "showlegend": false,
         "type": "scatter",
         "x": [
          0.11987714696755482,
          -0.13435834816636363
         ],
         "y": [
          0.3596944311525341,
          -0.5985916669324939
         ]
        },
        {
         "hoverinfo": "text",
         "marker": {
          "color": "green",
          "opacity": 0.4,
          "size": 1.2212389380530975,
          "symbol": "cross-thin"
         },
         "mode": "markers",
         "name": "jeronimus → theistiner",
         "showlegend": false,
         "text": "<b>jeronimus → theistiner</b>:<br><br>4<br>",
         "type": "scatter",
         "x": [
          0.09445359745416297
         ],
         "y": [
          0.26386582134403125
         ]
        },
        {
         "hoverinfo": "skip",
         "legendgroup": "agnes → ein_diener_2-3",
         "line": {
          "color": "green",
          "smoothing": 1.3,
          "width": 1.2212389380530975
         },
         "mode": "lines",
         "name": "agnes → ein_diener_2-3",
         "opacity": 0.5,
         "showlegend": false,
         "type": "scatter",
         "x": [
          -0.6633165401762209,
          -0.8119224187558353
         ],
         "y": [
          0.0856420375823834,
          0.5296226138744882
         ]
        },
        {
         "hoverinfo": "text",
         "marker": {
          "color": "green",
          "opacity": 0.4,
          "size": 1.2212389380530975,
          "symbol": "cross-thin"
         },
         "mode": "markers",
         "name": "agnes → ein_diener_2-3",
         "showlegend": false,
         "text": "<b>agnes → ein_diener_2-3</b>:<br><br>5<br>",
         "type": "scatter",
         "x": [
          -0.6781771280341823
         ],
         "y": [
          0.13004009521159388
         ]
        },
        {
         "hoverinfo": "skip",
         "legendgroup": "johann → sylvester",
         "line": {
          "color": "green",
          "smoothing": 1.3,
          "width": 1.4424778761061947
         },
         "mode": "lines",
         "name": "johann → sylvester",
         "opacity": 0.5,
         "showlegend": false,
         "type": "scatter",
         "x": [
          -0.07561875487925733,
          -0.3722337039749577
         ],
         "y": [
          0.18455698650381022,
          0.23070930968089287
         ]
        },
        {
         "hoverinfo": "text",
         "marker": {
          "color": "green",
          "opacity": 0.4,
          "size": 1.4424778761061947,
          "symbol": "cross-thin"
         },
         "mode": "markers",
         "name": "johann → sylvester",
         "showlegend": false,
         "text": "<b>johann → sylvester</b>:<br><br>5<br>13<br>",
         "type": "scatter",
         "x": [
          -0.10528024978882736
         ],
         "y": [
          0.1891722188215185
         ]
        },
        {
         "hoverinfo": "skip",
         "legendgroup": "johann → gertrude",
         "line": {
          "color": "green",
          "smoothing": 1.3,
          "width": 1.4424778761061947
         },
         "mode": "lines",
         "name": "johann → gertrude",
         "opacity": 0.5,
         "showlegend": false,
         "type": "scatter",
         "x": [
          -0.07561875487925733,
          -0.5040364541538961
         ],
         "y": [
          0.18455698650381022,
          0.14349277018414075
         ]
        },
        {
         "hoverinfo": "text",
         "marker": {
          "color": "green",
          "opacity": 0.4,
          "size": 1.4424778761061947,
          "symbol": "cross-thin"
         },
         "mode": "markers",
         "name": "johann → gertrude",
         "showlegend": false,
         "text": "<b>johann → gertrude</b>:<br><br>5<br>13<br>",
         "type": "scatter",
         "x": [
          -0.1184605248067212
         ],
         "y": [
          0.18045056487184327
         ]
        },
        {
         "hoverinfo": "skip",
         "legendgroup": "johann → ein_diener_2-3",
         "line": {
          "color": "green",
          "smoothing": 1.3,
          "width": 1.2212389380530975
         },
         "mode": "lines",
         "name": "johann → ein_diener_2-3",
         "opacity": 0.5,
         "showlegend": false,
         "type": "scatter",
         "x": [
          -0.07561875487925733,
          -0.8119224187558353
         ],
         "y": [
          0.18455698650381022,
          0.5296226138744882
         ]
        },
        {
         "hoverinfo": "text",
         "marker": {
          "color": "green",
          "opacity": 0.4,
          "size": 1.2212389380530975,
          "symbol": "cross-thin"
         },
         "mode": "markers",
         "name": "johann → ein_diener_2-3",
         "showlegend": false,
         "text": "<b>johann → ein_diener_2-3</b>:<br><br>5<br>",
         "type": "scatter",
         "x": [
          -0.14924912126691514
         ],
         "y": [
          0.219063549240878
         ]
        },
        {
         "hoverinfo": "skip",
         "legendgroup": "jeronimus → ein_diener_2-3",
         "line": {
          "color": "green",
          "smoothing": 1.3,
          "width": 1.2212389380530975
         },
         "mode": "lines",
         "name": "jeronimus → ein_diener_2-3",
         "opacity": 0.5,
         "showlegend": false,
         "type": "scatter",
         "x": [
          0.11987714696755482,
          -0.8119224187558353
         ],
         "y": [
          0.3596944311525341,
          0.5296226138744882
         ]
        },
        {
         "hoverinfo": "text",
         "marker": {
          "color": "green",
          "opacity": 0.4,
          "size": 1.2212389380530975,
          "symbol": "cross-thin"
         },
         "mode": "markers",
         "name": "jeronimus → ein_diener_2-3",
         "showlegend": false,
         "text": "<b>jeronimus → ein_diener_2-3</b>:<br><br>5<br>",
         "type": "scatter",
         "x": [
          0.0266971903952158
         ],
         "y": [
          0.3766872494247295
         ]
        },
        {
         "hoverinfo": "skip",
         "legendgroup": "sylvester → johann",
         "line": {
          "color": "green",
          "smoothing": 1.3,
          "width": 1.4424778761061947
         },
         "mode": "lines",
         "name": "sylvester → johann",
         "opacity": 0.5,
         "showlegend": false,
         "type": "scatter",
         "x": [
          -0.3722337039749577,
          -0.07561875487925733
         ],
         "y": [
          0.23070930968089287,
          0.18455698650381022
         ]
        },
        {
         "hoverinfo": "text",
         "marker": {
          "color": "green",
          "opacity": 0.4,
          "size": 1.4424778761061947,
          "symbol": "cross-thin"
         },
         "mode": "markers",
         "name": "sylvester → johann",
         "showlegend": false,
         "text": "<b>sylvester → johann</b>:<br><br>5<br>13<br>",
         "type": "scatter",
         "x": [
          -0.3425722090653877
         ],
         "y": [
          0.2260940773631846
         ]
        },
        {
         "hoverinfo": "skip",
         "legendgroup": "sylvester → ein_diener_2-3",
         "line": {
          "color": "green",
          "smoothing": 1.3,
          "width": 1.2212389380530975
         },
         "mode": "lines",
         "name": "sylvester → ein_diener_2-3",
         "opacity": 0.5,
         "showlegend": false,
         "type": "scatter",
         "x": [
          -0.3722337039749577,
          -0.8119224187558353
         ],
         "y": [
          0.23070930968089287,
          0.5296226138744882
         ]
        },
        {
         "hoverinfo": "text",
         "marker": {
          "color": "green",
          "opacity": 0.4,
          "size": 1.2212389380530975,
          "symbol": "cross-thin"
         },
         "mode": "markers",
         "name": "sylvester → ein_diener_2-3",
         "showlegend": false,
         "text": "<b>sylvester → ein_diener_2-3</b>:<br><br>5<br>",
         "type": "scatter",
         "x": [
          -0.4162025754530455
         ],
         "y": [
          0.2606006401002524
         ]
        },
        {
         "hoverinfo": "skip",
         "legendgroup": "gertrude → johann",
         "line": {
          "color": "green",
          "smoothing": 1.3,
          "width": 1.4424778761061947
         },
         "mode": "lines",
         "name": "gertrude → johann",
         "opacity": 0.5,
         "showlegend": false,
         "type": "scatter",
         "x": [
          -0.5040364541538961,
          -0.07561875487925733
         ],
         "y": [
          0.14349277018414075,
          0.18455698650381022
         ]
        },
        {
         "hoverinfo": "text",
         "marker": {
          "color": "green",
          "opacity": 0.4,
          "size": 1.4424778761061947,
          "symbol": "cross-thin"
         },
         "mode": "markers",
         "name": "gertrude → johann",
         "showlegend": false,
         "text": "<b>gertrude → johann</b>:<br><br>5<br>13<br>",
         "type": "scatter",
         "x": [
          -0.4611946842264322
         ],
         "y": [
          0.1475991918161077
         ]
        },
        {
         "hoverinfo": "skip",
         "legendgroup": "gertrude → ein_diener_2-3",
         "line": {
          "color": "green",
          "smoothing": 1.3,
          "width": 1.2212389380530975
         },
         "mode": "lines",
         "name": "gertrude → ein_diener_2-3",
         "opacity": 0.5,
         "showlegend": false,
         "type": "scatter",
         "x": [
          -0.5040364541538961,
          -0.8119224187558353
         ],
         "y": [
          0.14349277018414075,
          0.5296226138744882
         ]
        },
        {
         "hoverinfo": "text",
         "marker": {
          "color": "green",
          "opacity": 0.4,
          "size": 1.2212389380530975,
          "symbol": "cross-thin"
         },
         "mode": "markers",
         "name": "gertrude → ein_diener_2-3",
         "showlegend": false,
         "text": "<b>gertrude → ein_diener_2-3</b>:<br><br>5<br>",
         "type": "scatter",
         "x": [
          -0.53482505061409
         ],
         "y": [
          0.18210575455317551
         ]
        },
        {
         "hoverinfo": "skip",
         "legendgroup": "ein_diener_2-3 → agnes",
         "line": {
          "color": "green",
          "smoothing": 1.3,
          "width": 1.2212389380530975
         },
         "mode": "lines",
         "name": "ein_diener_2-3 → agnes",
         "opacity": 0.5,
         "showlegend": false,
         "type": "scatter",
         "x": [
          -0.8119224187558353,
          -0.6633165401762209
         ],
         "y": [
          0.5296226138744882,
          0.0856420375823834
         ]
        },
        {
         "hoverinfo": "text",
         "marker": {
          "color": "green",
          "opacity": 0.4,
          "size": 1.2212389380530975,
          "symbol": "cross-thin"
         },
         "mode": "markers",
         "name": "ein_diener_2-3 → agnes",
         "showlegend": false,
         "text": "<b>ein_diener_2-3 → agnes</b>:<br><br>5<br>",
         "type": "scatter",
         "x": [
          -0.7970618308978739
         ],
         "y": [
          0.4852245562452777
         ]
        },
        {
         "hoverinfo": "skip",
         "legendgroup": "ein_diener_2-3 → johann",
         "line": {
          "color": "green",
          "smoothing": 1.3,
          "width": 1.2212389380530975
         },
         "mode": "lines",
         "name": "ein_diener_2-3 → johann",
         "opacity": 0.5,
         "showlegend": false,
         "type": "scatter",
         "x": [
          -0.8119224187558353,
          -0.07561875487925733
         ],
         "y": [
          0.5296226138744882,
          0.18455698650381022
         ]
        },
        {
         "hoverinfo": "text",
         "marker": {
          "color": "green",
          "opacity": 0.4,
          "size": 1.2212389380530975,
          "symbol": "cross-thin"
         },
         "mode": "markers",
         "name": "ein_diener_2-3 → johann",
         "showlegend": false,
         "text": "<b>ein_diener_2-3 → johann</b>:<br><br>5<br>",
         "type": "scatter",
         "x": [
          -0.7382920523681775
         ],
         "y": [
          0.4951160511374204
         ]
        },
        {
         "hoverinfo": "skip",
         "legendgroup": "ein_diener_2-3 → jeronimus",
         "line": {
          "color": "green",
          "smoothing": 1.3,
          "width": 1.2212389380530975
         },
         "mode": "lines",
         "name": "ein_diener_2-3 → jeronimus",
         "opacity": 0.5,
         "showlegend": false,
         "type": "scatter",
         "x": [
          -0.8119224187558353,
          0.11987714696755482
         ],
         "y": [
          0.5296226138744882,
          0.3596944311525341
         ]
        },
        {
         "hoverinfo": "text",
         "marker": {
          "color": "green",
          "opacity": 0.4,
          "size": 1.2212389380530975,
          "symbol": "cross-thin"
         },
         "mode": "markers",
         "name": "ein_diener_2-3 → jeronimus",
         "showlegend": false,
         "text": "<b>ein_diener_2-3 → jeronimus</b>:<br><br>5<br>",
         "type": "scatter",
         "x": [
          -0.7187424621834962
         ],
         "y": [
          0.5126297956022927
         ]
        },
        {
         "hoverinfo": "skip",
         "legendgroup": "ein_diener_2-3 → sylvester",
         "line": {
          "color": "green",
          "smoothing": 1.3,
          "width": 1.2212389380530975
         },
         "mode": "lines",
         "name": "ein_diener_2-3 → sylvester",
         "opacity": 0.5,
         "showlegend": false,
         "type": "scatter",
         "x": [
          -0.8119224187558353,
          -0.3722337039749577
         ],
         "y": [
          0.5296226138744882,
          0.23070930968089287
         ]
        },
        {
         "hoverinfo": "text",
         "marker": {
          "color": "green",
          "opacity": 0.4,
          "size": 1.2212389380530975,
          "symbol": "cross-thin"
         },
         "mode": "markers",
         "name": "ein_diener_2-3 → sylvester",
         "showlegend": false,
         "text": "<b>ein_diener_2-3 → sylvester</b>:<br><br>5<br>",
         "type": "scatter",
         "x": [
          -0.7679535472777476
         ],
         "y": [
          0.4997312834551286
         ]
        },
        {
         "hoverinfo": "skip",
         "legendgroup": "ein_diener_2-3 → gertrude",
         "line": {
          "color": "green",
          "smoothing": 1.3,
          "width": 1.2212389380530975
         },
         "mode": "lines",
         "name": "ein_diener_2-3 → gertrude",
         "opacity": 0.5,
         "showlegend": false,
         "type": "scatter",
         "x": [
          -0.8119224187558353,
          -0.5040364541538961
         ],
         "y": [
          0.5296226138744882,
          0.14349277018414075
         ]
        },
        {
         "hoverinfo": "text",
         "marker": {
          "color": "green",
          "opacity": 0.4,
          "size": 1.2212389380530975,
          "symbol": "cross-thin"
         },
         "mode": "markers",
         "name": "ein_diener_2-3 → gertrude",
         "showlegend": false,
         "text": "<b>ein_diener_2-3 → gertrude</b>:<br><br>5<br>",
         "type": "scatter",
         "x": [
          -0.7811338222956414
         ],
         "y": [
          0.49100962950545346
         ]
        },
        {
         "hoverinfo": "skip",
         "legendgroup": "rupert → santing",
         "line": {
          "color": "green",
          "smoothing": 1.3,
          "width": 1.8849557522123894
         },
         "mode": "lines",
         "name": "rupert → santing",
         "opacity": 0.5,
         "showlegend": false,
         "type": "scatter",
         "x": [
          0.15852202608362587,
          0.06118065718030175
         ],
         "y": [
          -0.11160116329979293,
          -0.37654718144677773
         ]
        },
        {
         "hoverinfo": "text",
         "marker": {
          "color": "green",
          "opacity": 0.4,
          "size": 1.8849557522123894,
          "symbol": "cross-thin"
         },
         "mode": "markers",
         "name": "rupert → santing",
         "showlegend": false,
         "text": "<b>rupert → santing</b>:<br><br>7<br>8<br>11<br>13<br>",
         "type": "scatter",
         "x": [
          0.14878788919329344
         ],
         "y": [
          -0.1380957651144914
         ]
        },
        {
         "hoverinfo": "skip",
         "legendgroup": "rupert → ein_diener_3-2",
         "line": {
          "color": "green",
          "smoothing": 1.3,
          "width": 1.2212389380530975
         },
         "mode": "lines",
         "name": "rupert → ein_diener_3-2",
         "opacity": 0.5,
         "showlegend": false,
         "type": "scatter",
         "x": [
          0.15852202608362587,
          0.5993253687359638
         ],
         "y": [
          -0.11160116329979293,
          -0.44293204311128104
         ]
        },
        {
         "hoverinfo": "text",
         "marker": {
          "color": "green",
          "opacity": 0.4,
          "size": 1.2212389380530975,
          "symbol": "cross-thin"
         },
         "mode": "markers",
         "name": "rupert → ein_diener_3-2",
         "showlegend": false,
         "text": "<b>rupert → ein_diener_3-2</b>:<br><br>7<br>",
         "type": "scatter",
         "x": [
          0.20260236034885964
         ],
         "y": [
          -0.14473425128094175
         ]
        },
        {
         "hoverinfo": "skip",
         "legendgroup": "rupert → der_wanderer",
         "line": {
          "color": "green",
          "smoothing": 1.3,
          "width": 1.2212389380530975
         },
         "mode": "lines",
         "name": "rupert → der_wanderer",
         "opacity": 0.5,
         "showlegend": false,
         "type": "scatter",
         "x": [
          0.15852202608362587,
          0.7711730888841103
         ],
         "y": [
          -0.11160116329979293,
          -0.1988243915830265
         ]
        },
        {
         "hoverinfo": "text",
         "marker": {
          "color": "green",
          "opacity": 0.4,
          "size": 1.2212389380530975,
          "symbol": "cross-thin"
         },
         "mode": "markers",
         "name": "rupert → der_wanderer",
         "showlegend": false,
         "text": "<b>rupert → der_wanderer</b>:<br><br>7<br>",
         "type": "scatter",
         "x": [
          0.2197871323636743
         ],
         "y": [
          -0.12032348612811629
         ]
        },
        {
         "hoverinfo": "skip",
         "legendgroup": "rupert → zweiter_wanderer",
         "line": {
          "color": "green",
          "smoothing": 1.3,
          "width": 1.2212389380530975
         },
         "mode": "lines",
         "name": "rupert → zweiter_wanderer",
         "opacity": 0.5,
         "showlegend": false,
         "type": "scatter",
         "x": [
          0.15852202608362587,
          0.7772503926819285
         ],
         "y": [
          -0.11160116329979293,
          0.05104419631268521
         ]
        },
        {
         "hoverinfo": "text",
         "marker": {
          "color": "green",
          "opacity": 0.4,
          "size": 1.2212389380530975,
          "symbol": "cross-thin"
         },
         "mode": "markers",
         "name": "rupert → zweiter_wanderer",
         "showlegend": false,
         "text": "<b>rupert → zweiter_wanderer</b>:<br><br>7<br>",
         "type": "scatter",
         "x": [
          0.22039486274345613
         ],
         "y": [
          -0.09533662733854512
         ]
        },
        {
         "hoverinfo": "skip",
         "legendgroup": "eustache → santing",
         "line": {
          "color": "green",
          "smoothing": 1.3,
          "width": 1.663716814159292
         },
         "mode": "lines",
         "name": "eustache → santing",
         "opacity": 0.5,
         "showlegend": false,
         "type": "scatter",
         "x": [
          0.15794993503301555,
          0.06118065718030175
         ],
         "y": [
          -0.21129406443356444,
          -0.37654718144677773
         ]
        },
        {
         "hoverinfo": "text",
         "marker": {
          "color": "green",
          "opacity": 0.4,
          "size": 1.663716814159292,
          "symbol": "cross-thin"
         },
         "mode": "markers",
         "name": "eustache → santing",
         "showlegend": false,
         "text": "<b>eustache → santing</b>:<br><br>7<br>8<br>13<br>",
         "type": "scatter",
         "x": [
          0.14827300724774417
         ],
         "y": [
          -0.22781937613488576
         ]
        },
        {
         "hoverinfo": "skip",
         "legendgroup": "eustache → ein_diener_3-2",
         "line": {
          "color": "green",
          "smoothing": 1.3,
          "width": 1.2212389380530975
         },
         "mode": "lines",
         "name": "eustache → ein_diener_3-2",
         "opacity": 0.5,
         "showlegend": false,
         "type": "scatter",
         "x": [
          0.15794993503301555,
          0.5993253687359638
         ],
         "y": [
          -0.21129406443356444,
          -0.44293204311128104
         ]
        },
        {
         "hoverinfo": "text",
         "marker": {
          "color": "green",
          "opacity": 0.4,
          "size": 1.2212389380530975,
          "symbol": "cross-thin"
         },
         "mode": "markers",
         "name": "eustache → ein_diener_3-2",
         "showlegend": false,
         "text": "<b>eustache → ein_diener_3-2</b>:<br><br>7<br>",
         "type": "scatter",
         "x": [
          0.20208747840331037
         ],
         "y": [
          -0.23445786230133608
         ]
        },
        {
         "hoverinfo": "skip",
         "legendgroup": "eustache → der_wanderer",
         "line": {
          "color": "green",
          "smoothing": 1.3,
          "width": 1.2212389380530975
         },
         "mode": "lines",
         "name": "eustache → der_wanderer",
         "opacity": 0.5,
         "showlegend": false,
         "type": "scatter",
         "x": [
          0.15794993503301555,
          0.7711730888841103
         ],
         "y": [
          -0.21129406443356444,
          -0.1988243915830265
         ]
        },
        {
         "hoverinfo": "text",
         "marker": {
          "color": "green",
          "opacity": 0.4,
          "size": 1.2212389380530975,
          "symbol": "cross-thin"
         },
         "mode": "markers",
         "name": "eustache → der_wanderer",
         "showlegend": false,
         "text": "<b>eustache → der_wanderer</b>:<br><br>7<br>",
         "type": "scatter",
         "x": [
          0.21927225041812504
         ],
         "y": [
          -0.21004709714851064
         ]
        },
        {
         "hoverinfo": "skip",
         "legendgroup": "eustache → zweiter_wanderer",
         "line": {
          "color": "green",
          "smoothing": 1.3,
          "width": 1.2212389380530975
         },
         "mode": "lines",
         "name": "eustache → zweiter_wanderer",
         "opacity": 0.5,
         "showlegend": false,
         "type": "scatter",
         "x": [
          0.15794993503301555,
          0.7772503926819285
         ],
         "y": [
          -0.21129406443356444,
          0.05104419631268521
         ]
        },
        {
         "hoverinfo": "text",
         "marker": {
          "color": "green",
          "opacity": 0.4,
          "size": 1.2212389380530975,
          "symbol": "cross-thin"
         },
         "mode": "markers",
         "name": "eustache → zweiter_wanderer",
         "showlegend": false,
         "text": "<b>eustache → zweiter_wanderer</b>:<br><br>7<br>",
         "type": "scatter",
         "x": [
          0.21987998079790685
         ],
         "y": [
          -0.18506023835893948
         ]
        },
        {
         "hoverinfo": "skip",
         "legendgroup": "santing → rupert",
         "line": {
          "color": "green",
          "smoothing": 1.3,
          "width": 1.8849557522123894
         },
         "mode": "lines",
         "name": "santing → rupert",
         "opacity": 0.5,
         "showlegend": false,
         "type": "scatter",
         "x": [
          0.06118065718030175,
          0.15852202608362587
         ],
         "y": [
          -0.37654718144677773,
          -0.11160116329979293
         ]
        },
        {
         "hoverinfo": "text",
         "marker": {
          "color": "green",
          "opacity": 0.4,
          "size": 1.8849557522123894,
          "symbol": "cross-thin"
         },
         "mode": "markers",
         "name": "santing → rupert",
         "showlegend": false,
         "text": "<b>santing → rupert</b>:<br><br>7<br>8<br>11<br>13<br>",
         "type": "scatter",
         "x": [
          0.07091479407063417
         ],
         "y": [
          -0.3500525796320793
         ]
        },
        {
         "hoverinfo": "skip",
         "legendgroup": "santing → eustache",
         "line": {
          "color": "green",
          "smoothing": 1.3,
          "width": 1.663716814159292
         },
         "mode": "lines",
         "name": "santing → eustache",
         "opacity": 0.5,
         "showlegend": false,
         "type": "scatter",
         "x": [
          0.06118065718030175,
          0.15794993503301555
         ],
         "y": [
          -0.37654718144677773,
          -0.21129406443356444
         ]
        },
        {
         "hoverinfo": "text",
         "marker": {
          "color": "green",
          "opacity": 0.4,
          "size": 1.663716814159292,
          "symbol": "cross-thin"
         },
         "mode": "markers",
         "name": "santing → eustache",
         "showlegend": false,
         "text": "<b>santing → eustache</b>:<br><br>7<br>8<br>13<br>",
         "type": "scatter",
         "x": [
          0.07085758496557314
         ],
         "y": [
          -0.3600218697454564
         ]
        },
        {
         "hoverinfo": "skip",
         "legendgroup": "santing → ein_diener_3-2",
         "line": {
          "color": "green",
          "smoothing": 1.3,
          "width": 1.2212389380530975
         },
         "mode": "lines",
         "name": "santing → ein_diener_3-2",
         "opacity": 0.5,
         "showlegend": false,
         "type": "scatter",
         "x": [
          0.06118065718030175,
          0.5993253687359638
         ],
         "y": [
          -0.37654718144677773,
          -0.44293204311128104
         ]
        },
        {
         "hoverinfo": "text",
         "marker": {
          "color": "green",
          "opacity": 0.4,
          "size": 1.2212389380530975,
          "symbol": "cross-thin"
         },
         "mode": "markers",
         "name": "santing → ein_diener_3-2",
         "showlegend": false,
         "text": "<b>santing → ein_diener_3-2</b>:<br><br>7<br>",
         "type": "scatter",
         "x": [
          0.11499512833586795
         ],
         "y": [
          -0.3831856676132281
         ]
        },
        {
         "hoverinfo": "skip",
         "legendgroup": "santing → der_wanderer",
         "line": {
          "color": "green",
          "smoothing": 1.3,
          "width": 1.2212389380530975
         },
         "mode": "lines",
         "name": "santing → der_wanderer",
         "opacity": 0.5,
         "showlegend": false,
         "type": "scatter",
         "x": [
          0.06118065718030175,
          0.7711730888841103
         ],
         "y": [
          -0.37654718144677773,
          -0.1988243915830265
         ]
        },
        {
         "hoverinfo": "text",
         "marker": {
          "color": "green",
          "opacity": 0.4,
          "size": 1.2212389380530975,
          "symbol": "cross-thin"
         },
         "mode": "markers",
         "name": "santing → der_wanderer",
         "showlegend": false,
         "text": "<b>santing → der_wanderer</b>:<br><br>7<br>",
         "type": "scatter",
         "x": [
          0.1321799003506826
         ],
         "y": [
          -0.35877490246040267
         ]
        },
        {
         "hoverinfo": "skip",
         "legendgroup": "santing → zweiter_wanderer",
         "line": {
          "color": "green",
          "smoothing": 1.3,
          "width": 1.2212389380530975
         },
         "mode": "lines",
         "name": "santing → zweiter_wanderer",
         "opacity": 0.5,
         "showlegend": false,
         "type": "scatter",
         "x": [
          0.06118065718030175,
          0.7772503926819285
         ],
         "y": [
          -0.37654718144677773,
          0.05104419631268521
         ]
        },
        {
         "hoverinfo": "text",
         "marker": {
          "color": "green",
          "opacity": 0.4,
          "size": 1.2212389380530975,
          "symbol": "cross-thin"
         },
         "mode": "markers",
         "name": "santing → zweiter_wanderer",
         "showlegend": false,
         "text": "<b>santing → zweiter_wanderer</b>:<br><br>7<br>",
         "type": "scatter",
         "x": [
          0.13278763073046443
         ],
         "y": [
          -0.3337880436708315
         ]
        },
        {
         "hoverinfo": "skip",
         "legendgroup": "santing → jeronimus",
         "line": {
          "color": "green",
          "smoothing": 1.3,
          "width": 1.2212389380530975
         },
         "mode": "lines",
         "name": "santing → jeronimus",
         "opacity": 0.5,
         "showlegend": false,
         "type": "scatter",
         "x": [
          0.06118065718030175,
          0.11987714696755482
         ],
         "y": [
          -0.37654718144677773,
          0.3596944311525341
         ]
        },
        {
         "hoverinfo": "text",
         "marker": {
          "color": "green",
          "opacity": 0.4,
          "size": 1.2212389380530975,
          "symbol": "cross-thin"
         },
         "mode": "markers",
         "name": "santing → jeronimus",
         "showlegend": false,
         "text": "<b>santing → jeronimus</b>:<br><br>7<br>",
         "type": "scatter",
         "x": [
          0.06705030615902706
         ],
         "y": [
          -0.3029230201868466
         ]
        },
        {
         "hoverinfo": "skip",
         "legendgroup": "ein_diener_3-2 → rupert",
         "line": {
          "color": "green",
          "smoothing": 1.3,
          "width": 1.2212389380530975
         },
         "mode": "lines",
         "name": "ein_diener_3-2 → rupert",
         "opacity": 0.5,
         "showlegend": false,
         "type": "scatter",
         "x": [
          0.5993253687359638,
          0.15852202608362587
         ],
         "y": [
          -0.44293204311128104,
          -0.11160116329979293
         ]
        },
        {
         "hoverinfo": "text",
         "marker": {
          "color": "green",
          "opacity": 0.4,
          "size": 1.2212389380530975,
          "symbol": "cross-thin"
         },
         "mode": "markers",
         "name": "ein_diener_3-2 → rupert",
         "showlegend": false,
         "text": "<b>ein_diener_3-2 → rupert</b>:<br><br>7<br>",
         "type": "scatter",
         "x": [
          0.55524503447073
         ],
         "y": [
          -0.40979895513013226
         ]
        },
        {
         "hoverinfo": "skip",
         "legendgroup": "ein_diener_3-2 → eustache",
         "line": {
          "color": "green",
          "smoothing": 1.3,
          "width": 1.2212389380530975
         },
         "mode": "lines",
         "name": "ein_diener_3-2 → eustache",
         "opacity": 0.5,
         "showlegend": false,
         "type": "scatter",
         "x": [
          0.5993253687359638,
          0.15794993503301555
         ],
         "y": [
          -0.44293204311128104,
          -0.21129406443356444
         ]
        },
        {
         "hoverinfo": "text",
         "marker": {
          "color": "green",
          "opacity": 0.4,
          "size": 1.2212389380530975,
          "symbol": "cross-thin"
         },
         "mode": "markers",
         "name": "ein_diener_3-2 → eustache",
         "showlegend": false,
         "text": "<b>ein_diener_3-2 → eustache</b>:<br><br>7<br>",
         "type": "scatter",
         "x": [
          0.555187825365669
         ],
         "y": [
          -0.41976824524350936
         ]
        },
        {
         "hoverinfo": "skip",
         "legendgroup": "ein_diener_3-2 → santing",
         "line": {
          "color": "green",
          "smoothing": 1.3,
          "width": 1.2212389380530975
         },
         "mode": "lines",
         "name": "ein_diener_3-2 → santing",
         "opacity": 0.5,
         "showlegend": false,
         "type": "scatter",
         "x": [
          0.5993253687359638,
          0.06118065718030175
         ],
         "y": [
          -0.44293204311128104,
          -0.37654718144677773
         ]
        },
        {
         "hoverinfo": "text",
         "marker": {
          "color": "green",
          "opacity": 0.4,
          "size": 1.2212389380530975,
          "symbol": "cross-thin"
         },
         "mode": "markers",
         "name": "ein_diener_3-2 → santing",
         "showlegend": false,
         "text": "<b>ein_diener_3-2 → santing</b>:<br><br>7<br>",
         "type": "scatter",
         "x": [
          0.5455108975803976
         ],
         "y": [
          -0.43629355694483074
         ]
        },
        {
         "hoverinfo": "skip",
         "legendgroup": "ein_diener_3-2 → der_wanderer",
         "line": {
          "color": "green",
          "smoothing": 1.3,
          "width": 1.2212389380530975
         },
         "mode": "lines",
         "name": "ein_diener_3-2 → der_wanderer",
         "opacity": 0.5,
         "showlegend": false,
         "type": "scatter",
         "x": [
          0.5993253687359638,
          0.7711730888841103
         ],
         "y": [
          -0.44293204311128104,
          -0.1988243915830265
         ]
        },
        {
         "hoverinfo": "text",
         "marker": {
          "color": "green",
          "opacity": 0.4,
          "size": 1.2212389380530975,
          "symbol": "cross-thin"
         },
         "mode": "markers",
         "name": "ein_diener_3-2 → der_wanderer",
         "showlegend": false,
         "text": "<b>ein_diener_3-2 → der_wanderer</b>:<br><br>7<br>",
         "type": "scatter",
         "x": [
          0.6165101407507785
         ],
         "y": [
          -0.4185212779584556
         ]
        },
        {
         "hoverinfo": "skip",
         "legendgroup": "ein_diener_3-2 → zweiter_wanderer",
         "line": {
          "color": "green",
          "smoothing": 1.3,
          "width": 1.2212389380530975
         },
         "mode": "lines",
         "name": "ein_diener_3-2 → zweiter_wanderer",
         "opacity": 0.5,
         "showlegend": false,
         "type": "scatter",
         "x": [
          0.5993253687359638,
          0.7772503926819285
         ],
         "y": [
          -0.44293204311128104,
          0.05104419631268521
         ]
        },
        {
         "hoverinfo": "text",
         "marker": {
          "color": "green",
          "opacity": 0.4,
          "size": 1.2212389380530975,
          "symbol": "cross-thin"
         },
         "mode": "markers",
         "name": "ein_diener_3-2 → zweiter_wanderer",
         "showlegend": false,
         "text": "<b>ein_diener_3-2 → zweiter_wanderer</b>:<br><br>7<br>",
         "type": "scatter",
         "x": [
          0.6171178711305603
         ],
         "y": [
          -0.39353441916888443
         ]
        },
        {
         "hoverinfo": "skip",
         "legendgroup": "ein_diener_3-2 → jeronimus",
         "line": {
          "color": "green",
          "smoothing": 1.3,
          "width": 1.2212389380530975
         },
         "mode": "lines",
         "name": "ein_diener_3-2 → jeronimus",
         "opacity": 0.5,
         "showlegend": false,
         "type": "scatter",
         "x": [
          0.5993253687359638,
          0.11987714696755482
         ],
         "y": [
          -0.44293204311128104,
          0.3596944311525341
         ]
        },
        {
         "hoverinfo": "text",
         "marker": {
          "color": "green",
          "opacity": 0.4,
          "size": 1.2212389380530975,
          "symbol": "cross-thin"
         },
         "mode": "markers",
         "name": "ein_diener_3-2 → jeronimus",
         "showlegend": false,
         "text": "<b>ein_diener_3-2 → jeronimus</b>:<br><br>7<br>",
         "type": "scatter",
         "x": [
          0.5513805465591229
         ],
         "y": [
          -0.36266939568489953
         ]
        },
        {
         "hoverinfo": "skip",
         "legendgroup": "der_wanderer → rupert",
         "line": {
          "color": "green",
          "smoothing": 1.3,
          "width": 1.2212389380530975
         },
         "mode": "lines",
         "name": "der_wanderer → rupert",
         "opacity": 0.5,
         "showlegend": false,
         "type": "scatter",
         "x": [
          0.7711730888841103,
          0.15852202608362587
         ],
         "y": [
          -0.1988243915830265,
          -0.11160116329979293
         ]
        },
        {
         "hoverinfo": "text",
         "marker": {
          "color": "green",
          "opacity": 0.4,
          "size": 1.2212389380530975,
          "symbol": "cross-thin"
         },
         "mode": "markers",
         "name": "der_wanderer → rupert",
         "showlegend": false,
         "text": "<b>der_wanderer → rupert</b>:<br><br>7<br>",
         "type": "scatter",
         "x": [
          0.7099079826040618
         ],
         "y": [
          -0.19010206875470315
         ]
        },
        {
         "hoverinfo": "skip",
         "legendgroup": "der_wanderer → eustache",
         "line": {
          "color": "green",
          "smoothing": 1.3,
          "width": 1.2212389380530975
         },
         "mode": "lines",
         "name": "der_wanderer → eustache",
         "opacity": 0.5,
         "showlegend": false,
         "type": "scatter",
         "x": [
          0.7711730888841103,
          0.15794993503301555
         ],
         "y": [
          -0.1988243915830265,
          -0.21129406443356444
         ]
        },
        {
         "hoverinfo": "text",
         "marker": {
          "color": "green",
          "opacity": 0.4,
          "size": 1.2212389380530975,
          "symbol": "cross-thin"
         },
         "mode": "markers",
         "name": "der_wanderer → eustache",
         "showlegend": false,
         "text": "<b>der_wanderer → eustache</b>:<br><br>7<br>",
         "type": "scatter",
         "x": [
          0.7098507734990008
         ],
         "y": [
          -0.2000713588680803
         ]
        },
        {
         "hoverinfo": "skip",
         "legendgroup": "der_wanderer → santing",
         "line": {
          "color": "green",
          "smoothing": 1.3,
          "width": 1.2212389380530975
         },
         "mode": "lines",
         "name": "der_wanderer → santing",
         "opacity": 0.5,
         "showlegend": false,
         "type": "scatter",
         "x": [
          0.7711730888841103,
          0.06118065718030175
         ],
         "y": [
          -0.1988243915830265,
          -0.37654718144677773
         ]
        },
        {
         "hoverinfo": "text",
         "marker": {
          "color": "green",
          "opacity": 0.4,
          "size": 1.2212389380530975,
          "symbol": "cross-thin"
         },
         "mode": "markers",
         "name": "der_wanderer → santing",
         "showlegend": false,
         "text": "<b>der_wanderer → santing</b>:<br><br>7<br>",
         "type": "scatter",
         "x": [
          0.7001738457137294
         ],
         "y": [
          -0.21659667056940163
         ]
        },
        {
         "hoverinfo": "skip",
         "legendgroup": "der_wanderer → ein_diener_3-2",
         "line": {
          "color": "green",
          "smoothing": 1.3,
          "width": 1.2212389380530975
         },
         "mode": "lines",
         "name": "der_wanderer → ein_diener_3-2",
         "opacity": 0.5,
         "showlegend": false,
         "type": "scatter",
         "x": [
          0.7711730888841103,
          0.5993253687359638
         ],
         "y": [
          -0.1988243915830265,
          -0.44293204311128104
         ]
        },
        {
         "hoverinfo": "text",
         "marker": {
          "color": "green",
          "opacity": 0.4,
          "size": 1.2212389380530975,
          "symbol": "cross-thin"
         },
         "mode": "markers",
         "name": "der_wanderer → ein_diener_3-2",
         "showlegend": false,
         "text": "<b>der_wanderer → ein_diener_3-2</b>:<br><br>7<br>",
         "type": "scatter",
         "x": [
          0.7539883168692956
         ],
         "y": [
          -0.22323515673585195
         ]
        },
        {
         "hoverinfo": "skip",
         "legendgroup": "der_wanderer → zweiter_wanderer",
         "line": {
          "color": "green",
          "smoothing": 1.3,
          "width": 1.2212389380530975
         },
         "mode": "lines",
         "name": "der_wanderer → zweiter_wanderer",
         "opacity": 0.5,
         "showlegend": false,
         "type": "scatter",
         "x": [
          0.7711730888841103,
          0.7772503926819285
         ],
         "y": [
          -0.1988243915830265,
          0.05104419631268521
         ]
        },
        {
         "hoverinfo": "text",
         "marker": {
          "color": "green",
          "opacity": 0.4,
          "size": 1.2212389380530975,
          "symbol": "cross-thin"
         },
         "mode": "markers",
         "name": "der_wanderer → zweiter_wanderer",
         "showlegend": false,
         "text": "<b>der_wanderer → zweiter_wanderer</b>:<br><br>7<br>",
         "type": "scatter",
         "x": [
          0.7717808192638921
         ],
         "y": [
          -0.17383753279345535
         ]
        },
        {
         "hoverinfo": "skip",
         "legendgroup": "der_wanderer → jeronimus",
         "line": {
          "color": "green",
          "smoothing": 1.3,
          "width": 1.2212389380530975
         },
         "mode": "lines",
         "name": "der_wanderer → jeronimus",
         "opacity": 0.5,
         "showlegend": false,
         "type": "scatter",
         "x": [
          0.7711730888841103,
          0.11987714696755482
         ],
         "y": [
          -0.1988243915830265,
          0.3596944311525341
         ]
        },
        {
         "hoverinfo": "text",
         "marker": {
          "color": "green",
          "opacity": 0.4,
          "size": 1.2212389380530975,
          "symbol": "cross-thin"
         },
         "mode": "markers",
         "name": "der_wanderer → jeronimus",
         "showlegend": false,
         "text": "<b>der_wanderer → jeronimus</b>:<br><br>7<br>",
         "type": "scatter",
         "x": [
          0.7060434946924548
         ],
         "y": [
          -0.14297250930947045
         ]
        },
        {
         "hoverinfo": "skip",
         "legendgroup": "zweiter_wanderer → rupert",
         "line": {
          "color": "green",
          "smoothing": 1.3,
          "width": 1.2212389380530975
         },
         "mode": "lines",
         "name": "zweiter_wanderer → rupert",
         "opacity": 0.5,
         "showlegend": false,
         "type": "scatter",
         "x": [
          0.7772503926819285,
          0.15852202608362587
         ],
         "y": [
          0.05104419631268521,
          -0.11160116329979293
         ]
        },
        {
         "hoverinfo": "text",
         "marker": {
          "color": "green",
          "opacity": 0.4,
          "size": 1.2212389380530975,
          "symbol": "cross-thin"
         },
         "mode": "markers",
         "name": "zweiter_wanderer → rupert",
         "showlegend": false,
         "text": "<b>zweiter_wanderer → rupert</b>:<br><br>7<br>",
         "type": "scatter",
         "x": [
          0.7153775560220983
         ],
         "y": [
          0.0347796603514374
         ]
        },
        {
         "hoverinfo": "skip",
         "legendgroup": "zweiter_wanderer → eustache",
         "line": {
          "color": "green",
          "smoothing": 1.3,
          "width": 1.2212389380530975
         },
         "mode": "lines",
         "name": "zweiter_wanderer → eustache",
         "opacity": 0.5,
         "showlegend": false,
         "type": "scatter",
         "x": [
          0.7772503926819285,
          0.15794993503301555
         ],
         "y": [
          0.05104419631268521,
          -0.21129406443356444
         ]
        },
        {
         "hoverinfo": "text",
         "marker": {
          "color": "green",
          "opacity": 0.4,
          "size": 1.2212389380530975,
          "symbol": "cross-thin"
         },
         "mode": "markers",
         "name": "zweiter_wanderer → eustache",
         "showlegend": false,
         "text": "<b>zweiter_wanderer → eustache</b>:<br><br>7<br>",
         "type": "scatter",
         "x": [
          0.7153203469170373
         ],
         "y": [
          0.024810370238060243
         ]
        },
        {
         "hoverinfo": "skip",
         "legendgroup": "zweiter_wanderer → santing",
         "line": {
          "color": "green",
          "smoothing": 1.3,
          "width": 1.2212389380530975
         },
         "mode": "lines",
         "name": "zweiter_wanderer → santing",
         "opacity": 0.5,
         "showlegend": false,
         "type": "scatter",
         "x": [
          0.7772503926819285,
          0.06118065718030175
         ],
         "y": [
          0.05104419631268521,
          -0.37654718144677773
         ]
        },
        {
         "hoverinfo": "text",
         "marker": {
          "color": "green",
          "opacity": 0.4,
          "size": 1.2212389380530975,
          "symbol": "cross-thin"
         },
         "mode": "markers",
         "name": "zweiter_wanderer → santing",
         "showlegend": false,
         "text": "<b>zweiter_wanderer → santing</b>:<br><br>7<br>",
         "type": "scatter",
         "x": [
          0.7056434191317659
         ],
         "y": [
          0.008285058536738915
         ]
        },
        {
         "hoverinfo": "skip",
         "legendgroup": "zweiter_wanderer → ein_diener_3-2",
         "line": {
          "color": "green",
          "smoothing": 1.3,
          "width": 1.2212389380530975
         },
         "mode": "lines",
         "name": "zweiter_wanderer → ein_diener_3-2",
         "opacity": 0.5,
         "showlegend": false,
         "type": "scatter",
         "x": [
          0.7772503926819285,
          0.5993253687359638
         ],
         "y": [
          0.05104419631268521,
          -0.44293204311128104
         ]
        },
        {
         "hoverinfo": "text",
         "marker": {
          "color": "green",
          "opacity": 0.4,
          "size": 1.2212389380530975,
          "symbol": "cross-thin"
         },
         "mode": "markers",
         "name": "zweiter_wanderer → ein_diener_3-2",
         "showlegend": false,
         "text": "<b>zweiter_wanderer → ein_diener_3-2</b>:<br><br>7<br>",
         "type": "scatter",
         "x": [
          0.759457890287332
         ],
         "y": [
          0.0016465723702885834
         ]
        },
        {
         "hoverinfo": "skip",
         "legendgroup": "zweiter_wanderer → der_wanderer",
         "line": {
          "color": "green",
          "smoothing": 1.3,
          "width": 1.2212389380530975
         },
         "mode": "lines",
         "name": "zweiter_wanderer → der_wanderer",
         "opacity": 0.5,
         "showlegend": false,
         "type": "scatter",
         "x": [
          0.7772503926819285,
          0.7711730888841103
         ],
         "y": [
          0.05104419631268521,
          -0.1988243915830265
         ]
        },
        {
         "hoverinfo": "text",
         "marker": {
          "color": "green",
          "opacity": 0.4,
          "size": 1.2212389380530975,
          "symbol": "cross-thin"
         },
         "mode": "markers",
         "name": "zweiter_wanderer → der_wanderer",
         "showlegend": false,
         "text": "<b>zweiter_wanderer → der_wanderer</b>:<br><br>7<br>",
         "type": "scatter",
         "x": [
          0.7766426623021467
         ],
         "y": [
          0.026057337523114038
         ]
        },
        {
         "hoverinfo": "skip",
         "legendgroup": "zweiter_wanderer → jeronimus",
         "line": {
          "color": "green",
          "smoothing": 1.3,
          "width": 1.2212389380530975
         },
         "mode": "lines",
         "name": "zweiter_wanderer → jeronimus",
         "opacity": 0.5,
         "showlegend": false,
         "type": "scatter",
         "x": [
          0.7772503926819285,
          0.11987714696755482
         ],
         "y": [
          0.05104419631268521,
          0.3596944311525341
         ]
        },
        {
         "hoverinfo": "text",
         "marker": {
          "color": "green",
          "opacity": 0.4,
          "size": 1.2212389380530975,
          "symbol": "cross-thin"
         },
         "mode": "markers",
         "name": "zweiter_wanderer → jeronimus",
         "showlegend": false,
         "text": "<b>zweiter_wanderer → jeronimus</b>:<br><br>7<br>",
         "type": "scatter",
         "x": [
          0.7115130681104912
         ],
         "y": [
          0.0819092197966701
         ]
        },
        {
         "hoverinfo": "skip",
         "legendgroup": "jeronimus → santing",
         "line": {
          "color": "green",
          "smoothing": 1.3,
          "width": 1.2212389380530975
         },
         "mode": "lines",
         "name": "jeronimus → santing",
         "opacity": 0.5,
         "showlegend": false,
         "type": "scatter",
         "x": [
          0.11987714696755482,
          0.06118065718030175
         ],
         "y": [
          0.3596944311525341,
          -0.37654718144677773
         ]
        },
        {
         "hoverinfo": "text",
         "marker": {
          "color": "green",
          "opacity": 0.4,
          "size": 1.2212389380530975,
          "symbol": "cross-thin"
         },
         "mode": "markers",
         "name": "jeronimus → santing",
         "showlegend": false,
         "text": "<b>jeronimus → santing</b>:<br><br>7<br>",
         "type": "scatter",
         "x": [
          0.1140074979888295
         ],
         "y": [
          0.28607026989260287
         ]
        },
        {
         "hoverinfo": "skip",
         "legendgroup": "jeronimus → ein_diener_3-2",
         "line": {
          "color": "green",
          "smoothing": 1.3,
          "width": 1.2212389380530975
         },
         "mode": "lines",
         "name": "jeronimus → ein_diener_3-2",
         "opacity": 0.5,
         "showlegend": false,
         "type": "scatter",
         "x": [
          0.11987714696755482,
          0.5993253687359638
         ],
         "y": [
          0.3596944311525341,
          -0.44293204311128104
         ]
        },
        {
         "hoverinfo": "text",
         "marker": {
          "color": "green",
          "opacity": 0.4,
          "size": 1.2212389380530975,
          "symbol": "cross-thin"
         },
         "mode": "markers",
         "name": "jeronimus → ein_diener_3-2",
         "showlegend": false,
         "text": "<b>jeronimus → ein_diener_3-2</b>:<br><br>7<br>",
         "type": "scatter",
         "x": [
          0.1678219691443957
         ],
         "y": [
          0.27943178372615257
         ]
        },
        {
         "hoverinfo": "skip",
         "legendgroup": "jeronimus → der_wanderer",
         "line": {
          "color": "green",
          "smoothing": 1.3,
          "width": 1.2212389380530975
         },
         "mode": "lines",
         "name": "jeronimus → der_wanderer",
         "opacity": 0.5,
         "showlegend": false,
         "type": "scatter",
         "x": [
          0.11987714696755482,
          0.7711730888841103
         ],
         "y": [
          0.3596944311525341,
          -0.1988243915830265
         ]
        },
        {
         "hoverinfo": "text",
         "marker": {
          "color": "green",
          "opacity": 0.4,
          "size": 1.2212389380530975,
          "symbol": "cross-thin"
         },
         "mode": "markers",
         "name": "jeronimus → der_wanderer",
         "showlegend": false,
         "text": "<b>jeronimus → der_wanderer</b>:<br><br>7<br>",
         "type": "scatter",
         "x": [
          0.18500674115921037
         ],
         "y": [
          0.303842548878978
         ]
        },
        {
         "hoverinfo": "skip",
         "legendgroup": "jeronimus → zweiter_wanderer",
         "line": {
          "color": "green",
          "smoothing": 1.3,
          "width": 1.2212389380530975
         },
         "mode": "lines",
         "name": "jeronimus → zweiter_wanderer",
         "opacity": 0.5,
         "showlegend": false,
         "type": "scatter",
         "x": [
          0.11987714696755482,
          0.7772503926819285
         ],
         "y": [
          0.3596944311525341,
          0.05104419631268521
         ]
        },
        {
         "hoverinfo": "text",
         "marker": {
          "color": "green",
          "opacity": 0.4,
          "size": 1.2212389380530975,
          "symbol": "cross-thin"
         },
         "mode": "markers",
         "name": "jeronimus → zweiter_wanderer",
         "showlegend": false,
         "text": "<b>jeronimus → zweiter_wanderer</b>:<br><br>7<br>",
         "type": "scatter",
         "x": [
          0.1856144715389922
         ],
         "y": [
          0.3288294076685492
         ]
        },
        {
         "hoverinfo": "skip",
         "legendgroup": "rupert → die_kammerzofe",
         "line": {
          "color": "green",
          "smoothing": 1.3,
          "width": 1.2212389380530975
         },
         "mode": "lines",
         "name": "rupert → die_kammerzofe",
         "opacity": 0.5,
         "showlegend": false,
         "type": "scatter",
         "x": [
          0.15852202608362587,
          0.09015422320494652
         ],
         "y": [
          -0.11160116329979293,
          -1
         ]
        },
        {
         "hoverinfo": "text",
         "marker": {
          "color": "green",
          "opacity": 0.4,
          "size": 1.2212389380530975,
          "symbol": "cross-thin"
         },
         "mode": "markers",
         "name": "rupert → die_kammerzofe",
         "showlegend": false,
         "text": "<b>rupert → die_kammerzofe</b>:<br><br>8<br>",
         "type": "scatter",
         "x": [
          0.15168524579575793
         ],
         "y": [
          -0.20044104696981363
         ]
        },
        {
         "hoverinfo": "skip",
         "legendgroup": "rupert → ein_diener_4-1",
         "line": {
          "color": "green",
          "smoothing": 1.3,
          "width": 1.2212389380530975
         },
         "mode": "lines",
         "name": "rupert → ein_diener_4-1",
         "opacity": 0.5,
         "showlegend": false,
         "type": "scatter",
         "x": [
          0.15852202608362587,
          0.4452389232238448
         ],
         "y": [
          -0.11160116329979293,
          -0.9010088601234133
         ]
        },
        {
         "hoverinfo": "text",
         "marker": {
          "color": "green",
          "opacity": 0.4,
          "size": 1.2212389380530975,
          "symbol": "cross-thin"
         },
         "mode": "markers",
         "name": "rupert → ein_diener_4-1",
         "showlegend": false,
         "text": "<b>rupert → ein_diener_4-1</b>:<br><br>8<br>",
         "type": "scatter",
         "x": [
          0.18719371579764776
         ],
         "y": [
          -0.190541932982155
         ]
        },
        {
         "hoverinfo": "skip",
         "legendgroup": "santing → die_kammerzofe",
         "line": {
          "color": "green",
          "smoothing": 1.3,
          "width": 1.2212389380530975
         },
         "mode": "lines",
         "name": "santing → die_kammerzofe",
         "opacity": 0.5,
         "showlegend": false,
         "type": "scatter",
         "x": [
          0.06118065718030175,
          0.09015422320494652
         ],
         "y": [
          -0.37654718144677773,
          -1
         ]
        },
        {
         "hoverinfo": "text",
         "marker": {
          "color": "green",
          "opacity": 0.4,
          "size": 1.2212389380530975,
          "symbol": "cross-thin"
         },
         "mode": "markers",
         "name": "santing → die_kammerzofe",
         "showlegend": false,
         "text": "<b>santing → die_kammerzofe</b>:<br><br>8<br>",
         "type": "scatter",
         "x": [
          0.06407801378276623
         ],
         "y": [
          -0.43889246330209997
         ]
        },
        {
         "hoverinfo": "skip",
         "legendgroup": "santing → ein_diener_4-1",
         "line": {
          "color": "green",
          "smoothing": 1.3,
          "width": 1.2212389380530975
         },
         "mode": "lines",
         "name": "santing → ein_diener_4-1",
         "opacity": 0.5,
         "showlegend": false,
         "type": "scatter",
         "x": [
          0.06118065718030175,
          0.4452389232238448
         ],
         "y": [
          -0.37654718144677773,
          -0.9010088601234133
         ]
        },
        {
         "hoverinfo": "text",
         "marker": {
          "color": "green",
          "opacity": 0.4,
          "size": 1.2212389380530975,
          "symbol": "cross-thin"
         },
         "mode": "markers",
         "name": "santing → ein_diener_4-1",
         "showlegend": false,
         "text": "<b>santing → ein_diener_4-1</b>:<br><br>8<br>",
         "type": "scatter",
         "x": [
          0.09958648378465607
         ],
         "y": [
          -0.42899334931444133
         ]
        },
        {
         "hoverinfo": "skip",
         "legendgroup": "eustache → die_kammerzofe",
         "line": {
          "color": "green",
          "smoothing": 1.3,
          "width": 1.2212389380530975
         },
         "mode": "lines",
         "name": "eustache → die_kammerzofe",
         "opacity": 0.5,
         "showlegend": false,
         "type": "scatter",
         "x": [
          0.15794993503301555,
          0.09015422320494652
         ],
         "y": [
          -0.21129406443356444,
          -1
         ]
        },
        {
         "hoverinfo": "text",
         "marker": {
          "color": "green",
          "opacity": 0.4,
          "size": 1.2212389380530975,
          "symbol": "cross-thin"
         },
         "mode": "markers",
         "name": "eustache → die_kammerzofe",
         "showlegend": false,
         "text": "<b>eustache → die_kammerzofe</b>:<br><br>8<br>",
         "type": "scatter",
         "x": [
          0.15117036385020866
         ],
         "y": [
          -0.29016465799020796
         ]
        },
        {
         "hoverinfo": "skip",
         "legendgroup": "eustache → ein_diener_4-1",
         "line": {
          "color": "green",
          "smoothing": 1.3,
          "width": 1.2212389380530975
         },
         "mode": "lines",
         "name": "eustache → ein_diener_4-1",
         "opacity": 0.5,
         "showlegend": false,
         "type": "scatter",
         "x": [
          0.15794993503301555,
          0.4452389232238448
         ],
         "y": [
          -0.21129406443356444,
          -0.9010088601234133
         ]
        },
        {
         "hoverinfo": "text",
         "marker": {
          "color": "green",
          "opacity": 0.4,
          "size": 1.2212389380530975,
          "symbol": "cross-thin"
         },
         "mode": "markers",
         "name": "eustache → ein_diener_4-1",
         "showlegend": false,
         "text": "<b>eustache → ein_diener_4-1</b>:<br><br>8<br>",
         "type": "scatter",
         "x": [
          0.1866788338520985
         ],
         "y": [
          -0.2802655440025493
         ]
        },
        {
         "hoverinfo": "skip",
         "legendgroup": "die_kammerzofe → rupert",
         "line": {
          "color": "green",
          "smoothing": 1.3,
          "width": 1.2212389380530975
         },
         "mode": "lines",
         "name": "die_kammerzofe → rupert",
         "opacity": 0.5,
         "showlegend": false,
         "type": "scatter",
         "x": [
          0.09015422320494652,
          0.15852202608362587
         ],
         "y": [
          -1,
          -0.11160116329979293
         ]
        },
        {
         "hoverinfo": "text",
         "marker": {
          "color": "green",
          "opacity": 0.4,
          "size": 1.2212389380530975,
          "symbol": "cross-thin"
         },
         "mode": "markers",
         "name": "die_kammerzofe → rupert",
         "showlegend": false,
         "text": "<b>die_kammerzofe → rupert</b>:<br><br>8<br>",
         "type": "scatter",
         "x": [
          0.09699100349281446
         ],
         "y": [
          -0.9111601163299793
         ]
        },
        {
         "hoverinfo": "skip",
         "legendgroup": "die_kammerzofe → santing",
         "line": {
          "color": "green",
          "smoothing": 1.3,
          "width": 1.2212389380530975
         },
         "mode": "lines",
         "name": "die_kammerzofe → santing",
         "opacity": 0.5,
         "showlegend": false,
         "type": "scatter",
         "x": [
          0.09015422320494652,
          0.06118065718030175
         ],
         "y": [
          -1,
          -0.37654718144677773
         ]
        },
        {
         "hoverinfo": "text",
         "marker": {
          "color": "green",
          "opacity": 0.4,
          "size": 1.2212389380530975,
          "symbol": "cross-thin"
         },
         "mode": "markers",
         "name": "die_kammerzofe → santing",
         "showlegend": false,
         "text": "<b>die_kammerzofe → santing</b>:<br><br>8<br>",
         "type": "scatter",
         "x": [
          0.08725686660248205
         ],
         "y": [
          -0.9376547181446778
         ]
        },
        {
         "hoverinfo": "skip",
         "legendgroup": "die_kammerzofe → eustache",
         "line": {
          "color": "green",
          "smoothing": 1.3,
          "width": 1.2212389380530975
         },
         "mode": "lines",
         "name": "die_kammerzofe → eustache",
         "opacity": 0.5,
         "showlegend": false,
         "type": "scatter",
         "x": [
          0.09015422320494652,
          0.15794993503301555
         ],
         "y": [
          -1,
          -0.21129406443356444
         ]
        },
        {
         "hoverinfo": "text",
         "marker": {
          "color": "green",
          "opacity": 0.4,
          "size": 1.2212389380530975,
          "symbol": "cross-thin"
         },
         "mode": "markers",
         "name": "die_kammerzofe → eustache",
         "showlegend": false,
         "text": "<b>die_kammerzofe → eustache</b>:<br><br>8<br>",
         "type": "scatter",
         "x": [
          0.09693379438775343
         ],
         "y": [
          -0.9211294064433565
         ]
        },
        {
         "hoverinfo": "skip",
         "legendgroup": "die_kammerzofe → ein_diener_4-1",
         "line": {
          "color": "green",
          "smoothing": 1.3,
          "width": 1.2212389380530975
         },
         "mode": "lines",
         "name": "die_kammerzofe → ein_diener_4-1",
         "opacity": 0.5,
         "showlegend": false,
         "type": "scatter",
         "x": [
          0.09015422320494652,
          0.4452389232238448
         ],
         "y": [
          -1,
          -0.9010088601234133
         ]
        },
        {
         "hoverinfo": "text",
         "marker": {
          "color": "green",
          "opacity": 0.4,
          "size": 1.2212389380530975,
          "symbol": "cross-thin"
         },
         "mode": "markers",
         "name": "die_kammerzofe → ein_diener_4-1",
         "showlegend": false,
         "text": "<b>die_kammerzofe → ein_diener_4-1</b>:<br><br>8<br>",
         "type": "scatter",
         "x": [
          0.12566269320683635
         ],
         "y": [
          -0.9901008860123414
         ]
        },
        {
         "hoverinfo": "skip",
         "legendgroup": "ein_diener_4-1 → rupert",
         "line": {
          "color": "green",
          "smoothing": 1.3,
          "width": 1.2212389380530975
         },
         "mode": "lines",
         "name": "ein_diener_4-1 → rupert",
         "opacity": 0.5,
         "showlegend": false,
         "type": "scatter",
         "x": [
          0.4452389232238448,
          0.15852202608362587
         ],
         "y": [
          -0.9010088601234133,
          -0.11160116329979293
         ]
        },
        {
         "hoverinfo": "text",
         "marker": {
          "color": "green",
          "opacity": 0.4,
          "size": 1.2212389380530975,
          "symbol": "cross-thin"
         },
         "mode": "markers",
         "name": "ein_diener_4-1 → rupert",
         "showlegend": false,
         "text": "<b>ein_diener_4-1 → rupert</b>:<br><br>8<br>",
         "type": "scatter",
         "x": [
          0.4165672335098229
         ],
         "y": [
          -0.8220680904410512
         ]
        },
        {
         "hoverinfo": "skip",
         "legendgroup": "ein_diener_4-1 → santing",
         "line": {
          "color": "green",
          "smoothing": 1.3,
          "width": 1.2212389380530975
         },
         "mode": "lines",
         "name": "ein_diener_4-1 → santing",
         "opacity": 0.5,
         "showlegend": false,
         "type": "scatter",
         "x": [
          0.4452389232238448,
          0.06118065718030175
         ],
         "y": [
          -0.9010088601234133,
          -0.37654718144677773
         ]
        },
        {
         "hoverinfo": "text",
         "marker": {
          "color": "green",
          "opacity": 0.4,
          "size": 1.2212389380530975,
          "symbol": "cross-thin"
         },
         "mode": "markers",
         "name": "ein_diener_4-1 → santing",
         "showlegend": false,
         "text": "<b>ein_diener_4-1 → santing</b>:<br><br>8<br>",
         "type": "scatter",
         "x": [
          0.4068330966194905
         ],
         "y": [
          -0.8485626922557498
         ]
        },
        {
         "hoverinfo": "skip",
         "legendgroup": "ein_diener_4-1 → eustache",
         "line": {
          "color": "green",
          "smoothing": 1.3,
          "width": 1.2212389380530975
         },
         "mode": "lines",
         "name": "ein_diener_4-1 → eustache",
         "opacity": 0.5,
         "showlegend": false,
         "type": "scatter",
         "x": [
          0.4452389232238448,
          0.15794993503301555
         ],
         "y": [
          -0.9010088601234133,
          -0.21129406443356444
         ]
        },
        {
         "hoverinfo": "text",
         "marker": {
          "color": "green",
          "opacity": 0.4,
          "size": 1.2212389380530975,
          "symbol": "cross-thin"
         },
         "mode": "markers",
         "name": "ein_diener_4-1 → eustache",
         "showlegend": false,
         "text": "<b>ein_diener_4-1 → eustache</b>:<br><br>8<br>",
         "type": "scatter",
         "x": [
          0.41651002440476187
         ],
         "y": [
          -0.8320373805544284
         ]
        },
        {
         "hoverinfo": "skip",
         "legendgroup": "ein_diener_4-1 → die_kammerzofe",
         "line": {
          "color": "green",
          "smoothing": 1.3,
          "width": 1.2212389380530975
         },
         "mode": "lines",
         "name": "ein_diener_4-1 → die_kammerzofe",
         "opacity": 0.5,
         "showlegend": false,
         "type": "scatter",
         "x": [
          0.4452389232238448,
          0.09015422320494652
         ],
         "y": [
          -0.9010088601234133,
          -1
         ]
        },
        {
         "hoverinfo": "text",
         "marker": {
          "color": "green",
          "opacity": 0.4,
          "size": 1.2212389380530975,
          "symbol": "cross-thin"
         },
         "mode": "markers",
         "name": "ein_diener_4-1 → die_kammerzofe",
         "showlegend": false,
         "text": "<b>ein_diener_4-1 → die_kammerzofe</b>:<br><br>8<br>",
         "type": "scatter",
         "x": [
          0.40973045322195495
         ],
         "y": [
          -0.9109079741110719
         ]
        },
        {
         "hoverinfo": "skip",
         "legendgroup": "agnes → theistiner",
         "line": {
          "color": "green",
          "smoothing": 1.3,
          "width": 1.4424778761061947
         },
         "mode": "lines",
         "name": "agnes → theistiner",
         "opacity": 0.5,
         "showlegend": false,
         "type": "scatter",
         "x": [
          -0.6633165401762209,
          -0.13435834816636363
         ],
         "y": [
          0.0856420375823834,
          -0.5985916669324939
         ]
        },
        {
         "hoverinfo": "text",
         "marker": {
          "color": "green",
          "opacity": 0.4,
          "size": 1.4424778761061947,
          "symbol": "cross-thin"
         },
         "mode": "markers",
         "name": "agnes → theistiner",
         "showlegend": false,
         "text": "<b>agnes → theistiner</b>:<br><br>9<br>13<br>",
         "type": "scatter",
         "x": [
          -0.6104207209752351
         ],
         "y": [
          0.017218667130895662
         ]
        },
        {
         "hoverinfo": "skip",
         "legendgroup": "theistiner → agnes",
         "line": {
          "color": "green",
          "smoothing": 1.3,
          "width": 1.4424778761061947
         },
         "mode": "lines",
         "name": "theistiner → agnes",
         "opacity": 0.5,
         "showlegend": false,
         "type": "scatter",
         "x": [
          -0.13435834816636363,
          -0.6633165401762209
         ],
         "y": [
          -0.5985916669324939,
          0.0856420375823834
         ]
        },
        {
         "hoverinfo": "text",
         "marker": {
          "color": "green",
          "opacity": 0.4,
          "size": 1.4424778761061947,
          "symbol": "cross-thin"
         },
         "mode": "markers",
         "name": "theistiner → agnes",
         "showlegend": false,
         "text": "<b>theistiner → agnes</b>:<br><br>9<br>13<br>",
         "type": "scatter",
         "x": [
          -0.18725416736734934
         ],
         "y": [
          -0.5301682964810062
         ]
        },
        {
         "hoverinfo": "skip",
         "legendgroup": "barnabe → ursula",
         "line": {
          "color": "green",
          "smoothing": 1.3,
          "width": 1.4424778761061947
         },
         "mode": "lines",
         "name": "barnabe → ursula",
         "opacity": 0.5,
         "showlegend": false,
         "type": "scatter",
         "x": [
          -0.7582051386371653,
          -0.5976765593381522
         ],
         "y": [
          -0.32079437213940637,
          -0.42704650915767023
         ]
        },
        {
         "hoverinfo": "text",
         "marker": {
          "color": "green",
          "opacity": 0.4,
          "size": 1.4424778761061947,
          "symbol": "cross-thin"
         },
         "mode": "markers",
         "name": "barnabe → ursula",
         "showlegend": false,
         "text": "<b>barnabe → ursula</b>:<br><br>10<br>13<br>",
         "type": "scatter",
         "x": [
          -0.742152280707264
         ],
         "y": [
          -0.33141958584123277
         ]
        },
        {
         "hoverinfo": "skip",
         "legendgroup": "barnabe → ottokar",
         "line": {
          "color": "green",
          "smoothing": 1.3,
          "width": 1.4424778761061947
         },
         "mode": "lines",
         "name": "barnabe → ottokar",
         "opacity": 0.5,
         "showlegend": false,
         "type": "scatter",
         "x": [
          -0.7582051386371653,
          0.2730079225516097
         ],
         "y": [
          -0.32079437213940637,
          0.02576232963849259
         ]
        },
        {
         "hoverinfo": "text",
         "marker": {
          "color": "green",
          "opacity": 0.4,
          "size": 1.4424778761061947,
          "symbol": "cross-thin"
         },
         "mode": "markers",
         "name": "barnabe → ottokar",
         "showlegend": false,
         "text": "<b>barnabe → ottokar</b>:<br><br>10<br>13<br>",
         "type": "scatter",
         "x": [
          -0.6550838325182878
         ],
         "y": [
          -0.2861387019616165
         ]
        },
        {
         "hoverinfo": "skip",
         "legendgroup": "ursula → barnabe",
         "line": {
          "color": "green",
          "smoothing": 1.3,
          "width": 1.4424778761061947
         },
         "mode": "lines",
         "name": "ursula → barnabe",
         "opacity": 0.5,
         "showlegend": false,
         "type": "scatter",
         "x": [
          -0.5976765593381522,
          -0.7582051386371653
         ],
         "y": [
          -0.42704650915767023,
          -0.32079437213940637
         ]
        },
        {
         "hoverinfo": "text",
         "marker": {
          "color": "green",
          "opacity": 0.4,
          "size": 1.4424778761061947,
          "symbol": "cross-thin"
         },
         "mode": "markers",
         "name": "ursula → barnabe",
         "showlegend": false,
         "text": "<b>ursula → barnabe</b>:<br><br>10<br>13<br>",
         "type": "scatter",
         "x": [
          -0.6137294172680536
         ],
         "y": [
          -0.41642129545584383
         ]
        },
        {
         "hoverinfo": "skip",
         "legendgroup": "ursula → ottokar",
         "line": {
          "color": "green",
          "smoothing": 1.3,
          "width": 1.4424778761061947
         },
         "mode": "lines",
         "name": "ursula → ottokar",
         "opacity": 0.5,
         "showlegend": false,
         "type": "scatter",
         "x": [
          -0.5976765593381522,
          0.2730079225516097
         ],
         "y": [
          -0.42704650915767023,
          0.02576232963849259
         ]
        },
        {
         "hoverinfo": "text",
         "marker": {
          "color": "green",
          "opacity": 0.4,
          "size": 1.4424778761061947,
          "symbol": "cross-thin"
         },
         "mode": "markers",
         "name": "ursula → ottokar",
         "showlegend": false,
         "text": "<b>ursula → ottokar</b>:<br><br>10<br>13<br>",
         "type": "scatter",
         "x": [
          -0.510608111149176
         ],
         "y": [
          -0.38176562527805397
         ]
        },
        {
         "hoverinfo": "skip",
         "legendgroup": "ottokar → barnabe",
         "line": {
          "color": "green",
          "smoothing": 1.3,
          "width": 1.4424778761061947
         },
         "mode": "lines",
         "name": "ottokar → barnabe",
         "opacity": 0.5,
         "showlegend": false,
         "type": "scatter",
         "x": [
          0.2730079225516097,
          -0.7582051386371653
         ],
         "y": [
          0.02576232963849259,
          -0.32079437213940637
         ]
        },
        {
         "hoverinfo": "text",
         "marker": {
          "color": "green",
          "opacity": 0.4,
          "size": 1.4424778761061947,
          "symbol": "cross-thin"
         },
         "mode": "markers",
         "name": "ottokar → barnabe",
         "showlegend": false,
         "text": "<b>ottokar → barnabe</b>:<br><br>10<br>13<br>",
         "type": "scatter",
         "x": [
          0.16988661643273223
         ],
         "y": [
          -0.008893340539297308
         ]
        },
        {
         "hoverinfo": "skip",
         "legendgroup": "ottokar → ursula",
         "line": {
          "color": "green",
          "smoothing": 1.3,
          "width": 1.4424778761061947
         },
         "mode": "lines",
         "name": "ottokar → ursula",
         "opacity": 0.5,
         "showlegend": false,
         "type": "scatter",
         "x": [
          0.2730079225516097,
          -0.5976765593381522
         ],
         "y": [
          0.02576232963849259,
          -0.42704650915767023
         ]
        },
        {
         "hoverinfo": "text",
         "marker": {
          "color": "green",
          "opacity": 0.4,
          "size": 1.4424778761061947,
          "symbol": "cross-thin"
         },
         "mode": "markers",
         "name": "ottokar → ursula",
         "showlegend": false,
         "text": "<b>ottokar → ursula</b>:<br><br>10<br>13<br>",
         "type": "scatter",
         "x": [
          0.18593947436263353
         ],
         "y": [
          -0.019518554241123698
         ]
        },
        {
         "hoverinfo": "skip",
         "legendgroup": "santing → barnabe",
         "line": {
          "color": "green",
          "smoothing": 1.3,
          "width": 1.4424778761061947
         },
         "mode": "lines",
         "name": "santing → barnabe",
         "opacity": 0.5,
         "showlegend": false,
         "type": "scatter",
         "x": [
          0.06118065718030175,
          -0.7582051386371653
         ],
         "y": [
          -0.37654718144677773,
          -0.32079437213940637
         ]
        },
        {
         "hoverinfo": "text",
         "marker": {
          "color": "green",
          "opacity": 0.4,
          "size": 1.4424778761061947,
          "symbol": "cross-thin"
         },
         "mode": "markers",
         "name": "santing → barnabe",
         "showlegend": false,
         "text": "<b>santing → barnabe</b>:<br><br>11<br>13<br>",
         "type": "scatter",
         "x": [
          -0.02075792240144496
         ],
         "y": [
          -0.3709719005160406
         ]
        },
        {
         "hoverinfo": "skip",
         "legendgroup": "rupert → barnabe",
         "line": {
          "color": "green",
          "smoothing": 1.3,
          "width": 1.4424778761061947
         },
         "mode": "lines",
         "name": "rupert → barnabe",
         "opacity": 0.5,
         "showlegend": false,
         "type": "scatter",
         "x": [
          0.15852202608362587,
          -0.7582051386371653
         ],
         "y": [
          -0.11160116329979293,
          -0.32079437213940637
         ]
        },
        {
         "hoverinfo": "text",
         "marker": {
          "color": "green",
          "opacity": 0.4,
          "size": 1.4424778761061947,
          "symbol": "cross-thin"
         },
         "mode": "markers",
         "name": "rupert → barnabe",
         "showlegend": false,
         "text": "<b>rupert → barnabe</b>:<br><br>11<br>13<br>",
         "type": "scatter",
         "x": [
          0.06684930961154674
         ],
         "y": [
          -0.13252048418375428
         ]
        },
        {
         "hoverinfo": "skip",
         "legendgroup": "barnabe → santing",
         "line": {
          "color": "green",
          "smoothing": 1.3,
          "width": 1.4424778761061947
         },
         "mode": "lines",
         "name": "barnabe → santing",
         "opacity": 0.5,
         "showlegend": false,
         "type": "scatter",
         "x": [
          -0.7582051386371653,
          0.06118065718030175
         ],
         "y": [
          -0.32079437213940637,
          -0.37654718144677773
         ]
        },
        {
         "hoverinfo": "text",
         "marker": {
          "color": "green",
          "opacity": 0.4,
          "size": 1.4424778761061947,
          "symbol": "cross-thin"
         },
         "mode": "markers",
         "name": "barnabe → santing",
         "showlegend": false,
         "text": "<b>barnabe → santing</b>:<br><br>11<br>13<br>",
         "type": "scatter",
         "x": [
          -0.6762665590554187
         ],
         "y": [
          -0.32636965307014354
         ]
        },
        {
         "hoverinfo": "skip",
         "legendgroup": "barnabe → rupert",
         "line": {
          "color": "green",
          "smoothing": 1.3,
          "width": 1.4424778761061947
         },
         "mode": "lines",
         "name": "barnabe → rupert",
         "opacity": 0.5,
         "showlegend": false,
         "type": "scatter",
         "x": [
          -0.7582051386371653,
          0.15852202608362587
         ],
         "y": [
          -0.32079437213940637,
          -0.11160116329979293
         ]
        },
        {
         "hoverinfo": "text",
         "marker": {
          "color": "green",
          "opacity": 0.4,
          "size": 1.4424778761061947,
          "symbol": "cross-thin"
         },
         "mode": "markers",
         "name": "barnabe → rupert",
         "showlegend": false,
         "text": "<b>barnabe → rupert</b>:<br><br>11<br>13<br>",
         "type": "scatter",
         "x": [
          -0.6665324221650862
         ],
         "y": [
          -0.29987505125544506
         ]
        },
        {
         "hoverinfo": "skip",
         "legendgroup": "ottokar → fintenring",
         "line": {
          "color": "green",
          "smoothing": 1.3,
          "width": 1.2212389380530975
         },
         "mode": "lines",
         "name": "ottokar → fintenring",
         "opacity": 0.5,
         "showlegend": false,
         "type": "scatter",
         "x": [
          0.2730079225516097,
          0.8545345117924076
         ],
         "y": [
          0.02576232963849259,
          -0.6615294100105895
         ]
        },
        {
         "hoverinfo": "text",
         "marker": {
          "color": "green",
          "opacity": 0.4,
          "size": 1.2212389380530975,
          "symbol": "cross-thin"
         },
         "mode": "markers",
         "name": "ottokar → fintenring",
         "showlegend": false,
         "text": "<b>ottokar → fintenring</b>:<br><br>12<br>",
         "type": "scatter",
         "x": [
          0.3311605814756895
         ],
         "y": [
          -0.04296684432641562
         ]
        },
        {
         "hoverinfo": "skip",
         "legendgroup": "fintenring → ottokar",
         "line": {
          "color": "green",
          "smoothing": 1.3,
          "width": 1.2212389380530975
         },
         "mode": "lines",
         "name": "fintenring → ottokar",
         "opacity": 0.5,
         "showlegend": false,
         "type": "scatter",
         "x": [
          0.8545345117924076,
          0.2730079225516097
         ],
         "y": [
          -0.6615294100105895,
          0.02576232963849259
         ]
        },
        {
         "hoverinfo": "text",
         "marker": {
          "color": "green",
          "opacity": 0.4,
          "size": 1.2212389380530975,
          "symbol": "cross-thin"
         },
         "mode": "markers",
         "name": "fintenring → ottokar",
         "showlegend": false,
         "text": "<b>fintenring → ottokar</b>:<br><br>12<br>",
         "type": "scatter",
         "x": [
          0.7963818528683279
         ],
         "y": [
          -0.5928002360456813
         ]
        },
        {
         "hoverinfo": "skip",
         "legendgroup": "fintenring → eustache",
         "line": {
          "color": "green",
          "smoothing": 1.3,
          "width": 1.2212389380530975
         },
         "mode": "lines",
         "name": "fintenring → eustache",
         "opacity": 0.5,
         "showlegend": false,
         "type": "scatter",
         "x": [
          0.8545345117924076,
          0.15794993503301555
         ],
         "y": [
          -0.6615294100105895,
          -0.21129406443356444
         ]
        },
        {
         "hoverinfo": "text",
         "marker": {
          "color": "green",
          "opacity": 0.4,
          "size": 1.2212389380530975,
          "symbol": "cross-thin"
         },
         "mode": "markers",
         "name": "fintenring → eustache",
         "showlegend": false,
         "text": "<b>fintenring → eustache</b>:<br><br>12<br>",
         "type": "scatter",
         "x": [
          0.7848760541164684
         ],
         "y": [
          -0.616505875452887
         ]
        },
        {
         "hoverinfo": "skip",
         "legendgroup": "eustache → fintenring",
         "line": {
          "color": "green",
          "smoothing": 1.3,
          "width": 1.2212389380530975
         },
         "mode": "lines",
         "name": "eustache → fintenring",
         "opacity": 0.5,
         "showlegend": false,
         "type": "scatter",
         "x": [
          0.15794993503301555,
          0.8545345117924076
         ],
         "y": [
          -0.21129406443356444,
          -0.6615294100105895
         ]
        },
        {
         "hoverinfo": "text",
         "marker": {
          "color": "green",
          "opacity": 0.4,
          "size": 1.2212389380530975,
          "symbol": "cross-thin"
         },
         "mode": "markers",
         "name": "eustache → fintenring",
         "showlegend": false,
         "text": "<b>eustache → fintenring</b>:<br><br>12<br>",
         "type": "scatter",
         "x": [
          0.22760839270895478
         ],
         "y": [
          -0.25631759899126694
         ]
        },
        {
         "hoverinfo": "skip",
         "legendgroup": "agnes → barnabe",
         "line": {
          "color": "green",
          "smoothing": 1.3,
          "width": 1.2212389380530975
         },
         "mode": "lines",
         "name": "agnes → barnabe",
         "opacity": 0.5,
         "showlegend": false,
         "type": "scatter",
         "x": [
          -0.6633165401762209,
          -0.7582051386371653
         ],
         "y": [
          0.0856420375823834,
          -0.32079437213940637
         ]
        },
        {
         "hoverinfo": "text",
         "marker": {
          "color": "green",
          "opacity": 0.4,
          "size": 1.2212389380530975,
          "symbol": "cross-thin"
         },
         "mode": "markers",
         "name": "agnes → barnabe",
         "showlegend": false,
         "text": "<b>agnes → barnabe</b>:<br><br>13<br>",
         "type": "scatter",
         "x": [
          -0.6728054000223154
         ],
         "y": [
          0.04499839661020442
         ]
        },
        {
         "hoverinfo": "skip",
         "legendgroup": "agnes → rupert",
         "line": {
          "color": "green",
          "smoothing": 1.3,
          "width": 1.2212389380530975
         },
         "mode": "lines",
         "name": "agnes → rupert",
         "opacity": 0.5,
         "showlegend": false,
         "type": "scatter",
         "x": [
          -0.6633165401762209,
          0.15852202608362587
         ],
         "y": [
          0.0856420375823834,
          -0.11160116329979293
         ]
        },
        {
         "hoverinfo": "text",
         "marker": {
          "color": "green",
          "opacity": 0.4,
          "size": 1.2212389380530975,
          "symbol": "cross-thin"
         },
         "mode": "markers",
         "name": "agnes → rupert",
         "showlegend": false,
         "text": "<b>agnes → rupert</b>:<br><br>13<br>",
         "type": "scatter",
         "x": [
          -0.5811326835502362
         ],
         "y": [
          0.06591771749416576
         ]
        },
        {
         "hoverinfo": "skip",
         "legendgroup": "agnes → santing",
         "line": {
          "color": "green",
          "smoothing": 1.3,
          "width": 1.2212389380530975
         },
         "mode": "lines",
         "name": "agnes → santing",
         "opacity": 0.5,
         "showlegend": false,
         "type": "scatter",
         "x": [
          -0.6633165401762209,
          0.06118065718030175
         ],
         "y": [
          0.0856420375823834,
          -0.37654718144677773
         ]
        },
        {
         "hoverinfo": "text",
         "marker": {
          "color": "green",
          "opacity": 0.4,
          "size": 1.2212389380530975,
          "symbol": "cross-thin"
         },
         "mode": "markers",
         "name": "agnes → santing",
         "showlegend": false,
         "text": "<b>agnes → santing</b>:<br><br>13<br>",
         "type": "scatter",
         "x": [
          -0.5908668204405686
         ],
         "y": [
          0.03942311567946728
         ]
        },
        {
         "hoverinfo": "skip",
         "legendgroup": "agnes → ein_ritter",
         "line": {
          "color": "green",
          "smoothing": 1.3,
          "width": 1.2212389380530975
         },
         "mode": "lines",
         "name": "agnes → ein_ritter",
         "opacity": 0.5,
         "showlegend": false,
         "type": "scatter",
         "x": [
          -0.6633165401762209,
          -0.36703410602266506
         ],
         "y": [
          0.0856420375823834,
          -0.30233065258669184
         ]
        },
        {
         "hoverinfo": "text",
         "marker": {
          "color": "green",
          "opacity": 0.4,
          "size": 1.2212389380530975,
          "symbol": "cross-thin"
         },
         "mode": "markers",
         "name": "agnes → ein_ritter",
         "showlegend": false,
         "text": "<b>agnes → ein_ritter</b>:<br><br>13<br>",
         "type": "scatter",
         "x": [
          -0.6336882967608652
         ],
         "y": [
          0.04684476856547587
         ]
        },
        {
         "hoverinfo": "skip",
         "legendgroup": "agnes → eustache",
         "line": {
          "color": "green",
          "smoothing": 1.3,
          "width": 1.2212389380530975
         },
         "mode": "lines",
         "name": "agnes → eustache",
         "opacity": 0.5,
         "showlegend": false,
         "type": "scatter",
         "x": [
          -0.6633165401762209,
          0.15794993503301555
         ],
         "y": [
          0.0856420375823834,
          -0.21129406443356444
         ]
        },
        {
         "hoverinfo": "text",
         "marker": {
          "color": "green",
          "opacity": 0.4,
          "size": 1.2212389380530975,
          "symbol": "cross-thin"
         },
         "mode": "markers",
         "name": "agnes → eustache",
         "showlegend": false,
         "text": "<b>agnes → eustache</b>:<br><br>13<br>",
         "type": "scatter",
         "x": [
          -0.5811898926552972
         ],
         "y": [
          0.05594842738078861
         ]
        },
        {
         "hoverinfo": "skip",
         "legendgroup": "agnes → ursula",
         "line": {
          "color": "green",
          "smoothing": 1.3,
          "width": 1.2212389380530975
         },
         "mode": "lines",
         "name": "agnes → ursula",
         "opacity": 0.5,
         "showlegend": false,
         "type": "scatter",
         "x": [
          -0.6633165401762209,
          -0.5976765593381522
         ],
         "y": [
          0.0856420375823834,
          -0.42704650915767023
         ]
        },
        {
         "hoverinfo": "text",
         "marker": {
          "color": "green",
          "opacity": 0.4,
          "size": 1.2212389380530975,
          "symbol": "cross-thin"
         },
         "mode": "markers",
         "name": "agnes → ursula",
         "showlegend": false,
         "text": "<b>agnes → ursula</b>:<br><br>13<br>",
         "type": "scatter",
         "x": [
          -0.6567525420924141
         ],
         "y": [
          0.03437318290837803
         ]
        },
        {
         "hoverinfo": "skip",
         "legendgroup": "agnes → alle_5-1",
         "line": {
          "color": "green",
          "smoothing": 1.3,
          "width": 1.2212389380530975
         },
         "mode": "lines",
         "name": "agnes → alle_5-1",
         "opacity": 0.5,
         "showlegend": false,
         "type": "scatter",
         "x": [
          -0.6633165401762209,
          -0.3702621620174359
         ],
         "y": [
          0.0856420375823834,
          -0.5083384025722265
         ]
        },
        {
         "hoverinfo": "text",
         "marker": {
          "color": "green",
          "opacity": 0.4,
          "size": 1.2212389380530975,
          "symbol": "cross-thin"
         },
         "mode": "markers",
         "name": "agnes → alle_5-1",
         "showlegend": false,
         "text": "<b>agnes → alle_5-1</b>:<br><br>13<br>",
         "type": "scatter",
         "x": [
          -0.6340111023603424
         ],
         "y": [
          0.026243993566922405
         ]
        },
        {
         "hoverinfo": "skip",
         "legendgroup": "barnabe → agnes",
         "line": {
          "color": "green",
          "smoothing": 1.3,
          "width": 1.2212389380530975
         },
         "mode": "lines",
         "name": "barnabe → agnes",
         "opacity": 0.5,
         "showlegend": false,
         "type": "scatter",
         "x": [
          -0.7582051386371653,
          -0.6633165401762209
         ],
         "y": [
          -0.32079437213940637,
          0.0856420375823834
         ]
        },
        {
         "hoverinfo": "text",
         "marker": {
          "color": "green",
          "opacity": 0.4,
          "size": 1.2212389380530975,
          "symbol": "cross-thin"
         },
         "mode": "markers",
         "name": "barnabe → agnes",
         "showlegend": false,
         "text": "<b>barnabe → agnes</b>:<br><br>13<br>",
         "type": "scatter",
         "x": [
          -0.7487162787910709
         ],
         "y": [
          -0.2801507311672274
         ]
        },
        {
         "hoverinfo": "skip",
         "legendgroup": "barnabe → sylvester",
         "line": {
          "color": "green",
          "smoothing": 1.3,
          "width": 1.2212389380530975
         },
         "mode": "lines",
         "name": "barnabe → sylvester",
         "opacity": 0.5,
         "showlegend": false,
         "type": "scatter",
         "x": [
          -0.7582051386371653,
          -0.3722337039749577
         ],
         "y": [
          -0.32079437213940637,
          0.23070930968089287
         ]
        },
        {
         "hoverinfo": "text",
         "marker": {
          "color": "green",
          "opacity": 0.4,
          "size": 1.2212389380530975,
          "symbol": "cross-thin"
         },
         "mode": "markers",
         "name": "barnabe → sylvester",
         "showlegend": false,
         "text": "<b>barnabe → sylvester</b>:<br><br>13<br>",
         "type": "scatter",
         "x": [
          -0.7196079951709446
         ],
         "y": [
          -0.2656440039573765
         ]
        },
        {
         "hoverinfo": "skip",
         "legendgroup": "barnabe → theistiner",
         "line": {
          "color": "green",
          "smoothing": 1.3,
          "width": 1.2212389380530975
         },
         "mode": "lines",
         "name": "barnabe → theistiner",
         "opacity": 0.5,
         "showlegend": false,
         "type": "scatter",
         "x": [
          -0.7582051386371653,
          -0.13435834816636363
         ],
         "y": [
          -0.32079437213940637,
          -0.5985916669324939
         ]
        },
        {
         "hoverinfo": "text",
         "marker": {
          "color": "green",
          "opacity": 0.4,
          "size": 1.2212389380530975,
          "symbol": "cross-thin"
         },
         "mode": "markers",
         "name": "barnabe → theistiner",
         "showlegend": false,
         "text": "<b>barnabe → theistiner</b>:<br><br>13<br>",
         "type": "scatter",
         "x": [
          -0.6958204595900852
         ],
         "y": [
          -0.34857410161871516
         ]
        },
        {
         "hoverinfo": "skip",
         "legendgroup": "barnabe → ein_ritter",
         "line": {
          "color": "green",
          "smoothing": 1.3,
          "width": 1.2212389380530975
         },
         "mode": "lines",
         "name": "barnabe → ein_ritter",
         "opacity": 0.5,
         "showlegend": false,
         "type": "scatter",
         "x": [
          -0.7582051386371653,
          -0.36703410602266506
         ],
         "y": [
          -0.32079437213940637,
          -0.30233065258669184
         ]
        },
        {
         "hoverinfo": "text",
         "marker": {
          "color": "green",
          "opacity": 0.4,
          "size": 1.2212389380530975,
          "symbol": "cross-thin"
         },
         "mode": "markers",
         "name": "barnabe → ein_ritter",
         "showlegend": false,
         "text": "<b>barnabe → ein_ritter</b>:<br><br>13<br>",
         "type": "scatter",
         "x": [
          -0.7190880353757154
         ],
         "y": [
          -0.31894800018413494
         ]
        },
        {
         "hoverinfo": "skip",
         "legendgroup": "barnabe → gertrude",
         "line": {
          "color": "green",
          "smoothing": 1.3,
          "width": 1.2212389380530975
         },
         "mode": "lines",
         "name": "barnabe → gertrude",
         "opacity": 0.5,
         "showlegend": false,
         "type": "scatter",
         "x": [
          -0.7582051386371653,
          -0.5040364541538961
         ],
         "y": [
          -0.32079437213940637,
          0.14349277018414075
         ]
        },
        {
         "hoverinfo": "text",
         "marker": {
          "color": "green",
          "opacity": 0.4,
          "size": 1.2212389380530975,
          "symbol": "cross-thin"
         },
         "mode": "markers",
         "name": "barnabe → gertrude",
         "showlegend": false,
         "text": "<b>barnabe → gertrude</b>:<br><br>13<br>",
         "type": "scatter",
         "x": [
          -0.7327882701888384
         ],
         "y": [
          -0.27436565790705164
         ]
        },
        {
         "hoverinfo": "skip",
         "legendgroup": "barnabe → eustache",
         "line": {
          "color": "green",
          "smoothing": 1.3,
          "width": 1.2212389380530975
         },
         "mode": "lines",
         "name": "barnabe → eustache",
         "opacity": 0.5,
         "showlegend": false,
         "type": "scatter",
         "x": [
          -0.7582051386371653,
          0.15794993503301555
         ],
         "y": [
          -0.32079437213940637,
          -0.21129406443356444
         ]
        },
        {
         "hoverinfo": "text",
         "marker": {
          "color": "green",
          "opacity": 0.4,
          "size": 1.2212389380530975,
          "symbol": "cross-thin"
         },
         "mode": "markers",
         "name": "barnabe → eustache",
         "showlegend": false,
         "text": "<b>barnabe → eustache</b>:<br><br>13<br>",
         "type": "scatter",
         "x": [
          -0.6665896312701473
         ],
         "y": [
          -0.30984434136882216
         ]
        },
        {
         "hoverinfo": "skip",
         "legendgroup": "barnabe → sylvius",
         "line": {
          "color": "green",
          "smoothing": 1.3,
          "width": 1.2212389380530975
         },
         "mode": "lines",
         "name": "barnabe → sylvius",
         "opacity": 0.5,
         "showlegend": false,
         "type": "scatter",
         "x": [
          -0.7582051386371653,
          -0.3679330237902063
         ],
         "y": [
          -0.32079437213940637,
          0.061432210336696845
         ]
        },
        {
         "hoverinfo": "text",
         "marker": {
          "color": "green",
          "opacity": 0.4,
          "size": 1.2212389380530975,
          "symbol": "cross-thin"
         },
         "mode": "markers",
         "name": "barnabe → sylvius",
         "showlegend": false,
         "text": "<b>barnabe → sylvius</b>:<br><br>13<br>",
         "type": "scatter",
         "x": [
          -0.7191779271524695
         ],
         "y": [
          -0.28257171389179603
         ]
        },
        {
         "hoverinfo": "skip",
         "legendgroup": "barnabe → johann",
         "line": {
          "color": "green",
          "smoothing": 1.3,
          "width": 1.2212389380530975
         },
         "mode": "lines",
         "name": "barnabe → johann",
         "opacity": 0.5,
         "showlegend": false,
         "type": "scatter",
         "x": [
          -0.7582051386371653,
          -0.07561875487925733
         ],
         "y": [
          -0.32079437213940637,
          0.18455698650381022
         ]
        },
        {
         "hoverinfo": "text",
         "marker": {
          "color": "green",
          "opacity": 0.4,
          "size": 1.2212389380530975,
          "symbol": "cross-thin"
         },
         "mode": "markers",
         "name": "barnabe → johann",
         "showlegend": false,
         "text": "<b>barnabe → johann</b>:<br><br>13<br>",
         "type": "scatter",
         "x": [
          -0.6899465002613746
         ],
         "y": [
          -0.2702592362750847
         ]
        },
        {
         "hoverinfo": "skip",
         "legendgroup": "barnabe → alle_5-1",
         "line": {
          "color": "green",
          "smoothing": 1.3,
          "width": 1.2212389380530975
         },
         "mode": "lines",
         "name": "barnabe → alle_5-1",
         "opacity": 0.5,
         "showlegend": false,
         "type": "scatter",
         "x": [
          -0.7582051386371653,
          -0.3702621620174359
         ],
         "y": [
          -0.32079437213940637,
          -0.5083384025722265
         ]
        },
        {
         "hoverinfo": "text",
         "marker": {
          "color": "green",
          "opacity": 0.4,
          "size": 1.2212389380530975,
          "symbol": "cross-thin"
         },
         "mode": "markers",
         "name": "barnabe → alle_5-1",
         "showlegend": false,
         "text": "<b>barnabe → alle_5-1</b>:<br><br>13<br>",
         "type": "scatter",
         "x": [
          -0.7194108409751925
         ],
         "y": [
          -0.3395487751826884
         ]
        },
        {
         "hoverinfo": "skip",
         "legendgroup": "ottokar → santing",
         "line": {
          "color": "green",
          "smoothing": 1.3,
          "width": 1.2212389380530975
         },
         "mode": "lines",
         "name": "ottokar → santing",
         "opacity": 0.5,
         "showlegend": false,
         "type": "scatter",
         "x": [
          0.2730079225516097,
          0.06118065718030175
         ],
         "y": [
          0.02576232963849259,
          -0.37654718144677773
         ]
        },
        {
         "hoverinfo": "text",
         "marker": {
          "color": "green",
          "opacity": 0.4,
          "size": 1.2212389380530975,
          "symbol": "cross-thin"
         },
         "mode": "markers",
         "name": "ottokar → santing",
         "showlegend": false,
         "text": "<b>ottokar → santing</b>:<br><br>13<br>",
         "type": "scatter",
         "x": [
          0.25182519601447895
         ],
         "y": [
          -0.014468621470034443
         ]
        },
        {
         "hoverinfo": "skip",
         "legendgroup": "ottokar → sylvester",
         "line": {
          "color": "green",
          "smoothing": 1.3,
          "width": 1.2212389380530975
         },
         "mode": "lines",
         "name": "ottokar → sylvester",
         "opacity": 0.5,
         "showlegend": false,
         "type": "scatter",
         "x": [
          0.2730079225516097,
          -0.3722337039749577
         ],
         "y": [
          0.02576232963849259,
          0.23070930968089287
         ]
        },
        {
         "hoverinfo": "text",
         "marker": {
          "color": "green",
          "opacity": 0.4,
          "size": 1.2212389380530975,
          "symbol": "cross-thin"
         },
         "mode": "markers",
         "name": "ottokar → sylvester",
         "showlegend": false,
         "text": "<b>ottokar → sylvester</b>:<br><br>13<br>",
         "type": "scatter",
         "x": [
          0.20848375989895299
         ],
         "y": [
          0.04625702764273262
         ]
        },
        {
         "hoverinfo": "skip",
         "legendgroup": "ottokar → theistiner",
         "line": {
          "color": "green",
          "smoothing": 1.3,
          "width": 1.2212389380530975
         },
         "mode": "lines",
         "name": "ottokar → theistiner",
         "opacity": 0.5,
         "showlegend": false,
         "type": "scatter",
         "x": [
          0.2730079225516097,
          -0.13435834816636363
         ],
         "y": [
          0.02576232963849259,
          -0.5985916669324939
         ]
        },
        {
         "hoverinfo": "text",
         "marker": {
          "color": "green",
          "opacity": 0.4,
          "size": 1.2212389380530975,
          "symbol": "cross-thin"
         },
         "mode": "markers",
         "name": "ottokar → theistiner",
         "showlegend": false,
         "text": "<b>ottokar → theistiner</b>:<br><br>13<br>",
         "type": "scatter",
         "x": [
          0.2322712954798124
         ],
         "y": [
          -0.03667307001860606
         ]
        },
        {
         "hoverinfo": "skip",
         "legendgroup": "ottokar → ein_ritter",
         "line": {
          "color": "green",
          "smoothing": 1.3,
          "width": 1.2212389380530975
         },
         "mode": "lines",
         "name": "ottokar → ein_ritter",
         "opacity": 0.5,
         "showlegend": false,
         "type": "scatter",
         "x": [
          0.2730079225516097,
          -0.36703410602266506
         ],
         "y": [
          0.02576232963849259,
          -0.30233065258669184
         ]
        },
        {
         "hoverinfo": "text",
         "marker": {
          "color": "green",
          "opacity": 0.4,
          "size": 1.2212389380530975,
          "symbol": "cross-thin"
         },
         "mode": "markers",
         "name": "ottokar → ein_ritter",
         "showlegend": false,
         "text": "<b>ottokar → ein_ritter</b>:<br><br>13<br>",
         "type": "scatter",
         "x": [
          0.20900371969418224
         ],
         "y": [
          -0.007046968584025856
         ]
        },
        {
         "hoverinfo": "skip",
         "legendgroup": "ottokar → gertrude",
         "line": {
          "color": "green",
          "smoothing": 1.3,
          "width": 1.2212389380530975
         },
         "mode": "lines",
         "name": "ottokar → gertrude",
         "opacity": 0.5,
         "showlegend": false,
         "type": "scatter",
         "x": [
          0.2730079225516097,
          -0.5040364541538961
         ],
         "y": [
          0.02576232963849259,
          0.14349277018414075
         ]
        },
        {
         "hoverinfo": "text",
         "marker": {
          "color": "green",
          "opacity": 0.4,
          "size": 1.2212389380530975,
          "symbol": "cross-thin"
         },
         "mode": "markers",
         "name": "ottokar → gertrude",
         "showlegend": false,
         "text": "<b>ottokar → gertrude</b>:<br><br>13<br>",
         "type": "scatter",
         "x": [
          0.19530348488105914
         ],
         "y": [
          0.03753537369305741
         ]
        },
        {
         "hoverinfo": "skip",
         "legendgroup": "ottokar → sylvius",
         "line": {
          "color": "green",
          "smoothing": 1.3,
          "width": 1.2212389380530975
         },
         "mode": "lines",
         "name": "ottokar → sylvius",
         "opacity": 0.5,
         "showlegend": false,
         "type": "scatter",
         "x": [
          0.2730079225516097,
          -0.3679330237902063
         ],
         "y": [
          0.02576232963849259,
          0.061432210336696845
         ]
        },
        {
         "hoverinfo": "text",
         "marker": {
          "color": "green",
          "opacity": 0.4,
          "size": 1.2212389380530975,
          "symbol": "cross-thin"
         },
         "mode": "markers",
         "name": "ottokar → sylvius",
         "showlegend": false,
         "text": "<b>ottokar → sylvius</b>:<br><br>13<br>",
         "type": "scatter",
         "x": [
          0.20891382791742813
         ],
         "y": [
          0.029329317708313016
         ]
        },
        {
         "hoverinfo": "skip",
         "legendgroup": "ottokar → alle_5-1",
         "line": {
          "color": "green",
          "smoothing": 1.3,
          "width": 1.2212389380530975
         },
         "mode": "lines",
         "name": "ottokar → alle_5-1",
         "opacity": 0.5,
         "showlegend": false,
         "type": "scatter",
         "x": [
          0.2730079225516097,
          -0.3702621620174359
         ],
         "y": [
          0.02576232963849259,
          -0.5083384025722265
         ]
        },
        {
         "hoverinfo": "text",
         "marker": {
          "color": "green",
          "opacity": 0.4,
          "size": 1.2212389380530975,
          "symbol": "cross-thin"
         },
         "mode": "markers",
         "name": "ottokar → alle_5-1",
         "showlegend": false,
         "text": "<b>ottokar → alle_5-1</b>:<br><br>13<br>",
         "type": "scatter",
         "x": [
          0.20868091409470516
         ],
         "y": [
          -0.02764774358257932
         ]
        },
        {
         "hoverinfo": "skip",
         "legendgroup": "rupert → agnes",
         "line": {
          "color": "green",
          "smoothing": 1.3,
          "width": 1.2212389380530975
         },
         "mode": "lines",
         "name": "rupert → agnes",
         "opacity": 0.5,
         "showlegend": false,
         "type": "scatter",
         "x": [
          0.15852202608362587,
          -0.6633165401762209
         ],
         "y": [
          -0.11160116329979293,
          0.0856420375823834
         ]
        },
        {
         "hoverinfo": "text",
         "marker": {
          "color": "green",
          "opacity": 0.4,
          "size": 1.2212389380530975,
          "symbol": "cross-thin"
         },
         "mode": "markers",
         "name": "rupert → agnes",
         "showlegend": false,
         "text": "<b>rupert → agnes</b>:<br><br>13<br>",
         "type": "scatter",
         "x": [
          0.07633816945764119
         ],
         "y": [
          -0.0918768432115753
         ]
        },
        {
         "hoverinfo": "skip",
         "legendgroup": "rupert → sylvester",
         "line": {
          "color": "green",
          "smoothing": 1.3,
          "width": 1.2212389380530975
         },
         "mode": "lines",
         "name": "rupert → sylvester",
         "opacity": 0.5,
         "showlegend": false,
         "type": "scatter",
         "x": [
          0.15852202608362587,
          -0.3722337039749577
         ],
         "y": [
          -0.11160116329979293,
          0.23070930968089287
         ]
        },
        {
         "hoverinfo": "text",
         "marker": {
          "color": "green",
          "opacity": 0.4,
          "size": 1.2212389380530975,
          "symbol": "cross-thin"
         },
         "mode": "markers",
         "name": "rupert → sylvester",
         "showlegend": false,
         "text": "<b>rupert → sylvester</b>:<br><br>13<br>",
         "type": "scatter",
         "x": [
          0.10544645307776751
         ],
         "y": [
          -0.07737011600172435
         ]
        },
        {
         "hoverinfo": "skip",
         "legendgroup": "rupert → theistiner",
         "line": {
          "color": "green",
          "smoothing": 1.3,
          "width": 1.2212389380530975
         },
         "mode": "lines",
         "name": "rupert → theistiner",
         "opacity": 0.5,
         "showlegend": false,
         "type": "scatter",
         "x": [
          0.15852202608362587,
          -0.13435834816636363
         ],
         "y": [
          -0.11160116329979293,
          -0.5985916669324939
         ]
        },
        {
         "hoverinfo": "text",
         "marker": {
          "color": "green",
          "opacity": 0.4,
          "size": 1.2212389380530975,
          "symbol": "cross-thin"
         },
         "mode": "markers",
         "name": "rupert → theistiner",
         "showlegend": false,
         "text": "<b>rupert → theistiner</b>:<br><br>13<br>",
         "type": "scatter",
         "x": [
          0.1292339886586269
         ],
         "y": [
          -0.16030021366306302
         ]
        },
        {
         "hoverinfo": "skip",
         "legendgroup": "rupert → ein_ritter",
         "line": {
          "color": "green",
          "smoothing": 1.3,
          "width": 1.2212389380530975
         },
         "mode": "lines",
         "name": "rupert → ein_ritter",
         "opacity": 0.5,
         "showlegend": false,
         "type": "scatter",
         "x": [
          0.15852202608362587,
          -0.36703410602266506
         ],
         "y": [
          -0.11160116329979293,
          -0.30233065258669184
         ]
        },
        {
         "hoverinfo": "text",
         "marker": {
          "color": "green",
          "opacity": 0.4,
          "size": 1.2212389380530975,
          "symbol": "cross-thin"
         },
         "mode": "markers",
         "name": "rupert → ein_ritter",
         "showlegend": false,
         "text": "<b>rupert → ein_ritter</b>:<br><br>13<br>",
         "type": "scatter",
         "x": [
          0.10596641287299677
         ],
         "y": [
          -0.13067411222848282
         ]
        },
        {
         "hoverinfo": "skip",
         "legendgroup": "rupert → gertrude",
         "line": {
          "color": "green",
          "smoothing": 1.3,
          "width": 1.2212389380530975
         },
         "mode": "lines",
         "name": "rupert → gertrude",
         "opacity": 0.5,
         "showlegend": false,
         "type": "scatter",
         "x": [
          0.15852202608362587,
          -0.5040364541538961
         ],
         "y": [
          -0.11160116329979293,
          0.14349277018414075
         ]
        },
        {
         "hoverinfo": "text",
         "marker": {
          "color": "green",
          "opacity": 0.4,
          "size": 1.2212389380530975,
          "symbol": "cross-thin"
         },
         "mode": "markers",
         "name": "rupert → gertrude",
         "showlegend": false,
         "text": "<b>rupert → gertrude</b>:<br><br>13<br>",
         "type": "scatter",
         "x": [
          0.09226617805987367
         ],
         "y": [
          -0.08609176995139955
         ]
        },
        {
         "hoverinfo": "skip",
         "legendgroup": "rupert → sylvius",
         "line": {
          "color": "green",
          "smoothing": 1.3,
          "width": 1.2212389380530975
         },
         "mode": "lines",
         "name": "rupert → sylvius",
         "opacity": 0.5,
         "showlegend": false,
         "type": "scatter",
         "x": [
          0.15852202608362587,
          -0.3679330237902063
         ],
         "y": [
          -0.11160116329979293,
          0.061432210336696845
         ]
        },
        {
         "hoverinfo": "text",
         "marker": {
          "color": "green",
          "opacity": 0.4,
          "size": 1.2212389380530975,
          "symbol": "cross-thin"
         },
         "mode": "markers",
         "name": "rupert → sylvius",
         "showlegend": false,
         "text": "<b>rupert → sylvius</b>:<br><br>13<br>",
         "type": "scatter",
         "x": [
          0.10587652109624264
         ],
         "y": [
          -0.09429782593614396
         ]
        },
        {
         "hoverinfo": "skip",
         "legendgroup": "rupert → ursula",
         "line": {
          "color": "green",
          "smoothing": 1.3,
          "width": 1.2212389380530975
         },
         "mode": "lines",
         "name": "rupert → ursula",
         "opacity": 0.5,
         "showlegend": false,
         "type": "scatter",
         "x": [
          0.15852202608362587,
          -0.5976765593381522
         ],
         "y": [
          -0.11160116329979293,
          -0.42704650915767023
         ]
        },
        {
         "hoverinfo": "text",
         "marker": {
          "color": "green",
          "opacity": 0.4,
          "size": 1.2212389380530975,
          "symbol": "cross-thin"
         },
         "mode": "markers",
         "name": "rupert → ursula",
         "showlegend": false,
         "text": "<b>rupert → ursula</b>:<br><br>13<br>",
         "type": "scatter",
         "x": [
          0.08290216754144805
         ],
         "y": [
          -0.14314569788558068
         ]
        },
        {
         "hoverinfo": "skip",
         "legendgroup": "rupert → alle_5-1",
         "line": {
          "color": "green",
          "smoothing": 1.3,
          "width": 1.2212389380530975
         },
         "mode": "lines",
         "name": "rupert → alle_5-1",
         "opacity": 0.5,
         "showlegend": false,
         "type": "scatter",
         "x": [
          0.15852202608362587,
          -0.3702621620174359
         ],
         "y": [
          -0.11160116329979293,
          -0.5083384025722265
         ]
        },
        {
         "hoverinfo": "text",
         "marker": {
          "color": "green",
          "opacity": 0.4,
          "size": 1.2212389380530975,
          "symbol": "cross-thin"
         },
         "mode": "markers",
         "name": "rupert → alle_5-1",
         "showlegend": false,
         "text": "<b>rupert → alle_5-1</b>:<br><br>13<br>",
         "type": "scatter",
         "x": [
          0.10564360727351968
         ],
         "y": [
          -0.1512748872270363
         ]
        },
        {
         "hoverinfo": "skip",
         "legendgroup": "santing → agnes",
         "line": {
          "color": "green",
          "smoothing": 1.3,
          "width": 1.2212389380530975
         },
         "mode": "lines",
         "name": "santing → agnes",
         "opacity": 0.5,
         "showlegend": false,
         "type": "scatter",
         "x": [
          0.06118065718030175,
          -0.6633165401762209
         ],
         "y": [
          -0.37654718144677773,
          0.0856420375823834
         ]
        },
        {
         "hoverinfo": "text",
         "marker": {
          "color": "green",
          "opacity": 0.4,
          "size": 1.2212389380530975,
          "symbol": "cross-thin"
         },
         "mode": "markers",
         "name": "santing → agnes",
         "showlegend": false,
         "text": "<b>santing → agnes</b>:<br><br>13<br>",
         "type": "scatter",
         "x": [
          -0.011269062555350512
         ],
         "y": [
          -0.33032825954386164
         ]
        },
        {
         "hoverinfo": "skip",
         "legendgroup": "santing → ottokar",
         "line": {
          "color": "green",
          "smoothing": 1.3,
          "width": 1.2212389380530975
         },
         "mode": "lines",
         "name": "santing → ottokar",
         "opacity": 0.5,
         "showlegend": false,
         "type": "scatter",
         "x": [
          0.06118065718030175,
          0.2730079225516097
         ],
         "y": [
          -0.37654718144677773,
          0.02576232963849259
         ]
        },
        {
         "hoverinfo": "text",
         "marker": {
          "color": "green",
          "opacity": 0.4,
          "size": 1.2212389380530975,
          "symbol": "cross-thin"
         },
         "mode": "markers",
         "name": "santing → ottokar",
         "showlegend": false,
         "text": "<b>santing → ottokar</b>:<br><br>13<br>",
         "type": "scatter",
         "x": [
          0.08236338371743254
         ],
         "y": [
          -0.33631623033825075
         ]
        },
        {
         "hoverinfo": "skip",
         "legendgroup": "santing → sylvester",
         "line": {
          "color": "green",
          "smoothing": 1.3,
          "width": 1.2212389380530975
         },
         "mode": "lines",
         "name": "santing → sylvester",
         "opacity": 0.5,
         "showlegend": false,
         "type": "scatter",
         "x": [
          0.06118065718030175,
          -0.3722337039749577
         ],
         "y": [
          -0.37654718144677773,
          0.23070930968089287
         ]
        },
        {
         "hoverinfo": "text",
         "marker": {
          "color": "green",
          "opacity": 0.4,
          "size": 1.2212389380530975,
          "symbol": "cross-thin"
         },
         "mode": "markers",
         "name": "santing → sylvester",
         "showlegend": false,
         "text": "<b>santing → sylvester</b>:<br><br>13<br>",
         "type": "scatter",
         "x": [
          0.017839221064775805
         ],
         "y": [
          -0.3158215323340107
         ]
        },
        {
         "hoverinfo": "skip",
         "legendgroup": "santing → theistiner",
         "line": {
          "color": "green",
          "smoothing": 1.3,
          "width": 1.2212389380530975
         },
         "mode": "lines",
         "name": "santing → theistiner",
         "opacity": 0.5,
         "showlegend": false,
         "type": "scatter",
         "x": [
          0.06118065718030175,
          -0.13435834816636363
         ],
         "y": [
          -0.37654718144677773,
          -0.5985916669324939
         ]
        },
        {
         "hoverinfo": "text",
         "marker": {
          "color": "green",
          "opacity": 0.4,
          "size": 1.2212389380530975,
          "symbol": "cross-thin"
         },
         "mode": "markers",
         "name": "santing → theistiner",
         "showlegend": false,
         "text": "<b>santing → theistiner</b>:<br><br>13<br>",
         "type": "scatter",
         "x": [
          0.04162675664563521
         ],
         "y": [
          -0.3987516299953494
         ]
        },
        {
         "hoverinfo": "skip",
         "legendgroup": "santing → ein_ritter",
         "line": {
          "color": "green",
          "smoothing": 1.3,
          "width": 1.2212389380530975
         },
         "mode": "lines",
         "name": "santing → ein_ritter",
         "opacity": 0.5,
         "showlegend": false,
         "type": "scatter",
         "x": [
          0.06118065718030175,
          -0.36703410602266506
         ],
         "y": [
          -0.37654718144677773,
          -0.30233065258669184
         ]
        },
        {
         "hoverinfo": "text",
         "marker": {
          "color": "green",
          "opacity": 0.4,
          "size": 1.2212389380530975,
          "symbol": "cross-thin"
         },
         "mode": "markers",
         "name": "santing → ein_ritter",
         "showlegend": false,
         "text": "<b>santing → ein_ritter</b>:<br><br>13<br>",
         "type": "scatter",
         "x": [
          0.01835918086000507
         ],
         "y": [
          -0.3691255285607692
         ]
        },
        {
         "hoverinfo": "skip",
         "legendgroup": "santing → gertrude",
         "line": {
          "color": "green",
          "smoothing": 1.3,
          "width": 1.2212389380530975
         },
         "mode": "lines",
         "name": "santing → gertrude",
         "opacity": 0.5,
         "showlegend": false,
         "type": "scatter",
         "x": [
          0.06118065718030175,
          -0.5040364541538961
         ],
         "y": [
          -0.37654718144677773,
          0.14349277018414075
         ]
        },
        {
         "hoverinfo": "text",
         "marker": {
          "color": "green",
          "opacity": 0.4,
          "size": 1.2212389380530975,
          "symbol": "cross-thin"
         },
         "mode": "markers",
         "name": "santing → gertrude",
         "showlegend": false,
         "text": "<b>santing → gertrude</b>:<br><br>13<br>",
         "type": "scatter",
         "x": [
          0.004658946046881968
         ],
         "y": [
          -0.3245431862836859
         ]
        },
        {
         "hoverinfo": "skip",
         "legendgroup": "santing → sylvius",
         "line": {
          "color": "green",
          "smoothing": 1.3,
          "width": 1.2212389380530975
         },
         "mode": "lines",
         "name": "santing → sylvius",
         "opacity": 0.5,
         "showlegend": false,
         "type": "scatter",
         "x": [
          0.06118065718030175,
          -0.3679330237902063
         ],
         "y": [
          -0.37654718144677773,
          0.061432210336696845
         ]
        },
        {
         "hoverinfo": "text",
         "marker": {
          "color": "green",
          "opacity": 0.4,
          "size": 1.2212389380530975,
          "symbol": "cross-thin"
         },
         "mode": "markers",
         "name": "santing → sylvius",
         "showlegend": false,
         "text": "<b>santing → sylvius</b>:<br><br>13<br>",
         "type": "scatter",
         "x": [
          0.018269289083250942
         ],
         "y": [
          -0.3327492422684303
         ]
        },
        {
         "hoverinfo": "skip",
         "legendgroup": "santing → johann",
         "line": {
          "color": "green",
          "smoothing": 1.3,
          "width": 1.2212389380530975
         },
         "mode": "lines",
         "name": "santing → johann",
         "opacity": 0.5,
         "showlegend": false,
         "type": "scatter",
         "x": [
          0.06118065718030175,
          -0.07561875487925733
         ],
         "y": [
          -0.37654718144677773,
          0.18455698650381022
         ]
        },
        {
         "hoverinfo": "text",
         "marker": {
          "color": "green",
          "opacity": 0.4,
          "size": 1.2212389380530975,
          "symbol": "cross-thin"
         },
         "mode": "markers",
         "name": "santing → johann",
         "showlegend": false,
         "text": "<b>santing → johann</b>:<br><br>13<br>",
         "type": "scatter",
         "x": [
          0.04750071597434584
         ],
         "y": [
          -0.32043676465171894
         ]
        },
        {
         "hoverinfo": "skip",
         "legendgroup": "santing → ursula",
         "line": {
          "color": "green",
          "smoothing": 1.3,
          "width": 1.2212389380530975
         },
         "mode": "lines",
         "name": "santing → ursula",
         "opacity": 0.5,
         "showlegend": false,
         "type": "scatter",
         "x": [
          0.06118065718030175,
          -0.5976765593381522
         ],
         "y": [
          -0.37654718144677773,
          -0.42704650915767023
         ]
        },
        {
         "hoverinfo": "text",
         "marker": {
          "color": "green",
          "opacity": 0.4,
          "size": 1.2212389380530975,
          "symbol": "cross-thin"
         },
         "mode": "markers",
         "name": "santing → ursula",
         "showlegend": false,
         "text": "<b>santing → ursula</b>:<br><br>13<br>",
         "type": "scatter",
         "x": [
          -0.004705064471543646
         ],
         "y": [
          -0.381597114217867
         ]
        },
        {
         "hoverinfo": "skip",
         "legendgroup": "santing → alle_5-1",
         "line": {
          "color": "green",
          "smoothing": 1.3,
          "width": 1.2212389380530975
         },
         "mode": "lines",
         "name": "santing → alle_5-1",
         "opacity": 0.5,
         "showlegend": false,
         "type": "scatter",
         "x": [
          0.06118065718030175,
          -0.3702621620174359
         ],
         "y": [
          -0.37654718144677773,
          -0.5083384025722265
         ]
        },
        {
         "hoverinfo": "text",
         "marker": {
          "color": "green",
          "opacity": 0.4,
          "size": 1.2212389380530975,
          "symbol": "cross-thin"
         },
         "mode": "markers",
         "name": "santing → alle_5-1",
         "showlegend": false,
         "text": "<b>santing → alle_5-1</b>:<br><br>13<br>",
         "type": "scatter",
         "x": [
          0.01803637526052799
         ],
         "y": [
          -0.38972630355932264
         ]
        },
        {
         "hoverinfo": "skip",
         "legendgroup": "sylvester → barnabe",
         "line": {
          "color": "green",
          "smoothing": 1.3,
          "width": 1.2212389380530975
         },
         "mode": "lines",
         "name": "sylvester → barnabe",
         "opacity": 0.5,
         "showlegend": false,
         "type": "scatter",
         "x": [
          -0.3722337039749577,
          -0.7582051386371653
         ],
         "y": [
          0.23070930968089287,
          -0.32079437213940637
         ]
        },
        {
         "hoverinfo": "text",
         "marker": {
          "color": "green",
          "opacity": 0.4,
          "size": 1.2212389380530975,
          "symbol": "cross-thin"
         },
         "mode": "markers",
         "name": "sylvester → barnabe",
         "showlegend": false,
         "text": "<b>sylvester → barnabe</b>:<br><br>13<br>",
         "type": "scatter",
         "x": [
          -0.4108308474411785
         ],
         "y": [
          0.17555894149886295
         ]
        },
        {
         "hoverinfo": "skip",
         "legendgroup": "sylvester → ottokar",
         "line": {
          "color": "green",
          "smoothing": 1.3,
          "width": 1.2212389380530975
         },
         "mode": "lines",
         "name": "sylvester → ottokar",
         "opacity": 0.5,
         "showlegend": false,
         "type": "scatter",
         "x": [
          -0.3722337039749577,
          0.2730079225516097
         ],
         "y": [
          0.23070930968089287,
          0.02576232963849259
         ]
        },
        {
         "hoverinfo": "text",
         "marker": {
          "color": "green",
          "opacity": 0.4,
          "size": 1.2212389380530975,
          "symbol": "cross-thin"
         },
         "mode": "markers",
         "name": "sylvester → ottokar",
         "showlegend": false,
         "text": "<b>sylvester → ottokar</b>:<br><br>13<br>",
         "type": "scatter",
         "x": [
          -0.307709541322301
         ],
         "y": [
          0.21021461167665284
         ]
        },
        {
         "hoverinfo": "skip",
         "legendgroup": "sylvester → rupert",
         "line": {
          "color": "green",
          "smoothing": 1.3,
          "width": 1.2212389380530975
         },
         "mode": "lines",
         "name": "sylvester → rupert",
         "opacity": 0.5,
         "showlegend": false,
         "type": "scatter",
         "x": [
          -0.3722337039749577,
          0.15852202608362587
         ],
         "y": [
          0.23070930968089287,
          -0.11160116329979293
         ]
        },
        {
         "hoverinfo": "text",
         "marker": {
          "color": "green",
          "opacity": 0.4,
          "size": 1.2212389380530975,
          "symbol": "cross-thin"
         },
         "mode": "markers",
         "name": "sylvester → rupert",
         "showlegend": false,
         "text": "<b>sylvester → rupert</b>:<br><br>13<br>",
         "type": "scatter",
         "x": [
          -0.3191581309690994
         ],
         "y": [
          0.1964782623828243
         ]
        },
        {
         "hoverinfo": "skip",
         "legendgroup": "sylvester → santing",
         "line": {
          "color": "green",
          "smoothing": 1.3,
          "width": 1.2212389380530975
         },
         "mode": "lines",
         "name": "sylvester → santing",
         "opacity": 0.5,
         "showlegend": false,
         "type": "scatter",
         "x": [
          -0.3722337039749577,
          0.06118065718030175
         ],
         "y": [
          0.23070930968089287,
          -0.37654718144677773
         ]
        },
        {
         "hoverinfo": "text",
         "marker": {
          "color": "green",
          "opacity": 0.4,
          "size": 1.2212389380530975,
          "symbol": "cross-thin"
         },
         "mode": "markers",
         "name": "sylvester → santing",
         "showlegend": false,
         "text": "<b>sylvester → santing</b>:<br><br>13<br>",
         "type": "scatter",
         "x": [
          -0.32889226785943176
         ],
         "y": [
          0.1699836605681258
         ]
        },
        {
         "hoverinfo": "skip",
         "legendgroup": "sylvester → ein_ritter",
         "line": {
          "color": "green",
          "smoothing": 1.3,
          "width": 1.2212389380530975
         },
         "mode": "lines",
         "name": "sylvester → ein_ritter",
         "opacity": 0.5,
         "showlegend": false,
         "type": "scatter",
         "x": [
          -0.3722337039749577,
          -0.36703410602266506
         ],
         "y": [
          0.23070930968089287,
          -0.30233065258669184
         ]
        },
        {
         "hoverinfo": "text",
         "marker": {
          "color": "green",
          "opacity": 0.4,
          "size": 1.2212389380530975,
          "symbol": "cross-thin"
         },
         "mode": "markers",
         "name": "sylvester → ein_ritter",
         "showlegend": false,
         "text": "<b>sylvester → ein_ritter</b>:<br><br>13<br>",
         "type": "scatter",
         "x": [
          -0.37171374417972847
         ],
         "y": [
          0.1774053134541344
         ]
        },
        {
         "hoverinfo": "skip",
         "legendgroup": "sylvester → eustache",
         "line": {
          "color": "green",
          "smoothing": 1.3,
          "width": 1.2212389380530975
         },
         "mode": "lines",
         "name": "sylvester → eustache",
         "opacity": 0.5,
         "showlegend": false,
         "type": "scatter",
         "x": [
          -0.3722337039749577,
          0.15794993503301555
         ],
         "y": [
          0.23070930968089287,
          -0.21129406443356444
         ]
        },
        {
         "hoverinfo": "text",
         "marker": {
          "color": "green",
          "opacity": 0.4,
          "size": 1.2212389380530975,
          "symbol": "cross-thin"
         },
         "mode": "markers",
         "name": "sylvester → eustache",
         "showlegend": false,
         "text": "<b>sylvester → eustache</b>:<br><br>13<br>",
         "type": "scatter",
         "x": [
          -0.3192153400741604
         ],
         "y": [
          0.18650897226944713
         ]
        },
        {
         "hoverinfo": "skip",
         "legendgroup": "sylvester → ursula",
         "line": {
          "color": "green",
          "smoothing": 1.3,
          "width": 1.2212389380530975
         },
         "mode": "lines",
         "name": "sylvester → ursula",
         "opacity": 0.5,
         "showlegend": false,
         "type": "scatter",
         "x": [
          -0.3722337039749577,
          -0.5976765593381522
         ],
         "y": [
          0.23070930968089287,
          -0.42704650915767023
         ]
        },
        {
         "hoverinfo": "text",
         "marker": {
          "color": "green",
          "opacity": 0.4,
          "size": 1.2212389380530975,
          "symbol": "cross-thin"
         },
         "mode": "markers",
         "name": "sylvester → ursula",
         "showlegend": false,
         "text": "<b>sylvester → ursula</b>:<br><br>13<br>",
         "type": "scatter",
         "x": [
          -0.3947779895112772
         ],
         "y": [
          0.16493372779703655
         ]
        },
        {
         "hoverinfo": "skip",
         "legendgroup": "sylvester → alle_5-1",
         "line": {
          "color": "green",
          "smoothing": 1.3,
          "width": 1.2212389380530975
         },
         "mode": "lines",
         "name": "sylvester → alle_5-1",
         "opacity": 0.5,
         "showlegend": false,
         "type": "scatter",
         "x": [
          -0.3722337039749577,
          -0.3702621620174359
         ],
         "y": [
          0.23070930968089287,
          -0.5083384025722265
         ]
        },
        {
         "hoverinfo": "text",
         "marker": {
          "color": "green",
          "opacity": 0.4,
          "size": 1.2212389380530975,
          "symbol": "cross-thin"
         },
         "mode": "markers",
         "name": "sylvester → alle_5-1",
         "showlegend": false,
         "text": "<b>sylvester → alle_5-1</b>:<br><br>13<br>",
         "type": "scatter",
         "x": [
          -0.3720365497792055
         ],
         "y": [
          0.15680453845558093
         ]
        },
        {
         "hoverinfo": "skip",
         "legendgroup": "theistiner → barnabe",
         "line": {
          "color": "green",
          "smoothing": 1.3,
          "width": 1.2212389380530975
         },
         "mode": "lines",
         "name": "theistiner → barnabe",
         "opacity": 0.5,
         "showlegend": false,
         "type": "scatter",
         "x": [
          -0.13435834816636363,
          -0.7582051386371653
         ],
         "y": [
          -0.5985916669324939,
          -0.32079437213940637
         ]
        },
        {
         "hoverinfo": "text",
         "marker": {
          "color": "green",
          "opacity": 0.4,
          "size": 1.2212389380530975,
          "symbol": "cross-thin"
         },
         "mode": "markers",
         "name": "theistiner → barnabe",
         "showlegend": false,
         "text": "<b>theistiner → barnabe</b>:<br><br>13<br>",
         "type": "scatter",
         "x": [
          -0.1967430272134438
         ],
         "y": [
          -0.5708119374531851
         ]
        },
        {
         "hoverinfo": "skip",
         "legendgroup": "theistiner → ottokar",
         "line": {
          "color": "green",
          "smoothing": 1.3,
          "width": 1.2212389380530975
         },
         "mode": "lines",
         "name": "theistiner → ottokar",
         "opacity": 0.5,
         "showlegend": false,
         "type": "scatter",
         "x": [
          -0.13435834816636363,
          0.2730079225516097
         ],
         "y": [
          -0.5985916669324939,
          0.02576232963849259
         ]
        },
        {
         "hoverinfo": "text",
         "marker": {
          "color": "green",
          "opacity": 0.4,
          "size": 1.2212389380530975,
          "symbol": "cross-thin"
         },
         "mode": "markers",
         "name": "theistiner → ottokar",
         "showlegend": false,
         "text": "<b>theistiner → ottokar</b>:<br><br>13<br>",
         "type": "scatter",
         "x": [
          -0.09362172109456629
         ],
         "y": [
          -0.5361562672753952
         ]
        },
        {
         "hoverinfo": "skip",
         "legendgroup": "theistiner → rupert",
         "line": {
          "color": "green",
          "smoothing": 1.3,
          "width": 1.2212389380530975
         },
         "mode": "lines",
         "name": "theistiner → rupert",
         "opacity": 0.5,
         "showlegend": false,
         "type": "scatter",
         "x": [
          -0.13435834816636363,
          0.15852202608362587
         ],
         "y": [
          -0.5985916669324939,
          -0.11160116329979293
         ]
        },
        {
         "hoverinfo": "text",
         "marker": {
          "color": "green",
          "opacity": 0.4,
          "size": 1.2212389380530975,
          "symbol": "cross-thin"
         },
         "mode": "markers",
         "name": "theistiner → rupert",
         "showlegend": false,
         "text": "<b>theistiner → rupert</b>:<br><br>13<br>",
         "type": "scatter",
         "x": [
          -0.10507031074136468
         ],
         "y": [
          -0.5498926165692237
         ]
        },
        {
         "hoverinfo": "skip",
         "legendgroup": "theistiner → santing",
         "line": {
          "color": "green",
          "smoothing": 1.3,
          "width": 1.2212389380530975
         },
         "mode": "lines",
         "name": "theistiner → santing",
         "opacity": 0.5,
         "showlegend": false,
         "type": "scatter",
         "x": [
          -0.13435834816636363,
          0.06118065718030175
         ],
         "y": [
          -0.5985916669324939,
          -0.37654718144677773
         ]
        },
        {
         "hoverinfo": "text",
         "marker": {
          "color": "green",
          "opacity": 0.4,
          "size": 1.2212389380530975,
          "symbol": "cross-thin"
         },
         "mode": "markers",
         "name": "theistiner → santing",
         "showlegend": false,
         "text": "<b>theistiner → santing</b>:<br><br>13<br>",
         "type": "scatter",
         "x": [
          -0.11480444763169709
         ],
         "y": [
          -0.5763872183839223
         ]
        },
        {
         "hoverinfo": "skip",
         "legendgroup": "theistiner → ein_ritter",
         "line": {
          "color": "green",
          "smoothing": 1.3,
          "width": 1.2212389380530975
         },
         "mode": "lines",
         "name": "theistiner → ein_ritter",
         "opacity": 0.5,
         "showlegend": false,
         "type": "scatter",
         "x": [
          -0.13435834816636363,
          -0.36703410602266506
         ],
         "y": [
          -0.5985916669324939,
          -0.30233065258669184
         ]
        },
        {
         "hoverinfo": "text",
         "marker": {
          "color": "green",
          "opacity": 0.4,
          "size": 1.2212389380530975,
          "symbol": "cross-thin"
         },
         "mode": "markers",
         "name": "theistiner → ein_ritter",
         "showlegend": false,
         "text": "<b>theistiner → ein_ritter</b>:<br><br>13<br>",
         "type": "scatter",
         "x": [
          -0.15762592395199376
         ],
         "y": [
          -0.5689655654979137
         ]
        },
        {
         "hoverinfo": "skip",
         "legendgroup": "theistiner → eustache",
         "line": {
          "color": "green",
          "smoothing": 1.3,
          "width": 1.2212389380530975
         },
         "mode": "lines",
         "name": "theistiner → eustache",
         "opacity": 0.5,
         "showlegend": false,
         "type": "scatter",
         "x": [
          -0.13435834816636363,
          0.15794993503301555
         ],
         "y": [
          -0.5985916669324939,
          -0.21129406443356444
         ]
        },
        {
         "hoverinfo": "text",
         "marker": {
          "color": "green",
          "opacity": 0.4,
          "size": 1.2212389380530975,
          "symbol": "cross-thin"
         },
         "mode": "markers",
         "name": "theistiner → eustache",
         "showlegend": false,
         "text": "<b>theistiner → eustache</b>:<br><br>13<br>",
         "type": "scatter",
         "x": [
          -0.10512751984642571
         ],
         "y": [
          -0.5598619066826009
         ]
        },
        {
         "hoverinfo": "skip",
         "legendgroup": "theistiner → sylvius",
         "line": {
          "color": "green",
          "smoothing": 1.3,
          "width": 1.2212389380530975
         },
         "mode": "lines",
         "name": "theistiner → sylvius",
         "opacity": 0.5,
         "showlegend": false,
         "type": "scatter",
         "x": [
          -0.13435834816636363,
          -0.3679330237902063
         ],
         "y": [
          -0.5985916669324939,
          0.061432210336696845
         ]
        },
        {
         "hoverinfo": "text",
         "marker": {
          "color": "green",
          "opacity": 0.4,
          "size": 1.2212389380530975,
          "symbol": "cross-thin"
         },
         "mode": "markers",
         "name": "theistiner → sylvius",
         "showlegend": false,
         "text": "<b>theistiner → sylvius</b>:<br><br>13<br>",
         "type": "scatter",
         "x": [
          -0.1577158157287479
         ],
         "y": [
          -0.5325892792055748
         ]
        },
        {
         "hoverinfo": "skip",
         "legendgroup": "theistiner → johann",
         "line": {
          "color": "green",
          "smoothing": 1.3,
          "width": 1.2212389380530975
         },
         "mode": "lines",
         "name": "theistiner → johann",
         "opacity": 0.5,
         "showlegend": false,
         "type": "scatter",
         "x": [
          -0.13435834816636363,
          -0.07561875487925733
         ],
         "y": [
          -0.5985916669324939,
          0.18455698650381022
         ]
        },
        {
         "hoverinfo": "text",
         "marker": {
          "color": "green",
          "opacity": 0.4,
          "size": 1.2212389380530975,
          "symbol": "cross-thin"
         },
         "mode": "markers",
         "name": "theistiner → johann",
         "showlegend": false,
         "text": "<b>theistiner → johann</b>:<br><br>13<br>",
         "type": "scatter",
         "x": [
          -0.128484388837653
         ],
         "y": [
          -0.5202768015888635
         ]
        },
        {
         "hoverinfo": "skip",
         "legendgroup": "theistiner → ursula",
         "line": {
          "color": "green",
          "smoothing": 1.3,
          "width": 1.2212389380530975
         },
         "mode": "lines",
         "name": "theistiner → ursula",
         "opacity": 0.5,
         "showlegend": false,
         "type": "scatter",
         "x": [
          -0.13435834816636363,
          -0.5976765593381522
         ],
         "y": [
          -0.5985916669324939,
          -0.42704650915767023
         ]
        },
        {
         "hoverinfo": "text",
         "marker": {
          "color": "green",
          "opacity": 0.4,
          "size": 1.2212389380530975,
          "symbol": "cross-thin"
         },
         "mode": "markers",
         "name": "theistiner → ursula",
         "showlegend": false,
         "text": "<b>theistiner → ursula</b>:<br><br>13<br>",
         "type": "scatter",
         "x": [
          -0.18069016928354248
         ],
         "y": [
          -0.5814371511550115
         ]
        },
        {
         "hoverinfo": "skip",
         "legendgroup": "theistiner → alle_5-1",
         "line": {
          "color": "green",
          "smoothing": 1.3,
          "width": 1.2212389380530975
         },
         "mode": "lines",
         "name": "theistiner → alle_5-1",
         "opacity": 0.5,
         "showlegend": false,
         "type": "scatter",
         "x": [
          -0.13435834816636363,
          -0.3702621620174359
         ],
         "y": [
          -0.5985916669324939,
          -0.5083384025722265
         ]
        },
        {
         "hoverinfo": "text",
         "marker": {
          "color": "green",
          "opacity": 0.4,
          "size": 1.2212389380530975,
          "symbol": "cross-thin"
         },
         "mode": "markers",
         "name": "theistiner → alle_5-1",
         "showlegend": false,
         "text": "<b>theistiner → alle_5-1</b>:<br><br>13<br>",
         "type": "scatter",
         "x": [
          -0.15794872955147085
         ],
         "y": [
          -0.5895663404964671
         ]
        },
        {
         "hoverinfo": "skip",
         "legendgroup": "ein_ritter → agnes",
         "line": {
          "color": "green",
          "smoothing": 1.3,
          "width": 1.2212389380530975
         },
         "mode": "lines",
         "name": "ein_ritter → agnes",
         "opacity": 0.5,
         "showlegend": false,
         "type": "scatter",
         "x": [
          -0.36703410602266506,
          -0.6633165401762209
         ],
         "y": [
          -0.30233065258669184,
          0.0856420375823834
         ]
        },
        {
         "hoverinfo": "text",
         "marker": {
          "color": "green",
          "opacity": 0.4,
          "size": 1.2212389380530975,
          "symbol": "cross-thin"
         },
         "mode": "markers",
         "name": "ein_ritter → agnes",
         "showlegend": false,
         "text": "<b>ein_ritter → agnes</b>:<br><br>13<br>",
         "type": "scatter",
         "x": [
          -0.39666234943802064
         ],
         "y": [
          -0.2635333835697843
         ]
        },
        {
         "hoverinfo": "skip",
         "legendgroup": "ein_ritter → barnabe",
         "line": {
          "color": "green",
          "smoothing": 1.3,
          "width": 1.2212389380530975
         },
         "mode": "lines",
         "name": "ein_ritter → barnabe",
         "opacity": 0.5,
         "showlegend": false,
         "type": "scatter",
         "x": [
          -0.36703410602266506,
          -0.7582051386371653
         ],
         "y": [
          -0.30233065258669184,
          -0.32079437213940637
         ]
        },
        {
         "hoverinfo": "text",
         "marker": {
          "color": "green",
          "opacity": 0.4,
          "size": 1.2212389380530975,
          "symbol": "cross-thin"
         },
         "mode": "markers",
         "name": "ein_ritter → barnabe",
         "showlegend": false,
         "text": "<b>ein_ritter → barnabe</b>:<br><br>13<br>",
         "type": "scatter",
         "x": [
          -0.4061512092841151
         ],
         "y": [
          -0.30417702454196327
         ]
        },
        {
         "hoverinfo": "skip",
         "legendgroup": "ein_ritter → ottokar",
         "line": {
          "color": "green",
          "smoothing": 1.3,
          "width": 1.2212389380530975
         },
         "mode": "lines",
         "name": "ein_ritter → ottokar",
         "opacity": 0.5,
         "showlegend": false,
         "type": "scatter",
         "x": [
          -0.36703410602266506,
          0.2730079225516097
         ],
         "y": [
          -0.30233065258669184,
          0.02576232963849259
         ]
        },
        {
         "hoverinfo": "text",
         "marker": {
          "color": "green",
          "opacity": 0.4,
          "size": 1.2212389380530975,
          "symbol": "cross-thin"
         },
         "mode": "markers",
         "name": "ein_ritter → ottokar",
         "showlegend": false,
         "text": "<b>ein_ritter → ottokar</b>:<br><br>13<br>",
         "type": "scatter",
         "x": [
          -0.3030299031652376
         ],
         "y": [
          -0.2695213543641734
         ]
        },
        {
         "hoverinfo": "skip",
         "legendgroup": "ein_ritter → rupert",
         "line": {
          "color": "green",
          "smoothing": 1.3,
          "width": 1.2212389380530975
         },
         "mode": "lines",
         "name": "ein_ritter → rupert",
         "opacity": 0.5,
         "showlegend": false,
         "type": "scatter",
         "x": [
          -0.36703410602266506,
          0.15852202608362587
         ],
         "y": [
          -0.30233065258669184,
          -0.11160116329979293
         ]
        },
        {
         "hoverinfo": "text",
         "marker": {
          "color": "green",
          "opacity": 0.4,
          "size": 1.2212389380530975,
          "symbol": "cross-thin"
         },
         "mode": "markers",
         "name": "ein_ritter → rupert",
         "showlegend": false,
         "text": "<b>ein_ritter → rupert</b>:<br><br>13<br>",
         "type": "scatter",
         "x": [
          -0.314478492812036
         ],
         "y": [
          -0.28325770365800196
         ]
        },
        {
         "hoverinfo": "skip",
         "legendgroup": "ein_ritter → santing",
         "line": {
          "color": "green",
          "smoothing": 1.3,
          "width": 1.2212389380530975
         },
         "mode": "lines",
         "name": "ein_ritter → santing",
         "opacity": 0.5,
         "showlegend": false,
         "type": "scatter",
         "x": [
          -0.36703410602266506,
          0.06118065718030175
         ],
         "y": [
          -0.30233065258669184,
          -0.37654718144677773
         ]
        },
        {
         "hoverinfo": "text",
         "marker": {
          "color": "green",
          "opacity": 0.4,
          "size": 1.2212389380530975,
          "symbol": "cross-thin"
         },
         "mode": "markers",
         "name": "ein_ritter → santing",
         "showlegend": false,
         "text": "<b>ein_ritter → santing</b>:<br><br>13<br>",
         "type": "scatter",
         "x": [
          -0.32421262970236836
         ],
         "y": [
          -0.3097523054727004
         ]
        },
        {
         "hoverinfo": "skip",
         "legendgroup": "ein_ritter → sylvester",
         "line": {
          "color": "green",
          "smoothing": 1.3,
          "width": 1.2212389380530975
         },
         "mode": "lines",
         "name": "ein_ritter → sylvester",
         "opacity": 0.5,
         "showlegend": false,
         "type": "scatter",
         "x": [
          -0.36703410602266506,
          -0.3722337039749577
         ],
         "y": [
          -0.30233065258669184,
          0.23070930968089287
         ]
        },
        {
         "hoverinfo": "text",
         "marker": {
          "color": "green",
          "opacity": 0.4,
          "size": 1.2212389380530975,
          "symbol": "cross-thin"
         },
         "mode": "markers",
         "name": "ein_ritter → sylvester",
         "showlegend": false,
         "text": "<b>ein_ritter → sylvester</b>:<br><br>13<br>",
         "type": "scatter",
         "x": [
          -0.36755406581789435
         ],
         "y": [
          -0.24902665635993335
         ]
        },
        {
         "hoverinfo": "skip",
         "legendgroup": "ein_ritter → theistiner",
         "line": {
          "color": "green",
          "smoothing": 1.3,
          "width": 1.2212389380530975
         },
         "mode": "lines",
         "name": "ein_ritter → theistiner",
         "opacity": 0.5,
         "showlegend": false,
         "type": "scatter",
         "x": [
          -0.36703410602266506,
          -0.13435834816636363
         ],
         "y": [
          -0.30233065258669184,
          -0.5985916669324939
         ]
        },
        {
         "hoverinfo": "text",
         "marker": {
          "color": "green",
          "opacity": 0.4,
          "size": 1.2212389380530975,
          "symbol": "cross-thin"
         },
         "mode": "markers",
         "name": "ein_ritter → theistiner",
         "showlegend": false,
         "text": "<b>ein_ritter → theistiner</b>:<br><br>13<br>",
         "type": "scatter",
         "x": [
          -0.3437665302370349
         ],
         "y": [
          -0.331956754021272
         ]
        },
        {
         "hoverinfo": "skip",
         "legendgroup": "ein_ritter → gertrude",
         "line": {
          "color": "green",
          "smoothing": 1.3,
          "width": 1.2212389380530975
         },
         "mode": "lines",
         "name": "ein_ritter → gertrude",
         "opacity": 0.5,
         "showlegend": false,
         "type": "scatter",
         "x": [
          -0.36703410602266506,
          -0.5040364541538961
         ],
         "y": [
          -0.30233065258669184,
          0.14349277018414075
         ]
        },
        {
         "hoverinfo": "text",
         "marker": {
          "color": "green",
          "opacity": 0.4,
          "size": 1.2212389380530975,
          "symbol": "cross-thin"
         },
         "mode": "markers",
         "name": "ein_ritter → gertrude",
         "showlegend": false,
         "text": "<b>ein_ritter → gertrude</b>:<br><br>13<br>",
         "type": "scatter",
         "x": [
          -0.38073434083578817
         ],
         "y": [
          -0.25774831030960854
         ]
        },
        {
         "hoverinfo": "skip",
         "legendgroup": "ein_ritter → eustache",
         "line": {
          "color": "green",
          "smoothing": 1.3,
          "width": 1.2212389380530975
         },
         "mode": "lines",
         "name": "ein_ritter → eustache",
         "opacity": 0.5,
         "showlegend": false,
         "type": "scatter",
         "x": [
          -0.36703410602266506,
          0.15794993503301555
         ],
         "y": [
          -0.30233065258669184,
          -0.21129406443356444
         ]
        },
        {
         "hoverinfo": "text",
         "marker": {
          "color": "green",
          "opacity": 0.4,
          "size": 1.2212389380530975,
          "symbol": "cross-thin"
         },
         "mode": "markers",
         "name": "ein_ritter → eustache",
         "showlegend": false,
         "text": "<b>ein_ritter → eustache</b>:<br><br>13<br>",
         "type": "scatter",
         "x": [
          -0.314535701917097
         ],
         "y": [
          -0.29322699377137906
         ]
        },
        {
         "hoverinfo": "skip",
         "legendgroup": "ein_ritter → sylvius",
         "line": {
          "color": "green",
          "smoothing": 1.3,
          "width": 1.2212389380530975
         },
         "mode": "lines",
         "name": "ein_ritter → sylvius",
         "opacity": 0.5,
         "showlegend": false,
         "type": "scatter",
         "x": [
          -0.36703410602266506,
          -0.3679330237902063
         ],
         "y": [
          -0.30233065258669184,
          0.061432210336696845
         ]
        },
        {
         "hoverinfo": "text",
         "marker": {
          "color": "green",
          "opacity": 0.4,
          "size": 1.2212389380530975,
          "symbol": "cross-thin"
         },
         "mode": "markers",
         "name": "ein_ritter → sylvius",
         "showlegend": false,
         "text": "<b>ein_ritter → sylvius</b>:<br><br>13<br>",
         "type": "scatter",
         "x": [
          -0.3671239977994192
         ],
         "y": [
          -0.26595436629435293
         ]
        },
        {
         "hoverinfo": "skip",
         "legendgroup": "ein_ritter → johann",
         "line": {
          "color": "green",
          "smoothing": 1.3,
          "width": 1.2212389380530975
         },
         "mode": "lines",
         "name": "ein_ritter → johann",
         "opacity": 0.5,
         "showlegend": false,
         "type": "scatter",
         "x": [
          -0.36703410602266506,
          -0.07561875487925733
         ],
         "y": [
          -0.30233065258669184,
          0.18455698650381022
         ]
        },
        {
         "hoverinfo": "text",
         "marker": {
          "color": "green",
          "opacity": 0.4,
          "size": 1.2212389380530975,
          "symbol": "cross-thin"
         },
         "mode": "markers",
         "name": "ein_ritter → johann",
         "showlegend": false,
         "text": "<b>ein_ritter → johann</b>:<br><br>13<br>",
         "type": "scatter",
         "x": [
          -0.3378925709083243
         ],
         "y": [
          -0.2536418886776416
         ]
        },
        {
         "hoverinfo": "skip",
         "legendgroup": "ein_ritter → ursula",
         "line": {
          "color": "green",
          "smoothing": 1.3,
          "width": 1.2212389380530975
         },
         "mode": "lines",
         "name": "ein_ritter → ursula",
         "opacity": 0.5,
         "showlegend": false,
         "type": "scatter",
         "x": [
          -0.36703410602266506,
          -0.5976765593381522
         ],
         "y": [
          -0.30233065258669184,
          -0.42704650915767023
         ]
        },
        {
         "hoverinfo": "text",
         "marker": {
          "color": "green",
          "opacity": 0.4,
          "size": 1.2212389380530975,
          "symbol": "cross-thin"
         },
         "mode": "markers",
         "name": "ein_ritter → ursula",
         "showlegend": false,
         "text": "<b>ein_ritter → ursula</b>:<br><br>13<br>",
         "type": "scatter",
         "x": [
          -0.3900983513542138
         ],
         "y": [
          -0.31480223824378967
         ]
        },
        {
         "hoverinfo": "skip",
         "legendgroup": "ein_ritter → alle_5-1",
         "line": {
          "color": "green",
          "smoothing": 1.3,
          "width": 1.2212389380530975
         },
         "mode": "lines",
         "name": "ein_ritter → alle_5-1",
         "opacity": 0.5,
         "showlegend": false,
         "type": "scatter",
         "x": [
          -0.36703410602266506,
          -0.3702621620174359
         ],
         "y": [
          -0.30233065258669184,
          -0.5083384025722265
         ]
        },
        {
         "hoverinfo": "text",
         "marker": {
          "color": "green",
          "opacity": 0.4,
          "size": 1.2212389380530975,
          "symbol": "cross-thin"
         },
         "mode": "markers",
         "name": "ein_ritter → alle_5-1",
         "showlegend": false,
         "text": "<b>ein_ritter → alle_5-1</b>:<br><br>13<br>",
         "type": "scatter",
         "x": [
          -0.3673569116221421
         ],
         "y": [
          -0.3229314275852453
         ]
        },
        {
         "hoverinfo": "skip",
         "legendgroup": "gertrude → barnabe",
         "line": {
          "color": "green",
          "smoothing": 1.3,
          "width": 1.2212389380530975
         },
         "mode": "lines",
         "name": "gertrude → barnabe",
         "opacity": 0.5,
         "showlegend": false,
         "type": "scatter",
         "x": [
          -0.5040364541538961,
          -0.7582051386371653
         ],
         "y": [
          0.14349277018414075,
          -0.32079437213940637
         ]
        },
        {
         "hoverinfo": "text",
         "marker": {
          "color": "green",
          "opacity": 0.4,
          "size": 1.2212389380530975,
          "symbol": "cross-thin"
         },
         "mode": "markers",
         "name": "gertrude → barnabe",
         "showlegend": false,
         "text": "<b>gertrude → barnabe</b>:<br><br>13<br>",
         "type": "scatter",
         "x": [
          -0.529453322602223
         ],
         "y": [
          0.09706405595178605
         ]
        },
        {
         "hoverinfo": "skip",
         "legendgroup": "gertrude → ottokar",
         "line": {
          "color": "green",
          "smoothing": 1.3,
          "width": 1.2212389380530975
         },
         "mode": "lines",
         "name": "gertrude → ottokar",
         "opacity": 0.5,
         "showlegend": false,
         "type": "scatter",
         "x": [
          -0.5040364541538961,
          0.2730079225516097
         ],
         "y": [
          0.14349277018414075,
          0.02576232963849259
         ]
        },
        {
         "hoverinfo": "text",
         "marker": {
          "color": "green",
          "opacity": 0.4,
          "size": 1.2212389380530975,
          "symbol": "cross-thin"
         },
         "mode": "markers",
         "name": "gertrude → ottokar",
         "showlegend": false,
         "text": "<b>gertrude → ottokar</b>:<br><br>13<br>",
         "type": "scatter",
         "x": [
          -0.4263320164833455
         ],
         "y": [
          0.13171972612957594
         ]
        },
        {
         "hoverinfo": "skip",
         "legendgroup": "gertrude → rupert",
         "line": {
          "color": "green",
          "smoothing": 1.3,
          "width": 1.2212389380530975
         },
         "mode": "lines",
         "name": "gertrude → rupert",
         "opacity": 0.5,
         "showlegend": false,
         "type": "scatter",
         "x": [
          -0.5040364541538961,
          0.15852202608362587
         ],
         "y": [
          0.14349277018414075,
          -0.11160116329979293
         ]
        },
        {
         "hoverinfo": "text",
         "marker": {
          "color": "green",
          "opacity": 0.4,
          "size": 1.2212389380530975,
          "symbol": "cross-thin"
         },
         "mode": "markers",
         "name": "gertrude → rupert",
         "showlegend": false,
         "text": "<b>gertrude → rupert</b>:<br><br>13<br>",
         "type": "scatter",
         "x": [
          -0.4377806061301439
         ],
         "y": [
          0.11798337683574739
         ]
        },
        {
         "hoverinfo": "skip",
         "legendgroup": "gertrude → santing",
         "line": {
          "color": "green",
          "smoothing": 1.3,
          "width": 1.2212389380530975
         },
         "mode": "lines",
         "name": "gertrude → santing",
         "opacity": 0.5,
         "showlegend": false,
         "type": "scatter",
         "x": [
          -0.5040364541538961,
          0.06118065718030175
         ],
         "y": [
          0.14349277018414075,
          -0.37654718144677773
         ]
        },
        {
         "hoverinfo": "text",
         "marker": {
          "color": "green",
          "opacity": 0.4,
          "size": 1.2212389380530975,
          "symbol": "cross-thin"
         },
         "mode": "markers",
         "name": "gertrude → santing",
         "showlegend": false,
         "text": "<b>gertrude → santing</b>:<br><br>13<br>",
         "type": "scatter",
         "x": [
          -0.4475147430204763
         ],
         "y": [
          0.09148877502104891
         ]
        },
        {
         "hoverinfo": "skip",
         "legendgroup": "gertrude → ein_ritter",
         "line": {
          "color": "green",
          "smoothing": 1.3,
          "width": 1.2212389380530975
         },
         "mode": "lines",
         "name": "gertrude → ein_ritter",
         "opacity": 0.5,
         "showlegend": false,
         "type": "scatter",
         "x": [
          -0.5040364541538961,
          -0.36703410602266506
         ],
         "y": [
          0.14349277018414075,
          -0.30233065258669184
         ]
        },
        {
         "hoverinfo": "text",
         "marker": {
          "color": "green",
          "opacity": 0.4,
          "size": 1.2212389380530975,
          "symbol": "cross-thin"
         },
         "mode": "markers",
         "name": "gertrude → ein_ritter",
         "showlegend": false,
         "text": "<b>gertrude → ein_ritter</b>:<br><br>13<br>",
         "type": "scatter",
         "x": [
          -0.490336219340773
         ],
         "y": [
          0.0989104279070575
         ]
        },
        {
         "hoverinfo": "skip",
         "legendgroup": "gertrude → eustache",
         "line": {
          "color": "green",
          "smoothing": 1.3,
          "width": 1.2212389380530975
         },
         "mode": "lines",
         "name": "gertrude → eustache",
         "opacity": 0.5,
         "showlegend": false,
         "type": "scatter",
         "x": [
          -0.5040364541538961,
          0.15794993503301555
         ],
         "y": [
          0.14349277018414075,
          -0.21129406443356444
         ]
        },
        {
         "hoverinfo": "text",
         "marker": {
          "color": "green",
          "opacity": 0.4,
          "size": 1.2212389380530975,
          "symbol": "cross-thin"
         },
         "mode": "markers",
         "name": "gertrude → eustache",
         "showlegend": false,
         "text": "<b>gertrude → eustache</b>:<br><br>13<br>",
         "type": "scatter",
         "x": [
          -0.43783781523520493
         ],
         "y": [
          0.10801408672237023
         ]
        },
        {
         "hoverinfo": "skip",
         "legendgroup": "gertrude → ursula",
         "line": {
          "color": "green",
          "smoothing": 1.3,
          "width": 1.2212389380530975
         },
         "mode": "lines",
         "name": "gertrude → ursula",
         "opacity": 0.5,
         "showlegend": false,
         "type": "scatter",
         "x": [
          -0.5040364541538961,
          -0.5976765593381522
         ],
         "y": [
          0.14349277018414075,
          -0.42704650915767023
         ]
        },
        {
         "hoverinfo": "text",
         "marker": {
          "color": "green",
          "opacity": 0.4,
          "size": 1.2212389380530975,
          "symbol": "cross-thin"
         },
         "mode": "markers",
         "name": "gertrude → ursula",
         "showlegend": false,
         "text": "<b>gertrude → ursula</b>:<br><br>13<br>",
         "type": "scatter",
         "x": [
          -0.5134004646723217
         ],
         "y": [
          0.08643884224995965
         ]
        },
        {
         "hoverinfo": "skip",
         "legendgroup": "gertrude → alle_5-1",
         "line": {
          "color": "green",
          "smoothing": 1.3,
          "width": 1.2212389380530975
         },
         "mode": "lines",
         "name": "gertrude → alle_5-1",
         "opacity": 0.5,
         "showlegend": false,
         "type": "scatter",
         "x": [
          -0.5040364541538961,
          -0.3702621620174359
         ],
         "y": [
          0.14349277018414075,
          -0.5083384025722265
         ]
        },
        {
         "hoverinfo": "text",
         "marker": {
          "color": "green",
          "opacity": 0.4,
          "size": 1.2212389380530975,
          "symbol": "cross-thin"
         },
         "mode": "markers",
         "name": "gertrude → alle_5-1",
         "showlegend": false,
         "text": "<b>gertrude → alle_5-1</b>:<br><br>13<br>",
         "type": "scatter",
         "x": [
          -0.49065902494025004
         ],
         "y": [
          0.07830965290850403
         ]
        },
        {
         "hoverinfo": "skip",
         "legendgroup": "eustache → agnes",
         "line": {
          "color": "green",
          "smoothing": 1.3,
          "width": 1.2212389380530975
         },
         "mode": "lines",
         "name": "eustache → agnes",
         "opacity": 0.5,
         "showlegend": false,
         "type": "scatter",
         "x": [
          0.15794993503301555,
          -0.6633165401762209
         ],
         "y": [
          -0.21129406443356444,
          0.0856420375823834
         ]
        },
        {
         "hoverinfo": "text",
         "marker": {
          "color": "green",
          "opacity": 0.4,
          "size": 1.2212389380530975,
          "symbol": "cross-thin"
         },
         "mode": "markers",
         "name": "eustache → agnes",
         "showlegend": false,
         "text": "<b>eustache → agnes</b>:<br><br>13<br>",
         "type": "scatter",
         "x": [
          0.07582328751209191
         ],
         "y": [
          -0.18160045423196963
         ]
        },
        {
         "hoverinfo": "skip",
         "legendgroup": "eustache → barnabe",
         "line": {
          "color": "green",
          "smoothing": 1.3,
          "width": 1.2212389380530975
         },
         "mode": "lines",
         "name": "eustache → barnabe",
         "opacity": 0.5,
         "showlegend": false,
         "type": "scatter",
         "x": [
          0.15794993503301555,
          -0.7582051386371653
         ],
         "y": [
          -0.21129406443356444,
          -0.32079437213940637
         ]
        },
        {
         "hoverinfo": "text",
         "marker": {
          "color": "green",
          "opacity": 0.4,
          "size": 1.2212389380530975,
          "symbol": "cross-thin"
         },
         "mode": "markers",
         "name": "eustache → barnabe",
         "showlegend": false,
         "text": "<b>eustache → barnabe</b>:<br><br>13<br>",
         "type": "scatter",
         "x": [
          0.06633442766599747
         ],
         "y": [
          -0.22224409520414862
         ]
        },
        {
         "hoverinfo": "skip",
         "legendgroup": "eustache → sylvester",
         "line": {
          "color": "green",
          "smoothing": 1.3,
          "width": 1.2212389380530975
         },
         "mode": "lines",
         "name": "eustache → sylvester",
         "opacity": 0.5,
         "showlegend": false,
         "type": "scatter",
         "x": [
          0.15794993503301555,
          -0.3722337039749577
         ],
         "y": [
          -0.21129406443356444,
          0.23070930968089287
         ]
        },
        {
         "hoverinfo": "text",
         "marker": {
          "color": "green",
          "opacity": 0.4,
          "size": 1.2212389380530975,
          "symbol": "cross-thin"
         },
         "mode": "markers",
         "name": "eustache → sylvester",
         "showlegend": false,
         "text": "<b>eustache → sylvester</b>:<br><br>13<br>",
         "type": "scatter",
         "x": [
          0.10493157113221824
         ],
         "y": [
          -0.1670937270221187
         ]
        },
        {
         "hoverinfo": "skip",
         "legendgroup": "eustache → theistiner",
         "line": {
          "color": "green",
          "smoothing": 1.3,
          "width": 1.2212389380530975
         },
         "mode": "lines",
         "name": "eustache → theistiner",
         "opacity": 0.5,
         "showlegend": false,
         "type": "scatter",
         "x": [
          0.15794993503301555,
          -0.13435834816636363
         ],
         "y": [
          -0.21129406443356444,
          -0.5985916669324939
         ]
        },
        {
         "hoverinfo": "text",
         "marker": {
          "color": "green",
          "opacity": 0.4,
          "size": 1.2212389380530975,
          "symbol": "cross-thin"
         },
         "mode": "markers",
         "name": "eustache → theistiner",
         "showlegend": false,
         "text": "<b>eustache → theistiner</b>:<br><br>13<br>",
         "type": "scatter",
         "x": [
          0.12871910671307762
         ],
         "y": [
          -0.2500238246834574
         ]
        },
        {
         "hoverinfo": "skip",
         "legendgroup": "eustache → ein_ritter",
         "line": {
          "color": "green",
          "smoothing": 1.3,
          "width": 1.2212389380530975
         },
         "mode": "lines",
         "name": "eustache → ein_ritter",
         "opacity": 0.5,
         "showlegend": false,
         "type": "scatter",
         "x": [
          0.15794993503301555,
          -0.36703410602266506
         ],
         "y": [
          -0.21129406443356444,
          -0.30233065258669184
         ]
        },
        {
         "hoverinfo": "text",
         "marker": {
          "color": "green",
          "opacity": 0.4,
          "size": 1.2212389380530975,
          "symbol": "cross-thin"
         },
         "mode": "markers",
         "name": "eustache → ein_ritter",
         "showlegend": false,
         "text": "<b>eustache → ein_ritter</b>:<br><br>13<br>",
         "type": "scatter",
         "x": [
          0.1054515309274475
         ],
         "y": [
          -0.2203977232488772
         ]
        },
        {
         "hoverinfo": "skip",
         "legendgroup": "eustache → gertrude",
         "line": {
          "color": "green",
          "smoothing": 1.3,
          "width": 1.2212389380530975
         },
         "mode": "lines",
         "name": "eustache → gertrude",
         "opacity": 0.5,
         "showlegend": false,
         "type": "scatter",
         "x": [
          0.15794993503301555,
          -0.5040364541538961
         ],
         "y": [
          -0.21129406443356444,
          0.14349277018414075
         ]
        },
        {
         "hoverinfo": "text",
         "marker": {
          "color": "green",
          "opacity": 0.4,
          "size": 1.2212389380530975,
          "symbol": "cross-thin"
         },
         "mode": "markers",
         "name": "eustache → gertrude",
         "showlegend": false,
         "text": "<b>eustache → gertrude</b>:<br><br>13<br>",
         "type": "scatter",
         "x": [
          0.0917512961143244
         ],
         "y": [
          -0.17581538097179392
         ]
        },
        {
         "hoverinfo": "skip",
         "legendgroup": "eustache → sylvius",
         "line": {
          "color": "green",
          "smoothing": 1.3,
          "width": 1.2212389380530975
         },
         "mode": "lines",
         "name": "eustache → sylvius",
         "opacity": 0.5,
         "showlegend": false,
         "type": "scatter",
         "x": [
          0.15794993503301555,
          -0.3679330237902063
         ],
         "y": [
          -0.21129406443356444,
          0.061432210336696845
         ]
        },
        {
         "hoverinfo": "text",
         "marker": {
          "color": "green",
          "opacity": 0.4,
          "size": 1.2212389380530975,
          "symbol": "cross-thin"
         },
         "mode": "markers",
         "name": "eustache → sylvius",
         "showlegend": false,
         "text": "<b>eustache → sylvius</b>:<br><br>13<br>",
         "type": "scatter",
         "x": [
          0.10536163915069337
         ],
         "y": [
          -0.1840214369565383
         ]
        },
        {
         "hoverinfo": "skip",
         "legendgroup": "eustache → ursula",
         "line": {
          "color": "green",
          "smoothing": 1.3,
          "width": 1.2212389380530975
         },
         "mode": "lines",
         "name": "eustache → ursula",
         "opacity": 0.5,
         "showlegend": false,
         "type": "scatter",
         "x": [
          0.15794993503301555,
          -0.5976765593381522
         ],
         "y": [
          -0.21129406443356444,
          -0.42704650915767023
         ]
        },
        {
         "hoverinfo": "text",
         "marker": {
          "color": "green",
          "opacity": 0.4,
          "size": 1.2212389380530975,
          "symbol": "cross-thin"
         },
         "mode": "markers",
         "name": "eustache → ursula",
         "showlegend": false,
         "text": "<b>eustache → ursula</b>:<br><br>13<br>",
         "type": "scatter",
         "x": [
          0.08238728559589878
         ],
         "y": [
          -0.23286930890597501
         ]
        },
        {
         "hoverinfo": "skip",
         "legendgroup": "eustache → alle_5-1",
         "line": {
          "color": "green",
          "smoothing": 1.3,
          "width": 1.2212389380530975
         },
         "mode": "lines",
         "name": "eustache → alle_5-1",
         "opacity": 0.5,
         "showlegend": false,
         "type": "scatter",
         "x": [
          0.15794993503301555,
          -0.3702621620174359
         ],
         "y": [
          -0.21129406443356444,
          -0.5083384025722265
         ]
        },
        {
         "hoverinfo": "text",
         "marker": {
          "color": "green",
          "opacity": 0.4,
          "size": 1.2212389380530975,
          "symbol": "cross-thin"
         },
         "mode": "markers",
         "name": "eustache → alle_5-1",
         "showlegend": false,
         "text": "<b>eustache → alle_5-1</b>:<br><br>13<br>",
         "type": "scatter",
         "x": [
          0.10512872532797041
         ],
         "y": [
          -0.24099849824743064
         ]
        },
        {
         "hoverinfo": "skip",
         "legendgroup": "sylvius → barnabe",
         "line": {
          "color": "green",
          "smoothing": 1.3,
          "width": 1.2212389380530975
         },
         "mode": "lines",
         "name": "sylvius → barnabe",
         "opacity": 0.5,
         "showlegend": false,
         "type": "scatter",
         "x": [
          -0.3679330237902063,
          -0.7582051386371653
         ],
         "y": [
          0.061432210336696845,
          -0.32079437213940637
         ]
        },
        {
         "hoverinfo": "text",
         "marker": {
          "color": "green",
          "opacity": 0.4,
          "size": 1.2212389380530975,
          "symbol": "cross-thin"
         },
         "mode": "markers",
         "name": "sylvius → barnabe",
         "showlegend": false,
         "text": "<b>sylvius → barnabe</b>:<br><br>13<br>",
         "type": "scatter",
         "x": [
          -0.4069602352749022
         ],
         "y": [
          0.023209552089086524
         ]
        },
        {
         "hoverinfo": "skip",
         "legendgroup": "sylvius → ottokar",
         "line": {
          "color": "green",
          "smoothing": 1.3,
          "width": 1.2212389380530975
         },
         "mode": "lines",
         "name": "sylvius → ottokar",
         "opacity": 0.5,
         "showlegend": false,
         "type": "scatter",
         "x": [
          -0.3679330237902063,
          0.2730079225516097
         ],
         "y": [
          0.061432210336696845,
          0.02576232963849259
         ]
        },
        {
         "hoverinfo": "text",
         "marker": {
          "color": "green",
          "opacity": 0.4,
          "size": 1.2212389380530975,
          "symbol": "cross-thin"
         },
         "mode": "markers",
         "name": "sylvius → ottokar",
         "showlegend": false,
         "text": "<b>sylvius → ottokar</b>:<br><br>13<br>",
         "type": "scatter",
         "x": [
          -0.30383892915602473
         ],
         "y": [
          0.057865222266876425
         ]
        },
        {
         "hoverinfo": "skip",
         "legendgroup": "sylvius → rupert",
         "line": {
          "color": "green",
          "smoothing": 1.3,
          "width": 1.2212389380530975
         },
         "mode": "lines",
         "name": "sylvius → rupert",
         "opacity": 0.5,
         "showlegend": false,
         "type": "scatter",
         "x": [
          -0.3679330237902063,
          0.15852202608362587
         ],
         "y": [
          0.061432210336696845,
          -0.11160116329979293
         ]
        },
        {
         "hoverinfo": "text",
         "marker": {
          "color": "green",
          "opacity": 0.4,
          "size": 1.2212389380530975,
          "symbol": "cross-thin"
         },
         "mode": "markers",
         "name": "sylvius → rupert",
         "showlegend": false,
         "text": "<b>sylvius → rupert</b>:<br><br>13<br>",
         "type": "scatter",
         "x": [
          -0.31528751880282313
         ],
         "y": [
          0.04412887297304787
         ]
        },
        {
         "hoverinfo": "skip",
         "legendgroup": "sylvius → santing",
         "line": {
          "color": "green",
          "smoothing": 1.3,
          "width": 1.2212389380530975
         },
         "mode": "lines",
         "name": "sylvius → santing",
         "opacity": 0.5,
         "showlegend": false,
         "type": "scatter",
         "x": [
          -0.3679330237902063,
          0.06118065718030175
         ],
         "y": [
          0.061432210336696845,
          -0.37654718144677773
         ]
        },
        {
         "hoverinfo": "text",
         "marker": {
          "color": "green",
          "opacity": 0.4,
          "size": 1.2212389380530975,
          "symbol": "cross-thin"
         },
         "mode": "markers",
         "name": "sylvius → santing",
         "showlegend": false,
         "text": "<b>sylvius → santing</b>:<br><br>13<br>",
         "type": "scatter",
         "x": [
          -0.3250216556931555
         ],
         "y": [
          0.01763427115834939
         ]
        },
        {
         "hoverinfo": "skip",
         "legendgroup": "sylvius → theistiner",
         "line": {
          "color": "green",
          "smoothing": 1.3,
          "width": 1.2212389380530975
         },
         "mode": "lines",
         "name": "sylvius → theistiner",
         "opacity": 0.5,
         "showlegend": false,
         "type": "scatter",
         "x": [
          -0.3679330237902063,
          -0.13435834816636363
         ],
         "y": [
          0.061432210336696845,
          -0.5985916669324939
         ]
        },
        {
         "hoverinfo": "text",
         "marker": {
          "color": "green",
          "opacity": 0.4,
          "size": 1.2212389380530975,
          "symbol": "cross-thin"
         },
         "mode": "markers",
         "name": "sylvius → theistiner",
         "showlegend": false,
         "text": "<b>sylvius → theistiner</b>:<br><br>13<br>",
         "type": "scatter",
         "x": [
          -0.34457555622782204
         ],
         "y": [
          -0.004570177390222231
         ]
        },
        {
         "hoverinfo": "skip",
         "legendgroup": "sylvius → ein_ritter",
         "line": {
          "color": "green",
          "smoothing": 1.3,
          "width": 1.2212389380530975
         },
         "mode": "lines",
         "name": "sylvius → ein_ritter",
         "opacity": 0.5,
         "showlegend": false,
         "type": "scatter",
         "x": [
          -0.3679330237902063,
          -0.36703410602266506
         ],
         "y": [
          0.061432210336696845,
          -0.30233065258669184
         ]
        },
        {
         "hoverinfo": "text",
         "marker": {
          "color": "green",
          "opacity": 0.4,
          "size": 1.2212389380530975,
          "symbol": "cross-thin"
         },
         "mode": "markers",
         "name": "sylvius → ein_ritter",
         "showlegend": false,
         "text": "<b>sylvius → ein_ritter</b>:<br><br>13<br>",
         "type": "scatter",
         "x": [
          -0.3678431320134522
         ],
         "y": [
          0.025055924044357976
         ]
        },
        {
         "hoverinfo": "skip",
         "legendgroup": "sylvius → eustache",
         "line": {
          "color": "green",
          "smoothing": 1.3,
          "width": 1.2212389380530975
         },
         "mode": "lines",
         "name": "sylvius → eustache",
         "opacity": 0.5,
         "showlegend": false,
         "type": "scatter",
         "x": [
          -0.3679330237902063,
          0.15794993503301555
         ],
         "y": [
          0.061432210336696845,
          -0.21129406443356444
         ]
        },
        {
         "hoverinfo": "text",
         "marker": {
          "color": "green",
          "opacity": 0.4,
          "size": 1.2212389380530975,
          "symbol": "cross-thin"
         },
         "mode": "markers",
         "name": "sylvius → eustache",
         "showlegend": false,
         "text": "<b>sylvius → eustache</b>:<br><br>13<br>",
         "type": "scatter",
         "x": [
          -0.31534472790788415
         ],
         "y": [
          0.03415958285967072
         ]
        },
        {
         "hoverinfo": "skip",
         "legendgroup": "sylvius → johann",
         "line": {
          "color": "green",
          "smoothing": 1.3,
          "width": 1.2212389380530975
         },
         "mode": "lines",
         "name": "sylvius → johann",
         "opacity": 0.5,
         "showlegend": false,
         "type": "scatter",
         "x": [
          -0.3679330237902063,
          -0.07561875487925733
         ],
         "y": [
          0.061432210336696845,
          0.18455698650381022
         ]
        },
        {
         "hoverinfo": "text",
         "marker": {
          "color": "green",
          "opacity": 0.4,
          "size": 1.2212389380530975,
          "symbol": "cross-thin"
         },
         "mode": "markers",
         "name": "sylvius → johann",
         "showlegend": false,
         "text": "<b>sylvius → johann</b>:<br><br>13<br>",
         "type": "scatter",
         "x": [
          -0.33870159689911145
         ],
         "y": [
          0.07374468795340819
         ]
        },
        {
         "hoverinfo": "skip",
         "legendgroup": "sylvius → ursula",
         "line": {
          "color": "green",
          "smoothing": 1.3,
          "width": 1.2212389380530975
         },
         "mode": "lines",
         "name": "sylvius → ursula",
         "opacity": 0.5,
         "showlegend": false,
         "type": "scatter",
         "x": [
          -0.3679330237902063,
          -0.5976765593381522
         ],
         "y": [
          0.061432210336696845,
          -0.42704650915767023
         ]
        },
        {
         "hoverinfo": "text",
         "marker": {
          "color": "green",
          "opacity": 0.4,
          "size": 1.2212389380530975,
          "symbol": "cross-thin"
         },
         "mode": "markers",
         "name": "sylvius → ursula",
         "showlegend": false,
         "text": "<b>sylvius → ursula</b>:<br><br>13<br>",
         "type": "scatter",
         "x": [
          -0.3909073773450009
         ],
         "y": [
          0.012584338387260134
         ]
        },
        {
         "hoverinfo": "skip",
         "legendgroup": "sylvius → alle_5-1",
         "line": {
          "color": "green",
          "smoothing": 1.3,
          "width": 1.2212389380530975
         },
         "mode": "lines",
         "name": "sylvius → alle_5-1",
         "opacity": 0.5,
         "showlegend": false,
         "type": "scatter",
         "x": [
          -0.3679330237902063,
          -0.3702621620174359
         ],
         "y": [
          0.061432210336696845,
          -0.5083384025722265
         ]
        },
        {
         "hoverinfo": "text",
         "marker": {
          "color": "green",
          "opacity": 0.4,
          "size": 1.2212389380530975,
          "symbol": "cross-thin"
         },
         "mode": "markers",
         "name": "sylvius → alle_5-1",
         "showlegend": false,
         "text": "<b>sylvius → alle_5-1</b>:<br><br>13<br>",
         "type": "scatter",
         "x": [
          -0.36816593761292926
         ],
         "y": [
          0.0044551490458045115
         ]
        },
        {
         "hoverinfo": "skip",
         "legendgroup": "johann → barnabe",
         "line": {
          "color": "green",
          "smoothing": 1.3,
          "width": 1.2212389380530975
         },
         "mode": "lines",
         "name": "johann → barnabe",
         "opacity": 0.5,
         "showlegend": false,
         "type": "scatter",
         "x": [
          -0.07561875487925733,
          -0.7582051386371653
         ],
         "y": [
          0.18455698650381022,
          -0.32079437213940637
         ]
        },
        {
         "hoverinfo": "text",
         "marker": {
          "color": "green",
          "opacity": 0.4,
          "size": 1.2212389380530975,
          "symbol": "cross-thin"
         },
         "mode": "markers",
         "name": "johann → barnabe",
         "showlegend": false,
         "text": "<b>johann → barnabe</b>:<br><br>13<br>",
         "type": "scatter",
         "x": [
          -0.1438773932550481
         ],
         "y": [
          0.13402185063948857
         ]
        },
        {
         "hoverinfo": "skip",
         "legendgroup": "johann → santing",
         "line": {
          "color": "green",
          "smoothing": 1.3,
          "width": 1.2212389380530975
         },
         "mode": "lines",
         "name": "johann → santing",
         "opacity": 0.5,
         "showlegend": false,
         "type": "scatter",
         "x": [
          -0.07561875487925733,
          0.06118065718030175
         ],
         "y": [
          0.18455698650381022,
          -0.37654718144677773
         ]
        },
        {
         "hoverinfo": "text",
         "marker": {
          "color": "green",
          "opacity": 0.4,
          "size": 1.2212389380530975,
          "symbol": "cross-thin"
         },
         "mode": "markers",
         "name": "johann → santing",
         "showlegend": false,
         "text": "<b>johann → santing</b>:<br><br>13<br>",
         "type": "scatter",
         "x": [
          -0.06193881367330142
         ],
         "y": [
          0.12844656970875143
         ]
        },
        {
         "hoverinfo": "skip",
         "legendgroup": "johann → theistiner",
         "line": {
          "color": "green",
          "smoothing": 1.3,
          "width": 1.2212389380530975
         },
         "mode": "lines",
         "name": "johann → theistiner",
         "opacity": 0.5,
         "showlegend": false,
         "type": "scatter",
         "x": [
          -0.07561875487925733,
          -0.13435834816636363
         ],
         "y": [
          0.18455698650381022,
          -0.5985916669324939
         ]
        },
        {
         "hoverinfo": "text",
         "marker": {
          "color": "green",
          "opacity": 0.4,
          "size": 1.2212389380530975,
          "symbol": "cross-thin"
         },
         "mode": "markers",
         "name": "johann → theistiner",
         "showlegend": false,
         "text": "<b>johann → theistiner</b>:<br><br>13<br>",
         "type": "scatter",
         "x": [
          -0.08149271420796796
         ],
         "y": [
          0.10624212116017981
         ]
        },
        {
         "hoverinfo": "skip",
         "legendgroup": "johann → ein_ritter",
         "line": {
          "color": "green",
          "smoothing": 1.3,
          "width": 1.2212389380530975
         },
         "mode": "lines",
         "name": "johann → ein_ritter",
         "opacity": 0.5,
         "showlegend": false,
         "type": "scatter",
         "x": [
          -0.07561875487925733,
          -0.36703410602266506
         ],
         "y": [
          0.18455698650381022,
          -0.30233065258669184
         ]
        },
        {
         "hoverinfo": "text",
         "marker": {
          "color": "green",
          "opacity": 0.4,
          "size": 1.2212389380530975,
          "symbol": "cross-thin"
         },
         "mode": "markers",
         "name": "johann → ein_ritter",
         "showlegend": false,
         "text": "<b>johann → ein_ritter</b>:<br><br>13<br>",
         "type": "scatter",
         "x": [
          -0.1047602899935981
         ],
         "y": [
          0.13586822259476
         ]
        },
        {
         "hoverinfo": "skip",
         "legendgroup": "johann → sylvius",
         "line": {
          "color": "green",
          "smoothing": 1.3,
          "width": 1.2212389380530975
         },
         "mode": "lines",
         "name": "johann → sylvius",
         "opacity": 0.5,
         "showlegend": false,
         "type": "scatter",
         "x": [
          -0.07561875487925733,
          -0.3679330237902063
         ],
         "y": [
          0.18455698650381022,
          0.061432210336696845
         ]
        },
        {
         "hoverinfo": "text",
         "marker": {
          "color": "green",
          "opacity": 0.4,
          "size": 1.2212389380530975,
          "symbol": "cross-thin"
         },
         "mode": "markers",
         "name": "johann → sylvius",
         "showlegend": false,
         "text": "<b>johann → sylvius</b>:<br><br>13<br>",
         "type": "scatter",
         "x": [
          -0.10485018177035223
         ],
         "y": [
          0.17224450888709888
         ]
        },
        {
         "hoverinfo": "skip",
         "legendgroup": "johann → ursula",
         "line": {
          "color": "green",
          "smoothing": 1.3,
          "width": 1.2212389380530975
         },
         "mode": "lines",
         "name": "johann → ursula",
         "opacity": 0.5,
         "showlegend": false,
         "type": "scatter",
         "x": [
          -0.07561875487925733,
          -0.5976765593381522
         ],
         "y": [
          0.18455698650381022,
          -0.42704650915767023
         ]
        },
        {
         "hoverinfo": "text",
         "marker": {
          "color": "green",
          "opacity": 0.4,
          "size": 1.2212389380530975,
          "symbol": "cross-thin"
         },
         "mode": "markers",
         "name": "johann → ursula",
         "showlegend": false,
         "text": "<b>johann → ursula</b>:<br><br>13<br>",
         "type": "scatter",
         "x": [
          -0.12782453532514682
         ],
         "y": [
          0.12339663693766217
         ]
        },
        {
         "hoverinfo": "skip",
         "legendgroup": "johann → alle_5-1",
         "line": {
          "color": "green",
          "smoothing": 1.3,
          "width": 1.2212389380530975
         },
         "mode": "lines",
         "name": "johann → alle_5-1",
         "opacity": 0.5,
         "showlegend": false,
         "type": "scatter",
         "x": [
          -0.07561875487925733,
          -0.3702621620174359
         ],
         "y": [
          0.18455698650381022,
          -0.5083384025722265
         ]
        },
        {
         "hoverinfo": "text",
         "marker": {
          "color": "green",
          "opacity": 0.4,
          "size": 1.2212389380530975,
          "symbol": "cross-thin"
         },
         "mode": "markers",
         "name": "johann → alle_5-1",
         "showlegend": false,
         "text": "<b>johann → alle_5-1</b>:<br><br>13<br>",
         "type": "scatter",
         "x": [
          -0.10508309559307519
         ],
         "y": [
          0.11526744759620655
         ]
        },
        {
         "hoverinfo": "skip",
         "legendgroup": "ursula → agnes",
         "line": {
          "color": "green",
          "smoothing": 1.3,
          "width": 1.2212389380530975
         },
         "mode": "lines",
         "name": "ursula → agnes",
         "opacity": 0.5,
         "showlegend": false,
         "type": "scatter",
         "x": [
          -0.5976765593381522,
          -0.6633165401762209
         ],
         "y": [
          -0.42704650915767023,
          0.0856420375823834
         ]
        },
        {
         "hoverinfo": "text",
         "marker": {
          "color": "green",
          "opacity": 0.4,
          "size": 1.2212389380530975,
          "symbol": "cross-thin"
         },
         "mode": "markers",
         "name": "ursula → agnes",
         "showlegend": false,
         "text": "<b>ursula → agnes</b>:<br><br>13<br>",
         "type": "scatter",
         "x": [
          -0.6042405574219591
         ],
         "y": [
          -0.37577765448366485
         ]
        },
        {
         "hoverinfo": "skip",
         "legendgroup": "ursula → rupert",
         "line": {
          "color": "green",
          "smoothing": 1.3,
          "width": 1.2212389380530975
         },
         "mode": "lines",
         "name": "ursula → rupert",
         "opacity": 0.5,
         "showlegend": false,
         "type": "scatter",
         "x": [
          -0.5976765593381522,
          0.15852202608362587
         ],
         "y": [
          -0.42704650915767023,
          -0.11160116329979293
         ]
        },
        {
         "hoverinfo": "text",
         "marker": {
          "color": "green",
          "opacity": 0.4,
          "size": 1.2212389380530975,
          "symbol": "cross-thin"
         },
         "mode": "markers",
         "name": "ursula → rupert",
         "showlegend": false,
         "text": "<b>ursula → rupert</b>:<br><br>13<br>",
         "type": "scatter",
         "x": [
          -0.5220567007959744
         ],
         "y": [
          -0.3955019745718825
         ]
        },
        {
         "hoverinfo": "skip",
         "legendgroup": "ursula → santing",
         "line": {
          "color": "green",
          "smoothing": 1.3,
          "width": 1.2212389380530975
         },
         "mode": "lines",
         "name": "ursula → santing",
         "opacity": 0.5,
         "showlegend": false,
         "type": "scatter",
         "x": [
          -0.5976765593381522,
          0.06118065718030175
         ],
         "y": [
          -0.42704650915767023,
          -0.37654718144677773
         ]
        },
        {
         "hoverinfo": "text",
         "marker": {
          "color": "green",
          "opacity": 0.4,
          "size": 1.2212389380530975,
          "symbol": "cross-thin"
         },
         "mode": "markers",
         "name": "ursula → santing",
         "showlegend": false,
         "text": "<b>ursula → santing</b>:<br><br>13<br>",
         "type": "scatter",
         "x": [
          -0.5317908376863069
         ],
         "y": [
          -0.42199657638658095
         ]
        },
        {
         "hoverinfo": "skip",
         "legendgroup": "ursula → sylvester",
         "line": {
          "color": "green",
          "smoothing": 1.3,
          "width": 1.2212389380530975
         },
         "mode": "lines",
         "name": "ursula → sylvester",
         "opacity": 0.5,
         "showlegend": false,
         "type": "scatter",
         "x": [
          -0.5976765593381522,
          -0.3722337039749577
         ],
         "y": [
          -0.42704650915767023,
          0.23070930968089287
         ]
        },
        {
         "hoverinfo": "text",
         "marker": {
          "color": "green",
          "opacity": 0.4,
          "size": 1.2212389380530975,
          "symbol": "cross-thin"
         },
         "mode": "markers",
         "name": "ursula → sylvester",
         "showlegend": false,
         "text": "<b>ursula → sylvester</b>:<br><br>13<br>",
         "type": "scatter",
         "x": [
          -0.5751322738018328
         ],
         "y": [
          -0.36127092727381394
         ]
        },
        {
         "hoverinfo": "skip",
         "legendgroup": "ursula → theistiner",
         "line": {
          "color": "green",
          "smoothing": 1.3,
          "width": 1.2212389380530975
         },
         "mode": "lines",
         "name": "ursula → theistiner",
         "opacity": 0.5,
         "showlegend": false,
         "type": "scatter",
         "x": [
          -0.5976765593381522,
          -0.13435834816636363
         ],
         "y": [
          -0.42704650915767023,
          -0.5985916669324939
         ]
        },
        {
         "hoverinfo": "text",
         "marker": {
          "color": "green",
          "opacity": 0.4,
          "size": 1.2212389380530975,
          "symbol": "cross-thin"
         },
         "mode": "markers",
         "name": "ursula → theistiner",
         "showlegend": false,
         "text": "<b>ursula → theistiner</b>:<br><br>13<br>",
         "type": "scatter",
         "x": [
          -0.5513447382209734
         ],
         "y": [
          -0.44420102493515257
         ]
        },
        {
         "hoverinfo": "skip",
         "legendgroup": "ursula → ein_ritter",
         "line": {
          "color": "green",
          "smoothing": 1.3,
          "width": 1.2212389380530975
         },
         "mode": "lines",
         "name": "ursula → ein_ritter",
         "opacity": 0.5,
         "showlegend": false,
         "type": "scatter",
         "x": [
          -0.5976765593381522,
          -0.36703410602266506
         ],
         "y": [
          -0.42704650915767023,
          -0.30233065258669184
         ]
        },
        {
         "hoverinfo": "text",
         "marker": {
          "color": "green",
          "opacity": 0.4,
          "size": 1.2212389380530975,
          "symbol": "cross-thin"
         },
         "mode": "markers",
         "name": "ursula → ein_ritter",
         "showlegend": false,
         "text": "<b>ursula → ein_ritter</b>:<br><br>13<br>",
         "type": "scatter",
         "x": [
          -0.5746123140066035
         ],
         "y": [
          -0.4145749235005724
         ]
        },
        {
         "hoverinfo": "skip",
         "legendgroup": "ursula → gertrude",
         "line": {
          "color": "green",
          "smoothing": 1.3,
          "width": 1.2212389380530975
         },
         "mode": "lines",
         "name": "ursula → gertrude",
         "opacity": 0.5,
         "showlegend": false,
         "type": "scatter",
         "x": [
          -0.5976765593381522,
          -0.5040364541538961
         ],
         "y": [
          -0.42704650915767023,
          0.14349277018414075
         ]
        },
        {
         "hoverinfo": "text",
         "marker": {
          "color": "green",
          "opacity": 0.4,
          "size": 1.2212389380530975,
          "symbol": "cross-thin"
         },
         "mode": "markers",
         "name": "ursula → gertrude",
         "showlegend": false,
         "text": "<b>ursula → gertrude</b>:<br><br>13<br>",
         "type": "scatter",
         "x": [
          -0.5883125488197267
         ],
         "y": [
          -0.3699925812234891
         ]
        },
        {
         "hoverinfo": "skip",
         "legendgroup": "ursula → eustache",
         "line": {
          "color": "green",
          "smoothing": 1.3,
          "width": 1.2212389380530975
         },
         "mode": "lines",
         "name": "ursula → eustache",
         "opacity": 0.5,
         "showlegend": false,
         "type": "scatter",
         "x": [
          -0.5976765593381522,
          0.15794993503301555
         ],
         "y": [
          -0.42704650915767023,
          -0.21129406443356444
         ]
        },
        {
         "hoverinfo": "text",
         "marker": {
          "color": "green",
          "opacity": 0.4,
          "size": 1.2212389380530975,
          "symbol": "cross-thin"
         },
         "mode": "markers",
         "name": "ursula → eustache",
         "showlegend": false,
         "text": "<b>ursula → eustache</b>:<br><br>13<br>",
         "type": "scatter",
         "x": [
          -0.5221139099010355
         ],
         "y": [
          -0.4054712646852596
         ]
        },
        {
         "hoverinfo": "skip",
         "legendgroup": "ursula → sylvius",
         "line": {
          "color": "green",
          "smoothing": 1.3,
          "width": 1.2212389380530975
         },
         "mode": "lines",
         "name": "ursula → sylvius",
         "opacity": 0.5,
         "showlegend": false,
         "type": "scatter",
         "x": [
          -0.5976765593381522,
          -0.3679330237902063
         ],
         "y": [
          -0.42704650915767023,
          0.061432210336696845
         ]
        },
        {
         "hoverinfo": "text",
         "marker": {
          "color": "green",
          "opacity": 0.4,
          "size": 1.2212389380530975,
          "symbol": "cross-thin"
         },
         "mode": "markers",
         "name": "ursula → sylvius",
         "showlegend": false,
         "text": "<b>ursula → sylvius</b>:<br><br>13<br>",
         "type": "scatter",
         "x": [
          -0.5747022057833577
         ],
         "y": [
          -0.3781986372082335
         ]
        },
        {
         "hoverinfo": "skip",
         "legendgroup": "ursula → johann",
         "line": {
          "color": "green",
          "smoothing": 1.3,
          "width": 1.2212389380530975
         },
         "mode": "lines",
         "name": "ursula → johann",
         "opacity": 0.5,
         "showlegend": false,
         "type": "scatter",
         "x": [
          -0.5976765593381522,
          -0.07561875487925733
         ],
         "y": [
          -0.42704650915767023,
          0.18455698650381022
         ]
        },
        {
         "hoverinfo": "text",
         "marker": {
          "color": "green",
          "opacity": 0.4,
          "size": 1.2212389380530975,
          "symbol": "cross-thin"
         },
         "mode": "markers",
         "name": "ursula → johann",
         "showlegend": false,
         "text": "<b>ursula → johann</b>:<br><br>13<br>",
         "type": "scatter",
         "x": [
          -0.5454707788922628
         ],
         "y": [
          -0.36588615959152215
         ]
        },
        {
         "hoverinfo": "skip",
         "legendgroup": "ursula → alle_5-1",
         "line": {
          "color": "green",
          "smoothing": 1.3,
          "width": 1.2212389380530975
         },
         "mode": "lines",
         "name": "ursula → alle_5-1",
         "opacity": 0.5,
         "showlegend": false,
         "type": "scatter",
         "x": [
          -0.5976765593381522,
          -0.3702621620174359
         ],
         "y": [
          -0.42704650915767023,
          -0.5083384025722265
         ]
        },
        {
         "hoverinfo": "text",
         "marker": {
          "color": "green",
          "opacity": 0.4,
          "size": 1.2212389380530975,
          "symbol": "cross-thin"
         },
         "mode": "markers",
         "name": "ursula → alle_5-1",
         "showlegend": false,
         "text": "<b>ursula → alle_5-1</b>:<br><br>13<br>",
         "type": "scatter",
         "x": [
          -0.5749351196060807
         ],
         "y": [
          -0.43517569849912585
         ]
        },
        {
         "hoverinfo": "skip",
         "legendgroup": "alle_5-1 → agnes",
         "line": {
          "color": "green",
          "smoothing": 1.3,
          "width": 1.2212389380530975
         },
         "mode": "lines",
         "name": "alle_5-1 → agnes",
         "opacity": 0.5,
         "showlegend": false,
         "type": "scatter",
         "x": [
          -0.3702621620174359,
          -0.6633165401762209
         ],
         "y": [
          -0.5083384025722265,
          0.0856420375823834
         ]
        },
        {
         "hoverinfo": "text",
         "marker": {
          "color": "green",
          "opacity": 0.4,
          "size": 1.2212389380530975,
          "symbol": "cross-thin"
         },
         "mode": "markers",
         "name": "alle_5-1 → agnes",
         "showlegend": false,
         "text": "<b>alle_5-1 → agnes</b>:<br><br>13<br>",
         "type": "scatter",
         "x": [
          -0.3995675998333144
         ],
         "y": [
          -0.4489403585567655
         ]
        },
        {
         "hoverinfo": "skip",
         "legendgroup": "alle_5-1 → barnabe",
         "line": {
          "color": "green",
          "smoothing": 1.3,
          "width": 1.2212389380530975
         },
         "mode": "lines",
         "name": "alle_5-1 → barnabe",
         "opacity": 0.5,
         "showlegend": false,
         "type": "scatter",
         "x": [
          -0.3702621620174359,
          -0.7582051386371653
         ],
         "y": [
          -0.5083384025722265,
          -0.32079437213940637
         ]
        },
        {
         "hoverinfo": "text",
         "marker": {
          "color": "green",
          "opacity": 0.4,
          "size": 1.2212389380530975,
          "symbol": "cross-thin"
         },
         "mode": "markers",
         "name": "alle_5-1 → barnabe",
         "showlegend": false,
         "text": "<b>alle_5-1 → barnabe</b>:<br><br>13<br>",
         "type": "scatter",
         "x": [
          -0.40905645967940885
         ],
         "y": [
          -0.4895839995289445
         ]
        },
        {
         "hoverinfo": "skip",
         "legendgroup": "alle_5-1 → ottokar",
         "line": {
          "color": "green",
          "smoothing": 1.3,
          "width": 1.2212389380530975
         },
         "mode": "lines",
         "name": "alle_5-1 → ottokar",
         "opacity": 0.5,
         "showlegend": false,
         "type": "scatter",
         "x": [
          -0.3702621620174359,
          0.2730079225516097
         ],
         "y": [
          -0.5083384025722265,
          0.02576232963849259
         ]
        },
        {
         "hoverinfo": "text",
         "marker": {
          "color": "green",
          "opacity": 0.4,
          "size": 1.2212389380530975,
          "symbol": "cross-thin"
         },
         "mode": "markers",
         "name": "alle_5-1 → ottokar",
         "showlegend": false,
         "text": "<b>alle_5-1 → ottokar</b>:<br><br>13<br>",
         "type": "scatter",
         "x": [
          -0.30593515356053136
         ],
         "y": [
          -0.4549283293511546
         ]
        },
        {
         "hoverinfo": "skip",
         "legendgroup": "alle_5-1 → rupert",
         "line": {
          "color": "green",
          "smoothing": 1.3,
          "width": 1.2212389380530975
         },
         "mode": "lines",
         "name": "alle_5-1 → rupert",
         "opacity": 0.5,
         "showlegend": false,
         "type": "scatter",
         "x": [
          -0.3702621620174359,
          0.15852202608362587
         ],
         "y": [
          -0.5083384025722265,
          -0.11160116329979293
         ]
        },
        {
         "hoverinfo": "text",
         "marker": {
          "color": "green",
          "opacity": 0.4,
          "size": 1.2212389380530975,
          "symbol": "cross-thin"
         },
         "mode": "markers",
         "name": "alle_5-1 → rupert",
         "showlegend": false,
         "text": "<b>alle_5-1 → rupert</b>:<br><br>13<br>",
         "type": "scatter",
         "x": [
          -0.31738374320732976
         ],
         "y": [
          -0.4686646786449832
         ]
        },
        {
         "hoverinfo": "skip",
         "legendgroup": "alle_5-1 → santing",
         "line": {
          "color": "green",
          "smoothing": 1.3,
          "width": 1.2212389380530975
         },
         "mode": "lines",
         "name": "alle_5-1 → santing",
         "opacity": 0.5,
         "showlegend": false,
         "type": "scatter",
         "x": [
          -0.3702621620174359,
          0.06118065718030175
         ],
         "y": [
          -0.5083384025722265,
          -0.37654718144677773
         ]
        },
        {
         "hoverinfo": "text",
         "marker": {
          "color": "green",
          "opacity": 0.4,
          "size": 1.2212389380530975,
          "symbol": "cross-thin"
         },
         "mode": "markers",
         "name": "alle_5-1 → santing",
         "showlegend": false,
         "text": "<b>alle_5-1 → santing</b>:<br><br>13<br>",
         "type": "scatter",
         "x": [
          -0.32711788009766213
         ],
         "y": [
          -0.4951592804596816
         ]
        },
        {
         "hoverinfo": "skip",
         "legendgroup": "alle_5-1 → sylvester",
         "line": {
          "color": "green",
          "smoothing": 1.3,
          "width": 1.2212389380530975
         },
         "mode": "lines",
         "name": "alle_5-1 → sylvester",
         "opacity": 0.5,
         "showlegend": false,
         "type": "scatter",
         "x": [
          -0.3702621620174359,
          -0.3722337039749577
         ],
         "y": [
          -0.5083384025722265,
          0.23070930968089287
         ]
        },
        {
         "hoverinfo": "text",
         "marker": {
          "color": "green",
          "opacity": 0.4,
          "size": 1.2212389380530975,
          "symbol": "cross-thin"
         },
         "mode": "markers",
         "name": "alle_5-1 → sylvester",
         "showlegend": false,
         "text": "<b>alle_5-1 → sylvester</b>:<br><br>13<br>",
         "type": "scatter",
         "x": [
          -0.3704593162131881
         ],
         "y": [
          -0.4344336313469146
         ]
        },
        {
         "hoverinfo": "skip",
         "legendgroup": "alle_5-1 → theistiner",
         "line": {
          "color": "green",
          "smoothing": 1.3,
          "width": 1.2212389380530975
         },
         "mode": "lines",
         "name": "alle_5-1 → theistiner",
         "opacity": 0.5,
         "showlegend": false,
         "type": "scatter",
         "x": [
          -0.3702621620174359,
          -0.13435834816636363
         ],
         "y": [
          -0.5083384025722265,
          -0.5985916669324939
         ]
        },
        {
         "hoverinfo": "text",
         "marker": {
          "color": "green",
          "opacity": 0.4,
          "size": 1.2212389380530975,
          "symbol": "cross-thin"
         },
         "mode": "markers",
         "name": "alle_5-1 → theistiner",
         "showlegend": false,
         "text": "<b>alle_5-1 → theistiner</b>:<br><br>13<br>",
         "type": "scatter",
         "x": [
          -0.3466717806323287
         ],
         "y": [
          -0.5173637290082532
         ]
        },
        {
         "hoverinfo": "skip",
         "legendgroup": "alle_5-1 → ein_ritter",
         "line": {
          "color": "green",
          "smoothing": 1.3,
          "width": 1.2212389380530975
         },
         "mode": "lines",
         "name": "alle_5-1 → ein_ritter",
         "opacity": 0.5,
         "showlegend": false,
         "type": "scatter",
         "x": [
          -0.3702621620174359,
          -0.36703410602266506
         ],
         "y": [
          -0.5083384025722265,
          -0.30233065258669184
         ]
        },
        {
         "hoverinfo": "text",
         "marker": {
          "color": "green",
          "opacity": 0.4,
          "size": 1.2212389380530975,
          "symbol": "cross-thin"
         },
         "mode": "markers",
         "name": "alle_5-1 → ein_ritter",
         "showlegend": false,
         "text": "<b>alle_5-1 → ein_ritter</b>:<br><br>13<br>",
         "type": "scatter",
         "x": [
          -0.36993935641795883
         ],
         "y": [
          -0.48773762757367306
         ]
        },
        {
         "hoverinfo": "skip",
         "legendgroup": "alle_5-1 → gertrude",
         "line": {
          "color": "green",
          "smoothing": 1.3,
          "width": 1.2212389380530975
         },
         "mode": "lines",
         "name": "alle_5-1 → gertrude",
         "opacity": 0.5,
         "showlegend": false,
         "type": "scatter",
         "x": [
          -0.3702621620174359,
          -0.5040364541538961
         ],
         "y": [
          -0.5083384025722265,
          0.14349277018414075
         ]
        },
        {
         "hoverinfo": "text",
         "marker": {
          "color": "green",
          "opacity": 0.4,
          "size": 1.2212389380530975,
          "symbol": "cross-thin"
         },
         "mode": "markers",
         "name": "alle_5-1 → gertrude",
         "showlegend": false,
         "text": "<b>alle_5-1 → gertrude</b>:<br><br>13<br>",
         "type": "scatter",
         "x": [
          -0.38363959123108193
         ],
         "y": [
          -0.44315528529658976
         ]
        },
        {
         "hoverinfo": "skip",
         "legendgroup": "alle_5-1 → eustache",
         "line": {
          "color": "green",
          "smoothing": 1.3,
          "width": 1.2212389380530975
         },
         "mode": "lines",
         "name": "alle_5-1 → eustache",
         "opacity": 0.5,
         "showlegend": false,
         "type": "scatter",
         "x": [
          -0.3702621620174359,
          0.15794993503301555
         ],
         "y": [
          -0.5083384025722265,
          -0.21129406443356444
         ]
        },
        {
         "hoverinfo": "text",
         "marker": {
          "color": "green",
          "opacity": 0.4,
          "size": 1.2212389380530975,
          "symbol": "cross-thin"
         },
         "mode": "markers",
         "name": "alle_5-1 → eustache",
         "showlegend": false,
         "text": "<b>alle_5-1 → eustache</b>:<br><br>13<br>",
         "type": "scatter",
         "x": [
          -0.3174409523123908
         ],
         "y": [
          -0.4786339687583603
         ]
        },
        {
         "hoverinfo": "skip",
         "legendgroup": "alle_5-1 → sylvius",
         "line": {
          "color": "green",
          "smoothing": 1.3,
          "width": 1.2212389380530975
         },
         "mode": "lines",
         "name": "alle_5-1 → sylvius",
         "opacity": 0.5,
         "showlegend": false,
         "type": "scatter",
         "x": [
          -0.3702621620174359,
          -0.3679330237902063
         ],
         "y": [
          -0.5083384025722265,
          0.061432210336696845
         ]
        },
        {
         "hoverinfo": "text",
         "marker": {
          "color": "green",
          "opacity": 0.4,
          "size": 1.2212389380530975,
          "symbol": "cross-thin"
         },
         "mode": "markers",
         "name": "alle_5-1 → sylvius",
         "showlegend": false,
         "text": "<b>alle_5-1 → sylvius</b>:<br><br>13<br>",
         "type": "scatter",
         "x": [
          -0.37002924819471295
         ],
         "y": [
          -0.45136134128133415
         ]
        },
        {
         "hoverinfo": "skip",
         "legendgroup": "alle_5-1 → johann",
         "line": {
          "color": "green",
          "smoothing": 1.3,
          "width": 1.2212389380530975
         },
         "mode": "lines",
         "name": "alle_5-1 → johann",
         "opacity": 0.5,
         "showlegend": false,
         "type": "scatter",
         "x": [
          -0.3702621620174359,
          -0.07561875487925733
         ],
         "y": [
          -0.5083384025722265,
          0.18455698650381022
         ]
        },
        {
         "hoverinfo": "text",
         "marker": {
          "color": "green",
          "opacity": 0.4,
          "size": 1.2212389380530975,
          "symbol": "cross-thin"
         },
         "mode": "markers",
         "name": "alle_5-1 → johann",
         "showlegend": false,
         "text": "<b>alle_5-1 → johann</b>:<br><br>13<br>",
         "type": "scatter",
         "x": [
          -0.3407978213036181
         ],
         "y": [
          -0.4390488636646228
         ]
        },
        {
         "hoverinfo": "skip",
         "legendgroup": "alle_5-1 → ursula",
         "line": {
          "color": "green",
          "smoothing": 1.3,
          "width": 1.2212389380530975
         },
         "mode": "lines",
         "name": "alle_5-1 → ursula",
         "opacity": 0.5,
         "showlegend": false,
         "type": "scatter",
         "x": [
          -0.3702621620174359,
          -0.5976765593381522
         ],
         "y": [
          -0.5083384025722265,
          -0.42704650915767023
         ]
        },
        {
         "hoverinfo": "text",
         "marker": {
          "color": "green",
          "opacity": 0.4,
          "size": 1.2212389380530975,
          "symbol": "cross-thin"
         },
         "mode": "markers",
         "name": "alle_5-1 → ursula",
         "showlegend": false,
         "text": "<b>alle_5-1 → ursula</b>:<br><br>13<br>",
         "type": "scatter",
         "x": [
          -0.39300360174950755
         ],
         "y": [
          -0.5002092132307709
         ]
        },
        {
         "hoverinfo": "text",
         "legendgroup": "chor_der_maedchen",
         "marker": {
          "color": "blue",
          "opacity": 0.5,
          "size": 24
         },
         "mode": "markers+text",
         "opacity": 0.5,
         "showlegend": false,
         "text": "chor_der_maedchen",
         "textfont": {
          "size": 11
         },
         "type": "scatter",
         "x": [
          0.6893631754005448
         ],
         "y": [
          0.27012959002182513
         ]
        },
        {
         "hoverinfo": "text",
         "legendgroup": "chor_der_juenglinge",
         "marker": {
          "color": "blue",
          "opacity": 0.5,
          "size": 24
         },
         "mode": "markers+text",
         "opacity": 0.5,
         "showlegend": false,
         "text": "chor_der_juenglinge",
         "textfont": {
          "size": 11
         },
         "type": "scatter",
         "x": [
          0.6428506508991912
         ],
         "y": [
          0.47513768752599617
         ]
        },
        {
         "hoverinfo": "text",
         "legendgroup": "rupert",
         "marker": {
          "color": "blue",
          "opacity": 0.5,
          "size": 69
         },
         "mode": "markers+text",
         "opacity": 0.5,
         "showlegend": false,
         "text": "rupert",
         "textfont": {
          "size": 26
         },
         "type": "scatter",
         "x": [
          0.15852202608362587
         ],
         "y": [
          -0.11160116329979293
         ]
        },
        {
         "hoverinfo": "text",
         "legendgroup": "ottokar",
         "marker": {
          "color": "blue",
          "opacity": 0.5,
          "size": 57
         },
         "mode": "markers+text",
         "opacity": 0.5,
         "showlegend": false,
         "text": "ottokar",
         "textfont": {
          "size": 22
         },
         "type": "scatter",
         "x": [
          0.2730079225516097
         ],
         "y": [
          0.02576232963849259
         ]
        },
        {
         "hoverinfo": "text",
         "legendgroup": "eustache",
         "marker": {
          "color": "blue",
          "opacity": 0.5,
          "size": 72
         },
         "mode": "markers+text",
         "opacity": 0.5,
         "showlegend": false,
         "text": "eustache",
         "textfont": {
          "size": 27
         },
         "type": "scatter",
         "x": [
          0.15794993503301555
         ],
         "y": [
          -0.21129406443356444
         ]
        },
        {
         "hoverinfo": "text",
         "legendgroup": "jeronimus",
         "marker": {
          "color": "blue",
          "opacity": 0.5,
          "size": 63
         },
         "mode": "markers+text",
         "opacity": 0.5,
         "showlegend": false,
         "text": "jeronimus",
         "textfont": {
          "size": 24
         },
         "type": "scatter",
         "x": [
          0.11987714696755482
         ],
         "y": [
          0.3596944311525341
         ]
        },
        {
         "hoverinfo": "text",
         "legendgroup": "kirchenvogt",
         "marker": {
          "color": "blue",
          "opacity": 0.5,
          "size": 24
         },
         "mode": "markers+text",
         "opacity": 0.5,
         "showlegend": false,
         "text": "kirchenvogt",
         "textfont": {
          "size": 11
         },
         "type": "scatter",
         "x": [
          0.4816195681573746
         ],
         "y": [
          0.6208273887846426
         ]
        },
        {
         "hoverinfo": "text",
         "legendgroup": "ein_diener_1-1",
         "marker": {
          "color": "blue",
          "opacity": 0.5,
          "size": 24
         },
         "mode": "markers+text",
         "opacity": 0.5,
         "showlegend": false,
         "text": "ein_diener_1-1",
         "textfont": {
          "size": 11
         },
         "type": "scatter",
         "x": [
          0.2718200694555047
         ],
         "y": [
          0.6891212709220258
         ]
        },
        {
         "hoverinfo": "text",
         "legendgroup": "johann",
         "marker": {
          "color": "blue",
          "opacity": 0.5,
          "size": 57
         },
         "mode": "markers+text",
         "opacity": 0.5,
         "showlegend": false,
         "text": "johann",
         "textfont": {
          "size": 22
         },
         "type": "scatter",
         "x": [
          -0.07561875487925733
         ],
         "y": [
          0.18455698650381022
         ]
        },
        {
         "hoverinfo": "text",
         "legendgroup": "sylvius",
         "marker": {
          "color": "blue",
          "opacity": 0.5,
          "size": 51
         },
         "mode": "markers+text",
         "opacity": 0.5,
         "showlegend": false,
         "text": "sylvius",
         "textfont": {
          "size": 20
         },
         "type": "scatter",
         "x": [
          -0.3679330237902063
         ],
         "y": [
          0.061432210336696845
         ]
        },
        {
         "hoverinfo": "text",
         "legendgroup": "agnes",
         "marker": {
          "color": "blue",
          "opacity": 0.5,
          "size": 54
         },
         "mode": "markers+text",
         "opacity": 0.5,
         "showlegend": false,
         "text": "agnes",
         "textfont": {
          "size": 21
         },
         "type": "scatter",
         "x": [
          -0.6633165401762209
         ],
         "y": [
          0.0856420375823834
         ]
        },
        {
         "hoverinfo": "text",
         "legendgroup": "gertrude",
         "marker": {
          "color": "blue",
          "opacity": 0.5,
          "size": 54
         },
         "mode": "markers+text",
         "opacity": 0.5,
         "showlegend": false,
         "text": "gertrude",
         "textfont": {
          "size": 21
         },
         "type": "scatter",
         "x": [
          -0.5040364541538961
         ],
         "y": [
          0.14349277018414075
         ]
        },
        {
         "hoverinfo": "text",
         "legendgroup": "sylvester",
         "marker": {
          "color": "blue",
          "opacity": 0.5,
          "size": 54
         },
         "mode": "markers+text",
         "opacity": 0.5,
         "showlegend": false,
         "text": "sylvester",
         "textfont": {
          "size": 21
         },
         "type": "scatter",
         "x": [
          -0.3722337039749577
         ],
         "y": [
          0.23070930968089287
         ]
        },
        {
         "hoverinfo": "text",
         "legendgroup": "gaertner",
         "marker": {
          "color": "blue",
          "opacity": 0.5,
          "size": 21
         },
         "mode": "markers+text",
         "opacity": 0.5,
         "showlegend": false,
         "text": "gaertner",
         "textfont": {
          "size": 10
         },
         "type": "scatter",
         "x": [
          -0.22809852688752077
         ],
         "y": [
          0.8394833833437474
         ]
        },
        {
         "hoverinfo": "text",
         "legendgroup": "ein_knappe",
         "marker": {
          "color": "blue",
          "opacity": 0.5,
          "size": 21
         },
         "mode": "markers+text",
         "opacity": 0.5,
         "showlegend": false,
         "text": "ein_knappe",
         "textfont": {
          "size": 10
         },
         "type": "scatter",
         "x": [
          -0.46105251409487097
         ],
         "y": [
          0.8104293708137084
         ]
        },
        {
         "hoverinfo": "text",
         "legendgroup": "aldoebern",
         "marker": {
          "color": "blue",
          "opacity": 0.5,
          "size": 21
         },
         "mode": "markers+text",
         "opacity": 0.5,
         "showlegend": false,
         "text": "aldoebern",
         "textfont": {
          "size": 10
         },
         "type": "scatter",
         "x": [
          -0.6821194093573768
         ],
         "y": [
          0.6837531407188645
         ]
        },
        {
         "hoverinfo": "text",
         "legendgroup": "theistiner",
         "marker": {
          "color": "blue",
          "opacity": 0.5,
          "size": 42
         },
         "mode": "markers+text",
         "opacity": 0.5,
         "showlegend": false,
         "text": "theistiner",
         "textfont": {
          "size": 17
         },
         "type": "scatter",
         "x": [
          -0.13435834816636363
         ],
         "y": [
          -0.5985916669324939
         ]
        },
        {
         "hoverinfo": "text",
         "legendgroup": "ein_diener_2-3",
         "marker": {
          "color": "blue",
          "opacity": 0.5,
          "size": 15
         },
         "mode": "markers+text",
         "opacity": 0.5,
         "showlegend": false,
         "text": "ein_diener_2-3",
         "textfont": {
          "size": 8
         },
         "type": "scatter",
         "x": [
          -0.8119224187558353
         ],
         "y": [
          0.5296226138744882
         ]
        },
        {
         "hoverinfo": "text",
         "legendgroup": "santing",
         "marker": {
          "color": "blue",
          "opacity": 0.5,
          "size": 57
         },
         "mode": "markers+text",
         "opacity": 0.5,
         "showlegend": false,
         "text": "santing",
         "textfont": {
          "size": 22
         },
         "type": "scatter",
         "x": [
          0.06118065718030175
         ],
         "y": [
          -0.37654718144677773
         ]
        },
        {
         "hoverinfo": "text",
         "legendgroup": "ein_diener_3-2",
         "marker": {
          "color": "blue",
          "opacity": 0.5,
          "size": 18
         },
         "mode": "markers+text",
         "opacity": 0.5,
         "showlegend": false,
         "text": "ein_diener_3-2",
         "textfont": {
          "size": 9
         },
         "type": "scatter",
         "x": [
          0.5993253687359638
         ],
         "y": [
          -0.44293204311128104
         ]
        },
        {
         "hoverinfo": "text",
         "legendgroup": "der_wanderer",
         "marker": {
          "color": "blue",
          "opacity": 0.5,
          "size": 18
         },
         "mode": "markers+text",
         "opacity": 0.5,
         "showlegend": false,
         "text": "der_wanderer",
         "textfont": {
          "size": 9
         },
         "type": "scatter",
         "x": [
          0.7711730888841103
         ],
         "y": [
          -0.1988243915830265
         ]
        },
        {
         "hoverinfo": "text",
         "legendgroup": "zweiter_wanderer",
         "marker": {
          "color": "blue",
          "opacity": 0.5,
          "size": 18
         },
         "mode": "markers+text",
         "opacity": 0.5,
         "showlegend": false,
         "text": "zweiter_wanderer",
         "textfont": {
          "size": 9
         },
         "type": "scatter",
         "x": [
          0.7772503926819285
         ],
         "y": [
          0.05104419631268521
         ]
        },
        {
         "hoverinfo": "text",
         "legendgroup": "die_kammerzofe",
         "marker": {
          "color": "blue",
          "opacity": 0.5,
          "size": 12
         },
         "mode": "markers+text",
         "opacity": 0.5,
         "showlegend": false,
         "text": "die_kammerzofe",
         "textfont": {
          "size": 7
         },
         "type": "scatter",
         "x": [
          0.09015422320494652
         ],
         "y": [
          -1
         ]
        },
        {
         "hoverinfo": "text",
         "legendgroup": "ein_diener_4-1",
         "marker": {
          "color": "blue",
          "opacity": 0.5,
          "size": 12
         },
         "mode": "markers+text",
         "opacity": 0.5,
         "showlegend": false,
         "text": "ein_diener_4-1",
         "textfont": {
          "size": 7
         },
         "type": "scatter",
         "x": [
          0.4452389232238448
         ],
         "y": [
          -0.9010088601234133
         ]
        },
        {
         "hoverinfo": "text",
         "legendgroup": "barnabe",
         "marker": {
          "color": "blue",
          "opacity": 0.5,
          "size": 39
         },
         "mode": "markers+text",
         "opacity": 0.5,
         "showlegend": false,
         "text": "barnabe",
         "textfont": {
          "size": 16
         },
         "type": "scatter",
         "x": [
          -0.7582051386371653
         ],
         "y": [
          -0.32079437213940637
         ]
        },
        {
         "hoverinfo": "text",
         "legendgroup": "ursula",
         "marker": {
          "color": "blue",
          "opacity": 0.5,
          "size": 39
         },
         "mode": "markers+text",
         "opacity": 0.5,
         "showlegend": false,
         "text": "ursula",
         "textfont": {
          "size": 16
         },
         "type": "scatter",
         "x": [
          -0.5976765593381522
         ],
         "y": [
          -0.42704650915767023
         ]
        },
        {
         "hoverinfo": "text",
         "legendgroup": "fintenring",
         "marker": {
          "color": "blue",
          "opacity": 0.5,
          "size": 6
         },
         "mode": "markers+text",
         "opacity": 0.5,
         "showlegend": false,
         "text": "fintenring",
         "textfont": {
          "size": 5
         },
         "type": "scatter",
         "x": [
          0.8545345117924076
         ],
         "y": [
          -0.6615294100105895
         ]
        },
        {
         "hoverinfo": "text",
         "legendgroup": "ein_ritter",
         "marker": {
          "color": "blue",
          "opacity": 0.5,
          "size": 39
         },
         "mode": "markers+text",
         "opacity": 0.5,
         "showlegend": false,
         "text": "ein_ritter",
         "textfont": {
          "size": 16
         },
         "type": "scatter",
         "x": [
          -0.36703410602266506
         ],
         "y": [
          -0.30233065258669184
         ]
        },
        {
         "hoverinfo": "text",
         "legendgroup": "alle_5-1",
         "marker": {
          "color": "blue",
          "opacity": 0.5,
          "size": 39
         },
         "mode": "markers+text",
         "opacity": 0.5,
         "showlegend": false,
         "text": "alle_5-1",
         "textfont": {
          "size": 16
         },
         "type": "scatter",
         "x": [
          -0.3702621620174359
         ],
         "y": [
          -0.5083384025722265
         ]
        },
        {
         "hoverinfo": "text",
         "legendgroup": "ursula",
         "marker": {
          "color": "red",
          "opacity": 0.5,
          "size": 24
         },
         "mode": "markers",
         "opacity": 0.5,
         "showlegend": false,
         "text": "CHOR_DER_MAEDCHEN<br>indegree: 8<br>outdegree: 8",
         "type": "scatter",
         "x": [
          0.6893631754005448
         ],
         "y": [
          0.27012959002182513
         ]
        },
        {
         "hoverinfo": "text",
         "legendgroup": "ursula",
         "marker": {
          "color": "red",
          "opacity": 0.5,
          "size": 24
         },
         "mode": "markers",
         "opacity": 0.5,
         "showlegend": false,
         "text": "CHOR_DER_JUENGLINGE<br>indegree: 8<br>outdegree: 8",
         "type": "scatter",
         "x": [
          0.6428506508991912
         ],
         "y": [
          0.47513768752599617
         ]
        },
        {
         "hoverinfo": "text",
         "legendgroup": "ursula",
         "marker": {
          "color": "red",
          "opacity": 0.5,
          "size": 69
         },
         "mode": "markers",
         "opacity": 0.5,
         "showlegend": false,
         "text": "RUPERT<br>indegree: 23<br>outdegree: 23",
         "type": "scatter",
         "x": [
          0.15852202608362587
         ],
         "y": [
          -0.11160116329979293
         ]
        },
        {
         "hoverinfo": "text",
         "legendgroup": "ursula",
         "marker": {
          "color": "red",
          "opacity": 0.5,
          "size": 57
         },
         "mode": "markers",
         "opacity": 0.5,
         "showlegend": false,
         "text": "OTTOKAR<br>indegree: 19<br>outdegree: 19",
         "type": "scatter",
         "x": [
          0.2730079225516097
         ],
         "y": [
          0.02576232963849259
         ]
        },
        {
         "hoverinfo": "text",
         "legendgroup": "ursula",
         "marker": {
          "color": "red",
          "opacity": 0.5,
          "size": 72
         },
         "mode": "markers",
         "opacity": 0.5,
         "showlegend": false,
         "text": "EUSTACHE<br>indegree: 24<br>outdegree: 24",
         "type": "scatter",
         "x": [
          0.15794993503301555
         ],
         "y": [
          -0.21129406443356444
         ]
        },
        {
         "hoverinfo": "text",
         "legendgroup": "ursula",
         "marker": {
          "color": "red",
          "opacity": 0.5,
          "size": 63
         },
         "mode": "markers",
         "opacity": 0.5,
         "showlegend": false,
         "text": "JERONIMUS<br>indegree: 21<br>outdegree: 21",
         "type": "scatter",
         "x": [
          0.11987714696755482
         ],
         "y": [
          0.3596944311525341
         ]
        },
        {
         "hoverinfo": "text",
         "legendgroup": "ursula",
         "marker": {
          "color": "red",
          "opacity": 0.5,
          "size": 24
         },
         "mode": "markers",
         "opacity": 0.5,
         "showlegend": false,
         "text": "KIRCHENVOGT<br>indegree: 8<br>outdegree: 8",
         "type": "scatter",
         "x": [
          0.4816195681573746
         ],
         "y": [
          0.6208273887846426
         ]
        },
        {
         "hoverinfo": "text",
         "legendgroup": "ursula",
         "marker": {
          "color": "red",
          "opacity": 0.5,
          "size": 24
         },
         "mode": "markers",
         "opacity": 0.5,
         "showlegend": false,
         "text": "EIN_DIENER_1-1<br>indegree: 8<br>outdegree: 8",
         "type": "scatter",
         "x": [
          0.2718200694555047
         ],
         "y": [
          0.6891212709220258
         ]
        },
        {
         "hoverinfo": "text",
         "legendgroup": "ursula",
         "marker": {
          "color": "red",
          "opacity": 0.5,
          "size": 57
         },
         "mode": "markers",
         "opacity": 0.5,
         "showlegend": false,
         "text": "JOHANN<br>indegree: 19<br>outdegree: 19",
         "type": "scatter",
         "x": [
          -0.07561875487925733
         ],
         "y": [
          0.18455698650381022
         ]
        },
        {
         "hoverinfo": "text",
         "legendgroup": "ursula",
         "marker": {
          "color": "red",
          "opacity": 0.5,
          "size": 51
         },
         "mode": "markers",
         "opacity": 0.5,
         "showlegend": false,
         "text": "SYLVIUS<br>indegree: 17<br>outdegree: 17",
         "type": "scatter",
         "x": [
          -0.3679330237902063
         ],
         "y": [
          0.061432210336696845
         ]
        },
        {
         "hoverinfo": "text",
         "legendgroup": "ursula",
         "marker": {
          "color": "red",
          "opacity": 0.5,
          "size": 54
         },
         "mode": "markers",
         "opacity": 0.5,
         "showlegend": false,
         "text": "AGNES<br>indegree: 18<br>outdegree: 18",
         "type": "scatter",
         "x": [
          -0.6633165401762209
         ],
         "y": [
          0.0856420375823834
         ]
        },
        {
         "hoverinfo": "text",
         "legendgroup": "ursula",
         "marker": {
          "color": "red",
          "opacity": 0.5,
          "size": 54
         },
         "mode": "markers",
         "opacity": 0.5,
         "showlegend": false,
         "text": "GERTRUDE<br>indegree: 18<br>outdegree: 18",
         "type": "scatter",
         "x": [
          -0.5040364541538961
         ],
         "y": [
          0.14349277018414075
         ]
        },
        {
         "hoverinfo": "text",
         "legendgroup": "ursula",
         "marker": {
          "color": "red",
          "opacity": 0.5,
          "size": 54
         },
         "mode": "markers",
         "opacity": 0.5,
         "showlegend": false,
         "text": "SYLVESTER<br>indegree: 18<br>outdegree: 18",
         "type": "scatter",
         "x": [
          -0.3722337039749577
         ],
         "y": [
          0.23070930968089287
         ]
        },
        {
         "hoverinfo": "text",
         "legendgroup": "ursula",
         "marker": {
          "color": "red",
          "opacity": 0.5,
          "size": 21
         },
         "mode": "markers",
         "opacity": 0.5,
         "showlegend": false,
         "text": "GAERTNER<br>indegree: 7<br>outdegree: 7",
         "type": "scatter",
         "x": [
          -0.22809852688752077
         ],
         "y": [
          0.8394833833437474
         ]
        },
        {
         "hoverinfo": "text",
         "legendgroup": "ursula",
         "marker": {
          "color": "red",
          "opacity": 0.5,
          "size": 21
         },
         "mode": "markers",
         "opacity": 0.5,
         "showlegend": false,
         "text": "EIN_KNAPPE<br>indegree: 7<br>outdegree: 7",
         "type": "scatter",
         "x": [
          -0.46105251409487097
         ],
         "y": [
          0.8104293708137084
         ]
        },
        {
         "hoverinfo": "text",
         "legendgroup": "ursula",
         "marker": {
          "color": "red",
          "opacity": 0.5,
          "size": 21
         },
         "mode": "markers",
         "opacity": 0.5,
         "showlegend": false,
         "text": "ALDOEBERN<br>indegree: 7<br>outdegree: 7",
         "type": "scatter",
         "x": [
          -0.6821194093573768
         ],
         "y": [
          0.6837531407188645
         ]
        },
        {
         "hoverinfo": "text",
         "legendgroup": "ursula",
         "marker": {
          "color": "red",
          "opacity": 0.5,
          "size": 42
         },
         "mode": "markers",
         "opacity": 0.5,
         "showlegend": false,
         "text": "THEISTINER<br>indegree: 14<br>outdegree: 14",
         "type": "scatter",
         "x": [
          -0.13435834816636363
         ],
         "y": [
          -0.5985916669324939
         ]
        },
        {
         "hoverinfo": "text",
         "legendgroup": "ursula",
         "marker": {
          "color": "red",
          "opacity": 0.5,
          "size": 15
         },
         "mode": "markers",
         "opacity": 0.5,
         "showlegend": false,
         "text": "EIN_DIENER_2-3<br>indegree: 5<br>outdegree: 5",
         "type": "scatter",
         "x": [
          -0.8119224187558353
         ],
         "y": [
          0.5296226138744882
         ]
        },
        {
         "hoverinfo": "text",
         "legendgroup": "ursula",
         "marker": {
          "color": "red",
          "opacity": 0.5,
          "size": 57
         },
         "mode": "markers",
         "opacity": 0.5,
         "showlegend": false,
         "text": "SANTING<br>indegree: 19<br>outdegree: 19",
         "type": "scatter",
         "x": [
          0.06118065718030175
         ],
         "y": [
          -0.37654718144677773
         ]
        },
        {
         "hoverinfo": "text",
         "legendgroup": "ursula",
         "marker": {
          "color": "red",
          "opacity": 0.5,
          "size": 18
         },
         "mode": "markers",
         "opacity": 0.5,
         "showlegend": false,
         "text": "EIN_DIENER_3-2<br>indegree: 6<br>outdegree: 6",
         "type": "scatter",
         "x": [
          0.5993253687359638
         ],
         "y": [
          -0.44293204311128104
         ]
        },
        {
         "hoverinfo": "text",
         "legendgroup": "ursula",
         "marker": {
          "color": "red",
          "opacity": 0.5,
          "size": 18
         },
         "mode": "markers",
         "opacity": 0.5,
         "showlegend": false,
         "text": "DER_WANDERER<br>indegree: 6<br>outdegree: 6",
         "type": "scatter",
         "x": [
          0.7711730888841103
         ],
         "y": [
          -0.1988243915830265
         ]
        },
        {
         "hoverinfo": "text",
         "legendgroup": "ursula",
         "marker": {
          "color": "red",
          "opacity": 0.5,
          "size": 18
         },
         "mode": "markers",
         "opacity": 0.5,
         "showlegend": false,
         "text": "ZWEITER_WANDERER<br>indegree: 6<br>outdegree: 6",
         "type": "scatter",
         "x": [
          0.7772503926819285
         ],
         "y": [
          0.05104419631268521
         ]
        },
        {
         "hoverinfo": "text",
         "legendgroup": "ursula",
         "marker": {
          "color": "red",
          "opacity": 0.5,
          "size": 12
         },
         "mode": "markers",
         "opacity": 0.5,
         "showlegend": false,
         "text": "DIE_KAMMERZOFE<br>indegree: 4<br>outdegree: 4",
         "type": "scatter",
         "x": [
          0.09015422320494652
         ],
         "y": [
          -1
         ]
        },
        {
         "hoverinfo": "text",
         "legendgroup": "ursula",
         "marker": {
          "color": "red",
          "opacity": 0.5,
          "size": 12
         },
         "mode": "markers",
         "opacity": 0.5,
         "showlegend": false,
         "text": "EIN_DIENER_4-1<br>indegree: 4<br>outdegree: 4",
         "type": "scatter",
         "x": [
          0.4452389232238448
         ],
         "y": [
          -0.9010088601234133
         ]
        },
        {
         "hoverinfo": "text",
         "legendgroup": "ursula",
         "marker": {
          "color": "red",
          "opacity": 0.5,
          "size": 39
         },
         "mode": "markers",
         "opacity": 0.5,
         "showlegend": false,
         "text": "BARNABE<br>indegree: 13<br>outdegree: 13",
         "type": "scatter",
         "x": [
          -0.7582051386371653
         ],
         "y": [
          -0.32079437213940637
         ]
        },
        {
         "hoverinfo": "text",
         "legendgroup": "ursula",
         "marker": {
          "color": "red",
          "opacity": 0.5,
          "size": 39
         },
         "mode": "markers",
         "opacity": 0.5,
         "showlegend": false,
         "text": "URSULA<br>indegree: 13<br>outdegree: 13",
         "type": "scatter",
         "x": [
          -0.5976765593381522
         ],
         "y": [
          -0.42704650915767023
         ]
        },
        {
         "hoverinfo": "text",
         "legendgroup": "ursula",
         "marker": {
          "color": "red",
          "opacity": 0.5,
          "size": 6
         },
         "mode": "markers",
         "opacity": 0.5,
         "showlegend": false,
         "text": "FINTENRING<br>indegree: 2<br>outdegree: 2",
         "type": "scatter",
         "x": [
          0.8545345117924076
         ],
         "y": [
          -0.6615294100105895
         ]
        },
        {
         "hoverinfo": "text",
         "legendgroup": "ursula",
         "marker": {
          "color": "red",
          "opacity": 0.5,
          "size": 39
         },
         "mode": "markers",
         "opacity": 0.5,
         "showlegend": false,
         "text": "EIN_RITTER<br>indegree: 13<br>outdegree: 13",
         "type": "scatter",
         "x": [
          -0.36703410602266506
         ],
         "y": [
          -0.30233065258669184
         ]
        },
        {
         "hoverinfo": "text",
         "legendgroup": "ursula",
         "marker": {
          "color": "red",
          "opacity": 0.5,
          "size": 39
         },
         "mode": "markers",
         "opacity": 0.5,
         "showlegend": false,
         "text": "ALLE_5-1<br>indegree: 13<br>outdegree: 13",
         "type": "scatter",
         "x": [
          -0.3702621620174359
         ],
         "y": [
          -0.5083384025722265
         ]
        }
       ],
       "layout": {
        "height": 600,
        "paper_bgcolor": "rgba(0,0,0,0)",
        "plot_bgcolor": "rgba(0,0,0,0)",
        "template": {
         "data": {
          "bar": [
           {
            "error_x": {
             "color": "#2a3f5f"
            },
            "error_y": {
             "color": "#2a3f5f"
            },
            "marker": {
             "line": {
              "color": "#E5ECF6",
              "width": 0.5
             },
             "pattern": {
              "fillmode": "overlay",
              "size": 10,
              "solidity": 0.2
             }
            },
            "type": "bar"
           }
          ],
          "barpolar": [
           {
            "marker": {
             "line": {
              "color": "#E5ECF6",
              "width": 0.5
             },
             "pattern": {
              "fillmode": "overlay",
              "size": 10,
              "solidity": 0.2
             }
            },
            "type": "barpolar"
           }
          ],
          "carpet": [
           {
            "aaxis": {
             "endlinecolor": "#2a3f5f",
             "gridcolor": "white",
             "linecolor": "white",
             "minorgridcolor": "white",
             "startlinecolor": "#2a3f5f"
            },
            "baxis": {
             "endlinecolor": "#2a3f5f",
             "gridcolor": "white",
             "linecolor": "white",
             "minorgridcolor": "white",
             "startlinecolor": "#2a3f5f"
            },
            "type": "carpet"
           }
          ],
          "choropleth": [
           {
            "colorbar": {
             "outlinewidth": 0,
             "ticks": ""
            },
            "type": "choropleth"
           }
          ],
          "contour": [
           {
            "colorbar": {
             "outlinewidth": 0,
             "ticks": ""
            },
            "colorscale": [
             [
              0,
              "#0d0887"
             ],
             [
              0.1111111111111111,
              "#46039f"
             ],
             [
              0.2222222222222222,
              "#7201a8"
             ],
             [
              0.3333333333333333,
              "#9c179e"
             ],
             [
              0.4444444444444444,
              "#bd3786"
             ],
             [
              0.5555555555555556,
              "#d8576b"
             ],
             [
              0.6666666666666666,
              "#ed7953"
             ],
             [
              0.7777777777777778,
              "#fb9f3a"
             ],
             [
              0.8888888888888888,
              "#fdca26"
             ],
             [
              1,
              "#f0f921"
             ]
            ],
            "type": "contour"
           }
          ],
          "contourcarpet": [
           {
            "colorbar": {
             "outlinewidth": 0,
             "ticks": ""
            },
            "type": "contourcarpet"
           }
          ],
          "heatmap": [
           {
            "colorbar": {
             "outlinewidth": 0,
             "ticks": ""
            },
            "colorscale": [
             [
              0,
              "#0d0887"
             ],
             [
              0.1111111111111111,
              "#46039f"
             ],
             [
              0.2222222222222222,
              "#7201a8"
             ],
             [
              0.3333333333333333,
              "#9c179e"
             ],
             [
              0.4444444444444444,
              "#bd3786"
             ],
             [
              0.5555555555555556,
              "#d8576b"
             ],
             [
              0.6666666666666666,
              "#ed7953"
             ],
             [
              0.7777777777777778,
              "#fb9f3a"
             ],
             [
              0.8888888888888888,
              "#fdca26"
             ],
             [
              1,
              "#f0f921"
             ]
            ],
            "type": "heatmap"
           }
          ],
          "heatmapgl": [
           {
            "colorbar": {
             "outlinewidth": 0,
             "ticks": ""
            },
            "colorscale": [
             [
              0,
              "#0d0887"
             ],
             [
              0.1111111111111111,
              "#46039f"
             ],
             [
              0.2222222222222222,
              "#7201a8"
             ],
             [
              0.3333333333333333,
              "#9c179e"
             ],
             [
              0.4444444444444444,
              "#bd3786"
             ],
             [
              0.5555555555555556,
              "#d8576b"
             ],
             [
              0.6666666666666666,
              "#ed7953"
             ],
             [
              0.7777777777777778,
              "#fb9f3a"
             ],
             [
              0.8888888888888888,
              "#fdca26"
             ],
             [
              1,
              "#f0f921"
             ]
            ],
            "type": "heatmapgl"
           }
          ],
          "histogram": [
           {
            "marker": {
             "pattern": {
              "fillmode": "overlay",
              "size": 10,
              "solidity": 0.2
             }
            },
            "type": "histogram"
           }
          ],
          "histogram2d": [
           {
            "colorbar": {
             "outlinewidth": 0,
             "ticks": ""
            },
            "colorscale": [
             [
              0,
              "#0d0887"
             ],
             [
              0.1111111111111111,
              "#46039f"
             ],
             [
              0.2222222222222222,
              "#7201a8"
             ],
             [
              0.3333333333333333,
              "#9c179e"
             ],
             [
              0.4444444444444444,
              "#bd3786"
             ],
             [
              0.5555555555555556,
              "#d8576b"
             ],
             [
              0.6666666666666666,
              "#ed7953"
             ],
             [
              0.7777777777777778,
              "#fb9f3a"
             ],
             [
              0.8888888888888888,
              "#fdca26"
             ],
             [
              1,
              "#f0f921"
             ]
            ],
            "type": "histogram2d"
           }
          ],
          "histogram2dcontour": [
           {
            "colorbar": {
             "outlinewidth": 0,
             "ticks": ""
            },
            "colorscale": [
             [
              0,
              "#0d0887"
             ],
             [
              0.1111111111111111,
              "#46039f"
             ],
             [
              0.2222222222222222,
              "#7201a8"
             ],
             [
              0.3333333333333333,
              "#9c179e"
             ],
             [
              0.4444444444444444,
              "#bd3786"
             ],
             [
              0.5555555555555556,
              "#d8576b"
             ],
             [
              0.6666666666666666,
              "#ed7953"
             ],
             [
              0.7777777777777778,
              "#fb9f3a"
             ],
             [
              0.8888888888888888,
              "#fdca26"
             ],
             [
              1,
              "#f0f921"
             ]
            ],
            "type": "histogram2dcontour"
           }
          ],
          "mesh3d": [
           {
            "colorbar": {
             "outlinewidth": 0,
             "ticks": ""
            },
            "type": "mesh3d"
           }
          ],
          "parcoords": [
           {
            "line": {
             "colorbar": {
              "outlinewidth": 0,
              "ticks": ""
             }
            },
            "type": "parcoords"
           }
          ],
          "pie": [
           {
            "automargin": true,
            "type": "pie"
           }
          ],
          "scatter": [
           {
            "marker": {
             "colorbar": {
              "outlinewidth": 0,
              "ticks": ""
             }
            },
            "type": "scatter"
           }
          ],
          "scatter3d": [
           {
            "line": {
             "colorbar": {
              "outlinewidth": 0,
              "ticks": ""
             }
            },
            "marker": {
             "colorbar": {
              "outlinewidth": 0,
              "ticks": ""
             }
            },
            "type": "scatter3d"
           }
          ],
          "scattercarpet": [
           {
            "marker": {
             "colorbar": {
              "outlinewidth": 0,
              "ticks": ""
             }
            },
            "type": "scattercarpet"
           }
          ],
          "scattergeo": [
           {
            "marker": {
             "colorbar": {
              "outlinewidth": 0,
              "ticks": ""
             }
            },
            "type": "scattergeo"
           }
          ],
          "scattergl": [
           {
            "marker": {
             "colorbar": {
              "outlinewidth": 0,
              "ticks": ""
             }
            },
            "type": "scattergl"
           }
          ],
          "scattermapbox": [
           {
            "marker": {
             "colorbar": {
              "outlinewidth": 0,
              "ticks": ""
             }
            },
            "type": "scattermapbox"
           }
          ],
          "scatterpolar": [
           {
            "marker": {
             "colorbar": {
              "outlinewidth": 0,
              "ticks": ""
             }
            },
            "type": "scatterpolar"
           }
          ],
          "scatterpolargl": [
           {
            "marker": {
             "colorbar": {
              "outlinewidth": 0,
              "ticks": ""
             }
            },
            "type": "scatterpolargl"
           }
          ],
          "scatterternary": [
           {
            "marker": {
             "colorbar": {
              "outlinewidth": 0,
              "ticks": ""
             }
            },
            "type": "scatterternary"
           }
          ],
          "surface": [
           {
            "colorbar": {
             "outlinewidth": 0,
             "ticks": ""
            },
            "colorscale": [
             [
              0,
              "#0d0887"
             ],
             [
              0.1111111111111111,
              "#46039f"
             ],
             [
              0.2222222222222222,
              "#7201a8"
             ],
             [
              0.3333333333333333,
              "#9c179e"
             ],
             [
              0.4444444444444444,
              "#bd3786"
             ],
             [
              0.5555555555555556,
              "#d8576b"
             ],
             [
              0.6666666666666666,
              "#ed7953"
             ],
             [
              0.7777777777777778,
              "#fb9f3a"
             ],
             [
              0.8888888888888888,
              "#fdca26"
             ],
             [
              1,
              "#f0f921"
             ]
            ],
            "type": "surface"
           }
          ],
          "table": [
           {
            "cells": {
             "fill": {
              "color": "#EBF0F8"
             },
             "line": {
              "color": "white"
             }
            },
            "header": {
             "fill": {
              "color": "#C8D4E3"
             },
             "line": {
              "color": "white"
             }
            },
            "type": "table"
           }
          ]
         },
         "layout": {
          "annotationdefaults": {
           "arrowcolor": "#2a3f5f",
           "arrowhead": 0,
           "arrowwidth": 1
          },
          "autotypenumbers": "strict",
          "coloraxis": {
           "colorbar": {
            "outlinewidth": 0,
            "ticks": ""
           }
          },
          "colorscale": {
           "diverging": [
            [
             0,
             "#8e0152"
            ],
            [
             0.1,
             "#c51b7d"
            ],
            [
             0.2,
             "#de77ae"
            ],
            [
             0.3,
             "#f1b6da"
            ],
            [
             0.4,
             "#fde0ef"
            ],
            [
             0.5,
             "#f7f7f7"
            ],
            [
             0.6,
             "#e6f5d0"
            ],
            [
             0.7,
             "#b8e186"
            ],
            [
             0.8,
             "#7fbc41"
            ],
            [
             0.9,
             "#4d9221"
            ],
            [
             1,
             "#276419"
            ]
           ],
           "sequential": [
            [
             0,
             "#0d0887"
            ],
            [
             0.1111111111111111,
             "#46039f"
            ],
            [
             0.2222222222222222,
             "#7201a8"
            ],
            [
             0.3333333333333333,
             "#9c179e"
            ],
            [
             0.4444444444444444,
             "#bd3786"
            ],
            [
             0.5555555555555556,
             "#d8576b"
            ],
            [
             0.6666666666666666,
             "#ed7953"
            ],
            [
             0.7777777777777778,
             "#fb9f3a"
            ],
            [
             0.8888888888888888,
             "#fdca26"
            ],
            [
             1,
             "#f0f921"
            ]
           ],
           "sequentialminus": [
            [
             0,
             "#0d0887"
            ],
            [
             0.1111111111111111,
             "#46039f"
            ],
            [
             0.2222222222222222,
             "#7201a8"
            ],
            [
             0.3333333333333333,
             "#9c179e"
            ],
            [
             0.4444444444444444,
             "#bd3786"
            ],
            [
             0.5555555555555556,
             "#d8576b"
            ],
            [
             0.6666666666666666,
             "#ed7953"
            ],
            [
             0.7777777777777778,
             "#fb9f3a"
            ],
            [
             0.8888888888888888,
             "#fdca26"
            ],
            [
             1,
             "#f0f921"
            ]
           ]
          },
          "colorway": [
           "#636efa",
           "#EF553B",
           "#00cc96",
           "#ab63fa",
           "#FFA15A",
           "#19d3f3",
           "#FF6692",
           "#B6E880",
           "#FF97FF",
           "#FECB52"
          ],
          "font": {
           "color": "#2a3f5f"
          },
          "geo": {
           "bgcolor": "white",
           "lakecolor": "white",
           "landcolor": "#E5ECF6",
           "showlakes": true,
           "showland": true,
           "subunitcolor": "white"
          },
          "hoverlabel": {
           "align": "left"
          },
          "hovermode": "closest",
          "mapbox": {
           "style": "light"
          },
          "paper_bgcolor": "white",
          "plot_bgcolor": "#E5ECF6",
          "polar": {
           "angularaxis": {
            "gridcolor": "white",
            "linecolor": "white",
            "ticks": ""
           },
           "bgcolor": "#E5ECF6",
           "radialaxis": {
            "gridcolor": "white",
            "linecolor": "white",
            "ticks": ""
           }
          },
          "scene": {
           "xaxis": {
            "backgroundcolor": "#E5ECF6",
            "gridcolor": "white",
            "gridwidth": 2,
            "linecolor": "white",
            "showbackground": true,
            "ticks": "",
            "zerolinecolor": "white"
           },
           "yaxis": {
            "backgroundcolor": "#E5ECF6",
            "gridcolor": "white",
            "gridwidth": 2,
            "linecolor": "white",
            "showbackground": true,
            "ticks": "",
            "zerolinecolor": "white"
           },
           "zaxis": {
            "backgroundcolor": "#E5ECF6",
            "gridcolor": "white",
            "gridwidth": 2,
            "linecolor": "white",
            "showbackground": true,
            "ticks": "",
            "zerolinecolor": "white"
           }
          },
          "shapedefaults": {
           "line": {
            "color": "#2a3f5f"
           }
          },
          "ternary": {
           "aaxis": {
            "gridcolor": "white",
            "linecolor": "white",
            "ticks": ""
           },
           "baxis": {
            "gridcolor": "white",
            "linecolor": "white",
            "ticks": ""
           },
           "bgcolor": "#E5ECF6",
           "caxis": {
            "gridcolor": "white",
            "linecolor": "white",
            "ticks": ""
           }
          },
          "title": {
           "x": 0.05
          },
          "xaxis": {
           "automargin": true,
           "gridcolor": "white",
           "linecolor": "white",
           "ticks": "",
           "title": {
            "standoff": 15
           },
           "zerolinecolor": "white",
           "zerolinewidth": 2
          },
          "yaxis": {
           "automargin": true,
           "gridcolor": "white",
           "linecolor": "white",
           "ticks": "",
           "title": {
            "standoff": 15
           },
           "zerolinecolor": "white",
           "zerolinewidth": 2
          }
         }
        },
        "xaxis": {
         "showticklabels": false,
         "ticks": ""
        },
        "yaxis": {
         "showticklabels": false,
         "ticks": ""
        }
       }
      }
     },
     "metadata": {},
     "output_type": "display_data"
    }
   ],
   "source": [
    "fig = network.plot(network_type='config')"
   ]
  }
 ],
 "metadata": {
  "interpreter": {
   "hash": "a3d30abdbb68051ec754755d2929097b9a5927425d2adda3802c72d0eb25048c"
  },
  "kernelspec": {
   "display_name": "Python 3.9.10 64-bit ('.venv': venv)",
   "language": "python",
   "name": "python3"
  },
  "language_info": {
   "codemirror_mode": {
    "name": "ipython",
    "version": 3
   },
   "file_extension": ".py",
   "mimetype": "text/x-python",
   "name": "python",
   "nbconvert_exporter": "python",
   "pygments_lexer": "ipython3",
   "version": "3.9.10"
  },
  "orig_nbformat": 4
 },
 "nbformat": 4,
 "nbformat_minor": 2
}
